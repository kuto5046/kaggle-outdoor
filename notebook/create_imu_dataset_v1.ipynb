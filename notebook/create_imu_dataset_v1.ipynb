{
 "cells": [
  {
   "cell_type": "markdown",
   "metadata": {},
   "source": [
    "## create dataset \n",
    "\n",
    "v3:delta学習用のデータセットを作成する "
   ]
  },
  {
   "cell_type": "code",
   "execution_count": 1,
   "metadata": {},
   "outputs": [],
   "source": [
    "import pandas as pd\n",
    "import numpy as np\n",
    "import os\n",
    "import glob\n",
    "\n",
    "from tqdm.notebook import tqdm\n",
    "import warnings\n",
    "warnings.filterwarnings('ignore')"
   ]
  },
  {
   "cell_type": "code",
   "execution_count": 2,
   "metadata": {},
   "outputs": [],
   "source": [
    "root_dir = '../input/'"
   ]
  },
  {
   "cell_type": "code",
   "execution_count": 3,
   "metadata": {},
   "outputs": [],
   "source": [
    "# def mean_data_by_epoch(df,delta=250):\n",
    "#     if len(df)==0:\n",
    "#         pass\n",
    "#     else:\n",
    "#         df = df.astype(float)\n",
    "#         bins = round((df['utcTimeMillis'].max() - df['utcTimeMillis'].min())/delta)\n",
    "#         df['bin'] = pd.cut(df['utcTimeMillis'], bins)\n",
    "#         df = df.groupby('bin').mean().reset_index(drop=True)\n",
    "#     return df\n",
    "\n",
    "# def add_name_columns(df, collection_name, phone_name):\n",
    "#     df['collectionName'] = collection_name\n",
    "#     df['phoneName'] = phone_name\n",
    "#     return df\n",
    "\n",
    "# def postprocess(df, collection_name, phone_name):\n",
    "#     df = mean_data_by_epoch(df)\n",
    "#     df = add_name_columns(df, collection_name, phone_name)\n",
    "#     return df"
   ]
  },
  {
   "cell_type": "code",
   "execution_count": 4,
   "metadata": {},
   "outputs": [],
   "source": [
    "import pickle\n",
    "def to_pickle(filename, obj):\n",
    "    with open(filename, mode='wb') as f:\n",
    "        pickle.dump(obj, f)\n",
    "        \n",
    "def from_pickle(filename):\n",
    "    with open(filename, mode='rb') as f:\n",
    "        obj = pickle.load(f)\n",
    "    return obj"
   ]
  },
  {
   "cell_type": "markdown",
   "metadata": {},
   "source": [
    "## 1段階目(ホストのコードでtxt2dfする)"
   ]
  },
  {
   "cell_type": "code",
   "execution_count": 5,
   "metadata": {},
   "outputs": [],
   "source": [
    "output_train_dir = root_dir + 'imu_dataset_v0/train/'\n",
    "os.makedirs(output_train_dir, exist_ok=True)"
   ]
  },
  {
   "cell_type": "code",
   "execution_count": 6,
   "metadata": {},
   "outputs": [],
   "source": [
    "output_test_dir = root_dir + 'imu_dataset_v0/test/'\n",
    "os.makedirs(output_test_dir, exist_ok=True)"
   ]
  },
  {
   "cell_type": "code",
   "execution_count": 12,
   "metadata": {},
   "outputs": [],
   "source": [
    "def gnss_log_to_dataframes(path):\n",
    "    # print('\\nLoading ' + path, flush=True)\n",
    "    gnss_section_names = {'Raw','UncalAccel', 'UncalGyro', 'UncalMag', 'Fix', 'Status', 'OrientationDeg'}\n",
    "    with open(path) as f_open:\n",
    "        datalines = f_open.readlines()\n",
    "\n",
    "    datas = {k: [] for k in gnss_section_names}\n",
    "    gnss_map = {k: [] for k in gnss_section_names}\n",
    "    for i, dataline in enumerate(datalines):\n",
    "        is_header = dataline.startswith('#')\n",
    "        dataline = dataline.strip('#').strip().split(',')\n",
    "        # skip over notes, version numbers, etc\n",
    "        if is_header and dataline[0] in gnss_section_names:\n",
    "            gnss_map[dataline[0]] = dataline[1:]\n",
    "        elif not is_header:\n",
    "            datas[dataline[0]].append(dataline[1:])\n",
    "    \n",
    "    results = dict()\n",
    "    for k, v in datas.items():\n",
    "        results[k] = pd.DataFrame(v, columns=gnss_map[k])\n",
    "    # pandas doesn't properly infer types from these lists by default\n",
    "    for k, df in results.items():\n",
    "        for col in df.columns:\n",
    "            if col == 'CodeType':\n",
    "                continue\n",
    "            results[k][col] = pd.to_numeric(results[k][col])\n",
    "    print(results)\n",
    "    raise\n",
    "    \n",
    "    return results"
   ]
  },
  {
   "cell_type": "code",
   "execution_count": 13,
   "metadata": {},
   "outputs": [],
   "source": [
    "def create_imu_base_dataset(collection_path):\n",
    "    phase = collection_path.split('/')[2]\n",
    "    for phone_path in glob.glob(os.path.join(collection_path, '*')):\n",
    "        collection_name = phone_path.split('/')[3]\n",
    "        phone_name = phone_path.split('/')[4]\n",
    "        # get GnssLog file \n",
    "        for file_path in glob.glob(os.path.join(phone_path, f\"{phone_name}_GnssLog.txt\")):\n",
    "            if phase == 'train':\n",
    "                filename = output_train_dir + f'{collection_name}_{phone_name}.pkl'\n",
    "            else:\n",
    "                filename = output_test_dir + f'{collection_name}_{phone_name}.pkl'\n",
    "            result_dict = gnss_log_to_dataframes(file_path)\n",
    "            to_pickle(filename, result_dict)\n",
    "    return 0"
   ]
  },
  {
   "cell_type": "code",
   "execution_count": 14,
   "metadata": {},
   "outputs": [
    {
     "data": {
      "application/vnd.jupyter.widget-view+json": {
       "model_id": "0a3460f5751e4149ba93d33ce22916de",
       "version_major": 2,
       "version_minor": 0
      },
      "text/plain": [
       "  0%|          | 0/29 [00:00<?, ?it/s]"
      ]
     },
     "metadata": {},
     "output_type": "display_data"
    },
    {
     "name": "stdout",
     "output_type": "stream",
     "text": [
      "{'UncalAccel': Empty DataFrame\n",
      "Columns: [utcTimeMillis, elapsedRealtimeNanos, UncalAccelXMps2, UncalAccelYMps2, UncalAccelZMps2, BiasXMps2, BiasYMps2, BiasZMps2]\n",
      "Index: [], 'Status': Empty DataFrame\n",
      "Columns: [UnixTimeMillis, SignalCount, SignalIndex, ConstellationType, Svid, CarrierFrequencyHz, Cn0DbHz, AzimuthDegrees, ElevationDegrees, UsedInFix, HasAlmanacData, HasEphemerisData]\n",
      "Index: [], 'Raw':        utcTimeMillis      TimeNanos  LeapSecond  TimeUncertaintyNanos  \\\n",
      "0      1596754334000  3277067000000         NaN                   NaN   \n",
      "1      1596754334000  3277067000000         NaN                   NaN   \n",
      "2      1596754334000  3277067000000         NaN                   NaN   \n",
      "3      1596754334000  3277067000000         NaN                   NaN   \n",
      "4      1596754334000  3277067000000         NaN                   NaN   \n",
      "...              ...            ...         ...                   ...   \n",
      "67082  1596756077000  5020067000000         NaN                   NaN   \n",
      "67083  1596756077000  5020067000000         NaN                   NaN   \n",
      "67084  1596756077000  5020067000000         NaN                   NaN   \n",
      "67085  1596756077000  5020067000000         NaN                   NaN   \n",
      "67086  1596756077000  5020067000000         NaN                   NaN   \n",
      "\n",
      "             FullBiasNanos  BiasNanos  BiasUncertaintyNanos  \\\n",
      "0     -1280786274933291197        0.0              4.905762   \n",
      "1     -1280786274933291197        0.0              4.905762   \n",
      "2     -1280786274933291197        0.0              4.905762   \n",
      "3     -1280786274933291197        0.0              4.905762   \n",
      "4     -1280786274933291197        0.0              4.905762   \n",
      "...                    ...        ...                   ...   \n",
      "67082 -1280786274933237691        0.0              6.885781   \n",
      "67083 -1280786274933237691        0.0              6.885781   \n",
      "67084 -1280786274933237691        0.0              6.885781   \n",
      "67085 -1280786274933237691        0.0              6.885781   \n",
      "67086 -1280786274933237691        0.0              6.885781   \n",
      "\n",
      "       DriftNanosPerSecond  DriftUncertaintyNanosPerSecond  \\\n",
      "0                      NaN                             NaN   \n",
      "1                      NaN                             NaN   \n",
      "2                      NaN                             NaN   \n",
      "3                      NaN                             NaN   \n",
      "4                      NaN                             NaN   \n",
      "...                    ...                             ...   \n",
      "67082                  NaN                             NaN   \n",
      "67083                  NaN                             NaN   \n",
      "67084                  NaN                             NaN   \n",
      "67085                  NaN                             NaN   \n",
      "67086                  NaN                             NaN   \n",
      "\n",
      "       HardwareClockDiscontinuityCount  ...  SnrInDb  ConstellationType  \\\n",
      "0                                    0  ...      NaN                  1   \n",
      "1                                    0  ...      NaN                  1   \n",
      "2                                    0  ...      NaN                  1   \n",
      "3                                    0  ...      NaN                  1   \n",
      "4                                    0  ...      NaN                  1   \n",
      "...                                ...  ...      ...                ...   \n",
      "67082                                0  ...      NaN                  6   \n",
      "67083                                0  ...      NaN                  6   \n",
      "67084                                0  ...      NaN                  6   \n",
      "67085                                0  ...      NaN                  6   \n",
      "67086                                0  ...      NaN                  6   \n",
      "\n",
      "       AgcDb  BasebandCn0DbHz  FullInterSignalBiasNanos  \\\n",
      "0        NaN              NaN                       NaN   \n",
      "1        NaN              NaN                       NaN   \n",
      "2        NaN              NaN                       NaN   \n",
      "3        NaN              NaN                       NaN   \n",
      "4        NaN              NaN                       NaN   \n",
      "...      ...              ...                       ...   \n",
      "67082    NaN              NaN                       NaN   \n",
      "67083    NaN              NaN                       NaN   \n",
      "67084    NaN              NaN                       NaN   \n",
      "67085    NaN              NaN                       NaN   \n",
      "67086    NaN              NaN                       NaN   \n",
      "\n",
      "       FullInterSignalBiasUncertaintyNanos  SatelliteInterSignalBiasNanos  \\\n",
      "0                                      NaN                            NaN   \n",
      "1                                      NaN                            NaN   \n",
      "2                                      NaN                            NaN   \n",
      "3                                      NaN                            NaN   \n",
      "4                                      NaN                            NaN   \n",
      "...                                    ...                            ...   \n",
      "67082                                  NaN                            NaN   \n",
      "67083                                  NaN                            NaN   \n",
      "67084                                  NaN                            NaN   \n",
      "67085                                  NaN                            NaN   \n",
      "67086                                  NaN                            NaN   \n",
      "\n",
      "       SatelliteInterSignalBiasUncertaintyNanos  CodeType  \\\n",
      "0                                           NaN             \n",
      "1                                           NaN             \n",
      "2                                           NaN             \n",
      "3                                           NaN             \n",
      "4                                           NaN             \n",
      "...                                         ...       ...   \n",
      "67082                                       NaN             \n",
      "67083                                       NaN             \n",
      "67084                                       NaN             \n",
      "67085                                       NaN             \n",
      "67086                                       NaN             \n",
      "\n",
      "       ChipsetElapsedRealtimeNanos  \n",
      "0                              NaN  \n",
      "1                              NaN  \n",
      "2                              NaN  \n",
      "3                              NaN  \n",
      "4                              NaN  \n",
      "...                            ...  \n",
      "67082                          NaN  \n",
      "67083                          NaN  \n",
      "67084                          NaN  \n",
      "67085                          NaN  \n",
      "67086                          NaN  \n",
      "\n",
      "[67087 rows x 36 columns], 'UncalGyro': Empty DataFrame\n",
      "Columns: [utcTimeMillis, elapsedRealtimeNanos, UncalGyroXRadPerSec, UncalGyroYRadPerSec, UncalGyroZRadPerSec, DriftXRadPerSec, DriftYRadPerSec, DriftZRadPerSec]\n",
      "Index: [], 'Fix': Empty DataFrame\n",
      "Columns: [Provider, LatitudeDegrees, LongitudeDegrees, AltitudeMeters, SpeedMps, AccuracyMeters, BearingDegrees, UnixTimeMillis, SpeedAccuracyMps, BearingAccuracyDegrees, elapsedRealtimeNanos]\n",
      "Index: [], 'UncalMag': Empty DataFrame\n",
      "Columns: [utcTimeMillis, elapsedRealtimeNanos, UncalMagXMicroT, UncalMagYMicroT, UncalMagZMicroT, BiasXMicroT, BiasYMicroT, BiasZMicroT]\n",
      "Index: [], 'OrientationDeg': Empty DataFrame\n",
      "Columns: []\n",
      "Index: []}\n"
     ]
    },
    {
     "ename": "RuntimeError",
     "evalue": "No active exception to reraise",
     "output_type": "error",
     "traceback": [
      "\u001b[0;31m---------------------------------------------------------------------------\u001b[0m",
      "\u001b[0;31mRemoteTraceback\u001b[0m                           Traceback (most recent call last)",
      "\u001b[0;31mRemoteTraceback\u001b[0m: \n\"\"\"\nTraceback (most recent call last):\n  File \"/usr/lib/python3.8/multiprocessing/pool.py\", line 125, in worker\n    result = (True, func(*args, **kwds))\n  File \"<ipython-input-13-4663c02e630f>\", line 12, in create_imu_base_dataset\n    result_dict = gnss_log_to_dataframes(file_path)\n  File \"<ipython-input-12-bbbcc5ca6592>\", line 28, in gnss_log_to_dataframes\n    raise\nRuntimeError: No active exception to reraise\n\"\"\"",
      "\nThe above exception was the direct cause of the following exception:\n",
      "\u001b[0;31mRuntimeError\u001b[0m                              Traceback (most recent call last)",
      "\u001b[0;32m<ipython-input-14-6de6445fd527>\u001b[0m in \u001b[0;36m<module>\u001b[0;34m\u001b[0m\n\u001b[1;32m      5\u001b[0m     \u001b[0mpath_list\u001b[0m \u001b[0;34m=\u001b[0m \u001b[0mglob\u001b[0m\u001b[0;34m.\u001b[0m\u001b[0mglob\u001b[0m\u001b[0;34m(\u001b[0m\u001b[0mos\u001b[0m\u001b[0;34m.\u001b[0m\u001b[0mpath\u001b[0m\u001b[0;34m.\u001b[0m\u001b[0mjoin\u001b[0m\u001b[0;34m(\u001b[0m\u001b[0mroot_dir\u001b[0m\u001b[0;34m,\u001b[0m \u001b[0;34m'train/*'\u001b[0m\u001b[0;34m)\u001b[0m\u001b[0;34m)\u001b[0m\u001b[0;34m\u001b[0m\u001b[0;34m\u001b[0m\u001b[0m\n\u001b[1;32m      6\u001b[0m     \u001b[0mzero\u001b[0m \u001b[0;34m=\u001b[0m \u001b[0mpool\u001b[0m\u001b[0;34m.\u001b[0m\u001b[0mimap_unordered\u001b[0m\u001b[0;34m(\u001b[0m\u001b[0mcreate_imu_base_dataset\u001b[0m\u001b[0;34m,\u001b[0m \u001b[0mpath_list\u001b[0m\u001b[0;34m)\u001b[0m\u001b[0;34m\u001b[0m\u001b[0;34m\u001b[0m\u001b[0m\n\u001b[0;32m----> 7\u001b[0;31m     \u001b[0mzero\u001b[0m \u001b[0;34m=\u001b[0m \u001b[0mlist\u001b[0m\u001b[0;34m(\u001b[0m\u001b[0mtqdm\u001b[0m\u001b[0;34m(\u001b[0m\u001b[0mzero\u001b[0m\u001b[0;34m,\u001b[0m \u001b[0mtotal\u001b[0m\u001b[0;34m=\u001b[0m\u001b[0mlen\u001b[0m\u001b[0;34m(\u001b[0m\u001b[0mpath_list\u001b[0m\u001b[0;34m)\u001b[0m\u001b[0;34m)\u001b[0m\u001b[0;34m)\u001b[0m\u001b[0;34m\u001b[0m\u001b[0;34m\u001b[0m\u001b[0m\n\u001b[0m",
      "\u001b[0;32m/usr/local/lib/python3.8/dist-packages/tqdm/notebook.py\u001b[0m in \u001b[0;36m__iter__\u001b[0;34m(self)\u001b[0m\n\u001b[1;32m    252\u001b[0m     \u001b[0;32mdef\u001b[0m \u001b[0m__iter__\u001b[0m\u001b[0;34m(\u001b[0m\u001b[0mself\u001b[0m\u001b[0;34m)\u001b[0m\u001b[0;34m:\u001b[0m\u001b[0;34m\u001b[0m\u001b[0;34m\u001b[0m\u001b[0m\n\u001b[1;32m    253\u001b[0m         \u001b[0;32mtry\u001b[0m\u001b[0;34m:\u001b[0m\u001b[0;34m\u001b[0m\u001b[0;34m\u001b[0m\u001b[0m\n\u001b[0;32m--> 254\u001b[0;31m             \u001b[0;32mfor\u001b[0m \u001b[0mobj\u001b[0m \u001b[0;32min\u001b[0m \u001b[0msuper\u001b[0m\u001b[0;34m(\u001b[0m\u001b[0mtqdm_notebook\u001b[0m\u001b[0;34m,\u001b[0m \u001b[0mself\u001b[0m\u001b[0;34m)\u001b[0m\u001b[0;34m.\u001b[0m\u001b[0m__iter__\u001b[0m\u001b[0;34m(\u001b[0m\u001b[0;34m)\u001b[0m\u001b[0;34m:\u001b[0m\u001b[0;34m\u001b[0m\u001b[0;34m\u001b[0m\u001b[0m\n\u001b[0m\u001b[1;32m    255\u001b[0m                 \u001b[0;31m# return super(tqdm...) will not catch exception\u001b[0m\u001b[0;34m\u001b[0m\u001b[0;34m\u001b[0m\u001b[0;34m\u001b[0m\u001b[0m\n\u001b[1;32m    256\u001b[0m                 \u001b[0;32myield\u001b[0m \u001b[0mobj\u001b[0m\u001b[0;34m\u001b[0m\u001b[0;34m\u001b[0m\u001b[0m\n",
      "\u001b[0;32m/usr/local/lib/python3.8/dist-packages/tqdm/std.py\u001b[0m in \u001b[0;36m__iter__\u001b[0;34m(self)\u001b[0m\n\u001b[1;32m   1176\u001b[0m \u001b[0;34m\u001b[0m\u001b[0m\n\u001b[1;32m   1177\u001b[0m         \u001b[0;32mtry\u001b[0m\u001b[0;34m:\u001b[0m\u001b[0;34m\u001b[0m\u001b[0;34m\u001b[0m\u001b[0m\n\u001b[0;32m-> 1178\u001b[0;31m             \u001b[0;32mfor\u001b[0m \u001b[0mobj\u001b[0m \u001b[0;32min\u001b[0m \u001b[0miterable\u001b[0m\u001b[0;34m:\u001b[0m\u001b[0;34m\u001b[0m\u001b[0;34m\u001b[0m\u001b[0m\n\u001b[0m\u001b[1;32m   1179\u001b[0m                 \u001b[0;32myield\u001b[0m \u001b[0mobj\u001b[0m\u001b[0;34m\u001b[0m\u001b[0;34m\u001b[0m\u001b[0m\n\u001b[1;32m   1180\u001b[0m                 \u001b[0;31m# Update and possibly print the progressbar.\u001b[0m\u001b[0;34m\u001b[0m\u001b[0;34m\u001b[0m\u001b[0;34m\u001b[0m\u001b[0m\n",
      "\u001b[0;32m/usr/lib/python3.8/multiprocessing/pool.py\u001b[0m in \u001b[0;36mnext\u001b[0;34m(self, timeout)\u001b[0m\n\u001b[1;32m    866\u001b[0m         \u001b[0;32mif\u001b[0m \u001b[0msuccess\u001b[0m\u001b[0;34m:\u001b[0m\u001b[0;34m\u001b[0m\u001b[0;34m\u001b[0m\u001b[0m\n\u001b[1;32m    867\u001b[0m             \u001b[0;32mreturn\u001b[0m \u001b[0mvalue\u001b[0m\u001b[0;34m\u001b[0m\u001b[0;34m\u001b[0m\u001b[0m\n\u001b[0;32m--> 868\u001b[0;31m         \u001b[0;32mraise\u001b[0m \u001b[0mvalue\u001b[0m\u001b[0;34m\u001b[0m\u001b[0;34m\u001b[0m\u001b[0m\n\u001b[0m\u001b[1;32m    869\u001b[0m \u001b[0;34m\u001b[0m\u001b[0m\n\u001b[1;32m    870\u001b[0m     \u001b[0m__next__\u001b[0m \u001b[0;34m=\u001b[0m \u001b[0mnext\u001b[0m                    \u001b[0;31m# XXX\u001b[0m\u001b[0;34m\u001b[0m\u001b[0;34m\u001b[0m\u001b[0m\n",
      "\u001b[0;31mRuntimeError\u001b[0m: No active exception to reraise"
     ]
    }
   ],
   "source": [
    "# train\n",
    "import multiprocessing\n",
    "processes = multiprocessing.cpu_count()\n",
    "with multiprocessing.Pool(processes=processes) as pool:\n",
    "    path_list = glob.glob(os.path.join(root_dir, 'train/*'))\n",
    "    zero = pool.imap_unordered(create_imu_base_dataset, path_list)\n",
    "    zero = list(tqdm(zero, total=len(path_list)))"
   ]
  },
  {
   "cell_type": "code",
   "execution_count": 10,
   "metadata": {},
   "outputs": [
    {
     "data": {
      "application/vnd.jupyter.widget-view+json": {
       "model_id": "a5ab4e8a6e6442639e571c87d06b31b0",
       "version_major": 2,
       "version_minor": 0
      },
      "text/plain": [
       "  0%|          | 0/19 [00:00<?, ?it/s]"
      ]
     },
     "metadata": {},
     "output_type": "display_data"
    }
   ],
   "source": [
    "# test\n",
    "import multiprocessing\n",
    "processes = multiprocessing.cpu_count()\n",
    "with multiprocessing.Pool(processes=processes) as pool:\n",
    "    path_list = glob.glob(os.path.join(root_dir, 'test/*'))\n",
    "    zero = pool.imap_unordered(create_imu_base_dataset, path_list)\n",
    "    zero = list(tqdm(zero, total=len(path_list)))"
   ]
  },
  {
   "cell_type": "markdown",
   "metadata": {},
   "source": [
    "## 2段階目(delta用のデータセット作成)"
   ]
  },
  {
   "cell_type": "code",
   "execution_count": 11,
   "metadata": {},
   "outputs": [],
   "source": [
    "def get_ground_truth(args):\n",
    "    (collectionName, phoneName), df = args\n",
    "    \n",
    "    path = root_dir + f\"train/{collectionName}/{phoneName}/ground_truth.csv\"\n",
    "    target_df = pd.read_csv(path)\n",
    "    output_df = pd.DataFrame()\n",
    "    # merge derived and target by 'millisSinceGpsEpoch'\n",
    "    for epoch, epoch_df in df.groupby('millisSinceGpsEpoch'):\n",
    "        idx = (target_df['millisSinceGpsEpoch'] - epoch).abs().argmin()\n",
    "        epoch_diff = epoch - target_df.loc[idx, 'millisSinceGpsEpoch']\n",
    "        epoch_df['epoch_diff'] = epoch_diff\n",
    "        epoch_df['target_latDeg'] = target_df.loc[idx, 'latDeg']\n",
    "        epoch_df['target_lngDeg'] = target_df.loc[idx, 'lngDeg']\n",
    "        output_df = pd.concat([output_df, epoch_df]).reset_index(drop=True)    \n",
    "    return output_df"
   ]
  },
  {
   "cell_type": "code",
   "execution_count": 12,
   "metadata": {},
   "outputs": [],
   "source": [
    "train_df = pd.read_csv(root_dir + 'baseline_locations_train.csv')\n",
    "test_df = pd.read_csv(root_dir + 'baseline_locations_test.csv')"
   ]
  },
  {
   "cell_type": "code",
   "execution_count": 13,
   "metadata": {},
   "outputs": [],
   "source": [
    "# import multiprocessing\n",
    "\n",
    "# processes = multiprocessing.cpu_count()\n",
    "# with multiprocessing.Pool(processes=processes) as pool:\n",
    "#     gr = train_df.groupby(['collectionName','phoneName'])\n",
    "#     dfs = pool.imap_unordered(get_ground_truth, gr)\n",
    "#     dfs = tqdm(dfs, total=len(gr))\n",
    "#     dfs = list(dfs)\n",
    "# train_df = pd.concat(dfs).sort_values(['collectionName', 'phoneName', 'millisSinceGpsEpoch']).reset_index(drop=True)\n",
    "# truth_df = train_df[['collectionName', 'phoneName', 'millisSinceGpsEpoch', 'target_latDeg', 'target_lngDeg']]\n",
    "# truth_df = truth_df.rename(columns={'target_latDeg':'latDeg','target_lngDeg':'lngDeg'})\n",
    "# truth_df"
   ]
  },
  {
   "cell_type": "code",
   "execution_count": 14,
   "metadata": {},
   "outputs": [],
   "source": [
    "def create_imu_dataset(sample_path):\n",
    "    sample_dict = from_pickle(sample_path)\n",
    "    \n",
    "    phase = sample_path.split('/')[3]\n",
    "    collection_name = sample_path.split('/')[4].split('_')[0]\n",
    "    phone_name = sample_path.split('/')[4].split('_')[1].split('.')[0]\n",
    "    \n",
    "    acc_df = sample_dict['UncalAccel']\n",
    "    mag_df = sample_dict['UncalMag']\n",
    "    gyro_df = sample_dict['UncalGyro']\n",
    "\n",
    "    if 'BiasXMps2' not in acc_df.columns:\n",
    "        acc_df[['BiasXMps2','BiasYMps2','BiasZMps2']] = np.nan\n",
    "    if 'BiasXMicroT' not in mag_df.columns:\n",
    "        mag_df[['BiasXMicroT','BiasYMicroT','BiasZMicroT']] = np.nan\n",
    "    if 'DriftXRadPerSec' not in gyro_df.columns:\n",
    "        gyro_df[['DriftXRadPerSec','DriftYRadPerSec','DriftZRadPerSec']] = np.nan\n",
    "    \n",
    "    acc_df['millisSinceGpsEpoch'] = acc_df['utcTimeMillis'] - 315964800000  # -27 TODO 衛星によってうるう秒を考慮\n",
    "    mag_df['millisSinceGpsEpoch'] = mag_df['utcTimeMillis'] - 315964800000  # -27 TODO 衛星によってうるう秒を考慮\n",
    "    gyro_df['millisSinceGpsEpoch'] = gyro_df['utcTimeMillis'] - 315964800000  # -27 TODO 衛星によってうるう秒を考慮\n",
    "\n",
    "    imu_dict = {}\n",
    "    \n",
    "    if phase == 'train':\n",
    "        tmp_df = train_df[(train_df['collectionName']==collection_name)&(train_df['phoneName']==phone_name)].reset_index(drop=True)\n",
    "    else:\n",
    "        tmp_df = test_df[(test_df['collectionName']==collection_name)&(test_df['phoneName']==phone_name)].reset_index(drop=True)\n",
    "    epoch_list = tmp_df[\"millisSinceGpsEpoch\"].to_list()\n",
    "    \n",
    "    acc_nan_count = 0\n",
    "    mag_nan_count = 0\n",
    "    gyro_nan_count = 0\n",
    "    \n",
    "    NUM_DATA = 100\n",
    "    # for i in tqdm(range(len(epoch_list)-1)):\n",
    "    for i in range(len(epoch_list)-1):\n",
    "        epoch_min = epoch_list[i]\n",
    "        epoch_max = epoch_list[i + 1]\n",
    "        \n",
    "        if i==0:\n",
    "            imu_dict[str(epoch_min)] = np.full((18, NUM_DATA), np.nan)\n",
    "\n",
    "        target_acc_df = acc_df[(epoch_min <= acc_df['millisSinceGpsEpoch'])&(acc_df['millisSinceGpsEpoch'] < epoch_max)]\n",
    "        target_mag_df = mag_df[(epoch_min <= mag_df['millisSinceGpsEpoch'])&(mag_df['millisSinceGpsEpoch'] < epoch_max)]\n",
    "        target_gyro_df = gyro_df[(epoch_min <= gyro_df['millisSinceGpsEpoch'])&(gyro_df['millisSinceGpsEpoch'] < epoch_max)]\n",
    "\n",
    "        if len(target_acc_df)==0:\n",
    "            target_acc_np = np.full((6, NUM_DATA), np.nan)\n",
    "            acc_nan_count += 1\n",
    "        else:\n",
    "            target_acc_df['bin'] = pd.cut(target_acc_df['millisSinceGpsEpoch'], NUM_DATA)\n",
    "            target_acc_df = target_acc_df.groupby('bin').mean().reset_index(drop=True)\n",
    "            target_acc_np = target_acc_df[['UncalAccelXMps2','UncalAccelYMps2','UncalAccelZMps2','BiasXMps2','BiasYMps2','BiasZMps2']].to_numpy().T\n",
    "\n",
    "        if len(target_mag_df)==0:\n",
    "            target_mag_np = np.full((6, NUM_DATA), np.nan)\n",
    "            mag_nan_count += 1\n",
    "        else:\n",
    "            target_mag_df['bin'] = pd.cut(target_mag_df['millisSinceGpsEpoch'], NUM_DATA)\n",
    "            target_mag_df = target_mag_df.groupby('bin').mean().reset_index(drop=True)\n",
    "            target_mag_np = target_mag_df[['UncalMagXMicroT','UncalMagYMicroT','UncalMagZMicroT','BiasXMicroT','BiasYMicroT','BiasZMicroT']].to_numpy().T\n",
    "\n",
    "        if len(target_gyro_df)==0:\n",
    "            target_gyro_np = np.full((6, NUM_DATA), np.nan)\n",
    "            gyro_nan_count += 1\n",
    "        else:\n",
    "            target_gyro_df['bin'] = pd.cut(target_gyro_df['millisSinceGpsEpoch'], NUM_DATA)\n",
    "            target_gyro_df = target_gyro_df.groupby('bin').mean().reset_index(drop=True)\n",
    "            target_gyro_np = target_gyro_df[['UncalGyroXRadPerSec','UncalGyroYRadPerSec','UncalGyroZRadPerSec','DriftXRadPerSec','DriftYRadPerSec','DriftZRadPerSec']].to_numpy().T\n",
    "        target_np = np.concatenate([target_acc_np, target_mag_np, target_gyro_np], axis=0)\n",
    "        assert target_np.shape == (18,100)\n",
    "        \n",
    "        target_np[np.isnan(target_np)] = 99999\n",
    "        imu_dict[str(epoch_max)] = target_np\n",
    "    \n",
    "    print(f\"\\n{collection_name}-{phone_name}: (acc){acc_nan_count/len(epoch_list)}\")\n",
    "    print(f\"{collection_name}-{phone_name}: (mag){mag_nan_count/len(epoch_list)}\")\n",
    "    print(f\"{collection_name}-{phone_name}: (gyro){gyro_nan_count/len(epoch_list)}\")\n",
    "    \n",
    "    if phase == 'train':\n",
    "        filename = output_train_dir2 + f'{collection_name}_{phone_name}.pkl'\n",
    "    else:\n",
    "        filename = output_test_dir2 + f'{collection_name}_{phone_name}.pkl'\n",
    "    to_pickle(filename, imu_dict)\n",
    "    return 0"
   ]
  },
  {
   "cell_type": "code",
   "execution_count": 15,
   "metadata": {},
   "outputs": [],
   "source": [
    "output_train_dir2 = root_dir + 'imu_dataset_v1/train/'\n",
    "os.makedirs(output_train_dir2, exist_ok=True)\n",
    "\n",
    "output_test_dir2 = root_dir + 'imu_dataset_v1/test/'\n",
    "os.makedirs(output_test_dir2, exist_ok=True)"
   ]
  },
  {
   "cell_type": "code",
   "execution_count": 16,
   "metadata": {},
   "outputs": [
    {
     "data": {
      "application/vnd.jupyter.widget-view+json": {
       "model_id": "6260080fe8214a8da6018f1849e81c69",
       "version_major": 2,
       "version_minor": 0
      },
      "text/plain": [
       "  0%|          | 0/73 [00:00<?, ?it/s]"
      ]
     },
     "metadata": {},
     "output_type": "display_data"
    },
    {
     "name": "stdout",
     "output_type": "stream",
     "text": [
      "\n",
      "2020-08-06-US-MTV-2-Pixel4: (acc)0.9994416527079844\n",
      "2020-08-06-US-MTV-2-Pixel4: (mag)0.9994416527079844\n",
      "2020-08-06-US-MTV-2-Pixel4: (gyro)0.9994416527079844\n",
      "\n",
      "2020-08-06-US-MTV-2-Mi8: (acc)0.9994266055045872\n",
      "2020-08-06-US-MTV-2-Mi8: (mag)0.9994266055045872\n",
      "2020-08-06-US-MTV-2-Mi8: (gyro)0.9994266055045872\n",
      "\n",
      "2020-08-03-US-MTV-1-Mi8: (acc)0.999493670886076\n",
      "2020-08-03-US-MTV-1-Mi8: (mag)0.999493670886076\n",
      "2020-08-03-US-MTV-1-Mi8: (gyro)0.999493670886076\n",
      "\n",
      "2020-08-03-US-MTV-1-Pixel4: (acc)0.9995022399203584\n",
      "2020-08-03-US-MTV-1-Pixel4: (mag)0.9995022399203584\n",
      "2020-08-03-US-MTV-1-Pixel4: (gyro)0.9995022399203584\n",
      "\n",
      "2020-09-04-US-SF-2-Mi8: (acc)0.918\n",
      "2020-09-04-US-SF-2-Mi8: (mag)0.918\n",
      "2020-09-04-US-SF-2-Mi8: (gyro)0.918\n",
      "\n",
      "2020-09-04-US-SF-1-Mi8: (acc)0.8862586605080831\n",
      "2020-09-04-US-SF-1-Mi8: (mag)0.8862586605080831\n",
      "2020-09-04-US-SF-1-Mi8: (gyro)0.8862586605080831\n",
      "\n",
      "2021-04-26-US-SVL-1-Pixel5: (acc)0.01644100580270793\n",
      "2021-04-26-US-SVL-1-Pixel5: (mag)0.01644100580270793\n",
      "2021-04-26-US-SVL-1-Pixel5: (gyro)0.01644100580270793\n",
      "\n",
      "2021-01-05-US-SVL-2-Pixel4XL: (acc)0.014249790444258172\n",
      "2021-01-05-US-SVL-2-Pixel4XL: (mag)0.014249790444258172\n",
      "2021-01-05-US-SVL-2-Pixel4XL: (gyro)0.014249790444258172\n",
      "\n",
      "2021-01-05-US-SVL-2-Pixel4: (acc)0.015012510425354461\n",
      "2021-01-05-US-SVL-2-Pixel4: (mag)0.015012510425354461\n",
      "2021-01-05-US-SVL-2-Pixel4: (gyro)0.015012510425354461\n",
      "\n",
      "2020-07-08-US-MTV-1-Pixel4XLModded: (acc)0.012841091492776886\n",
      "2020-07-08-US-MTV-1-Pixel4XLModded: (mag)0.012841091492776886\n",
      "2020-07-08-US-MTV-1-Pixel4XLModded: (gyro)0.012841091492776886\n",
      "\n",
      "2021-01-05-US-SVL-2-Pixel4Modded: (acc)0.013535031847133758\n",
      "2021-01-05-US-SVL-2-Pixel4Modded: (mag)0.013535031847133758\n",
      "2021-01-05-US-SVL-2-Pixel4Modded: (gyro)0.013535031847133758\n",
      "\n",
      "2021-03-10-US-SVL-1-SamsungS20Ultra: (acc)0.011067708333333334\n",
      "2021-03-10-US-SVL-1-SamsungS20Ultra: (mag)0.011067708333333334\n",
      "2021-03-10-US-SVL-1-SamsungS20Ultra: (gyro)0.011067708333333334\n",
      "\n",
      "2021-01-05-US-SVL-1-Pixel5: (acc)0.011913104414856343\n",
      "2021-01-05-US-SVL-1-Pixel5: (mag)0.011913104414856343\n",
      "2021-01-05-US-SVL-1-Pixel5: (gyro)0.011913104414856343\n",
      "\n",
      "2021-04-29-US-MTV-1-Pixel5: (acc)0.008145363408521303\n",
      "2021-04-29-US-MTV-1-Pixel5: (mag)0.008145363408521303\n",
      "2021-04-29-US-MTV-1-Pixel5: (gyro)0.008145363408521303\n",
      "\n",
      "2021-04-15-US-MTV-1-Pixel4: (acc)0.01059446733372572\n",
      "2021-04-15-US-MTV-1-Pixel4: (mag)0.01059446733372572\n",
      "2021-04-15-US-MTV-1-Pixel4: (gyro)0.01059446733372572\n",
      "\n",
      "2021-01-04-US-RWC-2-Pixel4XL: (acc)0.009066666666666667\n",
      "2021-01-04-US-RWC-2-Pixel4XL: (mag)0.009066666666666667\n",
      "2021-01-04-US-RWC-2-Pixel4XL: (gyro)0.009066666666666667\n",
      "\n",
      "2021-04-15-US-MTV-1-SamsungS20Ultra: (acc)0.005145797598627788\n",
      "2021-04-15-US-MTV-1-SamsungS20Ultra: (mag)0.005145797598627788\n",
      "2021-04-15-US-MTV-1-SamsungS20Ultra: (gyro)0.005145797598627788\n",
      "\n",
      "2020-07-08-US-MTV-1-Pixel4XL: (acc)0.011229946524064172\n",
      "2020-07-08-US-MTV-1-Pixel4XL: (mag)0.011229946524064172\n",
      "2020-07-08-US-MTV-1-Pixel4XL: (gyro)0.011229946524064172\n",
      "\n",
      "2020-06-04-US-MTV-1-Pixel4: (acc)0.011091652072387624\n",
      "2020-06-04-US-MTV-1-Pixel4: (mag)0.011091652072387624\n",
      "2020-06-04-US-MTV-1-Pixel4: (gyro)0.011091652072387624\n",
      "\n",
      "2020-06-11-US-MTV-1-Pixel4XL: (acc)0.04509582863585118\n",
      "2021-01-04-US-RWC-2-Pixel4: (acc)0.009018567639257295\n",
      "\n",
      "2020-06-11-US-MTV-1-Pixel4XL: (mag)0.045095828635851182021-01-04-US-RWC-2-Pixel4: (mag)0.009018567639257295\n",
      "2021-01-04-US-RWC-2-Pixel4: (gyro)0.009018567639257295\n",
      "\n",
      "2020-06-11-US-MTV-1-Pixel4XL: (gyro)0.04509582863585118\n",
      "\n",
      "2020-05-14-US-MTV-1-Pixel4XLModded: (acc)0.010882016036655211\n",
      "2020-05-14-US-MTV-1-Pixel4XLModded: (mag)0.010882016036655211\n",
      "2020-05-14-US-MTV-1-Pixel4XLModded: (gyro)0.010882016036655211\n",
      "\n",
      "2020-05-29-US-MTV-2-Pixel4XL: (acc)0.00897308075772682\n",
      "2020-05-29-US-MTV-2-Pixel4XL: (mag)0.00897308075772682\n",
      "2020-05-29-US-MTV-2-Pixel4XL: (gyro)0.00897308075772682\n",
      "\n",
      "2020-06-05-US-MTV-2-Pixel4: (acc)0.010520487264673311\n",
      "2020-06-05-US-MTV-2-Pixel4: (mag)0.010520487264673311\n",
      "2020-06-05-US-MTV-2-Pixel4: (gyro)0.010520487264673311\n",
      "\n",
      "2021-04-28-US-MTV-1-Pixel5: (acc)0.008564231738035265\n",
      "2021-04-28-US-MTV-1-Pixel5: (mag)0.008564231738035265\n",
      "2021-04-28-US-MTV-1-Pixel5: (gyro)0.008564231738035265\n",
      "\n",
      "2021-04-28-US-MTV-1-Pixel4: (acc)0.008504252126063032\n",
      "2021-04-28-US-MTV-1-Pixel4: (mag)0.008504252126063032\n",
      "2021-04-28-US-MTV-1-Pixel4: (gyro)0.008504252126063032\n",
      "\n",
      "2020-06-05-US-MTV-2-Pixel4XL: (acc)0.011396011396011397\n",
      "2020-06-05-US-MTV-2-Pixel4XL: (mag)0.011396011396011397\n",
      "2020-06-05-US-MTV-2-Pixel4XL: (gyro)0.011396011396011397\n",
      "\n",
      "2020-07-17-US-MTV-1-Mi8: (acc)0.9083532219570406\n",
      "2020-07-17-US-MTV-1-Mi8: (mag)0.9083532219570406\n",
      "2020-07-17-US-MTV-1-Mi8: (gyro)0.9083532219570406\n",
      "\n",
      "2020-09-04-US-SF-2-Pixel4: (acc)0.04810557684120902\n",
      "2020-09-04-US-SF-2-Pixel4: (mag)0.04810557684120902\n",
      "2020-09-04-US-SF-2-Pixel4: (gyro)0.04810557684120902\n",
      "\n",
      "2020-05-29-US-MTV-1-Pixel4XLModded: (acc)0.010903426791277258\n",
      "2020-05-21-US-MTV-2-Pixel4XL: (acc)0.020624303232998884\n",
      "\n",
      "2020-05-29-US-MTV-1-Pixel4XLModded: (mag)0.0109034267912772582020-05-21-US-MTV-2-Pixel4XL: (mag)0.020624303232998884\n",
      "2020-05-21-US-MTV-2-Pixel4XL: (gyro)0.020624303232998884\n",
      "\n",
      "2020-05-29-US-MTV-1-Pixel4XLModded: (gyro)0.010903426791277258\n",
      "\n",
      "2020-05-14-US-MTV-2-Pixel4XLModded: (acc)0.02772963604852686\n",
      "2020-05-14-US-MTV-2-Pixel4XLModded: (mag)0.02772963604852686\n",
      "2020-05-14-US-MTV-2-Pixel4XLModded: (gyro)0.02772963604852686\n",
      "\n",
      "2020-08-06-US-MTV-2-Pixel4XL: (acc)0.9994279176201373\n",
      "2020-08-06-US-MTV-2-Pixel4XL: (mag)0.9994279176201373\n",
      "2020-08-06-US-MTV-2-Pixel4XL: (gyro)0.9994279176201373\n",
      "\n",
      "2020-09-04-US-SF-1-Pixel4: (acc)0.009730967372638809\n",
      "2020-09-04-US-SF-1-Pixel4: (mag)0.009730967372638809\n",
      "2020-09-04-US-SF-1-Pixel4: (gyro)0.009730967372638809\n",
      "\n",
      "2021-01-05-US-SVL-1-Pixel4: (acc)0.0118302018093249822021-01-05-US-SVL-1-Pixel4: (mag)0.011830201809324982\n",
      "\n",
      "2021-01-05-US-SVL-1-Pixel4: (gyro)0.011830201809324982\n",
      "\n",
      "2020-06-11-US-MTV-1-Pixel4: (acc)0.05829145728643216\n",
      "2020-06-11-US-MTV-1-Pixel4: (mag)0.05829145728643216\n",
      "2020-06-11-US-MTV-1-Pixel4: (gyro)0.05829145728643216\n",
      "\n",
      "2021-01-04-US-RWC-2-Pixel5: (acc)0.0\n",
      "2021-01-04-US-RWC-2-Pixel5: (mag)0.0\n",
      "2021-01-04-US-RWC-2-Pixel5: (gyro)0.0\n",
      "\n",
      "2020-06-04-US-MTV-1-Pixel4XLModded: (acc)0.05084745762711865\n",
      "2020-06-04-US-MTV-1-Pixel4XLModded: (mag)0.05084745762711865\n",
      "2020-06-04-US-MTV-1-Pixel4XLModded: (gyro)0.05084745762711865\n",
      "\n",
      "2021-01-05-US-SVL-1-Mi8: (acc)0.8728624535315985\n",
      "2021-01-05-US-SVL-1-Mi8: (mag)0.8728624535315985\n",
      "2021-01-05-US-SVL-1-Mi8: (gyro)0.8728624535315985\n",
      "\n",
      "2020-09-04-US-SF-2-Pixel4XL: (acc)0.013502779984114376\n",
      "2020-09-04-US-SF-2-Pixel4XL: (mag)0.013502779984114376\n",
      "2020-09-04-US-SF-2-Pixel4XL: (gyro)0.013502779984114376\n",
      "\n",
      "2020-09-04-US-SF-1-Pixel4XL: (acc)0.009221902017291067\n",
      "2020-09-04-US-SF-1-Pixel4XL: (mag)0.009221902017291067\n",
      "2020-09-04-US-SF-1-Pixel4XL: (gyro)0.009221902017291067\n",
      "\n",
      "2020-06-05-US-MTV-1-Pixel4XLModded: (acc)0.015138023152270703\n",
      "2020-06-05-US-MTV-1-Pixel4XLModded: (mag)0.015138023152270703\n",
      "2020-06-05-US-MTV-1-Pixel4XLModded: (gyro)0.015138023152270703\n",
      "\n",
      "2021-04-26-US-SVL-1-Mi8: (acc)0.8359073359073359\n",
      "2021-04-26-US-SVL-1-Mi8: (mag)0.8359073359073359\n",
      "2021-04-26-US-SVL-1-Mi8: (gyro)0.8359073359073359\n",
      "\n",
      "2021-01-05-US-SVL-1-Pixel4XL: (acc)0.011879804332634521\n",
      "2021-01-05-US-SVL-1-Pixel4XL: (mag)0.011879804332634521\n",
      "\n",
      "2021-03-10-US-SVL-1-Pixel4XL: (acc)0.0112582781456953642021-01-05-US-SVL-1-Pixel4XL: (gyro)0.011879804332634521\n",
      "2021-03-10-US-SVL-1-Pixel4XL: (mag)0.011258278145695364\n",
      "\n",
      "2021-03-10-US-SVL-1-Pixel4XL: (gyro)0.011258278145695364\n",
      "\n",
      "2020-06-04-US-MTV-1-Pixel4XL: (acc)0.011716461628588167\n",
      "2020-06-04-US-MTV-1-Pixel4XL: (mag)0.011716461628588167\n",
      "2020-06-04-US-MTV-1-Pixel4XL: (gyro)0.011716461628588167\n",
      "\n",
      "2020-07-17-US-MTV-2-Mi8: (acc)0.9001148105625718\n",
      "2020-07-17-US-MTV-2-Mi8: (mag)0.9001148105625718\n",
      "2020-07-17-US-MTV-2-Mi8: (gyro)0.9001148105625718\n",
      "\n",
      "2021-04-28-US-MTV-1-SamsungS20Ultra: (acc)0.008581524482584554\n",
      "2021-04-28-US-MTV-1-SamsungS20Ultra: (mag)0.008581524482584554\n",
      "2021-04-28-US-MTV-1-SamsungS20Ultra: (gyro)0.008581524482584554\n",
      "\n",
      "2020-07-08-US-MTV-1-Pixel4: (acc)0.009408602150537635\n",
      "2020-07-08-US-MTV-1-Pixel4: (mag)0.009408602150537635\n",
      "2020-07-08-US-MTV-1-Pixel4: (gyro)0.009408602150537635\n",
      "\n",
      "2021-01-04-US-RWC-2-Pixel4Modded: (acc)0.009032943676939426\n",
      "2021-01-04-US-RWC-2-Pixel4Modded: (mag)0.009032943676939426\n",
      "2021-01-04-US-RWC-2-Pixel4Modded: (gyro)0.009032943676939426\n",
      "\n",
      "2020-05-29-US-MTV-1-Pixel4XL: (acc)0.00889121338912134\n",
      "2020-05-14-US-MTV-1-Pixel4: (acc)0.010344827586206896\n",
      "2020-05-14-US-MTV-1-Pixel4: (mag)0.010344827586206896\n",
      "2020-05-14-US-MTV-1-Pixel4: (gyro)0.010344827586206896\n",
      "\n",
      "2020-05-29-US-MTV-1-Pixel4XL: (mag)0.00889121338912134\n",
      "2020-05-29-US-MTV-1-Pixel4XL: (gyro)0.00889121338912134\n",
      "\n",
      "2021-01-04-US-RWC-1-Pixel4: (acc)0.00819277108433735\n",
      "2021-01-04-US-RWC-1-Pixel4: (mag)0.00819277108433735\n",
      "2021-01-04-US-RWC-1-Pixel4: (gyro)0.00819277108433735\n",
      "\n",
      "2021-04-28-US-SJC-1-SamsungS20Ultra: (acc)0.00816130580892943\n",
      "2021-04-28-US-SJC-1-SamsungS20Ultra: (mag)0.00816130580892943\n",
      "2021-04-28-US-SJC-1-SamsungS20Ultra: (gyro)0.00816130580892943\n",
      "\n",
      "2020-05-14-US-MTV-2-Pixel4: (acc)0.011299435028248588\n",
      "2020-05-14-US-MTV-2-Pixel4: (mag)0.011299435028248588\n",
      "2020-05-14-US-MTV-2-Pixel4: (gyro)0.011299435028248588\n",
      "\n",
      "2021-04-29-US-MTV-1-SamsungS20Ultra: (acc)0.0\n",
      "2021-04-29-US-MTV-1-SamsungS20Ultra: (mag)0.0\n",
      "2021-04-29-US-MTV-1-SamsungS20Ultra: (gyro)0.0\n",
      "\n",
      "2021-04-22-US-SJC-1-Pixel4: (acc)0.0058823529411764705\n",
      "2021-04-22-US-SJC-1-Pixel4: (mag)0.0058823529411764705\n",
      "2021-04-22-US-SJC-1-Pixel4: (gyro)0.0058823529411764705\n",
      "\n",
      "2021-04-28-US-SJC-1-Pixel4: (acc)0.008440913604766634\n",
      "2021-04-28-US-SJC-1-Pixel4: (mag)0.008440913604766634\n",
      "2021-04-28-US-SJC-1-Pixel4: (gyro)0.008440913604766634\n",
      "\n",
      "2020-06-05-US-MTV-1-Pixel4: (acc)0.010183299389002037\n",
      "2020-06-05-US-MTV-1-Pixel4: (mag)0.010183299389002037\n",
      "2020-06-05-US-MTV-1-Pixel4: (gyro)0.010183299389002037\n",
      "\n",
      "2021-01-04-US-RWC-1-Pixel4Modded: (acc)0.008208594881699663\n",
      "2021-01-04-US-RWC-1-Pixel4Modded: (mag)0.008208594881699663\n",
      "2021-01-04-US-RWC-1-Pixel4Modded: (gyro)0.008208594881699663\n",
      "\n",
      "2021-04-29-US-MTV-1-Pixel4: (acc)0.010611735330836454\n",
      "2021-04-29-US-MTV-1-Pixel4: (mag)0.010611735330836454\n",
      "2021-04-29-US-MTV-1-Pixel4: (gyro)0.010611735330836454\n",
      "\n",
      "2021-04-15-US-MTV-1-Pixel5: (acc)0.0017251293847038527\n",
      "2021-04-15-US-MTV-1-Pixel5: (mag)0.0017251293847038527\n",
      "2021-04-15-US-MTV-1-Pixel5: (gyro)0.0017251293847038527\n",
      "\n",
      "2021-04-15-US-MTV-1-Pixel4Modded: (acc)0.00989522700814901\n",
      "2021-04-15-US-MTV-1-Pixel4Modded: (mag)0.00989522700814901\n",
      "2021-04-15-US-MTV-1-Pixel4Modded: (gyro)0.00989522700814901\n",
      "\n",
      "2021-01-04-US-RWC-1-Pixel5: (acc)0.008188824662813102\n",
      "2021-01-04-US-RWC-1-Pixel5: (mag)0.008188824662813102\n",
      "2021-01-04-US-RWC-1-Pixel5: (gyro)0.008188824662813102\n",
      "\n",
      "2020-05-29-US-MTV-1-Pixel4: (acc)0.009932043910088865\n",
      "2020-05-29-US-MTV-1-Pixel4: (mag)0.009932043910088865\n",
      "2020-05-29-US-MTV-1-Pixel4: (gyro)0.009932043910088865\n",
      "\n",
      "2020-05-21-US-MTV-1-Pixel4: (acc)0.02708025603151157\n",
      "2020-05-21-US-MTV-1-Pixel4: (mag)0.02708025603151157\n",
      "2020-05-21-US-MTV-1-Pixel4: (gyro)0.02708025603151157\n",
      "\n",
      "2020-05-21-US-MTV-2-Pixel4: (acc)0.010178117048346057\n",
      "2020-05-21-US-MTV-2-Pixel4: (mag)0.010178117048346057\n",
      "2020-05-21-US-MTV-2-Pixel4: (gyro)0.010178117048346057\n",
      "\n",
      "2021-04-29-US-SJC-2-SamsungS20Ultra: (acc)0.007172995780590718\n",
      "2021-04-29-US-SJC-2-SamsungS20Ultra: (mag)0.007172995780590718\n",
      "2021-04-29-US-SJC-2-SamsungS20Ultra: (gyro)0.007172995780590718\n",
      "\n",
      "2020-05-29-US-MTV-2-Pixel4: (acc)0.009485771342985522\n",
      "2020-05-29-US-MTV-2-Pixel4: (mag)0.009485771342985522\n",
      "2020-05-29-US-MTV-2-Pixel4: (gyro)0.009485771342985522\n",
      "\n",
      "2021-01-04-US-RWC-1-Pixel4XL: (acc)0.008208594881699663\n",
      "2021-01-04-US-RWC-1-Pixel4XL: (mag)0.008208594881699663\n",
      "2021-01-04-US-RWC-1-Pixel4XL: (gyro)0.008208594881699663\n",
      "\n",
      "2021-04-29-US-SJC-2-Pixel4: (acc)0.0068669527896995704\n",
      "2021-04-29-US-SJC-2-Pixel4: (mag)0.0068669527896995704\n",
      "2021-04-29-US-SJC-2-Pixel4: (gyro)0.0068669527896995704\n",
      "\n",
      "2020-06-05-US-MTV-1-Pixel4XL: (acc)0.00966183574879227\n",
      "2020-06-05-US-MTV-1-Pixel4XL: (mag)0.00966183574879227\n",
      "2020-06-05-US-MTV-1-Pixel4XL: (gyro)0.00966183574879227\n",
      "\n",
      "2021-04-22-US-SJC-1-SamsungS20Ultra: (acc)0.005661712668082095\n",
      "2021-04-22-US-SJC-1-SamsungS20Ultra: (mag)0.005661712668082095\n",
      "2021-04-22-US-SJC-1-SamsungS20Ultra: (gyro)0.005661712668082095\n"
     ]
    }
   ],
   "source": [
    "# train\n",
    "processes = multiprocessing.cpu_count()\n",
    "with multiprocessing.Pool(processes=processes) as pool:\n",
    "    path_list = glob.glob(output_train_dir + '*')\n",
    "    zero = pool.imap_unordered(create_imu_dataset, path_list)\n",
    "    zero = list(tqdm(zero, total=len(path_list)))"
   ]
  },
  {
   "cell_type": "code",
   "execution_count": 17,
   "metadata": {},
   "outputs": [
    {
     "data": {
      "application/vnd.jupyter.widget-view+json": {
       "model_id": "22d30404375a4c53b53c5c59f999a455",
       "version_major": 2,
       "version_minor": 0
      },
      "text/plain": [
       "  0%|          | 0/48 [00:00<?, ?it/s]"
      ]
     },
     "metadata": {},
     "output_type": "display_data"
    },
    {
     "name": "stdout",
     "output_type": "stream",
     "text": [
      "\n",
      "2020-08-03-US-MTV-2-Pixel4XL: (acc)0.9994103773584906\n",
      "2020-08-03-US-MTV-2-Pixel4XL: (mag)0.9994103773584906\n",
      "2020-08-03-US-MTV-2-Pixel4XL: (gyro)0.9994103773584906\n",
      "\n",
      "2020-08-03-US-MTV-2-Mi8: (acc)0.9994262765347103\n",
      "2020-08-03-US-MTV-2-Mi8: (mag)0.9994262765347103\n",
      "2020-08-03-US-MTV-2-Mi8: (gyro)0.9994262765347103\n",
      "\n",
      "2020-08-13-US-MTV-1-Pixel4: (acc)0.999554565701559\n",
      "2020-08-13-US-MTV-1-Pixel4: (mag)0.999554565701559\n",
      "2020-08-13-US-MTV-1-Pixel4: (gyro)0.999554565701559\n",
      "\n",
      "2020-08-13-US-MTV-1-Mi8: (acc)0.9995730145175064\n",
      "2020-08-13-US-MTV-1-Mi8: (mag)0.9995730145175064\n",
      "2020-08-13-US-MTV-1-Mi8: (gyro)0.9995730145175064\n",
      "\n",
      "2020-08-03-US-MTV-2-Pixel4: (acc)0.9994269340974212\n",
      "2020-08-03-US-MTV-2-Pixel4: (mag)0.9994269340974212\n",
      "2020-08-03-US-MTV-2-Pixel4: (gyro)0.9994269340974212\n",
      "\n",
      "2021-04-08-US-MTV-1-SamsungS20Ultra: (acc)0.0\n",
      "2021-04-08-US-MTV-1-SamsungS20Ultra: (mag)0.0\n",
      "2021-04-08-US-MTV-1-SamsungS20Ultra: (gyro)0.0\n",
      "\n",
      "2021-04-08-US-MTV-1-Pixel5: (acc)0.014049586776859505\n",
      "2021-04-08-US-MTV-1-Pixel5: (mag)0.014049586776859505\n",
      "2021-04-08-US-MTV-1-Pixel5: (gyro)0.014049586776859505\n",
      "\n",
      "2020-05-28-US-MTV-2-Pixel4XLModded: (acc)0.010973936899862825\n",
      "2020-05-28-US-MTV-2-Pixel4XLModded: (mag)0.010973936899862825\n",
      "2020-05-28-US-MTV-2-Pixel4XLModded: (gyro)0.010973936899862825\n",
      "\n",
      "2021-03-25-US-PAO-1-SamsungS20Ultra: (acc)0.009860788863109048\n",
      "2021-03-25-US-PAO-1-SamsungS20Ultra: (mag)0.009860788863109048\n",
      "\n",
      "2021-03-25-US-PAO-1-Pixel4Modded: (acc)0.0098722415795586532021-03-25-US-PAO-1-SamsungS20Ultra: (gyro)0.009860788863109048\n",
      "2021-03-25-US-PAO-1-Pixel4Modded: (mag)0.009872241579558653\n",
      "\n",
      "2021-03-25-US-PAO-1-Pixel4Modded: (gyro)0.009872241579558653\n",
      "\n",
      "2021-04-29-US-MTV-2-Pixel5: (acc)0.009843659525188187\n",
      "2021-04-29-US-MTV-2-Pixel5: (mag)0.009843659525188187\n",
      "2021-04-29-US-MTV-2-Pixel5: (gyro)0.009843659525188187\n",
      "\n",
      "2021-03-25-US-PAO-1-Pixel4: (acc)0.009849362688296639\n",
      "2021-03-25-US-PAO-1-Pixel4: (mag)0.009849362688296639\n",
      "2021-03-25-US-PAO-1-Pixel4: (gyro)0.009849362688296639\n",
      "\n",
      "2021-04-28-US-MTV-2-Pixel4: (acc)0.010297482837528604\n",
      "2021-04-28-US-MTV-2-Pixel4: (mag)0.010297482837528604\n",
      "2021-04-28-US-MTV-2-Pixel4: (gyro)0.010297482837528604\n",
      "\n",
      "2021-04-29-US-MTV-2-Pixel4: (acc)0.009953161592505855\n",
      "2021-04-29-US-MTV-2-Pixel4: (mag)0.009953161592505855\n",
      "2021-04-29-US-MTV-2-Pixel4: (gyro)0.009953161592505855\n",
      "\n",
      "2021-04-29-US-MTV-2-SamsungS20Ultra: (acc)0.007963594994311717\n",
      "2021-04-29-US-MTV-2-SamsungS20Ultra: (mag)0.007963594994311717\n",
      "2021-04-29-US-MTV-2-SamsungS20Ultra: (gyro)0.007963594994311717\n",
      "\n",
      "2021-04-28-US-MTV-2-SamsungS20Ultra: (acc)0.009497206703910615\n",
      "2021-04-28-US-MTV-2-SamsungS20Ultra: (mag)0.009497206703910615\n",
      "2021-04-28-US-MTV-2-SamsungS20Ultra: (gyro)0.009497206703910615\n",
      "\n",
      "2020-06-10-US-MTV-1-Pixel4: (acc)0.011425135297654841\n",
      "2020-06-10-US-MTV-1-Pixel4: (mag)0.011425135297654841\n",
      "2020-06-10-US-MTV-1-Pixel4: (gyro)0.011425135297654841\n",
      "\n",
      "2020-06-10-US-MTV-1-Pixel4XL: (acc)0.011432009626955475\n",
      "2020-06-10-US-MTV-1-Pixel4XL: (mag)0.011432009626955475\n",
      "2020-06-10-US-MTV-1-Pixel4XL: (gyro)0.011432009626955475\n",
      "\n",
      "2021-03-16-US-RWC-2-SamsungS20Ultra: (acc)0.008113590263691683\n",
      "2021-03-16-US-RWC-2-SamsungS20Ultra: (mag)0.008113590263691683\n",
      "2021-03-16-US-RWC-2-SamsungS20Ultra: (gyro)0.008113590263691683\n",
      "\n",
      "2020-06-04-US-MTV-2-Pixel4XLModded: (acc)0.011750881316098707\n",
      "2020-06-04-US-MTV-2-Pixel4XLModded: (mag)0.011750881316098707\n",
      "2020-06-04-US-MTV-2-Pixel4XLModded: (gyro)0.011750881316098707\n",
      "\n",
      "2020-06-10-US-MTV-2-Pixel4XLModded: (acc)0.07279297883324728\n",
      "2020-06-10-US-MTV-2-Pixel4XLModded: (mag)0.07279297883324728\n",
      "2020-06-10-US-MTV-2-Pixel4XLModded: (gyro)0.07279297883324728\n",
      "\n",
      "2021-04-29-US-SJC-3-SamsungS20Ultra: (acc)0.008248423095584668\n",
      "2021-04-29-US-SJC-3-SamsungS20Ultra: (mag)0.008248423095584668\n",
      "2021-04-29-US-SJC-3-SamsungS20Ultra: (gyro)0.008248423095584668\n",
      "\n",
      "2021-03-16-US-MTV-2-Pixel4Modded: (acc)0.008329250367466928\n",
      "2021-03-16-US-MTV-2-Pixel4Modded: (mag)0.008329250367466928\n",
      "2021-03-16-US-MTV-2-Pixel4Modded: (gyro)0.008329250367466928\n",
      "\n",
      "2021-03-25-US-PAO-1-Mi8: (acc)0.9018583042973287\n",
      "2021-03-25-US-PAO-1-Mi8: (mag)0.9018583042973287\n",
      "2021-03-25-US-PAO-1-Mi8: (gyro)0.9018583042973287\n",
      "\n",
      "2020-05-28-US-MTV-2-Pixel4: (acc)0.009490940465918895\n",
      "2020-05-28-US-MTV-2-Pixel4: (mag)0.009490940465918895\n",
      "2020-05-28-US-MTV-2-Pixel4: (gyro)0.009490940465918895\n",
      "\n",
      "2020-05-28-US-MTV-2-Pixel4XL: (acc)0.009527934170636639\n",
      "2020-05-28-US-MTV-2-Pixel4XL: (mag)0.009527934170636639\n",
      "2020-05-28-US-MTV-2-Pixel4XL: (gyro)0.009527934170636639\n",
      "\n",
      "2021-04-02-US-SJC-1-Pixel4: (acc)0.0071912013536379014\n",
      "2021-04-02-US-SJC-1-Pixel4: (mag)0.0071912013536379014\n",
      "2021-04-02-US-SJC-1-Pixel4: (gyro)0.0071912013536379014\n",
      "\n",
      "2020-05-28-US-MTV-1-Pixel4XL: (acc)0.008656224237427864\n",
      "2020-05-28-US-MTV-1-Pixel4XL: (mag)0.008656224237427864\n",
      "2020-05-28-US-MTV-1-Pixel4XL: (gyro)0.008656224237427864\n",
      "\n",
      "2021-04-08-US-MTV-1-Pixel4: (acc)0.016536964980544747\n",
      "2021-04-08-US-MTV-1-Pixel4: (mag)0.016536964980544747\n",
      "2021-04-08-US-MTV-1-Pixel4: (gyro)0.016536964980544747\n",
      "\n",
      "2021-03-25-US-PAO-1-Pixel5: (acc)0.009855072463768115\n",
      "2021-03-25-US-PAO-1-Pixel5: (mag)0.009855072463768115\n",
      "2021-03-25-US-PAO-1-Pixel5: (gyro)0.009855072463768115\n",
      "\n",
      "2021-04-08-US-MTV-1-Pixel4Modded: (acc)0.0166015625\n",
      "2021-04-08-US-MTV-1-Pixel4Modded: (mag)0.0166015625\n",
      "2021-04-08-US-MTV-1-Pixel4Modded: (gyro)0.0166015625\n",
      "\n",
      "2021-04-21-US-MTV-1-Pixel4: (acc)0.011088011088011088\n",
      "2021-04-21-US-MTV-1-Pixel4: (mag)0.011088011088011088\n",
      "2021-04-21-US-MTV-1-Pixel4: (gyro)0.011088011088011088\n",
      "\n",
      "2021-03-16-US-MTV-2-SamsungS20Ultra: (acc)0.007308684436801376\n",
      "2021-03-16-US-MTV-2-SamsungS20Ultra: (mag)0.007308684436801376\n",
      "2021-03-16-US-MTV-2-SamsungS20Ultra: (gyro)0.007308684436801376\n",
      "\n",
      "2020-06-04-US-MTV-2-Pixel4: (acc)0.011202830188679245\n",
      "2020-06-04-US-MTV-2-Pixel4: (mag)0.011202830188679245\n",
      "2020-06-04-US-MTV-2-Pixel4: (gyro)0.011202830188679245\n",
      "\n",
      "2021-04-21-US-MTV-1-Pixel4Modded: (acc)0.011954992967651195\n",
      "2021-04-21-US-MTV-1-Pixel4Modded: (mag)0.011954992967651195\n",
      "2021-04-21-US-MTV-1-Pixel4Modded: (gyro)0.011954992967651195\n",
      "\n",
      "2021-03-16-US-RWC-2-Pixel5: (acc)0.0\n",
      "2021-03-16-US-RWC-2-Pixel5: (mag)0.0\n",
      "2021-03-16-US-RWC-2-Pixel5: (gyro)0.0\n",
      "\n",
      "2020-06-04-US-MTV-2-Pixel4XL: (acc)0.011169900058788948\n",
      "2020-06-04-US-MTV-2-Pixel4XL: (mag)0.011169900058788948\n",
      "2020-06-04-US-MTV-2-Pixel4XL: (gyro)0.011169900058788948\n",
      "\n",
      "2021-04-29-US-SJC-3-Pixel4: (acc)0.008590197069226882\n",
      "2021-04-29-US-SJC-3-Pixel4: (mag)0.008590197069226882\n",
      "2021-04-29-US-SJC-3-Pixel4: (gyro)0.008590197069226882\n",
      "\n",
      "2020-06-10-US-MTV-2-Pixel4XL: (acc)0.010526315789473684\n",
      "2020-06-10-US-MTV-2-Pixel4XL: (mag)0.010526315789473684\n",
      "2020-06-10-US-MTV-2-Pixel4XL: (gyro)0.010526315789473684\n",
      "\n",
      "2020-05-28-US-MTV-1-Pixel4: (acc)0.008865248226950355\n",
      "2020-05-28-US-MTV-1-Pixel4: (mag)0.008865248226950355\n",
      "2020-05-28-US-MTV-1-Pixel4: (gyro)0.008865248226950355\n",
      "\n",
      "2020-06-10-US-MTV-1-Pixel4XLModded: (acc)0.01299468399291199\n",
      "2020-06-10-US-MTV-1-Pixel4XLModded: (mag)0.01299468399291199\n",
      "2020-06-10-US-MTV-1-Pixel4XLModded: (gyro)0.01299468399291199\n",
      "\n",
      "2021-03-16-US-RWC-2-Pixel4XL: (acc)0.008130081300813009\n",
      "2021-03-16-US-RWC-2-Pixel4XL: (mag)0.008130081300813009\n",
      "2021-03-16-US-RWC-2-Pixel4XL: (gyro)0.008130081300813009\n",
      "\n",
      "2021-04-22-US-SJC-2-SamsungS20Ultra: (acc)0.007314974182444062\n",
      "2021-04-22-US-SJC-2-SamsungS20Ultra: (mag)0.007314974182444062\n",
      "2021-04-22-US-SJC-2-SamsungS20Ultra: (gyro)0.007314974182444062\n",
      "\n",
      "2020-06-10-US-MTV-2-Pixel4: (acc)0.004459308807134894\n",
      "2020-06-10-US-MTV-2-Pixel4: (mag)0.004459308807134894\n",
      "2020-06-10-US-MTV-2-Pixel4: (gyro)0.004459308807134894\n",
      "\n",
      "2021-04-26-US-SVL-2-SamsungS20Ultra: (acc)0.009896729776247849\n",
      "2021-04-26-US-SVL-2-SamsungS20Ultra: (mag)0.009896729776247849\n",
      "2021-04-26-US-SVL-2-SamsungS20Ultra: (gyro)0.009896729776247849\n",
      "\n",
      "2020-05-15-US-MTV-1-Pixel4XL: (acc)0.006255331248222917\n",
      "2020-05-15-US-MTV-1-Pixel4XL: (mag)0.006255331248222917\n",
      "2020-05-15-US-MTV-1-Pixel4XL: (gyro)0.006255331248222917\n",
      "\n",
      "2020-05-15-US-MTV-1-Pixel4: (acc)0.006020642201834863\n",
      "2020-05-15-US-MTV-1-Pixel4: (mag)0.006020642201834863\n",
      "2020-05-15-US-MTV-1-Pixel4: (gyro)0.006020642201834863\n",
      "\n",
      "2021-04-02-US-SJC-1-Pixel5: (acc)0.0029350104821802936\n",
      "2021-04-02-US-SJC-1-Pixel5: (mag)0.0029350104821802936\n",
      "2021-04-02-US-SJC-1-Pixel5: (gyro)0.0029350104821802936\n"
     ]
    }
   ],
   "source": [
    "# test\n",
    "processes = multiprocessing.cpu_count()\n",
    "with multiprocessing.Pool(processes=processes) as pool:\n",
    "    path_list = glob.glob(output_test_dir + '*')\n",
    "    zero = pool.imap_unordered(create_imu_dataset, path_list)\n",
    "    zero = list(tqdm(zero, total=len(path_list)))"
   ]
  },
  {
   "cell_type": "markdown",
   "metadata": {},
   "source": [
    "### IMUデータを使えなさそうな端末(train)\n",
    "- Mi8すべて\n",
    "- 2020-08-06-US-MTV-2-Pixel4\n",
    "- 2020-08-03-US-MTV-1-Pixel4\n",
    "- 2020-08-06-US-MTV-2-Pixel4XL\n",
    "\n",
    "以下collectionはすべての端末でIMUが使えなそう\n",
    "- 2020-08-03-US-MTV-1\n",
    "- 2020-08-06-US-MTV-2\n",
    "- 2020-07-17-US-MTV-1\n",
    "- 2020-07-17-US-MTV-2\n",
    "ひとまずこれらは放置"
   ]
  },
  {
   "cell_type": "markdown",
   "metadata": {},
   "source": [
    "## test"
   ]
  },
  {
   "cell_type": "code",
   "execution_count": 18,
   "metadata": {},
   "outputs": [
    {
     "data": {
      "text/plain": [
       "(48,\n",
       " array(['2020-05-15-US-MTV-1_Pixel4', '2020-05-15-US-MTV-1_Pixel4XL',\n",
       "        '2020-05-28-US-MTV-1_Pixel4', '2020-05-28-US-MTV-1_Pixel4XL',\n",
       "        '2020-05-28-US-MTV-2_Pixel4', '2020-05-28-US-MTV-2_Pixel4XL',\n",
       "        '2020-05-28-US-MTV-2_Pixel4XLModded', '2020-06-04-US-MTV-2_Pixel4',\n",
       "        '2020-06-04-US-MTV-2_Pixel4XL',\n",
       "        '2020-06-04-US-MTV-2_Pixel4XLModded', '2020-06-10-US-MTV-1_Pixel4',\n",
       "        '2020-06-10-US-MTV-1_Pixel4XL',\n",
       "        '2020-06-10-US-MTV-1_Pixel4XLModded', '2020-06-10-US-MTV-2_Pixel4',\n",
       "        '2020-06-10-US-MTV-2_Pixel4XL',\n",
       "        '2020-06-10-US-MTV-2_Pixel4XLModded', '2020-08-03-US-MTV-2_Mi8',\n",
       "        '2020-08-03-US-MTV-2_Pixel4', '2020-08-03-US-MTV-2_Pixel4XL',\n",
       "        '2020-08-13-US-MTV-1_Mi8', '2020-08-13-US-MTV-1_Pixel4',\n",
       "        '2021-03-16-US-MTV-2_Pixel4Modded',\n",
       "        '2021-03-16-US-MTV-2_SamsungS20Ultra',\n",
       "        '2021-03-16-US-RWC-2_Pixel4XL', '2021-03-16-US-RWC-2_Pixel5',\n",
       "        '2021-03-16-US-RWC-2_SamsungS20Ultra', '2021-03-25-US-PAO-1_Mi8',\n",
       "        '2021-03-25-US-PAO-1_Pixel4', '2021-03-25-US-PAO-1_Pixel4Modded',\n",
       "        '2021-03-25-US-PAO-1_Pixel5',\n",
       "        '2021-03-25-US-PAO-1_SamsungS20Ultra',\n",
       "        '2021-04-02-US-SJC-1_Pixel4', '2021-04-02-US-SJC-1_Pixel5',\n",
       "        '2021-04-08-US-MTV-1_Pixel4', '2021-04-08-US-MTV-1_Pixel4Modded',\n",
       "        '2021-04-08-US-MTV-1_Pixel5',\n",
       "        '2021-04-08-US-MTV-1_SamsungS20Ultra',\n",
       "        '2021-04-21-US-MTV-1_Pixel4', '2021-04-21-US-MTV-1_Pixel4Modded',\n",
       "        '2021-04-22-US-SJC-2_SamsungS20Ultra',\n",
       "        '2021-04-26-US-SVL-2_SamsungS20Ultra',\n",
       "        '2021-04-28-US-MTV-2_Pixel4',\n",
       "        '2021-04-28-US-MTV-2_SamsungS20Ultra',\n",
       "        '2021-04-29-US-MTV-2_Pixel4', '2021-04-29-US-MTV-2_Pixel5',\n",
       "        '2021-04-29-US-MTV-2_SamsungS20Ultra',\n",
       "        '2021-04-29-US-SJC-3_Pixel4',\n",
       "        '2021-04-29-US-SJC-3_SamsungS20Ultra'], dtype=object))"
      ]
     },
     "execution_count": 18,
     "metadata": {},
     "output_type": "execute_result"
    }
   ],
   "source": [
    "sub = pd.read_csv(root_dir + 'sample_submission.csv')\n",
    "sub['phone'].nunique(), sub['phone'].unique()"
   ]
  },
  {
   "cell_type": "code",
   "execution_count": null,
   "metadata": {},
   "outputs": [],
   "source": []
  }
 ],
 "metadata": {
  "interpreter": {
   "hash": "31f2aee4e71d21fbe5cf8b01ff0e069b9275f58929596ceb00d14d90e3e16cd6"
  },
  "kernelspec": {
   "display_name": "Python 3.8.5 64-bit",
   "name": "python3"
  },
  "language_info": {
   "codemirror_mode": {
    "name": "ipython",
    "version": 3
   },
   "file_extension": ".py",
   "mimetype": "text/x-python",
   "name": "python",
   "nbconvert_exporter": "python",
   "pygments_lexer": "ipython3",
   "version": "3.8.5"
  },
  "widgets": {
   "application/vnd.jupyter.widget-state+json": {
    "state": {
     "0ff21d7878204b5db912655547cb7b94": {
      "model_module": "@jupyter-widgets/base",
      "model_module_version": "1.2.0",
      "model_name": "LayoutModel",
      "state": {}
     },
     "12694a4beb114bcbbb727f4e6accdbf0": {
      "model_module": "@jupyter-widgets/controls",
      "model_module_version": "1.5.0",
      "model_name": "ProgressStyleModel",
      "state": {
       "description_width": ""
      }
     },
     "130c7068a8e843938eeb5eefa32bd8b2": {
      "model_module": "@jupyter-widgets/base",
      "model_module_version": "1.2.0",
      "model_name": "LayoutModel",
      "state": {}
     },
     "13e75f2fd7f9438296a0642acb5dca18": {
      "model_module": "@jupyter-widgets/base",
      "model_module_version": "1.2.0",
      "model_name": "LayoutModel",
      "state": {}
     },
     "189f55c32b9640c3892c5191dfff5f63": {
      "model_module": "@jupyter-widgets/controls",
      "model_module_version": "1.5.0",
      "model_name": "DescriptionStyleModel",
      "state": {
       "description_width": ""
      }
     },
     "22d30404375a4c53b53c5c59f999a455": {
      "model_module": "@jupyter-widgets/controls",
      "model_module_version": "1.5.0",
      "model_name": "HBoxModel",
      "state": {
       "children": [
        "IPY_MODEL_32a35fe13c6c4baa8a403faf4bf0dc72",
        "IPY_MODEL_fe2f84eace934605978b219bdf55f974",
        "IPY_MODEL_b9f6bdde678c4643957f06c656a82da6"
       ],
       "layout": "IPY_MODEL_13e75f2fd7f9438296a0642acb5dca18"
      }
     },
     "32a35fe13c6c4baa8a403faf4bf0dc72": {
      "model_module": "@jupyter-widgets/controls",
      "model_module_version": "1.5.0",
      "model_name": "HTMLModel",
      "state": {
       "layout": "IPY_MODEL_5cc17b911a704f7d9ff9c2ff918e16e7",
       "style": "IPY_MODEL_e97625261edc4011a8e72bc3a71042b9",
       "value": "100%"
      }
     },
     "349d80abc7874ca8b9a16fd34db65bfe": {
      "model_module": "@jupyter-widgets/controls",
      "model_module_version": "1.5.0",
      "model_name": "HBoxModel",
      "state": {
       "children": [
        "IPY_MODEL_f314a661ab354a7d8922ad360d4134ba",
        "IPY_MODEL_88ed964ff21644f4afbeed4982a0c480",
        "IPY_MODEL_8a73feaa75e4410bbec7a495a26818f1"
       ],
       "layout": "IPY_MODEL_fce2ed50ebe04eceb2484cdfa5722948"
      }
     },
     "41b0880dc6ce41a58518609e7743d48e": {
      "model_module": "@jupyter-widgets/controls",
      "model_module_version": "1.5.0",
      "model_name": "DescriptionStyleModel",
      "state": {
       "description_width": ""
      }
     },
     "53dbd95330334a989f8720e2d925225c": {
      "model_module": "@jupyter-widgets/controls",
      "model_module_version": "1.5.0",
      "model_name": "HTMLModel",
      "state": {
       "layout": "IPY_MODEL_de83ec1170e846138378c094340e44da",
       "style": "IPY_MODEL_41b0880dc6ce41a58518609e7743d48e",
       "value": " 73/73 [02:14&lt;00:00,  1.79s/it]"
      }
     },
     "5cc17b911a704f7d9ff9c2ff918e16e7": {
      "model_module": "@jupyter-widgets/base",
      "model_module_version": "1.2.0",
      "model_name": "LayoutModel",
      "state": {}
     },
     "5e0615c9e1c544e1b60cebd0b02b0181": {
      "model_module": "@jupyter-widgets/controls",
      "model_module_version": "1.5.0",
      "model_name": "DescriptionStyleModel",
      "state": {
       "description_width": ""
      }
     },
     "6260080fe8214a8da6018f1849e81c69": {
      "model_module": "@jupyter-widgets/controls",
      "model_module_version": "1.5.0",
      "model_name": "HBoxModel",
      "state": {
       "children": [
        "IPY_MODEL_8a4b0a2d68034741a4e390c1161bd426",
        "IPY_MODEL_deaa3cee8767435fb6a84e5146d350fd",
        "IPY_MODEL_53dbd95330334a989f8720e2d925225c"
       ],
       "layout": "IPY_MODEL_7aa1ed23a82a493f99d9f1e75eb06f5a"
      }
     },
     "6e2ecd9760574cb3a349b40d9347ee07": {
      "model_module": "@jupyter-widgets/base",
      "model_module_version": "1.2.0",
      "model_name": "LayoutModel",
      "state": {}
     },
     "6ebae74fdd0442af9235699122d171ef": {
      "model_module": "@jupyter-widgets/base",
      "model_module_version": "1.2.0",
      "model_name": "LayoutModel",
      "state": {}
     },
     "7353dff5493c4c778f3f5de1c765e573": {
      "model_module": "@jupyter-widgets/base",
      "model_module_version": "1.2.0",
      "model_name": "LayoutModel",
      "state": {}
     },
     "74a3479e1f6c4e059e46301afe0ffe83": {
      "model_module": "@jupyter-widgets/controls",
      "model_module_version": "1.5.0",
      "model_name": "DescriptionStyleModel",
      "state": {
       "description_width": ""
      }
     },
     "7aa1ed23a82a493f99d9f1e75eb06f5a": {
      "model_module": "@jupyter-widgets/base",
      "model_module_version": "1.2.0",
      "model_name": "LayoutModel",
      "state": {}
     },
     "86d2da87312645628915b40f9da8a18a": {
      "model_module": "@jupyter-widgets/base",
      "model_module_version": "1.2.0",
      "model_name": "LayoutModel",
      "state": {}
     },
     "88144110efda4ea19439f95eb6a1dba0": {
      "model_module": "@jupyter-widgets/controls",
      "model_module_version": "1.5.0",
      "model_name": "HTMLModel",
      "state": {
       "layout": "IPY_MODEL_7353dff5493c4c778f3f5de1c765e573",
       "style": "IPY_MODEL_9c9c56270cc647f580291d435d686f85",
       "value": "100%"
      }
     },
     "88ed964ff21644f4afbeed4982a0c480": {
      "model_module": "@jupyter-widgets/controls",
      "model_module_version": "1.5.0",
      "model_name": "FloatProgressModel",
      "state": {
       "bar_style": "success",
       "layout": "IPY_MODEL_86d2da87312645628915b40f9da8a18a",
       "max": 29,
       "style": "IPY_MODEL_12694a4beb114bcbbb727f4e6accdbf0",
       "value": 29
      }
     },
     "8a4b0a2d68034741a4e390c1161bd426": {
      "model_module": "@jupyter-widgets/controls",
      "model_module_version": "1.5.0",
      "model_name": "HTMLModel",
      "state": {
       "layout": "IPY_MODEL_cfa2a03e8fc7454c8119618c719aefd4",
       "style": "IPY_MODEL_c27a1f0f02274b0c9637f9e2943d7410",
       "value": "100%"
      }
     },
     "8a73feaa75e4410bbec7a495a26818f1": {
      "model_module": "@jupyter-widgets/controls",
      "model_module_version": "1.5.0",
      "model_name": "HTMLModel",
      "state": {
       "layout": "IPY_MODEL_6e2ecd9760574cb3a349b40d9347ee07",
       "style": "IPY_MODEL_74a3479e1f6c4e059e46301afe0ffe83",
       "value": " 29/29 [01:11&lt;00:00,  1.00s/it]"
      }
     },
     "8ea07edebfd94499a20f1caa504a2c3d": {
      "model_module": "@jupyter-widgets/base",
      "model_module_version": "1.2.0",
      "model_name": "LayoutModel",
      "state": {}
     },
     "92347df610154d52927d7184e7391475": {
      "model_module": "@jupyter-widgets/controls",
      "model_module_version": "1.5.0",
      "model_name": "HTMLModel",
      "state": {
       "layout": "IPY_MODEL_0ff21d7878204b5db912655547cb7b94",
       "style": "IPY_MODEL_5e0615c9e1c544e1b60cebd0b02b0181",
       "value": " 19/19 [00:58&lt;00:00,  2.75s/it]"
      }
     },
     "9c9c56270cc647f580291d435d686f85": {
      "model_module": "@jupyter-widgets/controls",
      "model_module_version": "1.5.0",
      "model_name": "DescriptionStyleModel",
      "state": {
       "description_width": ""
      }
     },
     "a5ab4e8a6e6442639e571c87d06b31b0": {
      "model_module": "@jupyter-widgets/controls",
      "model_module_version": "1.5.0",
      "model_name": "HBoxModel",
      "state": {
       "children": [
        "IPY_MODEL_88144110efda4ea19439f95eb6a1dba0",
        "IPY_MODEL_ca9008c5b269456b8376519fda0eb297",
        "IPY_MODEL_92347df610154d52927d7184e7391475"
       ],
       "layout": "IPY_MODEL_c3a485517ca34b32a978c361d3a3405b"
      }
     },
     "a6e9db18bc71430aad9c01c319475cd6": {
      "model_module": "@jupyter-widgets/base",
      "model_module_version": "1.2.0",
      "model_name": "LayoutModel",
      "state": {}
     },
     "afdcde7861be4f74b5fc4ad002c18725": {
      "model_module": "@jupyter-widgets/base",
      "model_module_version": "1.2.0",
      "model_name": "LayoutModel",
      "state": {}
     },
     "b90bf90563f04a89b9400b88b54671dd": {
      "model_module": "@jupyter-widgets/controls",
      "model_module_version": "1.5.0",
      "model_name": "ProgressStyleModel",
      "state": {
       "description_width": ""
      }
     },
     "b9f6bdde678c4643957f06c656a82da6": {
      "model_module": "@jupyter-widgets/controls",
      "model_module_version": "1.5.0",
      "model_name": "HTMLModel",
      "state": {
       "layout": "IPY_MODEL_a6e9db18bc71430aad9c01c319475cd6",
       "style": "IPY_MODEL_189f55c32b9640c3892c5191dfff5f63",
       "value": " 48/48 [01:41&lt;00:00,  1.94s/it]"
      }
     },
     "bff2ba656eb64d61911d5e4d6bb921b6": {
      "model_module": "@jupyter-widgets/controls",
      "model_module_version": "1.5.0",
      "model_name": "DescriptionStyleModel",
      "state": {
       "description_width": ""
      }
     },
     "c27a1f0f02274b0c9637f9e2943d7410": {
      "model_module": "@jupyter-widgets/controls",
      "model_module_version": "1.5.0",
      "model_name": "DescriptionStyleModel",
      "state": {
       "description_width": ""
      }
     },
     "c3a485517ca34b32a978c361d3a3405b": {
      "model_module": "@jupyter-widgets/base",
      "model_module_version": "1.2.0",
      "model_name": "LayoutModel",
      "state": {}
     },
     "ca9008c5b269456b8376519fda0eb297": {
      "model_module": "@jupyter-widgets/controls",
      "model_module_version": "1.5.0",
      "model_name": "FloatProgressModel",
      "state": {
       "bar_style": "success",
       "layout": "IPY_MODEL_130c7068a8e843938eeb5eefa32bd8b2",
       "max": 19,
       "style": "IPY_MODEL_d24a2a9bfd404bfba589a1eed5ef6ba4",
       "value": 19
      }
     },
     "cfa2a03e8fc7454c8119618c719aefd4": {
      "model_module": "@jupyter-widgets/base",
      "model_module_version": "1.2.0",
      "model_name": "LayoutModel",
      "state": {}
     },
     "d24a2a9bfd404bfba589a1eed5ef6ba4": {
      "model_module": "@jupyter-widgets/controls",
      "model_module_version": "1.5.0",
      "model_name": "ProgressStyleModel",
      "state": {
       "description_width": ""
      }
     },
     "de83ec1170e846138378c094340e44da": {
      "model_module": "@jupyter-widgets/base",
      "model_module_version": "1.2.0",
      "model_name": "LayoutModel",
      "state": {}
     },
     "deaa3cee8767435fb6a84e5146d350fd": {
      "model_module": "@jupyter-widgets/controls",
      "model_module_version": "1.5.0",
      "model_name": "FloatProgressModel",
      "state": {
       "bar_style": "success",
       "layout": "IPY_MODEL_6ebae74fdd0442af9235699122d171ef",
       "max": 73,
       "style": "IPY_MODEL_b90bf90563f04a89b9400b88b54671dd",
       "value": 73
      }
     },
     "e97625261edc4011a8e72bc3a71042b9": {
      "model_module": "@jupyter-widgets/controls",
      "model_module_version": "1.5.0",
      "model_name": "DescriptionStyleModel",
      "state": {
       "description_width": ""
      }
     },
     "f0ce9bf10d424be0a04b7032d20c8ef7": {
      "model_module": "@jupyter-widgets/controls",
      "model_module_version": "1.5.0",
      "model_name": "ProgressStyleModel",
      "state": {
       "description_width": ""
      }
     },
     "f314a661ab354a7d8922ad360d4134ba": {
      "model_module": "@jupyter-widgets/controls",
      "model_module_version": "1.5.0",
      "model_name": "HTMLModel",
      "state": {
       "layout": "IPY_MODEL_8ea07edebfd94499a20f1caa504a2c3d",
       "style": "IPY_MODEL_bff2ba656eb64d61911d5e4d6bb921b6",
       "value": "100%"
      }
     },
     "fce2ed50ebe04eceb2484cdfa5722948": {
      "model_module": "@jupyter-widgets/base",
      "model_module_version": "1.2.0",
      "model_name": "LayoutModel",
      "state": {}
     },
     "fe2f84eace934605978b219bdf55f974": {
      "model_module": "@jupyter-widgets/controls",
      "model_module_version": "1.5.0",
      "model_name": "FloatProgressModel",
      "state": {
       "bar_style": "success",
       "layout": "IPY_MODEL_afdcde7861be4f74b5fc4ad002c18725",
       "max": 48,
       "style": "IPY_MODEL_f0ce9bf10d424be0a04b7032d20c8ef7",
       "value": 48
      }
     }
    },
    "version_major": 2,
    "version_minor": 0
   }
  }
 },
 "nbformat": 4,
 "nbformat_minor": 5
}