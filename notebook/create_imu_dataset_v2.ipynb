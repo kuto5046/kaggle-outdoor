{
 "cells": [
  {
   "cell_type": "markdown",
   "metadata": {},
   "source": [
    "## create dataset \n",
    "\n",
    "v3:delta学習用のデータセットを作成する "
   ]
  },
  {
   "cell_type": "code",
   "execution_count": 1,
   "metadata": {},
   "outputs": [],
   "source": [
    "import pandas as pd\n",
    "import numpy as np\n",
    "import os\n",
    "import glob\n",
    "\n",
    "from tqdm.notebook import tqdm\n",
    "import warnings\n",
    "warnings.filterwarnings('ignore')"
   ]
  },
  {
   "cell_type": "code",
   "execution_count": 2,
   "metadata": {},
   "outputs": [],
   "source": [
    "root_dir = '../input/'"
   ]
  },
  {
   "cell_type": "code",
   "execution_count": 3,
   "metadata": {},
   "outputs": [],
   "source": [
    "import pickle\n",
    "def to_pickle(filename, obj):\n",
    "    with open(filename, mode='wb') as f:\n",
    "        pickle.dump(obj, f)\n",
    "\n",
    "\n",
    "def from_pickle(filename):\n",
    "    with open(filename, mode='rb') as f:\n",
    "        obj = pickle.load(f)\n",
    "    return obj"
   ]
  },
  {
   "cell_type": "markdown",
   "metadata": {},
   "source": [
    "## 2段階目(delta用のデータセット作成)"
   ]
  },
  {
   "cell_type": "code",
   "execution_count": 4,
   "metadata": {},
   "outputs": [],
   "source": [
    "train_df = pd.read_csv(root_dir + 'baseline_locations_train.csv')\n",
    "test_df = pd.read_csv(root_dir + 'baseline_locations_test.csv')"
   ]
  },
  {
   "cell_type": "code",
   "execution_count": 5,
   "metadata": {},
   "outputs": [],
   "source": [
    "input_train_dir = root_dir + 'imu_dataset_v0/train/'\n",
    "train_acc_df = from_pickle(input_train_dir + 'acc.pkl')\n",
    "train_gyro_df = from_pickle(input_train_dir + 'gyro.pkl')\n",
    "train_mag_df = from_pickle(input_train_dir + 'mag.pkl')\n",
    "\n",
    "input_test_dir = root_dir + 'imu_dataset_v0/test/'\n",
    "test_acc_df = from_pickle(input_test_dir + 'acc.pkl')\n",
    "test_gyro_df = from_pickle(input_test_dir + 'gyro.pkl')\n",
    "test_mag_df = from_pickle(input_test_dir + 'mag.pkl')"
   ]
  },
  {
   "cell_type": "code",
   "execution_count": 6,
   "metadata": {},
   "outputs": [],
   "source": [
    "def normalized(df, col_list):\n",
    "    for col in col_list:\n",
    "        df[col] = (df[col] - df[col].mean())/df[col].std()\n",
    "    return df"
   ]
  },
  {
   "cell_type": "code",
   "execution_count": 7,
   "metadata": {},
   "outputs": [],
   "source": [
    "# acc_col_list = ['UncalAccelXMps2','UncalAccelYMps2','UncalAccelZMps2','BiasXMps2','BiasYMps2','BiasZMps2']\n",
    "acc_col_list = ['UncalAccelXMps2','UncalAccelYMps2','UncalAccelZMps2']\n",
    "train_acc_df = normalized(train_acc_df, acc_col_list)\n",
    "test_acc_df = normalized(test_acc_df, acc_col_list)"
   ]
  },
  {
   "cell_type": "code",
   "execution_count": 8,
   "metadata": {},
   "outputs": [],
   "source": [
    "gyro_col_list = ['UncalGyroXRadPerSec','UncalGyroYRadPerSec','UncalGyroZRadPerSec']\n",
    "train_gyro_df = normalized(train_gyro_df, gyro_col_list)\n",
    "test_gyro_df = normalized(test_gyro_df, gyro_col_list)"
   ]
  },
  {
   "cell_type": "code",
   "execution_count": 9,
   "metadata": {},
   "outputs": [],
   "source": [
    "mag_col_list = ['UncalMagXMicroT','UncalMagYMicroT','UncalMagZMicroT']\n",
    "train_mag_df = normalized(train_mag_df, mag_col_list)\n",
    "test_mag_df = normalized(test_mag_df, mag_col_list)"
   ]
  },
  {
   "cell_type": "code",
   "execution_count": 10,
   "metadata": {},
   "outputs": [],
   "source": [
    "def utc2gps(acc_df, mag_df, gyro_df):\n",
    "    acc_df['millisSinceGpsEpoch'] = acc_df['utcTimeMillis'] - 315964800000  # -27 TODO 衛星によってうるう秒を考慮\n",
    "    mag_df['millisSinceGpsEpoch'] = mag_df['utcTimeMillis'] - 315964800000  # -27 TODO 衛星によってうるう秒を考慮\n",
    "    gyro_df['millisSinceGpsEpoch'] = gyro_df['utcTimeMillis'] - 315964800000  # -27 TODO 衛星によってうるう秒を考慮\n",
    "    return acc_df, mag_df, gyro_df"
   ]
  },
  {
   "cell_type": "code",
   "execution_count": 11,
   "metadata": {},
   "outputs": [],
   "source": [
    "train_acc_df, train_mag_df, train_gyro_df = utc2gps(train_acc_df, train_mag_df, train_gyro_df)\n",
    "test_acc_df, test_mag_df, test_gyro_df = utc2gps(test_acc_df, test_mag_df, test_gyro_df)"
   ]
  },
  {
   "cell_type": "code",
   "execution_count": 12,
   "metadata": {},
   "outputs": [],
   "source": [
    "output_train_dir = root_dir + 'imu_dataset_v2/train/'\n",
    "os.makedirs(output_train_dir, exist_ok=True)\n",
    "\n",
    "output_test_dir = root_dir + 'imu_dataset_v2/test/'\n",
    "os.makedirs(output_test_dir, exist_ok=True)"
   ]
  },
  {
   "cell_type": "code",
   "execution_count": 13,
   "metadata": {},
   "outputs": [],
   "source": [
    "NUM_DATA = 100"
   ]
  },
  {
   "cell_type": "code",
   "execution_count": 14,
   "metadata": {},
   "outputs": [],
   "source": [
    "def create_train_imu_dataset(args):\n",
    "    imu_dict = {}\n",
    "    (collection_name, phone_name), target_df = args\n",
    "\n",
    "    acc_df = train_acc_df[(train_acc_df[\"collectionName\"]==collection_name)&(train_acc_df[\"phoneName\"]==phone_name)].sort_values('millisSinceGpsEpoch')\n",
    "    gyro_df = train_gyro_df[(train_gyro_df[\"collectionName\"]==collection_name)&(train_gyro_df[\"phoneName\"]==phone_name)].sort_values('millisSinceGpsEpoch')\n",
    "    mag_df = train_mag_df[(train_mag_df[\"collectionName\"]==collection_name)&(train_mag_df[\"phoneName\"]==phone_name)].sort_values('millisSinceGpsEpoch')\n",
    "    \n",
    "    epoch_list = target_df[\"millisSinceGpsEpoch\"].to_list()\n",
    "    # for i in tqdm(range(len(epoch_list)-1)):\n",
    "    for i in range(len(epoch_list)-1):\n",
    "        epoch_min = epoch_list[i]\n",
    "        epoch_max = epoch_list[i + 1]\n",
    "        \n",
    "        if i==0:\n",
    "            imu_dict[str(epoch_min)] = np.full((9, NUM_DATA), 0)\n",
    "        \n",
    "        target_acc_df = acc_df[(epoch_min <= acc_df['millisSinceGpsEpoch'])&(acc_df['millisSinceGpsEpoch'] < epoch_max)]\n",
    "        target_mag_df = mag_df[(epoch_min <= mag_df['millisSinceGpsEpoch'])&(mag_df['millisSinceGpsEpoch'] < epoch_max)]\n",
    "        target_gyro_df = gyro_df[(epoch_min <= gyro_df['millisSinceGpsEpoch'])&(gyro_df['millisSinceGpsEpoch'] < epoch_max)]\n",
    "\n",
    "        if len(target_acc_df)==0:\n",
    "            target_acc_np = np.full((3, NUM_DATA), 0)\n",
    "        else:\n",
    "            target_acc_df['bin'] = pd.cut(target_acc_df['millisSinceGpsEpoch'], NUM_DATA)\n",
    "            target_acc_df = target_acc_df.groupby('bin').mean().reset_index(drop=True)\n",
    "            target_acc_np = target_acc_df[['UncalAccelXMps2','UncalAccelYMps2','UncalAccelZMps2']].to_numpy().T\n",
    "\n",
    "        if len(target_mag_df)==0:\n",
    "            target_mag_np = np.full((3, NUM_DATA), 0)\n",
    "        else:\n",
    "            target_mag_df['bin'] = pd.cut(target_mag_df['millisSinceGpsEpoch'], NUM_DATA)\n",
    "            target_mag_df = target_mag_df.groupby('bin').mean().reset_index(drop=True)\n",
    "            target_mag_np = target_mag_df[['UncalMagXMicroT','UncalMagYMicroT','UncalMagZMicroT']].to_numpy().T\n",
    "\n",
    "        if len(target_gyro_df)==0:\n",
    "            target_gyro_np = np.full((3, NUM_DATA), 0)\n",
    "        else:\n",
    "            target_gyro_df['bin'] = pd.cut(target_gyro_df['millisSinceGpsEpoch'], NUM_DATA)\n",
    "            target_gyro_df = target_gyro_df.groupby('bin').mean().reset_index(drop=True)\n",
    "            target_gyro_np = target_gyro_df[['UncalGyroXRadPerSec','UncalGyroYRadPerSec','UncalGyroZRadPerSec']].to_numpy().T\n",
    "        \n",
    "        target_np = np.concatenate([target_acc_np, target_mag_np, target_gyro_np], axis=0)\n",
    "        assert target_np.shape == (9,100)\n",
    "        \n",
    "        target_np[np.isnan(target_np)] = 0\n",
    "        imu_dict[str(epoch_max)] = target_np\n",
    "\n",
    "    filename = output_train_dir + f'{collection_name}_{phone_name}.pkl'\n",
    "    to_pickle(filename, imu_dict)\n",
    "    return 0\n"
   ]
  },
  {
   "cell_type": "code",
   "execution_count": 15,
   "metadata": {},
   "outputs": [
    {
     "data": {
      "application/vnd.jupyter.widget-view+json": {
       "model_id": "bb9be0594d4643c4ab6a0cc0edd3b6a8",
       "version_major": 2,
       "version_minor": 0
      },
      "text/plain": [
       "  0%|          | 0/73 [00:00<?, ?it/s]"
      ]
     },
     "metadata": {},
     "output_type": "display_data"
    }
   ],
   "source": [
    "# train\n",
    "import multiprocessing\n",
    "processes = multiprocessing.cpu_count()\n",
    "len_gr = len(train_df.groupby([\"collectionName\", \"phoneName\"]).mean())\n",
    "with multiprocessing.Pool(processes=processes) as pool:\n",
    "    gr = train_df.groupby([\"collectionName\", \"phoneName\"])\n",
    "    zero = pool.imap_unordered(create_train_imu_dataset, gr)\n",
    "    zero = list(tqdm(zero, total=len_gr))"
   ]
  },
  {
   "cell_type": "code",
   "execution_count": 16,
   "metadata": {},
   "outputs": [],
   "source": [
    "def create_test_imu_dataset(args):\n",
    "    imu_dict = {}\n",
    "    (collection_name, phone_name), target_df = args\n",
    "\n",
    "    acc_df = test_acc_df[(test_acc_df[\"collectionName\"]==collection_name)&(test_acc_df[\"phoneName\"]==phone_name)].sort_values('millisSinceGpsEpoch')\n",
    "    gyro_df = test_gyro_df[(test_gyro_df[\"collectionName\"]==collection_name)&(test_gyro_df[\"phoneName\"]==phone_name)].sort_values('millisSinceGpsEpoch')\n",
    "    mag_df = test_mag_df[(test_mag_df[\"collectionName\"]==collection_name)&(test_mag_df[\"phoneName\"]==phone_name)].sort_values('millisSinceGpsEpoch')\n",
    "    \n",
    "    epoch_list = target_df[\"millisSinceGpsEpoch\"].to_list()\n",
    "    # for i in tqdm(range(len(epoch_list)-1)):\n",
    "    for i in range(len(epoch_list)-1):\n",
    "        epoch_min = epoch_list[i]\n",
    "        epoch_max = epoch_list[i + 1]\n",
    "        \n",
    "        if i==0:\n",
    "            imu_dict[str(epoch_min)] = np.full((9, NUM_DATA), 0)\n",
    "        \n",
    "        target_acc_df = acc_df[(epoch_min <= acc_df['millisSinceGpsEpoch'])&(acc_df['millisSinceGpsEpoch'] < epoch_max)]\n",
    "        target_mag_df = mag_df[(epoch_min <= mag_df['millisSinceGpsEpoch'])&(mag_df['millisSinceGpsEpoch'] < epoch_max)]\n",
    "        target_gyro_df = gyro_df[(epoch_min <= gyro_df['millisSinceGpsEpoch'])&(gyro_df['millisSinceGpsEpoch'] < epoch_max)]\n",
    "\n",
    "        if len(target_acc_df)==0:\n",
    "            target_acc_np = np.full((3, NUM_DATA), 0)\n",
    "        else:\n",
    "            target_acc_df['bin'] = pd.cut(target_acc_df['millisSinceGpsEpoch'], NUM_DATA)\n",
    "            target_acc_df = target_acc_df.groupby('bin').mean().reset_index(drop=True)\n",
    "            target_acc_np = target_acc_df[['UncalAccelXMps2','UncalAccelYMps2','UncalAccelZMps2']].to_numpy().T\n",
    "\n",
    "        if len(target_mag_df)==0:\n",
    "            target_mag_np = np.full((3, NUM_DATA), 0)\n",
    "        else:\n",
    "            target_mag_df['bin'] = pd.cut(target_mag_df['millisSinceGpsEpoch'], NUM_DATA)\n",
    "            target_mag_df = target_mag_df.groupby('bin').mean().reset_index(drop=True)\n",
    "            target_mag_np = target_mag_df[['UncalMagXMicroT','UncalMagYMicroT','UncalMagZMicroT']].to_numpy().T\n",
    "\n",
    "        if len(target_gyro_df)==0:\n",
    "            target_gyro_np = np.full((3, NUM_DATA), 0)\n",
    "        else:\n",
    "            target_gyro_df['bin'] = pd.cut(target_gyro_df['millisSinceGpsEpoch'], NUM_DATA)\n",
    "            target_gyro_df = target_gyro_df.groupby('bin').mean().reset_index(drop=True)\n",
    "            target_gyro_np = target_gyro_df[['UncalGyroXRadPerSec','UncalGyroYRadPerSec','UncalGyroZRadPerSec']].to_numpy().T\n",
    "        \n",
    "        target_np = np.concatenate([target_acc_np, target_mag_np, target_gyro_np], axis=0)\n",
    "        assert target_np.shape == (9,100)\n",
    "        \n",
    "        target_np[np.isnan(target_np)] = 0\n",
    "        imu_dict[str(epoch_max)] = target_np\n",
    "\n",
    "    filename = output_test_dir + f'{collection_name}_{phone_name}.pkl'\n",
    "    to_pickle(filename, imu_dict)\n",
    "    return 0\n"
   ]
  },
  {
   "cell_type": "code",
   "execution_count": 17,
   "metadata": {},
   "outputs": [
    {
     "data": {
      "application/vnd.jupyter.widget-view+json": {
       "model_id": "b091355dabd94ffdb46557c9a6ab8daf",
       "version_major": 2,
       "version_minor": 0
      },
      "text/plain": [
       "  0%|          | 0/48 [00:00<?, ?it/s]"
      ]
     },
     "metadata": {},
     "output_type": "display_data"
    },
    {
     "name": "stdout",
     "output_type": "stream",
     "text": [
      "2020-05-15-US-MTV-1 Pixel4\n",
      "59.47429585456848\n",
      "2020-05-15-US-MTV-1 Pixel4XL\n",
      "59.54811334609985\n",
      "2020-05-28-US-MTV-1 Pixel4\n",
      "33.25453495979309\n",
      "2020-05-28-US-MTV-1 Pixel4XL\n",
      "35.652923583984375\n",
      "2020-05-28-US-MTV-2 Pixel4\n",
      "34.13585901260376\n",
      "2020-05-28-US-MTV-2 Pixel4XL\n",
      "34.24012589454651\n",
      "2020-05-28-US-MTV-2 Pixel4XLModded\n",
      "22.36473536491394\n",
      "2020-06-04-US-MTV-2 Pixel4\n",
      "27.191681623458862\n",
      "2020-06-04-US-MTV-2 Pixel4XL\n",
      "27.070902109146118\n",
      "2020-06-04-US-MTV-2 Pixel4XLModded\n",
      "27.178017377853394\n",
      "2020-06-10-US-MTV-1 Pixel4\n",
      "26.720977544784546\n",
      "2020-06-10-US-MTV-1 Pixel4XL\n",
      "26.159168004989624\n",
      "2020-06-10-US-MTV-1 Pixel4XLModded\n",
      "26.803060054779053\n",
      "2020-06-10-US-MTV-2 Pixel4\n",
      "28.661839723587036\n",
      "2020-06-10-US-MTV-2 Pixel4XL\n",
      "28.666541576385498\n",
      "2020-06-10-US-MTV-2 Pixel4XLModded\n",
      "29.214104175567627\n",
      "2020-08-03-US-MTV-2 Mi8\n",
      "4.856034994125366\n",
      "2020-08-03-US-MTV-2 Pixel4\n",
      "4.817697286605835\n",
      "2020-08-03-US-MTV-2 Pixel4XL\n",
      "4.8301050662994385\n",
      "2020-08-13-US-MTV-1 Mi8\n",
      "5.678229331970215\n",
      "2020-08-13-US-MTV-1 Pixel4\n",
      "5.5143961906433105\n",
      "2021-03-16-US-MTV-2 Pixel4Modded\n",
      "30.620373249053955\n",
      "2021-03-16-US-MTV-2 SamsungS20Ultra\n",
      "33.87121105194092\n",
      "2021-03-16-US-RWC-2 Pixel4XL\n",
      "28.969022274017334\n",
      "2021-03-16-US-RWC-2 Pixel5\n",
      "30.51060438156128\n",
      "2021-03-16-US-RWC-2 SamsungS20Ultra\n",
      "29.05745840072632\n",
      "2021-03-25-US-PAO-1 Mi8\n",
      "6.666013717651367\n",
      "2021-03-25-US-PAO-1 Pixel4\n",
      "25.56714940071106\n",
      "2021-03-25-US-PAO-1 Pixel4Modded\n",
      "25.87624216079712\n",
      "2021-03-25-US-PAO-1 Pixel5\n",
      "25.976445198059082\n",
      "2021-03-25-US-PAO-1 SamsungS20Ultra\n",
      "25.991604328155518\n",
      "2021-04-02-US-SJC-1 Pixel4\n",
      "35.16089224815369\n",
      "2021-04-02-US-SJC-1 Pixel5\n",
      "35.116329193115234\n",
      "2021-04-08-US-MTV-1 Pixel4\n",
      "16.14957070350647\n",
      "2021-04-08-US-MTV-1 Pixel4Modded\n",
      "16.055041074752808\n",
      "2021-04-08-US-MTV-1 Pixel5\n",
      "18.808924436569214\n",
      "2021-04-08-US-MTV-1 SamsungS20Ultra\n",
      "16.395482301712036\n",
      "2021-04-21-US-MTV-1 Pixel4\n",
      "21.439208269119263\n",
      "2021-04-21-US-MTV-1 Pixel4Modded\n",
      "21.23950695991516\n",
      "2021-04-22-US-SJC-2 SamsungS20Ultra\n",
      "33.03442692756653\n",
      "2021-04-26-US-SVL-2 SamsungS20Ultra\n",
      "32.830522298812866\n",
      "2021-04-28-US-MTV-2 Pixel4\n",
      "25.97460150718689\n",
      "2021-04-28-US-MTV-2 SamsungS20Ultra\n",
      "26.819656372070312\n",
      "2021-04-29-US-MTV-2 Pixel4\n",
      "25.58305811882019\n",
      "2021-04-29-US-MTV-2 Pixel5\n",
      "26.14135217666626\n",
      "2021-04-29-US-MTV-2 SamsungS20Ultra\n",
      "26.52302312850952\n",
      "2021-04-29-US-SJC-3 Pixel4\n",
      "29.77133798599243\n",
      "2021-04-29-US-SJC-3 SamsungS20Ultra\n",
      "30.64713144302368\n"
     ]
    }
   ],
   "source": [
    "# test\n",
    "import time\n",
    "for (collection_name, phone_name), df in tqdm(test_df.groupby([\"collectionName\", \"phoneName\"])):\n",
    "    print(collection_name, phone_name)\n",
    "    start = time.time()\n",
    "    zero = create_test_imu_dataset(((collection_name, phone_name), df))\n",
    "    elapsed_time = time.time() - start\n",
    "    print(elapsed_time)"
   ]
  },
  {
   "cell_type": "code",
   "execution_count": 18,
   "metadata": {},
   "outputs": [],
   "source": [
    "# # test\n",
    "# import multiprocessing\n",
    "# processes = multiprocessing.cpu_count()\n",
    "# len_gr = len(test_df.groupby([\"collectionName\", \"phoneName\"]).mean())\n",
    "# with multiprocessing.Pool(processes=processes) as pool:\n",
    "#     gr = test_df.groupby([\"collectionName\", \"phoneName\"])\n",
    "#     zero = pool.imap_unordered(create_test_imu_dataset, gr)\n",
    "#     zero = list(tqdm(zero, total=len_gr))"
   ]
  },
  {
   "cell_type": "markdown",
   "metadata": {},
   "source": [
    "### IMUデータを使えなさそうな端末(train)\n",
    "- Mi8すべて\n",
    "- 2020-08-06-US-MTV-2-Pixel4\n",
    "- 2020-08-03-US-MTV-1-Pixel4\n",
    "- 2020-08-06-US-MTV-2-Pixel4XL\n",
    "\n",
    "以下collectionはすべての端末でIMUが使えなそう\n",
    "- 2020-08-03-US-MTV-1\n",
    "- 2020-08-06-US-MTV-2\n",
    "- 2020-07-17-US-MTV-1\n",
    "- 2020-07-17-US-MTV-2\n",
    "ひとまずこれらは放置"
   ]
  }
 ],
 "metadata": {
  "interpreter": {
   "hash": "31f2aee4e71d21fbe5cf8b01ff0e069b9275f58929596ceb00d14d90e3e16cd6"
  },
  "kernelspec": {
   "display_name": "Python 3.8.5 64-bit",
   "name": "python3"
  },
  "language_info": {
   "codemirror_mode": {
    "name": "ipython",
    "version": 3
   },
   "file_extension": ".py",
   "mimetype": "text/x-python",
   "name": "python",
   "nbconvert_exporter": "python",
   "pygments_lexer": "ipython3",
   "version": "3.8.5"
  },
  "orig_nbformat": 3
 },
 "nbformat": 4,
 "nbformat_minor": 5
}