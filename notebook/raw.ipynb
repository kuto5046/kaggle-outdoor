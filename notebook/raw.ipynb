{
 "metadata": {
  "language_info": {
   "codemirror_mode": {
    "name": "ipython",
    "version": 3
   },
   "file_extension": ".py",
   "mimetype": "text/x-python",
   "name": "python",
   "nbconvert_exporter": "python",
   "pygments_lexer": "ipython3",
   "version": "3.8.5"
  },
  "orig_nbformat": 4,
  "kernelspec": {
   "name": "python3",
   "display_name": "Python 3.8.5 64-bit"
  },
  "interpreter": {
   "hash": "31f2aee4e71d21fbe5cf8b01ff0e069b9275f58929596ceb00d14d90e3e16cd6"
  }
 },
 "nbformat": 4,
 "nbformat_minor": 2,
 "cells": [
  {
   "cell_type": "code",
   "execution_count": 2,
   "source": [
    "import pandas as pd\n",
    "import numpy as np\n",
    "import warnings \n",
    "import matplotlib.pyplot as plt\n",
    "import seaborn as sns\n",
    "warnings.simplefilter('ignore')"
   ],
   "outputs": [],
   "metadata": {}
  },
  {
   "cell_type": "code",
   "execution_count": 1,
   "source": [
    "def gnss_log_to_dataframes(path):\n",
    "    '''Load GNSS Log'''\n",
    "    print('Loading ' + path, flush = True)\n",
    "    gnss_section_names = {'Raw', 'UncalAccel', 'UncalGyro', 'UncalMag', 'Fix', 'Status', 'OrientationDeg'}\n",
    "    with open(path) as f_open:\n",
    "        datalines = f_open.readlines()\n",
    "\n",
    "    datas = {k: [] for k in gnss_section_names}\n",
    "    gnss_map = {k: [] for k in gnss_section_names}\n",
    "    for dataline in datalines:\n",
    "        is_header = dataline.startswith('#')\n",
    "        dataline = dataline.strip('#').strip().split(',')\n",
    "        # skip over notes, version numbers, etc\n",
    "        if is_header and dataline[0] in gnss_section_names:\n",
    "            gnss_map[dataline[0]] = dataline[1:]\n",
    "        elif not is_header:\n",
    "            datas[dataline[0]].append(dataline[1:])\n",
    "\n",
    "    results = dict()\n",
    "    for k, v in datas.items():\n",
    "        results[k] = pd.DataFrame(v, columns=gnss_map[k])\n",
    "    # pandas doesn't properly infer types from these lists by default\n",
    "    for k, df in results.items():\n",
    "        for col in df.columns:\n",
    "            if col == 'CodeType':\n",
    "                continue\n",
    "            results[k][col] = pd.to_numeric(results[k][col])\n",
    "\n",
    "    return results"
   ],
   "outputs": [],
   "metadata": {}
  },
  {
   "cell_type": "code",
   "execution_count": 3,
   "source": [
    "# apply tips1\n",
    "# _derivedのmillisSinceGpsEpochが次のepoch(rawの)を示しているので元に戻す\n",
    "def apply_tips1(raw_df, derived_df):\n",
    "    # Create a new column in df_raw that corresponds to derivedの['millisSinceGpsEpoch']\n",
    "    raw_df['millisSinceGpsEpoch'] = np.floor((raw_df['TimeNanos'] - raw_df['FullBiasNanos']) / 1000000.0).astype(int)\n",
    "        \n",
    "    # Change each value in df_derived['MillisSinceGpsEpoch'] to be the prior epoch.\n",
    "    raw_timestamps = raw_df['millisSinceGpsEpoch'].unique()\n",
    "    derived_timestamps = derived_df['millisSinceGpsEpoch'].unique()\n",
    "\n",
    "    # The timestamps in derived are one epoch ahead. We need to map each epoch\n",
    "    # in derived to the prior one (in Raw).\n",
    "    indexes = np.searchsorted(raw_timestamps, derived_timestamps)\n",
    "    from_t_to_fix_derived = dict(zip(derived_timestamps, raw_timestamps[indexes-1]))\n",
    "    derived_df['millisSinceGpsEpoch'] = np.array(list(map(lambda v: from_t_to_fix_derived[v], derived_df['millisSinceGpsEpoch'])))\n",
    "    return derived_df"
   ],
   "outputs": [],
   "metadata": {}
  },
  {
   "cell_type": "code",
   "execution_count": 4,
   "source": [
    "# apply tips2\n",
    "# Compute signal_type in df_raw.\n",
    "# Map from constellation id to frequencies and signals.\n",
    "CONSTEL_FREQ_TABLE = {\n",
    "    0: {'UNKNOWN': (0, 999999999999)},\n",
    "    1: {\n",
    "        'GPS_L1': (1563000000, 1587000000),\n",
    "        'GPS_L2': (1215000000, 1240000000),\n",
    "        'GPS_L5': (1164000000, 1189000000)\n",
    "    },\n",
    "    3: {\n",
    "        'GLO_G1': (1593000000, 1610000000),\n",
    "        'GLO_G2': (1237000000, 1254000000)\n",
    "    },\n",
    "    4: {\n",
    "        'QZS_J1': (1563000000, 1587000000),\n",
    "        'QZS_J2': (1215000000, 1240000000),\n",
    "        'QZS_J5': (1164000000, 1189000000)\n",
    "    },\n",
    "    5: {\n",
    "        'BDS_B1C': (1569000000, 1583000000),\n",
    "        'BDS_B1I': (1553000000, 1568990000),\n",
    "        'BDS_B2A': (1164000000, 1189000000),\n",
    "        'BDS_B2B': (1189000000, 1225000000)\n",
    "    },\n",
    "    6: {\n",
    "        'GAL_E1': (1559000000, 1591000000),\n",
    "        'GAL_E5A': (1164000000, 1189000000),\n",
    "        'GAL_E5B': (1189000000, 1218000000),\n",
    "        'GAL_E6': (1258000000, 1300000000)\n",
    "    },\n",
    "    7: {\n",
    "        'IRN_S': (2472000000, 2512000000),\n",
    "        'IRN_L5': (1164000000, 1189000000)\n",
    "    },\n",
    "}\n",
    "\n",
    "def SignalTypeFromConstellationAndFequency(constel, freq_hz):\n",
    "  'Returns the signal type as a string for the given constellation and frequency.'\n",
    "  freqs = CONSTEL_FREQ_TABLE.get(constel, {})\n",
    "  for id_freq_range in freqs.items():\n",
    "    rng = id_freq_range[1]\n",
    "    if rng[0] <= freq_hz <= rng[1]:\n",
    "      return id_freq_range[0]\n",
    "  return 'UNKNOWN'\n",
    "\n",
    "# gnsslogとderivedのsvidを一致させる\n",
    "def apply_tips2(raw_df):\n",
    "    # Fix QZS Svids issue. \n",
    "\n",
    "    # The SVID of any QZS sat in derived may be changed. Since it may be a many to one relationship, we'll need to adjust the values in Raw.\n",
    "    new_to_old = {1:(183, 193), 2:(184, 194, 196), 3:(187, 189, 197, 199), 4:(185, 195, 200)}\n",
    "    # Maps original svid to new svid for only ConstellationType=4.\n",
    "    old_to_new={}\n",
    "    for new_svid, old_svids in new_to_old.items():\n",
    "        for s in old_svids:\n",
    "            old_to_new[s] = new_svid\n",
    "        raw_df['Svid'] = raw_df.apply(lambda r: old_to_new.get(r.Svid, r.Svid) if r.ConstellationType == 4 else r.Svid, axis=1)\n",
    "    return raw_df\n",
    "\n",
    "# derivedにはCarrierFrequencyHzがないのでsignaltypeを追加\n",
    "def apply_tips3(raw_df):\n",
    "\n",
    "    signal_types = itertools.chain(*[c.keys() for c in CONSTEL_FREQ_TABLE.values()])\n",
    "    sig_type_cat = pd.api.types.CategoricalDtype(categories=signal_types)\n",
    "    raw_df['SignalType'] = raw_df.apply(lambda r: SignalTypeFromConstellationAndFequency(r.ConstellationType, r.CarrierFrequencyHz), axis=1).astype(sig_type_cat)\n",
    "    return raw_df"
   ],
   "outputs": [],
   "metadata": {}
  },
  {
   "cell_type": "code",
   "execution_count": 5,
   "source": [
    "# apply tips5\n",
    "# derivedの重複している行を削除\n",
    "def apply_tips5(derived_df):\n",
    "    delta_millis = derived_df['millisSinceGpsEpoch'] - derived_df['receivedSvTimeInGpsNanos'] / 1e6\n",
    "    where_good_signals = (delta_millis > 0) & (delta_millis < 300)\n",
    "    return derived_df[where_good_signals]"
   ],
   "outputs": [],
   "metadata": {}
  },
  {
   "cell_type": "code",
   "execution_count": 6,
   "source": [
    "from pathlib import Path\n",
    "root_dir = Path('../input')\n",
    "data_dir = root_dir/'google-smartphone-decimeter-challenge'\n",
    "train_df = pd.read_csv(data_dir / \"baseline_locations_train.csv\")"
   ],
   "outputs": [],
   "metadata": {}
  },
  {
   "cell_type": "code",
   "execution_count": 7,
   "source": [
    "from tqdm.notebook import tqdm\n",
    "cname = '2021-04-22-US-SJC-1'\n",
    "pname = 'SamsungS20Ultra'\n",
    "gnss_df = gnss_log_to_dataframes(str(data_dir / \"train\" / cname / pname / f'{pname}_GnssLog.txt'))\n",
    "raw_df = gnss_df['Raw']\n",
    "derived_df = pd.read_csv(data_dir/\"train\"/cname/pname/f'{pname}_derived.csv')\n",
    "\n",
    "# pseudorangeの修正\n",
    "derived_df['correctedPrM'] = derived_df.apply(lambda r: r.rawPrM + r.satClkBiasM - r.isrbM - r.ionoDelayM - r.tropoDelayM,axis=1)\n",
    "# raw_df = apply_tips2(raw_df)\n",
    "# raw_df = apply_tips3(raw_df)\n",
    "derived_df = apply_tips1(raw_df, derived_df)\n",
    "derived_df = apply_tips5(derived_df)"
   ],
   "outputs": [
    {
     "output_type": "stream",
     "name": "stdout",
     "text": [
      "Loading ../input/google-smartphone-decimeter-challenge/train/2021-04-22-US-SJC-1/SamsungS20Ultra/SamsungS20Ultra_GnssLog.txt\n"
     ]
    }
   ],
   "metadata": {}
  },
  {
   "cell_type": "code",
   "execution_count": 8,
   "source": [
    "cname, pname"
   ],
   "outputs": [
    {
     "output_type": "execute_result",
     "data": {
      "text/plain": [
       "('2021-04-22-US-SJC-1', 'SamsungS20Ultra')"
      ]
     },
     "metadata": {},
     "execution_count": 8
    }
   ],
   "metadata": {}
  },
  {
   "cell_type": "code",
   "execution_count": 9,
   "metadata": {},
   "outputs": [
    {
     "output_type": "stream",
     "name": "stdout",
     "text": [
      "../google-sdc-corrections/osr/json/202104222100-202104222300.json\n"
     ]
    }
   ],
   "source": [
    "import glob\n",
    "import re\n",
    "target_date = int(re.sub('-', '', cname)[:8])\n",
    "target_date\n",
    "\n",
    "if os.path.exists(f\"../google-sdc-corrections/osr/json/{cname}.json\"):\n",
    "    osr_df = pd.read_json(f\"../google-sdc-corrections/osr/json/{cname}.json\", lines=True)\n",
    "else:\n",
    "    json_list = glob.glob(\"../google-sdc-corrections/osr/json/*.json\")\n",
    "    json_list = [p for p in json_list if len(p.split('-'))==4]\n",
    "    file_list = []\n",
    "    for file_path in json_list:\n",
    "        file_name = file_path.split('/')[-1] \n",
    "        start_date = int(file_name[:8])\n",
    "        end_date = int(file_name[13:21])\n",
    "\n",
    "        # TODO 1こ以上ある場合に対処\n",
    "        if (start_date <= target_date)&(target_date<=end_date):\n",
    "            print(file_path)\n",
    "            osr_df = pd.read_json(file_path, lines=True)\n",
    "osr_df.drop([\"payload\"], axis=1, inplace=True)"
   ]
  },
  {
   "cell_type": "code",
   "execution_count": 10,
   "source": [
    "def decode_osr(df):\n",
    "    # MSG_OBS\n",
    "    obs = df[df[\"msg_type\"]==74].dropna(axis=1)\n",
    "    header = pd.json_normalize(obs[\"header\"], sep=\"_\")\n",
    "    obs = pd.concat([obs.drop([\"header\"], axis=1).reset_index(drop=True), header], axis=1)\n",
    "\n",
    "    # MSG_BASE_POS_ECEF\n",
    "    # 基地局のECEF座標\n",
    "    base_pos = df[df[\"msg_type\"]==72].dropna(axis=1)\n",
    "    # x = base_pos[\"x\"].dropna().unique()\n",
    "    # y = base_pos[\"y\"].dropna().unique()\n",
    "    # z = base_pos[\"z\"].dropna().unique()\n",
    "\n",
    "    # MSG_EPHEMERIS_GPS\n",
    "    # GPS衛星のエフェメリスデータ\n",
    "    gps = osr_df[osr_df[\"msg_type\"]==138].dropna(axis=1)\n",
    "    common = pd.json_normalize(gps[\"common\"], sep=\"_\")\n",
    "    toc = pd.json_normalize(gps[\"toc\"], sep=\"_\")\n",
    "    gps = pd.concat([gps.drop([\"common\"], axis=1).reset_index(drop=True), common], axis=1)\n",
    "    gps = pd.concat([gps.drop([\"toc\"], axis=1).reset_index(drop=True), toc], axis=1)\n",
    "    gps = gps.drop_duplicates().reset_index(drop=True)\n",
    "\n",
    "    # MSG_EPHEMERIS_BDS\n",
    "    bds = osr_df[osr_df[\"msg_type\"]==137].dropna(axis=1)\n",
    "    common = pd.json_normalize(bds[\"common\"], sep=\"_\")\n",
    "    toc = pd.json_normalize(bds[\"toc\"], sep=\"_\")\n",
    "    bds = pd.concat([bds.drop([\"common\"], axis=1).reset_index(drop=True), common], axis=1)\n",
    "    bds = pd.concat([bds.drop([\"toc\"], axis=1).reset_index(drop=True), toc], axis=1)\n",
    "    bds = bds.drop_duplicates().reset_index(drop=True)\n",
    "\n",
    "    # MSG_EPHEMERIS_GAL\n",
    "    gal = osr_df[osr_df[\"msg_type\"]==141].dropna(axis=1)\n",
    "    common = pd.json_normalize(gal[\"common\"], sep=\"_\")\n",
    "    toc = pd.json_normalize(gal[\"toc\"], sep=\"_\")\n",
    "    gal = pd.concat([gal.drop([\"common\"], axis=1).reset_index(drop=True), common], axis=1)\n",
    "    gal = pd.concat([gal.drop([\"toc\"], axis=1).reset_index(drop=True), toc], axis=1)\n",
    "    gal = gal.drop_duplicates().reset_index(drop=True)\n",
    "\n",
    "    # MSG_EPHEMERIS_GLO\n",
    "    glo = osr_df[osr_df[\"msg_type\"]==139].dropna(axis=1)\n",
    "    common = pd.json_normalize(glo[\"common\"], sep=\"_\")\n",
    "    glo = pd.concat([glo.drop([\"common\"], axis=1).reset_index(drop=True), common], axis=1)\n",
    "    glo[\"xpos\"] = glo[\"pos\"].apply(lambda x: x[0])\n",
    "    glo[\"ypos\"] = glo[\"pos\"].apply(lambda x: x[1])\n",
    "    glo[\"zpos\"] = glo[\"pos\"].apply(lambda x: x[2])\n",
    "    glo[\"xvel\"] = glo[\"vel\"].apply(lambda x: x[0])\n",
    "    glo[\"yvel\"] = glo[\"vel\"].apply(lambda x: x[1])\n",
    "    glo[\"zvel\"] = glo[\"vel\"].apply(lambda x: x[2])\n",
    "    glo[\"xacc\"] = glo[\"acc\"].apply(lambda x: x[0])\n",
    "    glo[\"yacc\"] = glo[\"acc\"].apply(lambda x: x[1])\n",
    "    glo[\"zacc\"] = glo[\"acc\"].apply(lambda x: x[2])\n",
    "    glo.drop([\"pos\", \"vel\", \"acc\"], axis=1, inplace=True)\n",
    "    glo = glo.drop_duplicates().reset_index(drop=True)\n",
    "    # MSG_OSR\n",
    "    osr = osr_df[osr_df[\"msg_type\"]==1600].dropna(axis=1)\n",
    "\n",
    "    return obs, base_pos, gps, bds, gal, glo, osr"
   ],
   "outputs": [],
   "metadata": {}
  },
  {
   "cell_type": "code",
   "execution_count": 11,
   "source": [
    "derived_df['signalType'].unique()"
   ],
   "outputs": [
    {
     "output_type": "execute_result",
     "data": {
      "text/plain": [
       "array(['GAL_E1', 'GAL_E5A', 'BDS_B1I', 'GPS_L1', 'GLO_G1', 'GPS_L5',\n",
       "       'QZS_J1'], dtype=object)"
      ]
     },
     "metadata": {},
     "execution_count": 11
    }
   ],
   "metadata": {}
  },
  {
   "cell_type": "code",
   "execution_count": 12,
   "source": [
    "obs, base_pos, gps, bds, gal, glo, osr = decode_osr(osr_df)"
   ],
   "outputs": [],
   "metadata": {}
  },
  {
   "cell_type": "code",
   "execution_count": 13,
   "metadata": {},
   "outputs": [
    {
     "output_type": "execute_result",
     "data": {
      "text/plain": [
       "   constellationType constellationName\n",
       "0                  0           UNKNOWN\n",
       "1                  1               GPS\n",
       "2                  2              SBAS\n",
       "3                  3           GLONASS\n",
       "4                  4              QZSS\n",
       "5                  5            BEIDOU\n",
       "6                  6           GALILEO\n",
       "7                  7             IRNSS"
      ],
      "text/html": "<div>\n<style scoped>\n    .dataframe tbody tr th:only-of-type {\n        vertical-align: middle;\n    }\n\n    .dataframe tbody tr th {\n        vertical-align: top;\n    }\n\n    .dataframe thead th {\n        text-align: right;\n    }\n</style>\n<table border=\"1\" class=\"dataframe\">\n  <thead>\n    <tr style=\"text-align: right;\">\n      <th></th>\n      <th>constellationType</th>\n      <th>constellationName</th>\n    </tr>\n  </thead>\n  <tbody>\n    <tr>\n      <th>0</th>\n      <td>0</td>\n      <td>UNKNOWN</td>\n    </tr>\n    <tr>\n      <th>1</th>\n      <td>1</td>\n      <td>GPS</td>\n    </tr>\n    <tr>\n      <th>2</th>\n      <td>2</td>\n      <td>SBAS</td>\n    </tr>\n    <tr>\n      <th>3</th>\n      <td>3</td>\n      <td>GLONASS</td>\n    </tr>\n    <tr>\n      <th>4</th>\n      <td>4</td>\n      <td>QZSS</td>\n    </tr>\n    <tr>\n      <th>5</th>\n      <td>5</td>\n      <td>BEIDOU</td>\n    </tr>\n    <tr>\n      <th>6</th>\n      <td>6</td>\n      <td>GALILEO</td>\n    </tr>\n    <tr>\n      <th>7</th>\n      <td>7</td>\n      <td>IRNSS</td>\n    </tr>\n  </tbody>\n</table>\n</div>"
     },
     "metadata": {},
     "execution_count": 13
    }
   ],
   "source": [
    "const_type = pd.read_csv(data_dir / \"metadata/constellation_type_mapping.csv\")\n",
    "const_type"
   ]
  },
  {
   "cell_type": "code",
   "execution_count": 14,
   "metadata": {},
   "outputs": [
    {
     "output_type": "execute_result",
     "data": {
      "text/plain": [
       "array([6, 5, 1, 3, 4])"
      ]
     },
     "metadata": {},
     "execution_count": 14
    }
   ],
   "source": [
    "derived_df[\"constellationType\"].unique()"
   ]
  },
  {
   "cell_type": "code",
   "execution_count": 15,
   "source": [
    "from math import *\n",
    "# import kepler\n",
    "\n",
    "def newton_kepler(meanE, e):\n",
    "    E = 2 * meanE\n",
    "    eps = 1e-10\n",
    "    while True:\n",
    "        E -= (meanE - E + e * np.sin(E)) / (e * np.cos(E) - 1)\n",
    "        if abs(meanE - E + e * np.sin(E)) < eps:\n",
    "            return E\n",
    "\n",
    "def calc_sat_position(e, t, transmission_t):\n",
    "    \"\"\"\n",
    "    t:送信時のGPSシステムの時刻(GPS時刻)をトランジットタイム（距離／光速）で補正したもの。\n",
    "    tk:時刻tとエポックタイムtoeの間の実際の合計時間差であり、週の初めまたは終わりの交差を考慮しなければならない。\n",
    "    tk = t - toe\n",
    "    if tk > 302,400:\n",
    "        tk - 604,800\n",
    "    elif tk < -302,400:\n",
    "        tk + 604,800\n",
    "    \"\"\"\n",
    "    # (1)平均角速度nの計算\n",
    "    mu = 3.986005*10**14 # (m3/s2) WGS 84 value of the earth's gravitational constant forGPS user\n",
    "    A = e.sqrta**2  # Semi-major axis\n",
    "    n0 = sqrt((mu/(A**3))) # Computed mean motion (rad/sec)\n",
    "    n = n0 + e.dn  # Mean anomaly\n",
    "\n",
    "    # (2)平均近点離角Mの計算\n",
    "    # エフェメリスの基準時刻teにおける平均近点離角M0を観測時tにおける平均近点離角Mに変換\n",
    "    # tは衛星から信号が送信された時刻\n",
    "    # toeは基準時刻\n",
    "    toe = e.toe_tow + (e.toe_wn * 3600*24*7)\n",
    "    tk = (t - toe) - transmission_t  # Time from ephemeris reference epoch\n",
    "\n",
    "    if tk > 302400:\n",
    "        tk -= 604800\n",
    "    elif tk < -302400:\n",
    "        tk += 604800\n",
    "\n",
    "    M = e.m0 + n*tk # Mean anomaly\n",
    "\n",
    "    # (3)Mean anomaly Eの計算\n",
    "    # 解きたい方程式 Mk = Ek - sample.ecc*sin(Ek)\n",
    "    # E = kepler.solve(M, e.ecc)\n",
    "    # E, cos_true_anomaly, sin_true_anomaly = kepler.kepler(M, e.ecc)\n",
    "    E = newton_kepler(M, e.ecc)\n",
    "\n",
    "    # (4) True Anomaly vの計算\n",
    "    v = atan((sqrt(1-e.ecc**2) * sin(E)) / (cos(E) - e.ecc))\n",
    "\n",
    "    # (5)摂動補正計算\n",
    "    fai = v + e.w # Argument of Latitude\n",
    "\n",
    "    # Second Harmonic Perturbations\n",
    "    u = fai + e.c_us*sin(2*fai) + e.c_uc*cos(2*fai)  # 衛星飛行方向\n",
    "    r = A*(1-(e.ecc*cos(E))) + e.c_rs*sin(2*fai) + e.c_rc*cos(2*fai)  # 動径方向\n",
    "    i = e.inc + e.inc_dot*tk + e.c_is*sin(2*fai) + e.c_ic*cos(2*fai)  # 軌道面に直角な方向\n",
    "\n",
    "    # 2次元位置\n",
    "    x_ = r*cos(u)\n",
    "    y_ = r*sin(u)\n",
    "\n",
    "    # 補正された昇交点赤経\n",
    "    omega_dot_e = 7.2921151467*(10**-5)  # (rad/s) WGS 84 value of the earth's rotation rate\n",
    "    omega = e.omega0 + (e.omegadot - omega_dot_e)*tk - (omega_dot_e*e.toe_tow)\n",
    "\n",
    "    # ３次元位置\n",
    "    x = x_*cos(omega) - y_*cos(i)*sin(omega)\n",
    "    y = x_*sin(omega) + y_*cos(i)*cos(omega)\n",
    "    z = y_*sin(i)\n",
    "    return x,y,z"
   ],
   "outputs": [],
   "metadata": {}
  },
  {
   "source": [
    "## GPS"
   ],
   "cell_type": "markdown",
   "metadata": {}
  },
  {
   "cell_type": "code",
   "execution_count": 16,
   "metadata": {
    "tags": []
   },
   "outputs": [],
   "source": [
    "# import warnings\n",
    "# from tqdm.notebook import tqdm\n",
    "# warnings.simplefilter('ignore')\n",
    "\n",
    "# # GPS:1 / GLONASS:3 / GALILEO:6\n",
    "# # GPS衛星のもののみを取り出す\n",
    "# target_derived_df = derived_df[derived_df['constellationType'] == 1]\n",
    "# target_derived_df['correctedPrM'] = target_derived_df.apply(lambda r: r.rawPrM + r.satClkBiasM - r.isrbM - r.ionoDelayM - r.tropoDelayM,axis=1)\n",
    "# output_df = pd.DataFrame()\n",
    "\n",
    "# # 衛星ID, 時刻ごとに衛星位置を求める\n",
    "# gr = target_derived_df.groupby([\"millisSinceGpsEpoch\", \"svid\"])\n",
    "# for (epoch, svid), df in tqdm(gr, total=len(gr)):\n",
    "#     # L1とL5の2つある場合もある\n",
    "#     # assert len(df) == 1\n",
    "#     # TODO 良いかはわからないが複数のデータがある場合1つだけ取り出している\n",
    "#     df = df.iloc[0]  \n",
    "\n",
    "#     # 観測時刻(単位:s)\n",
    "#     t = epoch / 1000  # 衛星位置を知りたい時刻(s)\n",
    "    \n",
    "#     # 受信->送信に補正する用\n",
    "#     # 時刻が受信時のものであるためそれを補正するために擬似距離/光速で補正\n",
    "#     pseudorange = df['correctedPrM']\n",
    "#     c = 299_792_458  # 光速\n",
    "#     transmission_t = pseudorange / c\n",
    "\n",
    "#     # gpsデータは衛星ごとに1つのよう(assertが通れば)\n",
    "#     ephemeris = gps[(gps['sid_sat']==svid)].drop_duplicates().reset_index(drop=True)\n",
    "#     assert len(ephemeris)==1 \n",
    "#     ephemeris = ephemeris.loc[0]\n",
    "#     x,y,z = calc_sat_position(ephemeris, t, transmission_t)\n",
    "    \n",
    "#     df['x'] = x\n",
    "#     df['y'] = y\n",
    "#     df['z'] = z\n",
    "\n",
    "#     if np.abs(df[\"x\"] - df[\"xSatPosM\"]) > 100:\n",
    "#         df['x'] = -x\n",
    "#         df['y'] = -y\n",
    "#         df['z'] = -z\n",
    "#     output_df = pd.concat([output_df, pd.DataFrame(df).T])"
   ]
  },
  {
   "cell_type": "code",
   "execution_count": 17,
   "metadata": {},
   "outputs": [],
   "source": [
    "# import seaborn as sns\n",
    "# import matplotlib.pyplot as plt\n",
    "# fig = plt.figure(figsize=(6,6))\n",
    "# ax = fig.add_subplot(111)\n",
    "# sns.scatterplot(x='xSatPosM',y='ySatPosM', data=output_df, alpha=0.5, color='red', ax=ax, label='baseline')\n",
    "# sns.scatterplot(x='x',y='y', data=output_df, alpha=0.5, ax=ax, color='blue', label='our')\n",
    "# plt.legend()"
   ]
  },
  {
   "cell_type": "code",
   "execution_count": 18,
   "source": [
    "# sns.scatterplot(x='zSatPosM',y='z', hue='svid', data=output_df)"
   ],
   "outputs": [],
   "metadata": {}
  },
  {
   "source": [
    "## GLONASS"
   ],
   "cell_type": "markdown",
   "metadata": {}
  },
  {
   "cell_type": "code",
   "execution_count": 19,
   "metadata": {},
   "outputs": [],
   "source": [
    "# http://archive.sokugikyo.or.jp/pdf/apa76_2000_08/apa76010008.pdf\n",
    "def PZ90toWGS84(row):\n",
    "    convert_matrix = [[1, -1.6*10**-6, 0],\n",
    "                      [1.6*10**-6, 1, 0],\n",
    "                      [0, 0, 1]]\n",
    "    M = np.dot(convert_matrix, [[row[\"xpos\"]],[row[\"ypos\"]],[row[\"zpos\"]]])\n",
    "    row[\"x\"] = M[0][0]\n",
    "    row[\"y\"] = M[1][0]\n",
    "    row[\"z\"] = M[2][0]\n",
    "    return row"
   ]
  },
  {
   "cell_type": "code",
   "execution_count": 20,
   "metadata": {},
   "outputs": [],
   "source": [
    "# # GPS:1 / GLONASS:3 / GALILEO:6\n",
    "# target_derived_df = derived_df[derived_df['constellationType'] == 3]\n",
    "# target_derived_df['correctedPrM'] = target_derived_df.apply(lambda r: r.rawPrM + r.satClkBiasM - r.isrbM - r.ionoDelayM - r.tropoDelayM,axis=1)\n",
    "# output_df = pd.DataFrame()\n",
    "# gr = target_derived_df.groupby([\"svid\"])\n",
    "# for svid, df in tqdm(gr, total=len(gr)):\n",
    "#     # svidが19のものは前後のデータがないので補間ができない\n",
    "#     # collectionのものではなく長期間のもので行ったほうがいい?\n",
    "#     # ms -> s\n",
    "#     df = df.sort_values(\"millisSinceGpsEpoch\").reset_index(drop=True)\n",
    "#     df[\"sSinceGpsEpoch\"] = (df[\"millisSinceGpsEpoch\"]/1000).astype(int)\n",
    "\n",
    "#     # 対象の衛星のデータのみ取得\n",
    "#     e = glo[glo['sid_sat']==svid].drop_duplicates().reset_index(drop=True) \n",
    "#     # assert len(e) < 1\n",
    "#     # towからepochに変換\n",
    "#     e[\"sSinceGpsEpoch\"] = e.toe_tow + (e.toe_wn * 3600*24*7)\n",
    "\n",
    "#     # GLONASSは30minごとの衛星位置データを持つ\n",
    "#     # 線形補間でderivedに存在する時刻の衛星位置を算出したい\n",
    "#     _df = pd.concat([e[[\"xpos\", \"ypos\", \"zpos\", \"sSinceGpsEpoch\"]], df[[\"millisSinceGpsEpoch\", \"sSinceGpsEpoch\"]]], axis=0).sort_values(\"sSinceGpsEpoch\")\n",
    "#     _df[\"time\"] = pd.to_datetime(_df[\"sSinceGpsEpoch\"])\n",
    "#     _df = _df.set_index(\"time\") \n",
    "#     _df = _df.interpolate(limit_direction=\"both\",method='time').reset_index(drop=True)\n",
    "#     df = df.merge(_df[[\"millisSinceGpsEpoch\", \"xpos\", \"ypos\", \"zpos\"]], on=\"millisSinceGpsEpoch\")\n",
    "\n",
    "#     df = df.apply(PZ90toWGS84, axis=1)\n",
    "#     output_df = pd.concat([output_df, df])"
   ]
  },
  {
   "cell_type": "code",
   "execution_count": 21,
   "metadata": {},
   "outputs": [],
   "source": [
    "# fig = plt.figure(figsize=(6,6))\n",
    "# ax = fig.add_subplot()\n",
    "# sns.scatterplot(x='xSatPosM',y='ySatPosM', data=output_df, ax=ax, label='baseline')\n",
    "# sns.scatterplot(x='xpos',y='ypos', data=output_df, ax=ax, label='our')\n",
    "# plt.legend()"
   ]
  },
  {
   "cell_type": "code",
   "execution_count": 22,
   "metadata": {},
   "outputs": [],
   "source": [
    "# plt.figure(figsize=(6,6))\n",
    "# sns.scatterplot(x='zSatPosM',y='zpos', hue='svid', data=output_df)"
   ]
  },
  {
   "source": [
    "## BDS"
   ],
   "cell_type": "markdown",
   "metadata": {}
  },
  {
   "cell_type": "code",
   "execution_count": 23,
   "metadata": {},
   "outputs": [],
   "source": [
    "# import warnings\n",
    "# from tqdm.notebook import tqdm\n",
    "# warnings.simplefilter('ignore')\n",
    "\n",
    "# # GPS:1 / GLONASS:3 / GALILEO:6\n",
    "# # GPS衛星のもののみを取り出す\n",
    "# target_derived_df = derived_df[derived_df['constellationType'] == 5]\n",
    "# target_derived_df['correctedPrM'] = target_derived_df.apply(lambda r: r.rawPrM + r.satClkBiasM - r.isrbM - r.ionoDelayM - r.tropoDelayM,axis=1)\n",
    "# output_df = pd.DataFrame()\n",
    "\n",
    "# # 衛星ID, 時刻ごとに衛星位置を求める\n",
    "# gr = target_derived_df.groupby([\"millisSinceGpsEpoch\", \"svid\"])\n",
    "# for (epoch, svid), df in tqdm(gr, total=len(gr)):\n",
    "#     # L1とL5の2つある場合もある\n",
    "#     # assert len(df) == 1\n",
    "#     # TODO 良いかはわからないが複数のデータがある場合1つだけ取り出している\n",
    "#     df = df.iloc[0]  \n",
    "\n",
    "#     # 観測時刻(単位:s)\n",
    "#     t = epoch / 1000  # 衛星位置を知りたい時刻(s)\n",
    "    \n",
    "#     # 受信->送信に補正する用\n",
    "#     # 時刻が受信時のものであるためそれを補正するために擬似距離/光速で補正\n",
    "#     pseudorange = df['correctedPrM']\n",
    "#     c = 299_792_458  # 光速\n",
    "#     transmission_t = pseudorange / c\n",
    "\n",
    "#     if svid in list(bds['sid_sat'].unique()):\n",
    "#         # gpsデータは衛星ごとに1つのよう(assertが通れば)\n",
    "#         ephemeris = bds[(bds['sid_sat']==svid)].drop_duplicates().reset_index(drop=True)\n",
    "    \n",
    "#         ephemeris = ephemeris.iloc[0]\n",
    "#         x,y,z = calc_sat_position(ephemeris, t, transmission_t)\n",
    "        \n",
    "#         df['x'] = x\n",
    "#         df['y'] = y\n",
    "#         df['z'] = z\n",
    "\n",
    "#         if np.abs(df[\"x\"] - df[\"xSatPosM\"]) > 100:\n",
    "#             df['x'] = -x\n",
    "#             df['y'] = -y\n",
    "#             df['z'] = -z\n",
    "#         if \n",
    "#     else:\n",
    "#         df['x'] = df['xSatPosM']\n",
    "#         df['y'] = df['ySatPosM']\n",
    "#         df['z'] = df['zSatPosM']\n",
    "#     output_df = pd.concat([output_df, pd.DataFrame(df).T])"
   ]
  },
  {
   "cell_type": "code",
   "execution_count": 24,
   "metadata": {},
   "outputs": [],
   "source": [
    "# (output_df[\"xSatPosM\"] - output_df[\"x\"]).hist()"
   ]
  },
  {
   "cell_type": "code",
   "execution_count": 25,
   "metadata": {},
   "outputs": [],
   "source": [
    "\n",
    "# # GPS:1 / GLONASS:3 / BEIDOU:5 / GALILEO:6\n",
    "# def satpos_estimate(derived_df, ephemeris, ctype):\n",
    "\n",
    "#     target_derived_df = derived_df[derived_df['constellationType'] == ctype]\n",
    "#     target_derived_df['correctedPrM'] = target_derived_df.apply(lambda r: r.rawPrM + r.satClkBiasM - r.isrbM - r.ionoDelayM - r.tropoDelayM,axis=1)\n",
    "#     output_df = pd.DataFrame()\n",
    "\n",
    "#     # 衛星ID, 時刻ごとに衛星位置を求める\n",
    "#     gr = target_derived_df.groupby([\"millisSinceGpsEpoch\", \"svid\", \"signalType\"])\n",
    "#     for (epoch, svid, stype), df in tqdm(gr, total=len(gr)):\n",
    "#         assert len(df) == 1\n",
    "#         df = df.iloc[0]  \n",
    "\n",
    "#         # 観測時刻(単位:s)\n",
    "#         t = epoch / 1000  # 衛星位置を知りたい時刻(s)\n",
    "        \n",
    "#         # 受信->送信に補正する用\n",
    "#         # 時刻が受信時のものであるためそれを補正するために擬似距離/光速で補正\n",
    "#         pseudorange = df['correctedPrM']\n",
    "#         c = 299_792_458  # 光速\n",
    "#         transmission_t = pseudorange / c\n",
    "        \n",
    "#         if svid in ephemeris['sid_sat'].unique():\n",
    "#             e = ephemeris[(ephemeris['sid_sat']==svid)].drop_duplicates().iloc[0]\n",
    "#             x,y,z = calc_sat_position(e, t, transmission_t)        \n",
    "            \n",
    "#             df['x'] = x\n",
    "#             df['y'] = y\n",
    "#             df['z'] = z\n",
    "\n",
    "#             if np.abs(df[\"x\"] - df[\"xSatPosM\"]) > 100:\n",
    "#                 df['x'] = -x\n",
    "#                 df['y'] = -y\n",
    "#                 df['z'] = -z\n",
    "                \n",
    "#         # 対象の衛星がエフェメリスデータに含まれていない場合\n",
    "#         else:\n",
    "#             df['x'] = df['xSatPosM']\n",
    "#             df['y'] = df['ySatPosM']\n",
    "#             df['z'] = df['zSatPosM']\n",
    "\n",
    "\n",
    "#         output_df = pd.concat([output_df, pd.DataFrame(df).T])\n",
    "#     return output_df.reset_index(drop=True)"
   ]
  },
  {
   "cell_type": "code",
   "execution_count": 26,
   "metadata": {},
   "outputs": [],
   "source": [
    "\n",
    "# GPS:1 / GLONASS:3 / BEIDOU:5 / GALILEO:6\n",
    "def satpos_estimate(derived_df, ephemeris, ctype):\n",
    "    print(f\"constellationType: {ctype}\")\n",
    "    count = 0\n",
    "    target_derived_df = derived_df[derived_df['constellationType'] == ctype]\n",
    "    target_derived_df['correctedPrM'] = target_derived_df.apply(lambda r: r.rawPrM + r.satClkBiasM - r.isrbM - r.ionoDelayM - r.tropoDelayM,axis=1)\n",
    "    output_df = pd.DataFrame()\n",
    "\n",
    "    # 衛星ID, 時刻ごとに衛星位置を求める\n",
    "    gr = target_derived_df.groupby([\"millisSinceGpsEpoch\", \"svid\", \"signalType\"])\n",
    "    for (epoch, svid, stype), df in tqdm(gr, total=len(gr)):\n",
    "        assert len(df) == 1\n",
    "        df = df.iloc[0]  \n",
    "\n",
    "        # 観測時刻(単位:s)\n",
    "        t = epoch / 1000  # 衛星位置を知りたい時刻(s)\n",
    "        \n",
    "        # 受信->送信に補正する用\n",
    "        # 時刻が受信時のものであるためそれを補正するために擬似距離/光速で補正\n",
    "        pseudorange = df['correctedPrM']\n",
    "        c = 299_792_458  # 光速\n",
    "        transmission_t = pseudorange / c\n",
    "        \n",
    "        if svid in ephemeris['sid_sat'].unique():\n",
    "            e = ephemeris[(ephemeris['sid_sat']==svid)].drop_duplicates()\n",
    "\n",
    "            # 時間の異なるeが複数ある(確認した範囲では2hのずれ)\n",
    "            # 衛星位置を知りたい時間tとteが近いものを採用する\n",
    "            te = e.toe_tow + (e.toe_wn * 3600*24*7)\n",
    "            idx = np.argmin(np.abs(te.values - t))\n",
    "            e = e.iloc[idx]\n",
    "            x,y,z = calc_sat_position(e, t, transmission_t)   \n",
    "            df['x'] = x\n",
    "            df['y'] = y\n",
    "            df['z'] = z\n",
    "\n",
    "            # データが反転しているものがなぜかあるのでそれを補正\n",
    "            if np.abs(df[\"x\"] - df[\"xSatPosM\"]) > 1000:\n",
    "                df['x'] = -x\n",
    "                df['y'] = -y\n",
    "                df['z'] = -z\n",
    "\n",
    "                # 補正してもなお大きな差がある場合はbaselineの値を使う\n",
    "                if np.abs(df[\"x\"] - df[\"xSatPosM\"]) > 1000:\n",
    "                    df['x'] = df['xSatPosM']\n",
    "                    df['y'] = df['ySatPosM']\n",
    "                    df['z'] = df['zSatPosM']\n",
    "                    count += 1\n",
    "                \n",
    "        # 対象の衛星がエフェメリスデータに含まれていない場合\n",
    "        else:\n",
    "            df['x'] = df['xSatPosM']\n",
    "            df['y'] = df['ySatPosM']\n",
    "            df['z'] = df['zSatPosM']\n",
    "            count += 1\n",
    "\n",
    "\n",
    "        output_df = pd.concat([output_df, pd.DataFrame(df).T])\n",
    "    print(f\"baselineで置換した割合:{count/len(gr)}\")\n",
    "    return output_df.reset_index(drop=True)"
   ]
  },
  {
   "cell_type": "code",
   "execution_count": 27,
   "metadata": {},
   "outputs": [],
   "source": [
    "def satpos_estimate_glonass(derived_df, ephemeris, ctype):\n",
    "    # GPS:1 / GLONASS:3 / GALILEO:6\n",
    "    target_derived_df = derived_df[derived_df['constellationType'] == ctype]\n",
    "    target_derived_df['correctedPrM'] = target_derived_df.apply(lambda r: r.rawPrM + r.satClkBiasM - r.isrbM - r.ionoDelayM - r.tropoDelayM,axis=1)\n",
    "    output_df = pd.DataFrame()\n",
    "    gr = target_derived_df.groupby([\"svid\", \"signalType\"])\n",
    "    for (svid,stype), df in tqdm(gr, total=len(gr)):\n",
    "        # svidが19のものは前後のデータがないので補間ができない\n",
    "        # collectionのものではなく長期間のもので行ったほうがいい?\n",
    "        # ms -> s\n",
    "        df = df.sort_values(\"millisSinceGpsEpoch\").reset_index(drop=True)\n",
    "        df[\"sSinceGpsEpoch\"] = (df[\"millisSinceGpsEpoch\"]/1000).astype(int)\n",
    "\n",
    "        # 対象の衛星のデータのみ取得\n",
    "        e = glo[glo['sid_sat']==svid].drop_duplicates().reset_index(drop=True) \n",
    "        # assert len(e) < 1\n",
    "        # towからepochに変換\n",
    "        e[\"sSinceGpsEpoch\"] = e.toe_tow + (e.toe_wn * 3600*24*7)\n",
    "\n",
    "        # GLONASSは30minごとの衛星位置データを持つ\n",
    "        # 線形補間でderivedに存在する時刻の衛星位置を算出したい\n",
    "        _df = pd.concat([e[[\"xpos\", \"ypos\", \"zpos\", \"sSinceGpsEpoch\"]], df[[\"millisSinceGpsEpoch\", \"sSinceGpsEpoch\"]]], axis=0).sort_values(\"sSinceGpsEpoch\")\n",
    "        _df[\"time\"] = pd.to_datetime(_df[\"sSinceGpsEpoch\"])\n",
    "        _df = _df.set_index(\"time\") \n",
    "        _df = _df.interpolate(limit_direction=\"both\",method='time').reset_index(drop=True)\n",
    "        df = df.merge(_df[[\"millisSinceGpsEpoch\", \"xpos\", \"ypos\", \"zpos\"]], on=\"millisSinceGpsEpoch\")\n",
    "\n",
    "        # df = df.apply(PZ90toWGS84, axis=1)\n",
    "        output_df = pd.concat([output_df, df])\n",
    "    return output_df.reset_index(drop=True)"
   ]
  },
  {
   "cell_type": "code",
   "execution_count": 39,
   "metadata": {
    "tags": []
   },
   "outputs": [
    {
     "output_type": "stream",
     "name": "stdout",
     "text": [
      "constellationType: 1\n"
     ]
    },
    {
     "output_type": "display_data",
     "data": {
      "text/plain": "  0%|          | 0/19441 [00:00<?, ?it/s]",
      "application/vnd.jupyter.widget-view+json": {
       "version_major": 2,
       "version_minor": 0,
       "model_id": "bb7c91cf12d9403db8c885a5ad94b29d"
      }
     },
     "metadata": {}
    },
    {
     "output_type": "stream",
     "name": "stdout",
     "text": [
      "baselineで置換した割合:0.0\n3\n4\n5\n6\n"
     ]
    }
   ],
   "source": [
    "df_list = []\n",
    "for ctype, df in derived_df.groupby(['constellationType']):\n",
    "    if ctype == 1:\n",
    "        df = satpos_estimate(df, gps, ctype)\n",
    "    # if ctype == 3:\n",
    "    #     df = satpos_estimate_glonass(df, glo, ctype)\n",
    "    # elif ctype == 5:\n",
    "    #     df = satpos_estimate(df, bds, ctype)\n",
    "    # elif ctype == 6:\n",
    "    #     df = satpos_estimate(df, gal, ctype)\n",
    "    else:\n",
    "        print(ctype)\n",
    "        df['x'] = df['xSatPosM'].to_numpy()\n",
    "        df['y'] = df['ySatPosM'].to_numpy()\n",
    "        df['z'] = df['zSatPosM'].to_numpy()\n",
    "    df_list.append(df)\n",
    "new_derived_df = pd.concat(df_list).reset_index(drop=True)"
   ]
  },
  {
   "cell_type": "code",
   "execution_count": 40,
   "metadata": {},
   "outputs": [
    {
     "output_type": "execute_result",
     "data": {
      "text/plain": [
       "<AxesSubplot:>"
      ]
     },
     "metadata": {},
     "execution_count": 40
    },
    {
     "output_type": "display_data",
     "data": {
      "text/plain": "<Figure size 432x288 with 1 Axes>",
      "image/svg+xml": "<?xml version=\"1.0\" encoding=\"utf-8\" standalone=\"no\"?>\n<!DOCTYPE svg PUBLIC \"-//W3C//DTD SVG 1.1//EN\"\n  \"http://www.w3.org/Graphics/SVG/1.1/DTD/svg11.dtd\">\n<!-- Created with matplotlib (https://matplotlib.org/) -->\n<svg height=\"248.518125pt\" version=\"1.1\" viewBox=\"0 0 388.0125 248.518125\" width=\"388.0125pt\" xmlns=\"http://www.w3.org/2000/svg\" xmlns:xlink=\"http://www.w3.org/1999/xlink\">\n <metadata>\n  <rdf:RDF xmlns:cc=\"http://creativecommons.org/ns#\" xmlns:dc=\"http://purl.org/dc/elements/1.1/\" xmlns:rdf=\"http://www.w3.org/1999/02/22-rdf-syntax-ns#\">\n   <cc:Work>\n    <dc:type rdf:resource=\"http://purl.org/dc/dcmitype/StillImage\"/>\n    <dc:date>2021-07-28T22:48:57.306210</dc:date>\n    <dc:format>image/svg+xml</dc:format>\n    <dc:creator>\n     <cc:Agent>\n      <dc:title>Matplotlib v3.3.3, https://matplotlib.org/</dc:title>\n     </cc:Agent>\n    </dc:creator>\n   </cc:Work>\n  </rdf:RDF>\n </metadata>\n <defs>\n  <style type=\"text/css\">*{stroke-linecap:butt;stroke-linejoin:round;}</style>\n </defs>\n <g id=\"figure_1\">\n  <g id=\"patch_1\">\n   <path d=\"M 0 248.518125 \nL 388.0125 248.518125 \nL 388.0125 0 \nL 0 0 \nz\n\" style=\"fill:none;\"/>\n  </g>\n  <g id=\"axes_1\">\n   <g id=\"patch_2\">\n    <path d=\"M 46.0125 224.64 \nL 380.8125 224.64 \nL 380.8125 7.2 \nL 46.0125 7.2 \nz\n\" style=\"fill:#ffffff;\"/>\n   </g>\n   <g id=\"patch_3\">\n    <path clip-path=\"url(#p5ea6d74601)\" d=\"M 61.230682 224.64 \nL 91.667045 224.64 \nL 91.667045 17.554286 \nL 61.230682 17.554286 \nz\n\" style=\"fill:#1f77b4;\"/>\n   </g>\n   <g id=\"patch_4\">\n    <path clip-path=\"url(#p5ea6d74601)\" d=\"M 91.667045 224.64 \nL 122.103409 224.64 \nL 122.103409 209.756008 \nL 91.667045 209.756008 \nz\n\" style=\"fill:#1f77b4;\"/>\n   </g>\n   <g id=\"patch_5\">\n    <path clip-path=\"url(#p5ea6d74601)\" d=\"M 122.103409 224.64 \nL 152.539773 224.64 \nL 152.539773 208.594354 \nL 122.103409 208.594354 \nz\n\" style=\"fill:#1f77b4;\"/>\n   </g>\n   <g id=\"patch_6\">\n    <path clip-path=\"url(#p5ea6d74601)\" d=\"M 152.539773 224.64 \nL 182.976136 224.64 \nL 182.976136 207.190484 \nL 152.539773 207.190484 \nz\n\" style=\"fill:#1f77b4;\"/>\n   </g>\n   <g id=\"patch_7\">\n    <path clip-path=\"url(#p5ea6d74601)\" d=\"M 182.976136 224.64 \nL 213.4125 224.64 \nL 213.4125 211.10056 \nL 182.976136 211.10056 \nz\n\" style=\"fill:#1f77b4;\"/>\n   </g>\n   <g id=\"patch_8\">\n    <path clip-path=\"url(#p5ea6d74601)\" d=\"M 213.4125 224.64 \nL 243.848864 224.64 \nL 243.848864 215.07984 \nL 213.4125 215.07984 \nz\n\" style=\"fill:#1f77b4;\"/>\n   </g>\n   <g id=\"patch_9\">\n    <path clip-path=\"url(#p5ea6d74601)\" d=\"M 243.848864 224.64 \nL 274.285227 224.64 \nL 274.285227 215.752116 \nL 243.848864 215.752116 \nz\n\" style=\"fill:#1f77b4;\"/>\n   </g>\n   <g id=\"patch_10\">\n    <path clip-path=\"url(#p5ea6d74601)\" d=\"M 274.285227 224.64 \nL 304.721591 224.64 \nL 304.721591 219.840147 \nL 274.285227 219.840147 \nz\n\" style=\"fill:#1f77b4;\"/>\n   </g>\n   <g id=\"patch_11\">\n    <path clip-path=\"url(#p5ea6d74601)\" d=\"M 304.721591 224.64 \nL 335.157955 224.64 \nL 335.157955 222.316693 \nL 304.721591 222.316693 \nz\n\" style=\"fill:#1f77b4;\"/>\n   </g>\n   <g id=\"patch_12\">\n    <path clip-path=\"url(#p5ea6d74601)\" d=\"M 335.157955 224.64 \nL 365.594318 224.64 \nL 365.594318 216.246437 \nL 335.157955 216.246437 \nz\n\" style=\"fill:#1f77b4;\"/>\n   </g>\n   <g id=\"matplotlib.axis_1\">\n    <g id=\"xtick_1\">\n     <g id=\"line2d_1\">\n      <path clip-path=\"url(#p5ea6d74601)\" d=\"M 90.922498 224.64 \nL 90.922498 7.2 \n\" style=\"fill:none;stroke:#b0b0b0;stroke-linecap:square;stroke-width:0.8;\"/>\n     </g>\n     <g id=\"line2d_2\">\n      <defs>\n       <path d=\"M 0 0 \nL 0 3.5 \n\" id=\"m2a20113bff\" style=\"stroke:#000000;stroke-width:0.8;\"/>\n      </defs>\n      <g>\n       <use style=\"stroke:#000000;stroke-width:0.8;\" x=\"90.922498\" xlink:href=\"#m2a20113bff\" y=\"224.64\"/>\n      </g>\n     </g>\n     <g id=\"text_1\">\n      <!-- 0 -->\n      <g transform=\"translate(87.741248 239.238437)scale(0.1 -0.1)\">\n       <defs>\n        <path d=\"M 31.78125 66.40625 \nQ 24.171875 66.40625 20.328125 58.90625 \nQ 16.5 51.421875 16.5 36.375 \nQ 16.5 21.390625 20.328125 13.890625 \nQ 24.171875 6.390625 31.78125 6.390625 \nQ 39.453125 6.390625 43.28125 13.890625 \nQ 47.125 21.390625 47.125 36.375 \nQ 47.125 51.421875 43.28125 58.90625 \nQ 39.453125 66.40625 31.78125 66.40625 \nz\nM 31.78125 74.21875 \nQ 44.046875 74.21875 50.515625 64.515625 \nQ 56.984375 54.828125 56.984375 36.375 \nQ 56.984375 17.96875 50.515625 8.265625 \nQ 44.046875 -1.421875 31.78125 -1.421875 \nQ 19.53125 -1.421875 13.0625 8.265625 \nQ 6.59375 17.96875 6.59375 36.375 \nQ 6.59375 54.828125 13.0625 64.515625 \nQ 19.53125 74.21875 31.78125 74.21875 \nz\n\" id=\"DejaVuSans-48\"/>\n       </defs>\n       <use xlink:href=\"#DejaVuSans-48\"/>\n      </g>\n     </g>\n    </g>\n    <g id=\"xtick_2\">\n     <g id=\"line2d_3\">\n      <path clip-path=\"url(#p5ea6d74601)\" d=\"M 160.522847 224.64 \nL 160.522847 7.2 \n\" style=\"fill:none;stroke:#b0b0b0;stroke-linecap:square;stroke-width:0.8;\"/>\n     </g>\n     <g id=\"line2d_4\">\n      <g>\n       <use style=\"stroke:#000000;stroke-width:0.8;\" x=\"160.522847\" xlink:href=\"#m2a20113bff\" y=\"224.64\"/>\n      </g>\n     </g>\n     <g id=\"text_2\">\n      <!-- 1 -->\n      <g transform=\"translate(157.341597 239.238437)scale(0.1 -0.1)\">\n       <defs>\n        <path d=\"M 12.40625 8.296875 \nL 28.515625 8.296875 \nL 28.515625 63.921875 \nL 10.984375 60.40625 \nL 10.984375 69.390625 \nL 28.421875 72.90625 \nL 38.28125 72.90625 \nL 38.28125 8.296875 \nL 54.390625 8.296875 \nL 54.390625 0 \nL 12.40625 0 \nz\n\" id=\"DejaVuSans-49\"/>\n       </defs>\n       <use xlink:href=\"#DejaVuSans-49\"/>\n      </g>\n     </g>\n    </g>\n    <g id=\"xtick_3\">\n     <g id=\"line2d_5\">\n      <path clip-path=\"url(#p5ea6d74601)\" d=\"M 230.123197 224.64 \nL 230.123197 7.2 \n\" style=\"fill:none;stroke:#b0b0b0;stroke-linecap:square;stroke-width:0.8;\"/>\n     </g>\n     <g id=\"line2d_6\">\n      <g>\n       <use style=\"stroke:#000000;stroke-width:0.8;\" x=\"230.123197\" xlink:href=\"#m2a20113bff\" y=\"224.64\"/>\n      </g>\n     </g>\n     <g id=\"text_3\">\n      <!-- 2 -->\n      <g transform=\"translate(226.941947 239.238437)scale(0.1 -0.1)\">\n       <defs>\n        <path d=\"M 19.1875 8.296875 \nL 53.609375 8.296875 \nL 53.609375 0 \nL 7.328125 0 \nL 7.328125 8.296875 \nQ 12.9375 14.109375 22.625 23.890625 \nQ 32.328125 33.6875 34.8125 36.53125 \nQ 39.546875 41.84375 41.421875 45.53125 \nQ 43.3125 49.21875 43.3125 52.78125 \nQ 43.3125 58.59375 39.234375 62.25 \nQ 35.15625 65.921875 28.609375 65.921875 \nQ 23.96875 65.921875 18.8125 64.3125 \nQ 13.671875 62.703125 7.8125 59.421875 \nL 7.8125 69.390625 \nQ 13.765625 71.78125 18.9375 73 \nQ 24.125 74.21875 28.421875 74.21875 \nQ 39.75 74.21875 46.484375 68.546875 \nQ 53.21875 62.890625 53.21875 53.421875 \nQ 53.21875 48.921875 51.53125 44.890625 \nQ 49.859375 40.875 45.40625 35.40625 \nQ 44.1875 33.984375 37.640625 27.21875 \nQ 31.109375 20.453125 19.1875 8.296875 \nz\n\" id=\"DejaVuSans-50\"/>\n       </defs>\n       <use xlink:href=\"#DejaVuSans-50\"/>\n      </g>\n     </g>\n    </g>\n    <g id=\"xtick_4\">\n     <g id=\"line2d_7\">\n      <path clip-path=\"url(#p5ea6d74601)\" d=\"M 299.723547 224.64 \nL 299.723547 7.2 \n\" style=\"fill:none;stroke:#b0b0b0;stroke-linecap:square;stroke-width:0.8;\"/>\n     </g>\n     <g id=\"line2d_8\">\n      <g>\n       <use style=\"stroke:#000000;stroke-width:0.8;\" x=\"299.723547\" xlink:href=\"#m2a20113bff\" y=\"224.64\"/>\n      </g>\n     </g>\n     <g id=\"text_4\">\n      <!-- 3 -->\n      <g transform=\"translate(296.542297 239.238437)scale(0.1 -0.1)\">\n       <defs>\n        <path d=\"M 40.578125 39.3125 \nQ 47.65625 37.796875 51.625 33 \nQ 55.609375 28.21875 55.609375 21.1875 \nQ 55.609375 10.40625 48.1875 4.484375 \nQ 40.765625 -1.421875 27.09375 -1.421875 \nQ 22.515625 -1.421875 17.65625 -0.515625 \nQ 12.796875 0.390625 7.625 2.203125 \nL 7.625 11.71875 \nQ 11.71875 9.328125 16.59375 8.109375 \nQ 21.484375 6.890625 26.8125 6.890625 \nQ 36.078125 6.890625 40.9375 10.546875 \nQ 45.796875 14.203125 45.796875 21.1875 \nQ 45.796875 27.640625 41.28125 31.265625 \nQ 36.765625 34.90625 28.71875 34.90625 \nL 20.21875 34.90625 \nL 20.21875 43.015625 \nL 29.109375 43.015625 \nQ 36.375 43.015625 40.234375 45.921875 \nQ 44.09375 48.828125 44.09375 54.296875 \nQ 44.09375 59.90625 40.109375 62.90625 \nQ 36.140625 65.921875 28.71875 65.921875 \nQ 24.65625 65.921875 20.015625 65.03125 \nQ 15.375 64.15625 9.8125 62.3125 \nL 9.8125 71.09375 \nQ 15.4375 72.65625 20.34375 73.4375 \nQ 25.25 74.21875 29.59375 74.21875 \nQ 40.828125 74.21875 47.359375 69.109375 \nQ 53.90625 64.015625 53.90625 55.328125 \nQ 53.90625 49.265625 50.4375 45.09375 \nQ 46.96875 40.921875 40.578125 39.3125 \nz\n\" id=\"DejaVuSans-51\"/>\n       </defs>\n       <use xlink:href=\"#DejaVuSans-51\"/>\n      </g>\n     </g>\n    </g>\n    <g id=\"xtick_5\">\n     <g id=\"line2d_9\">\n      <path clip-path=\"url(#p5ea6d74601)\" d=\"M 369.323896 224.64 \nL 369.323896 7.2 \n\" style=\"fill:none;stroke:#b0b0b0;stroke-linecap:square;stroke-width:0.8;\"/>\n     </g>\n     <g id=\"line2d_10\">\n      <g>\n       <use style=\"stroke:#000000;stroke-width:0.8;\" x=\"369.323896\" xlink:href=\"#m2a20113bff\" y=\"224.64\"/>\n      </g>\n     </g>\n     <g id=\"text_5\">\n      <!-- 4 -->\n      <g transform=\"translate(366.142646 239.238437)scale(0.1 -0.1)\">\n       <defs>\n        <path d=\"M 37.796875 64.3125 \nL 12.890625 25.390625 \nL 37.796875 25.390625 \nz\nM 35.203125 72.90625 \nL 47.609375 72.90625 \nL 47.609375 25.390625 \nL 58.015625 25.390625 \nL 58.015625 17.1875 \nL 47.609375 17.1875 \nL 47.609375 0 \nL 37.796875 0 \nL 37.796875 17.1875 \nL 4.890625 17.1875 \nL 4.890625 26.703125 \nz\n\" id=\"DejaVuSans-52\"/>\n       </defs>\n       <use xlink:href=\"#DejaVuSans-52\"/>\n      </g>\n     </g>\n    </g>\n   </g>\n   <g id=\"matplotlib.axis_2\">\n    <g id=\"ytick_1\">\n     <g id=\"line2d_11\">\n      <path clip-path=\"url(#p5ea6d74601)\" d=\"M 46.0125 224.64 \nL 380.8125 224.64 \n\" style=\"fill:none;stroke:#b0b0b0;stroke-linecap:square;stroke-width:0.8;\"/>\n     </g>\n     <g id=\"line2d_12\">\n      <defs>\n       <path d=\"M 0 0 \nL -3.5 0 \n\" id=\"m947f08a3bb\" style=\"stroke:#000000;stroke-width:0.8;\"/>\n      </defs>\n      <g>\n       <use style=\"stroke:#000000;stroke-width:0.8;\" x=\"46.0125\" xlink:href=\"#m947f08a3bb\" y=\"224.64\"/>\n      </g>\n     </g>\n     <g id=\"text_6\">\n      <!-- 0 -->\n      <g transform=\"translate(32.65 228.439219)scale(0.1 -0.1)\">\n       <use xlink:href=\"#DejaVuSans-48\"/>\n      </g>\n     </g>\n    </g>\n    <g id=\"ytick_2\">\n     <g id=\"line2d_13\">\n      <path clip-path=\"url(#p5ea6d74601)\" d=\"M 46.0125 199.923972 \nL 380.8125 199.923972 \n\" style=\"fill:none;stroke:#b0b0b0;stroke-linecap:square;stroke-width:0.8;\"/>\n     </g>\n     <g id=\"line2d_14\">\n      <g>\n       <use style=\"stroke:#000000;stroke-width:0.8;\" x=\"46.0125\" xlink:href=\"#m947f08a3bb\" y=\"199.923972\"/>\n      </g>\n     </g>\n     <g id=\"text_7\">\n      <!-- 5000 -->\n      <g transform=\"translate(13.5625 203.723191)scale(0.1 -0.1)\">\n       <defs>\n        <path d=\"M 10.796875 72.90625 \nL 49.515625 72.90625 \nL 49.515625 64.59375 \nL 19.828125 64.59375 \nL 19.828125 46.734375 \nQ 21.96875 47.46875 24.109375 47.828125 \nQ 26.265625 48.1875 28.421875 48.1875 \nQ 40.625 48.1875 47.75 41.5 \nQ 54.890625 34.8125 54.890625 23.390625 \nQ 54.890625 11.625 47.5625 5.09375 \nQ 40.234375 -1.421875 26.90625 -1.421875 \nQ 22.3125 -1.421875 17.546875 -0.640625 \nQ 12.796875 0.140625 7.71875 1.703125 \nL 7.71875 11.625 \nQ 12.109375 9.234375 16.796875 8.0625 \nQ 21.484375 6.890625 26.703125 6.890625 \nQ 35.15625 6.890625 40.078125 11.328125 \nQ 45.015625 15.765625 45.015625 23.390625 \nQ 45.015625 31 40.078125 35.4375 \nQ 35.15625 39.890625 26.703125 39.890625 \nQ 22.75 39.890625 18.8125 39.015625 \nQ 14.890625 38.140625 10.796875 36.28125 \nz\n\" id=\"DejaVuSans-53\"/>\n       </defs>\n       <use xlink:href=\"#DejaVuSans-53\"/>\n       <use x=\"63.623047\" xlink:href=\"#DejaVuSans-48\"/>\n       <use x=\"127.246094\" xlink:href=\"#DejaVuSans-48\"/>\n       <use x=\"190.869141\" xlink:href=\"#DejaVuSans-48\"/>\n      </g>\n     </g>\n    </g>\n    <g id=\"ytick_3\">\n     <g id=\"line2d_15\">\n      <path clip-path=\"url(#p5ea6d74601)\" d=\"M 46.0125 175.207944 \nL 380.8125 175.207944 \n\" style=\"fill:none;stroke:#b0b0b0;stroke-linecap:square;stroke-width:0.8;\"/>\n     </g>\n     <g id=\"line2d_16\">\n      <g>\n       <use style=\"stroke:#000000;stroke-width:0.8;\" x=\"46.0125\" xlink:href=\"#m947f08a3bb\" y=\"175.207944\"/>\n      </g>\n     </g>\n     <g id=\"text_8\">\n      <!-- 10000 -->\n      <g transform=\"translate(7.2 179.007162)scale(0.1 -0.1)\">\n       <use xlink:href=\"#DejaVuSans-49\"/>\n       <use x=\"63.623047\" xlink:href=\"#DejaVuSans-48\"/>\n       <use x=\"127.246094\" xlink:href=\"#DejaVuSans-48\"/>\n       <use x=\"190.869141\" xlink:href=\"#DejaVuSans-48\"/>\n       <use x=\"254.492188\" xlink:href=\"#DejaVuSans-48\"/>\n      </g>\n     </g>\n    </g>\n    <g id=\"ytick_4\">\n     <g id=\"line2d_17\">\n      <path clip-path=\"url(#p5ea6d74601)\" d=\"M 46.0125 150.491915 \nL 380.8125 150.491915 \n\" style=\"fill:none;stroke:#b0b0b0;stroke-linecap:square;stroke-width:0.8;\"/>\n     </g>\n     <g id=\"line2d_18\">\n      <g>\n       <use style=\"stroke:#000000;stroke-width:0.8;\" x=\"46.0125\" xlink:href=\"#m947f08a3bb\" y=\"150.491915\"/>\n      </g>\n     </g>\n     <g id=\"text_9\">\n      <!-- 15000 -->\n      <g transform=\"translate(7.2 154.291134)scale(0.1 -0.1)\">\n       <use xlink:href=\"#DejaVuSans-49\"/>\n       <use x=\"63.623047\" xlink:href=\"#DejaVuSans-53\"/>\n       <use x=\"127.246094\" xlink:href=\"#DejaVuSans-48\"/>\n       <use x=\"190.869141\" xlink:href=\"#DejaVuSans-48\"/>\n       <use x=\"254.492188\" xlink:href=\"#DejaVuSans-48\"/>\n      </g>\n     </g>\n    </g>\n    <g id=\"ytick_5\">\n     <g id=\"line2d_19\">\n      <path clip-path=\"url(#p5ea6d74601)\" d=\"M 46.0125 125.775887 \nL 380.8125 125.775887 \n\" style=\"fill:none;stroke:#b0b0b0;stroke-linecap:square;stroke-width:0.8;\"/>\n     </g>\n     <g id=\"line2d_20\">\n      <g>\n       <use style=\"stroke:#000000;stroke-width:0.8;\" x=\"46.0125\" xlink:href=\"#m947f08a3bb\" y=\"125.775887\"/>\n      </g>\n     </g>\n     <g id=\"text_10\">\n      <!-- 20000 -->\n      <g transform=\"translate(7.2 129.575106)scale(0.1 -0.1)\">\n       <use xlink:href=\"#DejaVuSans-50\"/>\n       <use x=\"63.623047\" xlink:href=\"#DejaVuSans-48\"/>\n       <use x=\"127.246094\" xlink:href=\"#DejaVuSans-48\"/>\n       <use x=\"190.869141\" xlink:href=\"#DejaVuSans-48\"/>\n       <use x=\"254.492188\" xlink:href=\"#DejaVuSans-48\"/>\n      </g>\n     </g>\n    </g>\n    <g id=\"ytick_6\">\n     <g id=\"line2d_21\">\n      <path clip-path=\"url(#p5ea6d74601)\" d=\"M 46.0125 101.059859 \nL 380.8125 101.059859 \n\" style=\"fill:none;stroke:#b0b0b0;stroke-linecap:square;stroke-width:0.8;\"/>\n     </g>\n     <g id=\"line2d_22\">\n      <g>\n       <use style=\"stroke:#000000;stroke-width:0.8;\" x=\"46.0125\" xlink:href=\"#m947f08a3bb\" y=\"101.059859\"/>\n      </g>\n     </g>\n     <g id=\"text_11\">\n      <!-- 25000 -->\n      <g transform=\"translate(7.2 104.859078)scale(0.1 -0.1)\">\n       <use xlink:href=\"#DejaVuSans-50\"/>\n       <use x=\"63.623047\" xlink:href=\"#DejaVuSans-53\"/>\n       <use x=\"127.246094\" xlink:href=\"#DejaVuSans-48\"/>\n       <use x=\"190.869141\" xlink:href=\"#DejaVuSans-48\"/>\n       <use x=\"254.492188\" xlink:href=\"#DejaVuSans-48\"/>\n      </g>\n     </g>\n    </g>\n    <g id=\"ytick_7\">\n     <g id=\"line2d_23\">\n      <path clip-path=\"url(#p5ea6d74601)\" d=\"M 46.0125 76.343831 \nL 380.8125 76.343831 \n\" style=\"fill:none;stroke:#b0b0b0;stroke-linecap:square;stroke-width:0.8;\"/>\n     </g>\n     <g id=\"line2d_24\">\n      <g>\n       <use style=\"stroke:#000000;stroke-width:0.8;\" x=\"46.0125\" xlink:href=\"#m947f08a3bb\" y=\"76.343831\"/>\n      </g>\n     </g>\n     <g id=\"text_12\">\n      <!-- 30000 -->\n      <g transform=\"translate(7.2 80.143049)scale(0.1 -0.1)\">\n       <use xlink:href=\"#DejaVuSans-51\"/>\n       <use x=\"63.623047\" xlink:href=\"#DejaVuSans-48\"/>\n       <use x=\"127.246094\" xlink:href=\"#DejaVuSans-48\"/>\n       <use x=\"190.869141\" xlink:href=\"#DejaVuSans-48\"/>\n       <use x=\"254.492188\" xlink:href=\"#DejaVuSans-48\"/>\n      </g>\n     </g>\n    </g>\n    <g id=\"ytick_8\">\n     <g id=\"line2d_25\">\n      <path clip-path=\"url(#p5ea6d74601)\" d=\"M 46.0125 51.627802 \nL 380.8125 51.627802 \n\" style=\"fill:none;stroke:#b0b0b0;stroke-linecap:square;stroke-width:0.8;\"/>\n     </g>\n     <g id=\"line2d_26\">\n      <g>\n       <use style=\"stroke:#000000;stroke-width:0.8;\" x=\"46.0125\" xlink:href=\"#m947f08a3bb\" y=\"51.627802\"/>\n      </g>\n     </g>\n     <g id=\"text_13\">\n      <!-- 35000 -->\n      <g transform=\"translate(7.2 55.427021)scale(0.1 -0.1)\">\n       <use xlink:href=\"#DejaVuSans-51\"/>\n       <use x=\"63.623047\" xlink:href=\"#DejaVuSans-53\"/>\n       <use x=\"127.246094\" xlink:href=\"#DejaVuSans-48\"/>\n       <use x=\"190.869141\" xlink:href=\"#DejaVuSans-48\"/>\n       <use x=\"254.492188\" xlink:href=\"#DejaVuSans-48\"/>\n      </g>\n     </g>\n    </g>\n    <g id=\"ytick_9\">\n     <g id=\"line2d_27\">\n      <path clip-path=\"url(#p5ea6d74601)\" d=\"M 46.0125 26.911774 \nL 380.8125 26.911774 \n\" style=\"fill:none;stroke:#b0b0b0;stroke-linecap:square;stroke-width:0.8;\"/>\n     </g>\n     <g id=\"line2d_28\">\n      <g>\n       <use style=\"stroke:#000000;stroke-width:0.8;\" x=\"46.0125\" xlink:href=\"#m947f08a3bb\" y=\"26.911774\"/>\n      </g>\n     </g>\n     <g id=\"text_14\">\n      <!-- 40000 -->\n      <g transform=\"translate(7.2 30.710993)scale(0.1 -0.1)\">\n       <use xlink:href=\"#DejaVuSans-52\"/>\n       <use x=\"63.623047\" xlink:href=\"#DejaVuSans-48\"/>\n       <use x=\"127.246094\" xlink:href=\"#DejaVuSans-48\"/>\n       <use x=\"190.869141\" xlink:href=\"#DejaVuSans-48\"/>\n       <use x=\"254.492188\" xlink:href=\"#DejaVuSans-48\"/>\n      </g>\n     </g>\n    </g>\n   </g>\n   <g id=\"patch_13\">\n    <path d=\"M 46.0125 224.64 \nL 46.0125 7.2 \n\" style=\"fill:none;stroke:#000000;stroke-linecap:square;stroke-linejoin:miter;stroke-width:0.8;\"/>\n   </g>\n   <g id=\"patch_14\">\n    <path d=\"M 380.8125 224.64 \nL 380.8125 7.2 \n\" style=\"fill:none;stroke:#000000;stroke-linecap:square;stroke-linejoin:miter;stroke-width:0.8;\"/>\n   </g>\n   <g id=\"patch_15\">\n    <path d=\"M 46.0125 224.64 \nL 380.8125 224.64 \n\" style=\"fill:none;stroke:#000000;stroke-linecap:square;stroke-linejoin:miter;stroke-width:0.8;\"/>\n   </g>\n   <g id=\"patch_16\">\n    <path d=\"M 46.0125 7.2 \nL 380.8125 7.2 \n\" style=\"fill:none;stroke:#000000;stroke-linecap:square;stroke-linejoin:miter;stroke-width:0.8;\"/>\n   </g>\n  </g>\n </g>\n <defs>\n  <clipPath id=\"p5ea6d74601\">\n   <rect height=\"217.44\" width=\"334.8\" x=\"46.0125\" y=\"7.2\"/>\n  </clipPath>\n </defs>\n</svg>\n",
      "image/png": "[encoded data removed]"
     },
     "metadata": {
      "needs_background": "light"
     }
    }
   ],
   "source": [
    "(new_derived_df['xSatPosM']- new_derived_df['x']).hist()"
   ]
  },
  {
   "cell_type": "code",
   "execution_count": 41,
   "metadata": {},
   "outputs": [
    {
     "output_type": "execute_result",
     "data": {
      "text/plain": [
       "<AxesSubplot:>"
      ]
     },
     "metadata": {},
     "execution_count": 41
    },
    {
     "output_type": "display_data",
     "data": {
      "text/plain": "<Figure size 432x288 with 1 Axes>",
      "image/svg+xml": "<?xml version=\"1.0\" encoding=\"utf-8\" standalone=\"no\"?>\n<!DOCTYPE svg PUBLIC \"-//W3C//DTD SVG 1.1//EN\"\n  \"http://www.w3.org/Graphics/SVG/1.1/DTD/svg11.dtd\">\n<!-- Created with matplotlib (https://matplotlib.org/) -->\n<svg height=\"248.518125pt\" version=\"1.1\" viewBox=\"0 0 388.0125 248.518125\" width=\"388.0125pt\" xmlns=\"http://www.w3.org/2000/svg\" xmlns:xlink=\"http://www.w3.org/1999/xlink\">\n <metadata>\n  <rdf:RDF xmlns:cc=\"http://creativecommons.org/ns#\" xmlns:dc=\"http://purl.org/dc/elements/1.1/\" xmlns:rdf=\"http://www.w3.org/1999/02/22-rdf-syntax-ns#\">\n   <cc:Work>\n    <dc:type rdf:resource=\"http://purl.org/dc/dcmitype/StillImage\"/>\n    <dc:date>2021-07-28T22:48:57.457281</dc:date>\n    <dc:format>image/svg+xml</dc:format>\n    <dc:creator>\n     <cc:Agent>\n      <dc:title>Matplotlib v3.3.3, https://matplotlib.org/</dc:title>\n     </cc:Agent>\n    </dc:creator>\n   </cc:Work>\n  </rdf:RDF>\n </metadata>\n <defs>\n  <style type=\"text/css\">*{stroke-linecap:butt;stroke-linejoin:round;}</style>\n </defs>\n <g id=\"figure_1\">\n  <g id=\"patch_1\">\n   <path d=\"M 0 248.518125 \nL 388.0125 248.518125 \nL 388.0125 0 \nL 0 0 \nz\n\" style=\"fill:none;\"/>\n  </g>\n  <g id=\"axes_1\">\n   <g id=\"patch_2\">\n    <path d=\"M 46.0125 224.64 \nL 380.8125 224.64 \nL 380.8125 7.2 \nL 46.0125 7.2 \nz\n\" style=\"fill:#ffffff;\"/>\n   </g>\n   <g id=\"patch_3\">\n    <path clip-path=\"url(#p35234a083c)\" d=\"M 61.230682 224.64 \nL 91.667045 224.64 \nL 91.667045 211.442107 \nL 61.230682 211.442107 \nz\n\" style=\"fill:#1f77b4;\"/>\n   </g>\n   <g id=\"patch_4\">\n    <path clip-path=\"url(#p35234a083c)\" d=\"M 91.667045 224.64 \nL 122.103409 224.64 \nL 122.103409 223.320211 \nL 91.667045 223.320211 \nz\n\" style=\"fill:#1f77b4;\"/>\n   </g>\n   <g id=\"patch_5\">\n    <path clip-path=\"url(#p35234a083c)\" d=\"M 122.103409 224.64 \nL 152.539773 224.64 \nL 152.539773 224.64 \nL 122.103409 224.64 \nz\n\" style=\"fill:#1f77b4;\"/>\n   </g>\n   <g id=\"patch_6\">\n    <path clip-path=\"url(#p35234a083c)\" d=\"M 152.539773 224.64 \nL 182.976136 224.64 \nL 182.976136 224.64 \nL 152.539773 224.64 \nz\n\" style=\"fill:#1f77b4;\"/>\n   </g>\n   <g id=\"patch_7\">\n    <path clip-path=\"url(#p35234a083c)\" d=\"M 182.976136 224.64 \nL 213.4125 224.64 \nL 213.4125 219.100476 \nL 182.976136 219.100476 \nz\n\" style=\"fill:#1f77b4;\"/>\n   </g>\n   <g id=\"patch_8\">\n    <path clip-path=\"url(#p35234a083c)\" d=\"M 213.4125 224.64 \nL 243.848864 224.64 \nL 243.848864 209.33224 \nL 213.4125 209.33224 \nz\n\" style=\"fill:#1f77b4;\"/>\n   </g>\n   <g id=\"patch_9\">\n    <path clip-path=\"url(#p35234a083c)\" d=\"M 243.848864 224.64 \nL 274.285227 224.64 \nL 274.285227 17.554286 \nL 243.848864 17.554286 \nz\n\" style=\"fill:#1f77b4;\"/>\n   </g>\n   <g id=\"patch_10\">\n    <path clip-path=\"url(#p35234a083c)\" d=\"M 274.285227 224.64 \nL 304.721591 224.64 \nL 304.721591 207.500695 \nL 274.285227 207.500695 \nz\n\" style=\"fill:#1f77b4;\"/>\n   </g>\n   <g id=\"patch_11\">\n    <path clip-path=\"url(#p35234a083c)\" d=\"M 304.721591 224.64 \nL 335.157955 224.64 \nL 335.157955 224.64 \nL 304.721591 224.64 \nz\n\" style=\"fill:#1f77b4;\"/>\n   </g>\n   <g id=\"patch_12\">\n    <path clip-path=\"url(#p35234a083c)\" d=\"M 335.157955 224.64 \nL 365.594318 224.64 \nL 365.594318 209.094319 \nL 335.157955 209.094319 \nz\n\" style=\"fill:#1f77b4;\"/>\n   </g>\n   <g id=\"matplotlib.axis_1\">\n    <g id=\"xtick_1\">\n     <g id=\"line2d_1\">\n      <path clip-path=\"url(#p35234a083c)\" d=\"M 46.729307 224.64 \nL 46.729307 7.2 \n\" style=\"fill:none;stroke:#b0b0b0;stroke-linecap:square;stroke-width:0.8;\"/>\n     </g>\n     <g id=\"line2d_2\">\n      <defs>\n       <path d=\"M 0 0 \nL 0 3.5 \n\" id=\"m1d71b55894\" style=\"stroke:#000000;stroke-width:0.8;\"/>\n      </defs>\n      <g>\n       <use style=\"stroke:#000000;stroke-width:0.8;\" x=\"46.729307\" xlink:href=\"#m1d71b55894\" y=\"224.64\"/>\n      </g>\n     </g>\n     <g id=\"text_1\">\n      <!-- −4 -->\n      <g transform=\"translate(39.358213 239.238437)scale(0.1 -0.1)\">\n       <defs>\n        <path d=\"M 10.59375 35.5 \nL 73.1875 35.5 \nL 73.1875 27.203125 \nL 10.59375 27.203125 \nz\n\" id=\"DejaVuSans-8722\"/>\n        <path d=\"M 37.796875 64.3125 \nL 12.890625 25.390625 \nL 37.796875 25.390625 \nz\nM 35.203125 72.90625 \nL 47.609375 72.90625 \nL 47.609375 25.390625 \nL 58.015625 25.390625 \nL 58.015625 17.1875 \nL 47.609375 17.1875 \nL 47.609375 0 \nL 37.796875 0 \nL 37.796875 17.1875 \nL 4.890625 17.1875 \nL 4.890625 26.703125 \nz\n\" id=\"DejaVuSans-52\"/>\n       </defs>\n       <use xlink:href=\"#DejaVuSans-8722\"/>\n       <use x=\"83.789062\" xlink:href=\"#DejaVuSans-52\"/>\n      </g>\n     </g>\n    </g>\n    <g id=\"xtick_2\">\n     <g id=\"line2d_3\">\n      <path clip-path=\"url(#p35234a083c)\" d=\"M 96.466532 224.64 \nL 96.466532 7.2 \n\" style=\"fill:none;stroke:#b0b0b0;stroke-linecap:square;stroke-width:0.8;\"/>\n     </g>\n     <g id=\"line2d_4\">\n      <g>\n       <use style=\"stroke:#000000;stroke-width:0.8;\" x=\"96.466532\" xlink:href=\"#m1d71b55894\" y=\"224.64\"/>\n      </g>\n     </g>\n     <g id=\"text_2\">\n      <!-- −3 -->\n      <g transform=\"translate(89.095438 239.238437)scale(0.1 -0.1)\">\n       <defs>\n        <path d=\"M 40.578125 39.3125 \nQ 47.65625 37.796875 51.625 33 \nQ 55.609375 28.21875 55.609375 21.1875 \nQ 55.609375 10.40625 48.1875 4.484375 \nQ 40.765625 -1.421875 27.09375 -1.421875 \nQ 22.515625 -1.421875 17.65625 -0.515625 \nQ 12.796875 0.390625 7.625 2.203125 \nL 7.625 11.71875 \nQ 11.71875 9.328125 16.59375 8.109375 \nQ 21.484375 6.890625 26.8125 6.890625 \nQ 36.078125 6.890625 40.9375 10.546875 \nQ 45.796875 14.203125 45.796875 21.1875 \nQ 45.796875 27.640625 41.28125 31.265625 \nQ 36.765625 34.90625 28.71875 34.90625 \nL 20.21875 34.90625 \nL 20.21875 43.015625 \nL 29.109375 43.015625 \nQ 36.375 43.015625 40.234375 45.921875 \nQ 44.09375 48.828125 44.09375 54.296875 \nQ 44.09375 59.90625 40.109375 62.90625 \nQ 36.140625 65.921875 28.71875 65.921875 \nQ 24.65625 65.921875 20.015625 65.03125 \nQ 15.375 64.15625 9.8125 62.3125 \nL 9.8125 71.09375 \nQ 15.4375 72.65625 20.34375 73.4375 \nQ 25.25 74.21875 29.59375 74.21875 \nQ 40.828125 74.21875 47.359375 69.109375 \nQ 53.90625 64.015625 53.90625 55.328125 \nQ 53.90625 49.265625 50.4375 45.09375 \nQ 46.96875 40.921875 40.578125 39.3125 \nz\n\" id=\"DejaVuSans-51\"/>\n       </defs>\n       <use xlink:href=\"#DejaVuSans-8722\"/>\n       <use x=\"83.789062\" xlink:href=\"#DejaVuSans-51\"/>\n      </g>\n     </g>\n    </g>\n    <g id=\"xtick_3\">\n     <g id=\"line2d_5\">\n      <path clip-path=\"url(#p35234a083c)\" d=\"M 146.203756 224.64 \nL 146.203756 7.2 \n\" style=\"fill:none;stroke:#b0b0b0;stroke-linecap:square;stroke-width:0.8;\"/>\n     </g>\n     <g id=\"line2d_6\">\n      <g>\n       <use style=\"stroke:#000000;stroke-width:0.8;\" x=\"146.203756\" xlink:href=\"#m1d71b55894\" y=\"224.64\"/>\n      </g>\n     </g>\n     <g id=\"text_3\">\n      <!-- −2 -->\n      <g transform=\"translate(138.832663 239.238437)scale(0.1 -0.1)\">\n       <defs>\n        <path d=\"M 19.1875 8.296875 \nL 53.609375 8.296875 \nL 53.609375 0 \nL 7.328125 0 \nL 7.328125 8.296875 \nQ 12.9375 14.109375 22.625 23.890625 \nQ 32.328125 33.6875 34.8125 36.53125 \nQ 39.546875 41.84375 41.421875 45.53125 \nQ 43.3125 49.21875 43.3125 52.78125 \nQ 43.3125 58.59375 39.234375 62.25 \nQ 35.15625 65.921875 28.609375 65.921875 \nQ 23.96875 65.921875 18.8125 64.3125 \nQ 13.671875 62.703125 7.8125 59.421875 \nL 7.8125 69.390625 \nQ 13.765625 71.78125 18.9375 73 \nQ 24.125 74.21875 28.421875 74.21875 \nQ 39.75 74.21875 46.484375 68.546875 \nQ 53.21875 62.890625 53.21875 53.421875 \nQ 53.21875 48.921875 51.53125 44.890625 \nQ 49.859375 40.875 45.40625 35.40625 \nQ 44.1875 33.984375 37.640625 27.21875 \nQ 31.109375 20.453125 19.1875 8.296875 \nz\n\" id=\"DejaVuSans-50\"/>\n       </defs>\n       <use xlink:href=\"#DejaVuSans-8722\"/>\n       <use x=\"83.789062\" xlink:href=\"#DejaVuSans-50\"/>\n      </g>\n     </g>\n    </g>\n    <g id=\"xtick_4\">\n     <g id=\"line2d_7\">\n      <path clip-path=\"url(#p35234a083c)\" d=\"M 195.940981 224.64 \nL 195.940981 7.2 \n\" style=\"fill:none;stroke:#b0b0b0;stroke-linecap:square;stroke-width:0.8;\"/>\n     </g>\n     <g id=\"line2d_8\">\n      <g>\n       <use style=\"stroke:#000000;stroke-width:0.8;\" x=\"195.940981\" xlink:href=\"#m1d71b55894\" y=\"224.64\"/>\n      </g>\n     </g>\n     <g id=\"text_4\">\n      <!-- −1 -->\n      <g transform=\"translate(188.569887 239.238437)scale(0.1 -0.1)\">\n       <defs>\n        <path d=\"M 12.40625 8.296875 \nL 28.515625 8.296875 \nL 28.515625 63.921875 \nL 10.984375 60.40625 \nL 10.984375 69.390625 \nL 28.421875 72.90625 \nL 38.28125 72.90625 \nL 38.28125 8.296875 \nL 54.390625 8.296875 \nL 54.390625 0 \nL 12.40625 0 \nz\n\" id=\"DejaVuSans-49\"/>\n       </defs>\n       <use xlink:href=\"#DejaVuSans-8722\"/>\n       <use x=\"83.789062\" xlink:href=\"#DejaVuSans-49\"/>\n      </g>\n     </g>\n    </g>\n    <g id=\"xtick_5\">\n     <g id=\"line2d_9\">\n      <path clip-path=\"url(#p35234a083c)\" d=\"M 245.678206 224.64 \nL 245.678206 7.2 \n\" style=\"fill:none;stroke:#b0b0b0;stroke-linecap:square;stroke-width:0.8;\"/>\n     </g>\n     <g id=\"line2d_10\">\n      <g>\n       <use style=\"stroke:#000000;stroke-width:0.8;\" x=\"245.678206\" xlink:href=\"#m1d71b55894\" y=\"224.64\"/>\n      </g>\n     </g>\n     <g id=\"text_5\">\n      <!-- 0 -->\n      <g transform=\"translate(242.496956 239.238437)scale(0.1 -0.1)\">\n       <defs>\n        <path d=\"M 31.78125 66.40625 \nQ 24.171875 66.40625 20.328125 58.90625 \nQ 16.5 51.421875 16.5 36.375 \nQ 16.5 21.390625 20.328125 13.890625 \nQ 24.171875 6.390625 31.78125 6.390625 \nQ 39.453125 6.390625 43.28125 13.890625 \nQ 47.125 21.390625 47.125 36.375 \nQ 47.125 51.421875 43.28125 58.90625 \nQ 39.453125 66.40625 31.78125 66.40625 \nz\nM 31.78125 74.21875 \nQ 44.046875 74.21875 50.515625 64.515625 \nQ 56.984375 54.828125 56.984375 36.375 \nQ 56.984375 17.96875 50.515625 8.265625 \nQ 44.046875 -1.421875 31.78125 -1.421875 \nQ 19.53125 -1.421875 13.0625 8.265625 \nQ 6.59375 17.96875 6.59375 36.375 \nQ 6.59375 54.828125 13.0625 64.515625 \nQ 19.53125 74.21875 31.78125 74.21875 \nz\n\" id=\"DejaVuSans-48\"/>\n       </defs>\n       <use xlink:href=\"#DejaVuSans-48\"/>\n      </g>\n     </g>\n    </g>\n    <g id=\"xtick_6\">\n     <g id=\"line2d_11\">\n      <path clip-path=\"url(#p35234a083c)\" d=\"M 295.41543 224.64 \nL 295.41543 7.2 \n\" style=\"fill:none;stroke:#b0b0b0;stroke-linecap:square;stroke-width:0.8;\"/>\n     </g>\n     <g id=\"line2d_12\">\n      <g>\n       <use style=\"stroke:#000000;stroke-width:0.8;\" x=\"295.41543\" xlink:href=\"#m1d71b55894\" y=\"224.64\"/>\n      </g>\n     </g>\n     <g id=\"text_6\">\n      <!-- 1 -->\n      <g transform=\"translate(292.23418 239.238437)scale(0.1 -0.1)\">\n       <use xlink:href=\"#DejaVuSans-49\"/>\n      </g>\n     </g>\n    </g>\n    <g id=\"xtick_7\">\n     <g id=\"line2d_13\">\n      <path clip-path=\"url(#p35234a083c)\" d=\"M 345.152655 224.64 \nL 345.152655 7.2 \n\" style=\"fill:none;stroke:#b0b0b0;stroke-linecap:square;stroke-width:0.8;\"/>\n     </g>\n     <g id=\"line2d_14\">\n      <g>\n       <use style=\"stroke:#000000;stroke-width:0.8;\" x=\"345.152655\" xlink:href=\"#m1d71b55894\" y=\"224.64\"/>\n      </g>\n     </g>\n     <g id=\"text_7\">\n      <!-- 2 -->\n      <g transform=\"translate(341.971405 239.238437)scale(0.1 -0.1)\">\n       <use xlink:href=\"#DejaVuSans-50\"/>\n      </g>\n     </g>\n    </g>\n   </g>\n   <g id=\"matplotlib.axis_2\">\n    <g id=\"ytick_1\">\n     <g id=\"line2d_15\">\n      <path clip-path=\"url(#p35234a083c)\" d=\"M 46.0125 224.64 \nL 380.8125 224.64 \n\" style=\"fill:none;stroke:#b0b0b0;stroke-linecap:square;stroke-width:0.8;\"/>\n     </g>\n     <g id=\"line2d_16\">\n      <defs>\n       <path d=\"M 0 0 \nL -3.5 0 \n\" id=\"m590c13b8b4\" style=\"stroke:#000000;stroke-width:0.8;\"/>\n      </defs>\n      <g>\n       <use style=\"stroke:#000000;stroke-width:0.8;\" x=\"46.0125\" xlink:href=\"#m590c13b8b4\" y=\"224.64\"/>\n      </g>\n     </g>\n     <g id=\"text_8\">\n      <!-- 0 -->\n      <g transform=\"translate(32.65 228.439219)scale(0.1 -0.1)\">\n       <use xlink:href=\"#DejaVuSans-48\"/>\n      </g>\n     </g>\n    </g>\n    <g id=\"ytick_2\">\n     <g id=\"line2d_17\">\n      <path clip-path=\"url(#p35234a083c)\" d=\"M 46.0125 179.749208 \nL 380.8125 179.749208 \n\" style=\"fill:none;stroke:#b0b0b0;stroke-linecap:square;stroke-width:0.8;\"/>\n     </g>\n     <g id=\"line2d_18\">\n      <g>\n       <use style=\"stroke:#000000;stroke-width:0.8;\" x=\"46.0125\" xlink:href=\"#m590c13b8b4\" y=\"179.749208\"/>\n      </g>\n     </g>\n     <g id=\"text_9\">\n      <!-- 10000 -->\n      <g transform=\"translate(7.2 183.548426)scale(0.1 -0.1)\">\n       <use xlink:href=\"#DejaVuSans-49\"/>\n       <use x=\"63.623047\" xlink:href=\"#DejaVuSans-48\"/>\n       <use x=\"127.246094\" xlink:href=\"#DejaVuSans-48\"/>\n       <use x=\"190.869141\" xlink:href=\"#DejaVuSans-48\"/>\n       <use x=\"254.492188\" xlink:href=\"#DejaVuSans-48\"/>\n      </g>\n     </g>\n    </g>\n    <g id=\"ytick_3\">\n     <g id=\"line2d_19\">\n      <path clip-path=\"url(#p35234a083c)\" d=\"M 46.0125 134.858415 \nL 380.8125 134.858415 \n\" style=\"fill:none;stroke:#b0b0b0;stroke-linecap:square;stroke-width:0.8;\"/>\n     </g>\n     <g id=\"line2d_20\">\n      <g>\n       <use style=\"stroke:#000000;stroke-width:0.8;\" x=\"46.0125\" xlink:href=\"#m590c13b8b4\" y=\"134.858415\"/>\n      </g>\n     </g>\n     <g id=\"text_10\">\n      <!-- 20000 -->\n      <g transform=\"translate(7.2 138.657634)scale(0.1 -0.1)\">\n       <use xlink:href=\"#DejaVuSans-50\"/>\n       <use x=\"63.623047\" xlink:href=\"#DejaVuSans-48\"/>\n       <use x=\"127.246094\" xlink:href=\"#DejaVuSans-48\"/>\n       <use x=\"190.869141\" xlink:href=\"#DejaVuSans-48\"/>\n       <use x=\"254.492188\" xlink:href=\"#DejaVuSans-48\"/>\n      </g>\n     </g>\n    </g>\n    <g id=\"ytick_4\">\n     <g id=\"line2d_21\">\n      <path clip-path=\"url(#p35234a083c)\" d=\"M 46.0125 89.967623 \nL 380.8125 89.967623 \n\" style=\"fill:none;stroke:#b0b0b0;stroke-linecap:square;stroke-width:0.8;\"/>\n     </g>\n     <g id=\"line2d_22\">\n      <g>\n       <use style=\"stroke:#000000;stroke-width:0.8;\" x=\"46.0125\" xlink:href=\"#m590c13b8b4\" y=\"89.967623\"/>\n      </g>\n     </g>\n     <g id=\"text_11\">\n      <!-- 30000 -->\n      <g transform=\"translate(7.2 93.766842)scale(0.1 -0.1)\">\n       <use xlink:href=\"#DejaVuSans-51\"/>\n       <use x=\"63.623047\" xlink:href=\"#DejaVuSans-48\"/>\n       <use x=\"127.246094\" xlink:href=\"#DejaVuSans-48\"/>\n       <use x=\"190.869141\" xlink:href=\"#DejaVuSans-48\"/>\n       <use x=\"254.492188\" xlink:href=\"#DejaVuSans-48\"/>\n      </g>\n     </g>\n    </g>\n    <g id=\"ytick_5\">\n     <g id=\"line2d_23\">\n      <path clip-path=\"url(#p35234a083c)\" d=\"M 46.0125 45.076831 \nL 380.8125 45.076831 \n\" style=\"fill:none;stroke:#b0b0b0;stroke-linecap:square;stroke-width:0.8;\"/>\n     </g>\n     <g id=\"line2d_24\">\n      <g>\n       <use style=\"stroke:#000000;stroke-width:0.8;\" x=\"46.0125\" xlink:href=\"#m590c13b8b4\" y=\"45.076831\"/>\n      </g>\n     </g>\n     <g id=\"text_12\">\n      <!-- 40000 -->\n      <g transform=\"translate(7.2 48.876049)scale(0.1 -0.1)\">\n       <use xlink:href=\"#DejaVuSans-52\"/>\n       <use x=\"63.623047\" xlink:href=\"#DejaVuSans-48\"/>\n       <use x=\"127.246094\" xlink:href=\"#DejaVuSans-48\"/>\n       <use x=\"190.869141\" xlink:href=\"#DejaVuSans-48\"/>\n       <use x=\"254.492188\" xlink:href=\"#DejaVuSans-48\"/>\n      </g>\n     </g>\n    </g>\n   </g>\n   <g id=\"patch_13\">\n    <path d=\"M 46.0125 224.64 \nL 46.0125 7.2 \n\" style=\"fill:none;stroke:#000000;stroke-linecap:square;stroke-linejoin:miter;stroke-width:0.8;\"/>\n   </g>\n   <g id=\"patch_14\">\n    <path d=\"M 380.8125 224.64 \nL 380.8125 7.2 \n\" style=\"fill:none;stroke:#000000;stroke-linecap:square;stroke-linejoin:miter;stroke-width:0.8;\"/>\n   </g>\n   <g id=\"patch_15\">\n    <path d=\"M 46.0125 224.64 \nL 380.8125 224.64 \n\" style=\"fill:none;stroke:#000000;stroke-linecap:square;stroke-linejoin:miter;stroke-width:0.8;\"/>\n   </g>\n   <g id=\"patch_16\">\n    <path d=\"M 46.0125 7.2 \nL 380.8125 7.2 \n\" style=\"fill:none;stroke:#000000;stroke-linecap:square;stroke-linejoin:miter;stroke-width:0.8;\"/>\n   </g>\n  </g>\n </g>\n <defs>\n  <clipPath id=\"p35234a083c\">\n   <rect height=\"217.44\" width=\"334.8\" x=\"46.0125\" y=\"7.2\"/>\n  </clipPath>\n </defs>\n</svg>\n",
      "image/png": "[encoded data removed]"
     },
     "metadata": {
      "needs_background": "light"
     }
    }
   ],
   "source": [
    "(new_derived_df['ySatPosM']-new_derived_df['y']).hist()"
   ]
  },
  {
   "cell_type": "code",
   "execution_count": 42,
   "metadata": {},
   "outputs": [],
   "source": [
    "output_dir = '../input/derived/'\n",
    "os.makedirs(output_dir, exist_ok=True)"
   ]
  },
  {
   "cell_type": "code",
   "execution_count": 43,
   "metadata": {},
   "outputs": [
    {
     "output_type": "execute_result",
     "data": {
      "text/plain": [
       "('2021-04-22-US-SJC-1', 'SamsungS20Ultra')"
      ]
     },
     "metadata": {},
     "execution_count": 43
    }
   ],
   "source": [
    "cname, pname"
   ]
  },
  {
   "cell_type": "code",
   "execution_count": 44,
   "metadata": {},
   "outputs": [],
   "source": [
    "new_derived_df = new_derived_df.drop([\"xSatPosM\", \"ySatPosM\", \"zSatPosM\"], axis=1).rename(columns={\"x\":\"xSatPosM\", \"y\":\"ySatPosM\", \"z\":\"zSatPosM\"})"
   ]
  },
  {
   "cell_type": "code",
   "execution_count": 45,
   "metadata": {},
   "outputs": [
    {
     "output_type": "execute_result",
     "data": {
      "text/plain": [
       "((61290, 21), (61290, 21))"
      ]
     },
     "metadata": {},
     "execution_count": 45
    }
   ],
   "source": [
    "derived_df.shape, new_derived_df.shape"
   ]
  },
  {
   "cell_type": "code",
   "execution_count": 46,
   "metadata": {},
   "outputs": [
    {
     "output_type": "execute_result",
     "data": {
      "text/plain": [
       "set()"
      ]
     },
     "metadata": {},
     "execution_count": 46
    }
   ],
   "source": [
    "set(derived_df) - set(new_derived_df)"
   ]
  },
  {
   "cell_type": "code",
   "execution_count": 48,
   "metadata": {},
   "outputs": [],
   "source": [
    "new_derived_df.to_csv(output_dir + f'{cname}_{pname}_derived.csv', index=False)"
   ]
  },
  {
   "cell_type": "code",
   "execution_count": null,
   "metadata": {},
   "outputs": [],
   "source": [
    "# from tqdm.notebook import tqdm\n",
    "# count = 0\n",
    "# for (cname,pname), df in tqdm(train_df.groupby(['collectionName', 'phoneName'])):\n",
    "#     if 'SJC' in cname:   \n",
    "#         print(cname)\n",
    "#         gnss_df = gnss_log_to_dataframes(str(data_dir / \"train\" / cname / pname / f'{pname}_GnssLog.txt'))\n",
    "#         raw_df = gnss_df['Raw']\n",
    "#         derived_df = pd.read_csv(data_dir/\"train\"/cname/pname/f'{pname}_derived.csv')\n",
    "\n",
    "#         # pseudorangeの修正\n",
    "#         derived_df['correctedPrM'] = derived_df.apply(lambda r: r.rawPrM + r.satClkBiasM - r.isrbM - r.ionoDelayM - r.tropoDelayM,axis=1)\n",
    "#         # raw_df = apply_tips2(raw_df)\n",
    "#         # raw_df = apply_tips3(raw_df)\n",
    "#         derived_df = apply_tips1(raw_df, derived_df)\n",
    "#         derived_df = apply_tips5(derived_df)\n",
    "\n",
    "#         target_date = int(re.sub('-', '', cname)[:8])\n",
    "\n",
    "#         if os.path.exists(f\"../google-sdc-corrections/osr/json/{cname}.json\"):\n",
    "#             osr_df = pd.read_json(f\"../google-sdc-corrections/osr/json/{cname}.json\", lines=True)\n",
    "#         else:\n",
    "#             json_list = glob.glob(\"../google-sdc-corrections/osr/json/*.json\")\n",
    "#             json_list = [p for p in json_list if len(p.split('-'))==4]\n",
    "#             file_list = []\n",
    "#             for file_path in json_list:\n",
    "#                 file_name = file_path.split('/')[-1] \n",
    "#                 start_date = int(file_name[:8])\n",
    "#                 end_date = int(file_name[13:21])\n",
    "\n",
    "#                 # TODO 1こ以上ある場合に対処\n",
    "#                 if (start_date <= target_date)&(target_date<=end_date):\n",
    "#                     print(file_path)\n",
    "#                     osr_df = pd.read_json(file_path, lines=True)\n",
    "#         osr_df.drop([\"payload\"], axis=1, inplace=True)\n",
    "\n",
    "#         obs, base_pos, gps, bds, gal, glo, osr = decode_osr(osr_df)\n",
    "        \n",
    "#         df_list = []\n",
    "#         for ctype, df in derived_df.groupby(['constellationType']):\n",
    "#             # とりあえずGPSだけ\n",
    "#             if ctype == 1:\n",
    "#                 df = satpos_estimate(df, gps, ctype)\n",
    "#             if ctype == 5:\n",
    "#                 df = satpos_estimate(df, bds, ctype)\n",
    "#             elif ctype == 6:\n",
    "#                 df = satpos_estimate(df, gal, ctype)\n",
    "#             else:\n",
    "#                 df['x'] = df['xSatPosM'].to_numpy()\n",
    "#                 df['y'] = df['ySatPosM'].to_numpy()\n",
    "#                 df['z'] = df['zSatPosM'].to_numpy()\n",
    "#             df_list.append(df)"
   ]
  }
 ]
}