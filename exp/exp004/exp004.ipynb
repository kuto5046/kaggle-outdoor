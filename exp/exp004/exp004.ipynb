{
 "cells": [
  {
   "cell_type": "code",
   "execution_count": 1,
   "id": "422656d6-457b-49b5-b25a-9e1c578fdfd3",
   "metadata": {},
   "outputs": [],
   "source": [
    "import numpy as np\n",
    "import pandas as pd\n",
    "import glob\n",
    "import os\n",
    "import matplotlib.pyplot as plt\n",
    "from tqdm.notebook import tqdm\n",
    "from pathlib import Path\n",
    "\n",
    "def get_ground_truth(args):\n",
    "    (collectionName, phoneName), df = args\n",
    "    \n",
    "    path = root_dir / f\"train/{collectionName}/{phoneName}/ground_truth.csv\"\n",
    "    target_df = pd.read_csv(path)\n",
    "    output_df = pd.DataFrame()\n",
    "    # merge derived and target by 'millisSinceGpsEpoch'\n",
    "    for epoch, epoch_df in df.groupby('millisSinceGpsEpoch'):\n",
    "        idx = (target_df['millisSinceGpsEpoch'] - epoch).abs().argmin()\n",
    "        epoch_diff = epoch - target_df.loc[idx, 'millisSinceGpsEpoch']\n",
    "        epoch_df['epoch_diff'] = epoch_diff\n",
    "        epoch_df['target_latDeg'] = target_df.loc[idx, 'latDeg']\n",
    "        epoch_df['target_lngDeg'] = target_df.loc[idx, 'lngDeg']\n",
    "        output_df = pd.concat([output_df, epoch_df]).reset_index(drop=True)    \n",
    "    return output_df"
   ]
  },
  {
   "cell_type": "code",
   "execution_count": 2,
   "id": "f728f5c8-726a-4e65-b564-333c51c4316b",
   "metadata": {},
   "outputs": [],
   "source": [
    "# metric\n",
    "def calc_haversine(lat1, lon1, lat2, lon2):\n",
    "    \"\"\"Calculates the great circle distance between two points\n",
    "    on the earth. Inputs are array-like and specified in decimal degrees.\n",
    "    \"\"\"\n",
    "    RADIUS = 6_367_000\n",
    "    lat1, lon1, lat2, lon2 = map(np.radians, [lat1, lon1, lat2, lon2])\n",
    "    dlat = lat2 - lat1\n",
    "    dlon = lon2 - lon1\n",
    "    a = np.sin(dlat/2)**2 + \\\n",
    "        np.cos(lat1) * np.cos(lat2) * np.sin(dlon/2)**2\n",
    "    dist = 2 * RADIUS * np.arcsin(a**0.5)\n",
    "    return dist"
   ]
  },
  {
   "cell_type": "code",
   "execution_count": 3,
   "id": "4acf3f32-35c5-4f22-bbb4-4dc85a1cc0ab",
   "metadata": {},
   "outputs": [],
   "source": [
    "import simdkalman\n",
    "\n",
    "# define kf model\n",
    "T = 1.0\n",
    "state_transition = np.array([[1, 0, T, 0, 0.5 * T ** 2, 0], [0, 1, 0, T, 0, 0.5 * T ** 2], [0, 0, 1, 0, T, 0],\n",
    "                             [0, 0, 0, 1, 0, T], [0, 0, 0, 0, 1, 0], [0, 0, 0, 0, 0, 1]])\n",
    "process_noise = np.diag([1e-5, 1e-5, 5e-6, 5e-6, 1e-6, 1e-6]) + np.ones((6, 6)) * 1e-9\n",
    "observation_model = np.array([[1, 0, 0, 0, 0, 0], [0, 1, 0, 0, 0, 0]])\n",
    "observation_noise = np.diag([5e-5, 5e-5]) + np.ones((2, 2)) * 1e-9\n",
    "\n",
    "kf = simdkalman.KalmanFilter(\n",
    "        state_transition = state_transition,\n",
    "        process_noise = process_noise,\n",
    "        observation_model = observation_model,\n",
    "        observation_noise = observation_noise)"
   ]
  },
  {
   "cell_type": "code",
   "execution_count": 4,
   "id": "53b56dce-0b55-4cce-844a-60516b69f5ea",
   "metadata": {},
   "outputs": [],
   "source": [
    "def apply_kf_smoothing(df, kf_=kf):\n",
    "    unique_paths = df[['collectionName', 'phoneName']].drop_duplicates().to_numpy()\n",
    "    for collection, phone in tqdm(unique_paths):\n",
    "        cond = np.logical_and(df['collectionName'] == collection, df['phoneName'] == phone)\n",
    "        data = df[cond][['latDeg', 'lngDeg']].to_numpy()\n",
    "        data = data.reshape(1, len(data), 2)\n",
    "        smoothed = kf_.smooth(data)\n",
    "        df.loc[cond, 'latDeg'] = smoothed.states.mean[0, :, 0]\n",
    "        df.loc[cond, 'lngDeg'] = smoothed.states.mean[0, :, 1]\n",
    "    return df"
   ]
  },
  {
   "cell_type": "code",
   "execution_count": 5,
   "id": "95b5a9f0-be23-4fa1-9022-5f2d45e343eb",
   "metadata": {},
   "outputs": [],
   "source": [
    "def linear_interpolation(input_df):\n",
    "    dfs = pd.DataFrame()\n",
    "    for (collectionName, phoneName), df in input_df.groupby(['collectionName','phoneName']):\n",
    "\n",
    "        df['delta'] = calc_haversine(df['latDeg'], df['lngDeg'], df['latDeg'].shift(1), df['lngDeg'].shift(1))\n",
    "        df['time_delta'] = df['millisSinceGpsEpoch'] - df['millisSinceGpsEpoch'].shift(1)\n",
    "        df['delta'].fillna(0, inplace=True)\n",
    "        df['time_delta'].fillna(0, inplace=True)\n",
    "        df['speed'] = df['delta'] / (df['time_delta']/1000)  # m/s\n",
    "        df['speed'].fillna(0, inplace=True)\n",
    "\n",
    "        # 一度欠損値にする\n",
    "        df.loc[50<df['speed'], ['latDeg', 'lngDeg']] = np.nan\n",
    "        df['dummy_datetime'] = pd.to_datetime(df['millisSinceGpsEpoch'])\n",
    "        df = df.set_index('dummy_datetime')\n",
    "\n",
    "        # 時間に合わせて線形補間\n",
    "        df = df.interpolate(method='time').reset_index(drop=True)\n",
    "        dfs = pd.concat([dfs, df]).reset_index(drop=True)\n",
    "    return dfs"
   ]
  },
  {
   "cell_type": "code",
   "execution_count": 6,
   "id": "8a012b61-4fb6-4ded-a8de-f555780cc848",
   "metadata": {},
   "outputs": [],
   "source": [
    "# config\n",
    "EXP_NAME = str(Path().resolve()).split('/')[-1]"
   ]
  },
  {
   "cell_type": "code",
   "execution_count": 7,
   "id": "4a1eb288-f002-48a6-a1c4-e05e6188fc44",
   "metadata": {},
   "outputs": [
    {
     "data": {
      "text/plain": [
       "'exp004'"
      ]
     },
     "execution_count": 7,
     "metadata": {},
     "output_type": "execute_result"
    }
   ],
   "source": [
    "EXP_NAME"
   ]
  },
  {
   "cell_type": "code",
   "execution_count": 8,
   "id": "431fd46c-93fc-4129-b91d-df05a77402e7",
   "metadata": {},
   "outputs": [],
   "source": [
    "# waypointを補正したdataset\n",
    "root_dir = Path('../../input/')\n",
    "test_df = pd.read_csv(root_dir / \"baseline_locations_test.csv\")\n",
    "sub_df = pd.read_csv(root_dir / 'sample_submission.csv')"
   ]
  },
  {
   "cell_type": "markdown",
   "id": "a5d351e8-a8c0-465d-a48f-9bdb725de488",
   "metadata": {},
   "source": [
    "## LI -> KF  "
   ]
  },
  {
   "cell_type": "code",
   "execution_count": 9,
   "id": "2a0e3c1b-db7d-439a-b48c-ee40ddb43843",
   "metadata": {},
   "outputs": [
    {
     "data": {
      "application/vnd.jupyter.widget-view+json": {
       "model_id": "a8fd4ff1307f4e42903c052b2875e263",
       "version_major": 2,
       "version_minor": 0
      },
      "text/plain": [
       "  0%|          | 0/73 [00:00<?, ?it/s]"
      ]
     },
     "metadata": {},
     "output_type": "display_data"
    },
    {
     "data": {
      "text/plain": [
       "3.846848374995186"
      ]
     },
     "execution_count": 9,
     "metadata": {},
     "output_type": "execute_result"
    }
   ],
   "source": [
    "import multiprocessing\n",
    "train_df = pd.read_csv(root_dir / \"baseline_locations_train.csv\")\n",
    "processes = multiprocessing.cpu_count()\n",
    "with multiprocessing.Pool(processes=processes) as pool:\n",
    "    gr = train_df.groupby(['collectionName','phoneName'])\n",
    "    dfs = pool.imap_unordered(get_ground_truth, gr)\n",
    "    dfs = tqdm(dfs, total=len(gr))\n",
    "    dfs = list(dfs)\n",
    "train_df = pd.concat(dfs).sort_values(['collectionName', 'phoneName', 'millisSinceGpsEpoch'])\n",
    "train_df['distance'] = calc_haversine(train_df['latDeg'],train_df['lngDeg'],\n",
    "                                      train_df['target_latDeg'], train_df['target_lngDeg'])\n",
    "train_df['distance'].mean()"
   ]
  },
  {
   "cell_type": "code",
   "execution_count": 10,
   "id": "697156a5-7774-44c2-a197-04010001c50d",
   "metadata": {},
   "outputs": [
    {
     "data": {
      "text/plain": [
       "3.6084284244593343"
      ]
     },
     "execution_count": 10,
     "metadata": {},
     "output_type": "execute_result"
    }
   ],
   "source": [
    "train_df = linear_interpolation(train_df)\n",
    "train_df['distance'] = calc_haversine(train_df['latDeg'],train_df['lngDeg'],train_df['target_latDeg'], train_df['target_lngDeg'])\n",
    "train_df['distance'].mean()"
   ]
  },
  {
   "cell_type": "code",
   "execution_count": 11,
   "id": "cff759d6-1567-4b3c-80cb-e876985303b5",
   "metadata": {},
   "outputs": [
    {
     "data": {
      "application/vnd.jupyter.widget-view+json": {
       "model_id": "94eb7f70e0c445b8a1c1c043576401e8",
       "version_major": 2,
       "version_minor": 0
      },
      "text/plain": [
       "  0%|          | 0/73 [00:00<?, ?it/s]"
      ]
     },
     "metadata": {},
     "output_type": "display_data"
    },
    {
     "data": {
      "text/plain": [
       "3.1564629632183157"
      ]
     },
     "execution_count": 11,
     "metadata": {},
     "output_type": "execute_result"
    }
   ],
   "source": [
    "train_df = apply_kf_smoothing(train_df)\n",
    "train_df['distance'] = calc_haversine(train_df['latDeg'],train_df['lngDeg'],\n",
    "                                      train_df['target_latDeg'], train_df['target_lngDeg'])\n",
    "train_df['distance'].mean()"
   ]
  },
  {
   "cell_type": "code",
   "execution_count": 12,
   "id": "097709f1-c2f8-47af-9e56-7a870e818755",
   "metadata": {},
   "outputs": [
    {
     "data": {
      "text/plain": [
       "3.1397305929214223"
      ]
     },
     "execution_count": 12,
     "metadata": {},
     "output_type": "execute_result"
    }
   ],
   "source": [
    "# 同じcollection、epochである端末の予測値を平均する(アンサンブル的な感じ)\n",
    "train_df = train_df.merge(train_df.groupby(['collectionName', 'millisSinceGpsEpoch'])[['latDeg', 'lngDeg']].mean(), on=['collectionName', 'millisSinceGpsEpoch'])\n",
    "train_df = train_df.drop(['latDeg_x', 'lngDeg_x'], axis=1).rename(columns={'latDeg_y':'latDeg', 'lngDeg_y':'lngDeg'})\n",
    "\n",
    "train_df['distance'] = calc_haversine(train_df['latDeg'],train_df['lngDeg'],\n",
    "                                      train_df['target_latDeg'], train_df['target_lngDeg'])\n",
    "train_df['distance'].mean()"
   ]
  },
  {
   "cell_type": "code",
   "execution_count": 13,
   "id": "8de0429e-3a25-4d2a-8cd2-7a5f35b5acc4",
   "metadata": {},
   "outputs": [],
   "source": [
    "import pickle\n",
    "def to_pickle(filename, obj):\n",
    "    with open(filename, mode='wb') as f:\n",
    "        pickle.dump(obj, f)\n",
    "        \n",
    "def from_pickle(filename):\n",
    "    with open(filename, mode='rb') as f:\n",
    "        obj = pickle.load(f)\n",
    "    return obj"
   ]
  },
  {
   "cell_type": "markdown",
   "id": "cc30a1c0-49b7-44f8-9064-13df06e6c8ad",
   "metadata": {},
   "source": [
    "## test"
   ]
  },
  {
   "cell_type": "code",
   "execution_count": 14,
   "id": "af217062-16f1-4874-864d-2aa205982b2d",
   "metadata": {},
   "outputs": [],
   "source": [
    "test_df = linear_interpolation(test_df)"
   ]
  },
  {
   "cell_type": "code",
   "execution_count": 15,
   "id": "5c295e58-1b14-4c99-8a05-2e6fc2ac5a60",
   "metadata": {},
   "outputs": [
    {
     "name": "stdout",
     "output_type": "stream",
     "text": [
      "<class 'pandas.core.frame.DataFrame'>\n",
      "RangeIndex: 91486 entries, 0 to 91485\n",
      "Data columns (total 10 columns):\n",
      " #   Column                      Non-Null Count  Dtype  \n",
      "---  ------                      --------------  -----  \n",
      " 0   collectionName              91486 non-null  object \n",
      " 1   phoneName                   91486 non-null  object \n",
      " 2   millisSinceGpsEpoch         91486 non-null  int64  \n",
      " 3   latDeg                      91486 non-null  float64\n",
      " 4   lngDeg                      91486 non-null  float64\n",
      " 5   heightAboveWgs84EllipsoidM  91486 non-null  float64\n",
      " 6   phone                       91486 non-null  object \n",
      " 7   delta                       91486 non-null  float64\n",
      " 8   time_delta                  91486 non-null  float64\n",
      " 9   speed                       91486 non-null  float64\n",
      "dtypes: float64(6), int64(1), object(3)\n",
      "memory usage: 7.0+ MB\n"
     ]
    }
   ],
   "source": [
    "test_df.info()"
   ]
  },
  {
   "cell_type": "code",
   "execution_count": 16,
   "id": "09382e4a-e7cd-47f2-a7ee-4d43810a8fad",
   "metadata": {},
   "outputs": [
    {
     "data": {
      "application/vnd.jupyter.widget-view+json": {
       "model_id": "8a3ef9f30f4847da931b2260b7a1612f",
       "version_major": 2,
       "version_minor": 0
      },
      "text/plain": [
       "  0%|          | 0/48 [00:00<?, ?it/s]"
      ]
     },
     "metadata": {},
     "output_type": "display_data"
    }
   ],
   "source": [
    "test_df = apply_kf_smoothing(test_df)"
   ]
  },
  {
   "cell_type": "code",
   "execution_count": 19,
   "id": "f8703e87-3d9e-49f3-aaa6-7e5d0d27687d",
   "metadata": {},
   "outputs": [],
   "source": [
    "# 同じcollection、epochである端末の予測値を平均する(アンサンブル的な感じ)\n",
    "test_df = test_df.merge(test_df.groupby(['collectionName', 'millisSinceGpsEpoch'])[['latDeg', 'lngDeg']].mean(), on=['collectionName', 'millisSinceGpsEpoch'])\n",
    "test_df = test_df.drop(['latDeg_x', 'lngDeg_x'], axis=1).rename(columns={'latDeg_y':'latDeg', 'lngDeg_y':'lngDeg'})"
   ]
  },
  {
   "cell_type": "code",
   "execution_count": 20,
   "id": "021945b4-3368-4396-b6fa-7d4fb58b38ea",
   "metadata": {},
   "outputs": [],
   "source": [
    "# sub_df = sub_df.assign(\n",
    "#     latDeg = test_df['latDeg'],\n",
    "#     lngDeg = test_df['lngDeg']\n",
    "# )\n",
    "sub_df = sub_df.drop(['latDeg', 'lngDeg'], axis=1).merge(test_df[['phone', 'millisSinceGpsEpoch', 'latDeg', 'lngDeg']], on=['phone', 'millisSinceGpsEpoch'])\n",
    "sub_df.to_csv('submission.csv', index=False)"
   ]
  },
  {
   "cell_type": "code",
   "execution_count": 21,
   "id": "ef121afa-f8eb-457c-9050-b7f8b1269d71",
   "metadata": {},
   "outputs": [],
   "source": [
    "_sub_df = pd.read_csv('../exp002/submission.csv')"
   ]
  },
  {
   "cell_type": "code",
   "execution_count": 22,
   "id": "b7903fb3-3c32-42dc-9e68-7a5d86ce414c",
   "metadata": {},
   "outputs": [
    {
     "data": {
      "text/plain": [
       "0.07079483160052207"
      ]
     },
     "execution_count": 22,
     "metadata": {},
     "output_type": "execute_result"
    }
   ],
   "source": [
    "calc_haversine(sub_df['latDeg'],sub_df['lngDeg'],\n",
    "               _sub_df['latDeg'], _sub_df['lngDeg']).mean()"
   ]
  }
 ],
 "metadata": {
  "kernelspec": {
   "display_name": "Python 3",
   "language": "python",
   "name": "python3"
  },
  "language_info": {
   "codemirror_mode": {
    "name": "ipython",
    "version": 3
   },
   "file_extension": ".py",
   "mimetype": "text/x-python",
   "name": "python",
   "nbconvert_exporter": "python",
   "pygments_lexer": "ipython3",
   "version": "3.8.5"
  },
  "widgets": {
   "application/vnd.jupyter.widget-state+json": {
    "state": {
     "00bf5914059f494290386ac1c56c3384": {
      "model_module": "@jupyter-widgets/base",
      "model_module_version": "1.2.0",
      "model_name": "LayoutModel",
      "state": {}
     },
     "068a8ef1559b44d4a38630746583cdb6": {
      "model_module": "@jupyter-widgets/controls",
      "model_module_version": "1.5.0",
      "model_name": "DescriptionStyleModel",
      "state": {
       "description_width": ""
      }
     },
     "0912bc8b3d75422daa956ef375f20973": {
      "model_module": "@jupyter-widgets/base",
      "model_module_version": "1.2.0",
      "model_name": "LayoutModel",
      "state": {}
     },
     "123dcd5d03694aac81a370d105d714c1": {
      "model_module": "@jupyter-widgets/controls",
      "model_module_version": "1.5.0",
      "model_name": "FloatProgressModel",
      "state": {
       "bar_style": "success",
       "layout": "IPY_MODEL_ac0922e712d14f06b538b7cd7952a583",
       "max": 73,
       "style": "IPY_MODEL_d4f323ff72c548569b7472e06aeba22c",
       "value": 73
      }
     },
     "1731c5d17bde45f480aebc541b264685": {
      "model_module": "@jupyter-widgets/base",
      "model_module_version": "1.2.0",
      "model_name": "LayoutModel",
      "state": {}
     },
     "28995f4b8499485c8c1c4411182eb8b1": {
      "model_module": "@jupyter-widgets/controls",
      "model_module_version": "1.5.0",
      "model_name": "DescriptionStyleModel",
      "state": {
       "description_width": ""
      }
     },
     "2cf2702fc2bd45feb0513e286cbdbddb": {
      "model_module": "@jupyter-widgets/controls",
      "model_module_version": "1.5.0",
      "model_name": "HTMLModel",
      "state": {
       "layout": "IPY_MODEL_b3e8f41a248a45f6b30ac8d9ffb4ea88",
       "style": "IPY_MODEL_8a6ad24c04344260bb10e8e00c9f5b19",
       "value": "100%"
      }
     },
     "43c86d09a3b14ef28d599fe69bbba767": {
      "model_module": "@jupyter-widgets/controls",
      "model_module_version": "1.5.0",
      "model_name": "DescriptionStyleModel",
      "state": {
       "description_width": ""
      }
     },
     "467720a431004ad4a3996d8e47aa536e": {
      "model_module": "@jupyter-widgets/controls",
      "model_module_version": "1.5.0",
      "model_name": "HTMLModel",
      "state": {
       "layout": "IPY_MODEL_d643960b74584b9582fb39e98b3bafd4",
       "style": "IPY_MODEL_068a8ef1559b44d4a38630746583cdb6",
       "value": " 48/48 [00:11&lt;00:00,  4.10it/s]"
      }
     },
     "53a41e5c01ea4a85bd669986a884b774": {
      "model_module": "@jupyter-widgets/controls",
      "model_module_version": "1.5.0",
      "model_name": "HTMLModel",
      "state": {
       "layout": "IPY_MODEL_dce007f50e674165ade4c4b6cc0ba49d",
       "style": "IPY_MODEL_ca439ceb54c74bb09b694d02c7aebef1",
       "value": " 73/73 [00:16&lt;00:00,  3.81it/s]"
      }
     },
     "585620b1f7624183aef31ed111e6151c": {
      "model_module": "@jupyter-widgets/controls",
      "model_module_version": "1.5.0",
      "model_name": "HTMLModel",
      "state": {
       "layout": "IPY_MODEL_1731c5d17bde45f480aebc541b264685",
       "style": "IPY_MODEL_28995f4b8499485c8c1c4411182eb8b1",
       "value": " 73/73 [00:22&lt;00:00,  3.04it/s]"
      }
     },
     "748f3b580b674da1b5961c305af8a363": {
      "model_module": "@jupyter-widgets/controls",
      "model_module_version": "1.5.0",
      "model_name": "HTMLModel",
      "state": {
       "layout": "IPY_MODEL_a6ac9555bdb04d6ba08a7df7b33ea1cd",
       "style": "IPY_MODEL_b715677afe9043e081bbb6c955442857",
       "value": "100%"
      }
     },
     "7f7218df56a640c49489de28b11ac81b": {
      "model_module": "@jupyter-widgets/base",
      "model_module_version": "1.2.0",
      "model_name": "LayoutModel",
      "state": {}
     },
     "8a3ef9f30f4847da931b2260b7a1612f": {
      "model_module": "@jupyter-widgets/controls",
      "model_module_version": "1.5.0",
      "model_name": "HBoxModel",
      "state": {
       "children": [
        "IPY_MODEL_c876913e7c274f4b8572293ba06a0c64",
        "IPY_MODEL_c45d78a7bd4d4e228d01d07b8a875ff7",
        "IPY_MODEL_467720a431004ad4a3996d8e47aa536e"
       ],
       "layout": "IPY_MODEL_00bf5914059f494290386ac1c56c3384"
      }
     },
     "8a6ad24c04344260bb10e8e00c9f5b19": {
      "model_module": "@jupyter-widgets/controls",
      "model_module_version": "1.5.0",
      "model_name": "DescriptionStyleModel",
      "state": {
       "description_width": ""
      }
     },
     "940c0aceec324198b44286e2f5f628a8": {
      "model_module": "@jupyter-widgets/controls",
      "model_module_version": "1.5.0",
      "model_name": "ProgressStyleModel",
      "state": {
       "description_width": ""
      }
     },
     "94eb7f70e0c445b8a1c1c043576401e8": {
      "model_module": "@jupyter-widgets/controls",
      "model_module_version": "1.5.0",
      "model_name": "HBoxModel",
      "state": {
       "children": [
        "IPY_MODEL_2cf2702fc2bd45feb0513e286cbdbddb",
        "IPY_MODEL_123dcd5d03694aac81a370d105d714c1",
        "IPY_MODEL_53a41e5c01ea4a85bd669986a884b774"
       ],
       "layout": "IPY_MODEL_0912bc8b3d75422daa956ef375f20973"
      }
     },
     "a6ac9555bdb04d6ba08a7df7b33ea1cd": {
      "model_module": "@jupyter-widgets/base",
      "model_module_version": "1.2.0",
      "model_name": "LayoutModel",
      "state": {}
     },
     "a6d2268fffd648988dcb13046734b2b5": {
      "model_module": "@jupyter-widgets/base",
      "model_module_version": "1.2.0",
      "model_name": "LayoutModel",
      "state": {}
     },
     "a8fd4ff1307f4e42903c052b2875e263": {
      "model_module": "@jupyter-widgets/controls",
      "model_module_version": "1.5.0",
      "model_name": "HBoxModel",
      "state": {
       "children": [
        "IPY_MODEL_748f3b580b674da1b5961c305af8a363",
        "IPY_MODEL_c482b7a80a2b47b49dd4ea1424d14d28",
        "IPY_MODEL_585620b1f7624183aef31ed111e6151c"
       ],
       "layout": "IPY_MODEL_c8c52c02fa12439d8b46926dbb3a01fe"
      }
     },
     "ac0922e712d14f06b538b7cd7952a583": {
      "model_module": "@jupyter-widgets/base",
      "model_module_version": "1.2.0",
      "model_name": "LayoutModel",
      "state": {}
     },
     "b3e8f41a248a45f6b30ac8d9ffb4ea88": {
      "model_module": "@jupyter-widgets/base",
      "model_module_version": "1.2.0",
      "model_name": "LayoutModel",
      "state": {}
     },
     "b5bbd06af5994a759d7e8a24c4f9249c": {
      "model_module": "@jupyter-widgets/controls",
      "model_module_version": "1.5.0",
      "model_name": "ProgressStyleModel",
      "state": {
       "description_width": ""
      }
     },
     "b715677afe9043e081bbb6c955442857": {
      "model_module": "@jupyter-widgets/controls",
      "model_module_version": "1.5.0",
      "model_name": "DescriptionStyleModel",
      "state": {
       "description_width": ""
      }
     },
     "c45d78a7bd4d4e228d01d07b8a875ff7": {
      "model_module": "@jupyter-widgets/controls",
      "model_module_version": "1.5.0",
      "model_name": "FloatProgressModel",
      "state": {
       "bar_style": "success",
       "layout": "IPY_MODEL_7f7218df56a640c49489de28b11ac81b",
       "max": 48,
       "style": "IPY_MODEL_940c0aceec324198b44286e2f5f628a8",
       "value": 48
      }
     },
     "c482b7a80a2b47b49dd4ea1424d14d28": {
      "model_module": "@jupyter-widgets/controls",
      "model_module_version": "1.5.0",
      "model_name": "FloatProgressModel",
      "state": {
       "bar_style": "success",
       "layout": "IPY_MODEL_c5e0bcff216f417ab0efb39ef7ad34f1",
       "max": 73,
       "style": "IPY_MODEL_b5bbd06af5994a759d7e8a24c4f9249c",
       "value": 73
      }
     },
     "c5e0bcff216f417ab0efb39ef7ad34f1": {
      "model_module": "@jupyter-widgets/base",
      "model_module_version": "1.2.0",
      "model_name": "LayoutModel",
      "state": {}
     },
     "c876913e7c274f4b8572293ba06a0c64": {
      "model_module": "@jupyter-widgets/controls",
      "model_module_version": "1.5.0",
      "model_name": "HTMLModel",
      "state": {
       "layout": "IPY_MODEL_a6d2268fffd648988dcb13046734b2b5",
       "style": "IPY_MODEL_43c86d09a3b14ef28d599fe69bbba767",
       "value": "100%"
      }
     },
     "c8c52c02fa12439d8b46926dbb3a01fe": {
      "model_module": "@jupyter-widgets/base",
      "model_module_version": "1.2.0",
      "model_name": "LayoutModel",
      "state": {}
     },
     "ca439ceb54c74bb09b694d02c7aebef1": {
      "model_module": "@jupyter-widgets/controls",
      "model_module_version": "1.5.0",
      "model_name": "DescriptionStyleModel",
      "state": {
       "description_width": ""
      }
     },
     "d4f323ff72c548569b7472e06aeba22c": {
      "model_module": "@jupyter-widgets/controls",
      "model_module_version": "1.5.0",
      "model_name": "ProgressStyleModel",
      "state": {
       "description_width": ""
      }
     },
     "d643960b74584b9582fb39e98b3bafd4": {
      "model_module": "@jupyter-widgets/base",
      "model_module_version": "1.2.0",
      "model_name": "LayoutModel",
      "state": {}
     },
     "dce007f50e674165ade4c4b6cc0ba49d": {
      "model_module": "@jupyter-widgets/base",
      "model_module_version": "1.2.0",
      "model_name": "LayoutModel",
      "state": {}
     }
    },
    "version_major": 2,
    "version_minor": 0
   }
  }
 },
 "nbformat": 4,
 "nbformat_minor": 5
}
