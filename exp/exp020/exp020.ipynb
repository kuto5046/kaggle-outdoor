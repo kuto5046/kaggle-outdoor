{
 "cells": [
  {
   "cell_type": "code",
   "execution_count": 1,
   "metadata": {},
   "outputs": [],
   "source": [
    "import numpy as np\n",
    "import pandas as pd\n",
    "import glob\n",
    "import os\n",
    "import matplotlib.pyplot as plt\n",
    "from tqdm.notebook import tqdm\n",
    "from pathlib import Path\n",
    "import multiprocessing\n",
    "from scipy.spatial.distance import cdist\n",
    "import yaml"
   ]
  },
  {
   "cell_type": "code",
   "execution_count": 2,
   "metadata": {},
   "outputs": [],
   "source": [
    "def seed_everything(seed: int):\n",
    "    random.seed(seed)\n",
    "    os.environ[\"PYTHONHASHSEED\"] = str(seed)\n",
    "    np.random.seed(seed)"
   ]
  },
  {
   "cell_type": "code",
   "execution_count": 3,
   "metadata": {},
   "outputs": [],
   "source": [
    "# config\n",
    "with open('config.yaml') as f:\n",
    "    config = yaml.safe_load(f)\n",
    "\n",
    "# globals variable\n",
    "SEED = config['globals']['seed']\n",
    "N_SPLITS = config['globals']['n_splits']\n",
    "USE_FOLDS = config['globals']['use_folds']\n",
    "DEBUG = config['globals']['debug']\n",
    "EXP_MESSAGE = config['globals']['exp_message']\n",
    "NOTES = config['globals']['notes']\n",
    "EXP_NAME = str(Path().resolve()).split('/')[-1]"
   ]
  },
  {
   "cell_type": "code",
   "execution_count": 4,
   "metadata": {},
   "outputs": [],
   "source": [
    "import pickle\n",
    "def to_pickle(filename, obj):\n",
    "    with open(filename, mode='wb') as f:\n",
    "        pickle.dump(obj, f)\n",
    "        \n",
    "def from_pickle(filename):\n",
    "    with open(filename, mode='rb') as f:\n",
    "        obj = pickle.load(f)\n",
    "    return obj"
   ]
  },
  {
   "cell_type": "code",
   "execution_count": 5,
   "metadata": {},
   "outputs": [],
   "source": [
    "def get_ground_truth(args):\n",
    "    (collectionName, phoneName), df = args\n",
    "    \n",
    "    path = root_dir / f\"train/{collectionName}/{phoneName}/ground_truth.csv\"\n",
    "    target_df = pd.read_csv(path)\n",
    "    output_df = pd.DataFrame()\n",
    "    # merge derived and target by 'millisSinceGpsEpoch'\n",
    "    for epoch, epoch_df in df.groupby('millisSinceGpsEpoch'):\n",
    "        idx = (target_df['millisSinceGpsEpoch'] - epoch).abs().argmin()\n",
    "        epoch_diff = epoch - target_df.loc[idx, 'millisSinceGpsEpoch']\n",
    "        epoch_df['epoch_diff'] = epoch_diff\n",
    "        epoch_df['target_latDeg'] = target_df.loc[idx, 'latDeg']\n",
    "        epoch_df['target_lngDeg'] = target_df.loc[idx, 'lngDeg']\n",
    "        epoch_df['speedMps'] = target_df.loc[idx, 'speedMps']\n",
    "        output_df = pd.concat([output_df, epoch_df]).reset_index(drop=True)    \n",
    "    return output_df"
   ]
  },
  {
   "cell_type": "code",
   "execution_count": 6,
   "metadata": {},
   "outputs": [],
   "source": [
    "import plotly.express as px\n",
    "\n",
    "def visualize_trafic(df):\n",
    "    fig = px.scatter_mapbox(df,\n",
    "                            \n",
    "                            # Here, plotly gets, (x,y) coordinates\n",
    "                            lat=\"latDeg\",\n",
    "                            lon=\"lngDeg\",\n",
    "                            text='phoneName',\n",
    "                            \n",
    "                            #Here, plotly detects color of series\n",
    "                            color=\"collectionName\",\n",
    "                            labels=\"collectionName\",\n",
    "                            \n",
    "                            zoom=9,\n",
    "                            center={\"lat\":37.423576, \"lon\":-122.094132},\n",
    "                            height=600,\n",
    "                            width=800)\n",
    "    fig.update_layout(mapbox_style='stamen-terrain')\n",
    "    fig.update_layout(margin={\"r\": 0, \"t\": 0, \"l\": 0, \"b\": 0})\n",
    "    fig.update_layout(title_text=\"GPS trafic\")\n",
    "    fig.show()\n",
    "\n",
    "\n",
    "def visualize_collection(df, root_dir, collection_name='2021-04-29-US-SJC-2'):\n",
    "    gt_df = pd.read_csv(root_dir / 'all_ground_truth.csv')\n",
    "    gt_df['phoneName'] = 'ground truth'\n",
    "    gt_df = pd.concat([df, gt_df])\n",
    "    target_df = gt_df[gt_df['collectionName']==collection_name]   \n",
    "    target_df['elapsed_epoch'] = ((target_df['millisSinceGpsEpoch'] - target_df['millisSinceGpsEpoch'].min()) / 1000).astype(str).to_numpy()\n",
    "    fig = px.scatter_mapbox(target_df,\n",
    "                                \n",
    "                            # Here, plotly gets, (x,y) coordinates\n",
    "                            lat=\"latDeg\",\n",
    "                            lon=\"lngDeg\",\n",
    "                            text='elapsed_epoch',\n",
    "                                \n",
    "                            #Here, plotly detects color of series\n",
    "                            color=\"phoneName\",\n",
    "                            labels=\"phoneName\",\n",
    "                                \n",
    "                            zoom=9,\n",
    "                            center={\"lat\":37.423576, \"lon\":-122.094132},\n",
    "                            height=600,\n",
    "                            width=800)\n",
    "    fig.update_layout(mapbox_style='stamen-terrain')\n",
    "    fig.update_layout(margin={\"r\": 0, \"t\": 0, \"l\": 0, \"b\": 0})\n",
    "    fig.update_layout(title_text=\"{collection_name}\")\n",
    "    fig.show()"
   ]
  },
  {
   "cell_type": "code",
   "execution_count": 7,
   "metadata": {},
   "outputs": [],
   "source": [
    "# metric\n",
    "def calc_haversine(lat1, lon1, lat2, lon2):\n",
    "    \"\"\"Calculates the great circle distance between two points\n",
    "    on the earth. Inputs are array-like and specified in decimal degrees.\n",
    "    \"\"\"\n",
    "    RADIUS = 6_367_000\n",
    "    lat1, lon1, lat2, lon2 = map(np.radians, [lat1, lon1, lat2, lon2])\n",
    "    dlat = lat2 - lat1\n",
    "    dlon = lon2 - lon1\n",
    "    a = np.sin(dlat/2)**2 + \\\n",
    "        np.cos(lat1) * np.cos(lat2) * np.sin(dlon/2)**2\n",
    "    dist = 2 * RADIUS * np.arcsin(a**0.5)\n",
    "    return dist\n",
    "\n",
    "def check_score(input_df: pd.DataFrame) -> pd.DataFrame:\n",
    "    if \"phone\" not in input_df.columns:\n",
    "        input_df[\"phone\"] = input_df[\"collectionName\"] + \"_\" + input_df[\"phoneName\"]\n",
    "\n",
    "    if \"target_latDeg\" not in input_df.columns:\n",
    "        processes = multiprocessing.cpu_count()\n",
    "        with multiprocessing.Pool(processes=processes) as pool:\n",
    "            gr = input_df.groupby(['collectionName','phoneName'])\n",
    "            dfs = pool.imap_unordered(get_ground_truth, gr)\n",
    "            dfs = tqdm(dfs, total=len(gr))\n",
    "            dfs = list(dfs)\n",
    "        input_df = pd.concat(dfs).sort_values(['collectionName', 'phoneName', 'millisSinceGpsEpoch']).reset_index(drop=True)     \n",
    "\n",
    "\n",
    "    output_df = input_df.copy()\n",
    "    \n",
    "    output_df['error'] = input_df.apply(\n",
    "        lambda r: calc_haversine(\n",
    "            r.latDeg, r.lngDeg, r.target_latDeg, r.target_lngDeg\n",
    "        ),\n",
    "        axis=1\n",
    "    )\n",
    "\n",
    "    meter_score = output_df['error'].mean()\n",
    "    print(f'mean error: {meter_score}')\n",
    "\n",
    "    scores = []\n",
    "    p_50_scores = []\n",
    "    p_95_scores = []\n",
    "    mean_scores = []\n",
    "    phones = []\n",
    "    score_df = pd.DataFrame()\n",
    "    for phone in output_df['phone'].unique():\n",
    "        _index = output_df['phone']==phone\n",
    "        p_50 = np.percentile(output_df.loc[_index, 'error'], 50)\n",
    "        p_95 = np.percentile(output_df.loc[_index, 'error'], 95)\n",
    "        # print(f\"{phone} | 50:{p_50:.5g}| 95:{p_95:.5g}\")\n",
    "        p_50_scores.append(p_50)\n",
    "        p_95_scores.append(p_95)\n",
    "        mean_scores.append(np.mean([p_50, p_95]))\n",
    "        phones.append(phone)\n",
    "\n",
    "        scores.append(p_50)\n",
    "        scores.append(p_95)\n",
    "\n",
    "    score_df[\"phone\"] = phones\n",
    "    score_df[\"p_50_score\"] = p_50_scores\n",
    "    score_df[\"p_95_score\"] = p_95_scores\n",
    "    score_df[\"mean_score\"] = mean_scores\n",
    "    \n",
    "    comp_score = sum(scores) / len(scores)\n",
    "    print(f\"competition metric:{comp_score}\")\n",
    "    return output_df, score_df"
   ]
  },
  {
   "cell_type": "code",
   "execution_count": 8,
   "metadata": {},
   "outputs": [],
   "source": [
    "import simdkalman\n",
    "\n",
    "# define kf model\n",
    "T = 1.0\n",
    "state_transition = np.array([[1, 0, T, 0, 0.5 * T ** 2, 0], [0, 1, 0, T, 0, 0.5 * T ** 2], [0, 0, 1, 0, T, 0],\n",
    "                             [0, 0, 0, 1, 0, T], [0, 0, 0, 0, 1, 0], [0, 0, 0, 0, 0, 1]])\n",
    "process_noise = np.diag([1e-5, 1e-5, 5e-6, 5e-6, 1e-6, 1e-6]) + np.ones((6, 6)) * 1e-9\n",
    "observation_model = np.array([[1, 0, 0, 0, 0, 0], [0, 1, 0, 0, 0, 0]])\n",
    "observation_noise = np.diag([5e-5, 5e-5]) + np.ones((2, 2)) * 1e-9\n",
    "\n",
    "kf = simdkalman.KalmanFilter(\n",
    "        state_transition = state_transition,\n",
    "        process_noise = process_noise,\n",
    "        observation_model = observation_model,\n",
    "        observation_noise = observation_noise)"
   ]
  },
  {
   "cell_type": "code",
   "execution_count": 9,
   "metadata": {},
   "outputs": [],
   "source": [
    "def apply_kf_smoothing(df, kf_=kf):\n",
    "    unique_paths = df[['collectionName', 'phoneName']].drop_duplicates().to_numpy()\n",
    "    for collection, phone in tqdm(unique_paths):\n",
    "        cond = np.logical_and(df['collectionName'] == collection, df['phoneName'] == phone)\n",
    "        data = df[cond][['latDeg', 'lngDeg']].to_numpy()\n",
    "        data = data.reshape(1, len(data), 2)\n",
    "        smoothed = kf_.smooth(data)\n",
    "        df.loc[cond, 'latDeg'] = smoothed.states.mean[0, :, 0]\n",
    "        df.loc[cond, 'lngDeg'] = smoothed.states.mean[0, :, 1]\n",
    "    return df"
   ]
  },
  {
   "cell_type": "code",
   "execution_count": 10,
   "metadata": {},
   "outputs": [],
   "source": [
    "def linear_interpolation(input_df, speed_thr=45):\n",
    "    dfs = pd.DataFrame()\n",
    "    for (collectionName, phoneName), df in input_df.groupby(['collectionName','phoneName']):\n",
    "\n",
    "        df['delta'] = calc_haversine(df['latDeg'], df['lngDeg'], df['latDeg'].shift(1), df['lngDeg'].shift(1))\n",
    "        df['time_delta'] = df['millisSinceGpsEpoch'] - df['millisSinceGpsEpoch'].shift(1)\n",
    "        df['delta'].fillna(0, inplace=True)\n",
    "        df['time_delta'].fillna(0, inplace=True)\n",
    "        df['speed'] = df['delta'] / (df['time_delta']/1000)  # m/s\n",
    "        df['speed'].fillna(0, inplace=True)\n",
    "\n",
    "        # 一度欠損値にする\n",
    "        df.loc[speed_thr<df['speed'], ['latDeg', 'lngDeg']] = np.nan\n",
    "        df['dummy_datetime'] = pd.to_datetime(df['millisSinceGpsEpoch'])\n",
    "        df = df.set_index('dummy_datetime')\n",
    "\n",
    "        # 時間に合わせて線形補間\n",
    "        df = df.interpolate(method='time').reset_index(drop=True)\n",
    "        dfs = pd.concat([dfs, df]).reset_index(drop=True)\n",
    "    return dfs"
   ]
  },
  {
   "cell_type": "code",
   "execution_count": 11,
   "metadata": {},
   "outputs": [],
   "source": [
    "# data womizumasi\n",
    "def make_lerp_data(df):\n",
    "    '''\n",
    "    Generate interpolated lat,lng values for different phone times in the same collection.\n",
    "    '''\n",
    "    org_columns = df.columns\n",
    "    \n",
    "    # Generate a combination of time x collection x phone and combine it with the original data (generate records to be interpolated)\n",
    "    time_list = df[['collectionName', 'millisSinceGpsEpoch']].drop_duplicates()\n",
    "    phone_list =df[['collectionName', 'phoneName']].drop_duplicates()\n",
    "    tmp = time_list.merge(phone_list, on='collectionName', how='outer')\n",
    " \n",
    "    lerp_df = tmp.merge(df, on=['collectionName', 'millisSinceGpsEpoch', 'phoneName'], how='left')\n",
    "\n",
    "    lerp_df['phone'] = lerp_df['collectionName'] + '_' + lerp_df['phoneName']\n",
    "    lerp_df = lerp_df.sort_values(['phone', 'millisSinceGpsEpoch'])\n",
    "\n",
    "    # linear interpolation\n",
    "    lerp_df['latDeg_prev'] = lerp_df['latDeg'].shift(1)\n",
    "    lerp_df['latDeg_next'] = lerp_df['latDeg'].shift(-1)\n",
    "    lerp_df['lngDeg_prev'] = lerp_df['lngDeg'].shift(1)\n",
    "    lerp_df['lngDeg_next'] = lerp_df['lngDeg'].shift(-1)\n",
    "    lerp_df['phone_prev'] = lerp_df['phone'].shift(1)\n",
    "    lerp_df['phone_next'] = lerp_df['phone'].shift(-1)\n",
    "    lerp_df['time_prev'] = lerp_df['millisSinceGpsEpoch'].shift(1)\n",
    "    lerp_df['time_next'] = lerp_df['millisSinceGpsEpoch'].shift(-1)\n",
    "\n",
    "\n",
    "    # Leave only records to be interpolated(missing coords data)\n",
    "    lerp_df = lerp_df[(lerp_df['latDeg'].isnull())&(lerp_df['phone']==lerp_df['phone_prev'])&(lerp_df['phone']==lerp_df['phone_next'])].copy()\n",
    "    # calc lerp\n",
    "    lerp_df['latDeg'] = lerp_df['latDeg_prev'] + ((lerp_df['latDeg_next'] - lerp_df['latDeg_prev']) * ((lerp_df['millisSinceGpsEpoch'] - lerp_df['time_prev']) / (lerp_df['time_next'] - lerp_df['time_prev']))) \n",
    "    lerp_df['lngDeg'] = lerp_df['lngDeg_prev'] + ((lerp_df['lngDeg_next'] - lerp_df['lngDeg_prev']) * ((lerp_df['millisSinceGpsEpoch'] - lerp_df['time_prev']) / (lerp_df['time_next'] - lerp_df['time_prev']))) \n",
    "    \n",
    "    # Leave only the data that has a complete set of previous and next data.\n",
    "    lerp_df = lerp_df[~lerp_df['latDeg'].isnull()]\n",
    "\n",
    "    return lerp_df[org_columns]\n",
    "\n",
    "\n",
    "def calc_mean_pred(df, lerp_df):\n",
    "    '''\n",
    "    Make a prediction based on the average of the predictions of phones in the same collection.\n",
    "    '''\n",
    "    add_lerp = pd.concat([df, lerp_df])\n",
    "    mean_pred_result = add_lerp.groupby(['collectionName', 'millisSinceGpsEpoch'])[['latDeg', 'lngDeg']].mean().reset_index()\n",
    "    mean_pred_df = df[['collectionName', 'phoneName', 'millisSinceGpsEpoch']].copy()\n",
    "    mean_pred_df = mean_pred_df.merge(mean_pred_result[['collectionName', 'millisSinceGpsEpoch', 'latDeg', 'lngDeg']], on=['collectionName', 'millisSinceGpsEpoch'], how='left')\n",
    "    return mean_pred_df\n",
    "\n",
    "\n",
    "def apply_mean(df):\n",
    "    lerp = make_lerp_data(df)\n",
    "    mean_df = calc_mean_pred(df, lerp)\n",
    "    return mean_df"
   ]
  },
  {
   "cell_type": "code",
   "execution_count": 12,
   "metadata": {},
   "outputs": [],
   "source": [
    "def get_removedevice(input_df: pd.DataFrame, device: str) -> pd.DataFrame:\n",
    "    input_df['index'] = input_df.index\n",
    "    input_df = input_df.sort_values('millisSinceGpsEpoch')\n",
    "    input_df.index = input_df['millisSinceGpsEpoch'].values\n",
    "\n",
    "    output_df = pd.DataFrame() \n",
    "    for _, subdf in input_df.groupby('collectionName'):\n",
    "\n",
    "        phones = subdf['phoneName'].unique()\n",
    "\n",
    "        if (len(phones) == 1) or (not device in phones):\n",
    "            output_df = pd.concat([output_df, subdf])\n",
    "            continue\n",
    "\n",
    "        origin_df = subdf.copy()\n",
    "        \n",
    "        _index = subdf['phoneName']==device\n",
    "        subdf.loc[_index, 'latDeg'] = np.nan\n",
    "        subdf.loc[_index, 'lngDeg'] = np.nan\n",
    "        subdf = subdf.interpolate(method='index', limit_area='inside')\n",
    "\n",
    "        _index = subdf['latDeg'].isnull()\n",
    "        subdf.loc[_index, 'latDeg'] = origin_df.loc[_index, 'latDeg'].values\n",
    "        subdf.loc[_index, 'lngDeg'] = origin_df.loc[_index, 'lngDeg'].values\n",
    "\n",
    "        output_df = pd.concat([output_df, subdf])\n",
    "\n",
    "    output_df.index = output_df['index'].values\n",
    "    output_df = output_df.sort_index()\n",
    "\n",
    "    del output_df['index']\n",
    "    \n",
    "    return output_df"
   ]
  },
  {
   "cell_type": "code",
   "execution_count": 14,
   "metadata": {},
   "outputs": [],
   "source": [
    "load_points = pd.read_csv('../../input/all_ground_truth.csv')\n",
    "load_points[\"place\"] = load_points[\"collectionName\"].str[11:]\n",
    "load_points = load_points[[\"lngDeg\", \"latDeg\", \"place\"]]"
   ]
  },
  {
   "cell_type": "code",
   "execution_count": 23,
   "metadata": {},
   "outputs": [],
   "source": [
    "def snap_to_grid(sub, min_thr, max_thr):\n",
    "    \"\"\"\n",
    "    Snap to grid if within a threshold.\n",
    "    \n",
    "    x, y are the predicted points.\n",
    "    x_, y_ are the closest grid points.\n",
    "    _x_, _y_ are the new predictions after post processing.\n",
    "    \"\"\"\n",
    "    sub['_latDeg_'] = sub['latDeg']\n",
    "    sub['_lngDeg_'] = sub['lngDeg']\n",
    "    sub.loc[(min_thr < sub['dist'])&(sub['dist'] < max_thr), '_latDeg_'] = sub.loc[(min_thr < sub['dist'])&(sub['dist'] < max_thr), 'matched_latDeg']\n",
    "    sub.loc[(min_thr < sub['dist'])&(sub['dist'] < max_thr), '_lngDeg_'] = sub.loc[(min_thr < sub['dist'])&(sub['dist'] < max_thr), 'matched_lngDeg']\n",
    "    return sub.copy()\n",
    "\n",
    "from scipy.spatial.distance import cdist\n",
    "\n",
    "def add_xy(df):\n",
    "    df['point'] = [(x, y) for x,y in zip(df['lngDeg'], df['latDeg'])]\n",
    "    return df\n",
    "\n",
    "def closest_point(point, points):\n",
    "    \"\"\" Find closest point from a list of points. \"\"\"\n",
    "    return points[cdist([point], points).argmin()]\n",
    "\n",
    "\n",
    "def matching_point(target_df, target_load_points=load_points):\n",
    "    # place = target_df[\"place\"].unique()[0]\n",
    "    # target_load_points = load_points[load_points[\"place\"]==place]\n",
    "    target_df['matched_point'] = [closest_point(x, list(target_load_points['point'])) for x in tqdm(target_df['point'])]\n",
    "    target_df['lngDeg'] = target_df['matched_point'].apply(lambda x: x[0])\n",
    "    target_df['latDeg'] = target_df['matched_point'].apply(lambda x: x[1])\n",
    "    return target_df\n",
    "\n",
    "\n",
    "def apply_snap_to_grid(df, load_points, phase=\"train\"):\n",
    "\n",
    "    df[\"place\"] = df[\"collectionName\"].str[11:]\n",
    "\n",
    "    df = add_xy(df)\n",
    "    load_points = add_xy(load_points)\n",
    "    df_list = []\n",
    "    ncpu = multiprocessing.cpu_count()\n",
    "    for place, target_df in tqdm(df.groupby(\"place\")):\n",
    "\n",
    "        if ((phase==\"train\")&(place in ['US-SJC-1', 'US-SJC-2'])) | ((phase==\"test\")&(place in ['US-SJC-2', 'US-SJC-3'])):\n",
    "            target_df = target_df.reset_index(drop=True)\n",
    "            k = round(len(target_df)/ncpu)\n",
    "            target_dfs = [target_df.loc[i:i+k-1, :] for i in range(0, len(target_df), k)]\n",
    "            with multiprocessing.Pool(processes=ncpu) as pool:\n",
    "                dfs = pool.imap_unordered(matching_point, target_dfs)\n",
    "                dfs = list(tqdm(dfs, total=len(target_dfs)))\n",
    "                df = pd.concat(dfs)\n",
    "            df_list.append(df)\n",
    "        else:\n",
    "            df_list.append(target_df)\n",
    "\n",
    "    df = pd.concat(df_list).reset_index(drop=True)\n",
    "    return df"
   ]
  },
  {
   "cell_type": "code",
   "execution_count": 16,
   "metadata": {},
   "outputs": [],
   "source": [
    "# waypointを補正したdataset\n",
    "root_dir = Path('../../input/google-smartphone-decimeter-challenge')"
   ]
  },
  {
   "cell_type": "code",
   "execution_count": 17,
   "metadata": {},
   "outputs": [],
   "source": [
    "train_df = pd.read_csv(root_dir / \"baseline_locations_train.csv\")\n",
    "# train_df, score_df = check_score(train_df)\n",
    "# score_df.sort_values(\"mean_score\", ascending=False).head(10).style.bar(subset=['p_50_score', 'p_95_score', 'mean_score'], color=['teal'])"
   ]
  },
  {
   "cell_type": "code",
   "execution_count": 18,
   "metadata": {},
   "outputs": [],
   "source": [
    "train_df = linear_interpolation(train_df)\n",
    "# rain_df, score_df = check_score(train_df)\n",
    "# score_df.sort_values(\"mean_score\", ascending=False).head(10).style.bar(subset=['p_50_score', 'p_95_score', 'mean_score'], color=['teal'])"
   ]
  },
  {
   "cell_type": "code",
   "execution_count": 19,
   "metadata": {},
   "outputs": [
    {
     "data": {
      "application/vnd.jupyter.widget-view+json": {
       "model_id": "b9ba01cf331a4a86bcd882c4c8167508",
       "version_major": 2,
       "version_minor": 0
      },
      "text/plain": [
       "  0%|          | 0/73 [00:00<?, ?it/s]"
      ]
     },
     "metadata": {},
     "output_type": "display_data"
    }
   ],
   "source": [
    "train_df = apply_kf_smoothing(train_df)\n",
    "# train_df, score_df = check_score(train_df)\n",
    "# score_df.sort_values(\"mean_score\", ascending=False).head(10).style.bar(subset=['p_50_score', 'p_95_score', 'mean_score'], color=['teal'])"
   ]
  },
  {
   "cell_type": "code",
   "execution_count": 20,
   "metadata": {},
   "outputs": [],
   "source": [
    "train_df = apply_mean(train_df)\n",
    "# train_df, score_df = check_score(train_df)\n",
    "# score_df.sort_values(\"mean_score\", ascending=False).head(10).style.bar(subset=['p_50_score', 'p_95_score', 'mean_score'], color=['teal'])"
   ]
  },
  {
   "cell_type": "code",
   "execution_count": 21,
   "metadata": {},
   "outputs": [],
   "source": [
    "train_df = get_removedevice(train_df, 'SamsungS20Ultra')\n",
    "# train_df, score_df = check_score(train_df)\n",
    "# score_df.sort_values(\"mean_score\", ascending=False).head(10).style.bar(subset=['p_50_score', 'p_95_score', 'mean_score'], color=['teal'])"
   ]
  },
  {
   "cell_type": "code",
   "execution_count": 24,
   "metadata": {},
   "outputs": [
    {
     "data": {
      "application/vnd.jupyter.widget-view+json": {
       "model_id": "69d09f00efe44f77ad97904df4f70f1a",
       "version_major": 2,
       "version_minor": 0
      },
      "text/plain": [
       "  0%|          | 0/10 [00:00<?, ?it/s]"
      ]
     },
     "metadata": {},
     "output_type": "display_data"
    },
    {
     "data": {
      "application/vnd.jupyter.widget-view+json": {
       "model_id": "b07f04b7b35f46078b386b38c8a504ff",
       "version_major": 2,
       "version_minor": 0
      },
      "text/plain": [
       "  0%|          | 0/24 [00:00<?, ?it/s]"
      ]
     },
     "metadata": {},
     "output_type": "display_data"
    },
    {
     "data": {
      "application/vnd.jupyter.widget-view+json": {
       "model_id": "20ba6004cb9d457f900018abeb682ab0",
       "version_major": 2,
       "version_minor": 0
      },
      "text/plain": [
       "  0%|          | 0/24 [00:00<?, ?it/s]"
      ]
     },
     "metadata": {},
     "output_type": "display_data"
    },
    {
     "data": {
      "application/vnd.jupyter.widget-view+json": {
       "model_id": "1a5b9e1662134d14b2496758989405c5",
       "version_major": 2,
       "version_minor": 0
      },
      "text/plain": [
       "  0%|          | 0/73 [00:00<?, ?it/s]"
      ]
     },
     "metadata": {},
     "output_type": "display_data"
    },
    {
     "name": "stdout",
     "output_type": "stream",
     "text": [
      "mean error: 2.6457261898900777\n",
      "competition metric:3.699341128435263\n"
     ]
    },
    {
     "data": {
      "text/html": [
       "<style  type=\"text/css\" >\n",
       "#T_cc355_row0_col1,#T_cc355_row0_col3,#T_cc355_row3_col2{\n",
       "            width:  10em;\n",
       "             height:  80%;\n",
       "            background:  linear-gradient(90deg,teal 100.0%, transparent 100.0%);\n",
       "        }#T_cc355_row0_col2{\n",
       "            width:  10em;\n",
       "             height:  80%;\n",
       "            background:  linear-gradient(90deg,teal 93.3%, transparent 93.3%);\n",
       "        }#T_cc355_row1_col1{\n",
       "            width:  10em;\n",
       "             height:  80%;\n",
       "            background:  linear-gradient(90deg,teal 81.6%, transparent 81.6%);\n",
       "        }#T_cc355_row1_col2{\n",
       "            width:  10em;\n",
       "             height:  80%;\n",
       "            background:  linear-gradient(90deg,teal 91.4%, transparent 91.4%);\n",
       "        }#T_cc355_row1_col3{\n",
       "            width:  10em;\n",
       "             height:  80%;\n",
       "            background:  linear-gradient(90deg,teal 95.6%, transparent 95.6%);\n",
       "        }#T_cc355_row2_col1{\n",
       "            width:  10em;\n",
       "             height:  80%;\n",
       "            background:  linear-gradient(90deg,teal 43.6%, transparent 43.6%);\n",
       "        }#T_cc355_row2_col2{\n",
       "            width:  10em;\n",
       "             height:  80%;\n",
       "            background:  linear-gradient(90deg,teal 97.4%, transparent 97.4%);\n",
       "        }#T_cc355_row2_col3{\n",
       "            width:  10em;\n",
       "             height:  80%;\n",
       "            background:  linear-gradient(90deg,teal 95.4%, transparent 95.4%);\n",
       "        }#T_cc355_row3_col1{\n",
       "            width:  10em;\n",
       "             height:  80%;\n",
       "            background:  linear-gradient(90deg,teal 3.3%, transparent 3.3%);\n",
       "        }#T_cc355_row3_col3{\n",
       "            width:  10em;\n",
       "             height:  80%;\n",
       "            background:  linear-gradient(90deg,teal 91.8%, transparent 91.8%);\n",
       "        }#T_cc355_row4_col1{\n",
       "            width:  10em;\n",
       "             height:  80%;\n",
       "            background:  linear-gradient(90deg,teal 33.6%, transparent 33.6%);\n",
       "        }#T_cc355_row4_col2{\n",
       "            width:  10em;\n",
       "             height:  80%;\n",
       "            background:  linear-gradient(90deg,teal 70.1%, transparent 70.1%);\n",
       "        }#T_cc355_row4_col3{\n",
       "            width:  10em;\n",
       "             height:  80%;\n",
       "            background:  linear-gradient(90deg,teal 68.8%, transparent 68.8%);\n",
       "        }#T_cc355_row5_col1,#T_cc355_row9_col2,#T_cc355_row9_col3{\n",
       "            width:  10em;\n",
       "             height:  80%;\n",
       "        }#T_cc355_row5_col2{\n",
       "            width:  10em;\n",
       "             height:  80%;\n",
       "            background:  linear-gradient(90deg,teal 66.8%, transparent 66.8%);\n",
       "        }#T_cc355_row5_col3{\n",
       "            width:  10em;\n",
       "             height:  80%;\n",
       "            background:  linear-gradient(90deg,teal 60.7%, transparent 60.7%);\n",
       "        }#T_cc355_row6_col1{\n",
       "            width:  10em;\n",
       "             height:  80%;\n",
       "            background:  linear-gradient(90deg,teal 87.7%, transparent 87.7%);\n",
       "        }#T_cc355_row6_col2{\n",
       "            width:  10em;\n",
       "             height:  80%;\n",
       "            background:  linear-gradient(90deg,teal 14.9%, transparent 14.9%);\n",
       "        }#T_cc355_row6_col3{\n",
       "            width:  10em;\n",
       "             height:  80%;\n",
       "            background:  linear-gradient(90deg,teal 26.0%, transparent 26.0%);\n",
       "        }#T_cc355_row7_col1{\n",
       "            width:  10em;\n",
       "             height:  80%;\n",
       "            background:  linear-gradient(90deg,teal 66.3%, transparent 66.3%);\n",
       "        }#T_cc355_row7_col2{\n",
       "            width:  10em;\n",
       "             height:  80%;\n",
       "            background:  linear-gradient(90deg,teal 12.9%, transparent 12.9%);\n",
       "        }#T_cc355_row7_col3{\n",
       "            width:  10em;\n",
       "             height:  80%;\n",
       "            background:  linear-gradient(90deg,teal 20.9%, transparent 20.9%);\n",
       "        }#T_cc355_row8_col1{\n",
       "            width:  10em;\n",
       "             height:  80%;\n",
       "            background:  linear-gradient(90deg,teal 47.1%, transparent 47.1%);\n",
       "        }#T_cc355_row8_col2{\n",
       "            width:  10em;\n",
       "             height:  80%;\n",
       "            background:  linear-gradient(90deg,teal 1.2%, transparent 1.2%);\n",
       "        }#T_cc355_row8_col3{\n",
       "            width:  10em;\n",
       "             height:  80%;\n",
       "            background:  linear-gradient(90deg,teal 7.2%, transparent 7.2%);\n",
       "        }#T_cc355_row9_col1{\n",
       "            width:  10em;\n",
       "             height:  80%;\n",
       "            background:  linear-gradient(90deg,teal 5.6%, transparent 5.6%);\n",
       "        }</style><table id=\"T_cc355_\" ><thead>    <tr>        <th class=\"blank level0\" ></th>        <th class=\"col_heading level0 col0\" >phone</th>        <th class=\"col_heading level0 col1\" >p_50_score</th>        <th class=\"col_heading level0 col2\" >p_95_score</th>        <th class=\"col_heading level0 col3\" >mean_score</th>    </tr></thead><tbody>\n",
       "                <tr>\n",
       "                        <th id=\"T_cc355_level0_row0\" class=\"row_heading level0 row0\" >59</th>\n",
       "                        <td id=\"T_cc355_row0_col0\" class=\"data row0 col0\" >2021-04-22-US-SJC-1_Pixel4</td>\n",
       "                        <td id=\"T_cc355_row0_col1\" class=\"data row0 col1\" >5.282210</td>\n",
       "                        <td id=\"T_cc355_row0_col2\" class=\"data row0 col2\" >20.963602</td>\n",
       "                        <td id=\"T_cc355_row0_col3\" class=\"data row0 col3\" >13.122906</td>\n",
       "            </tr>\n",
       "            <tr>\n",
       "                        <th id=\"T_cc355_level0_row1\" class=\"row_heading level0 row1\" >60</th>\n",
       "                        <td id=\"T_cc355_row1_col0\" class=\"data row1 col0\" >2021-04-22-US-SJC-1_SamsungS20Ultra</td>\n",
       "                        <td id=\"T_cc355_row1_col1\" class=\"data row1 col1\" >4.902445</td>\n",
       "                        <td id=\"T_cc355_row1_col2\" class=\"data row1 col2\" >20.727946</td>\n",
       "                        <td id=\"T_cc355_row1_col3\" class=\"data row1 col3\" >12.815195</td>\n",
       "            </tr>\n",
       "            <tr>\n",
       "                        <th id=\"T_cc355_level0_row2\" class=\"row_heading level0 row2\" >71</th>\n",
       "                        <td id=\"T_cc355_row2_col0\" class=\"data row2 col0\" >2021-04-29-US-SJC-2_Pixel4</td>\n",
       "                        <td id=\"T_cc355_row2_col1\" class=\"data row2 col1\" >4.118246</td>\n",
       "                        <td id=\"T_cc355_row2_col2\" class=\"data row2 col2\" >21.489939</td>\n",
       "                        <td id=\"T_cc355_row2_col3\" class=\"data row2 col3\" >12.804093</td>\n",
       "            </tr>\n",
       "            <tr>\n",
       "                        <th id=\"T_cc355_level0_row3\" class=\"row_heading level0 row3\" >72</th>\n",
       "                        <td id=\"T_cc355_row3_col0\" class=\"data row3 col0\" >2021-04-29-US-SJC-2_SamsungS20Ultra</td>\n",
       "                        <td id=\"T_cc355_row3_col1\" class=\"data row3 col1\" >3.286376</td>\n",
       "                        <td id=\"T_cc355_row3_col2\" class=\"data row3 col2\" >21.824012</td>\n",
       "                        <td id=\"T_cc355_row3_col3\" class=\"data row3 col3\" >12.555194</td>\n",
       "            </tr>\n",
       "            <tr>\n",
       "                        <th id=\"T_cc355_level0_row4\" class=\"row_heading level0 row4\" >66</th>\n",
       "                        <td id=\"T_cc355_row4_col0\" class=\"data row4 col0\" >2021-04-28-US-SJC-1_Pixel4</td>\n",
       "                        <td id=\"T_cc355_row4_col1\" class=\"data row4 col1\" >3.911748</td>\n",
       "                        <td id=\"T_cc355_row4_col2\" class=\"data row4 col2\" >18.008976</td>\n",
       "                        <td id=\"T_cc355_row4_col3\" class=\"data row4 col3\" >10.960362</td>\n",
       "            </tr>\n",
       "            <tr>\n",
       "                        <th id=\"T_cc355_level0_row5\" class=\"row_heading level0 row5\" >67</th>\n",
       "                        <td id=\"T_cc355_row5_col0\" class=\"data row5 col0\" >2021-04-28-US-SJC-1_SamsungS20Ultra</td>\n",
       "                        <td id=\"T_cc355_row5_col1\" class=\"data row5 col1\" >3.217483</td>\n",
       "                        <td id=\"T_cc355_row5_col2\" class=\"data row5 col2\" >17.588809</td>\n",
       "                        <td id=\"T_cc355_row5_col3\" class=\"data row5 col3\" >10.403146</td>\n",
       "            </tr>\n",
       "            <tr>\n",
       "                        <th id=\"T_cc355_level0_row6\" class=\"row_heading level0 row6\" >68</th>\n",
       "                        <td id=\"T_cc355_row6_col0\" class=\"data row6 col0\" >2021-04-29-US-MTV-1_Pixel4</td>\n",
       "                        <td id=\"T_cc355_row6_col1\" class=\"data row6 col1\" >5.027345</td>\n",
       "                        <td id=\"T_cc355_row6_col2\" class=\"data row6 col2\" >10.966539</td>\n",
       "                        <td id=\"T_cc355_row6_col3\" class=\"data row6 col3\" >7.996942</td>\n",
       "            </tr>\n",
       "            <tr>\n",
       "                        <th id=\"T_cc355_level0_row7\" class=\"row_heading level0 row7\" >69</th>\n",
       "                        <td id=\"T_cc355_row7_col0\" class=\"data row7 col0\" >2021-04-29-US-MTV-1_Pixel5</td>\n",
       "                        <td id=\"T_cc355_row7_col1\" class=\"data row7 col1\" >4.586693</td>\n",
       "                        <td id=\"T_cc355_row7_col2\" class=\"data row7 col2\" >10.707323</td>\n",
       "                        <td id=\"T_cc355_row7_col3\" class=\"data row7 col3\" >7.647008</td>\n",
       "            </tr>\n",
       "            <tr>\n",
       "                        <th id=\"T_cc355_level0_row8\" class=\"row_heading level0 row8\" >70</th>\n",
       "                        <td id=\"T_cc355_row8_col0\" class=\"data row8 col0\" >2021-04-29-US-MTV-1_SamsungS20Ultra</td>\n",
       "                        <td id=\"T_cc355_row8_col1\" class=\"data row8 col1\" >4.189269</td>\n",
       "                        <td id=\"T_cc355_row8_col2\" class=\"data row8 col2\" >9.211020</td>\n",
       "                        <td id=\"T_cc355_row8_col3\" class=\"data row8 col3\" >6.700145</td>\n",
       "            </tr>\n",
       "            <tr>\n",
       "                        <th id=\"T_cc355_level0_row9\" class=\"row_heading level0 row9\" >49</th>\n",
       "                        <td id=\"T_cc355_row9_col0\" class=\"data row9 col0\" >2021-01-05-US-SVL-1_Pixel5</td>\n",
       "                        <td id=\"T_cc355_row9_col1\" class=\"data row9 col1\" >3.333992</td>\n",
       "                        <td id=\"T_cc355_row9_col2\" class=\"data row9 col2\" >9.062322</td>\n",
       "                        <td id=\"T_cc355_row9_col3\" class=\"data row9 col3\" >6.198157</td>\n",
       "            </tr>\n",
       "    </tbody></table>"
      ],
      "text/plain": [
       "<pandas.io.formats.style.Styler at 0x7f2d4c94d820>"
      ]
     },
     "execution_count": 24,
     "metadata": {},
     "output_type": "execute_result"
    }
   ],
   "source": [
    "train_df = apply_snap_to_grid(train_df, load_points)\n",
    "train_df, score_df = check_score(train_df)\n",
    "score_df.sort_values(\"mean_score\", ascending=False).head(10).style.bar(subset=['p_50_score', 'p_95_score', 'mean_score'], color=['teal'])"
   ]
  },
  {
   "cell_type": "markdown",
   "metadata": {},
   "source": [
    "## test"
   ]
  },
  {
   "cell_type": "code",
   "execution_count": 25,
   "metadata": {},
   "outputs": [],
   "source": [
    "test_df = pd.read_csv(root_dir / \"baseline_locations_test.csv\")\n",
    "sub_df = pd.read_csv(root_dir / 'sample_submission.csv')"
   ]
  },
  {
   "cell_type": "code",
   "execution_count": 26,
   "metadata": {},
   "outputs": [
    {
     "data": {
      "application/vnd.jupyter.widget-view+json": {
       "model_id": "3ead9a14b41846f8bc4bc23fc0e82265",
       "version_major": 2,
       "version_minor": 0
      },
      "text/plain": [
       "  0%|          | 0/48 [00:00<?, ?it/s]"
      ]
     },
     "metadata": {},
     "output_type": "display_data"
    },
    {
     "data": {
      "application/vnd.jupyter.widget-view+json": {
       "model_id": "650ee71755b741bcbf212700b1b8d090",
       "version_major": 2,
       "version_minor": 0
      },
      "text/plain": [
       "  0%|          | 0/8 [00:00<?, ?it/s]"
      ]
     },
     "metadata": {},
     "output_type": "display_data"
    },
    {
     "data": {
      "application/vnd.jupyter.widget-view+json": {
       "model_id": "5c846aec7bb740328c2e34ac018c521e",
       "version_major": 2,
       "version_minor": 0
      },
      "text/plain": [
       "  0%|          | 0/24 [00:00<?, ?it/s]"
      ]
     },
     "metadata": {},
     "output_type": "display_data"
    },
    {
     "data": {
      "application/vnd.jupyter.widget-view+json": {
       "model_id": "865df712711c4485a208501e55008cfc",
       "version_major": 2,
       "version_minor": 0
      },
      "text/plain": [
       "  0%|          | 0/25 [00:00<?, ?it/s]"
      ]
     },
     "metadata": {},
     "output_type": "display_data"
    }
   ],
   "source": [
    "test_df = linear_interpolation(test_df)\n",
    "test_df = apply_kf_smoothing(test_df)\n",
    "test_df = apply_mean(test_df)\n",
    "test_df = get_removedevice(test_df, 'SamsungS20Ultra')\n",
    "test_df = apply_snap_to_grid(test_df, load_points, phase=\"test\")"
   ]
  },
  {
   "cell_type": "markdown",
   "metadata": {},
   "source": [
    "## create features"
   ]
  },
  {
   "cell_type": "code",
   "execution_count": 27,
   "metadata": {},
   "outputs": [],
   "source": [
    "def create_features(input_df, phase=\"train\"):\n",
    "    output_df = pd.DataFrame()\n",
    "    for (collection_name, phone_name), df in input_df.groupby([\"collectionName\", \"phoneName\"]):\n",
    "        df = df.sort_values(\"millisSinceGpsEpoch\").reset_index(drop=True)\n",
    "        if phase == \"train\":\n",
    "            df = df[[\"collectionName\", \"phoneName\", \"millisSinceGpsEpoch\", \"latDeg\", \"lngDeg\", \"speedMps\"]]\n",
    "        else:\n",
    "            df = df[[\"collectionName\", \"phoneName\", \"millisSinceGpsEpoch\", \"latDeg\", \"lngDeg\"]]\n",
    "\n",
    "        for i in [1, 3, 5, 7, 10, 15, 20]:\n",
    "            df[f\"pre{i}_dist\"] = calc_haversine(df[\"latDeg\"], df[\"lngDeg\"], df[\"latDeg\"].shift(i), df[\"lngDeg\"].shift(i)).abs()\n",
    "            df[f\"post{i}_dist\"] = calc_haversine(df[\"latDeg\"], df[\"lngDeg\"], df[\"latDeg\"].shift(i*-1), df[\"lngDeg\"].shift(i*-1)).abs()\n",
    "            df[f\"pre{i}_delta_t\"] = (df[\"millisSinceGpsEpoch\"] - df[\"millisSinceGpsEpoch\"].shift(i)).abs() / 1000\n",
    "            df[f\"post{i}_delta_t\"] = (df[\"millisSinceGpsEpoch\"] - df[\"millisSinceGpsEpoch\"].shift(i*-1)).abs() / 1000\n",
    "            df[f\"pre{i}_speedMps\"] = df[f\"pre{i}_dist\"] / df[f\"pre{i}_delta_t\"]\n",
    "            df[f\"post{i}_speedMps\"] = df[f\"post{i}_dist\"] / df[f\"post{i}_delta_t\"]\n",
    "            df[f\"mean{i}_speedMps\"] = (df[f\"pre{i}_speedMps\"] + df[f\"post{i}_speedMps\"]) / 2\n",
    "        \n",
    "        df[\"elapsed_time\"] = (df[\"millisSinceGpsEpoch\"] - df[\"millisSinceGpsEpoch\"].min()) / 1000\n",
    "        df[\"arrived_time\"] = (df[\"millisSinceGpsEpoch\"].max() - df[\"millisSinceGpsEpoch\"]) / 1000\n",
    "        output_df = pd.concat([output_df, df]).reset_index(drop=True)\n",
    " \n",
    "    return output_df"
   ]
  },
  {
   "cell_type": "code",
   "execution_count": 28,
   "metadata": {},
   "outputs": [
    {
     "data": {
      "text/plain": [
       "((131342, 57), (91486, 56))"
      ]
     },
     "execution_count": 28,
     "metadata": {},
     "output_type": "execute_result"
    }
   ],
   "source": [
    "train_feat_df = create_features(train_df, phase=\"train\")\n",
    "test_feat_df = create_features(test_df, phase=\"test\")\n",
    "train_feat_df.shape, test_feat_df.shape"
   ]
  },
  {
   "cell_type": "markdown",
   "metadata": {},
   "source": [
    "## preprocessing"
   ]
  },
  {
   "cell_type": "code",
   "execution_count": 29,
   "metadata": {},
   "outputs": [],
   "source": [
    "from sklearn.preprocessing import LabelEncoder\n",
    "\n",
    "whole_df = pd.concat([train_feat_df, test_feat_df]).reset_index(drop=True)\n",
    "\n",
    "le_co = LabelEncoder()\n",
    "le_co.fit(whole_df['collectionName'])\n",
    "le_ph = LabelEncoder()\n",
    "le_ph.fit(whole_df['phoneName'])\n",
    "\n",
    "\n",
    "def preprocess(input_df, le1=le_co, le2=le_ph):\n",
    "    output_df = input_df.copy()\n",
    "    # LE\n",
    "    output_df['collectionName'] = le1.transform(input_df['collectionName'])\n",
    "    output_df['phoneName'] = le2.transform(input_df['phoneName'])\n",
    "    return output_df\n",
    "\n",
    "train = preprocess(train_feat_df)\n",
    "test = preprocess(test_feat_df)"
   ]
  },
  {
   "cell_type": "code",
   "execution_count": 30,
   "metadata": {},
   "outputs": [],
   "source": [
    "\n",
    "params = {\n",
    "    # 目的関数. これの意味で最小となるようなパラメータを探します. \n",
    "    'objective': 'rmse', \n",
    "    'metric':'rmse',\n",
    "\n",
    "     # 学習率. 小さいほどなめらかな決定境界が作られて性能向上に繋がる場合が多いです、\n",
    "    # がそれだけ木を作るため学習に時間がかかります\n",
    "    'learning_rate': .05,\n",
    "\n",
    "    # L2 Reguralization\n",
    "    'reg_lambda': 1.,\n",
    "    # こちらは L1 \n",
    "    'reg_alpha': .1,\n",
    "\n",
    "    # 木の深さ. 深い木を許容するほどより複雑な交互作用を考慮するようになります\n",
    "    'max_depth': 5, \n",
    "\n",
    "    # 木の最大数. early_stopping という枠組みで木の数は制御されるようにしていますのでとても大きい値を指定しておきます.\n",
    "    'n_estimators': 100000, \n",
    "\n",
    "    # 木を作る際に考慮する特徴量の割合. 1以下を指定すると特徴をランダムに欠落させます。小さくすることで, まんべんなく特徴を使うという効果があります.\n",
    "    'colsample_bytree': .5,\n",
    "\n",
    "    # 最小分割でのデータ数. 小さいとより細かい粒度の分割方法を許容します.\n",
    "    'min_child_samples': 10,\n",
    "\n",
    "    # bagging の頻度と割合\n",
    "    'subsample_freq': 3,\n",
    "    'subsample': .9,\n",
    "\n",
    "    # 特徴重要度計算のロジック(後述)\n",
    "    'importance_type': 'gain', \n",
    "    'random_state': 71,\n",
    "}"
   ]
  },
  {
   "cell_type": "code",
   "execution_count": 37,
   "metadata": {},
   "outputs": [],
   "source": [
    "\n",
    "import lightgbm as lgbm\n",
    "from sklearn.multioutput import MultiOutputRegressor\n",
    "from sklearn.metrics import mean_squared_error\n",
    "from wandb.lightgbm import wandb_callback\n",
    "from sklearn.model_selection import StratifiedKFold\n",
    "import wandb\n",
    "\n",
    "\n",
    "def fit_lgbm(X, \n",
    "             y, \n",
    "             test,\n",
    "             params: dict=None, \n",
    "             verbose: int=50):\n",
    "    \"\"\"lightGBM を CrossValidation の枠組みで学習を行なう function\"\"\"\n",
    "    # パラメータがないときは、空の dict で置き換える\n",
    "    if params is None:\n",
    "        params = {}\n",
    "\n",
    "    oofs = []  # 全てのoofをdfで格納する\n",
    "    preds = []  # 全ての予測値をdfで格納する\n",
    "    val_scores = []\n",
    "\n",
    "    skf = StratifiedKFold(n_splits=N_SPLITS, shuffle=True, random_state=SEED)\n",
    "    train_fold = [(trn_idx, val_idx) for trn_idx, val_idx in skf.split(X, X['collectionName'])]\n",
    "    for fold in range(5):\n",
    "        # 指定したfoldのみループを回す\n",
    "        if fold not in USE_FOLDS:\n",
    "            continue\n",
    "\n",
    "        print('=' * 20)\n",
    "        print(f'Fold {fold}')\n",
    "        print('=' * 20)\n",
    "\n",
    "\n",
    "        # training data の target と同じだけのゼロ配列を用意\n",
    "        oof_pred = np.zeros(y.shape[0], dtype=np.float)\n",
    "\n",
    "        # train/valid data\n",
    "        trn_idx_for_train, val_idx_for_train = train_fold[fold]\n",
    "        x_train = X.loc[trn_idx_for_train, :].reset_index(drop=True)\n",
    "        x_valid = X.loc[val_idx_for_train, :].reset_index(drop=True)\n",
    "        y_train = y.loc[trn_idx_for_train].reset_index(drop=True)\n",
    "        y_valid = y.loc[val_idx_for_train].reset_index(drop=True)\n",
    "        \n",
    "        # clf = MultiOutputRegressor(lgbm.LGBMRegressor(**params))\n",
    "        clf = lgbm.LGBMRegressor(**params)\n",
    "\n",
    "        # loggers\n",
    "        RUN_NAME = EXP_NAME + \"_\" + EXP_MESSAGE\n",
    "        wandb.init(project='outdoor', entity='kuto5046', group=RUN_NAME)\n",
    "        wandb.run.name = RUN_NAME + f'-fold-{fold}'\n",
    "        wandb_config = wandb.config\n",
    "        wandb_config['model_name'] = \"lightGBM\"\n",
    "        wandb_config['comment'] = NOTES\n",
    "        # wandb.watch(clf)\n",
    "        \n",
    "     \n",
    "        clf.fit(x_train, y_train,\n",
    "                eval_set=[(x_valid, y_valid)],  \n",
    "                early_stopping_rounds=100,\n",
    "                verbose=verbose,\n",
    "                callbacks=[wandb_callback()])\n",
    "\n",
    "        pred_i = clf.predict(x_valid)\n",
    "        x_valid[\"pred\"] = pred_i\n",
    "        x_valid[\"speedMps\"] = y_valid.to_numpy() \n",
    "        oofs.append(x_valid)\n",
    "        \n",
    "        score = mean_squared_error(y_valid, pred_i) ** .5\n",
    "        val_scores.append(score)\n",
    "        print(f'Fold {fold} RMSE: {score:.4f}')\n",
    "\n",
    "        wandb.finish()\n",
    "        \n",
    "        pred = clf.predict(test)\n",
    "        preds.append(pred)\n",
    "    oof_df = pd.concat(oofs).reset_index(drop=True) \n",
    "    all_score = mean_squared_error(oof_df[\"speedMps\"], oof_df[\"oof\"]) ** .5\n",
    "    print('-' * 50)\n",
    "    print('FINISHED | Whole RMSE: {:.4f}'.format(all_score))\n",
    "    features = x_train.columns.values\n",
    "    return oof_df, preds"
   ]
  },
  {
   "cell_type": "code",
   "execution_count": 40,
   "metadata": {},
   "outputs": [],
   "source": [
    "# drop_col = [\"millisSinceGpsEpoch\"]\n",
    "target_col = [\"speedMps\"]\n",
    "y = train[target_col]\n",
    "X = train.drop(target_col, axis=1)"
   ]
  },
  {
   "cell_type": "code",
   "execution_count": 42,
   "metadata": {},
   "outputs": [
    {
     "name": "stdout",
     "output_type": "stream",
     "text": [
      "====================\n",
      "Fold 0\n",
      "====================\n"
     ]
    },
    {
     "data": {
      "text/html": [
       "Finishing last run (ID:2ey79r45) before initializing another..."
      ],
      "text/plain": [
       "<IPython.core.display.HTML object>"
      ]
     },
     "metadata": {},
     "output_type": "display_data"
    },
    {
     "data": {
      "text/html": [
       "<br/>Waiting for W&B process to finish, PID 1627168<br/>Program ended successfully."
      ],
      "text/plain": [
       "<IPython.core.display.HTML object>"
      ]
     },
     "metadata": {},
     "output_type": "display_data"
    },
    {
     "data": {
      "application/vnd.jupyter.widget-view+json": {
       "model_id": "98b5fe6fb6684322abcea9b5be62442e",
       "version_major": 2,
       "version_minor": 0
      },
      "text/plain": [
       "VBox(children=(Label(value=' 0.00MB of 0.00MB uploaded (0.00MB deduped)\\r'), FloatProgress(value=1.0, max=1.0)…"
      ]
     },
     "metadata": {},
     "output_type": "display_data"
    },
    {
     "data": {
      "text/html": [
       "Find user logs for this run at: <code>/home/user/work/exp/exp020/wandb/run-20210611_213213-2ey79r45/logs/debug.log</code>"
      ],
      "text/plain": [
       "<IPython.core.display.HTML object>"
      ]
     },
     "metadata": {},
     "output_type": "display_data"
    },
    {
     "data": {
      "text/html": [
       "Find internal logs for this run at: <code>/home/user/work/exp/exp020/wandb/run-20210611_213213-2ey79r45/logs/debug-internal.log</code>"
      ],
      "text/plain": [
       "<IPython.core.display.HTML object>"
      ]
     },
     "metadata": {},
     "output_type": "display_data"
    },
    {
     "data": {
      "text/html": [
       "<h3>Run summary:</h3><br/><style>\n",
       "    table.wandb td:nth-child(1) { padding: 0 10px; text-align: right }\n",
       "    </style><table class=\"wandb\">\n",
       "<tr><td>valid_0_rmse</td><td>0.06136</td></tr><tr><td>_runtime</td><td>24</td></tr><tr><td>_timestamp</td><td>1623414757</td></tr><tr><td>_step</td><td>4109</td></tr></table>"
      ],
      "text/plain": [
       "<IPython.core.display.HTML object>"
      ]
     },
     "metadata": {},
     "output_type": "display_data"
    },
    {
     "data": {
      "text/html": [
       "<h3>Run history:</h3><br/><style>\n",
       "    table.wandb td:nth-child(1) { padding: 0 10px; text-align: right }\n",
       "    </style><table class=\"wandb\">\n",
       "<tr><td>valid_0_rmse</td><td>█▂▂▂▂▂▁▁▁▁▁▁▁▁▁▁▁▁▁▁▁▁▁▁▁▁▁▁▁▁▁▁▁▁▁▁▁▁▁▁</td></tr><tr><td>_runtime</td><td>▁▁▁▂▂▂▂▂▂▃▃▃▃▃▃▄▄▄▄▄▅▅▅▅▅▅▆▆▆▆▆▆▇▇▇▇▇▇██</td></tr><tr><td>_timestamp</td><td>▁▁▁▂▂▂▂▂▂▃▃▃▃▃▃▄▄▄▄▄▅▅▅▅▅▅▆▆▆▆▆▆▇▇▇▇▇▇██</td></tr><tr><td>_step</td><td>▁▁▁▁▂▂▂▂▂▃▃▃▃▃▃▄▄▄▄▄▅▅▅▅▅▅▆▆▆▆▆▇▇▇▇▇▇███</td></tr></table><br/>"
      ],
      "text/plain": [
       "<IPython.core.display.HTML object>"
      ]
     },
     "metadata": {},
     "output_type": "display_data"
    },
    {
     "data": {
      "text/html": [
       "Synced 5 W&B file(s), 0 media file(s), 0 artifact file(s) and 0 other file(s)"
      ],
      "text/plain": [
       "<IPython.core.display.HTML object>"
      ]
     },
     "metadata": {},
     "output_type": "display_data"
    },
    {
     "data": {
      "text/html": [
       "\n",
       "                    <br/>Synced <strong style=\"color:#cdcd00\">good-durian-264</strong>: <a href=\"https://wandb.ai/kuto5046/outdoor/runs/2ey79r45\" target=\"_blank\">https://wandb.ai/kuto5046/outdoor/runs/2ey79r45</a><br/>\n",
       "                "
      ],
      "text/plain": [
       "<IPython.core.display.HTML object>"
      ]
     },
     "metadata": {},
     "output_type": "display_data"
    },
    {
     "data": {
      "text/html": [
       "...Successfully finished last run (ID:2ey79r45). Initializing new run:<br/><br/>"
      ],
      "text/plain": [
       "<IPython.core.display.HTML object>"
      ]
     },
     "metadata": {},
     "output_type": "display_data"
    },
    {
     "name": "stderr",
     "output_type": "stream",
     "text": [
      "\u001b[34m\u001b[1mwandb\u001b[0m: wandb version 0.10.32 is available!  To upgrade, please run:\n",
      "\u001b[34m\u001b[1mwandb\u001b[0m:  $ pip install wandb --upgrade\n"
     ]
    },
    {
     "data": {
      "text/html": [
       "\n",
       "                Tracking run with wandb version 0.10.22<br/>\n",
       "                Syncing run <strong style=\"color:#cdcd00\">sleek-fog-265</strong> to <a href=\"https://wandb.ai\" target=\"_blank\">Weights & Biases</a> <a href=\"https://docs.wandb.com/integrations/jupyter.html\" target=\"_blank\">(Documentation)</a>.<br/>\n",
       "                Project page: <a href=\"https://wandb.ai/kuto5046/outdoor\" target=\"_blank\">https://wandb.ai/kuto5046/outdoor</a><br/>\n",
       "                Run page: <a href=\"https://wandb.ai/kuto5046/outdoor/runs/1q1q75ww\" target=\"_blank\">https://wandb.ai/kuto5046/outdoor/runs/1q1q75ww</a><br/>\n",
       "                Run data is saved locally in <code>/home/user/work/exp/exp020/wandb/run-20210611_213244-1q1q75ww</code><br/><br/>\n",
       "            "
      ],
      "text/plain": [
       "<IPython.core.display.HTML object>"
      ]
     },
     "metadata": {},
     "output_type": "display_data"
    },
    {
     "name": "stdout",
     "output_type": "stream",
     "text": [
      "Training until validation scores don't improve for 100 rounds\n",
      "[2000]\tvalid_0's rmse: 0.362326\n",
      "[4000]\tvalid_0's rmse: 0.329717\n",
      "[6000]\tvalid_0's rmse: 0.313401\n",
      "[8000]\tvalid_0's rmse: 0.303101\n",
      "[10000]\tvalid_0's rmse: 0.296037\n",
      "[12000]\tvalid_0's rmse: 0.290781\n",
      "[14000]\tvalid_0's rmse: 0.286901\n",
      "[16000]\tvalid_0's rmse: 0.283845\n",
      "[18000]\tvalid_0's rmse: 0.281475\n",
      "[20000]\tvalid_0's rmse: 0.279244\n",
      "Early stopping, best iteration is:\n",
      "[19989]\tvalid_0's rmse: 0.279219\n",
      "Fold 0 RMSE: 0.2792\n"
     ]
    },
    {
     "data": {
      "text/html": [
       "<br/>Waiting for W&B process to finish, PID 1627311<br/>Program ended successfully."
      ],
      "text/plain": [
       "<IPython.core.display.HTML object>"
      ]
     },
     "metadata": {},
     "output_type": "display_data"
    },
    {
     "data": {
      "application/vnd.jupyter.widget-view+json": {
       "model_id": "002b0547b07b421493f270d37c40570b",
       "version_major": 2,
       "version_minor": 0
      },
      "text/plain": [
       "VBox(children=(Label(value=' 0.00MB of 0.00MB uploaded (0.00MB deduped)\\r'), FloatProgress(value=1.0, max=1.0)…"
      ]
     },
     "metadata": {},
     "output_type": "display_data"
    },
    {
     "data": {
      "text/html": [
       "Find user logs for this run at: <code>/home/user/work/exp/exp020/wandb/run-20210611_213244-1q1q75ww/logs/debug.log</code>"
      ],
      "text/plain": [
       "<IPython.core.display.HTML object>"
      ]
     },
     "metadata": {},
     "output_type": "display_data"
    },
    {
     "data": {
      "text/html": [
       "Find internal logs for this run at: <code>/home/user/work/exp/exp020/wandb/run-20210611_213244-1q1q75ww/logs/debug-internal.log</code>"
      ],
      "text/plain": [
       "<IPython.core.display.HTML object>"
      ]
     },
     "metadata": {},
     "output_type": "display_data"
    },
    {
     "data": {
      "text/html": [
       "<h3>Run summary:</h3><br/><style>\n",
       "    table.wandb td:nth-child(1) { padding: 0 10px; text-align: right }\n",
       "    </style><table class=\"wandb\">\n",
       "<tr><td>valid_0_rmse</td><td>0.27925</td></tr><tr><td>_runtime</td><td>112</td></tr><tr><td>_timestamp</td><td>1623414879</td></tr><tr><td>_step</td><td>20088</td></tr></table>"
      ],
      "text/plain": [
       "<IPython.core.display.HTML object>"
      ]
     },
     "metadata": {},
     "output_type": "display_data"
    },
    {
     "data": {
      "text/html": [
       "<h3>Run history:</h3><br/><style>\n",
       "    table.wandb td:nth-child(1) { padding: 0 10px; text-align: right }\n",
       "    </style><table class=\"wandb\">\n",
       "<tr><td>valid_0_rmse</td><td>█▇▅▅▄▄▃▃▃▃▃▂▂▂▂▂▂▂▂▂▂▂▂▁▁▁▁▁▁▁▁▁▁▁▁▁▁▁▁▁</td></tr><tr><td>_runtime</td><td>▁▁▁▁▂▂▂▂▂▃▃▃▃▃▃▄▄▄▄▄▅▅▅▅▅▅▆▆▆▆▆▇▇▇▇▇▇███</td></tr><tr><td>_timestamp</td><td>▁▁▁▁▂▂▂▂▂▃▃▃▃▃▃▄▄▄▄▄▅▅▅▅▅▅▆▆▆▆▆▇▇▇▇▇▇███</td></tr><tr><td>_step</td><td>▁▁▁▁▂▂▂▂▂▃▃▃▃▃▃▄▄▄▄▄▅▅▅▅▅▅▆▆▆▆▆▇▇▇▇▇▇███</td></tr></table><br/>"
      ],
      "text/plain": [
       "<IPython.core.display.HTML object>"
      ]
     },
     "metadata": {},
     "output_type": "display_data"
    },
    {
     "data": {
      "text/html": [
       "Synced 5 W&B file(s), 0 media file(s), 0 artifact file(s) and 0 other file(s)"
      ],
      "text/plain": [
       "<IPython.core.display.HTML object>"
      ]
     },
     "metadata": {},
     "output_type": "display_data"
    },
    {
     "data": {
      "text/html": [
       "\n",
       "                    <br/>Synced <strong style=\"color:#cdcd00\">sleek-fog-265</strong>: <a href=\"https://wandb.ai/kuto5046/outdoor/runs/1q1q75ww\" target=\"_blank\">https://wandb.ai/kuto5046/outdoor/runs/1q1q75ww</a><br/>\n",
       "                "
      ],
      "text/plain": [
       "<IPython.core.display.HTML object>"
      ]
     },
     "metadata": {},
     "output_type": "display_data"
    },
    {
     "name": "stdout",
     "output_type": "stream",
     "text": [
      "====================\n",
      "Fold 1\n",
      "====================\n"
     ]
    },
    {
     "name": "stderr",
     "output_type": "stream",
     "text": [
      "\u001b[34m\u001b[1mwandb\u001b[0m: wandb version 0.10.32 is available!  To upgrade, please run:\n",
      "\u001b[34m\u001b[1mwandb\u001b[0m:  $ pip install wandb --upgrade\n"
     ]
    },
    {
     "data": {
      "text/html": [
       "\n",
       "                Tracking run with wandb version 0.10.22<br/>\n",
       "                Syncing run <strong style=\"color:#cdcd00\">expert-violet-266</strong> to <a href=\"https://wandb.ai\" target=\"_blank\">Weights & Biases</a> <a href=\"https://docs.wandb.com/integrations/jupyter.html\" target=\"_blank\">(Documentation)</a>.<br/>\n",
       "                Project page: <a href=\"https://wandb.ai/kuto5046/outdoor\" target=\"_blank\">https://wandb.ai/kuto5046/outdoor</a><br/>\n",
       "                Run page: <a href=\"https://wandb.ai/kuto5046/outdoor/runs/3t89jrq7\" target=\"_blank\">https://wandb.ai/kuto5046/outdoor/runs/3t89jrq7</a><br/>\n",
       "                Run data is saved locally in <code>/home/user/work/exp/exp020/wandb/run-20210611_213503-3t89jrq7</code><br/><br/>\n",
       "            "
      ],
      "text/plain": [
       "<IPython.core.display.HTML object>"
      ]
     },
     "metadata": {},
     "output_type": "display_data"
    },
    {
     "name": "stdout",
     "output_type": "stream",
     "text": [
      "[LightGBM] [Warning] Accuracy may be bad since you didn't explicitly set num_leaves OR 2^max_depth > num_leaves. (num_leaves=31).\n",
      "Training until validation scores don't improve for 100 rounds\n",
      "[2000]\tvalid_0's rmse: 0.365841\n",
      "[4000]\tvalid_0's rmse: 0.332874\n",
      "[6000]\tvalid_0's rmse: 0.315926\n",
      "[8000]\tvalid_0's rmse: 0.305271\n",
      "[10000]\tvalid_0's rmse: 0.29787\n",
      "[12000]\tvalid_0's rmse: 0.292697\n",
      "[14000]\tvalid_0's rmse: 0.28856\n",
      "[16000]\tvalid_0's rmse: 0.285497\n",
      "[18000]\tvalid_0's rmse: 0.282971\n",
      "[20000]\tvalid_0's rmse: 0.281011\n",
      "[22000]\tvalid_0's rmse: 0.279276\n",
      "[24000]\tvalid_0's rmse: 0.27791\n",
      "[26000]\tvalid_0's rmse: 0.276742\n",
      "[28000]\tvalid_0's rmse: 0.275645\n",
      "[30000]\tvalid_0's rmse: 0.274758\n",
      "[32000]\tvalid_0's rmse: 0.274017\n",
      "Early stopping, best iteration is:\n",
      "[31950]\tvalid_0's rmse: 0.273999\n",
      "Fold 1 RMSE: 0.2740\n"
     ]
    },
    {
     "data": {
      "text/html": [
       "<br/>Waiting for W&B process to finish, PID 1627723<br/>Program ended successfully."
      ],
      "text/plain": [
       "<IPython.core.display.HTML object>"
      ]
     },
     "metadata": {},
     "output_type": "display_data"
    },
    {
     "data": {
      "application/vnd.jupyter.widget-view+json": {
       "model_id": "5df7ef82367b4b7ebcc3108cd72f0bf8",
       "version_major": 2,
       "version_minor": 0
      },
      "text/plain": [
       "VBox(children=(Label(value=' 0.00MB of 0.00MB uploaded (0.00MB deduped)\\r'), FloatProgress(value=1.0, max=1.0)…"
      ]
     },
     "metadata": {},
     "output_type": "display_data"
    },
    {
     "data": {
      "text/html": [
       "Find user logs for this run at: <code>/home/user/work/exp/exp020/wandb/run-20210611_213503-3t89jrq7/logs/debug.log</code>"
      ],
      "text/plain": [
       "<IPython.core.display.HTML object>"
      ]
     },
     "metadata": {},
     "output_type": "display_data"
    },
    {
     "data": {
      "text/html": [
       "Find internal logs for this run at: <code>/home/user/work/exp/exp020/wandb/run-20210611_213503-3t89jrq7/logs/debug-internal.log</code>"
      ],
      "text/plain": [
       "<IPython.core.display.HTML object>"
      ]
     },
     "metadata": {},
     "output_type": "display_data"
    },
    {
     "data": {
      "text/html": [
       "<h3>Run summary:</h3><br/><style>\n",
       "    table.wandb td:nth-child(1) { padding: 0 10px; text-align: right }\n",
       "    </style><table class=\"wandb\">\n",
       "<tr><td>valid_0_rmse</td><td>0.274</td></tr><tr><td>_runtime</td><td>194</td></tr><tr><td>_timestamp</td><td>1623415097</td></tr><tr><td>_step</td><td>32049</td></tr></table>"
      ],
      "text/plain": [
       "<IPython.core.display.HTML object>"
      ]
     },
     "metadata": {},
     "output_type": "display_data"
    },
    {
     "data": {
      "text/html": [
       "<h3>Run history:</h3><br/><style>\n",
       "    table.wandb td:nth-child(1) { padding: 0 10px; text-align: right }\n",
       "    </style><table class=\"wandb\">\n",
       "<tr><td>valid_0_rmse</td><td>█▆▅▄▃▃▃▃▂▂▂▂▂▂▂▂▂▂▁▁▁▁▁▁▁▁▁▁▁▁▁▁▁▁▁▁▁▁▁▁</td></tr><tr><td>_runtime</td><td>▁▁▁▂▂▂▂▂▂▃▃▃▃▃▄▄▄▄▄▄▅▅▅▅▅▆▆▆▆▆▆▇▇▇▇▇▇███</td></tr><tr><td>_timestamp</td><td>▁▁▁▂▂▂▂▂▂▃▃▃▃▃▄▄▄▄▄▄▅▅▅▅▅▆▆▆▆▆▆▇▇▇▇▇▇███</td></tr><tr><td>_step</td><td>▁▁▁▂▂▂▂▂▂▃▃▃▃▃▄▄▄▄▄▄▅▅▅▅▅▅▆▆▆▆▆▇▇▇▇▇▇███</td></tr></table><br/>"
      ],
      "text/plain": [
       "<IPython.core.display.HTML object>"
      ]
     },
     "metadata": {},
     "output_type": "display_data"
    },
    {
     "data": {
      "text/html": [
       "Synced 5 W&B file(s), 0 media file(s), 0 artifact file(s) and 0 other file(s)"
      ],
      "text/plain": [
       "<IPython.core.display.HTML object>"
      ]
     },
     "metadata": {},
     "output_type": "display_data"
    },
    {
     "data": {
      "text/html": [
       "\n",
       "                    <br/>Synced <strong style=\"color:#cdcd00\">expert-violet-266</strong>: <a href=\"https://wandb.ai/kuto5046/outdoor/runs/3t89jrq7\" target=\"_blank\">https://wandb.ai/kuto5046/outdoor/runs/3t89jrq7</a><br/>\n",
       "                "
      ],
      "text/plain": [
       "<IPython.core.display.HTML object>"
      ]
     },
     "metadata": {},
     "output_type": "display_data"
    },
    {
     "name": "stdout",
     "output_type": "stream",
     "text": [
      "====================\n",
      "Fold 2\n",
      "====================\n"
     ]
    },
    {
     "name": "stderr",
     "output_type": "stream",
     "text": [
      "\u001b[34m\u001b[1mwandb\u001b[0m: wandb version 0.10.32 is available!  To upgrade, please run:\n",
      "\u001b[34m\u001b[1mwandb\u001b[0m:  $ pip install wandb --upgrade\n"
     ]
    },
    {
     "data": {
      "text/html": [
       "\n",
       "                Tracking run with wandb version 0.10.22<br/>\n",
       "                Syncing run <strong style=\"color:#cdcd00\">lunar-sound-267</strong> to <a href=\"https://wandb.ai\" target=\"_blank\">Weights & Biases</a> <a href=\"https://docs.wandb.com/integrations/jupyter.html\" target=\"_blank\">(Documentation)</a>.<br/>\n",
       "                Project page: <a href=\"https://wandb.ai/kuto5046/outdoor\" target=\"_blank\">https://wandb.ai/kuto5046/outdoor</a><br/>\n",
       "                Run page: <a href=\"https://wandb.ai/kuto5046/outdoor/runs/ku039tsd\" target=\"_blank\">https://wandb.ai/kuto5046/outdoor/runs/ku039tsd</a><br/>\n",
       "                Run data is saved locally in <code>/home/user/work/exp/exp020/wandb/run-20210611_213855-ku039tsd</code><br/><br/>\n",
       "            "
      ],
      "text/plain": [
       "<IPython.core.display.HTML object>"
      ]
     },
     "metadata": {},
     "output_type": "display_data"
    },
    {
     "name": "stdout",
     "output_type": "stream",
     "text": [
      "[LightGBM] [Warning] Accuracy may be bad since you didn't explicitly set num_leaves OR 2^max_depth > num_leaves. (num_leaves=31).\n",
      "Training until validation scores don't improve for 100 rounds\n",
      "[2000]\tvalid_0's rmse: 0.364176\n",
      "[4000]\tvalid_0's rmse: 0.331912\n",
      "[6000]\tvalid_0's rmse: 0.31546\n",
      "[8000]\tvalid_0's rmse: 0.305221\n",
      "[10000]\tvalid_0's rmse: 0.298144\n",
      "[12000]\tvalid_0's rmse: 0.292938\n",
      "[14000]\tvalid_0's rmse: 0.288956\n",
      "[16000]\tvalid_0's rmse: 0.285835\n",
      "[18000]\tvalid_0's rmse: 0.283475\n",
      "[20000]\tvalid_0's rmse: 0.281501\n",
      "[22000]\tvalid_0's rmse: 0.279903\n",
      "[24000]\tvalid_0's rmse: 0.2785\n",
      "[26000]\tvalid_0's rmse: 0.277225\n",
      "[28000]\tvalid_0's rmse: 0.276165\n",
      "[30000]\tvalid_0's rmse: 0.275227\n",
      "Early stopping, best iteration is:\n",
      "[31116]\tvalid_0's rmse: 0.27477\n",
      "Fold 2 RMSE: 0.2748\n"
     ]
    },
    {
     "data": {
      "text/html": [
       "<br/>Waiting for W&B process to finish, PID 1628354<br/>Program ended successfully."
      ],
      "text/plain": [
       "<IPython.core.display.HTML object>"
      ]
     },
     "metadata": {},
     "output_type": "display_data"
    },
    {
     "data": {
      "application/vnd.jupyter.widget-view+json": {
       "model_id": "e3b870c42b6c4b9fb3bee9fde72026b3",
       "version_major": 2,
       "version_minor": 0
      },
      "text/plain": [
       "VBox(children=(Label(value=' 0.00MB of 0.00MB uploaded (0.00MB deduped)\\r'), FloatProgress(value=1.0, max=1.0)…"
      ]
     },
     "metadata": {},
     "output_type": "display_data"
    },
    {
     "data": {
      "text/html": [
       "Find user logs for this run at: <code>/home/user/work/exp/exp020/wandb/run-20210611_213855-ku039tsd/logs/debug.log</code>"
      ],
      "text/plain": [
       "<IPython.core.display.HTML object>"
      ]
     },
     "metadata": {},
     "output_type": "display_data"
    },
    {
     "data": {
      "text/html": [
       "Find internal logs for this run at: <code>/home/user/work/exp/exp020/wandb/run-20210611_213855-ku039tsd/logs/debug-internal.log</code>"
      ],
      "text/plain": [
       "<IPython.core.display.HTML object>"
      ]
     },
     "metadata": {},
     "output_type": "display_data"
    },
    {
     "data": {
      "text/html": [
       "<h3>Run summary:</h3><br/><style>\n",
       "    table.wandb td:nth-child(1) { padding: 0 10px; text-align: right }\n",
       "    </style><table class=\"wandb\">\n",
       "<tr><td>valid_0_rmse</td><td>0.27478</td></tr><tr><td>_runtime</td><td>174</td></tr><tr><td>_timestamp</td><td>1623415309</td></tr><tr><td>_step</td><td>31215</td></tr></table>"
      ],
      "text/plain": [
       "<IPython.core.display.HTML object>"
      ]
     },
     "metadata": {},
     "output_type": "display_data"
    },
    {
     "data": {
      "text/html": [
       "<h3>Run history:</h3><br/><style>\n",
       "    table.wandb td:nth-child(1) { padding: 0 10px; text-align: right }\n",
       "    </style><table class=\"wandb\">\n",
       "<tr><td>valid_0_rmse</td><td>█▅▄▄▃▃▃▃▂▂▂▂▂▂▂▂▂▂▁▁▁▁▁▁▁▁▁▁▁▁▁▁▁▁▁▁▁▁▁▁</td></tr><tr><td>_runtime</td><td>▁▁▁▂▂▂▂▂▂▃▃▃▃▃▄▄▄▄▄▄▅▅▅▅▅▅▆▆▆▆▆▇▇▇▇▇▇███</td></tr><tr><td>_timestamp</td><td>▁▁▁▂▂▂▂▂▂▃▃▃▃▃▄▄▄▄▄▄▅▅▅▅▅▅▆▆▆▆▆▇▇▇▇▇▇███</td></tr><tr><td>_step</td><td>▁▁▁▂▂▂▂▂▂▃▃▃▃▃▄▄▄▄▄▄▅▅▅▅▅▅▆▆▆▆▆▇▇▇▇▇▇███</td></tr></table><br/>"
      ],
      "text/plain": [
       "<IPython.core.display.HTML object>"
      ]
     },
     "metadata": {},
     "output_type": "display_data"
    },
    {
     "data": {
      "text/html": [
       "Synced 5 W&B file(s), 0 media file(s), 0 artifact file(s) and 0 other file(s)"
      ],
      "text/plain": [
       "<IPython.core.display.HTML object>"
      ]
     },
     "metadata": {},
     "output_type": "display_data"
    },
    {
     "data": {
      "text/html": [
       "\n",
       "                    <br/>Synced <strong style=\"color:#cdcd00\">lunar-sound-267</strong>: <a href=\"https://wandb.ai/kuto5046/outdoor/runs/ku039tsd\" target=\"_blank\">https://wandb.ai/kuto5046/outdoor/runs/ku039tsd</a><br/>\n",
       "                "
      ],
      "text/plain": [
       "<IPython.core.display.HTML object>"
      ]
     },
     "metadata": {},
     "output_type": "display_data"
    },
    {
     "name": "stdout",
     "output_type": "stream",
     "text": [
      "====================\n",
      "Fold 3\n",
      "====================\n"
     ]
    },
    {
     "name": "stderr",
     "output_type": "stream",
     "text": [
      "\u001b[34m\u001b[1mwandb\u001b[0m: wandb version 0.10.32 is available!  To upgrade, please run:\n",
      "\u001b[34m\u001b[1mwandb\u001b[0m:  $ pip install wandb --upgrade\n"
     ]
    },
    {
     "data": {
      "text/html": [
       "\n",
       "                Tracking run with wandb version 0.10.22<br/>\n",
       "                Syncing run <strong style=\"color:#cdcd00\">rural-disco-268</strong> to <a href=\"https://wandb.ai\" target=\"_blank\">Weights & Biases</a> <a href=\"https://docs.wandb.com/integrations/jupyter.html\" target=\"_blank\">(Documentation)</a>.<br/>\n",
       "                Project page: <a href=\"https://wandb.ai/kuto5046/outdoor\" target=\"_blank\">https://wandb.ai/kuto5046/outdoor</a><br/>\n",
       "                Run page: <a href=\"https://wandb.ai/kuto5046/outdoor/runs/2acedjup\" target=\"_blank\">https://wandb.ai/kuto5046/outdoor/runs/2acedjup</a><br/>\n",
       "                Run data is saved locally in <code>/home/user/work/exp/exp020/wandb/run-20210611_214229-2acedjup</code><br/><br/>\n",
       "            "
      ],
      "text/plain": [
       "<IPython.core.display.HTML object>"
      ]
     },
     "metadata": {},
     "output_type": "display_data"
    },
    {
     "name": "stdout",
     "output_type": "stream",
     "text": [
      "[LightGBM] [Warning] Accuracy may be bad since you didn't explicitly set num_leaves OR 2^max_depth > num_leaves. (num_leaves=31).\n",
      "Training until validation scores don't improve for 100 rounds\n",
      "[2000]\tvalid_0's rmse: 0.363179\n",
      "[4000]\tvalid_0's rmse: 0.33065\n",
      "[6000]\tvalid_0's rmse: 0.314094\n",
      "[8000]\tvalid_0's rmse: 0.30387\n",
      "[10000]\tvalid_0's rmse: 0.296251\n",
      "[12000]\tvalid_0's rmse: 0.290808\n",
      "[14000]\tvalid_0's rmse: 0.286845\n",
      "[16000]\tvalid_0's rmse: 0.283666\n",
      "[18000]\tvalid_0's rmse: 0.281071\n",
      "[20000]\tvalid_0's rmse: 0.279072\n",
      "[22000]\tvalid_0's rmse: 0.277265\n",
      "[24000]\tvalid_0's rmse: 0.27579\n",
      "[26000]\tvalid_0's rmse: 0.274591\n",
      "Early stopping, best iteration is:\n",
      "[27186]\tvalid_0's rmse: 0.273874\n",
      "Fold 3 RMSE: 0.2739\n"
     ]
    },
    {
     "data": {
      "text/html": [
       "<br/>Waiting for W&B process to finish, PID 1628978<br/>Program ended successfully."
      ],
      "text/plain": [
       "<IPython.core.display.HTML object>"
      ]
     },
     "metadata": {},
     "output_type": "display_data"
    },
    {
     "data": {
      "application/vnd.jupyter.widget-view+json": {
       "model_id": "bb247bf481464242a2bc1fc12376badb",
       "version_major": 2,
       "version_minor": 0
      },
      "text/plain": [
       "VBox(children=(Label(value=' 0.00MB of 0.00MB uploaded (0.00MB deduped)\\r'), FloatProgress(value=1.0, max=1.0)…"
      ]
     },
     "metadata": {},
     "output_type": "display_data"
    },
    {
     "data": {
      "text/html": [
       "Find user logs for this run at: <code>/home/user/work/exp/exp020/wandb/run-20210611_214229-2acedjup/logs/debug.log</code>"
      ],
      "text/plain": [
       "<IPython.core.display.HTML object>"
      ]
     },
     "metadata": {},
     "output_type": "display_data"
    },
    {
     "data": {
      "text/html": [
       "Find internal logs for this run at: <code>/home/user/work/exp/exp020/wandb/run-20210611_214229-2acedjup/logs/debug-internal.log</code>"
      ],
      "text/plain": [
       "<IPython.core.display.HTML object>"
      ]
     },
     "metadata": {},
     "output_type": "display_data"
    },
    {
     "data": {
      "text/html": [
       "<h3>Run summary:</h3><br/><style>\n",
       "    table.wandb td:nth-child(1) { padding: 0 10px; text-align: right }\n",
       "    </style><table class=\"wandb\">\n",
       "<tr><td>valid_0_rmse</td><td>0.27389</td></tr><tr><td>_runtime</td><td>202</td></tr><tr><td>_timestamp</td><td>1623415551</td></tr><tr><td>_step</td><td>27285</td></tr></table>"
      ],
      "text/plain": [
       "<IPython.core.display.HTML object>"
      ]
     },
     "metadata": {},
     "output_type": "display_data"
    },
    {
     "data": {
      "text/html": [
       "<h3>Run history:</h3><br/><style>\n",
       "    table.wandb td:nth-child(1) { padding: 0 10px; text-align: right }\n",
       "    </style><table class=\"wandb\">\n",
       "<tr><td>valid_0_rmse</td><td>█▆▅▄▄▃▃▃▃▂▂▂▂▂▂▂▂▂▂▂▁▁▁▁▁▁▁▁▁▁▁▁▁▁▁▁▁▁▁▁</td></tr><tr><td>_runtime</td><td>▁▁▁▂▂▂▂▂▂▃▃▃▃▃▃▄▄▄▄▄▄▅▅▅▅▅▆▆▆▆▆▆▇▇▇▇▇███</td></tr><tr><td>_timestamp</td><td>▁▁▁▂▂▂▂▂▂▃▃▃▃▃▃▄▄▄▄▄▄▅▅▅▅▅▆▆▆▆▆▆▇▇▇▇▇███</td></tr><tr><td>_step</td><td>▁▁▁▂▂▂▂▂▂▃▃▃▃▃▃▄▄▄▄▄▅▅▅▅▅▅▆▆▆▆▆▇▇▇▇▇▇███</td></tr></table><br/>"
      ],
      "text/plain": [
       "<IPython.core.display.HTML object>"
      ]
     },
     "metadata": {},
     "output_type": "display_data"
    },
    {
     "data": {
      "text/html": [
       "Synced 5 W&B file(s), 0 media file(s), 0 artifact file(s) and 0 other file(s)"
      ],
      "text/plain": [
       "<IPython.core.display.HTML object>"
      ]
     },
     "metadata": {},
     "output_type": "display_data"
    },
    {
     "data": {
      "text/html": [
       "\n",
       "                    <br/>Synced <strong style=\"color:#cdcd00\">rural-disco-268</strong>: <a href=\"https://wandb.ai/kuto5046/outdoor/runs/2acedjup\" target=\"_blank\">https://wandb.ai/kuto5046/outdoor/runs/2acedjup</a><br/>\n",
       "                "
      ],
      "text/plain": [
       "<IPython.core.display.HTML object>"
      ]
     },
     "metadata": {},
     "output_type": "display_data"
    },
    {
     "name": "stdout",
     "output_type": "stream",
     "text": [
      "====================\n",
      "Fold 4\n",
      "====================\n"
     ]
    },
    {
     "name": "stderr",
     "output_type": "stream",
     "text": [
      "\u001b[34m\u001b[1mwandb\u001b[0m: wandb version 0.10.32 is available!  To upgrade, please run:\n",
      "\u001b[34m\u001b[1mwandb\u001b[0m:  $ pip install wandb --upgrade\n"
     ]
    },
    {
     "data": {
      "text/html": [
       "\n",
       "                Tracking run with wandb version 0.10.22<br/>\n",
       "                Syncing run <strong style=\"color:#cdcd00\">fluent-fire-269</strong> to <a href=\"https://wandb.ai\" target=\"_blank\">Weights & Biases</a> <a href=\"https://docs.wandb.com/integrations/jupyter.html\" target=\"_blank\">(Documentation)</a>.<br/>\n",
       "                Project page: <a href=\"https://wandb.ai/kuto5046/outdoor\" target=\"_blank\">https://wandb.ai/kuto5046/outdoor</a><br/>\n",
       "                Run page: <a href=\"https://wandb.ai/kuto5046/outdoor/runs/4uon8t3x\" target=\"_blank\">https://wandb.ai/kuto5046/outdoor/runs/4uon8t3x</a><br/>\n",
       "                Run data is saved locally in <code>/home/user/work/exp/exp020/wandb/run-20210611_214624-4uon8t3x</code><br/><br/>\n",
       "            "
      ],
      "text/plain": [
       "<IPython.core.display.HTML object>"
      ]
     },
     "metadata": {},
     "output_type": "display_data"
    },
    {
     "name": "stdout",
     "output_type": "stream",
     "text": [
      "[LightGBM] [Warning] Accuracy may be bad since you didn't explicitly set num_leaves OR 2^max_depth > num_leaves. (num_leaves=31).\n",
      "Training until validation scores don't improve for 100 rounds\n",
      "[2000]\tvalid_0's rmse: 0.348958\n",
      "[4000]\tvalid_0's rmse: 0.316182\n",
      "[6000]\tvalid_0's rmse: 0.298868\n",
      "[8000]\tvalid_0's rmse: 0.288039\n",
      "[10000]\tvalid_0's rmse: 0.280543\n",
      "[12000]\tvalid_0's rmse: 0.274893\n",
      "[14000]\tvalid_0's rmse: 0.270632\n",
      "[16000]\tvalid_0's rmse: 0.267235\n",
      "[18000]\tvalid_0's rmse: 0.264558\n",
      "[20000]\tvalid_0's rmse: 0.262263\n",
      "[22000]\tvalid_0's rmse: 0.260383\n",
      "[24000]\tvalid_0's rmse: 0.25888\n",
      "[26000]\tvalid_0's rmse: 0.257573\n",
      "[28000]\tvalid_0's rmse: 0.256426\n",
      "[30000]\tvalid_0's rmse: 0.25551\n",
      "[32000]\tvalid_0's rmse: 0.254679\n",
      "[34000]\tvalid_0's rmse: 0.253944\n",
      "[36000]\tvalid_0's rmse: 0.253291\n",
      "[38000]\tvalid_0's rmse: 0.252707\n",
      "[40000]\tvalid_0's rmse: 0.252221\n",
      "[42000]\tvalid_0's rmse: 0.251736\n",
      "[44000]\tvalid_0's rmse: 0.251317\n",
      "Early stopping, best iteration is:\n",
      "[44604]\tvalid_0's rmse: 0.251174\n",
      "Fold 4 RMSE: 0.2512\n"
     ]
    },
    {
     "data": {
      "text/html": [
       "<br/>Waiting for W&B process to finish, PID 1629676<br/>Program ended successfully."
      ],
      "text/plain": [
       "<IPython.core.display.HTML object>"
      ]
     },
     "metadata": {},
     "output_type": "display_data"
    },
    {
     "data": {
      "application/vnd.jupyter.widget-view+json": {
       "model_id": "ca68091f42ae4be2bb275e6742d09d2b",
       "version_major": 2,
       "version_minor": 0
      },
      "text/plain": [
       "VBox(children=(Label(value=' 0.00MB of 0.00MB uploaded (0.00MB deduped)\\r'), FloatProgress(value=1.0, max=1.0)…"
      ]
     },
     "metadata": {},
     "output_type": "display_data"
    },
    {
     "data": {
      "text/html": [
       "Find user logs for this run at: <code>/home/user/work/exp/exp020/wandb/run-20210611_214624-4uon8t3x/logs/debug.log</code>"
      ],
      "text/plain": [
       "<IPython.core.display.HTML object>"
      ]
     },
     "metadata": {},
     "output_type": "display_data"
    },
    {
     "data": {
      "text/html": [
       "Find internal logs for this run at: <code>/home/user/work/exp/exp020/wandb/run-20210611_214624-4uon8t3x/logs/debug-internal.log</code>"
      ],
      "text/plain": [
       "<IPython.core.display.HTML object>"
      ]
     },
     "metadata": {},
     "output_type": "display_data"
    },
    {
     "data": {
      "text/html": [
       "<h3>Run summary:</h3><br/><style>\n",
       "    table.wandb td:nth-child(1) { padding: 0 10px; text-align: right }\n",
       "    </style><table class=\"wandb\">\n",
       "<tr><td>valid_0_rmse</td><td>0.25118</td></tr><tr><td>_runtime</td><td>249</td></tr><tr><td>_timestamp</td><td>1623415833</td></tr><tr><td>_step</td><td>44703</td></tr></table>"
      ],
      "text/plain": [
       "<IPython.core.display.HTML object>"
      ]
     },
     "metadata": {},
     "output_type": "display_data"
    },
    {
     "data": {
      "text/html": [
       "<h3>Run history:</h3><br/><style>\n",
       "    table.wandb td:nth-child(1) { padding: 0 10px; text-align: right }\n",
       "    </style><table class=\"wandb\">\n",
       "<tr><td>valid_0_rmse</td><td>█▆▅▄▃▃▃▃▂▂▂▂▂▂▂▂▂▁▁▁▁▁▁▁▁▁▁▁▁▁▁▁▁▁▁▁▁▁▁▁</td></tr><tr><td>_runtime</td><td>▁▁▁▁▂▂▂▂▂▃▃▃▃▃▃▄▄▄▄▄▅▅▅▅▅▅▆▆▆▆▆▇▇▇▇▇▇███</td></tr><tr><td>_timestamp</td><td>▁▁▁▁▂▂▂▂▂▃▃▃▃▃▃▄▄▄▄▄▅▅▅▅▅▅▆▆▆▆▆▇▇▇▇▇▇███</td></tr><tr><td>_step</td><td>▁▁▁▁▂▂▂▂▂▃▃▃▃▃▃▄▄▄▄▄▅▅▅▅▅▅▆▆▆▆▆▇▇▇▇▇▇███</td></tr></table><br/>"
      ],
      "text/plain": [
       "<IPython.core.display.HTML object>"
      ]
     },
     "metadata": {},
     "output_type": "display_data"
    },
    {
     "data": {
      "text/html": [
       "Synced 5 W&B file(s), 0 media file(s), 0 artifact file(s) and 0 other file(s)"
      ],
      "text/plain": [
       "<IPython.core.display.HTML object>"
      ]
     },
     "metadata": {},
     "output_type": "display_data"
    },
    {
     "data": {
      "text/html": [
       "\n",
       "                    <br/>Synced <strong style=\"color:#cdcd00\">fluent-fire-269</strong>: <a href=\"https://wandb.ai/kuto5046/outdoor/runs/4uon8t3x\" target=\"_blank\">https://wandb.ai/kuto5046/outdoor/runs/4uon8t3x</a><br/>\n",
       "                "
      ],
      "text/plain": [
       "<IPython.core.display.HTML object>"
      ]
     },
     "metadata": {},
     "output_type": "display_data"
    },
    {
     "name": "stdout",
     "output_type": "stream",
     "text": [
      "--------------------------------------------------\n",
      "FINISHED | Whole RMSE: 0.2708\n"
     ]
    }
   ],
   "source": [
    "oof_df, preds = fit_lgbm(X, y, test, params=params, verbose=2000)"
   ]
  },
  {
   "cell_type": "code",
   "execution_count": 43,
   "metadata": {},
   "outputs": [
    {
     "data": {
      "text/plain": [
       "<matplotlib.collections.PathCollection at 0x7f2d4b060ee0>"
      ]
     },
     "execution_count": 43,
     "metadata": {},
     "output_type": "execute_result"
    },
    {
     "data": {
      "image/png": "[encoded data removed]",
      "text/plain": [
       "<Figure size 432x288 with 1 Axes>"
      ]
     },
     "metadata": {
      "needs_background": "light"
     },
     "output_type": "display_data"
    }
   ],
   "source": [
    "# Whole RMSE: 0.2708\n",
    "plt.scatter(oof_df[\"speedMps\"], oof_df[\"oof\"], alpha=0.1)"
   ]
  },
  {
   "cell_type": "code",
   "execution_count": 57,
   "metadata": {},
   "outputs": [],
   "source": [
    "test[\"pred\"] = np.mean(preds, axis=0)\n",
    "oof_df[\"collectionName\"] = le_co.inverse_transform(oof_df[\"collectionName\"])\n",
    "test[\"collectionName\"] = le_co.inverse_transform(test[\"collectionName\"])\n",
    "\n",
    "oof_df[\"phoneName\"] = le_ph.inverse_transform(oof_df[\"phoneName\"])\n",
    "test[\"phoneName\"] = le_ph.inverse_transform(test[\"phoneName\"])"
   ]
  },
  {
   "cell_type": "code",
   "execution_count": 62,
   "metadata": {},
   "outputs": [
    {
     "data": {
      "text/html": [
       "<div>\n",
       "<style scoped>\n",
       "    .dataframe tbody tr th:only-of-type {\n",
       "        vertical-align: middle;\n",
       "    }\n",
       "\n",
       "    .dataframe tbody tr th {\n",
       "        vertical-align: top;\n",
       "    }\n",
       "\n",
       "    .dataframe thead th {\n",
       "        text-align: right;\n",
       "    }\n",
       "</style>\n",
       "<table border=\"1\" class=\"dataframe\">\n",
       "  <thead>\n",
       "    <tr style=\"text-align: right;\">\n",
       "      <th></th>\n",
       "      <th>collectionName</th>\n",
       "      <th>phoneName</th>\n",
       "      <th>millisSinceGpsEpoch</th>\n",
       "      <th>latDeg</th>\n",
       "      <th>lngDeg</th>\n",
       "      <th>heightAboveWgs84EllipsoidM</th>\n",
       "      <th>phone</th>\n",
       "      <th>pred</th>\n",
       "    </tr>\n",
       "  </thead>\n",
       "  <tbody>\n",
       "    <tr>\n",
       "      <th>0</th>\n",
       "      <td>2020-05-14-US-MTV-1</td>\n",
       "      <td>Pixel4</td>\n",
       "      <td>1273529463442</td>\n",
       "      <td>37.423575</td>\n",
       "      <td>-122.094091</td>\n",
       "      <td>-34.06</td>\n",
       "      <td>2020-05-14-US-MTV-1_Pixel4</td>\n",
       "      <td>0.101259</td>\n",
       "    </tr>\n",
       "    <tr>\n",
       "      <th>1</th>\n",
       "      <td>2020-05-14-US-MTV-1</td>\n",
       "      <td>Pixel4</td>\n",
       "      <td>1273529464442</td>\n",
       "      <td>37.423578</td>\n",
       "      <td>-122.094101</td>\n",
       "      <td>-33.29</td>\n",
       "      <td>2020-05-14-US-MTV-1_Pixel4</td>\n",
       "      <td>0.025110</td>\n",
       "    </tr>\n",
       "    <tr>\n",
       "      <th>2</th>\n",
       "      <td>2020-05-14-US-MTV-1</td>\n",
       "      <td>Pixel4</td>\n",
       "      <td>1273529465442</td>\n",
       "      <td>37.423573</td>\n",
       "      <td>-122.094111</td>\n",
       "      <td>-30.99</td>\n",
       "      <td>2020-05-14-US-MTV-1_Pixel4</td>\n",
       "      <td>-0.016409</td>\n",
       "    </tr>\n",
       "    <tr>\n",
       "      <th>3</th>\n",
       "      <td>2020-05-14-US-MTV-1</td>\n",
       "      <td>Pixel4</td>\n",
       "      <td>1273529466442</td>\n",
       "      <td>37.423583</td>\n",
       "      <td>-122.094121</td>\n",
       "      <td>-32.83</td>\n",
       "      <td>2020-05-14-US-MTV-1_Pixel4</td>\n",
       "      <td>0.015611</td>\n",
       "    </tr>\n",
       "    <tr>\n",
       "      <th>4</th>\n",
       "      <td>2020-05-14-US-MTV-1</td>\n",
       "      <td>Pixel4</td>\n",
       "      <td>1273529467442</td>\n",
       "      <td>37.423579</td>\n",
       "      <td>-122.094114</td>\n",
       "      <td>-34.49</td>\n",
       "      <td>2020-05-14-US-MTV-1_Pixel4</td>\n",
       "      <td>0.009828</td>\n",
       "    </tr>\n",
       "    <tr>\n",
       "      <th>...</th>\n",
       "      <td>...</td>\n",
       "      <td>...</td>\n",
       "      <td>...</td>\n",
       "      <td>...</td>\n",
       "      <td>...</td>\n",
       "      <td>...</td>\n",
       "      <td>...</td>\n",
       "      <td>...</td>\n",
       "    </tr>\n",
       "    <tr>\n",
       "      <th>131337</th>\n",
       "      <td>2021-04-29-US-SJC-2</td>\n",
       "      <td>SamsungS20Ultra</td>\n",
       "      <td>1303760315000</td>\n",
       "      <td>37.334460</td>\n",
       "      <td>-121.899600</td>\n",
       "      <td>-8.09</td>\n",
       "      <td>2021-04-29-US-SJC-2_SamsungS20Ultra</td>\n",
       "      <td>0.025891</td>\n",
       "    </tr>\n",
       "    <tr>\n",
       "      <th>131338</th>\n",
       "      <td>2021-04-29-US-SJC-2</td>\n",
       "      <td>SamsungS20Ultra</td>\n",
       "      <td>1303760316000</td>\n",
       "      <td>37.334472</td>\n",
       "      <td>-121.899583</td>\n",
       "      <td>-7.59</td>\n",
       "      <td>2021-04-29-US-SJC-2_SamsungS20Ultra</td>\n",
       "      <td>0.016220</td>\n",
       "    </tr>\n",
       "    <tr>\n",
       "      <th>131339</th>\n",
       "      <td>2021-04-29-US-SJC-2</td>\n",
       "      <td>SamsungS20Ultra</td>\n",
       "      <td>1303760317000</td>\n",
       "      <td>37.334491</td>\n",
       "      <td>-121.899597</td>\n",
       "      <td>-8.35</td>\n",
       "      <td>2021-04-29-US-SJC-2_SamsungS20Ultra</td>\n",
       "      <td>0.064718</td>\n",
       "    </tr>\n",
       "    <tr>\n",
       "      <th>131340</th>\n",
       "      <td>2021-04-29-US-SJC-2</td>\n",
       "      <td>SamsungS20Ultra</td>\n",
       "      <td>1303760318000</td>\n",
       "      <td>37.334495</td>\n",
       "      <td>-121.899583</td>\n",
       "      <td>-8.73</td>\n",
       "      <td>2021-04-29-US-SJC-2_SamsungS20Ultra</td>\n",
       "      <td>-0.012927</td>\n",
       "    </tr>\n",
       "    <tr>\n",
       "      <th>131341</th>\n",
       "      <td>2021-04-29-US-SJC-2</td>\n",
       "      <td>SamsungS20Ultra</td>\n",
       "      <td>1303760319000</td>\n",
       "      <td>37.334485</td>\n",
       "      <td>-121.899570</td>\n",
       "      <td>-7.64</td>\n",
       "      <td>2021-04-29-US-SJC-2_SamsungS20Ultra</td>\n",
       "      <td>-0.136904</td>\n",
       "    </tr>\n",
       "  </tbody>\n",
       "</table>\n",
       "<p>131342 rows × 8 columns</p>\n",
       "</div>"
      ],
      "text/plain": [
       "             collectionName        phoneName  millisSinceGpsEpoch     latDeg  \\\n",
       "0       2020-05-14-US-MTV-1           Pixel4        1273529463442  37.423575   \n",
       "1       2020-05-14-US-MTV-1           Pixel4        1273529464442  37.423578   \n",
       "2       2020-05-14-US-MTV-1           Pixel4        1273529465442  37.423573   \n",
       "3       2020-05-14-US-MTV-1           Pixel4        1273529466442  37.423583   \n",
       "4       2020-05-14-US-MTV-1           Pixel4        1273529467442  37.423579   \n",
       "...                     ...              ...                  ...        ...   \n",
       "131337  2021-04-29-US-SJC-2  SamsungS20Ultra        1303760315000  37.334460   \n",
       "131338  2021-04-29-US-SJC-2  SamsungS20Ultra        1303760316000  37.334472   \n",
       "131339  2021-04-29-US-SJC-2  SamsungS20Ultra        1303760317000  37.334491   \n",
       "131340  2021-04-29-US-SJC-2  SamsungS20Ultra        1303760318000  37.334495   \n",
       "131341  2021-04-29-US-SJC-2  SamsungS20Ultra        1303760319000  37.334485   \n",
       "\n",
       "            lngDeg  heightAboveWgs84EllipsoidM  \\\n",
       "0      -122.094091                      -34.06   \n",
       "1      -122.094101                      -33.29   \n",
       "2      -122.094111                      -30.99   \n",
       "3      -122.094121                      -32.83   \n",
       "4      -122.094114                      -34.49   \n",
       "...            ...                         ...   \n",
       "131337 -121.899600                       -8.09   \n",
       "131338 -121.899583                       -7.59   \n",
       "131339 -121.899597                       -8.35   \n",
       "131340 -121.899583                       -8.73   \n",
       "131341 -121.899570                       -7.64   \n",
       "\n",
       "                                      phone      pred  \n",
       "0                2020-05-14-US-MTV-1_Pixel4  0.101259  \n",
       "1                2020-05-14-US-MTV-1_Pixel4  0.025110  \n",
       "2                2020-05-14-US-MTV-1_Pixel4 -0.016409  \n",
       "3                2020-05-14-US-MTV-1_Pixel4  0.015611  \n",
       "4                2020-05-14-US-MTV-1_Pixel4  0.009828  \n",
       "...                                     ...       ...  \n",
       "131337  2021-04-29-US-SJC-2_SamsungS20Ultra  0.025891  \n",
       "131338  2021-04-29-US-SJC-2_SamsungS20Ultra  0.016220  \n",
       "131339  2021-04-29-US-SJC-2_SamsungS20Ultra  0.064718  \n",
       "131340  2021-04-29-US-SJC-2_SamsungS20Ultra -0.012927  \n",
       "131341  2021-04-29-US-SJC-2_SamsungS20Ultra -0.136904  \n",
       "\n",
       "[131342 rows x 8 columns]"
      ]
     },
     "execution_count": 62,
     "metadata": {},
     "output_type": "execute_result"
    }
   ],
   "source": [
    "train_df = pd.read_csv(root_dir / \"baseline_locations_train.csv\")\n",
    "train_df = train_df.merge(oof_df[[\"collectionName\", \"phoneName\", \"millisSinceGpsEpoch\", \"pred\"]], on=[\"collectionName\", \"phoneName\", \"millisSinceGpsEpoch\"])\n",
    "train_df"
   ]
  },
  {
   "cell_type": "code",
   "execution_count": 63,
   "metadata": {},
   "outputs": [
    {
     "data": {
      "text/html": [
       "<div>\n",
       "<style scoped>\n",
       "    .dataframe tbody tr th:only-of-type {\n",
       "        vertical-align: middle;\n",
       "    }\n",
       "\n",
       "    .dataframe tbody tr th {\n",
       "        vertical-align: top;\n",
       "    }\n",
       "\n",
       "    .dataframe thead th {\n",
       "        text-align: right;\n",
       "    }\n",
       "</style>\n",
       "<table border=\"1\" class=\"dataframe\">\n",
       "  <thead>\n",
       "    <tr style=\"text-align: right;\">\n",
       "      <th></th>\n",
       "      <th>collectionName</th>\n",
       "      <th>phoneName</th>\n",
       "      <th>millisSinceGpsEpoch</th>\n",
       "      <th>latDeg</th>\n",
       "      <th>lngDeg</th>\n",
       "      <th>heightAboveWgs84EllipsoidM</th>\n",
       "      <th>phone</th>\n",
       "      <th>pred</th>\n",
       "    </tr>\n",
       "  </thead>\n",
       "  <tbody>\n",
       "    <tr>\n",
       "      <th>0</th>\n",
       "      <td>2020-05-15-US-MTV-1</td>\n",
       "      <td>Pixel4</td>\n",
       "      <td>1273608785432</td>\n",
       "      <td>37.416628</td>\n",
       "      <td>-122.082053</td>\n",
       "      <td>-30.69</td>\n",
       "      <td>2020-05-15-US-MTV-1_Pixel4</td>\n",
       "      <td>0.114614</td>\n",
       "    </tr>\n",
       "    <tr>\n",
       "      <th>1</th>\n",
       "      <td>2020-05-15-US-MTV-1</td>\n",
       "      <td>Pixel4</td>\n",
       "      <td>1273608786432</td>\n",
       "      <td>37.416646</td>\n",
       "      <td>-122.082040</td>\n",
       "      <td>-31.76</td>\n",
       "      <td>2020-05-15-US-MTV-1_Pixel4</td>\n",
       "      <td>-0.006341</td>\n",
       "    </tr>\n",
       "    <tr>\n",
       "      <th>2</th>\n",
       "      <td>2020-05-15-US-MTV-1</td>\n",
       "      <td>Pixel4</td>\n",
       "      <td>1273608787432</td>\n",
       "      <td>37.416652</td>\n",
       "      <td>-122.082039</td>\n",
       "      <td>-31.65</td>\n",
       "      <td>2020-05-15-US-MTV-1_Pixel4</td>\n",
       "      <td>0.001867</td>\n",
       "    </tr>\n",
       "    <tr>\n",
       "      <th>3</th>\n",
       "      <td>2020-05-15-US-MTV-1</td>\n",
       "      <td>Pixel4</td>\n",
       "      <td>1273608788432</td>\n",
       "      <td>37.416607</td>\n",
       "      <td>-122.082063</td>\n",
       "      <td>-31.52</td>\n",
       "      <td>2020-05-15-US-MTV-1_Pixel4</td>\n",
       "      <td>-0.016958</td>\n",
       "    </tr>\n",
       "    <tr>\n",
       "      <th>4</th>\n",
       "      <td>2020-05-15-US-MTV-1</td>\n",
       "      <td>Pixel4</td>\n",
       "      <td>1273608789432</td>\n",
       "      <td>37.416609</td>\n",
       "      <td>-122.082073</td>\n",
       "      <td>-28.95</td>\n",
       "      <td>2020-05-15-US-MTV-1_Pixel4</td>\n",
       "      <td>0.051821</td>\n",
       "    </tr>\n",
       "    <tr>\n",
       "      <th>...</th>\n",
       "      <td>...</td>\n",
       "      <td>...</td>\n",
       "      <td>...</td>\n",
       "      <td>...</td>\n",
       "      <td>...</td>\n",
       "      <td>...</td>\n",
       "      <td>...</td>\n",
       "      <td>...</td>\n",
       "    </tr>\n",
       "    <tr>\n",
       "      <th>91481</th>\n",
       "      <td>2021-04-29-US-SJC-3</td>\n",
       "      <td>SamsungS20Ultra</td>\n",
       "      <td>1303763185000</td>\n",
       "      <td>37.334539</td>\n",
       "      <td>-121.899383</td>\n",
       "      <td>-8.39</td>\n",
       "      <td>2021-04-29-US-SJC-3_SamsungS20Ultra</td>\n",
       "      <td>-0.054566</td>\n",
       "    </tr>\n",
       "    <tr>\n",
       "      <th>91482</th>\n",
       "      <td>2021-04-29-US-SJC-3</td>\n",
       "      <td>SamsungS20Ultra</td>\n",
       "      <td>1303763186000</td>\n",
       "      <td>37.334545</td>\n",
       "      <td>-121.899380</td>\n",
       "      <td>-7.36</td>\n",
       "      <td>2021-04-29-US-SJC-3_SamsungS20Ultra</td>\n",
       "      <td>-0.101317</td>\n",
       "    </tr>\n",
       "    <tr>\n",
       "      <th>91483</th>\n",
       "      <td>2021-04-29-US-SJC-3</td>\n",
       "      <td>SamsungS20Ultra</td>\n",
       "      <td>1303763187000</td>\n",
       "      <td>37.334551</td>\n",
       "      <td>-121.899371</td>\n",
       "      <td>-4.08</td>\n",
       "      <td>2021-04-29-US-SJC-3_SamsungS20Ultra</td>\n",
       "      <td>-0.065977</td>\n",
       "    </tr>\n",
       "    <tr>\n",
       "      <th>91484</th>\n",
       "      <td>2021-04-29-US-SJC-3</td>\n",
       "      <td>SamsungS20Ultra</td>\n",
       "      <td>1303763188000</td>\n",
       "      <td>37.334540</td>\n",
       "      <td>-121.899371</td>\n",
       "      <td>-5.70</td>\n",
       "      <td>2021-04-29-US-SJC-3_SamsungS20Ultra</td>\n",
       "      <td>-0.066400</td>\n",
       "    </tr>\n",
       "    <tr>\n",
       "      <th>91485</th>\n",
       "      <td>2021-04-29-US-SJC-3</td>\n",
       "      <td>SamsungS20Ultra</td>\n",
       "      <td>1303763189000</td>\n",
       "      <td>37.334562</td>\n",
       "      <td>-121.899354</td>\n",
       "      <td>-0.90</td>\n",
       "      <td>2021-04-29-US-SJC-3_SamsungS20Ultra</td>\n",
       "      <td>-0.090971</td>\n",
       "    </tr>\n",
       "  </tbody>\n",
       "</table>\n",
       "<p>91486 rows × 8 columns</p>\n",
       "</div>"
      ],
      "text/plain": [
       "            collectionName        phoneName  millisSinceGpsEpoch     latDeg  \\\n",
       "0      2020-05-15-US-MTV-1           Pixel4        1273608785432  37.416628   \n",
       "1      2020-05-15-US-MTV-1           Pixel4        1273608786432  37.416646   \n",
       "2      2020-05-15-US-MTV-1           Pixel4        1273608787432  37.416652   \n",
       "3      2020-05-15-US-MTV-1           Pixel4        1273608788432  37.416607   \n",
       "4      2020-05-15-US-MTV-1           Pixel4        1273608789432  37.416609   \n",
       "...                    ...              ...                  ...        ...   \n",
       "91481  2021-04-29-US-SJC-3  SamsungS20Ultra        1303763185000  37.334539   \n",
       "91482  2021-04-29-US-SJC-3  SamsungS20Ultra        1303763186000  37.334545   \n",
       "91483  2021-04-29-US-SJC-3  SamsungS20Ultra        1303763187000  37.334551   \n",
       "91484  2021-04-29-US-SJC-3  SamsungS20Ultra        1303763188000  37.334540   \n",
       "91485  2021-04-29-US-SJC-3  SamsungS20Ultra        1303763189000  37.334562   \n",
       "\n",
       "           lngDeg  heightAboveWgs84EllipsoidM  \\\n",
       "0     -122.082053                      -30.69   \n",
       "1     -122.082040                      -31.76   \n",
       "2     -122.082039                      -31.65   \n",
       "3     -122.082063                      -31.52   \n",
       "4     -122.082073                      -28.95   \n",
       "...           ...                         ...   \n",
       "91481 -121.899383                       -8.39   \n",
       "91482 -121.899380                       -7.36   \n",
       "91483 -121.899371                       -4.08   \n",
       "91484 -121.899371                       -5.70   \n",
       "91485 -121.899354                       -0.90   \n",
       "\n",
       "                                     phone      pred  \n",
       "0               2020-05-15-US-MTV-1_Pixel4  0.114614  \n",
       "1               2020-05-15-US-MTV-1_Pixel4 -0.006341  \n",
       "2               2020-05-15-US-MTV-1_Pixel4  0.001867  \n",
       "3               2020-05-15-US-MTV-1_Pixel4 -0.016958  \n",
       "4               2020-05-15-US-MTV-1_Pixel4  0.051821  \n",
       "...                                    ...       ...  \n",
       "91481  2021-04-29-US-SJC-3_SamsungS20Ultra -0.054566  \n",
       "91482  2021-04-29-US-SJC-3_SamsungS20Ultra -0.101317  \n",
       "91483  2021-04-29-US-SJC-3_SamsungS20Ultra -0.065977  \n",
       "91484  2021-04-29-US-SJC-3_SamsungS20Ultra -0.066400  \n",
       "91485  2021-04-29-US-SJC-3_SamsungS20Ultra -0.090971  \n",
       "\n",
       "[91486 rows x 8 columns]"
      ]
     },
     "execution_count": 63,
     "metadata": {},
     "output_type": "execute_result"
    }
   ],
   "source": [
    "test_df = pd.read_csv(root_dir / \"baseline_locations_test.csv\")\n",
    "test_df = test_df.merge(test[[\"collectionName\", \"phoneName\", \"millisSinceGpsEpoch\", \"pred\"]], on=[\"collectionName\", \"phoneName\", \"millisSinceGpsEpoch\"])\n",
    "test_df"
   ]
  },
  {
   "cell_type": "code",
   "execution_count": 64,
   "metadata": {},
   "outputs": [],
   "source": [
    "train_df.to_csv(root_dir / \"baseline_locations_train_with_speed.csv\", index=False)\n",
    "test_df.to_csv(root_dir / \"baseline_locations_test_with_speed.csv\", index=False)"
   ]
  }
 ],
 "metadata": {
  "interpreter": {
   "hash": "31f2aee4e71d21fbe5cf8b01ff0e069b9275f58929596ceb00d14d90e3e16cd6"
  },
  "kernelspec": {
   "display_name": "Python 3.8.5 64-bit",
   "name": "python3"
  },
  "language_info": {
   "codemirror_mode": {
    "name": "ipython",
    "version": 3
   },
   "file_extension": ".py",
   "mimetype": "text/x-python",
   "name": "python",
   "nbconvert_exporter": "python",
   "pygments_lexer": "ipython3",
   "version": "3.8.5"
  },
  "widgets": {
   "application/vnd.jupyter.widget-state+json": {
    "state": {
     "00bf5914059f494290386ac1c56c3384": {
      "model_module": "@jupyter-widgets/base",
      "model_module_version": "1.2.0",
      "model_name": "LayoutModel",
      "state": {}
     },
     "068a8ef1559b44d4a38630746583cdb6": {
      "model_module": "@jupyter-widgets/controls",
      "model_module_version": "1.5.0",
      "model_name": "DescriptionStyleModel",
      "state": {
       "description_width": ""
      }
     },
     "0912bc8b3d75422daa956ef375f20973": {
      "model_module": "@jupyter-widgets/base",
      "model_module_version": "1.2.0",
      "model_name": "LayoutModel",
      "state": {}
     },
     "123dcd5d03694aac81a370d105d714c1": {
      "model_module": "@jupyter-widgets/controls",
      "model_module_version": "1.5.0",
      "model_name": "FloatProgressModel",
      "state": {
       "bar_style": "success",
       "layout": "IPY_MODEL_ac0922e712d14f06b538b7cd7952a583",
       "max": 73,
       "style": "IPY_MODEL_d4f323ff72c548569b7472e06aeba22c",
       "value": 73
      }
     },
     "1731c5d17bde45f480aebc541b264685": {
      "model_module": "@jupyter-widgets/base",
      "model_module_version": "1.2.0",
      "model_name": "LayoutModel",
      "state": {}
     },
     "28995f4b8499485c8c1c4411182eb8b1": {
      "model_module": "@jupyter-widgets/controls",
      "model_module_version": "1.5.0",
      "model_name": "DescriptionStyleModel",
      "state": {
       "description_width": ""
      }
     },
     "2cf2702fc2bd45feb0513e286cbdbddb": {
      "model_module": "@jupyter-widgets/controls",
      "model_module_version": "1.5.0",
      "model_name": "HTMLModel",
      "state": {
       "layout": "IPY_MODEL_b3e8f41a248a45f6b30ac8d9ffb4ea88",
       "style": "IPY_MODEL_8a6ad24c04344260bb10e8e00c9f5b19",
       "value": "100%"
      }
     },
     "43c86d09a3b14ef28d599fe69bbba767": {
      "model_module": "@jupyter-widgets/controls",
      "model_module_version": "1.5.0",
      "model_name": "DescriptionStyleModel",
      "state": {
       "description_width": ""
      }
     },
     "467720a431004ad4a3996d8e47aa536e": {
      "model_module": "@jupyter-widgets/controls",
      "model_module_version": "1.5.0",
      "model_name": "HTMLModel",
      "state": {
       "layout": "IPY_MODEL_d643960b74584b9582fb39e98b3bafd4",
       "style": "IPY_MODEL_068a8ef1559b44d4a38630746583cdb6",
       "value": " 48/48 [00:11&lt;00:00,  4.10it/s]"
      }
     },
     "53a41e5c01ea4a85bd669986a884b774": {
      "model_module": "@jupyter-widgets/controls",
      "model_module_version": "1.5.0",
      "model_name": "HTMLModel",
      "state": {
       "layout": "IPY_MODEL_dce007f50e674165ade4c4b6cc0ba49d",
       "style": "IPY_MODEL_ca439ceb54c74bb09b694d02c7aebef1",
       "value": " 73/73 [00:16&lt;00:00,  3.81it/s]"
      }
     },
     "585620b1f7624183aef31ed111e6151c": {
      "model_module": "@jupyter-widgets/controls",
      "model_module_version": "1.5.0",
      "model_name": "HTMLModel",
      "state": {
       "layout": "IPY_MODEL_1731c5d17bde45f480aebc541b264685",
       "style": "IPY_MODEL_28995f4b8499485c8c1c4411182eb8b1",
       "value": " 73/73 [00:22&lt;00:00,  3.04it/s]"
      }
     },
     "748f3b580b674da1b5961c305af8a363": {
      "model_module": "@jupyter-widgets/controls",
      "model_module_version": "1.5.0",
      "model_name": "HTMLModel",
      "state": {
       "layout": "IPY_MODEL_a6ac9555bdb04d6ba08a7df7b33ea1cd",
       "style": "IPY_MODEL_b715677afe9043e081bbb6c955442857",
       "value": "100%"
      }
     },
     "7f7218df56a640c49489de28b11ac81b": {
      "model_module": "@jupyter-widgets/base",
      "model_module_version": "1.2.0",
      "model_name": "LayoutModel",
      "state": {}
     },
     "8a3ef9f30f4847da931b2260b7a1612f": {
      "model_module": "@jupyter-widgets/controls",
      "model_module_version": "1.5.0",
      "model_name": "HBoxModel",
      "state": {
       "children": [
        "IPY_MODEL_c876913e7c274f4b8572293ba06a0c64",
        "IPY_MODEL_c45d78a7bd4d4e228d01d07b8a875ff7",
        "IPY_MODEL_467720a431004ad4a3996d8e47aa536e"
       ],
       "layout": "IPY_MODEL_00bf5914059f494290386ac1c56c3384"
      }
     },
     "8a6ad24c04344260bb10e8e00c9f5b19": {
      "model_module": "@jupyter-widgets/controls",
      "model_module_version": "1.5.0",
      "model_name": "DescriptionStyleModel",
      "state": {
       "description_width": ""
      }
     },
     "940c0aceec324198b44286e2f5f628a8": {
      "model_module": "@jupyter-widgets/controls",
      "model_module_version": "1.5.0",
      "model_name": "ProgressStyleModel",
      "state": {
       "description_width": ""
      }
     },
     "94eb7f70e0c445b8a1c1c043576401e8": {
      "model_module": "@jupyter-widgets/controls",
      "model_module_version": "1.5.0",
      "model_name": "HBoxModel",
      "state": {
       "children": [
        "IPY_MODEL_2cf2702fc2bd45feb0513e286cbdbddb",
        "IPY_MODEL_123dcd5d03694aac81a370d105d714c1",
        "IPY_MODEL_53a41e5c01ea4a85bd669986a884b774"
       ],
       "layout": "IPY_MODEL_0912bc8b3d75422daa956ef375f20973"
      }
     },
     "a6ac9555bdb04d6ba08a7df7b33ea1cd": {
      "model_module": "@jupyter-widgets/base",
      "model_module_version": "1.2.0",
      "model_name": "LayoutModel",
      "state": {}
     },
     "a6d2268fffd648988dcb13046734b2b5": {
      "model_module": "@jupyter-widgets/base",
      "model_module_version": "1.2.0",
      "model_name": "LayoutModel",
      "state": {}
     },
     "a8fd4ff1307f4e42903c052b2875e263": {
      "model_module": "@jupyter-widgets/controls",
      "model_module_version": "1.5.0",
      "model_name": "HBoxModel",
      "state": {
       "children": [
        "IPY_MODEL_748f3b580b674da1b5961c305af8a363",
        "IPY_MODEL_c482b7a80a2b47b49dd4ea1424d14d28",
        "IPY_MODEL_585620b1f7624183aef31ed111e6151c"
       ],
       "layout": "IPY_MODEL_c8c52c02fa12439d8b46926dbb3a01fe"
      }
     },
     "ac0922e712d14f06b538b7cd7952a583": {
      "model_module": "@jupyter-widgets/base",
      "model_module_version": "1.2.0",
      "model_name": "LayoutModel",
      "state": {}
     },
     "b3e8f41a248a45f6b30ac8d9ffb4ea88": {
      "model_module": "@jupyter-widgets/base",
      "model_module_version": "1.2.0",
      "model_name": "LayoutModel",
      "state": {}
     },
     "b5bbd06af5994a759d7e8a24c4f9249c": {
      "model_module": "@jupyter-widgets/controls",
      "model_module_version": "1.5.0",
      "model_name": "ProgressStyleModel",
      "state": {
       "description_width": ""
      }
     },
     "b715677afe9043e081bbb6c955442857": {
      "model_module": "@jupyter-widgets/controls",
      "model_module_version": "1.5.0",
      "model_name": "DescriptionStyleModel",
      "state": {
       "description_width": ""
      }
     },
     "c45d78a7bd4d4e228d01d07b8a875ff7": {
      "model_module": "@jupyter-widgets/controls",
      "model_module_version": "1.5.0",
      "model_name": "FloatProgressModel",
      "state": {
       "bar_style": "success",
       "layout": "IPY_MODEL_7f7218df56a640c49489de28b11ac81b",
       "max": 48,
       "style": "IPY_MODEL_940c0aceec324198b44286e2f5f628a8",
       "value": 48
      }
     },
     "c482b7a80a2b47b49dd4ea1424d14d28": {
      "model_module": "@jupyter-widgets/controls",
      "model_module_version": "1.5.0",
      "model_name": "FloatProgressModel",
      "state": {
       "bar_style": "success",
       "layout": "IPY_MODEL_c5e0bcff216f417ab0efb39ef7ad34f1",
       "max": 73,
       "style": "IPY_MODEL_b5bbd06af5994a759d7e8a24c4f9249c",
       "value": 73
      }
     },
     "c5e0bcff216f417ab0efb39ef7ad34f1": {
      "model_module": "@jupyter-widgets/base",
      "model_module_version": "1.2.0",
      "model_name": "LayoutModel",
      "state": {}
     },
     "c876913e7c274f4b8572293ba06a0c64": {
      "model_module": "@jupyter-widgets/controls",
      "model_module_version": "1.5.0",
      "model_name": "HTMLModel",
      "state": {
       "layout": "IPY_MODEL_a6d2268fffd648988dcb13046734b2b5",
       "style": "IPY_MODEL_43c86d09a3b14ef28d599fe69bbba767",
       "value": "100%"
      }
     },
     "c8c52c02fa12439d8b46926dbb3a01fe": {
      "model_module": "@jupyter-widgets/base",
      "model_module_version": "1.2.0",
      "model_name": "LayoutModel",
      "state": {}
     },
     "ca439ceb54c74bb09b694d02c7aebef1": {
      "model_module": "@jupyter-widgets/controls",
      "model_module_version": "1.5.0",
      "model_name": "DescriptionStyleModel",
      "state": {
       "description_width": ""
      }
     },
     "d4f323ff72c548569b7472e06aeba22c": {
      "model_module": "@jupyter-widgets/controls",
      "model_module_version": "1.5.0",
      "model_name": "ProgressStyleModel",
      "state": {
       "description_width": ""
      }
     },
     "d643960b74584b9582fb39e98b3bafd4": {
      "model_module": "@jupyter-widgets/base",
      "model_module_version": "1.2.0",
      "model_name": "LayoutModel",
      "state": {}
     },
     "dce007f50e674165ade4c4b6cc0ba49d": {
      "model_module": "@jupyter-widgets/base",
      "model_module_version": "1.2.0",
      "model_name": "LayoutModel",
      "state": {}
     }
    },
    "version_major": 2,
    "version_minor": 0
   }
  }
 },
 "nbformat": 4,
 "nbformat_minor": 5
}