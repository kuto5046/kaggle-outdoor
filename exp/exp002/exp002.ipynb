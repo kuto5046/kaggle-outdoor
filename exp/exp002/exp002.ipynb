{
 "cells": [
  {
   "cell_type": "code",
   "execution_count": 32,
   "id": "422656d6-457b-49b5-b25a-9e1c578fdfd3",
   "metadata": {},
   "outputs": [],
   "source": [
    "import numpy as np\n",
    "import pandas as pd\n",
    "import glob\n",
    "import os\n",
    "import matplotlib.pyplot as plt\n",
    "from tqdm.notebook import tqdm\n",
    "\n",
    "\n",
    "def get_ground_truth(args):\n",
    "    (collectionName, phoneName), df = args\n",
    "    \n",
    "    path = root_dir / f\"train/{collectionName}/{phoneName}/ground_truth.csv\"\n",
    "    target_df = pd.read_csv(path)\n",
    "    output_df = pd.DataFrame()\n",
    "    # merge derived and target by 'millisSinceGpsEpoch'\n",
    "    for epoch, epoch_df in df.groupby('millisSinceGpsEpoch'):\n",
    "        idx = (target_df['millisSinceGpsEpoch'] - epoch).abs().argmin()\n",
    "        epoch_diff = epoch - target_df.loc[idx, 'millisSinceGpsEpoch']\n",
    "        epoch_df['epoch_diff'] = epoch_diff\n",
    "        epoch_df['target_latDeg'] = target_df.loc[idx, 'latDeg']\n",
    "        epoch_df['target_lngDeg'] = target_df.loc[idx, 'lngDeg']\n",
    "        output_df = pd.concat([output_df, epoch_df]).reset_index(drop=True)    \n",
    "    return output_df"
   ]
  },
  {
   "cell_type": "code",
   "execution_count": 2,
   "id": "f728f5c8-726a-4e65-b564-333c51c4316b",
   "metadata": {},
   "outputs": [],
   "source": [
    "# metric\n",
    "def calc_haversine(lat1, lon1, lat2, lon2):\n",
    "    \"\"\"Calculates the great circle distance between two points\n",
    "    on the earth. Inputs are array-like and specified in decimal degrees.\n",
    "    \"\"\"\n",
    "    RADIUS = 6_367_000\n",
    "    lat1, lon1, lat2, lon2 = map(np.radians, [lat1, lon1, lat2, lon2])\n",
    "    dlat = lat2 - lat1\n",
    "    dlon = lon2 - lon1\n",
    "    a = np.sin(dlat/2)**2 + \\\n",
    "        np.cos(lat1) * np.cos(lat2) * np.sin(dlon/2)**2\n",
    "    dist = 2 * RADIUS * np.arcsin(a**0.5)\n",
    "    return dist"
   ]
  },
  {
   "cell_type": "code",
   "execution_count": 4,
   "id": "4acf3f32-35c5-4f22-bbb4-4dc85a1cc0ab",
   "metadata": {},
   "outputs": [],
   "source": [
    "import simdkalman\n",
    "\n",
    "# define kf model\n",
    "T = 1.0\n",
    "state_transition = np.array([[1, 0, T, 0, 0.5 * T ** 2, 0], [0, 1, 0, T, 0, 0.5 * T ** 2], [0, 0, 1, 0, T, 0],\n",
    "                             [0, 0, 0, 1, 0, T], [0, 0, 0, 0, 1, 0], [0, 0, 0, 0, 0, 1]])\n",
    "process_noise = np.diag([1e-5, 1e-5, 5e-6, 5e-6, 1e-6, 1e-6]) + np.ones((6, 6)) * 1e-9\n",
    "observation_model = np.array([[1, 0, 0, 0, 0, 0], [0, 1, 0, 0, 0, 0]])\n",
    "observation_noise = np.diag([5e-5, 5e-5]) + np.ones((2, 2)) * 1e-9\n",
    "\n",
    "kf = simdkalman.KalmanFilter(\n",
    "        state_transition = state_transition,\n",
    "        process_noise = process_noise,\n",
    "        observation_model = observation_model,\n",
    "        observation_noise = observation_noise)"
   ]
  },
  {
   "cell_type": "code",
   "execution_count": 5,
   "id": "53b56dce-0b55-4cce-844a-60516b69f5ea",
   "metadata": {},
   "outputs": [],
   "source": [
    "def apply_kf_smoothing(df, kf_=kf):\n",
    "    unique_paths = df[['collectionName', 'phoneName']].drop_duplicates().to_numpy()\n",
    "    for collection, phone in tqdm(unique_paths):\n",
    "        cond = np.logical_and(df['collectionName'] == collection, df['phoneName'] == phone)\n",
    "        data = df[cond][['latDeg', 'lngDeg']].to_numpy()\n",
    "        data = data.reshape(1, len(data), 2)\n",
    "        smoothed = kf_.smooth(data)\n",
    "        df.loc[cond, 'latDeg'] = smoothed.states.mean[0, :, 0]\n",
    "        df.loc[cond, 'lngDeg'] = smoothed.states.mean[0, :, 1]\n",
    "    return df"
   ]
  },
  {
   "cell_type": "code",
   "execution_count": 6,
   "id": "95b5a9f0-be23-4fa1-9022-5f2d45e343eb",
   "metadata": {},
   "outputs": [],
   "source": [
    "def linear_interpolation(input_df):\n",
    "    dfs = pd.DataFrame()\n",
    "    for (collectionName, phoneName), df in input_df.groupby(['collectionName','phoneName']):\n",
    "\n",
    "        df['delta'] = calc_haversine(df['latDeg'], df['lngDeg'], df['latDeg'].shift(1), df['lngDeg'].shift(1))\n",
    "        df['time_delta'] = df['millisSinceGpsEpoch'] - df['millisSinceGpsEpoch'].shift(1)\n",
    "        df['delta'].fillna(0, inplace=True)\n",
    "        df['time_delta'].fillna(0, inplace=True)\n",
    "        df['speed'] = df['delta'] / (df['time_delta']/1000)  # m/s\n",
    "        df['speed'].fillna(0, inplace=True)\n",
    "\n",
    "        # 一度欠損値にする\n",
    "        df.loc[50<df['speed'], ['latDeg', 'lngDeg']] = np.nan\n",
    "        df['dummy_datetime'] = pd.to_datetime(df['millisSinceGpsEpoch'])\n",
    "        df = df.set_index('dummy_datetime')\n",
    "\n",
    "        # 時間に合わせて線形補間\n",
    "        df = df.interpolate(method='time').reset_index(drop=True)\n",
    "        dfs = pd.concat([dfs, df]).reset_index(drop=True)\n",
    "    return dfs"
   ]
  },
  {
   "cell_type": "code",
   "execution_count": 10,
   "id": "8a012b61-4fb6-4ded-a8de-f555780cc848",
   "metadata": {},
   "outputs": [],
   "source": [
    "# config\n",
    "EXP_NAME = str(Path().resolve()).split('/')[-1]"
   ]
  },
  {
   "cell_type": "code",
   "execution_count": 11,
   "id": "4a1eb288-f002-48a6-a1c4-e05e6188fc44",
   "metadata": {},
   "outputs": [
    {
     "data": {
      "text/plain": [
       "'exp002'"
      ]
     },
     "execution_count": 11,
     "metadata": {},
     "output_type": "execute_result"
    }
   ],
   "source": [
    "EXP_NAME"
   ]
  },
  {
   "cell_type": "code",
   "execution_count": 12,
   "id": "74571a89-996b-4156-b30f-f9d01583ec6d",
   "metadata": {},
   "outputs": [
    {
     "name": "stdout",
     "output_type": "stream",
     "text": [
      "\u001b[34m\u001b[1mwandb\u001b[0m: Appending key for api.wandb.ai to your netrc file: /home/user/.netrc\n"
     ]
    }
   ],
   "source": [
    "!wandb login 1bb2d0449c11d8b987e25c38b9d8dda176310fb6"
   ]
  },
  {
   "cell_type": "code",
   "execution_count": 13,
   "id": "431fd46c-93fc-4129-b91d-df05a77402e7",
   "metadata": {},
   "outputs": [],
   "source": [
    "# waypointを補正したdataset\n",
    "root_dir = Path('../../input/')\n",
    "test_df = pd.read_csv(root_dir / \"baseline_locations_test.csv\")\n",
    "sub_df = pd.read_csv(root_dir / 'sample_submission.csv')"
   ]
  },
  {
   "cell_type": "markdown",
   "id": "22c1d1ae-fc70-484d-a760-b1a31e8a3712",
   "metadata": {},
   "source": [
    "## KF -> LI"
   ]
  },
  {
   "cell_type": "code",
   "execution_count": 14,
   "id": "7b7d5d9c-78bf-4479-87aa-6b664b9b2fc9",
   "metadata": {},
   "outputs": [],
   "source": [
    "train_df = pd.read_csv(root_dir / \"baseline_locations_train.csv\")"
   ]
  },
  {
   "cell_type": "code",
   "execution_count": 15,
   "id": "3ddb80a2-298d-42fb-bb5d-67022dbcff1f",
   "metadata": {},
   "outputs": [
    {
     "data": {
      "application/vnd.jupyter.widget-view+json": {
       "model_id": "5c2800c2819346b2b34e784180ae14fc",
       "version_major": 2,
       "version_minor": 0
      },
      "text/plain": [
       "  0%|          | 0/73 [00:00<?, ?it/s]"
      ]
     },
     "metadata": {},
     "output_type": "display_data"
    }
   ],
   "source": [
    "import multiprocessing\n",
    "\n",
    "processes = multiprocessing.cpu_count()\n",
    "with multiprocessing.Pool(processes=processes) as pool:\n",
    "    gr = train_df.groupby(['collectionName','phoneName'])\n",
    "    dfs = pool.imap_unordered(get_ground_truth, gr)\n",
    "    dfs = tqdm(dfs, total=len(gr))\n",
    "    dfs = list(dfs)\n",
    "train_df = pd.concat(dfs).sort_values(['collectionName', 'phoneName', 'millisSinceGpsEpoch'])"
   ]
  },
  {
   "cell_type": "code",
   "execution_count": 16,
   "id": "052f4e43-89e8-47c3-bdd5-5782081f0d5b",
   "metadata": {},
   "outputs": [
    {
     "data": {
      "application/vnd.jupyter.widget-view+json": {
       "model_id": "2f71396102fe4188943fb12ffed2dd47",
       "version_major": 2,
       "version_minor": 0
      },
      "text/plain": [
       "  0%|          | 0/73 [00:00<?, ?it/s]"
      ]
     },
     "metadata": {},
     "output_type": "display_data"
    },
    {
     "data": {
      "text/plain": [
       "3.390778191301472"
      ]
     },
     "execution_count": 16,
     "metadata": {},
     "output_type": "execute_result"
    }
   ],
   "source": [
    "train_df = apply_kf_smoothing(train_df)\n",
    "train_df['distance'] = calc_haversine(train_df['latDeg'],train_df['lngDeg'],\n",
    "                                      train_df['target_latDeg'], train_df['target_lngDeg'])\n",
    "train_df['distance'].mean()"
   ]
  },
  {
   "cell_type": "markdown",
   "id": "7a87e267-c5a4-4771-a62c-8d95661132f2",
   "metadata": {},
   "source": [
    "speedはtrainもtestも50m/s以上のものが存在してた。これは異常なのでこれを線形補間する。"
   ]
  },
  {
   "cell_type": "code",
   "execution_count": 17,
   "id": "e84692e9-155d-40ed-ae69-245eb12ce2cf",
   "metadata": {},
   "outputs": [
    {
     "data": {
      "text/plain": [
       "3.2614864391449463"
      ]
     },
     "execution_count": 17,
     "metadata": {},
     "output_type": "execute_result"
    }
   ],
   "source": [
    "train_df = linear_interpolation(train_df)\n",
    "train_df['distance'] = calc_haversine(train_df['latDeg'],train_df['lngDeg'],train_df['target_latDeg'], train_df['target_lngDeg'])\n",
    "train_df['distance'].mean()"
   ]
  },
  {
   "cell_type": "markdown",
   "id": "a5d351e8-a8c0-465d-a48f-9bdb725de488",
   "metadata": {},
   "source": [
    "## LI -> KF  "
   ]
  },
  {
   "cell_type": "code",
   "execution_count": 20,
   "id": "2a0e3c1b-db7d-439a-b48c-ee40ddb43843",
   "metadata": {},
   "outputs": [
    {
     "data": {
      "application/vnd.jupyter.widget-view+json": {
       "model_id": "82eaf8a7ec6743cf84336aafed07f428",
       "version_major": 2,
       "version_minor": 0
      },
      "text/plain": [
       "  0%|          | 0/73 [00:00<?, ?it/s]"
      ]
     },
     "metadata": {},
     "output_type": "display_data"
    }
   ],
   "source": [
    "train_df = pd.read_csv(root_dir / \"baseline_locations_train.csv\")\n",
    "processes = multiprocessing.cpu_count()\n",
    "with multiprocessing.Pool(processes=processes) as pool:\n",
    "    gr = train_df.groupby(['collectionName','phoneName'])\n",
    "    dfs = pool.imap_unordered(get_ground_truth, gr)\n",
    "    dfs = tqdm(dfs, total=len(gr))\n",
    "    dfs = list(dfs)\n",
    "train_df = pd.concat(dfs).sort_values(['collectionName', 'phoneName', 'millisSinceGpsEpoch'])"
   ]
  },
  {
   "cell_type": "code",
   "execution_count": 21,
   "id": "697156a5-7774-44c2-a197-04010001c50d",
   "metadata": {},
   "outputs": [
    {
     "data": {
      "text/plain": [
       "3.6084284244593343"
      ]
     },
     "execution_count": 21,
     "metadata": {},
     "output_type": "execute_result"
    }
   ],
   "source": [
    "train_df = linear_interpolation(train_df)\n",
    "train_df['distance'] = calc_haversine(train_df['latDeg'],train_df['lngDeg'],train_df['target_latDeg'], train_df['target_lngDeg'])\n",
    "train_df['distance'].mean()"
   ]
  },
  {
   "cell_type": "code",
   "execution_count": 22,
   "id": "cff759d6-1567-4b3c-80cb-e876985303b5",
   "metadata": {},
   "outputs": [
    {
     "data": {
      "application/vnd.jupyter.widget-view+json": {
       "model_id": "2d7740c255444ee58203c9328dcae2c7",
       "version_major": 2,
       "version_minor": 0
      },
      "text/plain": [
       "  0%|          | 0/73 [00:00<?, ?it/s]"
      ]
     },
     "metadata": {},
     "output_type": "display_data"
    },
    {
     "data": {
      "text/plain": [
       "3.1564629632183157"
      ]
     },
     "execution_count": 22,
     "metadata": {},
     "output_type": "execute_result"
    }
   ],
   "source": [
    "train_df = apply_kf_smoothing(train_df)\n",
    "train_df['distance'] = calc_haversine(train_df['latDeg'],train_df['lngDeg'],\n",
    "                                      train_df['target_latDeg'], train_df['target_lngDeg'])\n",
    "train_df['distance'].mean()"
   ]
  },
  {
   "cell_type": "markdown",
   "id": "cc30a1c0-49b7-44f8-9064-13df06e6c8ad",
   "metadata": {},
   "source": [
    "## test"
   ]
  },
  {
   "cell_type": "code",
   "execution_count": 23,
   "id": "af217062-16f1-4874-864d-2aa205982b2d",
   "metadata": {},
   "outputs": [],
   "source": [
    "test_df = linear_interpolation(test_df)"
   ]
  },
  {
   "cell_type": "code",
   "execution_count": 24,
   "id": "5c295e58-1b14-4c99-8a05-2e6fc2ac5a60",
   "metadata": {},
   "outputs": [
    {
     "name": "stdout",
     "output_type": "stream",
     "text": [
      "<class 'pandas.core.frame.DataFrame'>\n",
      "RangeIndex: 91486 entries, 0 to 91485\n",
      "Data columns (total 10 columns):\n",
      " #   Column                      Non-Null Count  Dtype  \n",
      "---  ------                      --------------  -----  \n",
      " 0   collectionName              91486 non-null  object \n",
      " 1   phoneName                   91486 non-null  object \n",
      " 2   millisSinceGpsEpoch         91486 non-null  int64  \n",
      " 3   latDeg                      91486 non-null  float64\n",
      " 4   lngDeg                      91486 non-null  float64\n",
      " 5   heightAboveWgs84EllipsoidM  91486 non-null  float64\n",
      " 6   phone                       91486 non-null  object \n",
      " 7   delta                       91486 non-null  float64\n",
      " 8   time_delta                  91486 non-null  float64\n",
      " 9   speed                       91486 non-null  float64\n",
      "dtypes: float64(6), int64(1), object(3)\n",
      "memory usage: 7.0+ MB\n"
     ]
    }
   ],
   "source": [
    "test_df.info()"
   ]
  },
  {
   "cell_type": "code",
   "execution_count": 25,
   "id": "09382e4a-e7cd-47f2-a7ee-4d43810a8fad",
   "metadata": {},
   "outputs": [
    {
     "data": {
      "application/vnd.jupyter.widget-view+json": {
       "model_id": "c7aa29fcf4484397936f9faba703a91e",
       "version_major": 2,
       "version_minor": 0
      },
      "text/plain": [
       "  0%|          | 0/48 [00:00<?, ?it/s]"
      ]
     },
     "metadata": {},
     "output_type": "display_data"
    }
   ],
   "source": [
    "test_df = apply_kf_smoothing(test_df)"
   ]
  },
  {
   "cell_type": "code",
   "execution_count": 26,
   "id": "021945b4-3368-4396-b6fa-7d4fb58b38ea",
   "metadata": {},
   "outputs": [],
   "source": [
    "sub_df = sub_df.assign(\n",
    "    latDeg = test_df['latDeg'],\n",
    "    lngDeg = test_df['lngDeg']\n",
    ")\n",
    "sub_df.to_csv('submission.csv', index=False)"
   ]
  },
  {
   "cell_type": "code",
   "execution_count": 27,
   "id": "446eef78-e243-409e-9712-4a5516888ad7",
   "metadata": {},
   "outputs": [
    {
     "data": {
      "text/html": [
       "<div>\n",
       "<style scoped>\n",
       "    .dataframe tbody tr th:only-of-type {\n",
       "        vertical-align: middle;\n",
       "    }\n",
       "\n",
       "    .dataframe tbody tr th {\n",
       "        vertical-align: top;\n",
       "    }\n",
       "\n",
       "    .dataframe thead th {\n",
       "        text-align: right;\n",
       "    }\n",
       "</style>\n",
       "<table border=\"1\" class=\"dataframe\">\n",
       "  <thead>\n",
       "    <tr style=\"text-align: right;\">\n",
       "      <th></th>\n",
       "      <th>phone</th>\n",
       "      <th>millisSinceGpsEpoch</th>\n",
       "      <th>latDeg</th>\n",
       "      <th>lngDeg</th>\n",
       "    </tr>\n",
       "  </thead>\n",
       "  <tbody>\n",
       "    <tr>\n",
       "      <th>0</th>\n",
       "      <td>2020-05-15-US-MTV-1_Pixel4</td>\n",
       "      <td>1273608785432</td>\n",
       "      <td>37.416611</td>\n",
       "      <td>-122.081959</td>\n",
       "    </tr>\n",
       "    <tr>\n",
       "      <th>1</th>\n",
       "      <td>2020-05-15-US-MTV-1_Pixel4</td>\n",
       "      <td>1273608786432</td>\n",
       "      <td>37.416623</td>\n",
       "      <td>-122.082009</td>\n",
       "    </tr>\n",
       "    <tr>\n",
       "      <th>2</th>\n",
       "      <td>2020-05-15-US-MTV-1_Pixel4</td>\n",
       "      <td>1273608787432</td>\n",
       "      <td>37.416627</td>\n",
       "      <td>-122.082040</td>\n",
       "    </tr>\n",
       "    <tr>\n",
       "      <th>3</th>\n",
       "      <td>2020-05-15-US-MTV-1_Pixel4</td>\n",
       "      <td>1273608788432</td>\n",
       "      <td>37.416623</td>\n",
       "      <td>-122.082060</td>\n",
       "    </tr>\n",
       "    <tr>\n",
       "      <th>4</th>\n",
       "      <td>2020-05-15-US-MTV-1_Pixel4</td>\n",
       "      <td>1273608789432</td>\n",
       "      <td>37.416621</td>\n",
       "      <td>-122.082070</td>\n",
       "    </tr>\n",
       "    <tr>\n",
       "      <th>...</th>\n",
       "      <td>...</td>\n",
       "      <td>...</td>\n",
       "      <td>...</td>\n",
       "      <td>...</td>\n",
       "    </tr>\n",
       "    <tr>\n",
       "      <th>91481</th>\n",
       "      <td>2021-04-29-US-SJC-3_SamsungS20Ultra</td>\n",
       "      <td>1303763185000</td>\n",
       "      <td>37.334542</td>\n",
       "      <td>-121.899389</td>\n",
       "    </tr>\n",
       "    <tr>\n",
       "      <th>91482</th>\n",
       "      <td>2021-04-29-US-SJC-3_SamsungS20Ultra</td>\n",
       "      <td>1303763186000</td>\n",
       "      <td>37.334544</td>\n",
       "      <td>-121.899381</td>\n",
       "    </tr>\n",
       "    <tr>\n",
       "      <th>91483</th>\n",
       "      <td>2021-04-29-US-SJC-3_SamsungS20Ultra</td>\n",
       "      <td>1303763187000</td>\n",
       "      <td>37.334546</td>\n",
       "      <td>-121.899373</td>\n",
       "    </tr>\n",
       "    <tr>\n",
       "      <th>91484</th>\n",
       "      <td>2021-04-29-US-SJC-3_SamsungS20Ultra</td>\n",
       "      <td>1303763188000</td>\n",
       "      <td>37.334550</td>\n",
       "      <td>-121.899365</td>\n",
       "    </tr>\n",
       "    <tr>\n",
       "      <th>91485</th>\n",
       "      <td>2021-04-29-US-SJC-3_SamsungS20Ultra</td>\n",
       "      <td>1303763189000</td>\n",
       "      <td>37.334557</td>\n",
       "      <td>-121.899355</td>\n",
       "    </tr>\n",
       "  </tbody>\n",
       "</table>\n",
       "<p>91486 rows × 4 columns</p>\n",
       "</div>"
      ],
      "text/plain": [
       "                                     phone  millisSinceGpsEpoch     latDeg  \\\n",
       "0               2020-05-15-US-MTV-1_Pixel4        1273608785432  37.416611   \n",
       "1               2020-05-15-US-MTV-1_Pixel4        1273608786432  37.416623   \n",
       "2               2020-05-15-US-MTV-1_Pixel4        1273608787432  37.416627   \n",
       "3               2020-05-15-US-MTV-1_Pixel4        1273608788432  37.416623   \n",
       "4               2020-05-15-US-MTV-1_Pixel4        1273608789432  37.416621   \n",
       "...                                    ...                  ...        ...   \n",
       "91481  2021-04-29-US-SJC-3_SamsungS20Ultra        1303763185000  37.334542   \n",
       "91482  2021-04-29-US-SJC-3_SamsungS20Ultra        1303763186000  37.334544   \n",
       "91483  2021-04-29-US-SJC-3_SamsungS20Ultra        1303763187000  37.334546   \n",
       "91484  2021-04-29-US-SJC-3_SamsungS20Ultra        1303763188000  37.334550   \n",
       "91485  2021-04-29-US-SJC-3_SamsungS20Ultra        1303763189000  37.334557   \n",
       "\n",
       "           lngDeg  \n",
       "0     -122.081959  \n",
       "1     -122.082009  \n",
       "2     -122.082040  \n",
       "3     -122.082060  \n",
       "4     -122.082070  \n",
       "...           ...  \n",
       "91481 -121.899389  \n",
       "91482 -121.899381  \n",
       "91483 -121.899373  \n",
       "91484 -121.899365  \n",
       "91485 -121.899355  \n",
       "\n",
       "[91486 rows x 4 columns]"
      ]
     },
     "execution_count": 27,
     "metadata": {},
     "output_type": "execute_result"
    }
   ],
   "source": [
    "sub_df"
   ]
  },
  {
   "cell_type": "code",
   "execution_count": 28,
   "id": "ef121afa-f8eb-457c-9050-b7f8b1269d71",
   "metadata": {},
   "outputs": [],
   "source": [
    "_sub = pd.read_csv(root_dir/'kf_sample_sub.csv')"
   ]
  },
  {
   "cell_type": "code",
   "execution_count": 35,
   "id": "9d023942-2ad9-4f80-9673-fa2d0d5c93bd",
   "metadata": {},
   "outputs": [],
   "source": [
    "_x = _sub.loc[_sub['phone']=='2020-05-15-US-MTV-1_Pixel4', 'latDeg']\n",
    "_y = _sub.loc[_sub['phone']=='2020-05-15-US-MTV-1_Pixel4', 'lngDeg']"
   ]
  },
  {
   "cell_type": "code",
   "execution_count": 36,
   "id": "b23ecdc8-ffd8-4134-aa36-8429e08a5ee3",
   "metadata": {},
   "outputs": [],
   "source": [
    "x = sub_df.loc[sub_df['phone']=='2020-05-15-US-MTV-1_Pixel4', 'latDeg']\n",
    "y = sub_df.loc[sub_df['phone']=='2020-05-15-US-MTV-1_Pixel4', 'lngDeg']"
   ]
  },
  {
   "cell_type": "code",
   "execution_count": 37,
   "id": "eab6e0e7-9b6a-4c33-96b7-cb93a3f6e571",
   "metadata": {},
   "outputs": [
    {
     "data": {
      "text/plain": [
       "<matplotlib.collections.PathCollection at 0x7ff1d0068910>"
      ]
     },
     "execution_count": 37,
     "metadata": {},
     "output_type": "execute_result"
    },
    {
     "data": {
      "image/png": "[encoded data removed]",
      "text/plain": [
       "<Figure size 432x288 with 1 Axes>"
      ]
     },
     "metadata": {
      "needs_background": "light"
     },
     "output_type": "display_data"
    }
   ],
   "source": [
    "plt.scatter(x, _x)"
   ]
  },
  {
   "cell_type": "code",
   "execution_count": 38,
   "id": "5a4d545e-68ce-4bec-8e4b-49c83085e9c3",
   "metadata": {},
   "outputs": [
    {
     "data": {
      "text/plain": [
       "<matplotlib.collections.PathCollection at 0x7ff1c10388e0>"
      ]
     },
     "execution_count": 38,
     "metadata": {},
     "output_type": "execute_result"
    },
    {
     "data": {
      "image/png": "[encoded data removed]",
      "text/plain": [
       "<Figure size 432x288 with 1 Axes>"
      ]
     },
     "metadata": {
      "needs_background": "light"
     },
     "output_type": "display_data"
    }
   ],
   "source": [
    "plt.scatter(y, _y, color='blue')"
   ]
  },
  {
   "cell_type": "code",
   "execution_count": 40,
   "id": "67d7ee35-992a-48bd-8a93-3e49671be6ff",
   "metadata": {},
   "outputs": [
    {
     "data": {
      "text/plain": [
       "<AxesSubplot:>"
      ]
     },
     "execution_count": 40,
     "metadata": {},
     "output_type": "execute_result"
    },
    {
     "data": {
      "image/png": "[encoded data removed]",
      "text/plain": [
       "<Figure size 432x288 with 1 Axes>"
      ]
     },
     "metadata": {
      "needs_background": "light"
     },
     "output_type": "display_data"
    }
   ],
   "source": [
    "(x - _x).hist()"
   ]
  },
  {
   "cell_type": "code",
   "execution_count": 41,
   "id": "79aa8de1-e3ab-4bdf-ad48-b239f6e4af3e",
   "metadata": {},
   "outputs": [
    {
     "data": {
      "text/plain": [
       "<AxesSubplot:>"
      ]
     },
     "execution_count": 41,
     "metadata": {},
     "output_type": "execute_result"
    },
    {
     "data": {
      "image/png": "[encoded data removed]",
      "text/plain": [
       "<Figure size 432x288 with 1 Axes>"
      ]
     },
     "metadata": {
      "needs_background": "light"
     },
     "output_type": "display_data"
    }
   ],
   "source": [
    "(y - _y).hist()"
   ]
  },
  {
   "cell_type": "code",
   "execution_count": null,
   "id": "b7903fb3-3c32-42dc-9e68-7a5d86ce414c",
   "metadata": {},
   "outputs": [],
   "source": []
  }
 ],
 "metadata": {
  "kernelspec": {
   "display_name": "Python 3",
   "language": "python",
   "name": "python3"
  },
  "language_info": {
   "codemirror_mode": {
    "name": "ipython",
    "version": 3
   },
   "file_extension": ".py",
   "mimetype": "text/x-python",
   "name": "python",
   "nbconvert_exporter": "python",
   "pygments_lexer": "ipython3",
   "version": "3.8.5"
  }
 },
 "nbformat": 4,
 "nbformat_minor": 5
}
