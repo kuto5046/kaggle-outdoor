{
 "cells": [
  {
   "cell_type": "code",
   "execution_count": 1,
   "id": "b26f2590-4d7a-4c71-a9d3-f3b563f83ff0",
   "metadata": {},
   "outputs": [],
   "source": [
    "import os\n",
    "import sys\n",
    "import glob\n",
    "import yaml\n",
    "import pickle\n",
    "import random\n",
    "\n",
    "import numpy as np\n",
    "import pandas as pd\n",
    "import scipy.stats as stats\n",
    "from pathlib import Path\n",
    "import matplotlib.pyplot as plt\n",
    "from sklearn import model_selection\n",
    "from sklearn.preprocessing import StandardScaler, LabelEncoder\n",
    "\n",
    "import json\n",
    "from PIL import Image\n",
    "import wandb\n",
    "import torch\n",
    "from torch import nn\n",
    "import torch.nn.functional as F\n",
    "from torch.utils.data import Dataset, DataLoader\n",
    "import torch.optim as optim\n",
    "\n",
    "import pytorch_lightning as pl\n",
    "from pytorch_lightning.loggers import WandbLogger\n",
    "from pytorch_lightning.callbacks import ModelCheckpoint\n",
    "from pytorch_lightning.callbacks import EarlyStopping\n",
    "from pytorch_lightning.utilities.seed import seed_everything"
   ]
  },
  {
   "cell_type": "code",
   "execution_count": 2,
   "id": "8a012b61-4fb6-4ded-a8de-f555780cc848",
   "metadata": {},
   "outputs": [
    {
     "name": "stderr",
     "output_type": "stream",
     "text": [
      "Global seed set to 1996\n"
     ]
    },
    {
     "data": {
      "text/plain": [
       "1996"
      ]
     },
     "execution_count": 2,
     "metadata": {},
     "output_type": "execute_result"
    }
   ],
   "source": [
    "# config\n",
    "with open('config.yaml') as f:\n",
    "    config = yaml.safe_load(f)\n",
    "\n",
    "# globals variable\n",
    "SEED = config['globals']['seed']\n",
    "MAX_EPOCHS = config['globals']['max_epochs']\n",
    "N_SPLITS = config['globals']['n_splits']\n",
    "USE_FOLDS = config['globals']['use_folds']\n",
    "DEBUG = config['globals']['debug']\n",
    "EXP_MESSAGE = config['globals']['exp_message']\n",
    "NOTES = config['globals']['notes']\n",
    "MODEL_SAVE = config['globals']['model_save']\n",
    "ONLY_PRED = config['globals']['only_pred']\n",
    "PRETRAINED = config['globals']['pretrained']\n",
    "PRETRAINED_PATH = config['globals']['pretrained_path']\n",
    "EXP_NAME = str(Path().resolve()).split('/')[-1]\n",
    "\n",
    "# seed\n",
    "seed_everything(SEED)"
   ]
  },
  {
   "cell_type": "code",
   "execution_count": 3,
   "id": "4a1eb288-f002-48a6-a1c4-e05e6188fc44",
   "metadata": {},
   "outputs": [
    {
     "data": {
      "text/plain": [
       "'exp002'"
      ]
     },
     "execution_count": 3,
     "metadata": {},
     "output_type": "execute_result"
    }
   ],
   "source": [
    "EXP_NAME"
   ]
  },
  {
   "cell_type": "code",
   "execution_count": 4,
   "id": "74571a89-996b-4156-b30f-f9d01583ec6d",
   "metadata": {},
   "outputs": [
    {
     "name": "stdout",
     "output_type": "stream",
     "text": [
      "\u001b[34m\u001b[1mwandb\u001b[0m: Appending key for api.wandb.ai to your netrc file: /home/user/.netrc\n"
     ]
    }
   ],
   "source": [
    "!wandb login 1bb2d0449c11d8b987e25c38b9d8dda176310fb6"
   ]
  },
  {
   "cell_type": "code",
   "execution_count": 5,
   "id": "431fd46c-93fc-4129-b91d-df05a77402e7",
   "metadata": {},
   "outputs": [],
   "source": [
    "# waypointを補正したdataset\n",
    "root_dir = Path('../../input/')\n",
    "train_df = pd.read_csv(root_dir / \"baseline_locations_train.csv\")\n",
    "test_df = pd.read_csv(root_dir / \"baseline_locations_test.csv\")\n",
    "sub_df = pd.read_csv(root_dir / 'sample_submission.csv', index_col=0)"
   ]
  },
  {
   "cell_type": "code",
   "execution_count": 6,
   "id": "4ad7afb4-7d0c-45b2-b2ca-020936b46374",
   "metadata": {},
   "outputs": [
    {
     "data": {
      "text/plain": [
       "((131342, 7), (91486, 7))"
      ]
     },
     "execution_count": 6,
     "metadata": {},
     "output_type": "execute_result"
    }
   ],
   "source": [
    "train_df.shape, test_df.shape"
   ]
  },
  {
   "cell_type": "code",
   "execution_count": 7,
   "id": "422656d6-457b-49b5-b25a-9e1c578fdfd3",
   "metadata": {},
   "outputs": [],
   "source": [
    "import glob\n",
    "import os\n",
    "from tqdm.notebook import tqdm\n",
    "\n",
    "\n",
    "def get_ground_truth(args):\n",
    "    (collectionName, phoneName), df = args\n",
    "    \n",
    "    path = root_dir / f\"train/{collectionName}/{phoneName}/ground_truth.csv\"\n",
    "    target_df = pd.read_csv(path)\n",
    "    output_df = pd.DataFrame()\n",
    "    # merge derived and target by 'millisSinceGpsEpoch'\n",
    "    for epoch, epoch_df in df.groupby('millisSinceGpsEpoch'):\n",
    "        idx = (target_df['millisSinceGpsEpoch'] - epoch).abs().argmin()\n",
    "        epoch_diff = epoch - target_df.loc[idx, 'millisSinceGpsEpoch']\n",
    "        epoch_df['epoch_diff'] = epoch_diff\n",
    "        epoch_df['target_latDeg'] = target_df.loc[idx, 'latDeg']\n",
    "        epoch_df['target_lngDeg'] = target_df.loc[idx, 'lngDeg']\n",
    "        output_df = pd.concat([output_df, epoch_df]).reset_index(drop=True)    \n",
    "    return output_df"
   ]
  },
  {
   "cell_type": "code",
   "execution_count": 8,
   "id": "3ddb80a2-298d-42fb-bb5d-67022dbcff1f",
   "metadata": {},
   "outputs": [
    {
     "data": {
      "application/vnd.jupyter.widget-view+json": {
       "model_id": "4b214bd2e6504a24a684bd88d4f69296",
       "version_major": 2,
       "version_minor": 0
      },
      "text/plain": [
       "  0%|          | 0/73 [00:00<?, ?it/s]"
      ]
     },
     "metadata": {},
     "output_type": "display_data"
    }
   ],
   "source": [
    "import multiprocessing\n",
    "\n",
    "processes = multiprocessing.cpu_count()\n",
    "with multiprocessing.Pool(processes=processes) as pool:\n",
    "    gr = train_df.groupby(['collectionName','phoneName'])\n",
    "    dfs = pool.imap_unordered(get_ground_truth, gr)\n",
    "    dfs = tqdm(dfs, total=len(gr))\n",
    "    dfs = list(dfs)\n",
    "train_df = pd.concat(dfs).sort_values(['collectionName', 'phoneName', 'millisSinceGpsEpoch'])"
   ]
  },
  {
   "cell_type": "code",
   "execution_count": 9,
   "id": "f728f5c8-726a-4e65-b564-333c51c4316b",
   "metadata": {},
   "outputs": [],
   "source": [
    "# metric\n",
    "def calc_haversine(lat1, lon1, lat2, lon2):\n",
    "    \"\"\"Calculates the great circle distance between two points\n",
    "    on the earth. Inputs are array-like and specified in decimal degrees.\n",
    "    \"\"\"\n",
    "    RADIUS = 6_367_000\n",
    "    lat1, lon1, lat2, lon2 = map(np.radians, [lat1, lon1, lat2, lon2])\n",
    "    dlat = lat2 - lat1\n",
    "    dlon = lon2 - lon1\n",
    "    a = np.sin(dlat/2)**2 + \\\n",
    "        np.cos(lat1) * np.cos(lat2) * np.sin(dlon/2)**2\n",
    "    dist = 2 * RADIUS * np.arcsin(a**0.5)\n",
    "    return dist"
   ]
  },
  {
   "cell_type": "code",
   "execution_count": 10,
   "id": "fda93812-35ce-4411-9bbb-6263672c9ff8",
   "metadata": {},
   "outputs": [
    {
     "data": {
      "text/html": [
       "<div>\n",
       "<style scoped>\n",
       "    .dataframe tbody tr th:only-of-type {\n",
       "        vertical-align: middle;\n",
       "    }\n",
       "\n",
       "    .dataframe tbody tr th {\n",
       "        vertical-align: top;\n",
       "    }\n",
       "\n",
       "    .dataframe thead th {\n",
       "        text-align: right;\n",
       "    }\n",
       "</style>\n",
       "<table border=\"1\" class=\"dataframe\">\n",
       "  <thead>\n",
       "    <tr style=\"text-align: right;\">\n",
       "      <th></th>\n",
       "      <th>collectionName</th>\n",
       "      <th>phoneName</th>\n",
       "      <th>millisSinceGpsEpoch</th>\n",
       "      <th>latDeg</th>\n",
       "      <th>lngDeg</th>\n",
       "      <th>heightAboveWgs84EllipsoidM</th>\n",
       "      <th>phone</th>\n",
       "      <th>epoch_diff</th>\n",
       "      <th>target_latDeg</th>\n",
       "      <th>target_lngDeg</th>\n",
       "    </tr>\n",
       "  </thead>\n",
       "  <tbody>\n",
       "    <tr>\n",
       "      <th>0</th>\n",
       "      <td>2020-05-14-US-MTV-1</td>\n",
       "      <td>Pixel4</td>\n",
       "      <td>1273529463442</td>\n",
       "      <td>37.423575</td>\n",
       "      <td>-122.094091</td>\n",
       "      <td>-34.06</td>\n",
       "      <td>2020-05-14-US-MTV-1_Pixel4</td>\n",
       "      <td>0</td>\n",
       "      <td>37.423576</td>\n",
       "      <td>-122.094132</td>\n",
       "    </tr>\n",
       "    <tr>\n",
       "      <th>1</th>\n",
       "      <td>2020-05-14-US-MTV-1</td>\n",
       "      <td>Pixel4</td>\n",
       "      <td>1273529464442</td>\n",
       "      <td>37.423578</td>\n",
       "      <td>-122.094101</td>\n",
       "      <td>-33.29</td>\n",
       "      <td>2020-05-14-US-MTV-1_Pixel4</td>\n",
       "      <td>0</td>\n",
       "      <td>37.423576</td>\n",
       "      <td>-122.094132</td>\n",
       "    </tr>\n",
       "    <tr>\n",
       "      <th>2</th>\n",
       "      <td>2020-05-14-US-MTV-1</td>\n",
       "      <td>Pixel4</td>\n",
       "      <td>1273529465442</td>\n",
       "      <td>37.423573</td>\n",
       "      <td>-122.094111</td>\n",
       "      <td>-30.99</td>\n",
       "      <td>2020-05-14-US-MTV-1_Pixel4</td>\n",
       "      <td>0</td>\n",
       "      <td>37.423576</td>\n",
       "      <td>-122.094132</td>\n",
       "    </tr>\n",
       "    <tr>\n",
       "      <th>3</th>\n",
       "      <td>2020-05-14-US-MTV-1</td>\n",
       "      <td>Pixel4</td>\n",
       "      <td>1273529466442</td>\n",
       "      <td>37.423583</td>\n",
       "      <td>-122.094121</td>\n",
       "      <td>-32.83</td>\n",
       "      <td>2020-05-14-US-MTV-1_Pixel4</td>\n",
       "      <td>0</td>\n",
       "      <td>37.423576</td>\n",
       "      <td>-122.094132</td>\n",
       "    </tr>\n",
       "    <tr>\n",
       "      <th>4</th>\n",
       "      <td>2020-05-14-US-MTV-1</td>\n",
       "      <td>Pixel4</td>\n",
       "      <td>1273529467442</td>\n",
       "      <td>37.423579</td>\n",
       "      <td>-122.094114</td>\n",
       "      <td>-34.49</td>\n",
       "      <td>2020-05-14-US-MTV-1_Pixel4</td>\n",
       "      <td>0</td>\n",
       "      <td>37.423576</td>\n",
       "      <td>-122.094132</td>\n",
       "    </tr>\n",
       "    <tr>\n",
       "      <th>...</th>\n",
       "      <td>...</td>\n",
       "      <td>...</td>\n",
       "      <td>...</td>\n",
       "      <td>...</td>\n",
       "      <td>...</td>\n",
       "      <td>...</td>\n",
       "      <td>...</td>\n",
       "      <td>...</td>\n",
       "      <td>...</td>\n",
       "      <td>...</td>\n",
       "    </tr>\n",
       "    <tr>\n",
       "      <th>2365</th>\n",
       "      <td>2021-04-29-US-SJC-2</td>\n",
       "      <td>SamsungS20Ultra</td>\n",
       "      <td>1303760315000</td>\n",
       "      <td>37.334460</td>\n",
       "      <td>-121.899600</td>\n",
       "      <td>-8.09</td>\n",
       "      <td>2021-04-29-US-SJC-2_SamsungS20Ultra</td>\n",
       "      <td>0</td>\n",
       "      <td>37.334475</td>\n",
       "      <td>-121.899613</td>\n",
       "    </tr>\n",
       "    <tr>\n",
       "      <th>2366</th>\n",
       "      <td>2021-04-29-US-SJC-2</td>\n",
       "      <td>SamsungS20Ultra</td>\n",
       "      <td>1303760316000</td>\n",
       "      <td>37.334472</td>\n",
       "      <td>-121.899583</td>\n",
       "      <td>-7.59</td>\n",
       "      <td>2021-04-29-US-SJC-2_SamsungS20Ultra</td>\n",
       "      <td>0</td>\n",
       "      <td>37.334475</td>\n",
       "      <td>-121.899613</td>\n",
       "    </tr>\n",
       "    <tr>\n",
       "      <th>2367</th>\n",
       "      <td>2021-04-29-US-SJC-2</td>\n",
       "      <td>SamsungS20Ultra</td>\n",
       "      <td>1303760317000</td>\n",
       "      <td>37.334491</td>\n",
       "      <td>-121.899597</td>\n",
       "      <td>-8.35</td>\n",
       "      <td>2021-04-29-US-SJC-2_SamsungS20Ultra</td>\n",
       "      <td>0</td>\n",
       "      <td>37.334475</td>\n",
       "      <td>-121.899613</td>\n",
       "    </tr>\n",
       "    <tr>\n",
       "      <th>2368</th>\n",
       "      <td>2021-04-29-US-SJC-2</td>\n",
       "      <td>SamsungS20Ultra</td>\n",
       "      <td>1303760318000</td>\n",
       "      <td>37.334495</td>\n",
       "      <td>-121.899583</td>\n",
       "      <td>-8.73</td>\n",
       "      <td>2021-04-29-US-SJC-2_SamsungS20Ultra</td>\n",
       "      <td>0</td>\n",
       "      <td>37.334475</td>\n",
       "      <td>-121.899613</td>\n",
       "    </tr>\n",
       "    <tr>\n",
       "      <th>2369</th>\n",
       "      <td>2021-04-29-US-SJC-2</td>\n",
       "      <td>SamsungS20Ultra</td>\n",
       "      <td>1303760319000</td>\n",
       "      <td>37.334485</td>\n",
       "      <td>-121.899570</td>\n",
       "      <td>-7.64</td>\n",
       "      <td>2021-04-29-US-SJC-2_SamsungS20Ultra</td>\n",
       "      <td>0</td>\n",
       "      <td>37.334475</td>\n",
       "      <td>-121.899613</td>\n",
       "    </tr>\n",
       "  </tbody>\n",
       "</table>\n",
       "<p>131342 rows × 10 columns</p>\n",
       "</div>"
      ],
      "text/plain": [
       "           collectionName        phoneName  millisSinceGpsEpoch     latDeg  \\\n",
       "0     2020-05-14-US-MTV-1           Pixel4        1273529463442  37.423575   \n",
       "1     2020-05-14-US-MTV-1           Pixel4        1273529464442  37.423578   \n",
       "2     2020-05-14-US-MTV-1           Pixel4        1273529465442  37.423573   \n",
       "3     2020-05-14-US-MTV-1           Pixel4        1273529466442  37.423583   \n",
       "4     2020-05-14-US-MTV-1           Pixel4        1273529467442  37.423579   \n",
       "...                   ...              ...                  ...        ...   \n",
       "2365  2021-04-29-US-SJC-2  SamsungS20Ultra        1303760315000  37.334460   \n",
       "2366  2021-04-29-US-SJC-2  SamsungS20Ultra        1303760316000  37.334472   \n",
       "2367  2021-04-29-US-SJC-2  SamsungS20Ultra        1303760317000  37.334491   \n",
       "2368  2021-04-29-US-SJC-2  SamsungS20Ultra        1303760318000  37.334495   \n",
       "2369  2021-04-29-US-SJC-2  SamsungS20Ultra        1303760319000  37.334485   \n",
       "\n",
       "          lngDeg  heightAboveWgs84EllipsoidM  \\\n",
       "0    -122.094091                      -34.06   \n",
       "1    -122.094101                      -33.29   \n",
       "2    -122.094111                      -30.99   \n",
       "3    -122.094121                      -32.83   \n",
       "4    -122.094114                      -34.49   \n",
       "...          ...                         ...   \n",
       "2365 -121.899600                       -8.09   \n",
       "2366 -121.899583                       -7.59   \n",
       "2367 -121.899597                       -8.35   \n",
       "2368 -121.899583                       -8.73   \n",
       "2369 -121.899570                       -7.64   \n",
       "\n",
       "                                    phone  epoch_diff  target_latDeg  \\\n",
       "0              2020-05-14-US-MTV-1_Pixel4           0      37.423576   \n",
       "1              2020-05-14-US-MTV-1_Pixel4           0      37.423576   \n",
       "2              2020-05-14-US-MTV-1_Pixel4           0      37.423576   \n",
       "3              2020-05-14-US-MTV-1_Pixel4           0      37.423576   \n",
       "4              2020-05-14-US-MTV-1_Pixel4           0      37.423576   \n",
       "...                                   ...         ...            ...   \n",
       "2365  2021-04-29-US-SJC-2_SamsungS20Ultra           0      37.334475   \n",
       "2366  2021-04-29-US-SJC-2_SamsungS20Ultra           0      37.334475   \n",
       "2367  2021-04-29-US-SJC-2_SamsungS20Ultra           0      37.334475   \n",
       "2368  2021-04-29-US-SJC-2_SamsungS20Ultra           0      37.334475   \n",
       "2369  2021-04-29-US-SJC-2_SamsungS20Ultra           0      37.334475   \n",
       "\n",
       "      target_lngDeg  \n",
       "0       -122.094132  \n",
       "1       -122.094132  \n",
       "2       -122.094132  \n",
       "3       -122.094132  \n",
       "4       -122.094132  \n",
       "...             ...  \n",
       "2365    -121.899613  \n",
       "2366    -121.899613  \n",
       "2367    -121.899613  \n",
       "2368    -121.899613  \n",
       "2369    -121.899613  \n",
       "\n",
       "[131342 rows x 10 columns]"
      ]
     },
     "execution_count": 10,
     "metadata": {},
     "output_type": "execute_result"
    }
   ],
   "source": [
    "train_df"
   ]
  },
  {
   "cell_type": "code",
   "execution_count": 11,
   "id": "96589999-0dc8-423f-b465-2aa761f4851f",
   "metadata": {},
   "outputs": [
    {
     "data": {
      "text/html": [
       "<div>\n",
       "<style scoped>\n",
       "    .dataframe tbody tr th:only-of-type {\n",
       "        vertical-align: middle;\n",
       "    }\n",
       "\n",
       "    .dataframe tbody tr th {\n",
       "        vertical-align: top;\n",
       "    }\n",
       "\n",
       "    .dataframe thead th {\n",
       "        text-align: right;\n",
       "    }\n",
       "</style>\n",
       "<table border=\"1\" class=\"dataframe\">\n",
       "  <thead>\n",
       "    <tr style=\"text-align: right;\">\n",
       "      <th></th>\n",
       "      <th>collectionName</th>\n",
       "      <th>phoneName</th>\n",
       "      <th>millisSinceGpsEpoch</th>\n",
       "      <th>latDeg</th>\n",
       "      <th>lngDeg</th>\n",
       "      <th>heightAboveWgs84EllipsoidM</th>\n",
       "      <th>phone</th>\n",
       "      <th>epoch_diff</th>\n",
       "      <th>target_latDeg</th>\n",
       "      <th>target_lngDeg</th>\n",
       "      <th>distance</th>\n",
       "    </tr>\n",
       "  </thead>\n",
       "  <tbody>\n",
       "    <tr>\n",
       "      <th>0</th>\n",
       "      <td>2020-05-14-US-MTV-1</td>\n",
       "      <td>Pixel4</td>\n",
       "      <td>1273529463442</td>\n",
       "      <td>37.423575</td>\n",
       "      <td>-122.094091</td>\n",
       "      <td>-34.06</td>\n",
       "      <td>2020-05-14-US-MTV-1_Pixel4</td>\n",
       "      <td>0</td>\n",
       "      <td>37.423576</td>\n",
       "      <td>-122.094132</td>\n",
       "      <td>3.586842</td>\n",
       "    </tr>\n",
       "    <tr>\n",
       "      <th>1</th>\n",
       "      <td>2020-05-14-US-MTV-1</td>\n",
       "      <td>Pixel4</td>\n",
       "      <td>1273529464442</td>\n",
       "      <td>37.423578</td>\n",
       "      <td>-122.094101</td>\n",
       "      <td>-33.29</td>\n",
       "      <td>2020-05-14-US-MTV-1_Pixel4</td>\n",
       "      <td>0</td>\n",
       "      <td>37.423576</td>\n",
       "      <td>-122.094132</td>\n",
       "      <td>2.745901</td>\n",
       "    </tr>\n",
       "    <tr>\n",
       "      <th>2</th>\n",
       "      <td>2020-05-14-US-MTV-1</td>\n",
       "      <td>Pixel4</td>\n",
       "      <td>1273529465442</td>\n",
       "      <td>37.423573</td>\n",
       "      <td>-122.094111</td>\n",
       "      <td>-30.99</td>\n",
       "      <td>2020-05-14-US-MTV-1_Pixel4</td>\n",
       "      <td>0</td>\n",
       "      <td>37.423576</td>\n",
       "      <td>-122.094132</td>\n",
       "      <td>1.888409</td>\n",
       "    </tr>\n",
       "    <tr>\n",
       "      <th>3</th>\n",
       "      <td>2020-05-14-US-MTV-1</td>\n",
       "      <td>Pixel4</td>\n",
       "      <td>1273529466442</td>\n",
       "      <td>37.423583</td>\n",
       "      <td>-122.094121</td>\n",
       "      <td>-32.83</td>\n",
       "      <td>2020-05-14-US-MTV-1_Pixel4</td>\n",
       "      <td>0</td>\n",
       "      <td>37.423576</td>\n",
       "      <td>-122.094132</td>\n",
       "      <td>1.213483</td>\n",
       "    </tr>\n",
       "    <tr>\n",
       "      <th>4</th>\n",
       "      <td>2020-05-14-US-MTV-1</td>\n",
       "      <td>Pixel4</td>\n",
       "      <td>1273529467442</td>\n",
       "      <td>37.423579</td>\n",
       "      <td>-122.094114</td>\n",
       "      <td>-34.49</td>\n",
       "      <td>2020-05-14-US-MTV-1_Pixel4</td>\n",
       "      <td>0</td>\n",
       "      <td>37.423576</td>\n",
       "      <td>-122.094132</td>\n",
       "      <td>1.650722</td>\n",
       "    </tr>\n",
       "    <tr>\n",
       "      <th>...</th>\n",
       "      <td>...</td>\n",
       "      <td>...</td>\n",
       "      <td>...</td>\n",
       "      <td>...</td>\n",
       "      <td>...</td>\n",
       "      <td>...</td>\n",
       "      <td>...</td>\n",
       "      <td>...</td>\n",
       "      <td>...</td>\n",
       "      <td>...</td>\n",
       "      <td>...</td>\n",
       "    </tr>\n",
       "    <tr>\n",
       "      <th>2365</th>\n",
       "      <td>2021-04-29-US-SJC-2</td>\n",
       "      <td>SamsungS20Ultra</td>\n",
       "      <td>1303760315000</td>\n",
       "      <td>37.334460</td>\n",
       "      <td>-121.899600</td>\n",
       "      <td>-8.09</td>\n",
       "      <td>2021-04-29-US-SJC-2_SamsungS20Ultra</td>\n",
       "      <td>0</td>\n",
       "      <td>37.334475</td>\n",
       "      <td>-121.899613</td>\n",
       "      <td>2.052491</td>\n",
       "    </tr>\n",
       "    <tr>\n",
       "      <th>2366</th>\n",
       "      <td>2021-04-29-US-SJC-2</td>\n",
       "      <td>SamsungS20Ultra</td>\n",
       "      <td>1303760316000</td>\n",
       "      <td>37.334472</td>\n",
       "      <td>-121.899583</td>\n",
       "      <td>-7.59</td>\n",
       "      <td>2021-04-29-US-SJC-2_SamsungS20Ultra</td>\n",
       "      <td>0</td>\n",
       "      <td>37.334475</td>\n",
       "      <td>-121.899613</td>\n",
       "      <td>2.671673</td>\n",
       "    </tr>\n",
       "    <tr>\n",
       "      <th>2367</th>\n",
       "      <td>2021-04-29-US-SJC-2</td>\n",
       "      <td>SamsungS20Ultra</td>\n",
       "      <td>1303760317000</td>\n",
       "      <td>37.334491</td>\n",
       "      <td>-121.899597</td>\n",
       "      <td>-8.35</td>\n",
       "      <td>2021-04-29-US-SJC-2_SamsungS20Ultra</td>\n",
       "      <td>0</td>\n",
       "      <td>37.334475</td>\n",
       "      <td>-121.899613</td>\n",
       "      <td>2.287458</td>\n",
       "    </tr>\n",
       "    <tr>\n",
       "      <th>2368</th>\n",
       "      <td>2021-04-29-US-SJC-2</td>\n",
       "      <td>SamsungS20Ultra</td>\n",
       "      <td>1303760318000</td>\n",
       "      <td>37.334495</td>\n",
       "      <td>-121.899583</td>\n",
       "      <td>-8.73</td>\n",
       "      <td>2021-04-29-US-SJC-2_SamsungS20Ultra</td>\n",
       "      <td>0</td>\n",
       "      <td>37.334475</td>\n",
       "      <td>-121.899613</td>\n",
       "      <td>3.454306</td>\n",
       "    </tr>\n",
       "    <tr>\n",
       "      <th>2369</th>\n",
       "      <td>2021-04-29-US-SJC-2</td>\n",
       "      <td>SamsungS20Ultra</td>\n",
       "      <td>1303760319000</td>\n",
       "      <td>37.334485</td>\n",
       "      <td>-121.899570</td>\n",
       "      <td>-7.64</td>\n",
       "      <td>2021-04-29-US-SJC-2_SamsungS20Ultra</td>\n",
       "      <td>0</td>\n",
       "      <td>37.334475</td>\n",
       "      <td>-121.899613</td>\n",
       "      <td>3.965023</td>\n",
       "    </tr>\n",
       "  </tbody>\n",
       "</table>\n",
       "<p>131342 rows × 11 columns</p>\n",
       "</div>"
      ],
      "text/plain": [
       "           collectionName        phoneName  millisSinceGpsEpoch     latDeg  \\\n",
       "0     2020-05-14-US-MTV-1           Pixel4        1273529463442  37.423575   \n",
       "1     2020-05-14-US-MTV-1           Pixel4        1273529464442  37.423578   \n",
       "2     2020-05-14-US-MTV-1           Pixel4        1273529465442  37.423573   \n",
       "3     2020-05-14-US-MTV-1           Pixel4        1273529466442  37.423583   \n",
       "4     2020-05-14-US-MTV-1           Pixel4        1273529467442  37.423579   \n",
       "...                   ...              ...                  ...        ...   \n",
       "2365  2021-04-29-US-SJC-2  SamsungS20Ultra        1303760315000  37.334460   \n",
       "2366  2021-04-29-US-SJC-2  SamsungS20Ultra        1303760316000  37.334472   \n",
       "2367  2021-04-29-US-SJC-2  SamsungS20Ultra        1303760317000  37.334491   \n",
       "2368  2021-04-29-US-SJC-2  SamsungS20Ultra        1303760318000  37.334495   \n",
       "2369  2021-04-29-US-SJC-2  SamsungS20Ultra        1303760319000  37.334485   \n",
       "\n",
       "          lngDeg  heightAboveWgs84EllipsoidM  \\\n",
       "0    -122.094091                      -34.06   \n",
       "1    -122.094101                      -33.29   \n",
       "2    -122.094111                      -30.99   \n",
       "3    -122.094121                      -32.83   \n",
       "4    -122.094114                      -34.49   \n",
       "...          ...                         ...   \n",
       "2365 -121.899600                       -8.09   \n",
       "2366 -121.899583                       -7.59   \n",
       "2367 -121.899597                       -8.35   \n",
       "2368 -121.899583                       -8.73   \n",
       "2369 -121.899570                       -7.64   \n",
       "\n",
       "                                    phone  epoch_diff  target_latDeg  \\\n",
       "0              2020-05-14-US-MTV-1_Pixel4           0      37.423576   \n",
       "1              2020-05-14-US-MTV-1_Pixel4           0      37.423576   \n",
       "2              2020-05-14-US-MTV-1_Pixel4           0      37.423576   \n",
       "3              2020-05-14-US-MTV-1_Pixel4           0      37.423576   \n",
       "4              2020-05-14-US-MTV-1_Pixel4           0      37.423576   \n",
       "...                                   ...         ...            ...   \n",
       "2365  2021-04-29-US-SJC-2_SamsungS20Ultra           0      37.334475   \n",
       "2366  2021-04-29-US-SJC-2_SamsungS20Ultra           0      37.334475   \n",
       "2367  2021-04-29-US-SJC-2_SamsungS20Ultra           0      37.334475   \n",
       "2368  2021-04-29-US-SJC-2_SamsungS20Ultra           0      37.334475   \n",
       "2369  2021-04-29-US-SJC-2_SamsungS20Ultra           0      37.334475   \n",
       "\n",
       "      target_lngDeg  distance  \n",
       "0       -122.094132  3.586842  \n",
       "1       -122.094132  2.745901  \n",
       "2       -122.094132  1.888409  \n",
       "3       -122.094132  1.213483  \n",
       "4       -122.094132  1.650722  \n",
       "...             ...       ...  \n",
       "2365    -121.899613  2.052491  \n",
       "2366    -121.899613  2.671673  \n",
       "2367    -121.899613  2.287458  \n",
       "2368    -121.899613  3.454306  \n",
       "2369    -121.899613  3.965023  \n",
       "\n",
       "[131342 rows x 11 columns]"
      ]
     },
     "execution_count": 11,
     "metadata": {},
     "output_type": "execute_result"
    }
   ],
   "source": [
    "train_df['distance'] = calc_haversine(train_df['latDeg'],train_df['lngDeg'],train_df['target_latDeg'], train_df['target_lngDeg'])\n",
    "train_df"
   ]
  },
  {
   "cell_type": "code",
   "execution_count": 12,
   "id": "8537380d-2d55-4a85-af8a-570e85c82f4e",
   "metadata": {},
   "outputs": [
    {
     "data": {
      "text/plain": [
       "<AxesSubplot:>"
      ]
     },
     "execution_count": 12,
     "metadata": {},
     "output_type": "execute_result"
    },
    {
     "data": {
      "image/png": "[encoded data removed]",
      "text/plain": [
       "<Figure size 432x288 with 1 Axes>"
      ]
     },
     "metadata": {
      "needs_background": "light"
     },
     "output_type": "display_data"
    }
   ],
   "source": [
    "train_df['distance'].hist()"
   ]
  },
  {
   "cell_type": "code",
   "execution_count": 82,
   "id": "93a82b0f-fcf5-4007-9eb1-23308db9ea7c",
   "metadata": {},
   "outputs": [],
   "source": [
    "dfs = pd.DataFrame()\n",
    "for (collectionName, phoneName), df in train_df.groupby(['collectionName','phoneName']):\n",
    "    \n",
    "    df['target_delta'] = calc_haversine(df['target_latDeg'], df['target_lngDeg'], df['target_latDeg'].shift(1), df['target_lngDeg'].shift(1))\n",
    "    df['delta'] = calc_haversine(df['latDeg'], df['lngDeg'], df['latDeg'].shift(1), df['lngDeg'].shift(1))\n",
    "    df['time_delta'] = df['millisSinceGpsEpoch'] - df['millisSinceGpsEpoch'].shift(1)\n",
    "    \n",
    "\n",
    "    if df['target_delta'].isna().sum() == 1:\n",
    "        df['target_delta'].fillna(0, inplace=True)\n",
    "        df['delta'].fillna(0, inplace=True)\n",
    "        df['time_delta'].fillna(0, inplace=True)\n",
    "    else:\n",
    "        print('error')\n",
    "    df['target_speed'] = df['target_delta'] / (df['time_delta']/1000)\n",
    "    df['speed'] = df['delta'] / (df['time_delta']/1000)  # m/s\n",
    "    dfs = pd.concat([dfs, df]).reset_index(drop=True)"
   ]
  },
  {
   "cell_type": "code",
   "execution_count": 83,
   "id": "6123a059-0e25-4226-b437-5870cf0e9152",
   "metadata": {},
   "outputs": [
    {
     "data": {
      "text/html": [
       "<div>\n",
       "<style scoped>\n",
       "    .dataframe tbody tr th:only-of-type {\n",
       "        vertical-align: middle;\n",
       "    }\n",
       "\n",
       "    .dataframe tbody tr th {\n",
       "        vertical-align: top;\n",
       "    }\n",
       "\n",
       "    .dataframe thead th {\n",
       "        text-align: right;\n",
       "    }\n",
       "</style>\n",
       "<table border=\"1\" class=\"dataframe\">\n",
       "  <thead>\n",
       "    <tr style=\"text-align: right;\">\n",
       "      <th></th>\n",
       "      <th>collectionName</th>\n",
       "      <th>phoneName</th>\n",
       "      <th>millisSinceGpsEpoch</th>\n",
       "      <th>latDeg</th>\n",
       "      <th>lngDeg</th>\n",
       "      <th>heightAboveWgs84EllipsoidM</th>\n",
       "      <th>phone</th>\n",
       "      <th>epoch_diff</th>\n",
       "      <th>target_latDeg</th>\n",
       "      <th>target_lngDeg</th>\n",
       "      <th>distance</th>\n",
       "      <th>target_delta</th>\n",
       "      <th>delta</th>\n",
       "      <th>time_delta</th>\n",
       "      <th>target_speed</th>\n",
       "      <th>speed</th>\n",
       "    </tr>\n",
       "  </thead>\n",
       "  <tbody>\n",
       "    <tr>\n",
       "      <th>0</th>\n",
       "      <td>2020-05-14-US-MTV-1</td>\n",
       "      <td>Pixel4</td>\n",
       "      <td>1273529463442</td>\n",
       "      <td>37.423575</td>\n",
       "      <td>-122.094091</td>\n",
       "      <td>-34.06</td>\n",
       "      <td>2020-05-14-US-MTV-1_Pixel4</td>\n",
       "      <td>0</td>\n",
       "      <td>37.423576</td>\n",
       "      <td>-122.094132</td>\n",
       "      <td>3.586842</td>\n",
       "      <td>0.000000</td>\n",
       "      <td>0.000000</td>\n",
       "      <td>0.0</td>\n",
       "      <td>NaN</td>\n",
       "      <td>NaN</td>\n",
       "    </tr>\n",
       "    <tr>\n",
       "      <th>1</th>\n",
       "      <td>2020-05-14-US-MTV-1</td>\n",
       "      <td>Pixel4</td>\n",
       "      <td>1273529464442</td>\n",
       "      <td>37.423578</td>\n",
       "      <td>-122.094101</td>\n",
       "      <td>-33.29</td>\n",
       "      <td>2020-05-14-US-MTV-1_Pixel4</td>\n",
       "      <td>0</td>\n",
       "      <td>37.423576</td>\n",
       "      <td>-122.094132</td>\n",
       "      <td>2.745901</td>\n",
       "      <td>0.000154</td>\n",
       "      <td>0.888202</td>\n",
       "      <td>1000.0</td>\n",
       "      <td>0.000154</td>\n",
       "      <td>0.888202</td>\n",
       "    </tr>\n",
       "    <tr>\n",
       "      <th>2</th>\n",
       "      <td>2020-05-14-US-MTV-1</td>\n",
       "      <td>Pixel4</td>\n",
       "      <td>1273529465442</td>\n",
       "      <td>37.423573</td>\n",
       "      <td>-122.094111</td>\n",
       "      <td>-30.99</td>\n",
       "      <td>2020-05-14-US-MTV-1_Pixel4</td>\n",
       "      <td>0</td>\n",
       "      <td>37.423576</td>\n",
       "      <td>-122.094132</td>\n",
       "      <td>1.888409</td>\n",
       "      <td>0.001194</td>\n",
       "      <td>1.001204</td>\n",
       "      <td>1000.0</td>\n",
       "      <td>0.001194</td>\n",
       "      <td>1.001204</td>\n",
       "    </tr>\n",
       "    <tr>\n",
       "      <th>3</th>\n",
       "      <td>2020-05-14-US-MTV-1</td>\n",
       "      <td>Pixel4</td>\n",
       "      <td>1273529466442</td>\n",
       "      <td>37.423583</td>\n",
       "      <td>-122.094121</td>\n",
       "      <td>-32.83</td>\n",
       "      <td>2020-05-14-US-MTV-1_Pixel4</td>\n",
       "      <td>0</td>\n",
       "      <td>37.423576</td>\n",
       "      <td>-122.094132</td>\n",
       "      <td>1.213483</td>\n",
       "      <td>0.001275</td>\n",
       "      <td>1.370528</td>\n",
       "      <td>1000.0</td>\n",
       "      <td>0.001275</td>\n",
       "      <td>1.370528</td>\n",
       "    </tr>\n",
       "    <tr>\n",
       "      <th>4</th>\n",
       "      <td>2020-05-14-US-MTV-1</td>\n",
       "      <td>Pixel4</td>\n",
       "      <td>1273529467442</td>\n",
       "      <td>37.423579</td>\n",
       "      <td>-122.094114</td>\n",
       "      <td>-34.49</td>\n",
       "      <td>2020-05-14-US-MTV-1_Pixel4</td>\n",
       "      <td>0</td>\n",
       "      <td>37.423576</td>\n",
       "      <td>-122.094132</td>\n",
       "      <td>1.650722</td>\n",
       "      <td>0.001109</td>\n",
       "      <td>0.741296</td>\n",
       "      <td>1000.0</td>\n",
       "      <td>0.001109</td>\n",
       "      <td>0.741296</td>\n",
       "    </tr>\n",
       "    <tr>\n",
       "      <th>...</th>\n",
       "      <td>...</td>\n",
       "      <td>...</td>\n",
       "      <td>...</td>\n",
       "      <td>...</td>\n",
       "      <td>...</td>\n",
       "      <td>...</td>\n",
       "      <td>...</td>\n",
       "      <td>...</td>\n",
       "      <td>...</td>\n",
       "      <td>...</td>\n",
       "      <td>...</td>\n",
       "      <td>...</td>\n",
       "      <td>...</td>\n",
       "      <td>...</td>\n",
       "      <td>...</td>\n",
       "      <td>...</td>\n",
       "    </tr>\n",
       "    <tr>\n",
       "      <th>131337</th>\n",
       "      <td>2021-04-29-US-SJC-2</td>\n",
       "      <td>SamsungS20Ultra</td>\n",
       "      <td>1303760315000</td>\n",
       "      <td>37.334460</td>\n",
       "      <td>-121.899600</td>\n",
       "      <td>-8.09</td>\n",
       "      <td>2021-04-29-US-SJC-2_SamsungS20Ultra</td>\n",
       "      <td>0</td>\n",
       "      <td>37.334475</td>\n",
       "      <td>-121.899613</td>\n",
       "      <td>2.052491</td>\n",
       "      <td>0.000556</td>\n",
       "      <td>0.941490</td>\n",
       "      <td>1000.0</td>\n",
       "      <td>0.000556</td>\n",
       "      <td>0.941490</td>\n",
       "    </tr>\n",
       "    <tr>\n",
       "      <th>131338</th>\n",
       "      <td>2021-04-29-US-SJC-2</td>\n",
       "      <td>SamsungS20Ultra</td>\n",
       "      <td>1303760316000</td>\n",
       "      <td>37.334472</td>\n",
       "      <td>-121.899583</td>\n",
       "      <td>-7.59</td>\n",
       "      <td>2021-04-29-US-SJC-2_SamsungS20Ultra</td>\n",
       "      <td>0</td>\n",
       "      <td>37.334475</td>\n",
       "      <td>-121.899613</td>\n",
       "      <td>2.671673</td>\n",
       "      <td>0.000556</td>\n",
       "      <td>2.011345</td>\n",
       "      <td>1000.0</td>\n",
       "      <td>0.000556</td>\n",
       "      <td>2.011345</td>\n",
       "    </tr>\n",
       "    <tr>\n",
       "      <th>131339</th>\n",
       "      <td>2021-04-29-US-SJC-2</td>\n",
       "      <td>SamsungS20Ultra</td>\n",
       "      <td>1303760317000</td>\n",
       "      <td>37.334491</td>\n",
       "      <td>-121.899597</td>\n",
       "      <td>-8.35</td>\n",
       "      <td>2021-04-29-US-SJC-2_SamsungS20Ultra</td>\n",
       "      <td>0</td>\n",
       "      <td>37.334475</td>\n",
       "      <td>-121.899613</td>\n",
       "      <td>2.287458</td>\n",
       "      <td>0.000236</td>\n",
       "      <td>2.447052</td>\n",
       "      <td>1000.0</td>\n",
       "      <td>0.000236</td>\n",
       "      <td>2.447052</td>\n",
       "    </tr>\n",
       "    <tr>\n",
       "      <th>131340</th>\n",
       "      <td>2021-04-29-US-SJC-2</td>\n",
       "      <td>SamsungS20Ultra</td>\n",
       "      <td>1303760318000</td>\n",
       "      <td>37.334495</td>\n",
       "      <td>-121.899583</td>\n",
       "      <td>-8.73</td>\n",
       "      <td>2021-04-29-US-SJC-2_SamsungS20Ultra</td>\n",
       "      <td>0</td>\n",
       "      <td>37.334475</td>\n",
       "      <td>-121.899613</td>\n",
       "      <td>3.454306</td>\n",
       "      <td>0.004821</td>\n",
       "      <td>1.303535</td>\n",
       "      <td>1000.0</td>\n",
       "      <td>0.004821</td>\n",
       "      <td>1.303535</td>\n",
       "    </tr>\n",
       "    <tr>\n",
       "      <th>131341</th>\n",
       "      <td>2021-04-29-US-SJC-2</td>\n",
       "      <td>SamsungS20Ultra</td>\n",
       "      <td>1303760319000</td>\n",
       "      <td>37.334485</td>\n",
       "      <td>-121.899570</td>\n",
       "      <td>-7.64</td>\n",
       "      <td>2021-04-29-US-SJC-2_SamsungS20Ultra</td>\n",
       "      <td>0</td>\n",
       "      <td>37.334475</td>\n",
       "      <td>-121.899613</td>\n",
       "      <td>3.965023</td>\n",
       "      <td>0.003523</td>\n",
       "      <td>1.582827</td>\n",
       "      <td>1000.0</td>\n",
       "      <td>0.003523</td>\n",
       "      <td>1.582827</td>\n",
       "    </tr>\n",
       "  </tbody>\n",
       "</table>\n",
       "<p>131342 rows × 16 columns</p>\n",
       "</div>"
      ],
      "text/plain": [
       "             collectionName        phoneName  millisSinceGpsEpoch     latDeg  \\\n",
       "0       2020-05-14-US-MTV-1           Pixel4        1273529463442  37.423575   \n",
       "1       2020-05-14-US-MTV-1           Pixel4        1273529464442  37.423578   \n",
       "2       2020-05-14-US-MTV-1           Pixel4        1273529465442  37.423573   \n",
       "3       2020-05-14-US-MTV-1           Pixel4        1273529466442  37.423583   \n",
       "4       2020-05-14-US-MTV-1           Pixel4        1273529467442  37.423579   \n",
       "...                     ...              ...                  ...        ...   \n",
       "131337  2021-04-29-US-SJC-2  SamsungS20Ultra        1303760315000  37.334460   \n",
       "131338  2021-04-29-US-SJC-2  SamsungS20Ultra        1303760316000  37.334472   \n",
       "131339  2021-04-29-US-SJC-2  SamsungS20Ultra        1303760317000  37.334491   \n",
       "131340  2021-04-29-US-SJC-2  SamsungS20Ultra        1303760318000  37.334495   \n",
       "131341  2021-04-29-US-SJC-2  SamsungS20Ultra        1303760319000  37.334485   \n",
       "\n",
       "            lngDeg  heightAboveWgs84EllipsoidM  \\\n",
       "0      -122.094091                      -34.06   \n",
       "1      -122.094101                      -33.29   \n",
       "2      -122.094111                      -30.99   \n",
       "3      -122.094121                      -32.83   \n",
       "4      -122.094114                      -34.49   \n",
       "...            ...                         ...   \n",
       "131337 -121.899600                       -8.09   \n",
       "131338 -121.899583                       -7.59   \n",
       "131339 -121.899597                       -8.35   \n",
       "131340 -121.899583                       -8.73   \n",
       "131341 -121.899570                       -7.64   \n",
       "\n",
       "                                      phone  epoch_diff  target_latDeg  \\\n",
       "0                2020-05-14-US-MTV-1_Pixel4           0      37.423576   \n",
       "1                2020-05-14-US-MTV-1_Pixel4           0      37.423576   \n",
       "2                2020-05-14-US-MTV-1_Pixel4           0      37.423576   \n",
       "3                2020-05-14-US-MTV-1_Pixel4           0      37.423576   \n",
       "4                2020-05-14-US-MTV-1_Pixel4           0      37.423576   \n",
       "...                                     ...         ...            ...   \n",
       "131337  2021-04-29-US-SJC-2_SamsungS20Ultra           0      37.334475   \n",
       "131338  2021-04-29-US-SJC-2_SamsungS20Ultra           0      37.334475   \n",
       "131339  2021-04-29-US-SJC-2_SamsungS20Ultra           0      37.334475   \n",
       "131340  2021-04-29-US-SJC-2_SamsungS20Ultra           0      37.334475   \n",
       "131341  2021-04-29-US-SJC-2_SamsungS20Ultra           0      37.334475   \n",
       "\n",
       "        target_lngDeg  distance  target_delta     delta  time_delta  \\\n",
       "0         -122.094132  3.586842      0.000000  0.000000         0.0   \n",
       "1         -122.094132  2.745901      0.000154  0.888202      1000.0   \n",
       "2         -122.094132  1.888409      0.001194  1.001204      1000.0   \n",
       "3         -122.094132  1.213483      0.001275  1.370528      1000.0   \n",
       "4         -122.094132  1.650722      0.001109  0.741296      1000.0   \n",
       "...               ...       ...           ...       ...         ...   \n",
       "131337    -121.899613  2.052491      0.000556  0.941490      1000.0   \n",
       "131338    -121.899613  2.671673      0.000556  2.011345      1000.0   \n",
       "131339    -121.899613  2.287458      0.000236  2.447052      1000.0   \n",
       "131340    -121.899613  3.454306      0.004821  1.303535      1000.0   \n",
       "131341    -121.899613  3.965023      0.003523  1.582827      1000.0   \n",
       "\n",
       "        target_speed     speed  \n",
       "0                NaN       NaN  \n",
       "1           0.000154  0.888202  \n",
       "2           0.001194  1.001204  \n",
       "3           0.001275  1.370528  \n",
       "4           0.001109  0.741296  \n",
       "...              ...       ...  \n",
       "131337      0.000556  0.941490  \n",
       "131338      0.000556  2.011345  \n",
       "131339      0.000236  2.447052  \n",
       "131340      0.004821  1.303535  \n",
       "131341      0.003523  1.582827  \n",
       "\n",
       "[131342 rows x 16 columns]"
      ]
     },
     "execution_count": 83,
     "metadata": {},
     "output_type": "execute_result"
    }
   ],
   "source": [
    "dfs"
   ]
  },
  {
   "cell_type": "code",
   "execution_count": 55,
   "id": "f71b0f9d-b928-4649-8759-113cc0998e44",
   "metadata": {},
   "outputs": [
    {
     "data": {
      "text/plain": [
       "<AxesSubplot:>"
      ]
     },
     "execution_count": 55,
     "metadata": {},
     "output_type": "execute_result"
    },
    {
     "data": {
      "image/png": "[encoded data removed]",
      "text/plain": [
       "<Figure size 432x288 with 1 Axes>"
      ]
     },
     "metadata": {
      "needs_background": "light"
     },
     "output_type": "display_data"
    }
   ],
   "source": [
    "fig = plt.figure()\n",
    "ax = fig.add_subplot()\n",
    "dfs[\"target_delta\"].hist(bins=100, ax=ax)"
   ]
  },
  {
   "cell_type": "code",
   "execution_count": 56,
   "id": "e3bb426a-cf07-479a-85d2-ce4554d2118f",
   "metadata": {},
   "outputs": [
    {
     "data": {
      "text/plain": [
       "(0.0, 3.0)"
      ]
     },
     "execution_count": 56,
     "metadata": {},
     "output_type": "execute_result"
    },
    {
     "data": {
      "image/png": "[encoded data removed]",
      "text/plain": [
       "<Figure size 432x288 with 1 Axes>"
      ]
     },
     "metadata": {
      "needs_background": "light"
     },
     "output_type": "display_data"
    }
   ],
   "source": [
    "fig = plt.figure()\n",
    "ax = fig.add_subplot()\n",
    "dfs[\"delta\"].hist(bins=100, ax=ax)\n",
    "ax.set_xlim(400, 8000)\n",
    "ax.set_ylim(0, 3)"
   ]
  },
  {
   "cell_type": "code",
   "execution_count": 57,
   "id": "50dfcd45-a6fd-44eb-a70a-437e93aa89bd",
   "metadata": {},
   "outputs": [
    {
     "data": {
      "text/plain": [
       "<AxesSubplot:>"
      ]
     },
     "execution_count": 57,
     "metadata": {},
     "output_type": "execute_result"
    },
    {
     "data": {
      "image/png": "[encoded data removed]",
      "text/plain": [
       "<Figure size 432x288 with 1 Axes>"
      ]
     },
     "metadata": {
      "needs_background": "light"
     },
     "output_type": "display_data"
    }
   ],
   "source": [
    "fig = plt.figure()\n",
    "ax = fig.add_subplot()\n",
    "dfs[\"time_delta\"].hist(bins=10, ax=ax)"
   ]
  },
  {
   "cell_type": "code",
   "execution_count": 58,
   "id": "86e5d2d2-9172-4364-98bb-5e95ad4a390b",
   "metadata": {},
   "outputs": [
    {
     "data": {
      "text/plain": [
       "124980     2089.0\n",
       "89853      2657.0\n",
       "93180      2772.0\n",
       "60241      2781.0\n",
       "89805      2781.0\n",
       "5457       2792.0\n",
       "5362       2794.0\n",
       "32003      3000.0\n",
       "117762     3000.0\n",
       "41022      3000.0\n",
       "65575      3000.0\n",
       "52005      3000.0\n",
       "7716       4000.0\n",
       "119647     4000.0\n",
       "5265       7000.0\n",
       "5268       8000.0\n",
       "5273       9000.0\n",
       "67394     11000.0\n",
       "67555     11000.0\n",
       "67479     13000.0\n",
       "Name: time_delta, dtype: float64"
      ]
     },
     "execution_count": 58,
     "metadata": {},
     "output_type": "execute_result"
    }
   ],
   "source": [
    "dfs['time_delta'].sort_values().tail(20)"
   ]
  },
  {
   "cell_type": "code",
   "execution_count": 60,
   "id": "a123a0b9-b759-41d4-8f7a-5b5c600c089f",
   "metadata": {},
   "outputs": [
    {
     "data": {
      "text/plain": [
       "<AxesSubplot:>"
      ]
     },
     "execution_count": 60,
     "metadata": {},
     "output_type": "execute_result"
    },
    {
     "data": {
      "image/png": "[encoded data removed]",
      "text/plain": [
       "<Figure size 432x288 with 1 Axes>"
      ]
     },
     "metadata": {
      "needs_background": "light"
     },
     "output_type": "display_data"
    }
   ],
   "source": [
    "fig = plt.figure()\n",
    "ax = fig.add_subplot()\n",
    "dfs[\"target_speed\"].hist(ax=ax)"
   ]
  },
  {
   "cell_type": "code",
   "execution_count": 65,
   "id": "2b478907-9dc4-4207-a920-12c0b4a560a5",
   "metadata": {},
   "outputs": [
    {
     "data": {
      "text/plain": [
       "<AxesSubplot:>"
      ]
     },
     "execution_count": 65,
     "metadata": {},
     "output_type": "execute_result"
    },
    {
     "data": {
      "image/png": "[encoded data removed]",
      "text/plain": [
       "<Figure size 432x288 with 1 Axes>"
      ]
     },
     "metadata": {
      "needs_background": "light"
     },
     "output_type": "display_data"
    }
   ],
   "source": [
    "fig = plt.figure()\n",
    "ax = fig.add_subplot()\n",
    "dfs.loc[dfs[\"speed\"]<50, 'speed'].hist(ax=ax)"
   ]
  },
  {
   "cell_type": "code",
   "execution_count": 67,
   "id": "2c3d965f-a710-4b16-a889-abc61eea106d",
   "metadata": {},
   "outputs": [
    {
     "data": {
      "text/plain": [
       "Text(0, 0.5, 'count')"
      ]
     },
     "execution_count": 67,
     "metadata": {},
     "output_type": "execute_result"
    },
    {
     "data": {
      "image/png": "[encoded data removed]",
      "text/plain": [
       "<Figure size 432x288 with 1 Axes>"
      ]
     },
     "metadata": {
      "needs_background": "light"
     },
     "output_type": "display_data"
    }
   ],
   "source": [
    "\n",
    "fig = plt.figure()\n",
    "ax = fig.add_subplot()\n",
    "dfs.loc[50<dfs[\"speed\"], 'speed'].hist(ax=ax)\n",
    "ax.set_xlabel('speed(m/s)')\n",
    "ax.set_ylabel('count')"
   ]
  },
  {
   "cell_type": "code",
   "execution_count": 70,
   "id": "23f0563a-a04f-4991-80d8-c670b3c07882",
   "metadata": {},
   "outputs": [
    {
     "data": {
      "text/plain": [
       "<AxesSubplot:>"
      ]
     },
     "execution_count": 70,
     "metadata": {},
     "output_type": "execute_result"
    },
    {
     "data": {
      "image/png": "[encoded data removed]",
      "text/plain": [
       "<Figure size 432x288 with 1 Axes>"
      ]
     },
     "metadata": {
      "needs_background": "light"
     },
     "output_type": "display_data"
    }
   ],
   "source": [
    "dfs.loc[50<dfs[\"speed\"], 'time_delta'].hist()"
   ]
  },
  {
   "cell_type": "code",
   "execution_count": 72,
   "id": "2acb53de-48bc-4348-ba85-28606736c885",
   "metadata": {},
   "outputs": [
    {
     "data": {
      "text/plain": [
       "3.846848374995186"
      ]
     },
     "execution_count": 72,
     "metadata": {},
     "output_type": "execute_result"
    }
   ],
   "source": [
    "dfs['distance'].mean()"
   ]
  },
  {
   "cell_type": "code",
   "execution_count": 74,
   "id": "b5b8bbd4-49b0-4a0d-b8df-3651af7cf923",
   "metadata": {},
   "outputs": [
    {
     "data": {
      "text/plain": [
       "3.5608174124992553"
      ]
     },
     "execution_count": 74,
     "metadata": {},
     "output_type": "execute_result"
    }
   ],
   "source": [
    "dfs.loc[50>dfs['speed'],'distance'].mean()"
   ]
  },
  {
   "cell_type": "markdown",
   "id": "4a3438bd-913e-4aee-a8f7-7eff582fa722",
   "metadata": {},
   "source": [
    "## testはどうだろう？"
   ]
  },
  {
   "cell_type": "code",
   "execution_count": 85,
   "id": "efba2a2d-3315-4f62-9b4b-61962a075146",
   "metadata": {},
   "outputs": [],
   "source": [
    "dfs = pd.DataFrame()\n",
    "for (collectionName, phoneName), df in test_df.groupby(['collectionName','phoneName']):\n",
    "  \n",
    "    df['delta'] = calc_haversine(df['latDeg'], df['lngDeg'], df['latDeg'].shift(1), df['lngDeg'].shift(1))\n",
    "    df['time_delta'] = df['millisSinceGpsEpoch'] - df['millisSinceGpsEpoch'].shift(1)\n",
    "    df['delta'].fillna(0, inplace=True)\n",
    "    df['time_delta'].fillna(0, inplace=True)\n",
    "    df['speed'] = df['delta'] / (df['time_delta']/1000)  # m/s\n",
    "    df['speed'].fillna(0, inplace=True)\n",
    "    dfs = pd.concat([dfs, df]).reset_index(drop=True)"
   ]
  },
  {
   "cell_type": "code",
   "execution_count": 86,
   "id": "ae88e62a-ae06-4a8b-8d8d-a7f80df42d15",
   "metadata": {},
   "outputs": [
    {
     "data": {
      "text/html": [
       "<div>\n",
       "<style scoped>\n",
       "    .dataframe tbody tr th:only-of-type {\n",
       "        vertical-align: middle;\n",
       "    }\n",
       "\n",
       "    .dataframe tbody tr th {\n",
       "        vertical-align: top;\n",
       "    }\n",
       "\n",
       "    .dataframe thead th {\n",
       "        text-align: right;\n",
       "    }\n",
       "</style>\n",
       "<table border=\"1\" class=\"dataframe\">\n",
       "  <thead>\n",
       "    <tr style=\"text-align: right;\">\n",
       "      <th></th>\n",
       "      <th>collectionName</th>\n",
       "      <th>phoneName</th>\n",
       "      <th>millisSinceGpsEpoch</th>\n",
       "      <th>latDeg</th>\n",
       "      <th>lngDeg</th>\n",
       "      <th>heightAboveWgs84EllipsoidM</th>\n",
       "      <th>phone</th>\n",
       "      <th>delta</th>\n",
       "      <th>time_delta</th>\n",
       "      <th>speed</th>\n",
       "    </tr>\n",
       "  </thead>\n",
       "  <tbody>\n",
       "    <tr>\n",
       "      <th>0</th>\n",
       "      <td>2020-05-15-US-MTV-1</td>\n",
       "      <td>Pixel4</td>\n",
       "      <td>1273608785432</td>\n",
       "      <td>37.416628</td>\n",
       "      <td>-122.082053</td>\n",
       "      <td>-30.69</td>\n",
       "      <td>2020-05-15-US-MTV-1_Pixel4</td>\n",
       "      <td>0.000000</td>\n",
       "      <td>0.0</td>\n",
       "      <td>0.000000</td>\n",
       "    </tr>\n",
       "    <tr>\n",
       "      <th>1</th>\n",
       "      <td>2020-05-15-US-MTV-1</td>\n",
       "      <td>Pixel4</td>\n",
       "      <td>1273608786432</td>\n",
       "      <td>37.416646</td>\n",
       "      <td>-122.082040</td>\n",
       "      <td>-31.76</td>\n",
       "      <td>2020-05-15-US-MTV-1_Pixel4</td>\n",
       "      <td>2.314801</td>\n",
       "      <td>1000.0</td>\n",
       "      <td>2.314801</td>\n",
       "    </tr>\n",
       "    <tr>\n",
       "      <th>2</th>\n",
       "      <td>2020-05-15-US-MTV-1</td>\n",
       "      <td>Pixel4</td>\n",
       "      <td>1273608787432</td>\n",
       "      <td>37.416652</td>\n",
       "      <td>-122.082039</td>\n",
       "      <td>-31.65</td>\n",
       "      <td>2020-05-15-US-MTV-1_Pixel4</td>\n",
       "      <td>0.720397</td>\n",
       "      <td>1000.0</td>\n",
       "      <td>0.720397</td>\n",
       "    </tr>\n",
       "    <tr>\n",
       "      <th>3</th>\n",
       "      <td>2020-05-15-US-MTV-1</td>\n",
       "      <td>Pixel4</td>\n",
       "      <td>1273608788432</td>\n",
       "      <td>37.416607</td>\n",
       "      <td>-122.082063</td>\n",
       "      <td>-31.52</td>\n",
       "      <td>2020-05-15-US-MTV-1_Pixel4</td>\n",
       "      <td>5.475268</td>\n",
       "      <td>1000.0</td>\n",
       "      <td>5.475268</td>\n",
       "    </tr>\n",
       "    <tr>\n",
       "      <th>4</th>\n",
       "      <td>2020-05-15-US-MTV-1</td>\n",
       "      <td>Pixel4</td>\n",
       "      <td>1273608789432</td>\n",
       "      <td>37.416609</td>\n",
       "      <td>-122.082073</td>\n",
       "      <td>-28.95</td>\n",
       "      <td>2020-05-15-US-MTV-1_Pixel4</td>\n",
       "      <td>0.883032</td>\n",
       "      <td>1000.0</td>\n",
       "      <td>0.883032</td>\n",
       "    </tr>\n",
       "    <tr>\n",
       "      <th>...</th>\n",
       "      <td>...</td>\n",
       "      <td>...</td>\n",
       "      <td>...</td>\n",
       "      <td>...</td>\n",
       "      <td>...</td>\n",
       "      <td>...</td>\n",
       "      <td>...</td>\n",
       "      <td>...</td>\n",
       "      <td>...</td>\n",
       "      <td>...</td>\n",
       "    </tr>\n",
       "    <tr>\n",
       "      <th>91481</th>\n",
       "      <td>2021-04-29-US-SJC-3</td>\n",
       "      <td>SamsungS20Ultra</td>\n",
       "      <td>1303763185000</td>\n",
       "      <td>37.334539</td>\n",
       "      <td>-121.899383</td>\n",
       "      <td>-8.39</td>\n",
       "      <td>2021-04-29-US-SJC-3_SamsungS20Ultra</td>\n",
       "      <td>1.048893</td>\n",
       "      <td>1000.0</td>\n",
       "      <td>1.048893</td>\n",
       "    </tr>\n",
       "    <tr>\n",
       "      <th>91482</th>\n",
       "      <td>2021-04-29-US-SJC-3</td>\n",
       "      <td>SamsungS20Ultra</td>\n",
       "      <td>1303763186000</td>\n",
       "      <td>37.334545</td>\n",
       "      <td>-121.899380</td>\n",
       "      <td>-7.36</td>\n",
       "      <td>2021-04-29-US-SJC-3_SamsungS20Ultra</td>\n",
       "      <td>0.758992</td>\n",
       "      <td>1000.0</td>\n",
       "      <td>0.758992</td>\n",
       "    </tr>\n",
       "    <tr>\n",
       "      <th>91483</th>\n",
       "      <td>2021-04-29-US-SJC-3</td>\n",
       "      <td>SamsungS20Ultra</td>\n",
       "      <td>1303763187000</td>\n",
       "      <td>37.334551</td>\n",
       "      <td>-121.899371</td>\n",
       "      <td>-4.08</td>\n",
       "      <td>2021-04-29-US-SJC-3_SamsungS20Ultra</td>\n",
       "      <td>1.053741</td>\n",
       "      <td>1000.0</td>\n",
       "      <td>1.053741</td>\n",
       "    </tr>\n",
       "    <tr>\n",
       "      <th>91484</th>\n",
       "      <td>2021-04-29-US-SJC-3</td>\n",
       "      <td>SamsungS20Ultra</td>\n",
       "      <td>1303763188000</td>\n",
       "      <td>37.334540</td>\n",
       "      <td>-121.899371</td>\n",
       "      <td>-5.70</td>\n",
       "      <td>2021-04-29-US-SJC-3_SamsungS20Ultra</td>\n",
       "      <td>1.233520</td>\n",
       "      <td>1000.0</td>\n",
       "      <td>1.233520</td>\n",
       "    </tr>\n",
       "    <tr>\n",
       "      <th>91485</th>\n",
       "      <td>2021-04-29-US-SJC-3</td>\n",
       "      <td>SamsungS20Ultra</td>\n",
       "      <td>1303763189000</td>\n",
       "      <td>37.334562</td>\n",
       "      <td>-121.899354</td>\n",
       "      <td>-0.90</td>\n",
       "      <td>2021-04-29-US-SJC-3_SamsungS20Ultra</td>\n",
       "      <td>2.840957</td>\n",
       "      <td>1000.0</td>\n",
       "      <td>2.840957</td>\n",
       "    </tr>\n",
       "  </tbody>\n",
       "</table>\n",
       "<p>91486 rows × 10 columns</p>\n",
       "</div>"
      ],
      "text/plain": [
       "            collectionName        phoneName  millisSinceGpsEpoch     latDeg  \\\n",
       "0      2020-05-15-US-MTV-1           Pixel4        1273608785432  37.416628   \n",
       "1      2020-05-15-US-MTV-1           Pixel4        1273608786432  37.416646   \n",
       "2      2020-05-15-US-MTV-1           Pixel4        1273608787432  37.416652   \n",
       "3      2020-05-15-US-MTV-1           Pixel4        1273608788432  37.416607   \n",
       "4      2020-05-15-US-MTV-1           Pixel4        1273608789432  37.416609   \n",
       "...                    ...              ...                  ...        ...   \n",
       "91481  2021-04-29-US-SJC-3  SamsungS20Ultra        1303763185000  37.334539   \n",
       "91482  2021-04-29-US-SJC-3  SamsungS20Ultra        1303763186000  37.334545   \n",
       "91483  2021-04-29-US-SJC-3  SamsungS20Ultra        1303763187000  37.334551   \n",
       "91484  2021-04-29-US-SJC-3  SamsungS20Ultra        1303763188000  37.334540   \n",
       "91485  2021-04-29-US-SJC-3  SamsungS20Ultra        1303763189000  37.334562   \n",
       "\n",
       "           lngDeg  heightAboveWgs84EllipsoidM  \\\n",
       "0     -122.082053                      -30.69   \n",
       "1     -122.082040                      -31.76   \n",
       "2     -122.082039                      -31.65   \n",
       "3     -122.082063                      -31.52   \n",
       "4     -122.082073                      -28.95   \n",
       "...           ...                         ...   \n",
       "91481 -121.899383                       -8.39   \n",
       "91482 -121.899380                       -7.36   \n",
       "91483 -121.899371                       -4.08   \n",
       "91484 -121.899371                       -5.70   \n",
       "91485 -121.899354                       -0.90   \n",
       "\n",
       "                                     phone     delta  time_delta     speed  \n",
       "0               2020-05-15-US-MTV-1_Pixel4  0.000000         0.0  0.000000  \n",
       "1               2020-05-15-US-MTV-1_Pixel4  2.314801      1000.0  2.314801  \n",
       "2               2020-05-15-US-MTV-1_Pixel4  0.720397      1000.0  0.720397  \n",
       "3               2020-05-15-US-MTV-1_Pixel4  5.475268      1000.0  5.475268  \n",
       "4               2020-05-15-US-MTV-1_Pixel4  0.883032      1000.0  0.883032  \n",
       "...                                    ...       ...         ...       ...  \n",
       "91481  2021-04-29-US-SJC-3_SamsungS20Ultra  1.048893      1000.0  1.048893  \n",
       "91482  2021-04-29-US-SJC-3_SamsungS20Ultra  0.758992      1000.0  0.758992  \n",
       "91483  2021-04-29-US-SJC-3_SamsungS20Ultra  1.053741      1000.0  1.053741  \n",
       "91484  2021-04-29-US-SJC-3_SamsungS20Ultra  1.233520      1000.0  1.233520  \n",
       "91485  2021-04-29-US-SJC-3_SamsungS20Ultra  2.840957      1000.0  2.840957  \n",
       "\n",
       "[91486 rows x 10 columns]"
      ]
     },
     "execution_count": 86,
     "metadata": {},
     "output_type": "execute_result"
    }
   ],
   "source": [
    "dfs"
   ]
  },
  {
   "cell_type": "code",
   "execution_count": 81,
   "id": "fbf1781c-640b-4db7-939f-0ff2f39a15d7",
   "metadata": {},
   "outputs": [
    {
     "data": {
      "text/plain": [
       "<AxesSubplot:>"
      ]
     },
     "execution_count": 81,
     "metadata": {},
     "output_type": "execute_result"
    },
    {
     "data": {
      "image/png": "[encoded data removed]",
      "text/plain": [
       "<Figure size 432x288 with 1 Axes>"
      ]
     },
     "metadata": {
      "needs_background": "light"
     },
     "output_type": "display_data"
    }
   ],
   "source": [
    "dfs['time_delta'].hist()"
   ]
  },
  {
   "cell_type": "code",
   "execution_count": 88,
   "id": "3afa1e51-41cc-4acf-8e70-04a69c436d0e",
   "metadata": {},
   "outputs": [
    {
     "data": {
      "text/plain": [
       "<AxesSubplot:>"
      ]
     },
     "execution_count": 88,
     "metadata": {},
     "output_type": "execute_result"
    },
    {
     "data": {
      "image/png": "[encoded data removed]",
      "text/plain": [
       "<Figure size 432x288 with 1 Axes>"
      ]
     },
     "metadata": {
      "needs_background": "light"
     },
     "output_type": "display_data"
    }
   ],
   "source": [
    "fig = plt.figure()\n",
    "ax = fig.add_subplot()\n",
    "dfs[\"delta\"].hist(bins=100, ax=ax)\n",
    "# ax.set_xlim(400, 8000)\n",
    "# ax.set_ylim(0, 3)"
   ]
  },
  {
   "cell_type": "code",
   "execution_count": 89,
   "id": "0ab84b1f-3d61-4db3-9dca-21ffd6c7db96",
   "metadata": {},
   "outputs": [
    {
     "data": {
      "text/plain": [
       "Text(0, 0.5, 'count')"
      ]
     },
     "execution_count": 89,
     "metadata": {},
     "output_type": "execute_result"
    },
    {
     "data": {
      "image/png": "[encoded data removed]",
      "text/plain": [
       "<Figure size 432x288 with 1 Axes>"
      ]
     },
     "metadata": {
      "needs_background": "light"
     },
     "output_type": "display_data"
    }
   ],
   "source": [
    "\n",
    "fig = plt.figure()\n",
    "ax = fig.add_subplot()\n",
    "dfs.loc[50<dfs[\"speed\"], 'speed'].hist(ax=ax)\n",
    "ax.set_xlabel('speed(m/s)')\n",
    "ax.set_ylabel('count')"
   ]
  },
  {
   "cell_type": "code",
   "execution_count": 90,
   "id": "e966d963-9031-4a2d-b10f-5d5741c3d112",
   "metadata": {},
   "outputs": [
    {
     "data": {
      "text/plain": [
       "Text(0, 0.5, 'count')"
      ]
     },
     "execution_count": 90,
     "metadata": {},
     "output_type": "execute_result"
    },
    {
     "data": {
      "image/png": "[encoded data removed]",
      "text/plain": [
       "<Figure size 432x288 with 1 Axes>"
      ]
     },
     "metadata": {
      "needs_background": "light"
     },
     "output_type": "display_data"
    }
   ],
   "source": [
    "\n",
    "fig = plt.figure()\n",
    "ax = fig.add_subplot()\n",
    "dfs[\"speed\"].hist(ax=ax)\n",
    "ax.set_xlabel('speed(m/s)')\n",
    "ax.set_ylabel('count')"
   ]
  },
  {
   "cell_type": "markdown",
   "id": "7a87e267-c5a4-4771-a62c-8d95661132f2",
   "metadata": {},
   "source": [
    "speedはtrainもtestも50m/s以上のものが存在してた。これは異常なのでこれを線形補間する。"
   ]
  },
  {
   "cell_type": "code",
   "execution_count": 102,
   "id": "014c07b5-d8cc-470a-86c6-af87d97d9d01",
   "metadata": {},
   "outputs": [],
   "source": [
    "dfs = pd.DataFrame()\n",
    "for (collectionName, phoneName), df in train_df.groupby(['collectionName','phoneName']):\n",
    "  \n",
    "    df['delta'] = calc_haversine(df['latDeg'], df['lngDeg'], df['latDeg'].shift(1), df['lngDeg'].shift(1))\n",
    "    df['time_delta'] = df['millisSinceGpsEpoch'] - df['millisSinceGpsEpoch'].shift(1)\n",
    "    df['delta'].fillna(0, inplace=True)\n",
    "    df['time_delta'].fillna(0, inplace=True)\n",
    "    df['speed'] = df['delta'] / (df['time_delta']/1000)  # m/s\n",
    "    df['speed'].fillna(0, inplace=True)\n",
    "    \n",
    "    # 一度欠損値にする\n",
    "    df.loc[50<df['speed'], ['latDeg', 'lngDeg']] = np.nan\n",
    "    df['dummy_datetime'] = pd.to_datetime(df['millisSinceGpsEpoch'])\n",
    "    df = df.set_index('dummy_datetime')\n",
    "    \n",
    "    # 時間に合わせて線形補間\n",
    "    df = df.interpolate(method='time').reset_index(drop=True)\n",
    "    dfs = pd.concat([dfs, df]).reset_index(drop=True)"
   ]
  },
  {
   "cell_type": "code",
   "execution_count": 103,
   "id": "223412b3-ecc9-4416-bea5-9539c9760615",
   "metadata": {},
   "outputs": [
    {
     "name": "stdout",
     "output_type": "stream",
     "text": [
      "<class 'pandas.core.frame.DataFrame'>\n",
      "RangeIndex: 131342 entries, 0 to 131341\n",
      "Data columns (total 14 columns):\n",
      " #   Column                      Non-Null Count   Dtype  \n",
      "---  ------                      --------------   -----  \n",
      " 0   collectionName              131342 non-null  object \n",
      " 1   phoneName                   131342 non-null  object \n",
      " 2   millisSinceGpsEpoch         131342 non-null  int64  \n",
      " 3   latDeg                      131342 non-null  float64\n",
      " 4   lngDeg                      131342 non-null  float64\n",
      " 5   heightAboveWgs84EllipsoidM  131342 non-null  float64\n",
      " 6   phone                       131342 non-null  object \n",
      " 7   epoch_diff                  131342 non-null  int64  \n",
      " 8   target_latDeg               131342 non-null  float64\n",
      " 9   target_lngDeg               131342 non-null  float64\n",
      " 10  distance                    131342 non-null  float64\n",
      " 11  delta                       131342 non-null  float64\n",
      " 12  time_delta                  131342 non-null  float64\n",
      " 13  speed                       131342 non-null  float64\n",
      "dtypes: float64(9), int64(2), object(3)\n",
      "memory usage: 14.0+ MB\n"
     ]
    }
   ],
   "source": [
    "dfs.info()"
   ]
  },
  {
   "cell_type": "code",
   "execution_count": 105,
   "id": "e84692e9-155d-40ed-ae69-245eb12ce2cf",
   "metadata": {},
   "outputs": [
    {
     "data": {
      "text/plain": [
       "3.6084284244593343"
      ]
     },
     "execution_count": 105,
     "metadata": {},
     "output_type": "execute_result"
    }
   ],
   "source": [
    "dfs['distance'] = calc_haversine(dfs['latDeg'],dfs['lngDeg'],dfs['target_latDeg'], dfs['target_lngDeg'])\n",
    "dfs['distance'].mean()"
   ]
  },
  {
   "cell_type": "code",
   "execution_count": null,
   "id": "2e03695e-0dcb-4b45-8d48-691df46de941",
   "metadata": {},
   "outputs": [],
   "source": [
    "\n",
    "dfs = pd.DataFrame()\n",
    "for (collectionName, phoneName), df in test_df.groupby(['collectionName','phoneName']):\n",
    "  \n",
    "    df['delta'] = calc_haversine(df['latDeg'], df['lngDeg'], df['latDeg'].shift(1), df['lngDeg'].shift(1))\n",
    "    df['time_delta'] = df['millisSinceGpsEpoch'] - df['millisSinceGpsEpoch'].shift(1)\n",
    "    df['delta'].fillna(0, inplace=True)\n",
    "    df['time_delta'].fillna(0, inplace=True)\n",
    "    df['speed'] = df['delta'] / (df['time_delta']/1000)  # m/s\n",
    "    df['speed'].fillna(0, inplace=True)\n",
    "    \n",
    "    # 一度欠損値にする\n",
    "    df.loc[50<df['speed'], ['latDeg', 'lngDeg']] = np.nan\n",
    "    df['dummy_datetime'] = pd.to_datetime(df['millisSinceGpsEpoch'])\n",
    "    df = df.set_index('dummy_datetime')\n",
    "    \n",
    "    # 時間に合わせて線形補間\n",
    "    df = df.interpolate(method='time').reset_index(drop=True)\n",
    "    dfs = pd.concat([dfs, df]).reset_index(drop=True)"
   ]
  }
 ],
 "metadata": {
  "kernelspec": {
   "display_name": "Python 3",
   "language": "python",
   "name": "python3"
  },
  "language_info": {
   "codemirror_mode": {
    "name": "ipython",
    "version": 3
   },
   "file_extension": ".py",
   "mimetype": "text/x-python",
   "name": "python",
   "nbconvert_exporter": "python",
   "pygments_lexer": "ipython3",
   "version": "3.8.5"
  }
 },
 "nbformat": 4,
 "nbformat_minor": 5
}
