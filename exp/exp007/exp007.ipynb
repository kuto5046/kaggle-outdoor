{
 "cells": [
  {
   "cell_type": "code",
   "execution_count": null,
   "metadata": {},
   "outputs": [],
   "source": []
  },
  {
   "cell_type": "code",
   "execution_count": 1,
   "metadata": {},
   "outputs": [],
   "source": [
    "import os\n",
    "import sys\n",
    "import glob\n",
    "import yaml\n",
    "import pickle\n",
    "import random\n",
    "\n",
    "import numpy as np\n",
    "import pandas as pd\n",
    "import scipy.stats as stats\n",
    "from pathlib import Path\n",
    "import matplotlib.pyplot as plt\n",
    "from sklearn import model_selection\n",
    "from sklearn.preprocessing import StandardScaler, LabelEncoder\n",
    "\n",
    "import json\n",
    "from PIL import Image\n",
    "import wandb\n",
    "import torch\n",
    "from torch import nn\n",
    "import torch.nn.functional as F\n",
    "from torch.utils.data import Dataset, DataLoader\n",
    "import torch.optim as optim\n",
    "\n",
    "import pytorch_lightning as pl\n",
    "from pytorch_lightning.loggers import WandbLogger\n",
    "from pytorch_lightning.callbacks import ModelCheckpoint\n",
    "from pytorch_lightning.callbacks import EarlyStopping\n",
    "from pytorch_lightning.utilities.seed import seed_everything"
   ]
  },
  {
   "cell_type": "code",
   "execution_count": 2,
   "metadata": {},
   "outputs": [
    {
     "name": "stderr",
     "output_type": "stream",
     "text": [
      "Global seed set to 1996\n"
     ]
    },
    {
     "data": {
      "text/plain": [
       "1996"
      ]
     },
     "execution_count": 2,
     "metadata": {},
     "output_type": "execute_result"
    }
   ],
   "source": [
    "# config\n",
    "with open('config.yaml') as f:\n",
    "    config = yaml.safe_load(f)\n",
    "\n",
    "# globals variable\n",
    "SEED = config['globals']['seed']\n",
    "MAX_EPOCHS = config['globals']['max_epochs']\n",
    "N_SPLITS = config['globals']['n_splits']\n",
    "USE_FOLDS = config['globals']['use_folds']\n",
    "DEBUG = config['globals']['debug']\n",
    "EXP_MESSAGE = config['globals']['exp_message']\n",
    "NOTES = config['globals']['notes']\n",
    "MODEL_SAVE = config['globals']['model_save']\n",
    "ONLY_PRED = config['globals']['only_pred']\n",
    "PRETRAINED = config['globals']['pretrained']\n",
    "PRETRAINED_PATH = config['globals']['pretrained_path']\n",
    "EXP_NAME = str(Path().resolve()).split('/')[-1]\n",
    "\n",
    "# seed\n",
    "seed_everything(SEED)"
   ]
  },
  {
   "cell_type": "code",
   "execution_count": 3,
   "metadata": {},
   "outputs": [
    {
     "data": {
      "text/plain": [
       "'exp007'"
      ]
     },
     "execution_count": 3,
     "metadata": {},
     "output_type": "execute_result"
    }
   ],
   "source": [
    "EXP_NAME"
   ]
  },
  {
   "cell_type": "code",
   "execution_count": 4,
   "metadata": {},
   "outputs": [
    {
     "name": "stdout",
     "output_type": "stream",
     "text": [
      "\u001b[34m\u001b[1mwandb\u001b[0m: Appending key for api.wandb.ai to your netrc file: /home/user/.netrc\n"
     ]
    }
   ],
   "source": [
    "!wandb login 1bb2d0449c11d8b987e25c38b9d8dda176310fb6"
   ]
  },
  {
   "cell_type": "code",
   "execution_count": 5,
   "metadata": {},
   "outputs": [],
   "source": [
    "# waypointを補正したdataset\n",
    "root_dir = Path('../../input/')\n",
    "train_df = pd.read_csv(root_dir / \"baseline_locations_train.csv\")\n",
    "test_df = pd.read_csv(root_dir / \"baseline_locations_test.csv\")\n",
    "sub_df = pd.read_csv(root_dir / 'sample_submission.csv', index_col=0)\n"
   ]
  },
  {
   "cell_type": "code",
   "execution_count": 6,
   "metadata": {},
   "outputs": [],
   "source": [
    "train_df = train_df[~train_df['collectionName'].isin([\n",
    "    '2020-08-03-US-MTV-1',\n",
    "    '2020-08-06-US-MTV-2',\n",
    "    '2020-07-17-US-MTV-1',\n",
    "    '2020-07-17-US-MTV-2'])].reset_index(drop=True)"
   ]
  },
  {
   "cell_type": "code",
   "execution_count": 7,
   "metadata": {},
   "outputs": [
    {
     "data": {
      "text/plain": [
       "((118238, 7), (91486, 7))"
      ]
     },
     "execution_count": 7,
     "metadata": {},
     "output_type": "execute_result"
    }
   ],
   "source": [
    "train_df.shape, test_df.shape"
   ]
  },
  {
   "cell_type": "code",
   "execution_count": 8,
   "metadata": {},
   "outputs": [],
   "source": [
    "import glob\n",
    "import os\n",
    "from tqdm.notebook import tqdm\n",
    "\n",
    "\n",
    "def get_ground_truth(args):\n",
    "    (collectionName, phoneName), df = args\n",
    "    \n",
    "    path = root_dir / f\"train/{collectionName}/{phoneName}/ground_truth.csv\"\n",
    "    target_df = pd.read_csv(path)\n",
    "    output_df = pd.DataFrame()\n",
    "    # merge derived and target by 'millisSinceGpsEpoch'\n",
    "    for epoch, epoch_df in df.groupby('millisSinceGpsEpoch'):\n",
    "        idx = (target_df['millisSinceGpsEpoch'] - epoch).abs().argmin()\n",
    "        epoch_diff = epoch - target_df.loc[idx, 'millisSinceGpsEpoch']\n",
    "        epoch_df['epoch_diff'] = epoch_diff\n",
    "        epoch_df['target_latDeg'] = target_df.loc[idx, 'latDeg']\n",
    "        epoch_df['target_lngDeg'] = target_df.loc[idx, 'lngDeg']\n",
    "        output_df = pd.concat([output_df, epoch_df]).reset_index(drop=True)    \n",
    "    return output_df"
   ]
  },
  {
   "cell_type": "code",
   "execution_count": 9,
   "metadata": {},
   "outputs": [],
   "source": [
    "# metric\n",
    "def calc_haversine(lat1, lon1, lat2, lon2):\n",
    "    \"\"\"Calculates the great circle distance between two points\n",
    "    on the earth. Inputs are array-like and specified in decimal degrees.\n",
    "    \"\"\"\n",
    "    RADIUS = 6_367_000\n",
    "    lat1, lon1, lat2, lon2 = map(np.radians, [lat1, lon1, lat2, lon2])\n",
    "    dlat = lat2 - lat1\n",
    "    dlon = lon2 - lon1\n",
    "    a = np.sin(dlat/2)**2 + np.cos(lat1) * np.cos(lat2) * np.sin(dlon/2)**2\n",
    "    dist = 2 * RADIUS * np.arcsin(a**0.5)\n",
    "    \n",
    "    angle = np.degrees(np.arctan2(dlat, dlon))  # radian -> degree\n",
    "    return dist, angle"
   ]
  },
  {
   "cell_type": "code",
   "execution_count": 10,
   "metadata": {},
   "outputs": [
    {
     "data": {
      "application/vnd.jupyter.widget-view+json": {
       "model_id": "a281ac04e3cb4efabe84edd671b32b8d",
       "version_major": 2,
       "version_minor": 0
      },
      "text/plain": [
       "  0%|          | 0/66 [00:00<?, ?it/s]"
      ]
     },
     "metadata": {},
     "output_type": "display_data"
    }
   ],
   "source": [
    "import multiprocessing\n",
    "\n",
    "processes = multiprocessing.cpu_count()\n",
    "with multiprocessing.Pool(processes=processes) as pool:\n",
    "    gr = train_df.groupby(['collectionName','phoneName'])\n",
    "    dfs = pool.imap_unordered(get_ground_truth, gr)\n",
    "    dfs = tqdm(dfs, total=len(gr))\n",
    "    dfs = list(dfs)\n",
    "train_df = pd.concat(dfs).sort_values(['collectionName', 'phoneName', 'millisSinceGpsEpoch'])"
   ]
  },
  {
   "cell_type": "code",
   "execution_count": 11,
   "metadata": {},
   "outputs": [],
   "source": [
    "def get_target_delta(input_df):\n",
    "    output_df = pd.DataFrame()\n",
    "    for (collection_name, phone_name), df in tqdm(input_df.groupby(['collectionName', 'phoneName'])):\n",
    "        df['delta_latDeg'] = df['target_latDeg'] - df['target_latDeg'].shift(1).fillna(0)\n",
    "        df['delta_lngDeg'] = df['target_lngDeg'] - df['target_lngDeg'].shift(1).fillna(0)\n",
    "        distance, angle = calc_haversine(df['target_latDeg'].to_numpy(), df['target_lngDeg'].to_numpy(),\n",
    "                                         df['target_latDeg'].shift(1).fillna(0).to_numpy(), df['target_lngDeg'].shift(1).fillna(0).to_numpy())\n",
    "        df['delta_distance'] = distance\n",
    "        df['delta_angle'] = angle\n",
    "        output_df = pd.concat([output_df, df])\n",
    "    return output_df.reset_index(drop=True)"
   ]
  },
  {
   "cell_type": "code",
   "execution_count": 12,
   "metadata": {},
   "outputs": [
    {
     "data": {
      "application/vnd.jupyter.widget-view+json": {
       "model_id": "101c220caa1843f6b452e57359a06b06",
       "version_major": 2,
       "version_minor": 0
      },
      "text/plain": [
       "  0%|          | 0/66 [00:00<?, ?it/s]"
      ]
     },
     "metadata": {},
     "output_type": "display_data"
    }
   ],
   "source": [
    "train_df = get_target_delta(train_df)"
   ]
  },
  {
   "cell_type": "code",
   "execution_count": 13,
   "metadata": {},
   "outputs": [
    {
     "data": {
      "text/html": [
       "<div>\n",
       "<style scoped>\n",
       "    .dataframe tbody tr th:only-of-type {\n",
       "        vertical-align: middle;\n",
       "    }\n",
       "\n",
       "    .dataframe tbody tr th {\n",
       "        vertical-align: top;\n",
       "    }\n",
       "\n",
       "    .dataframe thead th {\n",
       "        text-align: right;\n",
       "    }\n",
       "</style>\n",
       "<table border=\"1\" class=\"dataframe\">\n",
       "  <thead>\n",
       "    <tr style=\"text-align: right;\">\n",
       "      <th></th>\n",
       "      <th>collectionName</th>\n",
       "      <th>phoneName</th>\n",
       "      <th>millisSinceGpsEpoch</th>\n",
       "      <th>delta_latDeg</th>\n",
       "      <th>delta_lngDeg</th>\n",
       "      <th>delta_distance</th>\n",
       "      <th>delta_angle</th>\n",
       "    </tr>\n",
       "  </thead>\n",
       "  <tbody>\n",
       "    <tr>\n",
       "      <th>0</th>\n",
       "      <td>2020-05-14-US-MTV-1</td>\n",
       "      <td>Pixel4</td>\n",
       "      <td>1273529463442</td>\n",
       "      <td>3.742358e+01</td>\n",
       "      <td>-1.220941e+02</td>\n",
       "      <td>1.277469e+07</td>\n",
       "      <td>-17.041042</td>\n",
       "    </tr>\n",
       "    <tr>\n",
       "      <th>1</th>\n",
       "      <td>2020-05-14-US-MTV-1</td>\n",
       "      <td>Pixel4</td>\n",
       "      <td>1273529464442</td>\n",
       "      <td>2.999982e-10</td>\n",
       "      <td>-1.700002e-09</td>\n",
       "      <td>1.536866e-04</td>\n",
       "      <td>-10.008102</td>\n",
       "    </tr>\n",
       "    <tr>\n",
       "      <th>2</th>\n",
       "      <td>2020-05-14-US-MTV-1</td>\n",
       "      <td>Pixel4</td>\n",
       "      <td>1273529465442</td>\n",
       "      <td>1.040000e-08</td>\n",
       "      <td>3.400004e-09</td>\n",
       "      <td>1.194018e-03</td>\n",
       "      <td>-108.103827</td>\n",
       "    </tr>\n",
       "    <tr>\n",
       "      <th>3</th>\n",
       "      <td>2020-05-14-US-MTV-1</td>\n",
       "      <td>Pixel4</td>\n",
       "      <td>1273529466442</td>\n",
       "      <td>1.140000e-08</td>\n",
       "      <td>1.600000e-09</td>\n",
       "      <td>1.274670e-03</td>\n",
       "      <td>-97.989318</td>\n",
       "    </tr>\n",
       "    <tr>\n",
       "      <th>4</th>\n",
       "      <td>2020-05-14-US-MTV-1</td>\n",
       "      <td>Pixel4</td>\n",
       "      <td>1273529467442</td>\n",
       "      <td>9.900006e-09</td>\n",
       "      <td>-1.600000e-09</td>\n",
       "      <td>1.109164e-03</td>\n",
       "      <td>-80.819484</td>\n",
       "    </tr>\n",
       "    <tr>\n",
       "      <th>...</th>\n",
       "      <td>...</td>\n",
       "      <td>...</td>\n",
       "      <td>...</td>\n",
       "      <td>...</td>\n",
       "      <td>...</td>\n",
       "      <td>...</td>\n",
       "      <td>...</td>\n",
       "    </tr>\n",
       "    <tr>\n",
       "      <th>118233</th>\n",
       "      <td>2021-04-29-US-SJC-2</td>\n",
       "      <td>SamsungS20Ultra</td>\n",
       "      <td>1303760315000</td>\n",
       "      <td>5.000004e-09</td>\n",
       "      <td>0.000000e+00</td>\n",
       "      <td>5.556260e-04</td>\n",
       "      <td>-90.000000</td>\n",
       "    </tr>\n",
       "    <tr>\n",
       "      <th>118234</th>\n",
       "      <td>2021-04-29-US-SJC-2</td>\n",
       "      <td>SamsungS20Ultra</td>\n",
       "      <td>1303760316000</td>\n",
       "      <td>4.999997e-09</td>\n",
       "      <td>0.000000e+00</td>\n",
       "      <td>5.556253e-04</td>\n",
       "      <td>-90.000000</td>\n",
       "    </tr>\n",
       "    <tr>\n",
       "      <th>118235</th>\n",
       "      <td>2021-04-29-US-SJC-2</td>\n",
       "      <td>SamsungS20Ultra</td>\n",
       "      <td>1303760317000</td>\n",
       "      <td>1.700002e-09</td>\n",
       "      <td>-1.600000e-09</td>\n",
       "      <td>2.359524e-04</td>\n",
       "      <td>-46.735758</td>\n",
       "    </tr>\n",
       "    <tr>\n",
       "      <th>118236</th>\n",
       "      <td>2021-04-29-US-SJC-2</td>\n",
       "      <td>SamsungS20Ultra</td>\n",
       "      <td>1303760318000</td>\n",
       "      <td>-4.330000e-08</td>\n",
       "      <td>3.300002e-09</td>\n",
       "      <td>4.820543e-03</td>\n",
       "      <td>94.358216</td>\n",
       "    </tr>\n",
       "    <tr>\n",
       "      <th>118237</th>\n",
       "      <td>2021-04-29-US-SJC-2</td>\n",
       "      <td>SamsungS20Ultra</td>\n",
       "      <td>1303760319000</td>\n",
       "      <td>-3.170000e-08</td>\n",
       "      <td>0.000000e+00</td>\n",
       "      <td>3.522667e-03</td>\n",
       "      <td>90.000000</td>\n",
       "    </tr>\n",
       "  </tbody>\n",
       "</table>\n",
       "<p>118238 rows × 7 columns</p>\n",
       "</div>"
      ],
      "text/plain": [
       "             collectionName        phoneName  millisSinceGpsEpoch  \\\n",
       "0       2020-05-14-US-MTV-1           Pixel4        1273529463442   \n",
       "1       2020-05-14-US-MTV-1           Pixel4        1273529464442   \n",
       "2       2020-05-14-US-MTV-1           Pixel4        1273529465442   \n",
       "3       2020-05-14-US-MTV-1           Pixel4        1273529466442   \n",
       "4       2020-05-14-US-MTV-1           Pixel4        1273529467442   \n",
       "...                     ...              ...                  ...   \n",
       "118233  2021-04-29-US-SJC-2  SamsungS20Ultra        1303760315000   \n",
       "118234  2021-04-29-US-SJC-2  SamsungS20Ultra        1303760316000   \n",
       "118235  2021-04-29-US-SJC-2  SamsungS20Ultra        1303760317000   \n",
       "118236  2021-04-29-US-SJC-2  SamsungS20Ultra        1303760318000   \n",
       "118237  2021-04-29-US-SJC-2  SamsungS20Ultra        1303760319000   \n",
       "\n",
       "        delta_latDeg  delta_lngDeg  delta_distance  delta_angle  \n",
       "0       3.742358e+01 -1.220941e+02    1.277469e+07   -17.041042  \n",
       "1       2.999982e-10 -1.700002e-09    1.536866e-04   -10.008102  \n",
       "2       1.040000e-08  3.400004e-09    1.194018e-03  -108.103827  \n",
       "3       1.140000e-08  1.600000e-09    1.274670e-03   -97.989318  \n",
       "4       9.900006e-09 -1.600000e-09    1.109164e-03   -80.819484  \n",
       "...              ...           ...             ...          ...  \n",
       "118233  5.000004e-09  0.000000e+00    5.556260e-04   -90.000000  \n",
       "118234  4.999997e-09  0.000000e+00    5.556253e-04   -90.000000  \n",
       "118235  1.700002e-09 -1.600000e-09    2.359524e-04   -46.735758  \n",
       "118236 -4.330000e-08  3.300002e-09    4.820543e-03    94.358216  \n",
       "118237 -3.170000e-08  0.000000e+00    3.522667e-03    90.000000  \n",
       "\n",
       "[118238 rows x 7 columns]"
      ]
     },
     "execution_count": 13,
     "metadata": {},
     "output_type": "execute_result"
    }
   ],
   "source": [
    "train_df = train_df[['collectionName', 'phoneName', 'millisSinceGpsEpoch', 'delta_latDeg', 'delta_lngDeg', 'delta_distance', 'delta_angle']]\n",
    "train_df"
   ]
  },
  {
   "cell_type": "code",
   "execution_count": 14,
   "metadata": {},
   "outputs": [
    {
     "data": {
      "text/plain": [
       "<AxesSubplot:>"
      ]
     },
     "execution_count": 14,
     "metadata": {},
     "output_type": "execute_result"
    },
    {
     "data": {
      "image/png": "[encoded data removed]",
      "text/plain": [
       "<Figure size 432x288 with 1 Axes>"
      ]
     },
     "metadata": {
      "needs_background": "light"
     },
     "output_type": "display_data"
    }
   ],
   "source": [
    "train_df['delta_angle'].hist()"
   ]
  },
  {
   "cell_type": "code",
   "execution_count": 15,
   "metadata": {},
   "outputs": [
    {
     "data": {
      "text/html": [
       "<div>\n",
       "<style scoped>\n",
       "    .dataframe tbody tr th:only-of-type {\n",
       "        vertical-align: middle;\n",
       "    }\n",
       "\n",
       "    .dataframe tbody tr th {\n",
       "        vertical-align: top;\n",
       "    }\n",
       "\n",
       "    .dataframe thead th {\n",
       "        text-align: right;\n",
       "    }\n",
       "</style>\n",
       "<table border=\"1\" class=\"dataframe\">\n",
       "  <thead>\n",
       "    <tr style=\"text-align: right;\">\n",
       "      <th></th>\n",
       "      <th>collectionName</th>\n",
       "      <th>phoneName</th>\n",
       "      <th>millisSinceGpsEpoch</th>\n",
       "    </tr>\n",
       "  </thead>\n",
       "  <tbody>\n",
       "    <tr>\n",
       "      <th>0</th>\n",
       "      <td>2020-05-15-US-MTV-1</td>\n",
       "      <td>Pixel4</td>\n",
       "      <td>1273608785432</td>\n",
       "    </tr>\n",
       "    <tr>\n",
       "      <th>1</th>\n",
       "      <td>2020-05-15-US-MTV-1</td>\n",
       "      <td>Pixel4</td>\n",
       "      <td>1273608786432</td>\n",
       "    </tr>\n",
       "    <tr>\n",
       "      <th>2</th>\n",
       "      <td>2020-05-15-US-MTV-1</td>\n",
       "      <td>Pixel4</td>\n",
       "      <td>1273608787432</td>\n",
       "    </tr>\n",
       "    <tr>\n",
       "      <th>3</th>\n",
       "      <td>2020-05-15-US-MTV-1</td>\n",
       "      <td>Pixel4</td>\n",
       "      <td>1273608788432</td>\n",
       "    </tr>\n",
       "    <tr>\n",
       "      <th>4</th>\n",
       "      <td>2020-05-15-US-MTV-1</td>\n",
       "      <td>Pixel4</td>\n",
       "      <td>1273608789432</td>\n",
       "    </tr>\n",
       "    <tr>\n",
       "      <th>...</th>\n",
       "      <td>...</td>\n",
       "      <td>...</td>\n",
       "      <td>...</td>\n",
       "    </tr>\n",
       "    <tr>\n",
       "      <th>91481</th>\n",
       "      <td>2021-04-29-US-SJC-3</td>\n",
       "      <td>SamsungS20Ultra</td>\n",
       "      <td>1303763185000</td>\n",
       "    </tr>\n",
       "    <tr>\n",
       "      <th>91482</th>\n",
       "      <td>2021-04-29-US-SJC-3</td>\n",
       "      <td>SamsungS20Ultra</td>\n",
       "      <td>1303763186000</td>\n",
       "    </tr>\n",
       "    <tr>\n",
       "      <th>91483</th>\n",
       "      <td>2021-04-29-US-SJC-3</td>\n",
       "      <td>SamsungS20Ultra</td>\n",
       "      <td>1303763187000</td>\n",
       "    </tr>\n",
       "    <tr>\n",
       "      <th>91484</th>\n",
       "      <td>2021-04-29-US-SJC-3</td>\n",
       "      <td>SamsungS20Ultra</td>\n",
       "      <td>1303763188000</td>\n",
       "    </tr>\n",
       "    <tr>\n",
       "      <th>91485</th>\n",
       "      <td>2021-04-29-US-SJC-3</td>\n",
       "      <td>SamsungS20Ultra</td>\n",
       "      <td>1303763189000</td>\n",
       "    </tr>\n",
       "  </tbody>\n",
       "</table>\n",
       "<p>91486 rows × 3 columns</p>\n",
       "</div>"
      ],
      "text/plain": [
       "            collectionName        phoneName  millisSinceGpsEpoch\n",
       "0      2020-05-15-US-MTV-1           Pixel4        1273608785432\n",
       "1      2020-05-15-US-MTV-1           Pixel4        1273608786432\n",
       "2      2020-05-15-US-MTV-1           Pixel4        1273608787432\n",
       "3      2020-05-15-US-MTV-1           Pixel4        1273608788432\n",
       "4      2020-05-15-US-MTV-1           Pixel4        1273608789432\n",
       "...                    ...              ...                  ...\n",
       "91481  2021-04-29-US-SJC-3  SamsungS20Ultra        1303763185000\n",
       "91482  2021-04-29-US-SJC-3  SamsungS20Ultra        1303763186000\n",
       "91483  2021-04-29-US-SJC-3  SamsungS20Ultra        1303763187000\n",
       "91484  2021-04-29-US-SJC-3  SamsungS20Ultra        1303763188000\n",
       "91485  2021-04-29-US-SJC-3  SamsungS20Ultra        1303763189000\n",
       "\n",
       "[91486 rows x 3 columns]"
      ]
     },
     "execution_count": 15,
     "metadata": {},
     "output_type": "execute_result"
    }
   ],
   "source": [
    "test_df = test_df[['collectionName', 'phoneName', 'millisSinceGpsEpoch']]\n",
    "test_df"
   ]
  },
  {
   "cell_type": "markdown",
   "metadata": {},
   "source": [
    "## preprocessing"
   ]
  },
  {
   "cell_type": "code",
   "execution_count": 16,
   "metadata": {},
   "outputs": [],
   "source": [
    "whole_df = pd.concat([train_df, test_df]).reset_index(drop=True)\n",
    "collection_size = whole_df['collectionName'].nunique()\n",
    "phone_size = whole_df['phoneName'].nunique()\n",
    "\n",
    "le_co = LabelEncoder()\n",
    "le_co.fit(whole_df['collectionName'])\n",
    "le_ph = LabelEncoder()\n",
    "le_ph.fit(whole_df['phoneName'])\n",
    "\n",
    "\n",
    "def preprocess(input_df, le1=le_co, le2=le_ph):\n",
    "    output_df = input_df.copy()\n",
    "    \n",
    "    # LE\n",
    "    output_df['le_collectionName'] = le1.transform(input_df['collectionName'])\n",
    "    output_df['le_phoneName'] = le2.transform(input_df['phoneName'])\n",
    "    return output_df\n",
    "\n",
    "train = preprocess(train_df)\n",
    "test = preprocess(test_df)"
   ]
  },
  {
   "cell_type": "code",
   "execution_count": 17,
   "metadata": {},
   "outputs": [
    {
     "data": {
      "text/html": [
       "<div>\n",
       "<style scoped>\n",
       "    .dataframe tbody tr th:only-of-type {\n",
       "        vertical-align: middle;\n",
       "    }\n",
       "\n",
       "    .dataframe tbody tr th {\n",
       "        vertical-align: top;\n",
       "    }\n",
       "\n",
       "    .dataframe thead th {\n",
       "        text-align: right;\n",
       "    }\n",
       "</style>\n",
       "<table border=\"1\" class=\"dataframe\">\n",
       "  <thead>\n",
       "    <tr style=\"text-align: right;\">\n",
       "      <th></th>\n",
       "      <th>collectionName</th>\n",
       "      <th>phoneName</th>\n",
       "      <th>millisSinceGpsEpoch</th>\n",
       "      <th>delta_latDeg</th>\n",
       "      <th>delta_lngDeg</th>\n",
       "      <th>delta_distance</th>\n",
       "      <th>delta_angle</th>\n",
       "      <th>le_collectionName</th>\n",
       "      <th>le_phoneName</th>\n",
       "    </tr>\n",
       "  </thead>\n",
       "  <tbody>\n",
       "    <tr>\n",
       "      <th>0</th>\n",
       "      <td>2020-05-14-US-MTV-1</td>\n",
       "      <td>Pixel4</td>\n",
       "      <td>1273529463442</td>\n",
       "      <td>3.742358e+01</td>\n",
       "      <td>-1.220941e+02</td>\n",
       "      <td>1.277469e+07</td>\n",
       "      <td>-17.041042</td>\n",
       "      <td>0</td>\n",
       "      <td>1</td>\n",
       "    </tr>\n",
       "    <tr>\n",
       "      <th>1</th>\n",
       "      <td>2020-05-14-US-MTV-1</td>\n",
       "      <td>Pixel4</td>\n",
       "      <td>1273529464442</td>\n",
       "      <td>2.999982e-10</td>\n",
       "      <td>-1.700002e-09</td>\n",
       "      <td>1.536866e-04</td>\n",
       "      <td>-10.008102</td>\n",
       "      <td>0</td>\n",
       "      <td>1</td>\n",
       "    </tr>\n",
       "    <tr>\n",
       "      <th>2</th>\n",
       "      <td>2020-05-14-US-MTV-1</td>\n",
       "      <td>Pixel4</td>\n",
       "      <td>1273529465442</td>\n",
       "      <td>1.040000e-08</td>\n",
       "      <td>3.400004e-09</td>\n",
       "      <td>1.194018e-03</td>\n",
       "      <td>-108.103827</td>\n",
       "      <td>0</td>\n",
       "      <td>1</td>\n",
       "    </tr>\n",
       "    <tr>\n",
       "      <th>3</th>\n",
       "      <td>2020-05-14-US-MTV-1</td>\n",
       "      <td>Pixel4</td>\n",
       "      <td>1273529466442</td>\n",
       "      <td>1.140000e-08</td>\n",
       "      <td>1.600000e-09</td>\n",
       "      <td>1.274670e-03</td>\n",
       "      <td>-97.989318</td>\n",
       "      <td>0</td>\n",
       "      <td>1</td>\n",
       "    </tr>\n",
       "    <tr>\n",
       "      <th>4</th>\n",
       "      <td>2020-05-14-US-MTV-1</td>\n",
       "      <td>Pixel4</td>\n",
       "      <td>1273529467442</td>\n",
       "      <td>9.900006e-09</td>\n",
       "      <td>-1.600000e-09</td>\n",
       "      <td>1.109164e-03</td>\n",
       "      <td>-80.819484</td>\n",
       "      <td>0</td>\n",
       "      <td>1</td>\n",
       "    </tr>\n",
       "    <tr>\n",
       "      <th>...</th>\n",
       "      <td>...</td>\n",
       "      <td>...</td>\n",
       "      <td>...</td>\n",
       "      <td>...</td>\n",
       "      <td>...</td>\n",
       "      <td>...</td>\n",
       "      <td>...</td>\n",
       "      <td>...</td>\n",
       "      <td>...</td>\n",
       "    </tr>\n",
       "    <tr>\n",
       "      <th>118233</th>\n",
       "      <td>2021-04-29-US-SJC-2</td>\n",
       "      <td>SamsungS20Ultra</td>\n",
       "      <td>1303760315000</td>\n",
       "      <td>5.000004e-09</td>\n",
       "      <td>0.000000e+00</td>\n",
       "      <td>5.556260e-04</td>\n",
       "      <td>-90.000000</td>\n",
       "      <td>42</td>\n",
       "      <td>6</td>\n",
       "    </tr>\n",
       "    <tr>\n",
       "      <th>118234</th>\n",
       "      <td>2021-04-29-US-SJC-2</td>\n",
       "      <td>SamsungS20Ultra</td>\n",
       "      <td>1303760316000</td>\n",
       "      <td>4.999997e-09</td>\n",
       "      <td>0.000000e+00</td>\n",
       "      <td>5.556253e-04</td>\n",
       "      <td>-90.000000</td>\n",
       "      <td>42</td>\n",
       "      <td>6</td>\n",
       "    </tr>\n",
       "    <tr>\n",
       "      <th>118235</th>\n",
       "      <td>2021-04-29-US-SJC-2</td>\n",
       "      <td>SamsungS20Ultra</td>\n",
       "      <td>1303760317000</td>\n",
       "      <td>1.700002e-09</td>\n",
       "      <td>-1.600000e-09</td>\n",
       "      <td>2.359524e-04</td>\n",
       "      <td>-46.735758</td>\n",
       "      <td>42</td>\n",
       "      <td>6</td>\n",
       "    </tr>\n",
       "    <tr>\n",
       "      <th>118236</th>\n",
       "      <td>2021-04-29-US-SJC-2</td>\n",
       "      <td>SamsungS20Ultra</td>\n",
       "      <td>1303760318000</td>\n",
       "      <td>-4.330000e-08</td>\n",
       "      <td>3.300002e-09</td>\n",
       "      <td>4.820543e-03</td>\n",
       "      <td>94.358216</td>\n",
       "      <td>42</td>\n",
       "      <td>6</td>\n",
       "    </tr>\n",
       "    <tr>\n",
       "      <th>118237</th>\n",
       "      <td>2021-04-29-US-SJC-2</td>\n",
       "      <td>SamsungS20Ultra</td>\n",
       "      <td>1303760319000</td>\n",
       "      <td>-3.170000e-08</td>\n",
       "      <td>0.000000e+00</td>\n",
       "      <td>3.522667e-03</td>\n",
       "      <td>90.000000</td>\n",
       "      <td>42</td>\n",
       "      <td>6</td>\n",
       "    </tr>\n",
       "  </tbody>\n",
       "</table>\n",
       "<p>118238 rows × 9 columns</p>\n",
       "</div>"
      ],
      "text/plain": [
       "             collectionName        phoneName  millisSinceGpsEpoch  \\\n",
       "0       2020-05-14-US-MTV-1           Pixel4        1273529463442   \n",
       "1       2020-05-14-US-MTV-1           Pixel4        1273529464442   \n",
       "2       2020-05-14-US-MTV-1           Pixel4        1273529465442   \n",
       "3       2020-05-14-US-MTV-1           Pixel4        1273529466442   \n",
       "4       2020-05-14-US-MTV-1           Pixel4        1273529467442   \n",
       "...                     ...              ...                  ...   \n",
       "118233  2021-04-29-US-SJC-2  SamsungS20Ultra        1303760315000   \n",
       "118234  2021-04-29-US-SJC-2  SamsungS20Ultra        1303760316000   \n",
       "118235  2021-04-29-US-SJC-2  SamsungS20Ultra        1303760317000   \n",
       "118236  2021-04-29-US-SJC-2  SamsungS20Ultra        1303760318000   \n",
       "118237  2021-04-29-US-SJC-2  SamsungS20Ultra        1303760319000   \n",
       "\n",
       "        delta_latDeg  delta_lngDeg  delta_distance  delta_angle  \\\n",
       "0       3.742358e+01 -1.220941e+02    1.277469e+07   -17.041042   \n",
       "1       2.999982e-10 -1.700002e-09    1.536866e-04   -10.008102   \n",
       "2       1.040000e-08  3.400004e-09    1.194018e-03  -108.103827   \n",
       "3       1.140000e-08  1.600000e-09    1.274670e-03   -97.989318   \n",
       "4       9.900006e-09 -1.600000e-09    1.109164e-03   -80.819484   \n",
       "...              ...           ...             ...          ...   \n",
       "118233  5.000004e-09  0.000000e+00    5.556260e-04   -90.000000   \n",
       "118234  4.999997e-09  0.000000e+00    5.556253e-04   -90.000000   \n",
       "118235  1.700002e-09 -1.600000e-09    2.359524e-04   -46.735758   \n",
       "118236 -4.330000e-08  3.300002e-09    4.820543e-03    94.358216   \n",
       "118237 -3.170000e-08  0.000000e+00    3.522667e-03    90.000000   \n",
       "\n",
       "        le_collectionName  le_phoneName  \n",
       "0                       0             1  \n",
       "1                       0             1  \n",
       "2                       0             1  \n",
       "3                       0             1  \n",
       "4                       0             1  \n",
       "...                   ...           ...  \n",
       "118233                 42             6  \n",
       "118234                 42             6  \n",
       "118235                 42             6  \n",
       "118236                 42             6  \n",
       "118237                 42             6  \n",
       "\n",
       "[118238 rows x 9 columns]"
      ]
     },
     "execution_count": 17,
     "metadata": {},
     "output_type": "execute_result"
    }
   ],
   "source": [
    "train"
   ]
  },
  {
   "cell_type": "code",
   "execution_count": 18,
   "metadata": {},
   "outputs": [
    {
     "data": {
      "text/html": [
       "<div>\n",
       "<style scoped>\n",
       "    .dataframe tbody tr th:only-of-type {\n",
       "        vertical-align: middle;\n",
       "    }\n",
       "\n",
       "    .dataframe tbody tr th {\n",
       "        vertical-align: top;\n",
       "    }\n",
       "\n",
       "    .dataframe thead th {\n",
       "        text-align: right;\n",
       "    }\n",
       "</style>\n",
       "<table border=\"1\" class=\"dataframe\">\n",
       "  <thead>\n",
       "    <tr style=\"text-align: right;\">\n",
       "      <th></th>\n",
       "      <th>collectionName</th>\n",
       "      <th>phoneName</th>\n",
       "      <th>millisSinceGpsEpoch</th>\n",
       "      <th>le_collectionName</th>\n",
       "      <th>le_phoneName</th>\n",
       "    </tr>\n",
       "  </thead>\n",
       "  <tbody>\n",
       "    <tr>\n",
       "      <th>0</th>\n",
       "      <td>2020-05-15-US-MTV-1</td>\n",
       "      <td>Pixel4</td>\n",
       "      <td>1273608785432</td>\n",
       "      <td>2</td>\n",
       "      <td>1</td>\n",
       "    </tr>\n",
       "    <tr>\n",
       "      <th>1</th>\n",
       "      <td>2020-05-15-US-MTV-1</td>\n",
       "      <td>Pixel4</td>\n",
       "      <td>1273608786432</td>\n",
       "      <td>2</td>\n",
       "      <td>1</td>\n",
       "    </tr>\n",
       "    <tr>\n",
       "      <th>2</th>\n",
       "      <td>2020-05-15-US-MTV-1</td>\n",
       "      <td>Pixel4</td>\n",
       "      <td>1273608787432</td>\n",
       "      <td>2</td>\n",
       "      <td>1</td>\n",
       "    </tr>\n",
       "    <tr>\n",
       "      <th>3</th>\n",
       "      <td>2020-05-15-US-MTV-1</td>\n",
       "      <td>Pixel4</td>\n",
       "      <td>1273608788432</td>\n",
       "      <td>2</td>\n",
       "      <td>1</td>\n",
       "    </tr>\n",
       "    <tr>\n",
       "      <th>4</th>\n",
       "      <td>2020-05-15-US-MTV-1</td>\n",
       "      <td>Pixel4</td>\n",
       "      <td>1273608789432</td>\n",
       "      <td>2</td>\n",
       "      <td>1</td>\n",
       "    </tr>\n",
       "    <tr>\n",
       "      <th>...</th>\n",
       "      <td>...</td>\n",
       "      <td>...</td>\n",
       "      <td>...</td>\n",
       "      <td>...</td>\n",
       "      <td>...</td>\n",
       "    </tr>\n",
       "    <tr>\n",
       "      <th>91481</th>\n",
       "      <td>2021-04-29-US-SJC-3</td>\n",
       "      <td>SamsungS20Ultra</td>\n",
       "      <td>1303763185000</td>\n",
       "      <td>43</td>\n",
       "      <td>6</td>\n",
       "    </tr>\n",
       "    <tr>\n",
       "      <th>91482</th>\n",
       "      <td>2021-04-29-US-SJC-3</td>\n",
       "      <td>SamsungS20Ultra</td>\n",
       "      <td>1303763186000</td>\n",
       "      <td>43</td>\n",
       "      <td>6</td>\n",
       "    </tr>\n",
       "    <tr>\n",
       "      <th>91483</th>\n",
       "      <td>2021-04-29-US-SJC-3</td>\n",
       "      <td>SamsungS20Ultra</td>\n",
       "      <td>1303763187000</td>\n",
       "      <td>43</td>\n",
       "      <td>6</td>\n",
       "    </tr>\n",
       "    <tr>\n",
       "      <th>91484</th>\n",
       "      <td>2021-04-29-US-SJC-3</td>\n",
       "      <td>SamsungS20Ultra</td>\n",
       "      <td>1303763188000</td>\n",
       "      <td>43</td>\n",
       "      <td>6</td>\n",
       "    </tr>\n",
       "    <tr>\n",
       "      <th>91485</th>\n",
       "      <td>2021-04-29-US-SJC-3</td>\n",
       "      <td>SamsungS20Ultra</td>\n",
       "      <td>1303763189000</td>\n",
       "      <td>43</td>\n",
       "      <td>6</td>\n",
       "    </tr>\n",
       "  </tbody>\n",
       "</table>\n",
       "<p>91486 rows × 5 columns</p>\n",
       "</div>"
      ],
      "text/plain": [
       "            collectionName        phoneName  millisSinceGpsEpoch  \\\n",
       "0      2020-05-15-US-MTV-1           Pixel4        1273608785432   \n",
       "1      2020-05-15-US-MTV-1           Pixel4        1273608786432   \n",
       "2      2020-05-15-US-MTV-1           Pixel4        1273608787432   \n",
       "3      2020-05-15-US-MTV-1           Pixel4        1273608788432   \n",
       "4      2020-05-15-US-MTV-1           Pixel4        1273608789432   \n",
       "...                    ...              ...                  ...   \n",
       "91481  2021-04-29-US-SJC-3  SamsungS20Ultra        1303763185000   \n",
       "91482  2021-04-29-US-SJC-3  SamsungS20Ultra        1303763186000   \n",
       "91483  2021-04-29-US-SJC-3  SamsungS20Ultra        1303763187000   \n",
       "91484  2021-04-29-US-SJC-3  SamsungS20Ultra        1303763188000   \n",
       "91485  2021-04-29-US-SJC-3  SamsungS20Ultra        1303763189000   \n",
       "\n",
       "       le_collectionName  le_phoneName  \n",
       "0                      2             1  \n",
       "1                      2             1  \n",
       "2                      2             1  \n",
       "3                      2             1  \n",
       "4                      2             1  \n",
       "...                  ...           ...  \n",
       "91481                 43             6  \n",
       "91482                 43             6  \n",
       "91483                 43             6  \n",
       "91484                 43             6  \n",
       "91485                 43             6  \n",
       "\n",
       "[91486 rows x 5 columns]"
      ]
     },
     "execution_count": 18,
     "metadata": {},
     "output_type": "execute_result"
    }
   ],
   "source": [
    "test"
   ]
  },
  {
   "cell_type": "markdown",
   "metadata": {},
   "source": [
    "## model"
   ]
  },
  {
   "cell_type": "code",
   "execution_count": 19,
   "metadata": {},
   "outputs": [],
   "source": [
    "import pickle\n",
    "def to_pickle(filename, obj):\n",
    "    with open(filename, mode='wb') as f:\n",
    "        pickle.dump(obj, f)\n",
    "        \n",
    "def from_pickle(filename):\n",
    "    with open(filename, mode='rb') as f:\n",
    "        obj = pickle.load(f)\n",
    "    return obj"
   ]
  },
  {
   "cell_type": "code",
   "execution_count": 20,
   "metadata": {},
   "outputs": [
    {
     "data": {
      "text/plain": [
       "(18, 100)"
      ]
     },
     "execution_count": 20,
     "metadata": {},
     "output_type": "execute_result"
    }
   ],
   "source": [
    "imu_path = f'../../input/imu_dataset_v1/train/2020-08-03-US-MTV-1_Pixel4.pkl'\n",
    "imu_data = from_pickle(imu_path)\n",
    "imu_data[str(1280525357437)].shape"
   ]
  },
  {
   "cell_type": "code",
   "execution_count": 21,
   "metadata": {},
   "outputs": [],
   "source": [
    "def get_optimizer(model: nn.Module, config: dict):\n",
    "    optimizer_config = config[\"optimizer\"]\n",
    "    optimizer_name = optimizer_config.get(\"name\")\n",
    "    base_optimizer_name = optimizer_config.get(\"base_name\")\n",
    "    optimizer_params = optimizer_config['params']\n",
    "\n",
    "    if hasattr(optim, optimizer_name):\n",
    "        optimizer = optim.__getattribute__(optimizer_name)(model.parameters(), **optimizer_params)\n",
    "        return optimizer\n",
    "    else:\n",
    "        base_optimizer = optim.__getattribute__(base_optimizer_name)\n",
    "        optimizer = globals().get(optimizer_name)(\n",
    "            model.parameters(), \n",
    "            base_optimizer,\n",
    "            **optimizer_config[\"params\"])\n",
    "        return  optimizer\n",
    "\n",
    "def get_scheduler(optimizer, config: dict):\n",
    "    scheduler_config = config[\"scheduler\"]\n",
    "    scheduler_name = scheduler_config.get(\"name\")\n",
    "\n",
    "    if scheduler_name is None:\n",
    "        return\n",
    "    else:\n",
    "        return optim.lr_scheduler.__getattribute__(scheduler_name)(\n",
    "            optimizer, **scheduler_config[\"params\"])\n",
    "\n",
    "\n",
    "def get_criterion(config: dict):\n",
    "    loss_config = config[\"loss\"]\n",
    "    loss_name = loss_config[\"name\"]\n",
    "    loss_params = {} if loss_config.get(\"params\") is None else loss_config.get(\"params\")\n",
    "    \n",
    "    \n",
    "    if hasattr(nn, loss_name):\n",
    "        criterion = nn.__getattribute__(loss_name)(**loss_params)\n",
    "    else:\n",
    "        criterion = globals().get(loss_name)(**loss_params)\n",
    "\n",
    "    return criterion\n",
    "\n",
    "def worker_init_fn(worker_id):                                                          \n",
    "    np.random.seed(np.random.get_state()[1][0] + worker_id)"
   ]
  },
  {
   "cell_type": "code",
   "execution_count": 22,
   "metadata": {},
   "outputs": [],
   "source": [
    "\n",
    "# Learner class(pytorch-lighting)\n",
    "class Learner(pl.LightningModule):\n",
    "    def __init__(self, model, config):\n",
    "        super().__init__()\n",
    "        self.model = model\n",
    "        self.config = config\n",
    "        self.delta_criterion = get_criterion(config)\n",
    "        self.dist_criterion = get_criterion(config)\n",
    "        self.angle_criterion = get_criterion(config)\n",
    "    \n",
    "    def training_step(self, batch, batch_idx):\n",
    "        x, target = batch\n",
    "        output = self.model(x)\n",
    "        # delta_loss = self.delta_criterion(output[:, [0,1]], target[:, [0,1]])\n",
    "        dist_loss = self.dist_criterion(output[:, 2], target[:, 2])\n",
    "        angle_loss = self.angle_criterion(output[:, 3], target[:, 3])\n",
    "        # loss = delta_loss + dist_loss + angle_loss\n",
    "        return dist_loss\n",
    "    \n",
    "    def validation_step(self, batch, batch_idx):\n",
    "        x, target = batch\n",
    "        output = self.model(x)\n",
    "        delta_loss = self.delta_criterion(output[:, [0,1]], target[:, [0,1]])\n",
    "        dist_loss = self.dist_criterion(output[:, 2], target[:, 2])\n",
    "        angle_loss = self.angle_criterion(output[:, 3], target[:, 3])\n",
    "        loss = delta_loss + dist_loss + angle_loss\n",
    "  \n",
    "        delta_mse = np.mean((to_np(output[:,0])-to_np(target[:,0]))**2 + (to_np(output[:,1])-to_np(target[:,1]))**2)\n",
    "        \n",
    "        self.log(f'Loss/val', loss, on_step=False, on_epoch=True, prog_bar=False, logger=True)\n",
    "        self.log(f'delta/val', delta_mse, on_step=False, on_epoch=True, prog_bar=False, logger=True)\n",
    "        return loss\n",
    "\n",
    "    def configure_optimizers(self):\n",
    "        optimizer = get_optimizer(self.model, self.config)\n",
    "        scheduler = get_scheduler(optimizer, self.config)\n",
    "        return {\"optimizer\": optimizer, \"lr_scheduler\": scheduler, \"monitor\": \"Loss/val\"}"
   ]
  },
  {
   "cell_type": "code",
   "execution_count": 23,
   "metadata": {},
   "outputs": [],
   "source": [
    "def to_np(input):\n",
    "    return input.detach().cpu().numpy()\n",
    "\n",
    "# oof\n",
    "def evaluate(model, loaders, phase):\n",
    "    lat_list = []\n",
    "    lng_list = []\n",
    "    dist_list = []\n",
    "    angle_list = []\n",
    "    with torch.no_grad():\n",
    "        for batch in loaders[phase]:\n",
    "            x, y = batch\n",
    "            output = model(x)\n",
    "            lat_list.append(to_np(output[:, 0]))\n",
    "            lng_list.append(to_np(output[:, 1]))\n",
    "            dist_list.append(to_np(output[:, 2]))\n",
    "            angle_list.append(to_np(output[:, 3]))\n",
    "    lat_list = np.concatenate(lat_list)\n",
    "    lng_list = np.concatenate(lng_list)\n",
    "    dist_list = np.concatenate(dist_list)\n",
    "    angle_list = np.concatenate(angle_list)\n",
    "    return lat_list, lng_list, dist_list, angle_list"
   ]
  },
  {
   "cell_type": "code",
   "execution_count": 24,
   "metadata": {},
   "outputs": [],
   "source": [
    "# dataset\n",
    "from torch.utils.data import Dataset, DataLoader\n",
    "class OutdoorDataset(Dataset):\n",
    "    def __init__(self, df, phase='train'):\n",
    "        self.df = df\n",
    "        self.phase = phase\n",
    "        self.le_collname_feats = df['le_collectionName'].to_numpy()\n",
    "        self.le_phonename_feats = df['le_phoneName'].to_numpy()\n",
    "        self.collname_feats = df['collectionName'].to_numpy()\n",
    "        self.phonename_feats = df['phoneName'].to_numpy()\n",
    "        self.epoch_feats = df['millisSinceGpsEpoch'].to_numpy()\n",
    "\n",
    "        if phase in ['train', 'valid']:\n",
    "            self.target = df[['delta_latDeg', 'delta_lngDeg', 'delta_distance', 'delta_angle']].values.astype(np.float32)\n",
    "        \n",
    "        self.imu_dict = {}\n",
    "        for (collection_name, phone_name), _ in df.groupby(['collectionName', 'phoneName']):\n",
    "            if phase in ['train', 'valid']:\n",
    "                imu_path = f'../../input/imu_dataset_v2/train/{collection_name}_{phone_name}.pkl'\n",
    "            else:\n",
    "                imu_path = f'../../input/imu_dataset_v2/test/{collection_name}_{phone_name}.pkl'\n",
    "\n",
    "            self.imu_dict[f'{collection_name}_{phone_name}'] = from_pickle(imu_path)\n",
    "            \n",
    "        \n",
    "    def __len__(self):\n",
    "        return self.df.shape[0]\n",
    "\n",
    "    def __getitem__(self, idx):\n",
    "        \n",
    "            \n",
    "        feature = {\n",
    "            'imu': self.imu_dict[f'{self.collname_feats[idx]}_{self.phonename_feats[idx]}'][str(self.epoch_feats[idx])].astype(np.float32),  # (18, 100)\n",
    "            'collname':int(self.le_collname_feats[idx]),\n",
    "            'phonename':int(self.le_phonename_feats[idx]),\n",
    "        }\n",
    "        if self.phase in ['train', 'valid']:\n",
    "            target = self.target[idx]\n",
    "        else:\n",
    "            target = None\n",
    "        return feature, target"
   ]
  },
  {
   "cell_type": "code",
   "execution_count": 33,
   "metadata": {},
   "outputs": [],
   "source": [
    "class CNNModel(nn.Module):\n",
    "    def __init__(self, collection_size, phone_size, embedding_dim=16):\n",
    "        super(CNNModel, self).__init__()\n",
    "        # imu\n",
    "        self.cnn_layer = nn.Sequential(\n",
    "            nn.Conv2d(1, 1, kernel_size=(9, 3), stride=2),\n",
    "            # nn.MaxPool2d(1, 3),\n",
    "            nn.ReLU()\n",
    "        )\n",
    "        \n",
    "        # collection\n",
    "        self.embedding_layer1 = nn.Sequential(\n",
    "            nn.Embedding(collection_size, embedding_dim),\n",
    "            nn.Flatten(start_dim=-1)            \n",
    "        )\n",
    "        # phone\n",
    "        self.embedding_layer2 = nn.Sequential(\n",
    "            nn.Embedding(phone_size, embedding_dim),\n",
    "            nn.Flatten(start_dim=-1)           \n",
    "        )\n",
    "        \n",
    "        feature_size = 49 + embedding_dim*2\n",
    "        self.fc1 = nn.Sequential(\n",
    "            nn.BatchNorm1d(feature_size),\n",
    "            nn.Linear(feature_size, 256),\n",
    "            nn.ReLU()\n",
    "        )\n",
    "\n",
    "\n",
    "        self.fc2 = nn.Sequential(\n",
    "            nn.BatchNorm1d(256),\n",
    "            nn.Linear(256, 128),\n",
    "            nn.ReLU()\n",
    "        )\n",
    "\n",
    "        self.fc3 = nn.Sequential(\n",
    "            nn.BatchNorm1d(128),\n",
    "            nn.Linear(128, 16),\n",
    "            nn.ReLU()\n",
    "        )\n",
    "        self.fc = nn.Linear(16, 4)  # deltaのlat, lng, distance, angle\n",
    "\n",
    "    \n",
    "    def forward(self, x):\n",
    "        # input embedding\n",
    "        batch_size = x[\"collname\"].shape[0]\n",
    "        from IPython.core.debugger import Pdb; Pdb().set_trace()\n",
    "        x_imu = self.cnn_layer(x['imu'].unsqueeze(1)).view(batch_size, -1)  # (b,1,18,100)->conv(b,1,1,98)->pool(b,1,1,33)->(b,33)\n",
    "        x_coll = self.embedding_layer1(x['collname'])\n",
    "        x_phone = self.embedding_layer2(x['phonename'])\n",
    "        x = torch.cat([x_imu, x_coll, x_phone], dim=-1)  # (b, 67)\n",
    "\n",
    "        # MLP\n",
    "        x = self.fc1(x)\n",
    "        x = self.fc2(x)\n",
    "        x = self.fc3(x)\n",
    "        # x = self.fc4(x)\n",
    "\n",
    "        # output [batch, 4] delta_lat, delta_lng, distance, angle\n",
    "        x = self.fc(x).squeeze(1)\n",
    "        return x"
   ]
  },
  {
   "cell_type": "code",
   "execution_count": 34,
   "metadata": {},
   "outputs": [],
   "source": [
    "os.makedirs(f'../../model/{EXP_NAME}', exist_ok=True)"
   ]
  },
  {
   "cell_type": "markdown",
   "metadata": {},
   "source": [
    "## train"
   ]
  },
  {
   "cell_type": "code",
   "execution_count": 35,
   "metadata": {},
   "outputs": [
    {
     "name": "stdout",
     "output_type": "stream",
     "text": [
      "====================\n",
      "Fold 0\n",
      "====================\n"
     ]
    },
    {
     "data": {
      "text/html": [
       "Finishing last run (ID:1cxqnbps) before initializing another..."
      ],
      "text/plain": [
       "<IPython.core.display.HTML object>"
      ]
     },
     "metadata": {},
     "output_type": "display_data"
    },
    {
     "data": {
      "text/html": [
       "<br/>Waiting for W&B process to finish, PID 66902<br/>Program ended successfully."
      ],
      "text/plain": [
       "<IPython.core.display.HTML object>"
      ]
     },
     "metadata": {},
     "output_type": "display_data"
    },
    {
     "data": {
      "application/vnd.jupyter.widget-view+json": {
       "model_id": "a36608e0701d488593083d4558ce625d",
       "version_major": 2,
       "version_minor": 0
      },
      "text/plain": [
       "VBox(children=(Label(value=' 0.00MB of 0.00MB uploaded (0.00MB deduped)\\r'), FloatProgress(value=1.0, max=1.0)…"
      ]
     },
     "metadata": {},
     "output_type": "display_data"
    },
    {
     "data": {
      "text/html": [
       "Find user logs for this run at: <code>/home/user/work/exp/exp007/wandb/run-20210531_212449-1cxqnbps/logs/debug.log</code>"
      ],
      "text/plain": [
       "<IPython.core.display.HTML object>"
      ]
     },
     "metadata": {},
     "output_type": "display_data"
    },
    {
     "data": {
      "text/html": [
       "Find internal logs for this run at: <code>/home/user/work/exp/exp007/wandb/run-20210531_212449-1cxqnbps/logs/debug-internal.log</code>"
      ],
      "text/plain": [
       "<IPython.core.display.HTML object>"
      ]
     },
     "metadata": {},
     "output_type": "display_data"
    },
    {
     "data": {
      "text/html": [
       "<h3>Run summary:</h3><br/><style>\n",
       "    table.wandb td:nth-child(1) { padding: 0 10px; text-align: right }\n",
       "    </style><table class=\"wandb\">\n",
       "<tr><td>Loss/val</td><td>nan</td></tr><tr><td>delta/val</td><td>nan</td></tr><tr><td>epoch</td><td>4</td></tr><tr><td>trainer/global_step</td><td>924</td></tr><tr><td>_runtime</td><td>13</td></tr><tr><td>_timestamp</td><td>1622463905</td></tr><tr><td>_step</td><td>4</td></tr></table>"
      ],
      "text/plain": [
       "<IPython.core.display.HTML object>"
      ]
     },
     "metadata": {},
     "output_type": "display_data"
    },
    {
     "data": {
      "text/html": [
       "<h3>Run history:</h3><br/><style>\n",
       "    table.wandb td:nth-child(1) { padding: 0 10px; text-align: right }\n",
       "    </style><table class=\"wandb\">\n",
       "<tr><td>Loss/val</td><td></td></tr><tr><td>delta/val</td><td></td></tr><tr><td>epoch</td><td>▁▃▅▆█</td></tr><tr><td>trainer/global_step</td><td>▁▃▅▆█</td></tr><tr><td>_runtime</td><td>▁▃▅▆█</td></tr><tr><td>_timestamp</td><td>▁▃▅▆█</td></tr><tr><td>_step</td><td>▁▃▅▆█</td></tr></table><br/>"
      ],
      "text/plain": [
       "<IPython.core.display.HTML object>"
      ]
     },
     "metadata": {},
     "output_type": "display_data"
    },
    {
     "data": {
      "text/html": [
       "Synced 5 W&B file(s), 1 media file(s), 0 artifact file(s) and 0 other file(s)"
      ],
      "text/plain": [
       "<IPython.core.display.HTML object>"
      ]
     },
     "metadata": {},
     "output_type": "display_data"
    },
    {
     "data": {
      "text/html": [
       "\n",
       "                    <br/>Synced <strong style=\"color:#cdcd00\">bumbling-bee-66</strong>: <a href=\"https://wandb.ai/kuto5046/outdoor/runs/1cxqnbps\" target=\"_blank\">https://wandb.ai/kuto5046/outdoor/runs/1cxqnbps</a><br/>\n",
       "                "
      ],
      "text/plain": [
       "<IPython.core.display.HTML object>"
      ]
     },
     "metadata": {},
     "output_type": "display_data"
    },
    {
     "data": {
      "text/html": [
       "...Successfully finished last run (ID:1cxqnbps). Initializing new run:<br/><br/>"
      ],
      "text/plain": [
       "<IPython.core.display.HTML object>"
      ]
     },
     "metadata": {},
     "output_type": "display_data"
    },
    {
     "name": "stderr",
     "output_type": "stream",
     "text": [
      "\u001b[34m\u001b[1mwandb\u001b[0m: wandb version 0.10.31 is available!  To upgrade, please run:\n",
      "\u001b[34m\u001b[1mwandb\u001b[0m:  $ pip install wandb --upgrade\n"
     ]
    },
    {
     "data": {
      "text/html": [
       "\n",
       "                Tracking run with wandb version 0.10.22<br/>\n",
       "                Syncing run <strong style=\"color:#cdcd00\">rich-dream-67</strong> to <a href=\"https://wandb.ai\" target=\"_blank\">Weights & Biases</a> <a href=\"https://docs.wandb.com/integrations/jupyter.html\" target=\"_blank\">(Documentation)</a>.<br/>\n",
       "                Project page: <a href=\"https://wandb.ai/kuto5046/outdoor\" target=\"_blank\">https://wandb.ai/kuto5046/outdoor</a><br/>\n",
       "                Run page: <a href=\"https://wandb.ai/kuto5046/outdoor/runs/seuu4wc1\" target=\"_blank\">https://wandb.ai/kuto5046/outdoor/runs/seuu4wc1</a><br/>\n",
       "                Run data is saved locally in <code>/home/user/work/exp/exp007/wandb/run-20210531_212828-seuu4wc1</code><br/><br/>\n",
       "            "
      ],
      "text/plain": [
       "<IPython.core.display.HTML object>"
      ]
     },
     "metadata": {},
     "output_type": "display_data"
    },
    {
     "name": "stderr",
     "output_type": "stream",
     "text": [
      "GPU available: True, used: True\n",
      "\n",
      "  | Name            | Type     | Params\n",
      "---------------------------------------------\n",
      "0 | model           | CNNModel | 57.8 K\n",
      "1 | delta_criterion | MSELoss  | 0     \n",
      "2 | dist_criterion  | MSELoss  | 0     \n",
      "3 | angle_criterion | MSELoss  | 0     \n",
      "---------------------------------------------\n",
      "57.8 K    Trainable params\n",
      "0         Non-trainable params\n",
      "57.8 K    Total params\n",
      "0.231     Total estimated model params size (MB)\n"
     ]
    },
    {
     "data": {
      "application/vnd.jupyter.widget-view+json": {
       "model_id": "ca3772b4d4634cc9b8c9652ea9bf6a03",
       "version_major": 2,
       "version_minor": 0
      },
      "text/plain": [
       "Validation sanity check: 0it [00:00, ?it/s]"
      ]
     },
     "metadata": {},
     "output_type": "display_data"
    },
    {
     "name": "stdout",
     "output_type": "stream",
     "text": [
      "> \u001b[0;32m<ipython-input-33-b195378791a1>\u001b[0m(48)\u001b[0;36mforward\u001b[0;34m()\u001b[0m\n",
      "\u001b[0;32m     46 \u001b[0;31m        \u001b[0mbatch_size\u001b[0m \u001b[0;34m=\u001b[0m \u001b[0mx\u001b[0m\u001b[0;34m[\u001b[0m\u001b[0;34m\"collname\"\u001b[0m\u001b[0;34m]\u001b[0m\u001b[0;34m.\u001b[0m\u001b[0mshape\u001b[0m\u001b[0;34m[\u001b[0m\u001b[0;36m0\u001b[0m\u001b[0;34m]\u001b[0m\u001b[0;34m\u001b[0m\u001b[0;34m\u001b[0m\u001b[0m\n",
      "\u001b[0m\u001b[0;32m     47 \u001b[0;31m        \u001b[0;32mfrom\u001b[0m \u001b[0mIPython\u001b[0m\u001b[0;34m.\u001b[0m\u001b[0mcore\u001b[0m\u001b[0;34m.\u001b[0m\u001b[0mdebugger\u001b[0m \u001b[0;32mimport\u001b[0m \u001b[0mPdb\u001b[0m\u001b[0;34m;\u001b[0m \u001b[0mPdb\u001b[0m\u001b[0;34m(\u001b[0m\u001b[0;34m)\u001b[0m\u001b[0;34m.\u001b[0m\u001b[0mset_trace\u001b[0m\u001b[0;34m(\u001b[0m\u001b[0;34m)\u001b[0m\u001b[0;34m\u001b[0m\u001b[0;34m\u001b[0m\u001b[0m\n",
      "\u001b[0m\u001b[0;32m---> 48 \u001b[0;31m        \u001b[0mx_imu\u001b[0m \u001b[0;34m=\u001b[0m \u001b[0mself\u001b[0m\u001b[0;34m.\u001b[0m\u001b[0mcnn_layer\u001b[0m\u001b[0;34m(\u001b[0m\u001b[0mx\u001b[0m\u001b[0;34m[\u001b[0m\u001b[0;34m'imu'\u001b[0m\u001b[0;34m]\u001b[0m\u001b[0;34m.\u001b[0m\u001b[0munsqueeze\u001b[0m\u001b[0;34m(\u001b[0m\u001b[0;36m1\u001b[0m\u001b[0;34m)\u001b[0m\u001b[0;34m)\u001b[0m\u001b[0;34m.\u001b[0m\u001b[0mview\u001b[0m\u001b[0;34m(\u001b[0m\u001b[0mbatch_size\u001b[0m\u001b[0;34m,\u001b[0m \u001b[0;34m-\u001b[0m\u001b[0;36m1\u001b[0m\u001b[0;34m)\u001b[0m  \u001b[0;31m# (b,1,18,100)->conv(b,1,1,98)->pool(b,1,1,33)->(b,33)\u001b[0m\u001b[0;34m\u001b[0m\u001b[0;34m\u001b[0m\u001b[0m\n",
      "\u001b[0m\u001b[0;32m     49 \u001b[0;31m        \u001b[0mx_coll\u001b[0m \u001b[0;34m=\u001b[0m \u001b[0mself\u001b[0m\u001b[0;34m.\u001b[0m\u001b[0membedding_layer1\u001b[0m\u001b[0;34m(\u001b[0m\u001b[0mx\u001b[0m\u001b[0;34m[\u001b[0m\u001b[0;34m'collname'\u001b[0m\u001b[0;34m]\u001b[0m\u001b[0;34m)\u001b[0m\u001b[0;34m\u001b[0m\u001b[0;34m\u001b[0m\u001b[0m\n",
      "\u001b[0m\u001b[0;32m     50 \u001b[0;31m        \u001b[0mx_phone\u001b[0m \u001b[0;34m=\u001b[0m \u001b[0mself\u001b[0m\u001b[0;34m.\u001b[0m\u001b[0membedding_layer2\u001b[0m\u001b[0;34m(\u001b[0m\u001b[0mx\u001b[0m\u001b[0;34m[\u001b[0m\u001b[0;34m'phonename'\u001b[0m\u001b[0;34m]\u001b[0m\u001b[0;34m)\u001b[0m\u001b[0;34m\u001b[0m\u001b[0;34m\u001b[0m\u001b[0m\n",
      "\u001b[0m\n",
      "tensor([[[ 3.2856e-01,  6.3253e-02,  2.1212e-01,  ...,  5.4741e-01,\n",
      "           2.5643e-01, -6.0086e-02],\n",
      "         [ 9.7682e+00,  9.9411e+00,  9.6052e+00,  ...,  9.3687e+00,\n",
      "           9.7205e+00,  1.0036e+01],\n",
      "         [ 1.0060e+00,  9.6472e-01,  1.4094e+00,  ...,  1.3401e+00,\n",
      "           1.1549e+00,  8.5759e-01],\n",
      "         ...,\n",
      "         [ 3.5297e-03, -6.0742e-03, -3.6408e-03,  ..., -4.8542e-03,\n",
      "           1.2408e-03, -7.4166e-04],\n",
      "         [-4.7273e-03,  5.3042e-03,  4.0499e-03,  ..., -8.7011e-05,\n",
      "           6.0113e-03,  2.6356e-03],\n",
      "         [-2.6694e-02, -7.3019e-03,  8.7640e-03,  ..., -4.6467e-03,\n",
      "          -3.0105e-02, -2.0775e-02]],\n",
      "\n",
      "        [[ 9.7918e-02,  4.3904e-01,  3.5807e-01,  ...,  1.7867e-01,\n",
      "           6.9417e-02,  3.5295e-01],\n",
      "         [ 9.6840e+00,  9.3734e+00,  9.7173e+00,  ...,  9.9555e+00,\n",
      "           9.9227e+00,  9.4150e+00],\n",
      "         [ 1.3039e+00,  1.3136e+00,  1.2419e+00,  ...,  1.1885e+00,\n",
      "           9.4190e-01,  1.2810e+00],\n",
      "         ...,\n",
      "         [-7.8690e-03, -1.0488e-03,  2.2268e-03,  ...,  4.7023e-03,\n",
      "          -7.9564e-03, -6.0361e-03],\n",
      "         [ 1.9947e-03, -5.3178e-03, -1.2448e-02,  ...,  3.9291e-03,\n",
      "          -2.5204e-03,  6.5280e-03],\n",
      "         [ 1.3398e-02,  1.4246e-02, -4.3190e-03,  ..., -2.0949e-02,\n",
      "          -5.2161e-03,  8.4646e-03]],\n",
      "\n",
      "        [[-2.6657e-01, -2.1695e-02,  4.1003e-01,  ...,  9.3867e-02,\n",
      "           3.7368e-01,  3.5405e-01],\n",
      "         [ 9.2364e+00,  9.7836e+00,  1.0122e+01,  ...,  9.8979e+00,\n",
      "           9.3631e+00,  9.5204e+00],\n",
      "         [ 1.2773e+00,  1.0763e+00,  9.7829e-01,  ...,  9.7634e-01,\n",
      "           1.3807e+00,  1.3530e+00],\n",
      "         ...,\n",
      "         [-4.1196e-04,  4.2967e-03,  9.8552e-04,  ..., -5.4584e-03,\n",
      "          -1.0337e-02,  4.7217e-03],\n",
      "         [-1.2234e-02, -2.7652e-02, -1.7981e-02,  ...,  8.7151e-03,\n",
      "           1.0634e-03, -2.4277e-03],\n",
      "         [ 3.8801e-02,  6.5148e-02,  7.4894e-02,  ..., -1.4474e-02,\n",
      "           5.2381e-03, -1.2346e-02]],\n",
      "\n",
      "        ...,\n",
      "\n",
      "        [[-1.1053e+00, -1.1608e+00, -9.9931e-01,  ..., -8.5291e-01,\n",
      "          -3.1528e-01, -1.3354e+00],\n",
      "         [-8.9244e-01, -3.9609e-01, -5.8249e-01,  ..., -4.5026e-01,\n",
      "          -5.8948e-01, -5.5113e-01],\n",
      "         [-9.7448e+00, -9.7818e+00, -9.8418e+00,  ..., -8.2808e+00,\n",
      "          -9.1842e+00, -8.8174e+00],\n",
      "         ...,\n",
      "         [ 6.0461e-03, -1.8058e-02, -3.9709e-02,  ...,  5.1022e-02,\n",
      "           3.2310e-02,  4.1829e-02],\n",
      "         [-3.9924e-02,  2.0287e-02, -4.1245e-02,  ..., -7.0274e-02,\n",
      "          -4.2955e-02, -6.5413e-02],\n",
      "         [ 6.4144e-03,  6.1681e-03,  7.9759e-03,  ...,  2.7049e-03,\n",
      "          -4.4825e-04,  6.9994e-03]],\n",
      "\n",
      "        [[-1.4375e+00, -1.2050e+00, -7.3558e-01,  ..., -7.5011e-01,\n",
      "          -1.1809e+00, -8.0765e-01],\n",
      "         [-7.4397e-01, -7.6829e-01, -5.4765e-01,  ..., -5.3352e-01,\n",
      "          -1.3677e+00, -9.0480e-01],\n",
      "         [-1.0023e+01, -1.0578e+01, -1.0304e+01,  ..., -1.0481e+01,\n",
      "          -9.6792e+00, -1.0300e+01],\n",
      "         ...,\n",
      "         [-6.5466e-03, -3.7517e-02, -8.5449e-03,  ..., -3.7159e-02,\n",
      "           1.9110e-02,  2.0448e-02],\n",
      "         [ 7.0411e-03,  9.0356e-02,  2.2762e-02,  ...,  3.0437e-03,\n",
      "          -9.5562e-02, -1.9989e-02],\n",
      "         [ 8.9246e-03,  8.0338e-03,  3.6015e-03,  ...,  1.0146e-02,\n",
      "           6.2653e-05, -2.8938e-03]],\n",
      "\n",
      "        [[-4.4888e-01, -4.1110e-01, -7.6800e-01,  ..., -1.0764e+00,\n",
      "          -9.6976e-01, -8.9340e-01],\n",
      "         [-1.2850e+00, -6.7985e-01, -6.6274e-01,  ..., -5.7965e-01,\n",
      "          -1.0747e+00, -2.5808e-01],\n",
      "         [-9.6124e+00, -1.0033e+01, -9.8884e+00,  ..., -1.0359e+01,\n",
      "          -8.6937e+00, -1.0379e+01],\n",
      "         ...,\n",
      "         [ 1.2351e-02, -2.9947e-02, -4.1296e-02,  ..., -1.9315e-02,\n",
      "           4.3071e-02, -4.1789e-03],\n",
      "         [ 5.5172e-03,  4.5735e-02, -1.4849e-02,  ..., -2.2536e-02,\n",
      "           1.7913e-02,  8.2690e-02],\n",
      "         [-1.7610e-02, -8.1328e-03, -5.1637e-03,  ..., -2.8896e-03,\n",
      "          -8.6205e-03, -7.3536e-03]]], device='cuda:0')\n"
     ]
    },
    {
     "ename": "BdbQuit",
     "evalue": "",
     "output_type": "error",
     "traceback": [
      "\u001b[0;31m---------------------------------------------------------------------------\u001b[0m",
      "\u001b[0;31mBdbQuit\u001b[0m                                   Traceback (most recent call last)",
      "\u001b[0;32m<ipython-input-35-bdae4b405bf5>\u001b[0m in \u001b[0;36m<module>\u001b[0;34m\u001b[0m\n\u001b[1;32m     82\u001b[0m             )\n\u001b[1;32m     83\u001b[0m \u001b[0;34m\u001b[0m\u001b[0m\n\u001b[0;32m---> 84\u001b[0;31m         \u001b[0mtrainer\u001b[0m\u001b[0;34m.\u001b[0m\u001b[0mfit\u001b[0m\u001b[0;34m(\u001b[0m\u001b[0mlearner\u001b[0m\u001b[0;34m,\u001b[0m \u001b[0mtrain_dataloader\u001b[0m\u001b[0;34m=\u001b[0m\u001b[0mloaders\u001b[0m\u001b[0;34m[\u001b[0m\u001b[0;34m'train'\u001b[0m\u001b[0;34m]\u001b[0m\u001b[0;34m,\u001b[0m \u001b[0mval_dataloaders\u001b[0m\u001b[0;34m=\u001b[0m\u001b[0mloaders\u001b[0m\u001b[0;34m[\u001b[0m\u001b[0;34m'valid'\u001b[0m\u001b[0;34m]\u001b[0m\u001b[0;34m)\u001b[0m\u001b[0;34m\u001b[0m\u001b[0;34m\u001b[0m\u001b[0m\n\u001b[0m\u001b[1;32m     85\u001b[0m \u001b[0;34m\u001b[0m\u001b[0m\n\u001b[1;32m     86\u001b[0m     \u001b[0;31m#############\u001b[0m\u001b[0;34m\u001b[0m\u001b[0;34m\u001b[0m\u001b[0;34m\u001b[0m\u001b[0m\n",
      "\u001b[0;32m/usr/local/lib/python3.8/dist-packages/pytorch_lightning/trainer/trainer.py\u001b[0m in \u001b[0;36mfit\u001b[0;34m(self, model, train_dataloader, val_dataloaders, datamodule)\u001b[0m\n\u001b[1;32m    512\u001b[0m \u001b[0;34m\u001b[0m\u001b[0m\n\u001b[1;32m    513\u001b[0m         \u001b[0;31m# dispath `start_training` or `start_testing` or `start_predicting`\u001b[0m\u001b[0;34m\u001b[0m\u001b[0;34m\u001b[0m\u001b[0;34m\u001b[0m\u001b[0m\n\u001b[0;32m--> 514\u001b[0;31m         \u001b[0mself\u001b[0m\u001b[0;34m.\u001b[0m\u001b[0mdispatch\u001b[0m\u001b[0;34m(\u001b[0m\u001b[0;34m)\u001b[0m\u001b[0;34m\u001b[0m\u001b[0;34m\u001b[0m\u001b[0m\n\u001b[0m\u001b[1;32m    515\u001b[0m \u001b[0;34m\u001b[0m\u001b[0m\n\u001b[1;32m    516\u001b[0m         \u001b[0;31m# plugin will finalized fitting (e.g. ddp_spawn will load trained model)\u001b[0m\u001b[0;34m\u001b[0m\u001b[0;34m\u001b[0m\u001b[0;34m\u001b[0m\u001b[0m\n",
      "\u001b[0;32m/usr/local/lib/python3.8/dist-packages/pytorch_lightning/trainer/trainer.py\u001b[0m in \u001b[0;36mdispatch\u001b[0;34m(self)\u001b[0m\n\u001b[1;32m    552\u001b[0m \u001b[0;34m\u001b[0m\u001b[0m\n\u001b[1;32m    553\u001b[0m         \u001b[0;32melse\u001b[0m\u001b[0;34m:\u001b[0m\u001b[0;34m\u001b[0m\u001b[0;34m\u001b[0m\u001b[0m\n\u001b[0;32m--> 554\u001b[0;31m             \u001b[0mself\u001b[0m\u001b[0;34m.\u001b[0m\u001b[0maccelerator\u001b[0m\u001b[0;34m.\u001b[0m\u001b[0mstart_training\u001b[0m\u001b[0;34m(\u001b[0m\u001b[0mself\u001b[0m\u001b[0;34m)\u001b[0m\u001b[0;34m\u001b[0m\u001b[0;34m\u001b[0m\u001b[0m\n\u001b[0m\u001b[1;32m    555\u001b[0m \u001b[0;34m\u001b[0m\u001b[0m\n\u001b[1;32m    556\u001b[0m     \u001b[0;32mdef\u001b[0m \u001b[0mtrain_or_test_or_predict\u001b[0m\u001b[0;34m(\u001b[0m\u001b[0mself\u001b[0m\u001b[0;34m)\u001b[0m\u001b[0;34m:\u001b[0m\u001b[0;34m\u001b[0m\u001b[0;34m\u001b[0m\u001b[0m\n",
      "\u001b[0;32m/usr/local/lib/python3.8/dist-packages/pytorch_lightning/accelerators/accelerator.py\u001b[0m in \u001b[0;36mstart_training\u001b[0;34m(self, trainer)\u001b[0m\n\u001b[1;32m     72\u001b[0m \u001b[0;34m\u001b[0m\u001b[0m\n\u001b[1;32m     73\u001b[0m     \u001b[0;32mdef\u001b[0m \u001b[0mstart_training\u001b[0m\u001b[0;34m(\u001b[0m\u001b[0mself\u001b[0m\u001b[0;34m,\u001b[0m \u001b[0mtrainer\u001b[0m\u001b[0;34m)\u001b[0m\u001b[0;34m:\u001b[0m\u001b[0;34m\u001b[0m\u001b[0;34m\u001b[0m\u001b[0m\n\u001b[0;32m---> 74\u001b[0;31m         \u001b[0mself\u001b[0m\u001b[0;34m.\u001b[0m\u001b[0mtraining_type_plugin\u001b[0m\u001b[0;34m.\u001b[0m\u001b[0mstart_training\u001b[0m\u001b[0;34m(\u001b[0m\u001b[0mtrainer\u001b[0m\u001b[0;34m)\u001b[0m\u001b[0;34m\u001b[0m\u001b[0;34m\u001b[0m\u001b[0m\n\u001b[0m\u001b[1;32m     75\u001b[0m \u001b[0;34m\u001b[0m\u001b[0m\n\u001b[1;32m     76\u001b[0m     \u001b[0;32mdef\u001b[0m \u001b[0mstart_testing\u001b[0m\u001b[0;34m(\u001b[0m\u001b[0mself\u001b[0m\u001b[0;34m,\u001b[0m \u001b[0mtrainer\u001b[0m\u001b[0;34m)\u001b[0m\u001b[0;34m:\u001b[0m\u001b[0;34m\u001b[0m\u001b[0;34m\u001b[0m\u001b[0m\n",
      "\u001b[0;32m/usr/local/lib/python3.8/dist-packages/pytorch_lightning/plugins/training_type/training_type_plugin.py\u001b[0m in \u001b[0;36mstart_training\u001b[0;34m(self, trainer)\u001b[0m\n\u001b[1;32m    109\u001b[0m     \u001b[0;32mdef\u001b[0m \u001b[0mstart_training\u001b[0m\u001b[0;34m(\u001b[0m\u001b[0mself\u001b[0m\u001b[0;34m,\u001b[0m \u001b[0mtrainer\u001b[0m\u001b[0;34m:\u001b[0m \u001b[0;34m'Trainer'\u001b[0m\u001b[0;34m)\u001b[0m \u001b[0;34m->\u001b[0m \u001b[0;32mNone\u001b[0m\u001b[0;34m:\u001b[0m\u001b[0;34m\u001b[0m\u001b[0;34m\u001b[0m\u001b[0m\n\u001b[1;32m    110\u001b[0m         \u001b[0;31m# double dispatch to initiate the training loop\u001b[0m\u001b[0;34m\u001b[0m\u001b[0;34m\u001b[0m\u001b[0;34m\u001b[0m\u001b[0m\n\u001b[0;32m--> 111\u001b[0;31m         \u001b[0mself\u001b[0m\u001b[0;34m.\u001b[0m\u001b[0m_results\u001b[0m \u001b[0;34m=\u001b[0m \u001b[0mtrainer\u001b[0m\u001b[0;34m.\u001b[0m\u001b[0mrun_train\u001b[0m\u001b[0;34m(\u001b[0m\u001b[0;34m)\u001b[0m\u001b[0;34m\u001b[0m\u001b[0;34m\u001b[0m\u001b[0m\n\u001b[0m\u001b[1;32m    112\u001b[0m \u001b[0;34m\u001b[0m\u001b[0m\n\u001b[1;32m    113\u001b[0m     \u001b[0;32mdef\u001b[0m \u001b[0mstart_testing\u001b[0m\u001b[0;34m(\u001b[0m\u001b[0mself\u001b[0m\u001b[0;34m,\u001b[0m \u001b[0mtrainer\u001b[0m\u001b[0;34m:\u001b[0m \u001b[0;34m'Trainer'\u001b[0m\u001b[0;34m)\u001b[0m \u001b[0;34m->\u001b[0m \u001b[0;32mNone\u001b[0m\u001b[0;34m:\u001b[0m\u001b[0;34m\u001b[0m\u001b[0;34m\u001b[0m\u001b[0m\n",
      "\u001b[0;32m/usr/local/lib/python3.8/dist-packages/pytorch_lightning/trainer/trainer.py\u001b[0m in \u001b[0;36mrun_train\u001b[0;34m(self)\u001b[0m\n\u001b[1;32m    613\u001b[0m             \u001b[0mself\u001b[0m\u001b[0;34m.\u001b[0m\u001b[0mprogress_bar_callback\u001b[0m\u001b[0;34m.\u001b[0m\u001b[0mdisable\u001b[0m\u001b[0;34m(\u001b[0m\u001b[0;34m)\u001b[0m\u001b[0;34m\u001b[0m\u001b[0;34m\u001b[0m\u001b[0m\n\u001b[1;32m    614\u001b[0m \u001b[0;34m\u001b[0m\u001b[0m\n\u001b[0;32m--> 615\u001b[0;31m         \u001b[0mself\u001b[0m\u001b[0;34m.\u001b[0m\u001b[0mrun_sanity_check\u001b[0m\u001b[0;34m(\u001b[0m\u001b[0mself\u001b[0m\u001b[0;34m.\u001b[0m\u001b[0mlightning_module\u001b[0m\u001b[0;34m)\u001b[0m\u001b[0;34m\u001b[0m\u001b[0;34m\u001b[0m\u001b[0m\n\u001b[0m\u001b[1;32m    616\u001b[0m \u001b[0;34m\u001b[0m\u001b[0m\n\u001b[1;32m    617\u001b[0m         \u001b[0;31m# set stage for logging\u001b[0m\u001b[0;34m\u001b[0m\u001b[0;34m\u001b[0m\u001b[0;34m\u001b[0m\u001b[0m\n",
      "\u001b[0;32m/usr/local/lib/python3.8/dist-packages/pytorch_lightning/trainer/trainer.py\u001b[0m in \u001b[0;36mrun_sanity_check\u001b[0;34m(self, ref_model)\u001b[0m\n\u001b[1;32m    862\u001b[0m \u001b[0;34m\u001b[0m\u001b[0m\n\u001b[1;32m    863\u001b[0m             \u001b[0;31m# run eval step\u001b[0m\u001b[0;34m\u001b[0m\u001b[0;34m\u001b[0m\u001b[0;34m\u001b[0m\u001b[0m\n\u001b[0;32m--> 864\u001b[0;31m             \u001b[0m_\u001b[0m\u001b[0;34m,\u001b[0m \u001b[0meval_results\u001b[0m \u001b[0;34m=\u001b[0m \u001b[0mself\u001b[0m\u001b[0;34m.\u001b[0m\u001b[0mrun_evaluation\u001b[0m\u001b[0;34m(\u001b[0m\u001b[0mmax_batches\u001b[0m\u001b[0;34m=\u001b[0m\u001b[0mself\u001b[0m\u001b[0;34m.\u001b[0m\u001b[0mnum_sanity_val_batches\u001b[0m\u001b[0;34m)\u001b[0m\u001b[0;34m\u001b[0m\u001b[0;34m\u001b[0m\u001b[0m\n\u001b[0m\u001b[1;32m    865\u001b[0m \u001b[0;34m\u001b[0m\u001b[0m\n\u001b[1;32m    866\u001b[0m             \u001b[0;31m# allow no returns from eval\u001b[0m\u001b[0;34m\u001b[0m\u001b[0;34m\u001b[0m\u001b[0;34m\u001b[0m\u001b[0m\n",
      "\u001b[0;32m/usr/local/lib/python3.8/dist-packages/pytorch_lightning/trainer/trainer.py\u001b[0m in \u001b[0;36mrun_evaluation\u001b[0;34m(self, max_batches, on_epoch)\u001b[0m\n\u001b[1;32m    731\u001b[0m                 \u001b[0;31m# lightning module methods\u001b[0m\u001b[0;34m\u001b[0m\u001b[0;34m\u001b[0m\u001b[0;34m\u001b[0m\u001b[0m\n\u001b[1;32m    732\u001b[0m                 \u001b[0;32mwith\u001b[0m \u001b[0mself\u001b[0m\u001b[0;34m.\u001b[0m\u001b[0mprofiler\u001b[0m\u001b[0;34m.\u001b[0m\u001b[0mprofile\u001b[0m\u001b[0;34m(\u001b[0m\u001b[0;34m\"evaluation_step_and_end\"\u001b[0m\u001b[0;34m)\u001b[0m\u001b[0;34m:\u001b[0m\u001b[0;34m\u001b[0m\u001b[0;34m\u001b[0m\u001b[0m\n\u001b[0;32m--> 733\u001b[0;31m                     \u001b[0moutput\u001b[0m \u001b[0;34m=\u001b[0m \u001b[0mself\u001b[0m\u001b[0;34m.\u001b[0m\u001b[0mevaluation_loop\u001b[0m\u001b[0;34m.\u001b[0m\u001b[0mevaluation_step\u001b[0m\u001b[0;34m(\u001b[0m\u001b[0mbatch\u001b[0m\u001b[0;34m,\u001b[0m \u001b[0mbatch_idx\u001b[0m\u001b[0;34m,\u001b[0m \u001b[0mdataloader_idx\u001b[0m\u001b[0;34m)\u001b[0m\u001b[0;34m\u001b[0m\u001b[0;34m\u001b[0m\u001b[0m\n\u001b[0m\u001b[1;32m    734\u001b[0m                     \u001b[0moutput\u001b[0m \u001b[0;34m=\u001b[0m \u001b[0mself\u001b[0m\u001b[0;34m.\u001b[0m\u001b[0mevaluation_loop\u001b[0m\u001b[0;34m.\u001b[0m\u001b[0mevaluation_step_end\u001b[0m\u001b[0;34m(\u001b[0m\u001b[0moutput\u001b[0m\u001b[0;34m)\u001b[0m\u001b[0;34m\u001b[0m\u001b[0;34m\u001b[0m\u001b[0m\n\u001b[1;32m    735\u001b[0m \u001b[0;34m\u001b[0m\u001b[0m\n",
      "\u001b[0;32m/usr/local/lib/python3.8/dist-packages/pytorch_lightning/trainer/evaluation_loop.py\u001b[0m in \u001b[0;36mevaluation_step\u001b[0;34m(self, batch, batch_idx, dataloader_idx)\u001b[0m\n\u001b[1;32m    162\u001b[0m             \u001b[0mmodel_ref\u001b[0m\u001b[0;34m.\u001b[0m\u001b[0m_current_fx_name\u001b[0m \u001b[0;34m=\u001b[0m \u001b[0;34m\"validation_step\"\u001b[0m\u001b[0;34m\u001b[0m\u001b[0;34m\u001b[0m\u001b[0m\n\u001b[1;32m    163\u001b[0m             \u001b[0;32mwith\u001b[0m \u001b[0mself\u001b[0m\u001b[0;34m.\u001b[0m\u001b[0mtrainer\u001b[0m\u001b[0;34m.\u001b[0m\u001b[0mprofiler\u001b[0m\u001b[0;34m.\u001b[0m\u001b[0mprofile\u001b[0m\u001b[0;34m(\u001b[0m\u001b[0;34m\"validation_step\"\u001b[0m\u001b[0;34m)\u001b[0m\u001b[0;34m:\u001b[0m\u001b[0;34m\u001b[0m\u001b[0;34m\u001b[0m\u001b[0m\n\u001b[0;32m--> 164\u001b[0;31m                 \u001b[0moutput\u001b[0m \u001b[0;34m=\u001b[0m \u001b[0mself\u001b[0m\u001b[0;34m.\u001b[0m\u001b[0mtrainer\u001b[0m\u001b[0;34m.\u001b[0m\u001b[0maccelerator\u001b[0m\u001b[0;34m.\u001b[0m\u001b[0mvalidation_step\u001b[0m\u001b[0;34m(\u001b[0m\u001b[0margs\u001b[0m\u001b[0;34m)\u001b[0m\u001b[0;34m\u001b[0m\u001b[0;34m\u001b[0m\u001b[0m\n\u001b[0m\u001b[1;32m    165\u001b[0m \u001b[0;34m\u001b[0m\u001b[0m\n\u001b[1;32m    166\u001b[0m         \u001b[0;31m# capture any logged information\u001b[0m\u001b[0;34m\u001b[0m\u001b[0;34m\u001b[0m\u001b[0;34m\u001b[0m\u001b[0m\n",
      "\u001b[0;32m/usr/local/lib/python3.8/dist-packages/pytorch_lightning/accelerators/accelerator.py\u001b[0m in \u001b[0;36mvalidation_step\u001b[0;34m(self, args)\u001b[0m\n\u001b[1;32m    176\u001b[0m \u001b[0;34m\u001b[0m\u001b[0m\n\u001b[1;32m    177\u001b[0m         \u001b[0;32mwith\u001b[0m \u001b[0mself\u001b[0m\u001b[0;34m.\u001b[0m\u001b[0mprecision_plugin\u001b[0m\u001b[0;34m.\u001b[0m\u001b[0mval_step_context\u001b[0m\u001b[0;34m(\u001b[0m\u001b[0;34m)\u001b[0m\u001b[0;34m,\u001b[0m \u001b[0mself\u001b[0m\u001b[0;34m.\u001b[0m\u001b[0mtraining_type_plugin\u001b[0m\u001b[0;34m.\u001b[0m\u001b[0mval_step_context\u001b[0m\u001b[0;34m(\u001b[0m\u001b[0;34m)\u001b[0m\u001b[0;34m:\u001b[0m\u001b[0;34m\u001b[0m\u001b[0;34m\u001b[0m\u001b[0m\n\u001b[0;32m--> 178\u001b[0;31m             \u001b[0;32mreturn\u001b[0m \u001b[0mself\u001b[0m\u001b[0;34m.\u001b[0m\u001b[0mtraining_type_plugin\u001b[0m\u001b[0;34m.\u001b[0m\u001b[0mvalidation_step\u001b[0m\u001b[0;34m(\u001b[0m\u001b[0;34m*\u001b[0m\u001b[0margs\u001b[0m\u001b[0;34m)\u001b[0m\u001b[0;34m\u001b[0m\u001b[0;34m\u001b[0m\u001b[0m\n\u001b[0m\u001b[1;32m    179\u001b[0m \u001b[0;34m\u001b[0m\u001b[0m\n\u001b[1;32m    180\u001b[0m     \u001b[0;32mdef\u001b[0m \u001b[0mtest_step\u001b[0m\u001b[0;34m(\u001b[0m\u001b[0mself\u001b[0m\u001b[0;34m,\u001b[0m \u001b[0margs\u001b[0m\u001b[0;34m)\u001b[0m\u001b[0;34m:\u001b[0m\u001b[0;34m\u001b[0m\u001b[0;34m\u001b[0m\u001b[0m\n",
      "\u001b[0;32m/usr/local/lib/python3.8/dist-packages/pytorch_lightning/plugins/training_type/training_type_plugin.py\u001b[0m in \u001b[0;36mvalidation_step\u001b[0;34m(self, *args, **kwargs)\u001b[0m\n\u001b[1;32m    126\u001b[0m \u001b[0;34m\u001b[0m\u001b[0m\n\u001b[1;32m    127\u001b[0m     \u001b[0;32mdef\u001b[0m \u001b[0mvalidation_step\u001b[0m\u001b[0;34m(\u001b[0m\u001b[0mself\u001b[0m\u001b[0;34m,\u001b[0m \u001b[0;34m*\u001b[0m\u001b[0margs\u001b[0m\u001b[0;34m,\u001b[0m \u001b[0;34m**\u001b[0m\u001b[0mkwargs\u001b[0m\u001b[0;34m)\u001b[0m\u001b[0;34m:\u001b[0m\u001b[0;34m\u001b[0m\u001b[0;34m\u001b[0m\u001b[0m\n\u001b[0;32m--> 128\u001b[0;31m         \u001b[0;32mreturn\u001b[0m \u001b[0mself\u001b[0m\u001b[0;34m.\u001b[0m\u001b[0mlightning_module\u001b[0m\u001b[0;34m.\u001b[0m\u001b[0mvalidation_step\u001b[0m\u001b[0;34m(\u001b[0m\u001b[0;34m*\u001b[0m\u001b[0margs\u001b[0m\u001b[0;34m,\u001b[0m \u001b[0;34m**\u001b[0m\u001b[0mkwargs\u001b[0m\u001b[0;34m)\u001b[0m\u001b[0;34m\u001b[0m\u001b[0;34m\u001b[0m\u001b[0m\n\u001b[0m\u001b[1;32m    129\u001b[0m \u001b[0;34m\u001b[0m\u001b[0m\n\u001b[1;32m    130\u001b[0m     \u001b[0;32mdef\u001b[0m \u001b[0mtest_step\u001b[0m\u001b[0;34m(\u001b[0m\u001b[0mself\u001b[0m\u001b[0;34m,\u001b[0m \u001b[0;34m*\u001b[0m\u001b[0margs\u001b[0m\u001b[0;34m,\u001b[0m \u001b[0;34m**\u001b[0m\u001b[0mkwargs\u001b[0m\u001b[0;34m)\u001b[0m\u001b[0;34m:\u001b[0m\u001b[0;34m\u001b[0m\u001b[0;34m\u001b[0m\u001b[0m\n",
      "\u001b[0;32m<ipython-input-22-ac63a2ec8269>\u001b[0m in \u001b[0;36mvalidation_step\u001b[0;34m(self, batch, batch_idx)\u001b[0m\n\u001b[1;32m     20\u001b[0m     \u001b[0;32mdef\u001b[0m \u001b[0mvalidation_step\u001b[0m\u001b[0;34m(\u001b[0m\u001b[0mself\u001b[0m\u001b[0;34m,\u001b[0m \u001b[0mbatch\u001b[0m\u001b[0;34m,\u001b[0m \u001b[0mbatch_idx\u001b[0m\u001b[0;34m)\u001b[0m\u001b[0;34m:\u001b[0m\u001b[0;34m\u001b[0m\u001b[0;34m\u001b[0m\u001b[0m\n\u001b[1;32m     21\u001b[0m         \u001b[0mx\u001b[0m\u001b[0;34m,\u001b[0m \u001b[0mtarget\u001b[0m \u001b[0;34m=\u001b[0m \u001b[0mbatch\u001b[0m\u001b[0;34m\u001b[0m\u001b[0;34m\u001b[0m\u001b[0m\n\u001b[0;32m---> 22\u001b[0;31m         \u001b[0moutput\u001b[0m \u001b[0;34m=\u001b[0m \u001b[0mself\u001b[0m\u001b[0;34m.\u001b[0m\u001b[0mmodel\u001b[0m\u001b[0;34m(\u001b[0m\u001b[0mx\u001b[0m\u001b[0;34m)\u001b[0m\u001b[0;34m\u001b[0m\u001b[0;34m\u001b[0m\u001b[0m\n\u001b[0m\u001b[1;32m     23\u001b[0m         \u001b[0mdelta_loss\u001b[0m \u001b[0;34m=\u001b[0m \u001b[0mself\u001b[0m\u001b[0;34m.\u001b[0m\u001b[0mdelta_criterion\u001b[0m\u001b[0;34m(\u001b[0m\u001b[0moutput\u001b[0m\u001b[0;34m[\u001b[0m\u001b[0;34m:\u001b[0m\u001b[0;34m,\u001b[0m \u001b[0;34m[\u001b[0m\u001b[0;36m0\u001b[0m\u001b[0;34m,\u001b[0m\u001b[0;36m1\u001b[0m\u001b[0;34m]\u001b[0m\u001b[0;34m]\u001b[0m\u001b[0;34m,\u001b[0m \u001b[0mtarget\u001b[0m\u001b[0;34m[\u001b[0m\u001b[0;34m:\u001b[0m\u001b[0;34m,\u001b[0m \u001b[0;34m[\u001b[0m\u001b[0;36m0\u001b[0m\u001b[0;34m,\u001b[0m\u001b[0;36m1\u001b[0m\u001b[0;34m]\u001b[0m\u001b[0;34m]\u001b[0m\u001b[0;34m)\u001b[0m\u001b[0;34m\u001b[0m\u001b[0;34m\u001b[0m\u001b[0m\n\u001b[1;32m     24\u001b[0m         \u001b[0mdist_loss\u001b[0m \u001b[0;34m=\u001b[0m \u001b[0mself\u001b[0m\u001b[0;34m.\u001b[0m\u001b[0mdist_criterion\u001b[0m\u001b[0;34m(\u001b[0m\u001b[0moutput\u001b[0m\u001b[0;34m[\u001b[0m\u001b[0;34m:\u001b[0m\u001b[0;34m,\u001b[0m \u001b[0;36m2\u001b[0m\u001b[0;34m]\u001b[0m\u001b[0;34m,\u001b[0m \u001b[0mtarget\u001b[0m\u001b[0;34m[\u001b[0m\u001b[0;34m:\u001b[0m\u001b[0;34m,\u001b[0m \u001b[0;36m2\u001b[0m\u001b[0;34m]\u001b[0m\u001b[0;34m)\u001b[0m\u001b[0;34m\u001b[0m\u001b[0;34m\u001b[0m\u001b[0m\n",
      "\u001b[0;32m/usr/local/lib/python3.8/dist-packages/torch/nn/modules/module.py\u001b[0m in \u001b[0;36m_call_impl\u001b[0;34m(self, *input, **kwargs)\u001b[0m\n\u001b[1;32m    725\u001b[0m             \u001b[0mresult\u001b[0m \u001b[0;34m=\u001b[0m \u001b[0mself\u001b[0m\u001b[0;34m.\u001b[0m\u001b[0m_slow_forward\u001b[0m\u001b[0;34m(\u001b[0m\u001b[0;34m*\u001b[0m\u001b[0minput\u001b[0m\u001b[0;34m,\u001b[0m \u001b[0;34m**\u001b[0m\u001b[0mkwargs\u001b[0m\u001b[0;34m)\u001b[0m\u001b[0;34m\u001b[0m\u001b[0;34m\u001b[0m\u001b[0m\n\u001b[1;32m    726\u001b[0m         \u001b[0;32melse\u001b[0m\u001b[0;34m:\u001b[0m\u001b[0;34m\u001b[0m\u001b[0;34m\u001b[0m\u001b[0m\n\u001b[0;32m--> 727\u001b[0;31m             \u001b[0mresult\u001b[0m \u001b[0;34m=\u001b[0m \u001b[0mself\u001b[0m\u001b[0;34m.\u001b[0m\u001b[0mforward\u001b[0m\u001b[0;34m(\u001b[0m\u001b[0;34m*\u001b[0m\u001b[0minput\u001b[0m\u001b[0;34m,\u001b[0m \u001b[0;34m**\u001b[0m\u001b[0mkwargs\u001b[0m\u001b[0;34m)\u001b[0m\u001b[0;34m\u001b[0m\u001b[0;34m\u001b[0m\u001b[0m\n\u001b[0m\u001b[1;32m    728\u001b[0m         for hook in itertools.chain(\n\u001b[1;32m    729\u001b[0m                 \u001b[0m_global_forward_hooks\u001b[0m\u001b[0;34m.\u001b[0m\u001b[0mvalues\u001b[0m\u001b[0;34m(\u001b[0m\u001b[0;34m)\u001b[0m\u001b[0;34m,\u001b[0m\u001b[0;34m\u001b[0m\u001b[0;34m\u001b[0m\u001b[0m\n",
      "\u001b[0;32m<ipython-input-33-b195378791a1>\u001b[0m in \u001b[0;36mforward\u001b[0;34m(self, x)\u001b[0m\n\u001b[1;32m     46\u001b[0m         \u001b[0mbatch_size\u001b[0m \u001b[0;34m=\u001b[0m \u001b[0mx\u001b[0m\u001b[0;34m[\u001b[0m\u001b[0;34m\"collname\"\u001b[0m\u001b[0;34m]\u001b[0m\u001b[0;34m.\u001b[0m\u001b[0mshape\u001b[0m\u001b[0;34m[\u001b[0m\u001b[0;36m0\u001b[0m\u001b[0;34m]\u001b[0m\u001b[0;34m\u001b[0m\u001b[0;34m\u001b[0m\u001b[0m\n\u001b[1;32m     47\u001b[0m         \u001b[0;32mfrom\u001b[0m \u001b[0mIPython\u001b[0m\u001b[0;34m.\u001b[0m\u001b[0mcore\u001b[0m\u001b[0;34m.\u001b[0m\u001b[0mdebugger\u001b[0m \u001b[0;32mimport\u001b[0m \u001b[0mPdb\u001b[0m\u001b[0;34m;\u001b[0m \u001b[0mPdb\u001b[0m\u001b[0;34m(\u001b[0m\u001b[0;34m)\u001b[0m\u001b[0;34m.\u001b[0m\u001b[0mset_trace\u001b[0m\u001b[0;34m(\u001b[0m\u001b[0;34m)\u001b[0m\u001b[0;34m\u001b[0m\u001b[0;34m\u001b[0m\u001b[0m\n\u001b[0;32m---> 48\u001b[0;31m         \u001b[0mx_imu\u001b[0m \u001b[0;34m=\u001b[0m \u001b[0mself\u001b[0m\u001b[0;34m.\u001b[0m\u001b[0mcnn_layer\u001b[0m\u001b[0;34m(\u001b[0m\u001b[0mx\u001b[0m\u001b[0;34m[\u001b[0m\u001b[0;34m'imu'\u001b[0m\u001b[0;34m]\u001b[0m\u001b[0;34m.\u001b[0m\u001b[0munsqueeze\u001b[0m\u001b[0;34m(\u001b[0m\u001b[0;36m1\u001b[0m\u001b[0;34m)\u001b[0m\u001b[0;34m)\u001b[0m\u001b[0;34m.\u001b[0m\u001b[0mview\u001b[0m\u001b[0;34m(\u001b[0m\u001b[0mbatch_size\u001b[0m\u001b[0;34m,\u001b[0m \u001b[0;34m-\u001b[0m\u001b[0;36m1\u001b[0m\u001b[0;34m)\u001b[0m  \u001b[0;31m# (b,1,18,100)->conv(b,1,1,98)->pool(b,1,1,33)->(b,33)\u001b[0m\u001b[0;34m\u001b[0m\u001b[0;34m\u001b[0m\u001b[0m\n\u001b[0m\u001b[1;32m     49\u001b[0m         \u001b[0mx_coll\u001b[0m \u001b[0;34m=\u001b[0m \u001b[0mself\u001b[0m\u001b[0;34m.\u001b[0m\u001b[0membedding_layer1\u001b[0m\u001b[0;34m(\u001b[0m\u001b[0mx\u001b[0m\u001b[0;34m[\u001b[0m\u001b[0;34m'collname'\u001b[0m\u001b[0;34m]\u001b[0m\u001b[0;34m)\u001b[0m\u001b[0;34m\u001b[0m\u001b[0;34m\u001b[0m\u001b[0m\n\u001b[1;32m     50\u001b[0m         \u001b[0mx_phone\u001b[0m \u001b[0;34m=\u001b[0m \u001b[0mself\u001b[0m\u001b[0;34m.\u001b[0m\u001b[0membedding_layer2\u001b[0m\u001b[0;34m(\u001b[0m\u001b[0mx\u001b[0m\u001b[0;34m[\u001b[0m\u001b[0;34m'phonename'\u001b[0m\u001b[0;34m]\u001b[0m\u001b[0;34m)\u001b[0m\u001b[0;34m\u001b[0m\u001b[0;34m\u001b[0m\u001b[0m\n",
      "\u001b[0;32m<ipython-input-33-b195378791a1>\u001b[0m in \u001b[0;36mforward\u001b[0;34m(self, x)\u001b[0m\n\u001b[1;32m     46\u001b[0m         \u001b[0mbatch_size\u001b[0m \u001b[0;34m=\u001b[0m \u001b[0mx\u001b[0m\u001b[0;34m[\u001b[0m\u001b[0;34m\"collname\"\u001b[0m\u001b[0;34m]\u001b[0m\u001b[0;34m.\u001b[0m\u001b[0mshape\u001b[0m\u001b[0;34m[\u001b[0m\u001b[0;36m0\u001b[0m\u001b[0;34m]\u001b[0m\u001b[0;34m\u001b[0m\u001b[0;34m\u001b[0m\u001b[0m\n\u001b[1;32m     47\u001b[0m         \u001b[0;32mfrom\u001b[0m \u001b[0mIPython\u001b[0m\u001b[0;34m.\u001b[0m\u001b[0mcore\u001b[0m\u001b[0;34m.\u001b[0m\u001b[0mdebugger\u001b[0m \u001b[0;32mimport\u001b[0m \u001b[0mPdb\u001b[0m\u001b[0;34m;\u001b[0m \u001b[0mPdb\u001b[0m\u001b[0;34m(\u001b[0m\u001b[0;34m)\u001b[0m\u001b[0;34m.\u001b[0m\u001b[0mset_trace\u001b[0m\u001b[0;34m(\u001b[0m\u001b[0;34m)\u001b[0m\u001b[0;34m\u001b[0m\u001b[0;34m\u001b[0m\u001b[0m\n\u001b[0;32m---> 48\u001b[0;31m         \u001b[0mx_imu\u001b[0m \u001b[0;34m=\u001b[0m \u001b[0mself\u001b[0m\u001b[0;34m.\u001b[0m\u001b[0mcnn_layer\u001b[0m\u001b[0;34m(\u001b[0m\u001b[0mx\u001b[0m\u001b[0;34m[\u001b[0m\u001b[0;34m'imu'\u001b[0m\u001b[0;34m]\u001b[0m\u001b[0;34m.\u001b[0m\u001b[0munsqueeze\u001b[0m\u001b[0;34m(\u001b[0m\u001b[0;36m1\u001b[0m\u001b[0;34m)\u001b[0m\u001b[0;34m)\u001b[0m\u001b[0;34m.\u001b[0m\u001b[0mview\u001b[0m\u001b[0;34m(\u001b[0m\u001b[0mbatch_size\u001b[0m\u001b[0;34m,\u001b[0m \u001b[0;34m-\u001b[0m\u001b[0;36m1\u001b[0m\u001b[0;34m)\u001b[0m  \u001b[0;31m# (b,1,18,100)->conv(b,1,1,98)->pool(b,1,1,33)->(b,33)\u001b[0m\u001b[0;34m\u001b[0m\u001b[0;34m\u001b[0m\u001b[0m\n\u001b[0m\u001b[1;32m     49\u001b[0m         \u001b[0mx_coll\u001b[0m \u001b[0;34m=\u001b[0m \u001b[0mself\u001b[0m\u001b[0;34m.\u001b[0m\u001b[0membedding_layer1\u001b[0m\u001b[0;34m(\u001b[0m\u001b[0mx\u001b[0m\u001b[0;34m[\u001b[0m\u001b[0;34m'collname'\u001b[0m\u001b[0;34m]\u001b[0m\u001b[0;34m)\u001b[0m\u001b[0;34m\u001b[0m\u001b[0;34m\u001b[0m\u001b[0m\n\u001b[1;32m     50\u001b[0m         \u001b[0mx_phone\u001b[0m \u001b[0;34m=\u001b[0m \u001b[0mself\u001b[0m\u001b[0;34m.\u001b[0m\u001b[0membedding_layer2\u001b[0m\u001b[0;34m(\u001b[0m\u001b[0mx\u001b[0m\u001b[0;34m[\u001b[0m\u001b[0;34m'phonename'\u001b[0m\u001b[0;34m]\u001b[0m\u001b[0;34m)\u001b[0m\u001b[0;34m\u001b[0m\u001b[0;34m\u001b[0m\u001b[0m\n",
      "\u001b[0;32m/usr/lib/python3.8/bdb.py\u001b[0m in \u001b[0;36mtrace_dispatch\u001b[0;34m(self, frame, event, arg)\u001b[0m\n\u001b[1;32m     86\u001b[0m             \u001b[0;32mreturn\u001b[0m \u001b[0;31m# None\u001b[0m\u001b[0;34m\u001b[0m\u001b[0;34m\u001b[0m\u001b[0m\n\u001b[1;32m     87\u001b[0m         \u001b[0;32mif\u001b[0m \u001b[0mevent\u001b[0m \u001b[0;34m==\u001b[0m \u001b[0;34m'line'\u001b[0m\u001b[0;34m:\u001b[0m\u001b[0;34m\u001b[0m\u001b[0;34m\u001b[0m\u001b[0m\n\u001b[0;32m---> 88\u001b[0;31m             \u001b[0;32mreturn\u001b[0m \u001b[0mself\u001b[0m\u001b[0;34m.\u001b[0m\u001b[0mdispatch_line\u001b[0m\u001b[0;34m(\u001b[0m\u001b[0mframe\u001b[0m\u001b[0;34m)\u001b[0m\u001b[0;34m\u001b[0m\u001b[0;34m\u001b[0m\u001b[0m\n\u001b[0m\u001b[1;32m     89\u001b[0m         \u001b[0;32mif\u001b[0m \u001b[0mevent\u001b[0m \u001b[0;34m==\u001b[0m \u001b[0;34m'call'\u001b[0m\u001b[0;34m:\u001b[0m\u001b[0;34m\u001b[0m\u001b[0;34m\u001b[0m\u001b[0m\n\u001b[1;32m     90\u001b[0m             \u001b[0;32mreturn\u001b[0m \u001b[0mself\u001b[0m\u001b[0;34m.\u001b[0m\u001b[0mdispatch_call\u001b[0m\u001b[0;34m(\u001b[0m\u001b[0mframe\u001b[0m\u001b[0;34m,\u001b[0m \u001b[0marg\u001b[0m\u001b[0;34m)\u001b[0m\u001b[0;34m\u001b[0m\u001b[0;34m\u001b[0m\u001b[0m\n",
      "\u001b[0;32m/usr/lib/python3.8/bdb.py\u001b[0m in \u001b[0;36mdispatch_line\u001b[0;34m(self, frame)\u001b[0m\n\u001b[1;32m    111\u001b[0m         \u001b[0;32mif\u001b[0m \u001b[0mself\u001b[0m\u001b[0;34m.\u001b[0m\u001b[0mstop_here\u001b[0m\u001b[0;34m(\u001b[0m\u001b[0mframe\u001b[0m\u001b[0;34m)\u001b[0m \u001b[0;32mor\u001b[0m \u001b[0mself\u001b[0m\u001b[0;34m.\u001b[0m\u001b[0mbreak_here\u001b[0m\u001b[0;34m(\u001b[0m\u001b[0mframe\u001b[0m\u001b[0;34m)\u001b[0m\u001b[0;34m:\u001b[0m\u001b[0;34m\u001b[0m\u001b[0;34m\u001b[0m\u001b[0m\n\u001b[1;32m    112\u001b[0m             \u001b[0mself\u001b[0m\u001b[0;34m.\u001b[0m\u001b[0muser_line\u001b[0m\u001b[0;34m(\u001b[0m\u001b[0mframe\u001b[0m\u001b[0;34m)\u001b[0m\u001b[0;34m\u001b[0m\u001b[0;34m\u001b[0m\u001b[0m\n\u001b[0;32m--> 113\u001b[0;31m             \u001b[0;32mif\u001b[0m \u001b[0mself\u001b[0m\u001b[0;34m.\u001b[0m\u001b[0mquitting\u001b[0m\u001b[0;34m:\u001b[0m \u001b[0;32mraise\u001b[0m \u001b[0mBdbQuit\u001b[0m\u001b[0;34m\u001b[0m\u001b[0;34m\u001b[0m\u001b[0m\n\u001b[0m\u001b[1;32m    114\u001b[0m         \u001b[0;32mreturn\u001b[0m \u001b[0mself\u001b[0m\u001b[0;34m.\u001b[0m\u001b[0mtrace_dispatch\u001b[0m\u001b[0;34m\u001b[0m\u001b[0;34m\u001b[0m\u001b[0m\n\u001b[1;32m    115\u001b[0m \u001b[0;34m\u001b[0m\u001b[0m\n",
      "\u001b[0;31mBdbQuit\u001b[0m: "
     ]
    }
   ],
   "source": [
    "\n",
    "oofs = []  # 全てのoofをdfで格納する\n",
    "predictions = []  # 全ての予測値をdfで格納する\n",
    "val_scores = []\n",
    "skf = model_selection.StratifiedKFold(n_splits=N_SPLITS, shuffle=True, random_state=SEED)\n",
    "# gkf = model_selection.GroupKFold(n_splits=N_SPLITS)\n",
    "\n",
    "train_fold = [(trn_idx, val_idx) for trn_idx, val_idx in skf.split(train, train.loc[:, 'collectionName'])]\n",
    "for fold in range(5):\n",
    "    # 指定したfoldのみループを回す\n",
    "    if fold not in USE_FOLDS:\n",
    "        continue\n",
    "\n",
    "    print('=' * 20)\n",
    "    print(f'Fold {fold}')\n",
    "    print('=' * 20)\n",
    "\n",
    "    # train/valid data\n",
    "    trn_idx_for_train, val_idx_for_train = train_fold[fold]\n",
    "    trn_df = train.loc[trn_idx_for_train, :].reset_index(drop=True)\n",
    "    val_df = train.loc[val_idx_for_train, :].reset_index(drop=True)\n",
    "\n",
    "    # data loader\n",
    "    loaders = {}\n",
    "    loader_config = config[\"loader\"]\n",
    "    loaders[\"train\"] = DataLoader(OutdoorDataset(trn_df, phase=\"train\"), **loader_config[\"train\"], worker_init_fn=worker_init_fn) \n",
    "    loaders[\"valid\"] = DataLoader(OutdoorDataset(val_df, phase=\"valid\"), **loader_config[\"valid\"], worker_init_fn=worker_init_fn)\n",
    "    loaders[\"test\"] = DataLoader(OutdoorDataset(test, phase=\"test\"), **loader_config[\"test\"], worker_init_fn=worker_init_fn)\n",
    "\n",
    "    # model\n",
    "    model = CNNModel(collection_size, phone_size) \n",
    "    model_name = model.__class__.__name__\n",
    "\n",
    "    # callbacks\n",
    "    callbacks = []\n",
    "    checkpoint_callback = ModelCheckpoint(\n",
    "        monitor=f'Loss/val',\n",
    "        mode='min',\n",
    "        dirpath=f\"../../model/{EXP_NAME}\",\n",
    "        verbose=False,\n",
    "        filename=f'{model_name}-{fold}')\n",
    "    \n",
    "    if MODEL_SAVE:\n",
    "        callbacks.append(checkpoint_callback)\n",
    "\n",
    "    early_stop_callback = EarlyStopping(\n",
    "        monitor='Loss/val',\n",
    "        min_delta=0.00,\n",
    "        patience=5,\n",
    "        verbose=False,\n",
    "        mode='min')\n",
    "    callbacks.append(early_stop_callback)\n",
    "\n",
    "    # loggers\n",
    "    RUN_NAME = EXP_NAME + \"_\" + EXP_MESSAGE\n",
    "    wandb.init(project='outdoor', entity='kuto5046', group=RUN_NAME)\n",
    "    wandb.run.name = RUN_NAME + f'-fold-{fold}'\n",
    "    wandb_config = wandb.config\n",
    "    wandb_config['model_name'] = model_name\n",
    "    wandb_config['comment'] = NOTES\n",
    "    wandb.watch(model)\n",
    "    \n",
    "    \n",
    "    loggers = []\n",
    "    loggers.append(WandbLogger())\n",
    "\n",
    "    learner = Learner(model, config)\n",
    "    # pretrained flag\n",
    "    if PRETRAINED:\n",
    "        ckpt = torch.load(PRETRAINED_PATH + f'{model_name}-{fold}.ckpt')\n",
    "        learner.load_state_dict(ckpt['state_dict'])\n",
    "\n",
    "    if not ONLY_PRED:\n",
    "        trainer = pl.Trainer(\n",
    "            logger=loggers, \n",
    "            callbacks=callbacks,\n",
    "            max_epochs=MAX_EPOCHS,\n",
    "            gpus=[0],\n",
    "            fast_dev_run=DEBUG,\n",
    "            deterministic=True,\n",
    "            # precision=16,\n",
    "            # progress_bar_refresh_rate=0  # vscodeの時progress barの動作が遅いので表示しない\n",
    "            )\n",
    "\n",
    "        trainer.fit(learner, train_dataloader=loaders['train'], val_dataloaders=loaders['valid'])\n",
    "\n",
    "    #############\n",
    "    # validation (to make oof)\n",
    "    #############\n",
    "    model.eval() \n",
    "    oof_df = train.loc[val_idx_for_train, :].reset_index(drop=True)\n",
    "    oof_x, oof_y, oof_d, oof_a = evaluate(model, loaders, phase=\"valid\")\n",
    "    oof_df[\"oof_delta_latDeg\"] = oof_x\n",
    "    oof_df[\"oof_delta_lngDeg\"] = oof_y\n",
    "    oof_df['oof_delta_distance'] = oof_d\n",
    "    oof_df['oof_delta_angle'] = oof_a\n",
    "    oofs.append(oof_df)\n",
    "    \n",
    "    val_score = np.mean(calc_haversine(oof_df['oof_delta_latDeg'], oof_df['oof_delta_lngDeg'], \n",
    "                                       oof_df['delta_latDeg'], oof_df['delta_lngDeg']))\n",
    "    val_scores.append(val_score)\n",
    "    print(f\"fold {fold}: mean position error {val_score}\")\n",
    "\n",
    "    #############\n",
    "    # inference\n",
    "    #############\n",
    "    preds_x, preds_y = evaluate(model, loaders, phase=\"test\")\n",
    "    test_preds = pd.DataFrame(np.stack((preds_x, preds_y))).T\n",
    "    test_preds.columns = sub_df.columns\n",
    "    # test_preds.to_csv(f'{EXP_NAME}_fold{fold}.csv', index=False)\n",
    "    predictions.append(test_preds)\n",
    "\n",
    "    if fold != 4:\n",
    "        wandb.finish()"
   ]
  },
  {
   "cell_type": "markdown",
   "metadata": {},
   "source": [
    "## validation"
   ]
  },
  {
   "cell_type": "code",
   "execution_count": null,
   "metadata": {},
   "outputs": [],
   "source": [
    "if len(USE_FOLDS) > 1:\n",
    "    oofs_df = pd.concat(oofs)\n",
    "else:\n",
    "    oofs_df = oofs[0]\n",
    "\n",
    "oofs_df['site_path_timestamp'] = oofs_df['site_id_str'].astype(str) + '_' + oofs_df['path'] + '_' + oofs_df['timestamp'].astype(str)\n",
    "oofs_df = oofs_df.sort_values('site_path_timestamp').reset_index(drop=True)\n",
    "# oofs_df.to_csv(\"oof.csv\", index=False)\n",
    "oofs_df"
   ]
  },
  {
   "cell_type": "code",
   "execution_count": null,
   "metadata": {},
   "outputs": [],
   "source": [
    "# waypoint補正前のx,yでの評価\n",
    "oof_score = mean_position_error(\n",
    "    oofs_df['oof_x'], oofs_df['oof_y'], 0, \n",
    "    oofs_df['x'], oofs_df['y'], 0\n",
    "    )\n",
    "wandb_config['CV'] = oof_score\n",
    "print(f\"CV:{oof_score}\")"
   ]
  },
  {
   "cell_type": "code",
   "execution_count": null,
   "metadata": {},
   "outputs": [],
   "source": [
    "if len(USE_FOLDS) > 1:\n",
    "    # foldの結果を平均した後、reindexでsubmission fileにindexを合わせる\n",
    "    # all_preds = pd.concat(predictions).groupby('site_path_timestamp').mean()\n",
    "    all_preds = pd.concat(predictions).reset_index().groupby('index').mean()\n",
    "    all_preds['site_path_timestamp'] = predictions[0]['site_path_timestamp'].values\n",
    "else:\n",
    "    all_preds = predictions[0]"
   ]
  },
  {
   "cell_type": "code",
   "execution_count": null,
   "metadata": {},
   "outputs": [],
   "source": [
    "sub.to_csv(EXP_NAME + '_sub.csv')"
   ]
  }
 ],
 "metadata": {
  "interpreter": {
   "hash": "31f2aee4e71d21fbe5cf8b01ff0e069b9275f58929596ceb00d14d90e3e16cd6"
  },
  "kernelspec": {
   "display_name": "Python 3.8.5 64-bit",
   "name": "python3"
  },
  "language_info": {
   "codemirror_mode": {
    "name": "ipython",
    "version": 3
   },
   "file_extension": ".py",
   "mimetype": "text/x-python",
   "name": "python",
   "nbconvert_exporter": "python",
   "pygments_lexer": "ipython3",
   "version": "3.8.5"
  },
  "widgets": {
   "application/vnd.jupyter.widget-state+json": {
    "state": {
     "00063024b5f8485188d7cc60268383d1": {
      "model_module": "@jupyter-widgets/controls",
      "model_module_version": "1.5.0",
      "model_name": "FloatProgressModel",
      "state": {
       "layout": "IPY_MODEL_1698547e4f884733919c10cbdd8d38c2",
       "max": 1,
       "style": "IPY_MODEL_2129254bc7b64bf48a5b015430263101",
       "value": 1
      }
     },
     "0008501c024a4cb0940f83cdc08abdc1": {
      "model_module": "@jupyter-widgets/controls",
      "model_module_version": "1.5.0",
      "model_name": "ProgressStyleModel",
      "state": {
       "description_width": ""
      }
     },
     "0207d68b8def46cf8bcd7d4c83840720": {
      "model_module": "@jupyter-widgets/base",
      "model_module_version": "1.2.0",
      "model_name": "LayoutModel",
      "state": {
       "flex": "2"
      }
     },
     "03bb2b3789ca4b21a25ec51341715920": {
      "model_module": "@jupyter-widgets/controls",
      "model_module_version": "1.5.0",
      "model_name": "LabelModel",
      "state": {
       "layout": "IPY_MODEL_c81df0d5ffb24565b3d0a6a923517df2",
       "style": "IPY_MODEL_a49622f2360a4c2da2bfec59e8726dbf",
       "value": " 0.02MB of 0.02MB uploaded (0.00MB deduped)\r"
      }
     },
     "04197a2980174dc1b6e02696a44ca9b5": {
      "model_module": "@jupyter-widgets/base",
      "model_module_version": "1.2.0",
      "model_name": "LayoutModel",
      "state": {}
     },
     "04f29d07d33d42f798e573b35c836aa6": {
      "model_module": "@jupyter-widgets/controls",
      "model_module_version": "1.5.0",
      "model_name": "ProgressStyleModel",
      "state": {
       "description_width": ""
      }
     },
     "0565642d882d49c19bc71a9068242ad1": {
      "model_module": "@jupyter-widgets/base",
      "model_module_version": "1.2.0",
      "model_name": "LayoutModel",
      "state": {}
     },
     "058d296ec601482dbe1c78bd644518c2": {
      "model_module": "@jupyter-widgets/base",
      "model_module_version": "1.2.0",
      "model_name": "LayoutModel",
      "state": {}
     },
     "059c6f4a77a44a8f944107c9c7aa80dd": {
      "model_module": "@jupyter-widgets/controls",
      "model_module_version": "1.5.0",
      "model_name": "DescriptionStyleModel",
      "state": {
       "description_width": ""
      }
     },
     "05a2b5b60a6c4fe391fa212370980b1e": {
      "model_module": "@jupyter-widgets/controls",
      "model_module_version": "1.5.0",
      "model_name": "DescriptionStyleModel",
      "state": {
       "description_width": ""
      }
     },
     "065b12c96ba248ad8f38793b5dd29e45": {
      "model_module": "@jupyter-widgets/base",
      "model_module_version": "1.2.0",
      "model_name": "LayoutModel",
      "state": {}
     },
     "0664b800864d4e12a1580853ed7a131d": {
      "model_module": "@jupyter-widgets/controls",
      "model_module_version": "1.5.0",
      "model_name": "DescriptionStyleModel",
      "state": {
       "description_width": ""
      }
     },
     "06878c923f024d0c99c8192da2bf0dfe": {
      "model_module": "@jupyter-widgets/base",
      "model_module_version": "1.2.0",
      "model_name": "LayoutModel",
      "state": {
       "display": "inline-flex",
       "flex_flow": "row wrap",
       "width": "100%"
      }
     },
     "06f6561c9f924d4ca4129b533720b6b4": {
      "model_module": "@jupyter-widgets/controls",
      "model_module_version": "1.5.0",
      "model_name": "HTMLModel",
      "state": {
       "layout": "IPY_MODEL_b3c94b44349342e49032940be50cb8b3",
       "style": "IPY_MODEL_aaa6f14b333449a5b96d357ffd7268f6",
       "value": " 32/52 [00:00&lt;00:00, 48.62it/s]"
      }
     },
     "07505f3e70f64c0fbff3058708300553": {
      "model_module": "@jupyter-widgets/controls",
      "model_module_version": "1.5.0",
      "model_name": "ProgressStyleModel",
      "state": {
       "description_width": ""
      }
     },
     "075c08dbf4e54f84ac86f229e143f115": {
      "model_module": "@jupyter-widgets/base",
      "model_module_version": "1.2.0",
      "model_name": "LayoutModel",
      "state": {
       "display": "inline-flex",
       "flex_flow": "row wrap",
       "width": "100%"
      }
     },
     "07bd3d2d74104cca8791ba3dce951b83": {
      "model_module": "@jupyter-widgets/base",
      "model_module_version": "1.2.0",
      "model_name": "LayoutModel",
      "state": {
       "flex": "2"
      }
     },
     "07ce4b085fbe4eb194b9a8cb6620951b": {
      "model_module": "@jupyter-widgets/controls",
      "model_module_version": "1.5.0",
      "model_name": "HTMLModel",
      "state": {
       "layout": "IPY_MODEL_c2d551fe604e41b683f3f7394456c470",
       "style": "IPY_MODEL_cd0a21f958b44082acf9b4e132d5b947",
       "value": "Validation sanity check:  50%"
      }
     },
     "083522c1aa71460d98067db5117d91d6": {
      "model_module": "@jupyter-widgets/controls",
      "model_module_version": "1.5.0",
      "model_name": "DescriptionStyleModel",
      "state": {
       "description_width": ""
      }
     },
     "0a57227815dc47bb83781f08a943c0d8": {
      "model_module": "@jupyter-widgets/controls",
      "model_module_version": "1.5.0",
      "model_name": "FloatProgressModel",
      "state": {
       "bar_style": "success",
       "layout": "IPY_MODEL_2bc2552bc6ec4089a6a2c5d18d379ace",
       "max": 73,
       "style": "IPY_MODEL_baf1149c2dad4c6b9d1b074b7edc6953",
       "value": 73
      }
     },
     "0a5cd61fd4c6438d92cadfc8595be9cd": {
      "model_module": "@jupyter-widgets/controls",
      "model_module_version": "1.5.0",
      "model_name": "HTMLModel",
      "state": {
       "layout": "IPY_MODEL_46612d7cefbc4196acca72caf95e3679",
       "style": "IPY_MODEL_d6593c9557a04cb5a8b573d3f49b9dce",
       "value": " 30/52 [00:00&lt;00:00, 45.93it/s]"
      }
     },
     "0b2af8d2b4d044c1b9063b8fc6b2899c": {
      "model_module": "@jupyter-widgets/base",
      "model_module_version": "1.2.0",
      "model_name": "LayoutModel",
      "state": {
       "display": "inline-flex",
       "flex_flow": "row wrap",
       "width": "100%"
      }
     },
     "0be4bc75cd6f43018c0b8f78c49da4c3": {
      "model_module": "@jupyter-widgets/controls",
      "model_module_version": "1.5.0",
      "model_name": "FloatProgressModel",
      "state": {
       "layout": "IPY_MODEL_9056af4b047743f8a4e29c0625fb7f02",
       "max": 52,
       "style": "IPY_MODEL_62ffe647b312481d955139a84ddd01cc",
       "value": 52
      }
     },
     "0be5c77d526b4ebd9709af01f3dffdde": {
      "model_module": "@jupyter-widgets/controls",
      "model_module_version": "1.5.0",
      "model_name": "DescriptionStyleModel",
      "state": {
       "description_width": ""
      }
     },
     "0c9387aba4c1463f8fb78dd8c87334e5": {
      "model_module": "@jupyter-widgets/controls",
      "model_module_version": "1.5.0",
      "model_name": "HTMLModel",
      "state": {
       "layout": "IPY_MODEL_fe452333f39e403d9b4003af14691396",
       "style": "IPY_MODEL_d05ab206b7e8408989284dfde606d27c",
       "value": " 6/258 [02:11&lt;1:31:43, 21.84s/it, loss=2.43e+03, v_num=9enp]"
      }
     },
     "0ca9eca20f6744e885189a010dfa00be": {
      "model_module": "@jupyter-widgets/base",
      "model_module_version": "1.2.0",
      "model_name": "LayoutModel",
      "state": {
       "display": "inline-flex",
       "flex_flow": "row wrap",
       "width": "100%"
      }
     },
     "0cf07673d608487582eba451edc391e7": {
      "model_module": "@jupyter-widgets/base",
      "model_module_version": "1.2.0",
      "model_name": "LayoutModel",
      "state": {}
     },
     "0d3c1580f792457d8c69df96acfb62ff": {
      "model_module": "@jupyter-widgets/base",
      "model_module_version": "1.2.0",
      "model_name": "LayoutModel",
      "state": {}
     },
     "0d50e6aab11f43e986d80a46ca01de7e": {
      "model_module": "@jupyter-widgets/base",
      "model_module_version": "1.2.0",
      "model_name": "LayoutModel",
      "state": {}
     },
     "0d57646052324dba828ced75b0142e86": {
      "model_module": "@jupyter-widgets/base",
      "model_module_version": "1.2.0",
      "model_name": "LayoutModel",
      "state": {
       "display": "inline-flex",
       "flex_flow": "row wrap",
       "width": "100%"
      }
     },
     "103d4eead7e148db9f3777d171ba30d4": {
      "model_module": "@jupyter-widgets/base",
      "model_module_version": "1.2.0",
      "model_name": "LayoutModel",
      "state": {}
     },
     "10ff27a5de3a4df99d6432f09ab1cf08": {
      "model_module": "@jupyter-widgets/base",
      "model_module_version": "1.2.0",
      "model_name": "LayoutModel",
      "state": {}
     },
     "110cbcd7284c4b1fa44b1292ce54dcc4": {
      "model_module": "@jupyter-widgets/controls",
      "model_module_version": "1.5.0",
      "model_name": "DescriptionStyleModel",
      "state": {
       "description_width": ""
      }
     },
     "115bc458cb15414d8a450d106ca0e307": {
      "model_module": "@jupyter-widgets/controls",
      "model_module_version": "1.5.0",
      "model_name": "DescriptionStyleModel",
      "state": {
       "description_width": ""
      }
     },
     "1397139ed27944e19224d1e8b1a1e62e": {
      "model_module": "@jupyter-widgets/base",
      "model_module_version": "1.2.0",
      "model_name": "LayoutModel",
      "state": {}
     },
     "13f675ee5e1441cfbcc744d4705aaa54": {
      "model_module": "@jupyter-widgets/base",
      "model_module_version": "1.2.0",
      "model_name": "LayoutModel",
      "state": {
       "display": "inline-flex",
       "flex_flow": "row wrap",
       "width": "100%"
      }
     },
     "1698547e4f884733919c10cbdd8d38c2": {
      "model_module": "@jupyter-widgets/base",
      "model_module_version": "1.2.0",
      "model_name": "LayoutModel",
      "state": {}
     },
     "16a096b7a7b740b5a6b3fac8237c4187": {
      "model_module": "@jupyter-widgets/controls",
      "model_module_version": "1.5.0",
      "model_name": "DescriptionStyleModel",
      "state": {
       "description_width": ""
      }
     },
     "16ef43cb2f70490197bdf785aeb44327": {
      "model_module": "@jupyter-widgets/base",
      "model_module_version": "1.2.0",
      "model_name": "LayoutModel",
      "state": {}
     },
     "17b7d52b81a848bb95bed5ed31f519fc": {
      "model_module": "@jupyter-widgets/controls",
      "model_module_version": "1.5.0",
      "model_name": "FloatProgressModel",
      "state": {
       "layout": "IPY_MODEL_b8c4d31f31834a64a3a27cc3a7c5723e",
       "max": 2,
       "style": "IPY_MODEL_c41d2b224bec41958408d37d35cf0210"
      }
     },
     "1806ff895c074adea753f58dc06446e0": {
      "model_module": "@jupyter-widgets/controls",
      "model_module_version": "1.5.0",
      "model_name": "LabelModel",
      "state": {
       "layout": "IPY_MODEL_510f9e96cccf433f89ab764c53795aac",
       "style": "IPY_MODEL_5cface7d7dc64327a2a01844c498cfa8",
       "value": " 0.00MB of 0.00MB uploaded (0.00MB deduped)\r"
      }
     },
     "184c3448daad48e4b1c24814aba6aee7": {
      "model_module": "@jupyter-widgets/base",
      "model_module_version": "1.2.0",
      "model_name": "LayoutModel",
      "state": {
       "flex": "2"
      }
     },
     "18a43534272745c4bae41eed6c1967d9": {
      "model_module": "@jupyter-widgets/controls",
      "model_module_version": "1.5.0",
      "model_name": "HTMLModel",
      "state": {
       "layout": "IPY_MODEL_3024bf9ff7fa46b39ffc9a586dfef4a9",
       "style": "IPY_MODEL_c99766b1b6df4e11a9994da8a613e5e4",
       "value": " 26/52 [00:00&lt;00:00, 38.89it/s]"
      }
     },
     "1ae9fb524334483cb9eeb784023e21ed": {
      "model_module": "@jupyter-widgets/controls",
      "model_module_version": "1.5.0",
      "model_name": "ProgressStyleModel",
      "state": {
       "description_width": ""
      }
     },
     "1b4a113b31fc49b5bf96838a1161e11f": {
      "model_module": "@jupyter-widgets/controls",
      "model_module_version": "1.5.0",
      "model_name": "ProgressStyleModel",
      "state": {
       "description_width": ""
      }
     },
     "1b5ec6a5fc8d411eb566521a2459d3e3": {
      "model_module": "@jupyter-widgets/controls",
      "model_module_version": "1.5.0",
      "model_name": "HTMLModel",
      "state": {
       "layout": "IPY_MODEL_058d296ec601482dbe1c78bd644518c2",
       "style": "IPY_MODEL_85033a81473e495fba8b053394232196",
       "value": " 207/258 [00:33&lt;00:08,  6.10it/s, loss=nan, v_num=oph7]"
      }
     },
     "1bb4c46451d64c84aa3dd62f6a6298aa": {
      "model_module": "@jupyter-widgets/base",
      "model_module_version": "1.2.0",
      "model_name": "LayoutModel",
      "state": {
       "flex": "2"
      }
     },
     "1c2c0b10bd10457b84566f93ca7bca4c": {
      "model_module": "@jupyter-widgets/base",
      "model_module_version": "1.2.0",
      "model_name": "LayoutModel",
      "state": {
       "display": "inline-flex",
       "flex_flow": "row wrap",
       "width": "100%"
      }
     },
     "1c62c3ba04374f3d9ef7249766223454": {
      "model_module": "@jupyter-widgets/controls",
      "model_module_version": "1.5.0",
      "model_name": "HBoxModel",
      "state": {
       "children": [
        "IPY_MODEL_9b482d4bc5844cd0b38e2abd1c95f596",
        "IPY_MODEL_4633067009c04085ba1d2d99de8a7afd",
        "IPY_MODEL_8f196c607d134ab78edc345f1277b515"
       ],
       "layout": "IPY_MODEL_0d57646052324dba828ced75b0142e86"
      }
     },
     "1cf3ca2e26d946788c49ffb22907c59a": {
      "model_module": "@jupyter-widgets/controls",
      "model_module_version": "1.5.0",
      "model_name": "HBoxModel",
      "state": {
       "children": [
        "IPY_MODEL_1e5c3ffb9f19412f81b6fa907ae870df",
        "IPY_MODEL_a96aa3ec3b6641e99daf7282a92fbc51",
        "IPY_MODEL_919ab7e3f91c4612af1f0f8a21cd889c"
       ],
       "layout": "IPY_MODEL_13f675ee5e1441cfbcc744d4705aaa54"
      }
     },
     "1d9f12f14b09464fb139bf651a32e63a": {
      "model_module": "@jupyter-widgets/controls",
      "model_module_version": "1.5.0",
      "model_name": "DescriptionStyleModel",
      "state": {
       "description_width": ""
      }
     },
     "1e498b227db248329c281b6c0a67480c": {
      "model_module": "@jupyter-widgets/controls",
      "model_module_version": "1.5.0",
      "model_name": "HTMLModel",
      "state": {
       "layout": "IPY_MODEL_103d4eead7e148db9f3777d171ba30d4",
       "style": "IPY_MODEL_36d63fdd33504e6b838d04a7e7bb6195",
       "value": "Validating:  58%"
      }
     },
     "1e5c3ffb9f19412f81b6fa907ae870df": {
      "model_module": "@jupyter-widgets/controls",
      "model_module_version": "1.5.0",
      "model_name": "HTMLModel",
      "state": {
       "layout": "IPY_MODEL_98d09690fdb44637981f8f69e489d1a0",
       "style": "IPY_MODEL_ed15cc414b4f48d993b06db8f45105c4",
       "value": "Epoch 0:   0%"
      }
     },
     "1f89057690714c34b2770decde3d6690": {
      "model_module": "@jupyter-widgets/controls",
      "model_module_version": "1.5.0",
      "model_name": "HTMLModel",
      "state": {
       "layout": "IPY_MODEL_4817ddfbb8ba49cfa4087e2e26f35183",
       "style": "IPY_MODEL_49aeafef8ca2425a92818107ae8128d1",
       "value": " 1/2 [00:01&lt;00:01,  1.17s/it]"
      }
     },
     "1f9124b8f5ab4a3a9158e13c269c62b8": {
      "model_module": "@jupyter-widgets/controls",
      "model_module_version": "1.5.0",
      "model_name": "DescriptionStyleModel",
      "state": {
       "description_width": ""
      }
     },
     "208e2a441d294e39a34e7edf4be035fa": {
      "model_module": "@jupyter-widgets/base",
      "model_module_version": "1.2.0",
      "model_name": "LayoutModel",
      "state": {}
     },
     "2129254bc7b64bf48a5b015430263101": {
      "model_module": "@jupyter-widgets/controls",
      "model_module_version": "1.5.0",
      "model_name": "ProgressStyleModel",
      "state": {
       "description_width": ""
      }
     },
     "2144fd0bf32d4f0daf5029a91877c029": {
      "model_module": "@jupyter-widgets/controls",
      "model_module_version": "1.5.0",
      "model_name": "LabelModel",
      "state": {
       "layout": "IPY_MODEL_8a32629e1d694c9bb869d050e4e05dae",
       "style": "IPY_MODEL_059c6f4a77a44a8f944107c9c7aa80dd",
       "value": " 0.00MB of 0.00MB uploaded (0.00MB deduped)\r"
      }
     },
     "21ec1d8592c24d008f5c6d38b96b201d": {
      "model_module": "@jupyter-widgets/controls",
      "model_module_version": "1.5.0",
      "model_name": "ProgressStyleModel",
      "state": {
       "description_width": ""
      }
     },
     "223b81fa50754dc0ade97de58a0c359a": {
      "model_module": "@jupyter-widgets/base",
      "model_module_version": "1.2.0",
      "model_name": "LayoutModel",
      "state": {}
     },
     "241423d317424c0390d32b3656cd3dd4": {
      "model_module": "@jupyter-widgets/controls",
      "model_module_version": "1.5.0",
      "model_name": "HTMLModel",
      "state": {
       "layout": "IPY_MODEL_976ad93b8bfd45cfb4f6ac6c979a7268",
       "style": "IPY_MODEL_47a3884fd8f741c58b32260729a951a8",
       "value": " 0/2 [00:00&lt;?, ?it/s]"
      }
     },
     "24339a51677843bda3936a33227f40e3": {
      "model_module": "@jupyter-widgets/controls",
      "model_module_version": "1.5.0",
      "model_name": "HTMLModel",
      "state": {
       "layout": "IPY_MODEL_208e2a441d294e39a34e7edf4be035fa",
       "style": "IPY_MODEL_115bc458cb15414d8a450d106ca0e307",
       "value": "Validating:  50%"
      }
     },
     "243472a933154624a963a83c8b9d964e": {
      "model_module": "@jupyter-widgets/controls",
      "model_module_version": "1.5.0",
      "model_name": "ProgressStyleModel",
      "state": {
       "description_width": ""
      }
     },
     "2513b262e74542e696ac243c03f3390b": {
      "model_module": "@jupyter-widgets/base",
      "model_module_version": "1.2.0",
      "model_name": "LayoutModel",
      "state": {
       "flex": "2"
      }
     },
     "252721cfbe224733b3a2311ffa46f546": {
      "model_module": "@jupyter-widgets/controls",
      "model_module_version": "1.5.0",
      "model_name": "FloatProgressModel",
      "state": {
       "layout": "IPY_MODEL_70cebd7b9c44471bbf794470cccb0b38",
       "max": 1,
       "style": "IPY_MODEL_bdcc6b3a8a964a88b8bd053fd6b2c1bd",
       "value": 1
      }
     },
     "255ffa2a105344a684cf63f4163d7aa8": {
      "model_module": "@jupyter-widgets/base",
      "model_module_version": "1.2.0",
      "model_name": "LayoutModel",
      "state": {}
     },
     "258520c982d44657a90aee548bfe36fd": {
      "model_module": "@jupyter-widgets/controls",
      "model_module_version": "1.5.0",
      "model_name": "DescriptionStyleModel",
      "state": {
       "description_width": ""
      }
     },
     "268cfb06b2954814bc7ca299ff011c0f": {
      "model_module": "@jupyter-widgets/base",
      "model_module_version": "1.2.0",
      "model_name": "LayoutModel",
      "state": {}
     },
     "278a0016aac548d48137c3f943530840": {
      "model_module": "@jupyter-widgets/controls",
      "model_module_version": "1.5.0",
      "model_name": "FloatProgressModel",
      "state": {
       "layout": "IPY_MODEL_0207d68b8def46cf8bcd7d4c83840720",
       "max": 52,
       "style": "IPY_MODEL_72380b49a4634d03a4834dad9b6557d7",
       "value": 52
      }
     },
     "291ec19a1b14445597d82f7ea5a76583": {
      "model_module": "@jupyter-widgets/controls",
      "model_module_version": "1.5.0",
      "model_name": "DescriptionStyleModel",
      "state": {
       "description_width": ""
      }
     },
     "2933fbd3cb0f4f8e8010885018fadf19": {
      "model_module": "@jupyter-widgets/controls",
      "model_module_version": "1.5.0",
      "model_name": "FloatProgressModel",
      "state": {
       "layout": "IPY_MODEL_d9058023e13c463483d916d87b1098d8",
       "max": 52,
       "style": "IPY_MODEL_1b4a113b31fc49b5bf96838a1161e11f",
       "value": 52
      }
     },
     "2999c278469e4f088f81c1e0e3ed6505": {
      "model_module": "@jupyter-widgets/base",
      "model_module_version": "1.2.0",
      "model_name": "LayoutModel",
      "state": {
       "display": "inline-flex",
       "flex_flow": "row wrap",
       "width": "100%"
      }
     },
     "2b4bc240e91e4dc9af22b3b6dc8dcf6d": {
      "model_module": "@jupyter-widgets/base",
      "model_module_version": "1.2.0",
      "model_name": "LayoutModel",
      "state": {}
     },
     "2bc2552bc6ec4089a6a2c5d18d379ace": {
      "model_module": "@jupyter-widgets/base",
      "model_module_version": "1.2.0",
      "model_name": "LayoutModel",
      "state": {}
     },
     "2be7d621d442437eb37991d948bdab94": {
      "model_module": "@jupyter-widgets/base",
      "model_module_version": "1.2.0",
      "model_name": "LayoutModel",
      "state": {}
     },
     "2c267f0b4e7240c2af7828daee3c47c3": {
      "model_module": "@jupyter-widgets/base",
      "model_module_version": "1.2.0",
      "model_name": "LayoutModel",
      "state": {}
     },
     "2c38f54f392c4aa5bde31651ad3b696a": {
      "model_module": "@jupyter-widgets/base",
      "model_module_version": "1.2.0",
      "model_name": "LayoutModel",
      "state": {
       "flex": "2"
      }
     },
     "2d4e877d61c14ff3abe70ecdb2b0dd7a": {
      "model_module": "@jupyter-widgets/controls",
      "model_module_version": "1.5.0",
      "model_name": "HBoxModel",
      "state": {
       "children": [
        "IPY_MODEL_5466b6f8275344b0a3d9dd842220f5e0",
        "IPY_MODEL_17b7d52b81a848bb95bed5ed31f519fc",
        "IPY_MODEL_241423d317424c0390d32b3656cd3dd4"
       ],
       "layout": "IPY_MODEL_783189ee5bd947e1b4bf1d7086eb798d"
      }
     },
     "2d57e649f7a943a6b2e87668cb1464ca": {
      "model_module": "@jupyter-widgets/controls",
      "model_module_version": "1.5.0",
      "model_name": "HTMLModel",
      "state": {
       "layout": "IPY_MODEL_f54a3c2cbd1d42aaaf0fe626da486011",
       "style": "IPY_MODEL_ba6eed55603c47d4bf875e972401e37f",
       "value": " 0/258 [02:28&lt;?, ?it/s]"
      }
     },
     "2dc180dfc6f34226a2af33f6a4647b34": {
      "model_module": "@jupyter-widgets/base",
      "model_module_version": "1.2.0",
      "model_name": "LayoutModel",
      "state": {
       "flex": "2"
      }
     },
     "2fa8c8d5d09947a4a2a3c92fcc6e8d98": {
      "model_module": "@jupyter-widgets/controls",
      "model_module_version": "1.5.0",
      "model_name": "HBoxModel",
      "state": {
       "children": [
        "IPY_MODEL_f1c1d14ba7a44d41a8b80cc3f0c30502",
        "IPY_MODEL_b56f1f2169a04ba38aa4c2882f8b79dc",
        "IPY_MODEL_1b5ec6a5fc8d411eb566521a2459d3e3"
       ],
       "layout": "IPY_MODEL_cdb25a011b624e27af6e27f70365fd82"
      }
     },
     "3024bf9ff7fa46b39ffc9a586dfef4a9": {
      "model_module": "@jupyter-widgets/base",
      "model_module_version": "1.2.0",
      "model_name": "LayoutModel",
      "state": {}
     },
     "315ad91d78084b74bfc5bdd3f1286d48": {
      "model_module": "@jupyter-widgets/base",
      "model_module_version": "1.2.0",
      "model_name": "LayoutModel",
      "state": {}
     },
     "31c4948893fd48d387bf20f7095bf16b": {
      "model_module": "@jupyter-widgets/base",
      "model_module_version": "1.2.0",
      "model_name": "LayoutModel",
      "state": {}
     },
     "31d25c80cd8f432c81edb01ec30662b1": {
      "model_module": "@jupyter-widgets/controls",
      "model_module_version": "1.5.0",
      "model_name": "HTMLModel",
      "state": {
       "layout": "IPY_MODEL_2c267f0b4e7240c2af7828daee3c47c3",
       "style": "IPY_MODEL_3418e243924741d5bc4a7d9c0388fb02",
       "value": " 0/2 [00:00&lt;?, ?it/s]"
      }
     },
     "32207ed8d9ba49708838cd65f9300015": {
      "model_module": "@jupyter-widgets/base",
      "model_module_version": "1.2.0",
      "model_name": "LayoutModel",
      "state": {}
     },
     "3234d6c9c695433d868d05193c05781f": {
      "model_module": "@jupyter-widgets/controls",
      "model_module_version": "1.5.0",
      "model_name": "DescriptionStyleModel",
      "state": {
       "description_width": ""
      }
     },
     "32b079e1823b473e9ffd0eac059855de": {
      "model_module": "@jupyter-widgets/base",
      "model_module_version": "1.2.0",
      "model_name": "LayoutModel",
      "state": {}
     },
     "3399357018564643b5e6cefe1f1db9e0": {
      "model_module": "@jupyter-widgets/base",
      "model_module_version": "1.2.0",
      "model_name": "LayoutModel",
      "state": {
       "display": "inline-flex",
       "flex_flow": "row wrap",
       "width": "100%"
      }
     },
     "3418e243924741d5bc4a7d9c0388fb02": {
      "model_module": "@jupyter-widgets/controls",
      "model_module_version": "1.5.0",
      "model_name": "DescriptionStyleModel",
      "state": {
       "description_width": ""
      }
     },
     "342bb97e20a54ee5975774e03933f60a": {
      "model_module": "@jupyter-widgets/controls",
      "model_module_version": "1.5.0",
      "model_name": "LabelModel",
      "state": {
       "layout": "IPY_MODEL_fc2cdac0ed9f49a0a7dd783211a1c31a",
       "style": "IPY_MODEL_61a872e11af044f3b86f6c9ea41a34fb",
       "value": " 0.01MB of 0.01MB uploaded (0.00MB deduped)\r"
      }
     },
     "34330596013f4815a5068a6db67bd38b": {
      "model_module": "@jupyter-widgets/controls",
      "model_module_version": "1.5.0",
      "model_name": "ProgressStyleModel",
      "state": {
       "description_width": ""
      }
     },
     "34523b09301046ccb1d2ad824ddfcb81": {
      "model_module": "@jupyter-widgets/base",
      "model_module_version": "1.2.0",
      "model_name": "LayoutModel",
      "state": {
       "display": "inline-flex",
       "flex_flow": "row wrap",
       "width": "100%"
      }
     },
     "35249eae423e4bcf864aaea015f040bb": {
      "model_module": "@jupyter-widgets/base",
      "model_module_version": "1.2.0",
      "model_name": "LayoutModel",
      "state": {}
     },
     "3660e0c38e154537b15fdd0fb6932502": {
      "model_module": "@jupyter-widgets/base",
      "model_module_version": "1.2.0",
      "model_name": "LayoutModel",
      "state": {}
     },
     "3681188f3e054854885354178e3cf13d": {
      "model_module": "@jupyter-widgets/controls",
      "model_module_version": "1.5.0",
      "model_name": "FloatProgressModel",
      "state": {
       "layout": "IPY_MODEL_0565642d882d49c19bc71a9068242ad1",
       "max": 1,
       "style": "IPY_MODEL_21ec1d8592c24d008f5c6d38b96b201d",
       "value": 1
      }
     },
     "36d63fdd33504e6b838d04a7e7bb6195": {
      "model_module": "@jupyter-widgets/controls",
      "model_module_version": "1.5.0",
      "model_name": "DescriptionStyleModel",
      "state": {
       "description_width": ""
      }
     },
     "38954daf5bdc49648035a77d3357cc79": {
      "model_module": "@jupyter-widgets/base",
      "model_module_version": "1.2.0",
      "model_name": "LayoutModel",
      "state": {}
     },
     "391637af42f846639823171148678c14": {
      "model_module": "@jupyter-widgets/controls",
      "model_module_version": "1.5.0",
      "model_name": "FloatProgressModel",
      "state": {
       "layout": "IPY_MODEL_7ea81d57d66a41e78eff6d74f482328a",
       "max": 52,
       "style": "IPY_MODEL_aaa7face761f4ac096230401e22514ee",
       "value": 52
      }
     },
     "3917ee6ef98d4c6a82df05c462990e0e": {
      "model_module": "@jupyter-widgets/controls",
      "model_module_version": "1.5.0",
      "model_name": "FloatProgressModel",
      "state": {
       "layout": "IPY_MODEL_07bd3d2d74104cca8791ba3dce951b83",
       "max": 2,
       "style": "IPY_MODEL_bc96dba845e743be9aa8edcdeb03da5c",
       "value": 2
      }
     },
     "3960b633d0fe44d49dbd56402def2648": {
      "model_module": "@jupyter-widgets/controls",
      "model_module_version": "1.5.0",
      "model_name": "DescriptionStyleModel",
      "state": {
       "description_width": ""
      }
     },
     "39b463681f554726bf1b14919dbc12a2": {
      "model_module": "@jupyter-widgets/base",
      "model_module_version": "1.2.0",
      "model_name": "LayoutModel",
      "state": {}
     },
     "39cb1c98b6c649ae924446635b50e447": {
      "model_module": "@jupyter-widgets/base",
      "model_module_version": "1.2.0",
      "model_name": "LayoutModel",
      "state": {}
     },
     "3a4ed9b3d71d47729d9df005a8b732d1": {
      "model_module": "@jupyter-widgets/base",
      "model_module_version": "1.2.0",
      "model_name": "LayoutModel",
      "state": {
       "display": "inline-flex",
       "flex_flow": "row wrap",
       "width": "100%"
      }
     },
     "3b08c76cc7074cfc9623690ab58b7bf6": {
      "model_module": "@jupyter-widgets/base",
      "model_module_version": "1.2.0",
      "model_name": "LayoutModel",
      "state": {}
     },
     "3b093c5f22dc455e813be13a15b8c24e": {
      "model_module": "@jupyter-widgets/controls",
      "model_module_version": "1.5.0",
      "model_name": "ProgressStyleModel",
      "state": {
       "description_width": ""
      }
     },
     "3b39a02502074d6eae743de06f84285d": {
      "model_module": "@jupyter-widgets/base",
      "model_module_version": "1.2.0",
      "model_name": "LayoutModel",
      "state": {
       "display": "inline-flex",
       "flex_flow": "row wrap",
       "width": "100%"
      }
     },
     "3c5eb4f56ca64dacb8ecce6f6d985620": {
      "model_module": "@jupyter-widgets/controls",
      "model_module_version": "1.5.0",
      "model_name": "FloatProgressModel",
      "state": {
       "layout": "IPY_MODEL_2513b262e74542e696ac243c03f3390b",
       "max": 2,
       "style": "IPY_MODEL_07505f3e70f64c0fbff3058708300553",
       "value": 2
      }
     },
     "3d6669f8ea97461fab16a9d9856f3918": {
      "model_module": "@jupyter-widgets/controls",
      "model_module_version": "1.5.0",
      "model_name": "ProgressStyleModel",
      "state": {
       "description_width": ""
      }
     },
     "3dc1f62a709645938f259af3ce3c6eb6": {
      "model_module": "@jupyter-widgets/controls",
      "model_module_version": "1.5.0",
      "model_name": "HTMLModel",
      "state": {
       "layout": "IPY_MODEL_268cfb06b2954814bc7ca299ff011c0f",
       "style": "IPY_MODEL_05a2b5b60a6c4fe391fa212370980b1e",
       "value": " 0/52 [00:00&lt;?, ?it/s]"
      }
     },
     "3e4c8cc5c37e496e8e211b9456bcfab4": {
      "model_module": "@jupyter-widgets/controls",
      "model_module_version": "1.5.0",
      "model_name": "DescriptionStyleModel",
      "state": {
       "description_width": ""
      }
     },
     "3fc052d869e242eda4f4d59fc606761a": {
      "model_module": "@jupyter-widgets/controls",
      "model_module_version": "1.5.0",
      "model_name": "ProgressStyleModel",
      "state": {
       "description_width": ""
      }
     },
     "42ac5456bb744fa68f0f83c21f69806c": {
      "model_module": "@jupyter-widgets/controls",
      "model_module_version": "1.5.0",
      "model_name": "FloatProgressModel",
      "state": {
       "bar_style": "danger",
       "layout": "IPY_MODEL_cf7d6b7237df41129066c567d4a22691",
       "max": 258,
       "style": "IPY_MODEL_3fc052d869e242eda4f4d59fc606761a",
       "value": 6
      }
     },
     "460733802f3e44838f982375f83ec1d8": {
      "model_module": "@jupyter-widgets/controls",
      "model_module_version": "1.5.0",
      "model_name": "DescriptionStyleModel",
      "state": {
       "description_width": ""
      }
     },
     "4633067009c04085ba1d2d99de8a7afd": {
      "model_module": "@jupyter-widgets/controls",
      "model_module_version": "1.5.0",
      "model_name": "FloatProgressModel",
      "state": {
       "bar_style": "success",
       "layout": "IPY_MODEL_d55f3eb9deb0422a85c625c5e5168cc3",
       "max": 258,
       "style": "IPY_MODEL_34330596013f4815a5068a6db67bd38b",
       "value": 258
      }
     },
     "46612d7cefbc4196acca72caf95e3679": {
      "model_module": "@jupyter-widgets/base",
      "model_module_version": "1.2.0",
      "model_name": "LayoutModel",
      "state": {}
     },
     "4687a5f324cf470aae107fcf596b6b3d": {
      "model_module": "@jupyter-widgets/controls",
      "model_module_version": "1.5.0",
      "model_name": "HTMLModel",
      "state": {
       "layout": "IPY_MODEL_9c0a50a49194448d83f2675194f90e21",
       "style": "IPY_MODEL_3e4c8cc5c37e496e8e211b9456bcfab4",
       "value": "Validating:  63%"
      }
     },
     "47380cd4fc44404284334ec455272a1a": {
      "model_module": "@jupyter-widgets/base",
      "model_module_version": "1.2.0",
      "model_name": "LayoutModel",
      "state": {}
     },
     "47a3884fd8f741c58b32260729a951a8": {
      "model_module": "@jupyter-widgets/controls",
      "model_module_version": "1.5.0",
      "model_name": "DescriptionStyleModel",
      "state": {
       "description_width": ""
      }
     },
     "4817ddfbb8ba49cfa4087e2e26f35183": {
      "model_module": "@jupyter-widgets/base",
      "model_module_version": "1.2.0",
      "model_name": "LayoutModel",
      "state": {}
     },
     "48db71524e4c421c9978ac223ed5aa5e": {
      "model_module": "@jupyter-widgets/controls",
      "model_module_version": "1.5.0",
      "model_name": "LabelModel",
      "state": {
       "layout": "IPY_MODEL_0d3c1580f792457d8c69df96acfb62ff",
       "style": "IPY_MODEL_bb46c532ffe842b8b00f43cc6c10b555"
      }
     },
     "49781dba4ef141979aae5184fd05ff21": {
      "model_module": "@jupyter-widgets/base",
      "model_module_version": "1.2.0",
      "model_name": "LayoutModel",
      "state": {}
     },
     "49aeafef8ca2425a92818107ae8128d1": {
      "model_module": "@jupyter-widgets/controls",
      "model_module_version": "1.5.0",
      "model_name": "DescriptionStyleModel",
      "state": {
       "description_width": ""
      }
     },
     "4b7ccb5cfda84fb1bf4f5c831325dc4a": {
      "model_module": "@jupyter-widgets/controls",
      "model_module_version": "1.5.0",
      "model_name": "HTMLModel",
      "state": {
       "layout": "IPY_MODEL_8776af7fa7dc4dcfb75257fa96030fa0",
       "style": "IPY_MODEL_a44b82d7716f43b8a54f13ceeefb1dee",
       "value": "Validating:  63%"
      }
     },
     "4cfea8c00a71481c88f06b121c0b1e61": {
      "model_module": "@jupyter-widgets/controls",
      "model_module_version": "1.5.0",
      "model_name": "FloatProgressModel",
      "state": {
       "layout": "IPY_MODEL_5404cb6f1fbc4c00979e454166285e29",
       "max": 52,
       "style": "IPY_MODEL_e39ab0b43aef4b0a9c8ec20760130a44",
       "value": 52
      }
     },
     "4dd7c35eb6a24ce49dbc4d1efac5ab00": {
      "model_module": "@jupyter-widgets/controls",
      "model_module_version": "1.5.0",
      "model_name": "HTMLModel",
      "state": {
       "layout": "IPY_MODEL_dd691839ad184ef7a8957695b207b00f",
       "style": "IPY_MODEL_fba0a1220e6342a4a2934fa2d0a5fb18",
       "value": " 31/52 [00:00&lt;00:00, 47.29it/s]"
      }
     },
     "4f32ce3230d446419c52cdd745f5cec0": {
      "model_module": "@jupyter-widgets/base",
      "model_module_version": "1.2.0",
      "model_name": "LayoutModel",
      "state": {
       "display": "inline-flex",
       "flex_flow": "row wrap",
       "width": "100%"
      }
     },
     "4fefd20948f544f7bdde3f6ae6df0891": {
      "model_module": "@jupyter-widgets/base",
      "model_module_version": "1.2.0",
      "model_name": "LayoutModel",
      "state": {
       "flex": "2"
      }
     },
     "510f9e96cccf433f89ab764c53795aac": {
      "model_module": "@jupyter-widgets/base",
      "model_module_version": "1.2.0",
      "model_name": "LayoutModel",
      "state": {}
     },
     "51247dd59968484a9beed82703cb6af7": {
      "model_module": "@jupyter-widgets/base",
      "model_module_version": "1.2.0",
      "model_name": "LayoutModel",
      "state": {
       "flex": "2"
      }
     },
     "5183bb2b38164dc5905758c0b27d2e0a": {
      "model_module": "@jupyter-widgets/base",
      "model_module_version": "1.2.0",
      "model_name": "LayoutModel",
      "state": {}
     },
     "529a33a58cff40518510af4674ea69f5": {
      "model_module": "@jupyter-widgets/base",
      "model_module_version": "1.2.0",
      "model_name": "LayoutModel",
      "state": {}
     },
     "53ab2fcf62b94687954ecc874f2b243c": {
      "model_module": "@jupyter-widgets/controls",
      "model_module_version": "1.5.0",
      "model_name": "HBoxModel",
      "state": {
       "children": [
        "IPY_MODEL_bd8b065670bb4e81b6f2367a17d7225e",
        "IPY_MODEL_91a40b0305fd4f28b2433a09ed326f88",
        "IPY_MODEL_fdb012169f4d4bfc9c834e221539d434"
       ],
       "layout": "IPY_MODEL_735548c2473b467683cda442bd0d846c"
      }
     },
     "53ad9ae981d84c31b5db284abcd450e0": {
      "model_module": "@jupyter-widgets/controls",
      "model_module_version": "1.5.0",
      "model_name": "DescriptionStyleModel",
      "state": {
       "description_width": ""
      }
     },
     "5404cb6f1fbc4c00979e454166285e29": {
      "model_module": "@jupyter-widgets/base",
      "model_module_version": "1.2.0",
      "model_name": "LayoutModel",
      "state": {
       "flex": "2"
      }
     },
     "5466b6f8275344b0a3d9dd842220f5e0": {
      "model_module": "@jupyter-widgets/controls",
      "model_module_version": "1.5.0",
      "model_name": "HTMLModel",
      "state": {
       "layout": "IPY_MODEL_7895824a8ee24f70b0bbf6709f06f1c3",
       "style": "IPY_MODEL_80d15773f05841a9935f0c27b27b6b3e",
       "value": "Validation sanity check:   0%"
      }
     },
     "576869ba28704d9a932c614d00b835d6": {
      "model_module": "@jupyter-widgets/base",
      "model_module_version": "1.2.0",
      "model_name": "LayoutModel",
      "state": {}
     },
     "5786183f4a7f49c5a3d272b0b5456127": {
      "model_module": "@jupyter-widgets/controls",
      "model_module_version": "1.5.0",
      "model_name": "DescriptionStyleModel",
      "state": {
       "description_width": ""
      }
     },
     "598fd90c3cf24aacb31297b7d19aac7f": {
      "model_module": "@jupyter-widgets/controls",
      "model_module_version": "1.5.0",
      "model_name": "FloatProgressModel",
      "state": {
       "layout": "IPY_MODEL_7dbebb6048b54456a5fe105daa642bfd",
       "max": 2,
       "style": "IPY_MODEL_04f29d07d33d42f798e573b35c836aa6",
       "value": 2
      }
     },
     "5a2d99351d0341f9b36c763f77d8f572": {
      "model_module": "@jupyter-widgets/base",
      "model_module_version": "1.2.0",
      "model_name": "LayoutModel",
      "state": {
       "display": "inline-flex",
       "flex_flow": "row wrap",
       "width": "100%"
      }
     },
     "5b16735f0d7140a98b607bf8f681e270": {
      "model_module": "@jupyter-widgets/controls",
      "model_module_version": "1.5.0",
      "model_name": "DescriptionStyleModel",
      "state": {
       "description_width": ""
      }
     },
     "5b69796dae3c4fe38a67e49698ef393a": {
      "model_module": "@jupyter-widgets/base",
      "model_module_version": "1.2.0",
      "model_name": "LayoutModel",
      "state": {}
     },
     "5bbf068505ea446092c5d7eef63c917c": {
      "model_module": "@jupyter-widgets/controls",
      "model_module_version": "1.5.0",
      "model_name": "VBoxModel",
      "state": {
       "children": [
        "IPY_MODEL_48db71524e4c421c9978ac223ed5aa5e",
        "IPY_MODEL_97d731a5f3a94ca3ba214c31f86b707a"
       ],
       "layout": "IPY_MODEL_10ff27a5de3a4df99d6432f09ab1cf08"
      }
     },
     "5bd0d326cb4e4861b88adb9e21f1aac0": {
      "model_module": "@jupyter-widgets/controls",
      "model_module_version": "1.5.0",
      "model_name": "ProgressStyleModel",
      "state": {
       "description_width": ""
      }
     },
     "5c8a47adfd6548968ff638d0f19ab4d5": {
      "model_module": "@jupyter-widgets/controls",
      "model_module_version": "1.5.0",
      "model_name": "ProgressStyleModel",
      "state": {
       "description_width": ""
      }
     },
     "5cface7d7dc64327a2a01844c498cfa8": {
      "model_module": "@jupyter-widgets/controls",
      "model_module_version": "1.5.0",
      "model_name": "DescriptionStyleModel",
      "state": {
       "description_width": ""
      }
     },
     "5d95de8e9e2a40afba66cf99c3723b16": {
      "model_module": "@jupyter-widgets/base",
      "model_module_version": "1.2.0",
      "model_name": "LayoutModel",
      "state": {}
     },
     "61a872e11af044f3b86f6c9ea41a34fb": {
      "model_module": "@jupyter-widgets/controls",
      "model_module_version": "1.5.0",
      "model_name": "DescriptionStyleModel",
      "state": {
       "description_width": ""
      }
     },
     "6215fc069d024f9e85ee52d8c8d36ae8": {
      "model_module": "@jupyter-widgets/controls",
      "model_module_version": "1.5.0",
      "model_name": "FloatProgressModel",
      "state": {
       "layout": "IPY_MODEL_adbc277c3dfe4917957692de9025f75d",
       "max": 52,
       "style": "IPY_MODEL_3b093c5f22dc455e813be13a15b8c24e"
      }
     },
     "6227269c0b844587ad8e05e34b2f2f87": {
      "model_module": "@jupyter-widgets/base",
      "model_module_version": "1.2.0",
      "model_name": "LayoutModel",
      "state": {}
     },
     "62ecbca57ca642188e6323557502c5e6": {
      "model_module": "@jupyter-widgets/controls",
      "model_module_version": "1.5.0",
      "model_name": "ProgressStyleModel",
      "state": {
       "description_width": ""
      }
     },
     "62ffe647b312481d955139a84ddd01cc": {
      "model_module": "@jupyter-widgets/controls",
      "model_module_version": "1.5.0",
      "model_name": "ProgressStyleModel",
      "state": {
       "description_width": ""
      }
     },
     "64d8eb38bc0b4dffbe3f75d339d4cd5e": {
      "model_module": "@jupyter-widgets/base",
      "model_module_version": "1.2.0",
      "model_name": "LayoutModel",
      "state": {}
     },
     "64fe21a7be3e4f888d3df4af5afe4258": {
      "model_module": "@jupyter-widgets/base",
      "model_module_version": "1.2.0",
      "model_name": "LayoutModel",
      "state": {}
     },
     "6668ddf7890e4735a9c1b93b9ed4bc14": {
      "model_module": "@jupyter-widgets/controls",
      "model_module_version": "1.5.0",
      "model_name": "FloatProgressModel",
      "state": {
       "layout": "IPY_MODEL_4fefd20948f544f7bdde3f6ae6df0891",
       "max": 2,
       "style": "IPY_MODEL_243472a933154624a963a83c8b9d964e",
       "value": 2
      }
     },
     "674f955665b04044bf788450a14046bb": {
      "model_module": "@jupyter-widgets/controls",
      "model_module_version": "1.5.0",
      "model_name": "DescriptionStyleModel",
      "state": {
       "description_width": ""
      }
     },
     "689ea0404c6e4a7fbc47158df068ab3a": {
      "model_module": "@jupyter-widgets/base",
      "model_module_version": "1.2.0",
      "model_name": "LayoutModel",
      "state": {}
     },
     "6924b091e1fd471bbce5cc9479efe507": {
      "model_module": "@jupyter-widgets/base",
      "model_module_version": "1.2.0",
      "model_name": "LayoutModel",
      "state": {}
     },
     "69770b3f84b14de3bc9ca646e4c70fb5": {
      "model_module": "@jupyter-widgets/base",
      "model_module_version": "1.2.0",
      "model_name": "LayoutModel",
      "state": {
       "display": "inline-flex",
       "flex_flow": "row wrap",
       "width": "100%"
      }
     },
     "6ae87d2dd91541e5a6fa52488caaa125": {
      "model_module": "@jupyter-widgets/base",
      "model_module_version": "1.2.0",
      "model_name": "LayoutModel",
      "state": {}
     },
     "6ee7605e53304225bffbb636f8e8dd33": {
      "model_module": "@jupyter-widgets/controls",
      "model_module_version": "1.5.0",
      "model_name": "HBoxModel",
      "state": {
       "children": [
        "IPY_MODEL_fd2294d354214a48875d0d932fe09a29",
        "IPY_MODEL_cca0412f9f8f478993e8214b474d27ce",
        "IPY_MODEL_2d57e649f7a943a6b2e87668cb1464ca"
       ],
       "layout": "IPY_MODEL_0b2af8d2b4d044c1b9063b8fc6b2899c"
      }
     },
     "6eed8d6f350547d98e499bc8357b0934": {
      "model_module": "@jupyter-widgets/base",
      "model_module_version": "1.2.0",
      "model_name": "LayoutModel",
      "state": {}
     },
     "6f3971530987428a8390ee50d14f802f": {
      "model_module": "@jupyter-widgets/controls",
      "model_module_version": "1.5.0",
      "model_name": "DescriptionStyleModel",
      "state": {
       "description_width": ""
      }
     },
     "70cebd7b9c44471bbf794470cccb0b38": {
      "model_module": "@jupyter-widgets/base",
      "model_module_version": "1.2.0",
      "model_name": "LayoutModel",
      "state": {}
     },
     "72380b49a4634d03a4834dad9b6557d7": {
      "model_module": "@jupyter-widgets/controls",
      "model_module_version": "1.5.0",
      "model_name": "ProgressStyleModel",
      "state": {
       "description_width": ""
      }
     },
     "735548c2473b467683cda442bd0d846c": {
      "model_module": "@jupyter-widgets/base",
      "model_module_version": "1.2.0",
      "model_name": "LayoutModel",
      "state": {}
     },
     "75d37aef41ba4df5b9b8a415eab336c5": {
      "model_module": "@jupyter-widgets/base",
      "model_module_version": "1.2.0",
      "model_name": "LayoutModel",
      "state": {
       "display": "inline-flex",
       "flex_flow": "row wrap",
       "width": "100%"
      }
     },
     "76d4fed2041b482d8fa54043a9a8cfce": {
      "model_module": "@jupyter-widgets/controls",
      "model_module_version": "1.5.0",
      "model_name": "DescriptionStyleModel",
      "state": {
       "description_width": ""
      }
     },
     "77bac96e054449b091dad06f4694d8e5": {
      "model_module": "@jupyter-widgets/controls",
      "model_module_version": "1.5.0",
      "model_name": "DescriptionStyleModel",
      "state": {
       "description_width": ""
      }
     },
     "780bdd4edc904052aa3c65976dfd0e5e": {
      "model_module": "@jupyter-widgets/controls",
      "model_module_version": "1.5.0",
      "model_name": "HTMLModel",
      "state": {
       "layout": "IPY_MODEL_3660e0c38e154537b15fdd0fb6932502",
       "style": "IPY_MODEL_258520c982d44657a90aee548bfe36fd",
       "value": " 33/52 [00:00&lt;00:00, 62.02it/s]"
      }
     },
     "783189ee5bd947e1b4bf1d7086eb798d": {
      "model_module": "@jupyter-widgets/base",
      "model_module_version": "1.2.0",
      "model_name": "LayoutModel",
      "state": {
       "display": "inline-flex",
       "flex_flow": "row wrap",
       "width": "100%"
      }
     },
     "78734e8b79a4474087044563a54533d9": {
      "model_module": "@jupyter-widgets/controls",
      "model_module_version": "1.5.0",
      "model_name": "DescriptionStyleModel",
      "state": {
       "description_width": ""
      }
     },
     "7895824a8ee24f70b0bbf6709f06f1c3": {
      "model_module": "@jupyter-widgets/base",
      "model_module_version": "1.2.0",
      "model_name": "LayoutModel",
      "state": {}
     },
     "795299521a2c469bb05cf4c06e44603b": {
      "model_module": "@jupyter-widgets/controls",
      "model_module_version": "1.5.0",
      "model_name": "HTMLModel",
      "state": {
       "layout": "IPY_MODEL_e9113158cb48443a81ed4f81bb2047e8",
       "style": "IPY_MODEL_9dd56154f9854852940d3dde81601a38",
       "value": " 2/2 [00:48&lt;00:00, 21.02s/it]"
      }
     },
     "79ec77794a0341c9bd735226a5237e84": {
      "model_module": "@jupyter-widgets/controls",
      "model_module_version": "1.5.0",
      "model_name": "HTMLModel",
      "state": {
       "layout": "IPY_MODEL_64d8eb38bc0b4dffbe3f75d339d4cd5e",
       "style": "IPY_MODEL_b38057d635cf4dc4a329aeec4ef56672",
       "value": "Validating:  65%"
      }
     },
     "7bf3a207a9d74a5f8dc72e361f009605": {
      "model_module": "@jupyter-widgets/controls",
      "model_module_version": "1.5.0",
      "model_name": "HBoxModel",
      "state": {
       "children": [
        "IPY_MODEL_a736137a830d457094f61bdc5c343e7e",
        "IPY_MODEL_c94b6b8c1a1242d891c677044115a49a",
        "IPY_MODEL_82eab52061d34900b14e861d87b69857"
       ],
       "layout": "IPY_MODEL_4f32ce3230d446419c52cdd745f5cec0"
      }
     },
     "7cd8731023b3449f9e9389eca57ff46e": {
      "model_module": "@jupyter-widgets/base",
      "model_module_version": "1.2.0",
      "model_name": "LayoutModel",
      "state": {
       "display": "inline-flex",
       "flex_flow": "row wrap",
       "width": "100%"
      }
     },
     "7dbebb6048b54456a5fe105daa642bfd": {
      "model_module": "@jupyter-widgets/base",
      "model_module_version": "1.2.0",
      "model_name": "LayoutModel",
      "state": {
       "flex": "2"
      }
     },
     "7dc02595081c4fb68ee8564024191eb6": {
      "model_module": "@jupyter-widgets/controls",
      "model_module_version": "1.5.0",
      "model_name": "DescriptionStyleModel",
      "state": {
       "description_width": ""
      }
     },
     "7e48fba22b49491aa83ee6ffdfcf8321": {
      "model_module": "@jupyter-widgets/controls",
      "model_module_version": "1.5.0",
      "model_name": "FloatProgressModel",
      "state": {
       "layout": "IPY_MODEL_a1c2005721a0483b9b504343a5d44edf",
       "max": 2,
       "style": "IPY_MODEL_d279326303a647808129c5d5c8bd474f"
      }
     },
     "7ea81d57d66a41e78eff6d74f482328a": {
      "model_module": "@jupyter-widgets/base",
      "model_module_version": "1.2.0",
      "model_name": "LayoutModel",
      "state": {
       "flex": "2"
      }
     },
     "80d15773f05841a9935f0c27b27b6b3e": {
      "model_module": "@jupyter-widgets/controls",
      "model_module_version": "1.5.0",
      "model_name": "DescriptionStyleModel",
      "state": {
       "description_width": ""
      }
     },
     "819578e44ca34bedab2ea792b333774a": {
      "model_module": "@jupyter-widgets/controls",
      "model_module_version": "1.5.0",
      "model_name": "ProgressStyleModel",
      "state": {
       "description_width": ""
      }
     },
     "82eab52061d34900b14e861d87b69857": {
      "model_module": "@jupyter-widgets/controls",
      "model_module_version": "1.5.0",
      "model_name": "HTMLModel",
      "state": {
       "layout": "IPY_MODEL_39cb1c98b6c649ae924446635b50e447",
       "style": "IPY_MODEL_7dc02595081c4fb68ee8564024191eb6",
       "value": " 258/258 [00:03&lt;00:00, 81.54it/s, loss=nan, v_num=nuqs]"
      }
     },
     "837d7308d6804d988602440631085d0e": {
      "model_module": "@jupyter-widgets/controls",
      "model_module_version": "1.5.0",
      "model_name": "DescriptionStyleModel",
      "state": {
       "description_width": ""
      }
     },
     "84f2d2fb534d46e5851ef8f1556622fe": {
      "model_module": "@jupyter-widgets/base",
      "model_module_version": "1.2.0",
      "model_name": "LayoutModel",
      "state": {
       "flex": "2"
      }
     },
     "85033a81473e495fba8b053394232196": {
      "model_module": "@jupyter-widgets/controls",
      "model_module_version": "1.5.0",
      "model_name": "DescriptionStyleModel",
      "state": {
       "description_width": ""
      }
     },
     "85c223ed44254af6bb6fe2e4503a1268": {
      "model_module": "@jupyter-widgets/base",
      "model_module_version": "1.2.0",
      "model_name": "LayoutModel",
      "state": {
       "display": "inline-flex",
       "flex_flow": "row wrap",
       "width": "100%"
      }
     },
     "872f45474c234693b158a96060e919ba": {
      "model_module": "@jupyter-widgets/controls",
      "model_module_version": "1.5.0",
      "model_name": "HTMLModel",
      "state": {
       "layout": "IPY_MODEL_5d95de8e9e2a40afba66cf99c3723b16",
       "style": "IPY_MODEL_837d7308d6804d988602440631085d0e",
       "value": " 1/2 [00:01&lt;00:01,  1.13s/it]"
      }
     },
     "8776af7fa7dc4dcfb75257fa96030fa0": {
      "model_module": "@jupyter-widgets/base",
      "model_module_version": "1.2.0",
      "model_name": "LayoutModel",
      "state": {}
     },
     "88a1b73156d74a30b62a9eb6295fe34b": {
      "model_module": "@jupyter-widgets/base",
      "model_module_version": "1.2.0",
      "model_name": "LayoutModel",
      "state": {
       "flex": "2"
      }
     },
     "8a32629e1d694c9bb869d050e4e05dae": {
      "model_module": "@jupyter-widgets/base",
      "model_module_version": "1.2.0",
      "model_name": "LayoutModel",
      "state": {}
     },
     "8bdf295b6b8f4aabb66e1f974b29119f": {
      "model_module": "@jupyter-widgets/controls",
      "model_module_version": "1.5.0",
      "model_name": "HTMLModel",
      "state": {
       "layout": "IPY_MODEL_dfb8e65237e847f89e3db16f9e94093b",
       "style": "IPY_MODEL_1f9124b8f5ab4a3a9158e13c269c62b8",
       "value": "Validating:  63%"
      }
     },
     "8ca03fbf80c6402083a5f44f83537612": {
      "model_module": "@jupyter-widgets/controls",
      "model_module_version": "1.5.0",
      "model_name": "ProgressStyleModel",
      "state": {
       "description_width": ""
      }
     },
     "8d07607663094c1fa9ef1c54563a9f7a": {
      "model_module": "@jupyter-widgets/base",
      "model_module_version": "1.2.0",
      "model_name": "LayoutModel",
      "state": {}
     },
     "8e65d9946d364c3fa02a7d3abfb5e225": {
      "model_module": "@jupyter-widgets/controls",
      "model_module_version": "1.5.0",
      "model_name": "DescriptionStyleModel",
      "state": {
       "description_width": ""
      }
     },
     "8f196c607d134ab78edc345f1277b515": {
      "model_module": "@jupyter-widgets/controls",
      "model_module_version": "1.5.0",
      "model_name": "HTMLModel",
      "state": {
       "layout": "IPY_MODEL_0cf07673d608487582eba451edc391e7",
       "style": "IPY_MODEL_cd15dd75022a4b5cabb609f2de2e01a7",
       "value": " 258/258 [00:03&lt;00:00, 71.16it/s, loss=nan, v_num=lo9z]"
      }
     },
     "9056af4b047743f8a4e29c0625fb7f02": {
      "model_module": "@jupyter-widgets/base",
      "model_module_version": "1.2.0",
      "model_name": "LayoutModel",
      "state": {
       "flex": "2"
      }
     },
     "918c652dc5304356865160297d311d46": {
      "model_module": "@jupyter-widgets/base",
      "model_module_version": "1.2.0",
      "model_name": "LayoutModel",
      "state": {}
     },
     "919ab7e3f91c4612af1f0f8a21cd889c": {
      "model_module": "@jupyter-widgets/controls",
      "model_module_version": "1.5.0",
      "model_name": "HTMLModel",
      "state": {
       "layout": "IPY_MODEL_9bba903e86e1437d93febcd5b4936f8d",
       "style": "IPY_MODEL_eb6dc6ea244549988668ed1757c6bc4f",
       "value": " 0/258 [03:29&lt;?, ?it/s]"
      }
     },
     "91a40b0305fd4f28b2433a09ed326f88": {
      "model_module": "@jupyter-widgets/controls",
      "model_module_version": "1.5.0",
      "model_name": "FloatProgressModel",
      "state": {
       "bar_style": "success",
       "layout": "IPY_MODEL_6227269c0b844587ad8e05e34b2f2f87",
       "max": 73,
       "style": "IPY_MODEL_3d6669f8ea97461fab16a9d9856f3918",
       "value": 73
      }
     },
     "93b64e23dc3545fe81fa8a84652b9ae1": {
      "model_module": "@jupyter-widgets/controls",
      "model_module_version": "1.5.0",
      "model_name": "HTMLModel",
      "state": {
       "layout": "IPY_MODEL_38954daf5bdc49648035a77d3357cc79",
       "style": "IPY_MODEL_083522c1aa71460d98067db5117d91d6",
       "value": "Validating:  62%"
      }
     },
     "940555348b094cbf88f06f9a331269f3": {
      "model_module": "@jupyter-widgets/controls",
      "model_module_version": "1.5.0",
      "model_name": "HTMLModel",
      "state": {
       "layout": "IPY_MODEL_b227dae00bde4b8f9a69f74a7309ee0e",
       "style": "IPY_MODEL_6f3971530987428a8390ee50d14f802f",
       "value": " 33/52 [00:00&lt;00:00, 61.61it/s]"
      }
     },
     "96c86f92b0834fa58c97dab8f9b90930": {
      "model_module": "@jupyter-widgets/base",
      "model_module_version": "1.2.0",
      "model_name": "LayoutModel",
      "state": {
       "display": "inline-flex",
       "flex_flow": "row wrap",
       "width": "100%"
      }
     },
     "973e382c26aa49ca92daec24b9854efd": {
      "model_module": "@jupyter-widgets/controls",
      "model_module_version": "1.5.0",
      "model_name": "FloatProgressModel",
      "state": {
       "layout": "IPY_MODEL_51247dd59968484a9beed82703cb6af7",
       "max": 52,
       "style": "IPY_MODEL_819578e44ca34bedab2ea792b333774a",
       "value": 52
      }
     },
     "976ad93b8bfd45cfb4f6ac6c979a7268": {
      "model_module": "@jupyter-widgets/base",
      "model_module_version": "1.2.0",
      "model_name": "LayoutModel",
      "state": {}
     },
     "97d731a5f3a94ca3ba214c31f86b707a": {
      "model_module": "@jupyter-widgets/controls",
      "model_module_version": "1.5.0",
      "model_name": "FloatProgressModel",
      "state": {
       "layout": "IPY_MODEL_2be7d621d442437eb37991d948bdab94",
       "max": 1,
       "style": "IPY_MODEL_fe79fcd8b61942ca8606a50dfa2dc775"
      }
     },
     "986c1544db50497281d93e39f1783a68": {
      "model_module": "@jupyter-widgets/controls",
      "model_module_version": "1.5.0",
      "model_name": "HTMLModel",
      "state": {
       "layout": "IPY_MODEL_f49b78db489c4a2c929410991325760c",
       "style": "IPY_MODEL_5b16735f0d7140a98b607bf8f681e270",
       "value": "Validating:   0%"
      }
     },
     "98d09690fdb44637981f8f69e489d1a0": {
      "model_module": "@jupyter-widgets/base",
      "model_module_version": "1.2.0",
      "model_name": "LayoutModel",
      "state": {}
     },
     "9b482d4bc5844cd0b38e2abd1c95f596": {
      "model_module": "@jupyter-widgets/controls",
      "model_module_version": "1.5.0",
      "model_name": "HTMLModel",
      "state": {
       "layout": "IPY_MODEL_ba78dbe57a2d4d79b38077baa6bee229",
       "style": "IPY_MODEL_3960b633d0fe44d49dbd56402def2648",
       "value": "Epoch 4: 100%"
      }
     },
     "9bba903e86e1437d93febcd5b4936f8d": {
      "model_module": "@jupyter-widgets/base",
      "model_module_version": "1.2.0",
      "model_name": "LayoutModel",
      "state": {}
     },
     "9bbc1bdeb0c34a2dae356be9fa135038": {
      "model_module": "@jupyter-widgets/controls",
      "model_module_version": "1.5.0",
      "model_name": "FloatProgressModel",
      "state": {
       "layout": "IPY_MODEL_184c3448daad48e4b1c24814aba6aee7",
       "max": 2,
       "style": "IPY_MODEL_f3d5c7dbb3e24f798e9f046353311105",
       "value": 2
      }
     },
     "9c0a50a49194448d83f2675194f90e21": {
      "model_module": "@jupyter-widgets/base",
      "model_module_version": "1.2.0",
      "model_name": "LayoutModel",
      "state": {}
     },
     "9dd56154f9854852940d3dde81601a38": {
      "model_module": "@jupyter-widgets/controls",
      "model_module_version": "1.5.0",
      "model_name": "DescriptionStyleModel",
      "state": {
       "description_width": ""
      }
     },
     "a0f658b6bf6e4ff88481f75381c7a270": {
      "model_module": "@jupyter-widgets/controls",
      "model_module_version": "1.5.0",
      "model_name": "FloatProgressModel",
      "state": {
       "layout": "IPY_MODEL_47380cd4fc44404284334ec455272a1a",
       "max": 1,
       "style": "IPY_MODEL_bd7f2195956f4e7891a5dd821be28275",
       "value": 1
      }
     },
     "a1c2005721a0483b9b504343a5d44edf": {
      "model_module": "@jupyter-widgets/base",
      "model_module_version": "1.2.0",
      "model_name": "LayoutModel",
      "state": {
       "flex": "2"
      }
     },
     "a25a58071e0e40eab08dcbc2d62bdbdf": {
      "model_module": "@jupyter-widgets/controls",
      "model_module_version": "1.5.0",
      "model_name": "HTMLModel",
      "state": {
       "layout": "IPY_MODEL_529a33a58cff40518510af4674ea69f5",
       "style": "IPY_MODEL_460733802f3e44838f982375f83ec1d8",
       "value": " 34/52 [00:00&lt;00:00, 64.44it/s]"
      }
     },
     "a2efe50732144ebcb3ab36a8b49134a3": {
      "model_module": "@jupyter-widgets/controls",
      "model_module_version": "1.5.0",
      "model_name": "DescriptionStyleModel",
      "state": {
       "description_width": ""
      }
     },
     "a372415f17c74a95a1e56a39453dd82e": {
      "model_module": "@jupyter-widgets/controls",
      "model_module_version": "1.5.0",
      "model_name": "HBoxModel",
      "state": {
       "children": [
        "IPY_MODEL_b0384576c96648fa8c76c79cc632a47e",
        "IPY_MODEL_7e48fba22b49491aa83ee6ffdfcf8321",
        "IPY_MODEL_31d25c80cd8f432c81edb01ec30662b1"
       ],
       "layout": "IPY_MODEL_3399357018564643b5e6cefe1f1db9e0"
      }
     },
     "a44b82d7716f43b8a54f13ceeefb1dee": {
      "model_module": "@jupyter-widgets/controls",
      "model_module_version": "1.5.0",
      "model_name": "DescriptionStyleModel",
      "state": {
       "description_width": ""
      }
     },
     "a4910507d1744a93b766e2e10a91dc52": {
      "model_module": "@jupyter-widgets/controls",
      "model_module_version": "1.5.0",
      "model_name": "HTMLModel",
      "state": {
       "layout": "IPY_MODEL_de1c1d1496af4cdd82380aa8e507d528",
       "style": "IPY_MODEL_d92d5c6587f24858bf4e6a588b227b17",
       "value": "Validation sanity check: 100%"
      }
     },
     "a49622f2360a4c2da2bfec59e8726dbf": {
      "model_module": "@jupyter-widgets/controls",
      "model_module_version": "1.5.0",
      "model_name": "DescriptionStyleModel",
      "state": {
       "description_width": ""
      }
     },
     "a5d0a4afd7114b3893310277e505a2e3": {
      "model_module": "@jupyter-widgets/controls",
      "model_module_version": "1.5.0",
      "model_name": "HTMLModel",
      "state": {
       "layout": "IPY_MODEL_31c4948893fd48d387bf20f7095bf16b",
       "style": "IPY_MODEL_ddb5a4d4fd964bcab705c7d230133ddb",
       "value": " 33/52 [00:00&lt;00:00, 61.74it/s]"
      }
     },
     "a66bbc9c6ad2416a9de787ade7e20b26": {
      "model_module": "@jupyter-widgets/controls",
      "model_module_version": "1.5.0",
      "model_name": "HTMLModel",
      "state": {
       "layout": "IPY_MODEL_6ae87d2dd91541e5a6fa52488caaa125",
       "style": "IPY_MODEL_110cbcd7284c4b1fa44b1292ce54dcc4",
       "value": " 1/2 [00:00&lt;00:00,  1.61it/s]"
      }
     },
     "a6d717ecf18f4f37970ef90bcb2fbedb": {
      "model_module": "@jupyter-widgets/controls",
      "model_module_version": "1.5.0",
      "model_name": "DescriptionStyleModel",
      "state": {
       "description_width": ""
      }
     },
     "a736137a830d457094f61bdc5c343e7e": {
      "model_module": "@jupyter-widgets/controls",
      "model_module_version": "1.5.0",
      "model_name": "HTMLModel",
      "state": {
       "layout": "IPY_MODEL_35249eae423e4bcf864aaea015f040bb",
       "style": "IPY_MODEL_78734e8b79a4474087044563a54533d9",
       "value": "Epoch 4: 100%"
      }
     },
     "a7522f059fe34b6393799136abaf9c43": {
      "model_module": "@jupyter-widgets/controls",
      "model_module_version": "1.5.0",
      "model_name": "HTMLModel",
      "state": {
       "layout": "IPY_MODEL_f41ec5173d1f4a509730abab972b4ea6",
       "style": "IPY_MODEL_16a096b7a7b740b5a6b3fac8237c4187",
       "value": "Validating:  63%"
      }
     },
     "a819a51c0d1b4009b0f3507bd3ecb046": {
      "model_module": "@jupyter-widgets/controls",
      "model_module_version": "1.5.0",
      "model_name": "FloatProgressModel",
      "state": {
       "layout": "IPY_MODEL_2c38f54f392c4aa5bde31651ad3b696a",
       "max": 52,
       "style": "IPY_MODEL_c5d75209a6634bf48a4a09eaaf91e052",
       "value": 52
      }
     },
     "a96aa3ec3b6641e99daf7282a92fbc51": {
      "model_module": "@jupyter-widgets/controls",
      "model_module_version": "1.5.0",
      "model_name": "FloatProgressModel",
      "state": {
       "bar_style": "danger",
       "layout": "IPY_MODEL_c510cb2a83bc4c8b836926331b233a3b",
       "max": 258,
       "style": "IPY_MODEL_1ae9fb524334483cb9eeb784023e21ed"
      }
     },
     "a97e3c010dd5459db79c368a600eead2": {
      "model_module": "@jupyter-widgets/controls",
      "model_module_version": "1.5.0",
      "model_name": "FloatProgressModel",
      "state": {
       "layout": "IPY_MODEL_84f2d2fb534d46e5851ef8f1556622fe",
       "max": 52,
       "style": "IPY_MODEL_d07c4312c3014b63b27e440ff94dc37e",
       "value": 52
      }
     },
     "aaa6f14b333449a5b96d357ffd7268f6": {
      "model_module": "@jupyter-widgets/controls",
      "model_module_version": "1.5.0",
      "model_name": "DescriptionStyleModel",
      "state": {
       "description_width": ""
      }
     },
     "aaa7face761f4ac096230401e22514ee": {
      "model_module": "@jupyter-widgets/controls",
      "model_module_version": "1.5.0",
      "model_name": "ProgressStyleModel",
      "state": {
       "description_width": ""
      }
     },
     "ab871d6badd44a48bb9e258552e41d5b": {
      "model_module": "@jupyter-widgets/base",
      "model_module_version": "1.2.0",
      "model_name": "LayoutModel",
      "state": {}
     },
     "ac740cd0e1ac44f3b686d7184946d2b3": {
      "model_module": "@jupyter-widgets/controls",
      "model_module_version": "1.5.0",
      "model_name": "DescriptionStyleModel",
      "state": {
       "description_width": ""
      }
     },
     "adbc277c3dfe4917957692de9025f75d": {
      "model_module": "@jupyter-widgets/base",
      "model_module_version": "1.2.0",
      "model_name": "LayoutModel",
      "state": {
       "flex": "2"
      }
     },
     "af273609ac0342c79b70b7f6de15c736": {
      "model_module": "@jupyter-widgets/base",
      "model_module_version": "1.2.0",
      "model_name": "LayoutModel",
      "state": {}
     },
     "b0384576c96648fa8c76c79cc632a47e": {
      "model_module": "@jupyter-widgets/controls",
      "model_module_version": "1.5.0",
      "model_name": "HTMLModel",
      "state": {
       "layout": "IPY_MODEL_576869ba28704d9a932c614d00b835d6",
       "style": "IPY_MODEL_3234d6c9c695433d868d05193c05781f",
       "value": "Validation sanity check:   0%"
      }
     },
     "b0636b078671483e8eb8ad560a72ddc6": {
      "model_module": "@jupyter-widgets/base",
      "model_module_version": "1.2.0",
      "model_name": "LayoutModel",
      "state": {}
     },
     "b227dae00bde4b8f9a69f74a7309ee0e": {
      "model_module": "@jupyter-widgets/base",
      "model_module_version": "1.2.0",
      "model_name": "LayoutModel",
      "state": {}
     },
     "b38057d635cf4dc4a329aeec4ef56672": {
      "model_module": "@jupyter-widgets/controls",
      "model_module_version": "1.5.0",
      "model_name": "DescriptionStyleModel",
      "state": {
       "description_width": ""
      }
     },
     "b3c94b44349342e49032940be50cb8b3": {
      "model_module": "@jupyter-widgets/base",
      "model_module_version": "1.2.0",
      "model_name": "LayoutModel",
      "state": {}
     },
     "b3cbd2a1f4064d9a81c8b789b9ca8377": {
      "model_module": "@jupyter-widgets/controls",
      "model_module_version": "1.5.0",
      "model_name": "DescriptionStyleModel",
      "state": {
       "description_width": ""
      }
     },
     "b56f1f2169a04ba38aa4c2882f8b79dc": {
      "model_module": "@jupyter-widgets/controls",
      "model_module_version": "1.5.0",
      "model_name": "FloatProgressModel",
      "state": {
       "bar_style": "danger",
       "layout": "IPY_MODEL_1bb4c46451d64c84aa3dd62f6a6298aa",
       "max": 258,
       "style": "IPY_MODEL_8ca03fbf80c6402083a5f44f83537612",
       "value": 207
      }
     },
     "b7209a4a7f3c432ca5cc04e71b7dd243": {
      "model_module": "@jupyter-widgets/base",
      "model_module_version": "1.2.0",
      "model_name": "LayoutModel",
      "state": {
       "flex": "2"
      }
     },
     "b8c4d31f31834a64a3a27cc3a7c5723e": {
      "model_module": "@jupyter-widgets/base",
      "model_module_version": "1.2.0",
      "model_name": "LayoutModel",
      "state": {
       "flex": "2"
      }
     },
     "b946c8a2b82348008450ac7bccc616eb": {
      "model_module": "@jupyter-widgets/controls",
      "model_module_version": "1.5.0",
      "model_name": "HTMLModel",
      "state": {
       "layout": "IPY_MODEL_64fe21a7be3e4f888d3df4af5afe4258",
       "style": "IPY_MODEL_8e65d9946d364c3fa02a7d3abfb5e225",
       "value": " 1/2 [00:01&lt;00:01,  1.21s/it]"
      }
     },
     "b9eeab5593984549ad3cd2df71428733": {
      "model_module": "@jupyter-widgets/controls",
      "model_module_version": "1.5.0",
      "model_name": "HTMLModel",
      "state": {
       "layout": "IPY_MODEL_3b08c76cc7074cfc9623690ab58b7bf6",
       "style": "IPY_MODEL_77bac96e054449b091dad06f4694d8e5",
       "value": "Validation sanity check:  50%"
      }
     },
     "ba6eed55603c47d4bf875e972401e37f": {
      "model_module": "@jupyter-widgets/controls",
      "model_module_version": "1.5.0",
      "model_name": "DescriptionStyleModel",
      "state": {
       "description_width": ""
      }
     },
     "ba78dbe57a2d4d79b38077baa6bee229": {
      "model_module": "@jupyter-widgets/base",
      "model_module_version": "1.2.0",
      "model_name": "LayoutModel",
      "state": {}
     },
     "baf1149c2dad4c6b9d1b074b7edc6953": {
      "model_module": "@jupyter-widgets/controls",
      "model_module_version": "1.5.0",
      "model_name": "ProgressStyleModel",
      "state": {
       "description_width": ""
      }
     },
     "bb46c532ffe842b8b00f43cc6c10b555": {
      "model_module": "@jupyter-widgets/controls",
      "model_module_version": "1.5.0",
      "model_name": "DescriptionStyleModel",
      "state": {
       "description_width": ""
      }
     },
     "bb6958b3690e4d5aa294152257a2392d": {
      "model_module": "@jupyter-widgets/controls",
      "model_module_version": "1.5.0",
      "model_name": "DescriptionStyleModel",
      "state": {
       "description_width": ""
      }
     },
     "bc96dba845e743be9aa8edcdeb03da5c": {
      "model_module": "@jupyter-widgets/controls",
      "model_module_version": "1.5.0",
      "model_name": "ProgressStyleModel",
      "state": {
       "description_width": ""
      }
     },
     "bd50d6649c8b45f68f43a04e6e404bd4": {
      "model_module": "@jupyter-widgets/base",
      "model_module_version": "1.2.0",
      "model_name": "LayoutModel",
      "state": {
       "display": "inline-flex",
       "flex_flow": "row wrap",
       "width": "100%"
      }
     },
     "bd7f2195956f4e7891a5dd821be28275": {
      "model_module": "@jupyter-widgets/controls",
      "model_module_version": "1.5.0",
      "model_name": "ProgressStyleModel",
      "state": {
       "description_width": ""
      }
     },
     "bd8b065670bb4e81b6f2367a17d7225e": {
      "model_module": "@jupyter-widgets/controls",
      "model_module_version": "1.5.0",
      "model_name": "HTMLModel",
      "state": {
       "layout": "IPY_MODEL_8d07607663094c1fa9ef1c54563a9f7a",
       "style": "IPY_MODEL_a2efe50732144ebcb3ab36a8b49134a3",
       "value": "100%"
      }
     },
     "bdcc6b3a8a964a88b8bd053fd6b2c1bd": {
      "model_module": "@jupyter-widgets/controls",
      "model_module_version": "1.5.0",
      "model_name": "ProgressStyleModel",
      "state": {
       "description_width": ""
      }
     },
     "be0f1daa4ff14666a47900d60a10e971": {
      "model_module": "@jupyter-widgets/controls",
      "model_module_version": "1.5.0",
      "model_name": "HTMLModel",
      "state": {
       "layout": "IPY_MODEL_255ffa2a105344a684cf63f4163d7aa8",
       "style": "IPY_MODEL_ff892f754d5a49eba08c25c97726a522",
       "value": "Validation sanity check:  50%"
      }
     },
     "be41c8cab25848e2a90f89923ca19a9a": {
      "model_module": "@jupyter-widgets/base",
      "model_module_version": "1.2.0",
      "model_name": "LayoutModel",
      "state": {
       "flex": "2"
      }
     },
     "bec2ea9bb10d44979d9458ad2c142f1d": {
      "model_module": "@jupyter-widgets/controls",
      "model_module_version": "1.5.0",
      "model_name": "DescriptionStyleModel",
      "state": {
       "description_width": ""
      }
     },
     "c02646f46d384c2b919abd9e70fbb81d": {
      "model_module": "@jupyter-widgets/controls",
      "model_module_version": "1.5.0",
      "model_name": "HBoxModel",
      "state": {
       "children": [
        "IPY_MODEL_986c1544db50497281d93e39f1783a68",
        "IPY_MODEL_6215fc069d024f9e85ee52d8c8d36ae8",
        "IPY_MODEL_3dc1f62a709645938f259af3ce3c6eb6"
       ],
       "layout": "IPY_MODEL_bd50d6649c8b45f68f43a04e6e404bd4"
      }
     },
     "c1ff258ba7734733946e16d98e0bfae9": {
      "model_module": "@jupyter-widgets/controls",
      "model_module_version": "1.5.0",
      "model_name": "HTMLModel",
      "state": {
       "layout": "IPY_MODEL_39b463681f554726bf1b14919dbc12a2",
       "style": "IPY_MODEL_53ad9ae981d84c31b5db284abcd450e0",
       "value": " 73/73 [00:22&lt;00:00,  3.17it/s]"
      }
     },
     "c2d551fe604e41b683f3f7394456c470": {
      "model_module": "@jupyter-widgets/base",
      "model_module_version": "1.2.0",
      "model_name": "LayoutModel",
      "state": {}
     },
     "c2deb341ec824e1b9d52e3e1042ed5ad": {
      "model_module": "@jupyter-widgets/controls",
      "model_module_version": "1.5.0",
      "model_name": "ProgressStyleModel",
      "state": {
       "description_width": ""
      }
     },
     "c41d2b224bec41958408d37d35cf0210": {
      "model_module": "@jupyter-widgets/controls",
      "model_module_version": "1.5.0",
      "model_name": "ProgressStyleModel",
      "state": {
       "description_width": ""
      }
     },
     "c4296738995946aab09dd03249d92535": {
      "model_module": "@jupyter-widgets/controls",
      "model_module_version": "1.5.0",
      "model_name": "HTMLModel",
      "state": {
       "layout": "IPY_MODEL_d3189d1d52c0487093d2de8361cc4a12",
       "style": "IPY_MODEL_b3cbd2a1f4064d9a81c8b789b9ca8377",
       "value": "100%"
      }
     },
     "c510cb2a83bc4c8b836926331b233a3b": {
      "model_module": "@jupyter-widgets/base",
      "model_module_version": "1.2.0",
      "model_name": "LayoutModel",
      "state": {
       "flex": "2"
      }
     },
     "c5d75209a6634bf48a4a09eaaf91e052": {
      "model_module": "@jupyter-widgets/controls",
      "model_module_version": "1.5.0",
      "model_name": "ProgressStyleModel",
      "state": {
       "description_width": ""
      }
     },
     "c81df0d5ffb24565b3d0a6a923517df2": {
      "model_module": "@jupyter-widgets/base",
      "model_module_version": "1.2.0",
      "model_name": "LayoutModel",
      "state": {}
     },
     "c8521876dc2d4967bdffce78e36a3ef5": {
      "model_module": "@jupyter-widgets/controls",
      "model_module_version": "1.5.0",
      "model_name": "FloatProgressModel",
      "state": {
       "layout": "IPY_MODEL_ca08d1528caf4c29a2aed0f90de067d3",
       "max": 52,
       "style": "IPY_MODEL_f618216dfa2c4ee0a5a0265d344b3d22",
       "value": 52
      }
     },
     "c94b6b8c1a1242d891c677044115a49a": {
      "model_module": "@jupyter-widgets/controls",
      "model_module_version": "1.5.0",
      "model_name": "FloatProgressModel",
      "state": {
       "bar_style": "success",
       "layout": "IPY_MODEL_b7209a4a7f3c432ca5cc04e71b7dd243",
       "max": 258,
       "style": "IPY_MODEL_5bd0d326cb4e4861b88adb9e21f1aac0",
       "value": 258
      }
     },
     "c98ce6a3734b4f2f93c31f4d9bec744a": {
      "model_module": "@jupyter-widgets/controls",
      "model_module_version": "1.5.0",
      "model_name": "HTMLModel",
      "state": {
       "layout": "IPY_MODEL_ff6ad64461474dbda10ac17ec9e8c696",
       "style": "IPY_MODEL_76d4fed2041b482d8fa54043a9a8cfce",
       "value": "Validation sanity check:  50%"
      }
     },
     "c99766b1b6df4e11a9994da8a613e5e4": {
      "model_module": "@jupyter-widgets/controls",
      "model_module_version": "1.5.0",
      "model_name": "DescriptionStyleModel",
      "state": {
       "description_width": ""
      }
     },
     "c9e6bc92072b4e3a9506232a8a035535": {
      "model_module": "@jupyter-widgets/base",
      "model_module_version": "1.2.0",
      "model_name": "LayoutModel",
      "state": {}
     },
     "ca08d1528caf4c29a2aed0f90de067d3": {
      "model_module": "@jupyter-widgets/base",
      "model_module_version": "1.2.0",
      "model_name": "LayoutModel",
      "state": {
       "flex": "2"
      }
     },
     "cca0412f9f8f478993e8214b474d27ce": {
      "model_module": "@jupyter-widgets/controls",
      "model_module_version": "1.5.0",
      "model_name": "FloatProgressModel",
      "state": {
       "bar_style": "danger",
       "layout": "IPY_MODEL_2dc180dfc6f34226a2af33f6a4647b34",
       "max": 258,
       "style": "IPY_MODEL_f5c52769f7a444d8ab04619269d47973"
      }
     },
     "cd0a21f958b44082acf9b4e132d5b947": {
      "model_module": "@jupyter-widgets/controls",
      "model_module_version": "1.5.0",
      "model_name": "DescriptionStyleModel",
      "state": {
       "description_width": ""
      }
     },
     "cd15dd75022a4b5cabb609f2de2e01a7": {
      "model_module": "@jupyter-widgets/controls",
      "model_module_version": "1.5.0",
      "model_name": "DescriptionStyleModel",
      "state": {
       "description_width": ""
      }
     },
     "cdb25a011b624e27af6e27f70365fd82": {
      "model_module": "@jupyter-widgets/base",
      "model_module_version": "1.2.0",
      "model_name": "LayoutModel",
      "state": {
       "display": "inline-flex",
       "flex_flow": "row wrap",
       "width": "100%"
      }
     },
     "cf7d6b7237df41129066c567d4a22691": {
      "model_module": "@jupyter-widgets/base",
      "model_module_version": "1.2.0",
      "model_name": "LayoutModel",
      "state": {
       "flex": "2"
      }
     },
     "d05ab206b7e8408989284dfde606d27c": {
      "model_module": "@jupyter-widgets/controls",
      "model_module_version": "1.5.0",
      "model_name": "DescriptionStyleModel",
      "state": {
       "description_width": ""
      }
     },
     "d07c4312c3014b63b27e440ff94dc37e": {
      "model_module": "@jupyter-widgets/controls",
      "model_module_version": "1.5.0",
      "model_name": "ProgressStyleModel",
      "state": {
       "description_width": ""
      }
     },
     "d1cd15f95ae64d988a4ec1dfbdb7b667": {
      "model_module": "@jupyter-widgets/controls",
      "model_module_version": "1.5.0",
      "model_name": "HTMLModel",
      "state": {
       "layout": "IPY_MODEL_689ea0404c6e4a7fbc47158df068ab3a",
       "style": "IPY_MODEL_1d9f12f14b09464fb139bf651a32e63a",
       "value": "Validating:  58%"
      }
     },
     "d279326303a647808129c5d5c8bd474f": {
      "model_module": "@jupyter-widgets/controls",
      "model_module_version": "1.5.0",
      "model_name": "ProgressStyleModel",
      "state": {
       "description_width": ""
      }
     },
     "d3189d1d52c0487093d2de8361cc4a12": {
      "model_module": "@jupyter-widgets/base",
      "model_module_version": "1.2.0",
      "model_name": "LayoutModel",
      "state": {}
     },
     "d3ebe06e22da43b48be920d42802166a": {
      "model_module": "@jupyter-widgets/controls",
      "model_module_version": "1.5.0",
      "model_name": "HTMLModel",
      "state": {
       "layout": "IPY_MODEL_6eed8d6f350547d98e499bc8357b0934",
       "style": "IPY_MODEL_eee0fbee9ce54b39bbceac0fd4867d5c",
       "value": " 30/52 [00:00&lt;00:00, 45.83it/s]"
      }
     },
     "d55f3eb9deb0422a85c625c5e5168cc3": {
      "model_module": "@jupyter-widgets/base",
      "model_module_version": "1.2.0",
      "model_name": "LayoutModel",
      "state": {
       "flex": "2"
      }
     },
     "d6593c9557a04cb5a8b573d3f49b9dce": {
      "model_module": "@jupyter-widgets/controls",
      "model_module_version": "1.5.0",
      "model_name": "DescriptionStyleModel",
      "state": {
       "description_width": ""
      }
     },
     "d7afd98e6e0b4421a64d155c4a69451f": {
      "model_module": "@jupyter-widgets/controls",
      "model_module_version": "1.5.0",
      "model_name": "FloatProgressModel",
      "state": {
       "layout": "IPY_MODEL_32b079e1823b473e9ffd0eac059855de",
       "max": 1,
       "style": "IPY_MODEL_ddec880c53074bd0a5b24fbf739ed53f",
       "value": 1
      }
     },
     "d804252a851c473ca4697c33ff4f7ac1": {
      "model_module": "@jupyter-widgets/base",
      "model_module_version": "1.2.0",
      "model_name": "LayoutModel",
      "state": {}
     },
     "d9058023e13c463483d916d87b1098d8": {
      "model_module": "@jupyter-widgets/base",
      "model_module_version": "1.2.0",
      "model_name": "LayoutModel",
      "state": {
       "flex": "2"
      }
     },
     "d92d5c6587f24858bf4e6a588b227b17": {
      "model_module": "@jupyter-widgets/controls",
      "model_module_version": "1.5.0",
      "model_name": "DescriptionStyleModel",
      "state": {
       "description_width": ""
      }
     },
     "db3221e94abf40ad8feb1515d96fc445": {
      "model_module": "@jupyter-widgets/base",
      "model_module_version": "1.2.0",
      "model_name": "LayoutModel",
      "state": {
       "display": "inline-flex",
       "flex_flow": "row wrap",
       "width": "100%"
      }
     },
     "dba129f05507403f81e9e14ec740aa71": {
      "model_module": "@jupyter-widgets/controls",
      "model_module_version": "1.5.0",
      "model_name": "HBoxModel",
      "state": {
       "children": [
        "IPY_MODEL_fb36c8051d9f454fb63db60dd7be9238",
        "IPY_MODEL_42ac5456bb744fa68f0f83c21f69806c",
        "IPY_MODEL_0c9387aba4c1463f8fb78dd8c87334e5"
       ],
       "layout": "IPY_MODEL_db3221e94abf40ad8feb1515d96fc445"
      }
     },
     "dd691839ad184ef7a8957695b207b00f": {
      "model_module": "@jupyter-widgets/base",
      "model_module_version": "1.2.0",
      "model_name": "LayoutModel",
      "state": {}
     },
     "ddb5a4d4fd964bcab705c7d230133ddb": {
      "model_module": "@jupyter-widgets/controls",
      "model_module_version": "1.5.0",
      "model_name": "DescriptionStyleModel",
      "state": {
       "description_width": ""
      }
     },
     "ddec880c53074bd0a5b24fbf739ed53f": {
      "model_module": "@jupyter-widgets/controls",
      "model_module_version": "1.5.0",
      "model_name": "ProgressStyleModel",
      "state": {
       "description_width": ""
      }
     },
     "de1c1d1496af4cdd82380aa8e507d528": {
      "model_module": "@jupyter-widgets/base",
      "model_module_version": "1.2.0",
      "model_name": "LayoutModel",
      "state": {}
     },
     "dfb8e65237e847f89e3db16f9e94093b": {
      "model_module": "@jupyter-widgets/base",
      "model_module_version": "1.2.0",
      "model_name": "LayoutModel",
      "state": {}
     },
     "e1e924db4fd74a3487ff60d5227a1487": {
      "model_module": "@jupyter-widgets/controls",
      "model_module_version": "1.5.0",
      "model_name": "HTMLModel",
      "state": {
       "layout": "IPY_MODEL_2b4bc240e91e4dc9af22b3b6dc8dcf6d",
       "style": "IPY_MODEL_e446332db0634937a824acedee5f37ec",
       "value": "Validating:  60%"
      }
     },
     "e39ab0b43aef4b0a9c8ec20760130a44": {
      "model_module": "@jupyter-widgets/controls",
      "model_module_version": "1.5.0",
      "model_name": "ProgressStyleModel",
      "state": {
       "description_width": ""
      }
     },
     "e446332db0634937a824acedee5f37ec": {
      "model_module": "@jupyter-widgets/controls",
      "model_module_version": "1.5.0",
      "model_name": "DescriptionStyleModel",
      "state": {
       "description_width": ""
      }
     },
     "e55bb58b618149e696205a13fb728f68": {
      "model_module": "@jupyter-widgets/base",
      "model_module_version": "1.2.0",
      "model_name": "LayoutModel",
      "state": {
       "display": "inline-flex",
       "flex_flow": "row wrap",
       "width": "100%"
      }
     },
     "e7da06d9c92f4f41ab0d74f9af07ca1a": {
      "model_module": "@jupyter-widgets/controls",
      "model_module_version": "1.5.0",
      "model_name": "HTMLModel",
      "state": {
       "layout": "IPY_MODEL_c9e6bc92072b4e3a9506232a8a035535",
       "style": "IPY_MODEL_ec18a02cbe8c4e8ba94eb55a4a67db10",
       "value": " 1/2 [00:00&lt;00:00,  1.27it/s]"
      }
     },
     "e9113158cb48443a81ed4f81bb2047e8": {
      "model_module": "@jupyter-widgets/base",
      "model_module_version": "1.2.0",
      "model_name": "LayoutModel",
      "state": {}
     },
     "ea6f9cac99c7448a81968d5437e5274a": {
      "model_module": "@jupyter-widgets/controls",
      "model_module_version": "1.5.0",
      "model_name": "FloatProgressModel",
      "state": {
       "layout": "IPY_MODEL_af273609ac0342c79b70b7f6de15c736",
       "max": 1,
       "style": "IPY_MODEL_5c8a47adfd6548968ff638d0f19ab4d5",
       "value": 1
      }
     },
     "eb6dc6ea244549988668ed1757c6bc4f": {
      "model_module": "@jupyter-widgets/controls",
      "model_module_version": "1.5.0",
      "model_name": "DescriptionStyleModel",
      "state": {
       "description_width": ""
      }
     },
     "ec18a02cbe8c4e8ba94eb55a4a67db10": {
      "model_module": "@jupyter-widgets/controls",
      "model_module_version": "1.5.0",
      "model_name": "DescriptionStyleModel",
      "state": {
       "description_width": ""
      }
     },
     "ec2b155941404362abcc590b77c75d48": {
      "model_module": "@jupyter-widgets/controls",
      "model_module_version": "1.5.0",
      "model_name": "HTMLModel",
      "state": {
       "layout": "IPY_MODEL_32207ed8d9ba49708838cd65f9300015",
       "style": "IPY_MODEL_5786183f4a7f49c5a3d272b0b5456127",
       "value": "Validation sanity check:  50%"
      }
     },
     "ec542df395694bd4a06b00b7aaaa91ad": {
      "model_module": "@jupyter-widgets/controls",
      "model_module_version": "1.5.0",
      "model_name": "HTMLModel",
      "state": {
       "layout": "IPY_MODEL_065b12c96ba248ad8f38793b5dd29e45",
       "style": "IPY_MODEL_674f955665b04044bf788450a14046bb",
       "value": " 33/52 [00:00&lt;00:00, 63.34it/s]"
      }
     },
     "ed15cc414b4f48d993b06db8f45105c4": {
      "model_module": "@jupyter-widgets/controls",
      "model_module_version": "1.5.0",
      "model_name": "DescriptionStyleModel",
      "state": {
       "description_width": ""
      }
     },
     "ee97cc2275ee46c080142e44be2d1d99": {
      "model_module": "@jupyter-widgets/controls",
      "model_module_version": "1.5.0",
      "model_name": "LabelModel",
      "state": {
       "layout": "IPY_MODEL_f08ca51e9b90404c91d6ab30b9baa6b8",
       "style": "IPY_MODEL_a6d717ecf18f4f37970ef90bcb2fbedb",
       "value": " 0.01MB of 0.01MB uploaded (0.00MB deduped)\r"
      }
     },
     "eee0fbee9ce54b39bbceac0fd4867d5c": {
      "model_module": "@jupyter-widgets/controls",
      "model_module_version": "1.5.0",
      "model_name": "DescriptionStyleModel",
      "state": {
       "description_width": ""
      }
     },
     "f08013248ec8453d918ddc512fc2afc3": {
      "model_module": "@jupyter-widgets/base",
      "model_module_version": "1.2.0",
      "model_name": "LayoutModel",
      "state": {
       "display": "inline-flex",
       "flex_flow": "row wrap",
       "width": "100%"
      }
     },
     "f08ca51e9b90404c91d6ab30b9baa6b8": {
      "model_module": "@jupyter-widgets/base",
      "model_module_version": "1.2.0",
      "model_name": "LayoutModel",
      "state": {}
     },
     "f0e160ee3c8c4e4dbbb187468359cef6": {
      "model_module": "@jupyter-widgets/base",
      "model_module_version": "1.2.0",
      "model_name": "LayoutModel",
      "state": {}
     },
     "f1c1d14ba7a44d41a8b80cc3f0c30502": {
      "model_module": "@jupyter-widgets/controls",
      "model_module_version": "1.5.0",
      "model_name": "HTMLModel",
      "state": {
       "layout": "IPY_MODEL_1397139ed27944e19224d1e8b1a1e62e",
       "style": "IPY_MODEL_bec2ea9bb10d44979d9458ad2c142f1d",
       "value": "Epoch 0:  80%"
      }
     },
     "f3d5c7dbb3e24f798e9f046353311105": {
      "model_module": "@jupyter-widgets/controls",
      "model_module_version": "1.5.0",
      "model_name": "ProgressStyleModel",
      "state": {
       "description_width": ""
      }
     },
     "f41ec5173d1f4a509730abab972b4ea6": {
      "model_module": "@jupyter-widgets/base",
      "model_module_version": "1.2.0",
      "model_name": "LayoutModel",
      "state": {}
     },
     "f49b78db489c4a2c929410991325760c": {
      "model_module": "@jupyter-widgets/base",
      "model_module_version": "1.2.0",
      "model_name": "LayoutModel",
      "state": {}
     },
     "f54a3c2cbd1d42aaaf0fe626da486011": {
      "model_module": "@jupyter-widgets/base",
      "model_module_version": "1.2.0",
      "model_name": "LayoutModel",
      "state": {}
     },
     "f5c52769f7a444d8ab04619269d47973": {
      "model_module": "@jupyter-widgets/controls",
      "model_module_version": "1.5.0",
      "model_name": "ProgressStyleModel",
      "state": {
       "description_width": ""
      }
     },
     "f618216dfa2c4ee0a5a0265d344b3d22": {
      "model_module": "@jupyter-widgets/controls",
      "model_module_version": "1.5.0",
      "model_name": "ProgressStyleModel",
      "state": {
       "description_width": ""
      }
     },
     "f7052dc4837841c083fcd9e61dd179fd": {
      "model_module": "@jupyter-widgets/controls",
      "model_module_version": "1.5.0",
      "model_name": "FloatProgressModel",
      "state": {
       "layout": "IPY_MODEL_ab871d6badd44a48bb9e258552e41d5b",
       "max": 1,
       "style": "IPY_MODEL_c2deb341ec824e1b9d52e3e1042ed5ad",
       "value": 1
      }
     },
     "fa5069afc8de49948d1deace9e38fb0a": {
      "model_module": "@jupyter-widgets/controls",
      "model_module_version": "1.5.0",
      "model_name": "FloatProgressModel",
      "state": {
       "layout": "IPY_MODEL_88a1b73156d74a30b62a9eb6295fe34b",
       "max": 52,
       "style": "IPY_MODEL_0008501c024a4cb0940f83cdc08abdc1",
       "value": 52
      }
     },
     "fa904f9c76c7417c8af046076f56881c": {
      "model_module": "@jupyter-widgets/controls",
      "model_module_version": "1.5.0",
      "model_name": "LabelModel",
      "state": {
       "layout": "IPY_MODEL_315ad91d78084b74bfc5bdd3f1286d48",
       "style": "IPY_MODEL_ac740cd0e1ac44f3b686d7184946d2b3",
       "value": " 0.01MB of 0.01MB uploaded (0.00MB deduped)\r"
      }
     },
     "fb36c8051d9f454fb63db60dd7be9238": {
      "model_module": "@jupyter-widgets/controls",
      "model_module_version": "1.5.0",
      "model_name": "HTMLModel",
      "state": {
       "layout": "IPY_MODEL_5b69796dae3c4fe38a67e49698ef393a",
       "style": "IPY_MODEL_0664b800864d4e12a1580853ed7a131d",
       "value": "Epoch 0:   2%"
      }
     },
     "fba0a1220e6342a4a2934fa2d0a5fb18": {
      "model_module": "@jupyter-widgets/controls",
      "model_module_version": "1.5.0",
      "model_name": "DescriptionStyleModel",
      "state": {
       "description_width": ""
      }
     },
     "fc2cdac0ed9f49a0a7dd783211a1c31a": {
      "model_module": "@jupyter-widgets/base",
      "model_module_version": "1.2.0",
      "model_name": "LayoutModel",
      "state": {}
     },
     "fcdfc4978a2f4829b8039262c48539e6": {
      "model_module": "@jupyter-widgets/controls",
      "model_module_version": "1.5.0",
      "model_name": "HBoxModel",
      "state": {
       "children": [
        "IPY_MODEL_c4296738995946aab09dd03249d92535",
        "IPY_MODEL_0a57227815dc47bb83781f08a943c0d8",
        "IPY_MODEL_c1ff258ba7734733946e16d98e0bfae9"
       ],
       "layout": "IPY_MODEL_5183bb2b38164dc5905758c0b27d2e0a"
      }
     },
     "fd2294d354214a48875d0d932fe09a29": {
      "model_module": "@jupyter-widgets/controls",
      "model_module_version": "1.5.0",
      "model_name": "HTMLModel",
      "state": {
       "layout": "IPY_MODEL_f0e160ee3c8c4e4dbbb187468359cef6",
       "style": "IPY_MODEL_0be5c77d526b4ebd9709af01f3dffdde",
       "value": "Epoch 0:   0%"
      }
     },
     "fdb012169f4d4bfc9c834e221539d434": {
      "model_module": "@jupyter-widgets/controls",
      "model_module_version": "1.5.0",
      "model_name": "HTMLModel",
      "state": {
       "layout": "IPY_MODEL_918c652dc5304356865160297d311d46",
       "style": "IPY_MODEL_bb6958b3690e4d5aa294152257a2392d",
       "value": " 73/73 [00:00&lt;00:00, 92.70it/s]"
      }
     },
     "fe452333f39e403d9b4003af14691396": {
      "model_module": "@jupyter-widgets/base",
      "model_module_version": "1.2.0",
      "model_name": "LayoutModel",
      "state": {}
     },
     "fe79fcd8b61942ca8606a50dfa2dc775": {
      "model_module": "@jupyter-widgets/controls",
      "model_module_version": "1.5.0",
      "model_name": "ProgressStyleModel",
      "state": {
       "description_width": ""
      }
     },
     "febdcd1cffad4735855800fa805dae07": {
      "model_module": "@jupyter-widgets/controls",
      "model_module_version": "1.5.0",
      "model_name": "FloatProgressModel",
      "state": {
       "layout": "IPY_MODEL_be41c8cab25848e2a90f89923ca19a9a",
       "max": 2,
       "style": "IPY_MODEL_62ecbca57ca642188e6323557502c5e6",
       "value": 2
      }
     },
     "ff6ad64461474dbda10ac17ec9e8c696": {
      "model_module": "@jupyter-widgets/base",
      "model_module_version": "1.2.0",
      "model_name": "LayoutModel",
      "state": {}
     },
     "ff7ad83c3ea44cf89aa001d3c1cb0fda": {
      "model_module": "@jupyter-widgets/controls",
      "model_module_version": "1.5.0",
      "model_name": "LabelModel",
      "state": {
       "layout": "IPY_MODEL_b0636b078671483e8eb8ad560a72ddc6",
       "style": "IPY_MODEL_291ec19a1b14445597d82f7ea5a76583",
       "value": " 0.01MB of 0.01MB uploaded (0.00MB deduped)\r"
      }
     },
     "ff892f754d5a49eba08c25c97726a522": {
      "model_module": "@jupyter-widgets/controls",
      "model_module_version": "1.5.0",
      "model_name": "DescriptionStyleModel",
      "state": {
       "description_width": ""
      }
     }
    },
    "version_major": 2,
    "version_minor": 0
   }
  }
 },
 "nbformat": 4,
 "nbformat_minor": 5
}