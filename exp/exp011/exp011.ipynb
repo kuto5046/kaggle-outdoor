{
 "cells": [
  {
   "cell_type": "code",
   "execution_count": 1,
   "metadata": {},
   "outputs": [],
   "source": [
    "import os\n",
    "import sys\n",
    "import glob\n",
    "import yaml\n",
    "import pickle\n",
    "import random\n",
    "\n",
    "import numpy as np\n",
    "import pandas as pd\n",
    "import scipy.stats as stats\n",
    "from pathlib import Path\n",
    "import matplotlib.pyplot as plt\n",
    "from sklearn import model_selection\n",
    "from sklearn.preprocessing import StandardScaler, LabelEncoder\n",
    "\n",
    "import json\n",
    "from PIL import Image\n",
    "import wandb\n",
    "import torch\n",
    "from torch import nn\n",
    "import torch.nn.functional as F\n",
    "from torch.utils.data import Dataset, DataLoader\n",
    "import torch.optim as optim\n",
    "\n",
    "import pytorch_lightning as pl\n",
    "from pytorch_lightning.loggers import WandbLogger\n",
    "from pytorch_lightning.callbacks import ModelCheckpoint\n",
    "from pytorch_lightning.callbacks import EarlyStopping\n",
    "from pytorch_lightning.utilities.seed import seed_everything"
   ]
  },
  {
   "cell_type": "code",
   "execution_count": 2,
   "metadata": {},
   "outputs": [
    {
     "name": "stderr",
     "output_type": "stream",
     "text": [
      "Global seed set to 1996\n"
     ]
    },
    {
     "data": {
      "text/plain": [
       "1996"
      ]
     },
     "execution_count": 2,
     "metadata": {},
     "output_type": "execute_result"
    }
   ],
   "source": [
    "# config\n",
    "with open('config.yaml') as f:\n",
    "    config = yaml.safe_load(f)\n",
    "\n",
    "# globals variable\n",
    "SEED = config['globals']['seed']\n",
    "MAX_EPOCHS = config['globals']['max_epochs']\n",
    "N_SPLITS = config['globals']['n_splits']\n",
    "USE_FOLDS = config['globals']['use_folds']\n",
    "DEBUG = config['globals']['debug']\n",
    "EXP_MESSAGE = config['globals']['exp_message']\n",
    "NOTES = config['globals']['notes']\n",
    "MODEL_SAVE = config['globals']['model_save']\n",
    "ONLY_PRED = config['globals']['only_pred']\n",
    "PRETRAINED = config['globals']['pretrained']\n",
    "PRETRAINED_PATH = config['globals']['pretrained_path']\n",
    "EXP_NAME = str(Path().resolve()).split('/')[-1]\n",
    "\n",
    "# seed\n",
    "seed_everything(SEED)"
   ]
  },
  {
   "cell_type": "code",
   "execution_count": 3,
   "metadata": {},
   "outputs": [
    {
     "data": {
      "text/plain": [
       "'exp011'"
      ]
     },
     "execution_count": 3,
     "metadata": {},
     "output_type": "execute_result"
    }
   ],
   "source": [
    "EXP_NAME"
   ]
  },
  {
   "cell_type": "code",
   "execution_count": 4,
   "metadata": {},
   "outputs": [
    {
     "name": "stdout",
     "output_type": "stream",
     "text": [
      "\u001b[34m\u001b[1mwandb\u001b[0m: Appending key for api.wandb.ai to your netrc file: /home/user/.netrc\n"
     ]
    }
   ],
   "source": [
    "!wandb login 1bb2d0449c11d8b987e25c38b9d8dda176310fb6"
   ]
  },
  {
   "cell_type": "code",
   "execution_count": 5,
   "metadata": {},
   "outputs": [],
   "source": [
    "# waypointを補正したdataset\n",
    "root_dir = Path('../../input/')\n",
    "data_dir = root_dir/'google-smartphone-decimeter-challenge'\n",
    "train_base_df = pd.read_csv(data_dir / \"baseline_locations_train.csv\")\n",
    "test_base_df = pd.read_csv(data_dir / \"baseline_locations_test.csv\")\n",
    "sub_df = pd.read_csv(data_dir / 'sample_submission.csv', index_col=0)\n"
   ]
  },
  {
   "cell_type": "code",
   "execution_count": 6,
   "metadata": {},
   "outputs": [],
   "source": [
    "import pickle\n",
    "\n",
    "def to_pickle(filename, obj):\n",
    "    with open(filename, mode='wb') as f:\n",
    "        pickle.dump(obj, f)\n",
    "\n",
    "\n",
    "def from_pickle(filename):\n",
    "    with open(filename, mode='rb') as f:\n",
    "        obj = pickle.load(f)\n",
    "    return obj"
   ]
  },
  {
   "cell_type": "markdown",
   "metadata": {},
   "source": [
    "## create dataset"
   ]
  },
  {
   "cell_type": "code",
   "execution_count": 7,
   "metadata": {},
   "outputs": [],
   "source": [
    "from tqdm.notebook import tqdm\n",
    "# get derived data\n",
    "def create_dervied_dataset(phase='train'):\n",
    "    derived_files = (data_dir / phase).rglob('*_derived.csv')\n",
    "    cols = ['millisSinceGpsEpoch', 'svid', 'correctedPrM']\n",
    "\n",
    "    df_list = []\n",
    "    for t in tqdm(derived_files):\n",
    "        derived = pd.read_csv(t).drop_duplicates(['millisSinceGpsEpoch', 'svid'])\n",
    "        derived['correctedPrM'] = (derived['rawPrM'] + derived['satClkBiasM'] - derived['isrbM'] - \n",
    "                                derived['ionoDelayM'] - derived['tropoDelayM'])\n",
    "        df_list.append(derived[['collectionName', 'phoneName', 'millisSinceGpsEpoch', 'svid', 'correctedPrM']])\n",
    "        \n",
    "    derived_df = pd.concat(df_list, ignore_index=True)\n",
    "    derived_df['phone'] = derived_df['collectionName'] + '_' + derived_df['phoneName']\n",
    "    derived_df.drop(['collectionName', 'phoneName'], axis=1, inplace=True)\n",
    "\n",
    "    derived_pivot_df = pd.pivot_table(derived_df, \n",
    "                                    values='correctedPrM', \n",
    "                                    index=['phone', 'millisSinceGpsEpoch'],\n",
    "                                    columns=['svid'],\n",
    "                                    aggfunc=np.mean)\n",
    "    derived_pivot_df.columns = [f'svid_{x}' for x in derived_pivot_df.columns]\n",
    "    derived_pivot_df.reset_index(inplace=True)\n",
    "    derived_pivot_df['sSinceGpsEpoch'] = derived_pivot_df['millisSinceGpsEpoch'] // 1000\n",
    "    return derived_pivot_df"
   ]
  },
  {
   "cell_type": "code",
   "execution_count": 8,
   "metadata": {},
   "outputs": [],
   "source": [
    "# ground truth data\n",
    "\n",
    "def merge_dataset(base_df, derived_df, data_dir, phase):\n",
    "\n",
    "    if phase == 'train':\n",
    "        # from https://www.kaggle.com/jpmiller/baseline-from-host-data\n",
    "        label_files = (data_dir / phase).rglob('ground_truth.csv')\n",
    "\n",
    "        df_list = []\n",
    "        for t in tqdm(label_files, total=73):\n",
    "            label = pd.read_csv(t, usecols=['collectionName','phoneName','millisSinceGpsEpoch','latDeg','lngDeg'])\n",
    "            df_list.append(label)\n",
    "\n",
    "        label_df = pd.concat(df_list, ignore_index=True)\n",
    "        label_df['phone'] = label_df['collectionName'] + '_' + label_df['phoneName']\n",
    "\n",
    "        df = label_df.merge(base_df, how='inner', on=['phone', 'millisSinceGpsEpoch'], \n",
    "                            suffixes=('_gt', '')).drop(['collectionName', 'phoneName'], axis=1).rename(columns={'collectionName_gt':'collectionName', 'phoneName_gt':'phoneName'})\n",
    "        df['latDeg_dt'] = df['latDeg_gt'] - df[\"latDeg\"]\n",
    "        df['lngDeg_dt'] = df['lngDeg_gt'] - df[\"lngDeg\"]\n",
    "    else:\n",
    "        df = base_df.copy()\n",
    "    \n",
    "    df['sSinceGpsEpoch'] = df['millisSinceGpsEpoch'] // 1000\n",
    "    df = df.merge(derived_df, how='left', on=['phone', 'sSinceGpsEpoch'], suffixes=['', '_'])\n",
    "    df.drop(['sSinceGpsEpoch', 'millisSinceGpsEpoch_'], axis=1, inplace=True)\n",
    "    return df"
   ]
  },
  {
   "cell_type": "code",
   "execution_count": 9,
   "metadata": {},
   "outputs": [
    {
     "data": {
      "application/vnd.jupyter.widget-view+json": {
       "model_id": "7999537cb90d497a8b81ce1812355d85",
       "version_major": 2,
       "version_minor": 0
      },
      "text/plain": [
       "0it [00:00, ?it/s]"
      ]
     },
     "metadata": {},
     "output_type": "display_data"
    },
    {
     "data": {
      "application/vnd.jupyter.widget-view+json": {
       "model_id": "9a9b3236cdfd42288f51cd9cdfe8441f",
       "version_major": 2,
       "version_minor": 0
      },
      "text/plain": [
       "0it [00:00, ?it/s]"
      ]
     },
     "metadata": {},
     "output_type": "display_data"
    },
    {
     "data": {
      "application/vnd.jupyter.widget-view+json": {
       "model_id": "3106e4f59836407688f1b40201aaf234",
       "version_major": 2,
       "version_minor": 0
      },
      "text/plain": [
       "  0%|          | 0/73 [00:00<?, ?it/s]"
      ]
     },
     "metadata": {},
     "output_type": "display_data"
    }
   ],
   "source": [
    "train_derived_df = create_dervied_dataset(phase='train')\n",
    "test_derived_df = create_dervied_dataset(phase='test')\n",
    "\n",
    "train_df = merge_dataset(train_base_df, train_derived_df, data_dir, phase='train')\n",
    "test_df = merge_dataset(test_base_df, test_derived_df, data_dir, phase='test')"
   ]
  },
  {
   "cell_type": "code",
   "execution_count": 10,
   "metadata": {},
   "outputs": [
    {
     "data": {
      "text/plain": [
       "((131347, 48), (91496, 44))"
      ]
     },
     "execution_count": 10,
     "metadata": {},
     "output_type": "execute_result"
    }
   ],
   "source": [
    "train_df.shape, test_df.shape"
   ]
  },
  {
   "cell_type": "code",
   "execution_count": 11,
   "metadata": {},
   "outputs": [
    {
     "data": {
      "text/plain": [
       "{'latDeg_dt', 'latDeg_gt', 'lngDeg_dt', 'lngDeg_gt'}"
      ]
     },
     "execution_count": 11,
     "metadata": {},
     "output_type": "execute_result"
    }
   ],
   "source": [
    "set(train_df.columns)-set(test_df.columns)"
   ]
  },
  {
   "cell_type": "code",
   "execution_count": 12,
   "metadata": {},
   "outputs": [
    {
     "data": {
      "text/html": [
       "<div>\n",
       "<style scoped>\n",
       "    .dataframe tbody tr th:only-of-type {\n",
       "        vertical-align: middle;\n",
       "    }\n",
       "\n",
       "    .dataframe tbody tr th {\n",
       "        vertical-align: top;\n",
       "    }\n",
       "\n",
       "    .dataframe thead th {\n",
       "        text-align: right;\n",
       "    }\n",
       "</style>\n",
       "<table border=\"1\" class=\"dataframe\">\n",
       "  <thead>\n",
       "    <tr style=\"text-align: right;\">\n",
       "      <th></th>\n",
       "      <th>collectionName</th>\n",
       "      <th>phoneName</th>\n",
       "      <th>millisSinceGpsEpoch</th>\n",
       "      <th>latDeg_gt</th>\n",
       "      <th>lngDeg_gt</th>\n",
       "      <th>phone</th>\n",
       "      <th>latDeg</th>\n",
       "      <th>lngDeg</th>\n",
       "      <th>heightAboveWgs84EllipsoidM</th>\n",
       "      <th>latDeg_dt</th>\n",
       "      <th>...</th>\n",
       "      <th>svid_28</th>\n",
       "      <th>svid_29</th>\n",
       "      <th>svid_30</th>\n",
       "      <th>svid_31</th>\n",
       "      <th>svid_32</th>\n",
       "      <th>svid_33</th>\n",
       "      <th>svid_34</th>\n",
       "      <th>svid_35</th>\n",
       "      <th>svid_36</th>\n",
       "      <th>svid_37</th>\n",
       "    </tr>\n",
       "  </thead>\n",
       "  <tbody>\n",
       "    <tr>\n",
       "      <th>0</th>\n",
       "      <td>2020-06-04-US-MTV-1</td>\n",
       "      <td>Pixel4XLModded</td>\n",
       "      <td>1275339495434</td>\n",
       "      <td>37.416314</td>\n",
       "      <td>-122.080466</td>\n",
       "      <td>2020-06-04-US-MTV-1_Pixel4XLModded</td>\n",
       "      <td>37.416320</td>\n",
       "      <td>-122.080459</td>\n",
       "      <td>-32.33</td>\n",
       "      <td>-0.000007</td>\n",
       "      <td>...</td>\n",
       "      <td>NaN</td>\n",
       "      <td>NaN</td>\n",
       "      <td>NaN</td>\n",
       "      <td>NaN</td>\n",
       "      <td>NaN</td>\n",
       "      <td>NaN</td>\n",
       "      <td>NaN</td>\n",
       "      <td>NaN</td>\n",
       "      <td>NaN</td>\n",
       "      <td>NaN</td>\n",
       "    </tr>\n",
       "    <tr>\n",
       "      <th>1</th>\n",
       "      <td>2020-06-04-US-MTV-1</td>\n",
       "      <td>Pixel4XLModded</td>\n",
       "      <td>1275339496434</td>\n",
       "      <td>37.416314</td>\n",
       "      <td>-122.080466</td>\n",
       "      <td>2020-06-04-US-MTV-1_Pixel4XLModded</td>\n",
       "      <td>37.416342</td>\n",
       "      <td>-122.080471</td>\n",
       "      <td>-31.77</td>\n",
       "      <td>-0.000028</td>\n",
       "      <td>...</td>\n",
       "      <td>NaN</td>\n",
       "      <td>2.293725e+07</td>\n",
       "      <td>2.340839e+07</td>\n",
       "      <td>NaN</td>\n",
       "      <td>NaN</td>\n",
       "      <td>NaN</td>\n",
       "      <td>NaN</td>\n",
       "      <td>NaN</td>\n",
       "      <td>2.250868e+07</td>\n",
       "      <td>NaN</td>\n",
       "    </tr>\n",
       "    <tr>\n",
       "      <th>2</th>\n",
       "      <td>2020-06-04-US-MTV-1</td>\n",
       "      <td>Pixel4XLModded</td>\n",
       "      <td>1275339497434</td>\n",
       "      <td>37.416314</td>\n",
       "      <td>-122.080466</td>\n",
       "      <td>2020-06-04-US-MTV-1_Pixel4XLModded</td>\n",
       "      <td>37.416353</td>\n",
       "      <td>-122.080493</td>\n",
       "      <td>-33.34</td>\n",
       "      <td>-0.000040</td>\n",
       "      <td>...</td>\n",
       "      <td>NaN</td>\n",
       "      <td>2.293681e+07</td>\n",
       "      <td>2.188019e+07</td>\n",
       "      <td>NaN</td>\n",
       "      <td>NaN</td>\n",
       "      <td>NaN</td>\n",
       "      <td>NaN</td>\n",
       "      <td>NaN</td>\n",
       "      <td>2.250873e+07</td>\n",
       "      <td>NaN</td>\n",
       "    </tr>\n",
       "    <tr>\n",
       "      <th>3</th>\n",
       "      <td>2020-06-04-US-MTV-1</td>\n",
       "      <td>Pixel4XLModded</td>\n",
       "      <td>1275339498434</td>\n",
       "      <td>37.416314</td>\n",
       "      <td>-122.080466</td>\n",
       "      <td>2020-06-04-US-MTV-1_Pixel4XLModded</td>\n",
       "      <td>37.416343</td>\n",
       "      <td>-122.080474</td>\n",
       "      <td>-33.47</td>\n",
       "      <td>-0.000029</td>\n",
       "      <td>...</td>\n",
       "      <td>NaN</td>\n",
       "      <td>2.293638e+07</td>\n",
       "      <td>2.188017e+07</td>\n",
       "      <td>NaN</td>\n",
       "      <td>NaN</td>\n",
       "      <td>NaN</td>\n",
       "      <td>NaN</td>\n",
       "      <td>NaN</td>\n",
       "      <td>2.250879e+07</td>\n",
       "      <td>NaN</td>\n",
       "    </tr>\n",
       "    <tr>\n",
       "      <th>4</th>\n",
       "      <td>2020-06-04-US-MTV-1</td>\n",
       "      <td>Pixel4XLModded</td>\n",
       "      <td>1275339499434</td>\n",
       "      <td>37.416314</td>\n",
       "      <td>-122.080466</td>\n",
       "      <td>2020-06-04-US-MTV-1_Pixel4XLModded</td>\n",
       "      <td>37.416340</td>\n",
       "      <td>-122.080474</td>\n",
       "      <td>-34.06</td>\n",
       "      <td>-0.000027</td>\n",
       "      <td>...</td>\n",
       "      <td>NaN</td>\n",
       "      <td>2.293596e+07</td>\n",
       "      <td>2.188014e+07</td>\n",
       "      <td>NaN</td>\n",
       "      <td>NaN</td>\n",
       "      <td>NaN</td>\n",
       "      <td>NaN</td>\n",
       "      <td>NaN</td>\n",
       "      <td>2.250884e+07</td>\n",
       "      <td>NaN</td>\n",
       "    </tr>\n",
       "    <tr>\n",
       "      <th>...</th>\n",
       "      <td>...</td>\n",
       "      <td>...</td>\n",
       "      <td>...</td>\n",
       "      <td>...</td>\n",
       "      <td>...</td>\n",
       "      <td>...</td>\n",
       "      <td>...</td>\n",
       "      <td>...</td>\n",
       "      <td>...</td>\n",
       "      <td>...</td>\n",
       "      <td>...</td>\n",
       "      <td>...</td>\n",
       "      <td>...</td>\n",
       "      <td>...</td>\n",
       "      <td>...</td>\n",
       "      <td>...</td>\n",
       "      <td>...</td>\n",
       "      <td>...</td>\n",
       "      <td>...</td>\n",
       "      <td>...</td>\n",
       "      <td>...</td>\n",
       "    </tr>\n",
       "    <tr>\n",
       "      <th>131342</th>\n",
       "      <td>2021-01-04-US-RWC-2</td>\n",
       "      <td>Pixel5</td>\n",
       "      <td>1293837130433</td>\n",
       "      <td>37.444463</td>\n",
       "      <td>-122.232459</td>\n",
       "      <td>2021-01-04-US-RWC-2_Pixel5</td>\n",
       "      <td>37.444467</td>\n",
       "      <td>-122.232437</td>\n",
       "      <td>8.80</td>\n",
       "      <td>-0.000004</td>\n",
       "      <td>...</td>\n",
       "      <td>2.525797e+07</td>\n",
       "      <td>NaN</td>\n",
       "      <td>2.078545e+07</td>\n",
       "      <td>NaN</td>\n",
       "      <td>NaN</td>\n",
       "      <td>NaN</td>\n",
       "      <td>NaN</td>\n",
       "      <td>NaN</td>\n",
       "      <td>2.363825e+07</td>\n",
       "      <td>2.455588e+07</td>\n",
       "    </tr>\n",
       "    <tr>\n",
       "      <th>131343</th>\n",
       "      <td>2021-01-04-US-RWC-2</td>\n",
       "      <td>Pixel5</td>\n",
       "      <td>1293837131433</td>\n",
       "      <td>37.444463</td>\n",
       "      <td>-122.232459</td>\n",
       "      <td>2021-01-04-US-RWC-2_Pixel5</td>\n",
       "      <td>37.444474</td>\n",
       "      <td>-122.232426</td>\n",
       "      <td>11.04</td>\n",
       "      <td>-0.000011</td>\n",
       "      <td>...</td>\n",
       "      <td>2.525806e+07</td>\n",
       "      <td>NaN</td>\n",
       "      <td>2.078525e+07</td>\n",
       "      <td>NaN</td>\n",
       "      <td>NaN</td>\n",
       "      <td>NaN</td>\n",
       "      <td>NaN</td>\n",
       "      <td>NaN</td>\n",
       "      <td>2.363792e+07</td>\n",
       "      <td>2.455629e+07</td>\n",
       "    </tr>\n",
       "    <tr>\n",
       "      <th>131344</th>\n",
       "      <td>2021-01-04-US-RWC-2</td>\n",
       "      <td>Pixel5</td>\n",
       "      <td>1293837132433</td>\n",
       "      <td>37.444463</td>\n",
       "      <td>-122.232459</td>\n",
       "      <td>2021-01-04-US-RWC-2_Pixel5</td>\n",
       "      <td>37.444469</td>\n",
       "      <td>-122.232438</td>\n",
       "      <td>8.14</td>\n",
       "      <td>-0.000007</td>\n",
       "      <td>...</td>\n",
       "      <td>2.525815e+07</td>\n",
       "      <td>NaN</td>\n",
       "      <td>2.078505e+07</td>\n",
       "      <td>NaN</td>\n",
       "      <td>NaN</td>\n",
       "      <td>NaN</td>\n",
       "      <td>NaN</td>\n",
       "      <td>NaN</td>\n",
       "      <td>2.363758e+07</td>\n",
       "      <td>2.455671e+07</td>\n",
       "    </tr>\n",
       "    <tr>\n",
       "      <th>131345</th>\n",
       "      <td>2021-01-04-US-RWC-2</td>\n",
       "      <td>Pixel5</td>\n",
       "      <td>1293837133433</td>\n",
       "      <td>37.444463</td>\n",
       "      <td>-122.232459</td>\n",
       "      <td>2021-01-04-US-RWC-2_Pixel5</td>\n",
       "      <td>37.444467</td>\n",
       "      <td>-122.232418</td>\n",
       "      <td>10.60</td>\n",
       "      <td>-0.000004</td>\n",
       "      <td>...</td>\n",
       "      <td>2.525822e+07</td>\n",
       "      <td>NaN</td>\n",
       "      <td>2.078485e+07</td>\n",
       "      <td>NaN</td>\n",
       "      <td>NaN</td>\n",
       "      <td>NaN</td>\n",
       "      <td>NaN</td>\n",
       "      <td>NaN</td>\n",
       "      <td>2.363724e+07</td>\n",
       "      <td>2.455712e+07</td>\n",
       "    </tr>\n",
       "    <tr>\n",
       "      <th>131346</th>\n",
       "      <td>2021-01-04-US-RWC-2</td>\n",
       "      <td>Pixel5</td>\n",
       "      <td>1293837134433</td>\n",
       "      <td>37.444463</td>\n",
       "      <td>-122.232459</td>\n",
       "      <td>2021-01-04-US-RWC-2_Pixel5</td>\n",
       "      <td>37.444471</td>\n",
       "      <td>-122.232407</td>\n",
       "      <td>12.65</td>\n",
       "      <td>-0.000009</td>\n",
       "      <td>...</td>\n",
       "      <td>2.525830e+07</td>\n",
       "      <td>NaN</td>\n",
       "      <td>2.078465e+07</td>\n",
       "      <td>NaN</td>\n",
       "      <td>NaN</td>\n",
       "      <td>NaN</td>\n",
       "      <td>NaN</td>\n",
       "      <td>NaN</td>\n",
       "      <td>2.363691e+07</td>\n",
       "      <td>2.455753e+07</td>\n",
       "    </tr>\n",
       "  </tbody>\n",
       "</table>\n",
       "<p>131347 rows × 48 columns</p>\n",
       "</div>"
      ],
      "text/plain": [
       "             collectionName       phoneName  millisSinceGpsEpoch  latDeg_gt  \\\n",
       "0       2020-06-04-US-MTV-1  Pixel4XLModded        1275339495434  37.416314   \n",
       "1       2020-06-04-US-MTV-1  Pixel4XLModded        1275339496434  37.416314   \n",
       "2       2020-06-04-US-MTV-1  Pixel4XLModded        1275339497434  37.416314   \n",
       "3       2020-06-04-US-MTV-1  Pixel4XLModded        1275339498434  37.416314   \n",
       "4       2020-06-04-US-MTV-1  Pixel4XLModded        1275339499434  37.416314   \n",
       "...                     ...             ...                  ...        ...   \n",
       "131342  2021-01-04-US-RWC-2          Pixel5        1293837130433  37.444463   \n",
       "131343  2021-01-04-US-RWC-2          Pixel5        1293837131433  37.444463   \n",
       "131344  2021-01-04-US-RWC-2          Pixel5        1293837132433  37.444463   \n",
       "131345  2021-01-04-US-RWC-2          Pixel5        1293837133433  37.444463   \n",
       "131346  2021-01-04-US-RWC-2          Pixel5        1293837134433  37.444463   \n",
       "\n",
       "         lngDeg_gt                               phone     latDeg      lngDeg  \\\n",
       "0      -122.080466  2020-06-04-US-MTV-1_Pixel4XLModded  37.416320 -122.080459   \n",
       "1      -122.080466  2020-06-04-US-MTV-1_Pixel4XLModded  37.416342 -122.080471   \n",
       "2      -122.080466  2020-06-04-US-MTV-1_Pixel4XLModded  37.416353 -122.080493   \n",
       "3      -122.080466  2020-06-04-US-MTV-1_Pixel4XLModded  37.416343 -122.080474   \n",
       "4      -122.080466  2020-06-04-US-MTV-1_Pixel4XLModded  37.416340 -122.080474   \n",
       "...            ...                                 ...        ...         ...   \n",
       "131342 -122.232459          2021-01-04-US-RWC-2_Pixel5  37.444467 -122.232437   \n",
       "131343 -122.232459          2021-01-04-US-RWC-2_Pixel5  37.444474 -122.232426   \n",
       "131344 -122.232459          2021-01-04-US-RWC-2_Pixel5  37.444469 -122.232438   \n",
       "131345 -122.232459          2021-01-04-US-RWC-2_Pixel5  37.444467 -122.232418   \n",
       "131346 -122.232459          2021-01-04-US-RWC-2_Pixel5  37.444471 -122.232407   \n",
       "\n",
       "        heightAboveWgs84EllipsoidM  latDeg_dt  ...       svid_28  \\\n",
       "0                           -32.33  -0.000007  ...           NaN   \n",
       "1                           -31.77  -0.000028  ...           NaN   \n",
       "2                           -33.34  -0.000040  ...           NaN   \n",
       "3                           -33.47  -0.000029  ...           NaN   \n",
       "4                           -34.06  -0.000027  ...           NaN   \n",
       "...                            ...        ...  ...           ...   \n",
       "131342                        8.80  -0.000004  ...  2.525797e+07   \n",
       "131343                       11.04  -0.000011  ...  2.525806e+07   \n",
       "131344                        8.14  -0.000007  ...  2.525815e+07   \n",
       "131345                       10.60  -0.000004  ...  2.525822e+07   \n",
       "131346                       12.65  -0.000009  ...  2.525830e+07   \n",
       "\n",
       "             svid_29       svid_30  svid_31  svid_32  svid_33  svid_34  \\\n",
       "0                NaN           NaN      NaN      NaN      NaN      NaN   \n",
       "1       2.293725e+07  2.340839e+07      NaN      NaN      NaN      NaN   \n",
       "2       2.293681e+07  2.188019e+07      NaN      NaN      NaN      NaN   \n",
       "3       2.293638e+07  2.188017e+07      NaN      NaN      NaN      NaN   \n",
       "4       2.293596e+07  2.188014e+07      NaN      NaN      NaN      NaN   \n",
       "...              ...           ...      ...      ...      ...      ...   \n",
       "131342           NaN  2.078545e+07      NaN      NaN      NaN      NaN   \n",
       "131343           NaN  2.078525e+07      NaN      NaN      NaN      NaN   \n",
       "131344           NaN  2.078505e+07      NaN      NaN      NaN      NaN   \n",
       "131345           NaN  2.078485e+07      NaN      NaN      NaN      NaN   \n",
       "131346           NaN  2.078465e+07      NaN      NaN      NaN      NaN   \n",
       "\n",
       "        svid_35       svid_36       svid_37  \n",
       "0           NaN           NaN           NaN  \n",
       "1           NaN  2.250868e+07           NaN  \n",
       "2           NaN  2.250873e+07           NaN  \n",
       "3           NaN  2.250879e+07           NaN  \n",
       "4           NaN  2.250884e+07           NaN  \n",
       "...         ...           ...           ...  \n",
       "131342      NaN  2.363825e+07  2.455588e+07  \n",
       "131343      NaN  2.363792e+07  2.455629e+07  \n",
       "131344      NaN  2.363758e+07  2.455671e+07  \n",
       "131345      NaN  2.363724e+07  2.455712e+07  \n",
       "131346      NaN  2.363691e+07  2.455753e+07  \n",
       "\n",
       "[131347 rows x 48 columns]"
      ]
     },
     "execution_count": 12,
     "metadata": {},
     "output_type": "execute_result"
    }
   ],
   "source": [
    "train_df"
   ]
  },
  {
   "cell_type": "code",
   "execution_count": 13,
   "metadata": {},
   "outputs": [
    {
     "data": {
      "text/html": [
       "<div>\n",
       "<style scoped>\n",
       "    .dataframe tbody tr th:only-of-type {\n",
       "        vertical-align: middle;\n",
       "    }\n",
       "\n",
       "    .dataframe tbody tr th {\n",
       "        vertical-align: top;\n",
       "    }\n",
       "\n",
       "    .dataframe thead th {\n",
       "        text-align: right;\n",
       "    }\n",
       "</style>\n",
       "<table border=\"1\" class=\"dataframe\">\n",
       "  <thead>\n",
       "    <tr style=\"text-align: right;\">\n",
       "      <th></th>\n",
       "      <th>collectionName</th>\n",
       "      <th>phoneName</th>\n",
       "      <th>millisSinceGpsEpoch</th>\n",
       "      <th>latDeg</th>\n",
       "      <th>lngDeg</th>\n",
       "      <th>heightAboveWgs84EllipsoidM</th>\n",
       "      <th>phone</th>\n",
       "      <th>svid_1</th>\n",
       "      <th>svid_2</th>\n",
       "      <th>svid_3</th>\n",
       "      <th>...</th>\n",
       "      <th>svid_28</th>\n",
       "      <th>svid_29</th>\n",
       "      <th>svid_30</th>\n",
       "      <th>svid_31</th>\n",
       "      <th>svid_32</th>\n",
       "      <th>svid_33</th>\n",
       "      <th>svid_34</th>\n",
       "      <th>svid_35</th>\n",
       "      <th>svid_36</th>\n",
       "      <th>svid_37</th>\n",
       "    </tr>\n",
       "  </thead>\n",
       "  <tbody>\n",
       "    <tr>\n",
       "      <th>0</th>\n",
       "      <td>2020-05-15-US-MTV-1</td>\n",
       "      <td>Pixel4</td>\n",
       "      <td>1273608785432</td>\n",
       "      <td>37.416628</td>\n",
       "      <td>-122.082053</td>\n",
       "      <td>-30.69</td>\n",
       "      <td>2020-05-15-US-MTV-1_Pixel4</td>\n",
       "      <td>NaN</td>\n",
       "      <td>NaN</td>\n",
       "      <td>NaN</td>\n",
       "      <td>...</td>\n",
       "      <td>NaN</td>\n",
       "      <td>NaN</td>\n",
       "      <td>NaN</td>\n",
       "      <td>NaN</td>\n",
       "      <td>NaN</td>\n",
       "      <td>NaN</td>\n",
       "      <td>NaN</td>\n",
       "      <td>NaN</td>\n",
       "      <td>NaN</td>\n",
       "      <td>NaN</td>\n",
       "    </tr>\n",
       "    <tr>\n",
       "      <th>1</th>\n",
       "      <td>2020-05-15-US-MTV-1</td>\n",
       "      <td>Pixel4</td>\n",
       "      <td>1273608786432</td>\n",
       "      <td>37.416646</td>\n",
       "      <td>-122.082040</td>\n",
       "      <td>-31.76</td>\n",
       "      <td>2020-05-15-US-MTV-1_Pixel4</td>\n",
       "      <td>NaN</td>\n",
       "      <td>2.162738e+07</td>\n",
       "      <td>NaN</td>\n",
       "      <td>...</td>\n",
       "      <td>2.387446e+07</td>\n",
       "      <td>NaN</td>\n",
       "      <td>2.549334e+07</td>\n",
       "      <td>NaN</td>\n",
       "      <td>NaN</td>\n",
       "      <td>NaN</td>\n",
       "      <td>NaN</td>\n",
       "      <td>NaN</td>\n",
       "      <td>2.350364e+07</td>\n",
       "      <td>NaN</td>\n",
       "    </tr>\n",
       "    <tr>\n",
       "      <th>2</th>\n",
       "      <td>2020-05-15-US-MTV-1</td>\n",
       "      <td>Pixel4</td>\n",
       "      <td>1273608787432</td>\n",
       "      <td>37.416652</td>\n",
       "      <td>-122.082039</td>\n",
       "      <td>-31.65</td>\n",
       "      <td>2020-05-15-US-MTV-1_Pixel4</td>\n",
       "      <td>NaN</td>\n",
       "      <td>2.162693e+07</td>\n",
       "      <td>NaN</td>\n",
       "      <td>...</td>\n",
       "      <td>2.387486e+07</td>\n",
       "      <td>NaN</td>\n",
       "      <td>2.549292e+07</td>\n",
       "      <td>NaN</td>\n",
       "      <td>NaN</td>\n",
       "      <td>NaN</td>\n",
       "      <td>NaN</td>\n",
       "      <td>NaN</td>\n",
       "      <td>2.350371e+07</td>\n",
       "      <td>NaN</td>\n",
       "    </tr>\n",
       "    <tr>\n",
       "      <th>3</th>\n",
       "      <td>2020-05-15-US-MTV-1</td>\n",
       "      <td>Pixel4</td>\n",
       "      <td>1273608788432</td>\n",
       "      <td>37.416607</td>\n",
       "      <td>-122.082063</td>\n",
       "      <td>-31.52</td>\n",
       "      <td>2020-05-15-US-MTV-1_Pixel4</td>\n",
       "      <td>NaN</td>\n",
       "      <td>2.162650e+07</td>\n",
       "      <td>NaN</td>\n",
       "      <td>...</td>\n",
       "      <td>2.387527e+07</td>\n",
       "      <td>NaN</td>\n",
       "      <td>2.549251e+07</td>\n",
       "      <td>NaN</td>\n",
       "      <td>NaN</td>\n",
       "      <td>NaN</td>\n",
       "      <td>NaN</td>\n",
       "      <td>NaN</td>\n",
       "      <td>2.350377e+07</td>\n",
       "      <td>NaN</td>\n",
       "    </tr>\n",
       "    <tr>\n",
       "      <th>4</th>\n",
       "      <td>2020-05-15-US-MTV-1</td>\n",
       "      <td>Pixel4</td>\n",
       "      <td>1273608789432</td>\n",
       "      <td>37.416609</td>\n",
       "      <td>-122.082073</td>\n",
       "      <td>-28.95</td>\n",
       "      <td>2020-05-15-US-MTV-1_Pixel4</td>\n",
       "      <td>NaN</td>\n",
       "      <td>2.162604e+07</td>\n",
       "      <td>NaN</td>\n",
       "      <td>...</td>\n",
       "      <td>2.387567e+07</td>\n",
       "      <td>NaN</td>\n",
       "      <td>2.549210e+07</td>\n",
       "      <td>NaN</td>\n",
       "      <td>NaN</td>\n",
       "      <td>NaN</td>\n",
       "      <td>NaN</td>\n",
       "      <td>NaN</td>\n",
       "      <td>2.350384e+07</td>\n",
       "      <td>NaN</td>\n",
       "    </tr>\n",
       "    <tr>\n",
       "      <th>...</th>\n",
       "      <td>...</td>\n",
       "      <td>...</td>\n",
       "      <td>...</td>\n",
       "      <td>...</td>\n",
       "      <td>...</td>\n",
       "      <td>...</td>\n",
       "      <td>...</td>\n",
       "      <td>...</td>\n",
       "      <td>...</td>\n",
       "      <td>...</td>\n",
       "      <td>...</td>\n",
       "      <td>...</td>\n",
       "      <td>...</td>\n",
       "      <td>...</td>\n",
       "      <td>...</td>\n",
       "      <td>...</td>\n",
       "      <td>...</td>\n",
       "      <td>...</td>\n",
       "      <td>...</td>\n",
       "      <td>...</td>\n",
       "      <td>...</td>\n",
       "    </tr>\n",
       "    <tr>\n",
       "      <th>91491</th>\n",
       "      <td>2021-04-29-US-SJC-3</td>\n",
       "      <td>SamsungS20Ultra</td>\n",
       "      <td>1303763185000</td>\n",
       "      <td>37.334539</td>\n",
       "      <td>-121.899383</td>\n",
       "      <td>-8.39</td>\n",
       "      <td>2021-04-29-US-SJC-3_SamsungS20Ultra</td>\n",
       "      <td>NaN</td>\n",
       "      <td>2.361403e+07</td>\n",
       "      <td>NaN</td>\n",
       "      <td>...</td>\n",
       "      <td>2.188545e+07</td>\n",
       "      <td>NaN</td>\n",
       "      <td>2.597680e+07</td>\n",
       "      <td>NaN</td>\n",
       "      <td>NaN</td>\n",
       "      <td>NaN</td>\n",
       "      <td>NaN</td>\n",
       "      <td>NaN</td>\n",
       "      <td>2.371918e+07</td>\n",
       "      <td>2.228825e+07</td>\n",
       "    </tr>\n",
       "    <tr>\n",
       "      <th>91492</th>\n",
       "      <td>2021-04-29-US-SJC-3</td>\n",
       "      <td>SamsungS20Ultra</td>\n",
       "      <td>1303763186000</td>\n",
       "      <td>37.334545</td>\n",
       "      <td>-121.899380</td>\n",
       "      <td>-7.36</td>\n",
       "      <td>2021-04-29-US-SJC-3_SamsungS20Ultra</td>\n",
       "      <td>NaN</td>\n",
       "      <td>2.361408e+07</td>\n",
       "      <td>NaN</td>\n",
       "      <td>...</td>\n",
       "      <td>2.188547e+07</td>\n",
       "      <td>NaN</td>\n",
       "      <td>2.597651e+07</td>\n",
       "      <td>NaN</td>\n",
       "      <td>NaN</td>\n",
       "      <td>NaN</td>\n",
       "      <td>NaN</td>\n",
       "      <td>NaN</td>\n",
       "      <td>2.371931e+07</td>\n",
       "      <td>2.228815e+07</td>\n",
       "    </tr>\n",
       "    <tr>\n",
       "      <th>91493</th>\n",
       "      <td>2021-04-29-US-SJC-3</td>\n",
       "      <td>SamsungS20Ultra</td>\n",
       "      <td>1303763187000</td>\n",
       "      <td>37.334551</td>\n",
       "      <td>-121.899371</td>\n",
       "      <td>-4.08</td>\n",
       "      <td>2021-04-29-US-SJC-3_SamsungS20Ultra</td>\n",
       "      <td>NaN</td>\n",
       "      <td>2.361412e+07</td>\n",
       "      <td>NaN</td>\n",
       "      <td>...</td>\n",
       "      <td>2.188549e+07</td>\n",
       "      <td>NaN</td>\n",
       "      <td>2.597621e+07</td>\n",
       "      <td>NaN</td>\n",
       "      <td>NaN</td>\n",
       "      <td>NaN</td>\n",
       "      <td>NaN</td>\n",
       "      <td>NaN</td>\n",
       "      <td>2.371944e+07</td>\n",
       "      <td>2.228805e+07</td>\n",
       "    </tr>\n",
       "    <tr>\n",
       "      <th>91494</th>\n",
       "      <td>2021-04-29-US-SJC-3</td>\n",
       "      <td>SamsungS20Ultra</td>\n",
       "      <td>1303763188000</td>\n",
       "      <td>37.334540</td>\n",
       "      <td>-121.899371</td>\n",
       "      <td>-5.70</td>\n",
       "      <td>2021-04-29-US-SJC-3_SamsungS20Ultra</td>\n",
       "      <td>NaN</td>\n",
       "      <td>2.361417e+07</td>\n",
       "      <td>NaN</td>\n",
       "      <td>...</td>\n",
       "      <td>2.188551e+07</td>\n",
       "      <td>NaN</td>\n",
       "      <td>2.597592e+07</td>\n",
       "      <td>NaN</td>\n",
       "      <td>NaN</td>\n",
       "      <td>NaN</td>\n",
       "      <td>NaN</td>\n",
       "      <td>NaN</td>\n",
       "      <td>2.371957e+07</td>\n",
       "      <td>2.228794e+07</td>\n",
       "    </tr>\n",
       "    <tr>\n",
       "      <th>91495</th>\n",
       "      <td>2021-04-29-US-SJC-3</td>\n",
       "      <td>SamsungS20Ultra</td>\n",
       "      <td>1303763189000</td>\n",
       "      <td>37.334562</td>\n",
       "      <td>-121.899354</td>\n",
       "      <td>-0.90</td>\n",
       "      <td>2021-04-29-US-SJC-3_SamsungS20Ultra</td>\n",
       "      <td>NaN</td>\n",
       "      <td>2.361422e+07</td>\n",
       "      <td>NaN</td>\n",
       "      <td>...</td>\n",
       "      <td>2.188553e+07</td>\n",
       "      <td>NaN</td>\n",
       "      <td>2.597562e+07</td>\n",
       "      <td>NaN</td>\n",
       "      <td>NaN</td>\n",
       "      <td>NaN</td>\n",
       "      <td>NaN</td>\n",
       "      <td>NaN</td>\n",
       "      <td>2.371970e+07</td>\n",
       "      <td>2.228784e+07</td>\n",
       "    </tr>\n",
       "  </tbody>\n",
       "</table>\n",
       "<p>91496 rows × 44 columns</p>\n",
       "</div>"
      ],
      "text/plain": [
       "            collectionName        phoneName  millisSinceGpsEpoch     latDeg  \\\n",
       "0      2020-05-15-US-MTV-1           Pixel4        1273608785432  37.416628   \n",
       "1      2020-05-15-US-MTV-1           Pixel4        1273608786432  37.416646   \n",
       "2      2020-05-15-US-MTV-1           Pixel4        1273608787432  37.416652   \n",
       "3      2020-05-15-US-MTV-1           Pixel4        1273608788432  37.416607   \n",
       "4      2020-05-15-US-MTV-1           Pixel4        1273608789432  37.416609   \n",
       "...                    ...              ...                  ...        ...   \n",
       "91491  2021-04-29-US-SJC-3  SamsungS20Ultra        1303763185000  37.334539   \n",
       "91492  2021-04-29-US-SJC-3  SamsungS20Ultra        1303763186000  37.334545   \n",
       "91493  2021-04-29-US-SJC-3  SamsungS20Ultra        1303763187000  37.334551   \n",
       "91494  2021-04-29-US-SJC-3  SamsungS20Ultra        1303763188000  37.334540   \n",
       "91495  2021-04-29-US-SJC-3  SamsungS20Ultra        1303763189000  37.334562   \n",
       "\n",
       "           lngDeg  heightAboveWgs84EllipsoidM  \\\n",
       "0     -122.082053                      -30.69   \n",
       "1     -122.082040                      -31.76   \n",
       "2     -122.082039                      -31.65   \n",
       "3     -122.082063                      -31.52   \n",
       "4     -122.082073                      -28.95   \n",
       "...           ...                         ...   \n",
       "91491 -121.899383                       -8.39   \n",
       "91492 -121.899380                       -7.36   \n",
       "91493 -121.899371                       -4.08   \n",
       "91494 -121.899371                       -5.70   \n",
       "91495 -121.899354                       -0.90   \n",
       "\n",
       "                                     phone  svid_1        svid_2  svid_3  ...  \\\n",
       "0               2020-05-15-US-MTV-1_Pixel4     NaN           NaN     NaN  ...   \n",
       "1               2020-05-15-US-MTV-1_Pixel4     NaN  2.162738e+07     NaN  ...   \n",
       "2               2020-05-15-US-MTV-1_Pixel4     NaN  2.162693e+07     NaN  ...   \n",
       "3               2020-05-15-US-MTV-1_Pixel4     NaN  2.162650e+07     NaN  ...   \n",
       "4               2020-05-15-US-MTV-1_Pixel4     NaN  2.162604e+07     NaN  ...   \n",
       "...                                    ...     ...           ...     ...  ...   \n",
       "91491  2021-04-29-US-SJC-3_SamsungS20Ultra     NaN  2.361403e+07     NaN  ...   \n",
       "91492  2021-04-29-US-SJC-3_SamsungS20Ultra     NaN  2.361408e+07     NaN  ...   \n",
       "91493  2021-04-29-US-SJC-3_SamsungS20Ultra     NaN  2.361412e+07     NaN  ...   \n",
       "91494  2021-04-29-US-SJC-3_SamsungS20Ultra     NaN  2.361417e+07     NaN  ...   \n",
       "91495  2021-04-29-US-SJC-3_SamsungS20Ultra     NaN  2.361422e+07     NaN  ...   \n",
       "\n",
       "            svid_28  svid_29       svid_30  svid_31  svid_32  svid_33  \\\n",
       "0               NaN      NaN           NaN      NaN      NaN      NaN   \n",
       "1      2.387446e+07      NaN  2.549334e+07      NaN      NaN      NaN   \n",
       "2      2.387486e+07      NaN  2.549292e+07      NaN      NaN      NaN   \n",
       "3      2.387527e+07      NaN  2.549251e+07      NaN      NaN      NaN   \n",
       "4      2.387567e+07      NaN  2.549210e+07      NaN      NaN      NaN   \n",
       "...             ...      ...           ...      ...      ...      ...   \n",
       "91491  2.188545e+07      NaN  2.597680e+07      NaN      NaN      NaN   \n",
       "91492  2.188547e+07      NaN  2.597651e+07      NaN      NaN      NaN   \n",
       "91493  2.188549e+07      NaN  2.597621e+07      NaN      NaN      NaN   \n",
       "91494  2.188551e+07      NaN  2.597592e+07      NaN      NaN      NaN   \n",
       "91495  2.188553e+07      NaN  2.597562e+07      NaN      NaN      NaN   \n",
       "\n",
       "       svid_34  svid_35       svid_36       svid_37  \n",
       "0          NaN      NaN           NaN           NaN  \n",
       "1          NaN      NaN  2.350364e+07           NaN  \n",
       "2          NaN      NaN  2.350371e+07           NaN  \n",
       "3          NaN      NaN  2.350377e+07           NaN  \n",
       "4          NaN      NaN  2.350384e+07           NaN  \n",
       "...        ...      ...           ...           ...  \n",
       "91491      NaN      NaN  2.371918e+07  2.228825e+07  \n",
       "91492      NaN      NaN  2.371931e+07  2.228815e+07  \n",
       "91493      NaN      NaN  2.371944e+07  2.228805e+07  \n",
       "91494      NaN      NaN  2.371957e+07  2.228794e+07  \n",
       "91495      NaN      NaN  2.371970e+07  2.228784e+07  \n",
       "\n",
       "[91496 rows x 44 columns]"
      ]
     },
     "execution_count": 13,
     "metadata": {},
     "output_type": "execute_result"
    }
   ],
   "source": [
    "test_df"
   ]
  },
  {
   "cell_type": "code",
   "execution_count": 14,
   "metadata": {},
   "outputs": [],
   "source": [
    "# metric\n",
    "def calc_haversine(lat1, lon1, lat2, lon2):\n",
    "    \"\"\"Calculates the great circle distance between two points\n",
    "    on the earth. Inputs are array-like and specified in decimal degrees.\n",
    "    \"\"\"\n",
    "    RADIUS = 6_367_000\n",
    "    lat1, lon1, lat2, lon2 = map(np.radians, [lat1, lon1, lat2, lon2])\n",
    "    dlat = lat2 - lat1\n",
    "    dlon = lon2 - lon1\n",
    "    a = np.sin(dlat/2)**2 + np.cos(lat1) * np.cos(lat2) * np.sin(dlon/2)**2\n",
    "    dist = 2 * RADIUS * np.arcsin(a**0.5)\n",
    "    \n",
    "    # angle = np.degrees(np.arctan2(dlat, dlon))  # radian -> degree\n",
    "    return dist"
   ]
  },
  {
   "cell_type": "code",
   "execution_count": 15,
   "metadata": {},
   "outputs": [],
   "source": [
    "# # 水平距離の50パーセンタイルと95パーセンタイルの平均\n",
    "# def gsdc_metric(dist):\n",
    "    \n",
    "#     score_per50 = np.percentile(dist, 50)\n",
    "#     score_per95 = np.percentile(dist, 95)\n",
    "#     score = np.mean(score_per50, score_per95)\n",
    "#     return score"
   ]
  },
  {
   "cell_type": "code",
   "execution_count": 16,
   "metadata": {},
   "outputs": [
    {
     "name": "stdout",
     "output_type": "stream",
     "text": [
      "50per:2.0657727415512954 \n",
      "95per:10.464714214322617 \n",
      "final score:4.446476287034587\n"
     ]
    }
   ],
   "source": [
    "dist = calc_haversine(train_df['latDeg'], train_df['lngDeg'], train_df['latDeg_gt'],train_df['lngDeg_gt'])\n",
    "print(f\"50per:{np.percentile(dist, 50)} \\n95per:{np.percentile(dist, 95)} \\nfinal score:{np.percentile(dist, [50,90]).mean()}\")"
   ]
  },
  {
   "cell_type": "code",
   "execution_count": 17,
   "metadata": {},
   "outputs": [
    {
     "data": {
      "text/html": [
       "<div>\n",
       "<style scoped>\n",
       "    .dataframe tbody tr th:only-of-type {\n",
       "        vertical-align: middle;\n",
       "    }\n",
       "\n",
       "    .dataframe tbody tr th {\n",
       "        vertical-align: top;\n",
       "    }\n",
       "\n",
       "    .dataframe thead th {\n",
       "        text-align: right;\n",
       "    }\n",
       "</style>\n",
       "<table border=\"1\" class=\"dataframe\">\n",
       "  <thead>\n",
       "    <tr style=\"text-align: right;\">\n",
       "      <th></th>\n",
       "      <th>collectionName</th>\n",
       "      <th>phoneName</th>\n",
       "      <th>millisSinceGpsEpoch</th>\n",
       "      <th>latDeg_gt</th>\n",
       "      <th>lngDeg_gt</th>\n",
       "      <th>phone</th>\n",
       "      <th>latDeg</th>\n",
       "      <th>lngDeg</th>\n",
       "      <th>heightAboveWgs84EllipsoidM</th>\n",
       "      <th>latDeg_dt</th>\n",
       "      <th>...</th>\n",
       "      <th>svid_28</th>\n",
       "      <th>svid_29</th>\n",
       "      <th>svid_30</th>\n",
       "      <th>svid_31</th>\n",
       "      <th>svid_32</th>\n",
       "      <th>svid_33</th>\n",
       "      <th>svid_34</th>\n",
       "      <th>svid_35</th>\n",
       "      <th>svid_36</th>\n",
       "      <th>svid_37</th>\n",
       "    </tr>\n",
       "  </thead>\n",
       "  <tbody>\n",
       "    <tr>\n",
       "      <th>0</th>\n",
       "      <td>2020-06-04-US-MTV-1</td>\n",
       "      <td>Pixel4XLModded</td>\n",
       "      <td>1275339495434</td>\n",
       "      <td>37.416314</td>\n",
       "      <td>-122.080466</td>\n",
       "      <td>2020-06-04-US-MTV-1_Pixel4XLModded</td>\n",
       "      <td>37.416320</td>\n",
       "      <td>-122.080459</td>\n",
       "      <td>-32.33</td>\n",
       "      <td>-0.000007</td>\n",
       "      <td>...</td>\n",
       "      <td>NaN</td>\n",
       "      <td>NaN</td>\n",
       "      <td>NaN</td>\n",
       "      <td>NaN</td>\n",
       "      <td>NaN</td>\n",
       "      <td>NaN</td>\n",
       "      <td>NaN</td>\n",
       "      <td>NaN</td>\n",
       "      <td>NaN</td>\n",
       "      <td>NaN</td>\n",
       "    </tr>\n",
       "    <tr>\n",
       "      <th>1</th>\n",
       "      <td>2020-06-04-US-MTV-1</td>\n",
       "      <td>Pixel4XLModded</td>\n",
       "      <td>1275339496434</td>\n",
       "      <td>37.416314</td>\n",
       "      <td>-122.080466</td>\n",
       "      <td>2020-06-04-US-MTV-1_Pixel4XLModded</td>\n",
       "      <td>37.416342</td>\n",
       "      <td>-122.080471</td>\n",
       "      <td>-31.77</td>\n",
       "      <td>-0.000028</td>\n",
       "      <td>...</td>\n",
       "      <td>NaN</td>\n",
       "      <td>2.293725e+07</td>\n",
       "      <td>2.340839e+07</td>\n",
       "      <td>NaN</td>\n",
       "      <td>NaN</td>\n",
       "      <td>NaN</td>\n",
       "      <td>NaN</td>\n",
       "      <td>NaN</td>\n",
       "      <td>2.250868e+07</td>\n",
       "      <td>NaN</td>\n",
       "    </tr>\n",
       "    <tr>\n",
       "      <th>2</th>\n",
       "      <td>2020-06-04-US-MTV-1</td>\n",
       "      <td>Pixel4XLModded</td>\n",
       "      <td>1275339497434</td>\n",
       "      <td>37.416314</td>\n",
       "      <td>-122.080466</td>\n",
       "      <td>2020-06-04-US-MTV-1_Pixel4XLModded</td>\n",
       "      <td>37.416353</td>\n",
       "      <td>-122.080493</td>\n",
       "      <td>-33.34</td>\n",
       "      <td>-0.000040</td>\n",
       "      <td>...</td>\n",
       "      <td>NaN</td>\n",
       "      <td>2.293681e+07</td>\n",
       "      <td>2.188019e+07</td>\n",
       "      <td>NaN</td>\n",
       "      <td>NaN</td>\n",
       "      <td>NaN</td>\n",
       "      <td>NaN</td>\n",
       "      <td>NaN</td>\n",
       "      <td>2.250873e+07</td>\n",
       "      <td>NaN</td>\n",
       "    </tr>\n",
       "    <tr>\n",
       "      <th>3</th>\n",
       "      <td>2020-06-04-US-MTV-1</td>\n",
       "      <td>Pixel4XLModded</td>\n",
       "      <td>1275339498434</td>\n",
       "      <td>37.416314</td>\n",
       "      <td>-122.080466</td>\n",
       "      <td>2020-06-04-US-MTV-1_Pixel4XLModded</td>\n",
       "      <td>37.416343</td>\n",
       "      <td>-122.080474</td>\n",
       "      <td>-33.47</td>\n",
       "      <td>-0.000029</td>\n",
       "      <td>...</td>\n",
       "      <td>NaN</td>\n",
       "      <td>2.293638e+07</td>\n",
       "      <td>2.188017e+07</td>\n",
       "      <td>NaN</td>\n",
       "      <td>NaN</td>\n",
       "      <td>NaN</td>\n",
       "      <td>NaN</td>\n",
       "      <td>NaN</td>\n",
       "      <td>2.250879e+07</td>\n",
       "      <td>NaN</td>\n",
       "    </tr>\n",
       "    <tr>\n",
       "      <th>4</th>\n",
       "      <td>2020-06-04-US-MTV-1</td>\n",
       "      <td>Pixel4XLModded</td>\n",
       "      <td>1275339499434</td>\n",
       "      <td>37.416314</td>\n",
       "      <td>-122.080466</td>\n",
       "      <td>2020-06-04-US-MTV-1_Pixel4XLModded</td>\n",
       "      <td>37.416340</td>\n",
       "      <td>-122.080474</td>\n",
       "      <td>-34.06</td>\n",
       "      <td>-0.000027</td>\n",
       "      <td>...</td>\n",
       "      <td>NaN</td>\n",
       "      <td>2.293596e+07</td>\n",
       "      <td>2.188014e+07</td>\n",
       "      <td>NaN</td>\n",
       "      <td>NaN</td>\n",
       "      <td>NaN</td>\n",
       "      <td>NaN</td>\n",
       "      <td>NaN</td>\n",
       "      <td>2.250884e+07</td>\n",
       "      <td>NaN</td>\n",
       "    </tr>\n",
       "    <tr>\n",
       "      <th>...</th>\n",
       "      <td>...</td>\n",
       "      <td>...</td>\n",
       "      <td>...</td>\n",
       "      <td>...</td>\n",
       "      <td>...</td>\n",
       "      <td>...</td>\n",
       "      <td>...</td>\n",
       "      <td>...</td>\n",
       "      <td>...</td>\n",
       "      <td>...</td>\n",
       "      <td>...</td>\n",
       "      <td>...</td>\n",
       "      <td>...</td>\n",
       "      <td>...</td>\n",
       "      <td>...</td>\n",
       "      <td>...</td>\n",
       "      <td>...</td>\n",
       "      <td>...</td>\n",
       "      <td>...</td>\n",
       "      <td>...</td>\n",
       "      <td>...</td>\n",
       "    </tr>\n",
       "    <tr>\n",
       "      <th>131342</th>\n",
       "      <td>2021-01-04-US-RWC-2</td>\n",
       "      <td>Pixel5</td>\n",
       "      <td>1293837130433</td>\n",
       "      <td>37.444463</td>\n",
       "      <td>-122.232459</td>\n",
       "      <td>2021-01-04-US-RWC-2_Pixel5</td>\n",
       "      <td>37.444467</td>\n",
       "      <td>-122.232437</td>\n",
       "      <td>8.80</td>\n",
       "      <td>-0.000004</td>\n",
       "      <td>...</td>\n",
       "      <td>2.525797e+07</td>\n",
       "      <td>NaN</td>\n",
       "      <td>2.078545e+07</td>\n",
       "      <td>NaN</td>\n",
       "      <td>NaN</td>\n",
       "      <td>NaN</td>\n",
       "      <td>NaN</td>\n",
       "      <td>NaN</td>\n",
       "      <td>2.363825e+07</td>\n",
       "      <td>2.455588e+07</td>\n",
       "    </tr>\n",
       "    <tr>\n",
       "      <th>131343</th>\n",
       "      <td>2021-01-04-US-RWC-2</td>\n",
       "      <td>Pixel5</td>\n",
       "      <td>1293837131433</td>\n",
       "      <td>37.444463</td>\n",
       "      <td>-122.232459</td>\n",
       "      <td>2021-01-04-US-RWC-2_Pixel5</td>\n",
       "      <td>37.444474</td>\n",
       "      <td>-122.232426</td>\n",
       "      <td>11.04</td>\n",
       "      <td>-0.000011</td>\n",
       "      <td>...</td>\n",
       "      <td>2.525806e+07</td>\n",
       "      <td>NaN</td>\n",
       "      <td>2.078525e+07</td>\n",
       "      <td>NaN</td>\n",
       "      <td>NaN</td>\n",
       "      <td>NaN</td>\n",
       "      <td>NaN</td>\n",
       "      <td>NaN</td>\n",
       "      <td>2.363792e+07</td>\n",
       "      <td>2.455629e+07</td>\n",
       "    </tr>\n",
       "    <tr>\n",
       "      <th>131344</th>\n",
       "      <td>2021-01-04-US-RWC-2</td>\n",
       "      <td>Pixel5</td>\n",
       "      <td>1293837132433</td>\n",
       "      <td>37.444463</td>\n",
       "      <td>-122.232459</td>\n",
       "      <td>2021-01-04-US-RWC-2_Pixel5</td>\n",
       "      <td>37.444469</td>\n",
       "      <td>-122.232438</td>\n",
       "      <td>8.14</td>\n",
       "      <td>-0.000007</td>\n",
       "      <td>...</td>\n",
       "      <td>2.525815e+07</td>\n",
       "      <td>NaN</td>\n",
       "      <td>2.078505e+07</td>\n",
       "      <td>NaN</td>\n",
       "      <td>NaN</td>\n",
       "      <td>NaN</td>\n",
       "      <td>NaN</td>\n",
       "      <td>NaN</td>\n",
       "      <td>2.363758e+07</td>\n",
       "      <td>2.455671e+07</td>\n",
       "    </tr>\n",
       "    <tr>\n",
       "      <th>131345</th>\n",
       "      <td>2021-01-04-US-RWC-2</td>\n",
       "      <td>Pixel5</td>\n",
       "      <td>1293837133433</td>\n",
       "      <td>37.444463</td>\n",
       "      <td>-122.232459</td>\n",
       "      <td>2021-01-04-US-RWC-2_Pixel5</td>\n",
       "      <td>37.444467</td>\n",
       "      <td>-122.232418</td>\n",
       "      <td>10.60</td>\n",
       "      <td>-0.000004</td>\n",
       "      <td>...</td>\n",
       "      <td>2.525822e+07</td>\n",
       "      <td>NaN</td>\n",
       "      <td>2.078485e+07</td>\n",
       "      <td>NaN</td>\n",
       "      <td>NaN</td>\n",
       "      <td>NaN</td>\n",
       "      <td>NaN</td>\n",
       "      <td>NaN</td>\n",
       "      <td>2.363724e+07</td>\n",
       "      <td>2.455712e+07</td>\n",
       "    </tr>\n",
       "    <tr>\n",
       "      <th>131346</th>\n",
       "      <td>2021-01-04-US-RWC-2</td>\n",
       "      <td>Pixel5</td>\n",
       "      <td>1293837134433</td>\n",
       "      <td>37.444463</td>\n",
       "      <td>-122.232459</td>\n",
       "      <td>2021-01-04-US-RWC-2_Pixel5</td>\n",
       "      <td>37.444471</td>\n",
       "      <td>-122.232407</td>\n",
       "      <td>12.65</td>\n",
       "      <td>-0.000009</td>\n",
       "      <td>...</td>\n",
       "      <td>2.525830e+07</td>\n",
       "      <td>NaN</td>\n",
       "      <td>2.078465e+07</td>\n",
       "      <td>NaN</td>\n",
       "      <td>NaN</td>\n",
       "      <td>NaN</td>\n",
       "      <td>NaN</td>\n",
       "      <td>NaN</td>\n",
       "      <td>2.363691e+07</td>\n",
       "      <td>2.455753e+07</td>\n",
       "    </tr>\n",
       "  </tbody>\n",
       "</table>\n",
       "<p>131347 rows × 48 columns</p>\n",
       "</div>"
      ],
      "text/plain": [
       "             collectionName       phoneName  millisSinceGpsEpoch  latDeg_gt  \\\n",
       "0       2020-06-04-US-MTV-1  Pixel4XLModded        1275339495434  37.416314   \n",
       "1       2020-06-04-US-MTV-1  Pixel4XLModded        1275339496434  37.416314   \n",
       "2       2020-06-04-US-MTV-1  Pixel4XLModded        1275339497434  37.416314   \n",
       "3       2020-06-04-US-MTV-1  Pixel4XLModded        1275339498434  37.416314   \n",
       "4       2020-06-04-US-MTV-1  Pixel4XLModded        1275339499434  37.416314   \n",
       "...                     ...             ...                  ...        ...   \n",
       "131342  2021-01-04-US-RWC-2          Pixel5        1293837130433  37.444463   \n",
       "131343  2021-01-04-US-RWC-2          Pixel5        1293837131433  37.444463   \n",
       "131344  2021-01-04-US-RWC-2          Pixel5        1293837132433  37.444463   \n",
       "131345  2021-01-04-US-RWC-2          Pixel5        1293837133433  37.444463   \n",
       "131346  2021-01-04-US-RWC-2          Pixel5        1293837134433  37.444463   \n",
       "\n",
       "         lngDeg_gt                               phone     latDeg      lngDeg  \\\n",
       "0      -122.080466  2020-06-04-US-MTV-1_Pixel4XLModded  37.416320 -122.080459   \n",
       "1      -122.080466  2020-06-04-US-MTV-1_Pixel4XLModded  37.416342 -122.080471   \n",
       "2      -122.080466  2020-06-04-US-MTV-1_Pixel4XLModded  37.416353 -122.080493   \n",
       "3      -122.080466  2020-06-04-US-MTV-1_Pixel4XLModded  37.416343 -122.080474   \n",
       "4      -122.080466  2020-06-04-US-MTV-1_Pixel4XLModded  37.416340 -122.080474   \n",
       "...            ...                                 ...        ...         ...   \n",
       "131342 -122.232459          2021-01-04-US-RWC-2_Pixel5  37.444467 -122.232437   \n",
       "131343 -122.232459          2021-01-04-US-RWC-2_Pixel5  37.444474 -122.232426   \n",
       "131344 -122.232459          2021-01-04-US-RWC-2_Pixel5  37.444469 -122.232438   \n",
       "131345 -122.232459          2021-01-04-US-RWC-2_Pixel5  37.444467 -122.232418   \n",
       "131346 -122.232459          2021-01-04-US-RWC-2_Pixel5  37.444471 -122.232407   \n",
       "\n",
       "        heightAboveWgs84EllipsoidM  latDeg_dt  ...       svid_28  \\\n",
       "0                           -32.33  -0.000007  ...           NaN   \n",
       "1                           -31.77  -0.000028  ...           NaN   \n",
       "2                           -33.34  -0.000040  ...           NaN   \n",
       "3                           -33.47  -0.000029  ...           NaN   \n",
       "4                           -34.06  -0.000027  ...           NaN   \n",
       "...                            ...        ...  ...           ...   \n",
       "131342                        8.80  -0.000004  ...  2.525797e+07   \n",
       "131343                       11.04  -0.000011  ...  2.525806e+07   \n",
       "131344                        8.14  -0.000007  ...  2.525815e+07   \n",
       "131345                       10.60  -0.000004  ...  2.525822e+07   \n",
       "131346                       12.65  -0.000009  ...  2.525830e+07   \n",
       "\n",
       "             svid_29       svid_30  svid_31  svid_32  svid_33  svid_34  \\\n",
       "0                NaN           NaN      NaN      NaN      NaN      NaN   \n",
       "1       2.293725e+07  2.340839e+07      NaN      NaN      NaN      NaN   \n",
       "2       2.293681e+07  2.188019e+07      NaN      NaN      NaN      NaN   \n",
       "3       2.293638e+07  2.188017e+07      NaN      NaN      NaN      NaN   \n",
       "4       2.293596e+07  2.188014e+07      NaN      NaN      NaN      NaN   \n",
       "...              ...           ...      ...      ...      ...      ...   \n",
       "131342           NaN  2.078545e+07      NaN      NaN      NaN      NaN   \n",
       "131343           NaN  2.078525e+07      NaN      NaN      NaN      NaN   \n",
       "131344           NaN  2.078505e+07      NaN      NaN      NaN      NaN   \n",
       "131345           NaN  2.078485e+07      NaN      NaN      NaN      NaN   \n",
       "131346           NaN  2.078465e+07      NaN      NaN      NaN      NaN   \n",
       "\n",
       "        svid_35       svid_36       svid_37  \n",
       "0           NaN           NaN           NaN  \n",
       "1           NaN  2.250868e+07           NaN  \n",
       "2           NaN  2.250873e+07           NaN  \n",
       "3           NaN  2.250879e+07           NaN  \n",
       "4           NaN  2.250884e+07           NaN  \n",
       "...         ...           ...           ...  \n",
       "131342      NaN  2.363825e+07  2.455588e+07  \n",
       "131343      NaN  2.363792e+07  2.455629e+07  \n",
       "131344      NaN  2.363758e+07  2.455671e+07  \n",
       "131345      NaN  2.363724e+07  2.455712e+07  \n",
       "131346      NaN  2.363691e+07  2.455753e+07  \n",
       "\n",
       "[131347 rows x 48 columns]"
      ]
     },
     "execution_count": 17,
     "metadata": {},
     "output_type": "execute_result"
    }
   ],
   "source": [
    "train_df"
   ]
  },
  {
   "cell_type": "code",
   "execution_count": 18,
   "metadata": {},
   "outputs": [],
   "source": [
    "TARGET = ['latDeg_dt', 'lngDeg_dt']\n",
    "BASE_FEATS = ['latDeg', 'lngDeg']\n",
    "SVID_FEATS  = [f'svid_{i}' for i in range(1, 38, 1)]\n",
    "\n",
    "use_feats = BASE_FEATS + SVID_FEATS + ['phoneName','collectionName']  \n",
    "# XPOS_FEATS  = [f'xSatPosM_{i}' for i in range(NUM_FEATS)]\n",
    "# YPOS_FEATS  = [f'ySatPosM_{i}' for i in range(NUM_FEATS)]\n",
    "# ZPOS_FEATS  = [f'zSatPosM_{i}' for i in range(NUM_FEATS)]\n",
    "# XVEL_FEATS  = [f'xSatVelMps_{i}' for i in range(NUM_FEATS)]\n",
    "# YVEL_FEATS  = [f'ySatVelMps_{i}' for i in range(NUM_FEATS)]\n",
    "# ZVEL_FEATS  = [f'zSatVelMps_{i}' for i in range(NUM_FEATS)]\n",
    "# BIAS_FEATS  = [f'satClkBiasM_{i}' for i in range(NUM_FEATS)]\n",
    "# DRIFT_FEATS  = [f'satClkDriftMps_{i}' for i in range(NUM_FEATS)]\n",
    "# RAWPR_FEATS  = [f'rawPrM_{i}' for i in range(NUM_FEATS)]\n",
    "# RAWPRUNC_FEATS  = [f'rawPrUncM_{i}' for i in range(NUM_FEATS)]\n",
    "# ISRBM_FEATS  = [f'isrbM_{i}' for i in range(NUM_FEATS)]\n",
    "# IONODELAY_FEATS  = [f'ionoDelayM_{i}' for i in range(NUM_FEATS)]\n",
    "# TROPODELAY_FEATS  = [f'tropoDelayM_{i}' for i in range(NUM_FEATS)]\n"
   ]
  },
  {
   "cell_type": "code",
   "execution_count": 19,
   "metadata": {},
   "outputs": [
    {
     "data": {
      "text/plain": [
       "41"
      ]
     },
     "execution_count": 19,
     "metadata": {},
     "output_type": "execute_result"
    }
   ],
   "source": [
    "len(use_feats)"
   ]
  },
  {
   "cell_type": "markdown",
   "metadata": {},
   "source": [
    "## preprocessing"
   ]
  },
  {
   "cell_type": "code",
   "execution_count": 20,
   "metadata": {},
   "outputs": [],
   "source": [
    "whole_df = pd.concat([train_df, test_df]).reset_index(drop=True)\n",
    "phone_size = whole_df['phoneName'].nunique()\n",
    "\n",
    "train = train_df[use_feats + TARGET].copy()\n",
    "test = test_df[use_feats].copy()\n",
    "\n",
    "\n",
    "# le = LabelEncoder()\n",
    "# le.fit(whole_df['phoneName'].to_numpy().flatten())\n",
    "# train['phoneName'] = le.transform(train['phoneName'])\n",
    "# test['phoneName'] = le.transform(test['phoneName'])\n",
    "\n",
    "# SS\n",
    "ss = StandardScaler()\n",
    "ss.fit(whole_df[SVID_FEATS])\n",
    "train[SVID_FEATS] = ss.transform(train[SVID_FEATS])\n",
    "test[SVID_FEATS] = ss.transform(test[SVID_FEATS])\n",
    "\n",
    "ss_base = StandardScaler()\n",
    "ss_base.fit(whole_df[BASE_FEATS])\n",
    "train[BASE_FEATS] = ss_base.transform(train[BASE_FEATS])\n",
    "test[BASE_FEATS] = ss_base.transform(test[BASE_FEATS])\n",
    "\n",
    "ss_gt = StandardScaler()\n",
    "ss_gt.fit(whole_df[TARGET])\n",
    "train[TARGET] = ss_gt.transform(train[TARGET])"
   ]
  },
  {
   "cell_type": "code",
   "execution_count": 21,
   "metadata": {},
   "outputs": [
    {
     "data": {
      "text/html": [
       "<div>\n",
       "<style scoped>\n",
       "    .dataframe tbody tr th:only-of-type {\n",
       "        vertical-align: middle;\n",
       "    }\n",
       "\n",
       "    .dataframe tbody tr th {\n",
       "        vertical-align: top;\n",
       "    }\n",
       "\n",
       "    .dataframe thead th {\n",
       "        text-align: right;\n",
       "    }\n",
       "</style>\n",
       "<table border=\"1\" class=\"dataframe\">\n",
       "  <thead>\n",
       "    <tr style=\"text-align: right;\">\n",
       "      <th></th>\n",
       "      <th>0</th>\n",
       "      <th>1</th>\n",
       "    </tr>\n",
       "  </thead>\n",
       "  <tbody>\n",
       "    <tr>\n",
       "      <th>latDeg</th>\n",
       "      <td>-0.299769</td>\n",
       "      <td>-0.299523</td>\n",
       "    </tr>\n",
       "    <tr>\n",
       "      <th>lngDeg</th>\n",
       "      <td>0.507042</td>\n",
       "      <td>0.506960</td>\n",
       "    </tr>\n",
       "    <tr>\n",
       "      <th>svid_1</th>\n",
       "      <td>NaN</td>\n",
       "      <td>NaN</td>\n",
       "    </tr>\n",
       "    <tr>\n",
       "      <th>svid_2</th>\n",
       "      <td>NaN</td>\n",
       "      <td>0.351314</td>\n",
       "    </tr>\n",
       "    <tr>\n",
       "      <th>svid_3</th>\n",
       "      <td>NaN</td>\n",
       "      <td>0.272167</td>\n",
       "    </tr>\n",
       "    <tr>\n",
       "      <th>svid_4</th>\n",
       "      <td>NaN</td>\n",
       "      <td>NaN</td>\n",
       "    </tr>\n",
       "    <tr>\n",
       "      <th>svid_5</th>\n",
       "      <td>NaN</td>\n",
       "      <td>NaN</td>\n",
       "    </tr>\n",
       "    <tr>\n",
       "      <th>svid_6</th>\n",
       "      <td>NaN</td>\n",
       "      <td>-0.337677</td>\n",
       "    </tr>\n",
       "    <tr>\n",
       "      <th>svid_7</th>\n",
       "      <td>NaN</td>\n",
       "      <td>NaN</td>\n",
       "    </tr>\n",
       "    <tr>\n",
       "      <th>svid_8</th>\n",
       "      <td>NaN</td>\n",
       "      <td>NaN</td>\n",
       "    </tr>\n",
       "    <tr>\n",
       "      <th>svid_9</th>\n",
       "      <td>NaN</td>\n",
       "      <td>-1.016539</td>\n",
       "    </tr>\n",
       "    <tr>\n",
       "      <th>svid_10</th>\n",
       "      <td>NaN</td>\n",
       "      <td>-1.005996</td>\n",
       "    </tr>\n",
       "    <tr>\n",
       "      <th>svid_11</th>\n",
       "      <td>NaN</td>\n",
       "      <td>NaN</td>\n",
       "    </tr>\n",
       "    <tr>\n",
       "      <th>svid_12</th>\n",
       "      <td>NaN</td>\n",
       "      <td>-1.121049</td>\n",
       "    </tr>\n",
       "    <tr>\n",
       "      <th>svid_13</th>\n",
       "      <td>NaN</td>\n",
       "      <td>NaN</td>\n",
       "    </tr>\n",
       "    <tr>\n",
       "      <th>svid_14</th>\n",
       "      <td>NaN</td>\n",
       "      <td>NaN</td>\n",
       "    </tr>\n",
       "    <tr>\n",
       "      <th>svid_15</th>\n",
       "      <td>NaN</td>\n",
       "      <td>0.422759</td>\n",
       "    </tr>\n",
       "    <tr>\n",
       "      <th>svid_16</th>\n",
       "      <td>NaN</td>\n",
       "      <td>NaN</td>\n",
       "    </tr>\n",
       "    <tr>\n",
       "      <th>svid_17</th>\n",
       "      <td>NaN</td>\n",
       "      <td>NaN</td>\n",
       "    </tr>\n",
       "    <tr>\n",
       "      <th>svid_18</th>\n",
       "      <td>NaN</td>\n",
       "      <td>NaN</td>\n",
       "    </tr>\n",
       "    <tr>\n",
       "      <th>svid_19</th>\n",
       "      <td>NaN</td>\n",
       "      <td>0.771995</td>\n",
       "    </tr>\n",
       "    <tr>\n",
       "      <th>svid_20</th>\n",
       "      <td>NaN</td>\n",
       "      <td>-0.975174</td>\n",
       "    </tr>\n",
       "    <tr>\n",
       "      <th>svid_21</th>\n",
       "      <td>NaN</td>\n",
       "      <td>-0.130191</td>\n",
       "    </tr>\n",
       "    <tr>\n",
       "      <th>svid_22</th>\n",
       "      <td>NaN</td>\n",
       "      <td>NaN</td>\n",
       "    </tr>\n",
       "    <tr>\n",
       "      <th>svid_23</th>\n",
       "      <td>NaN</td>\n",
       "      <td>NaN</td>\n",
       "    </tr>\n",
       "    <tr>\n",
       "      <th>svid_24</th>\n",
       "      <td>NaN</td>\n",
       "      <td>0.673717</td>\n",
       "    </tr>\n",
       "    <tr>\n",
       "      <th>svid_25</th>\n",
       "      <td>NaN</td>\n",
       "      <td>-1.312745</td>\n",
       "    </tr>\n",
       "    <tr>\n",
       "      <th>svid_26</th>\n",
       "      <td>NaN</td>\n",
       "      <td>NaN</td>\n",
       "    </tr>\n",
       "    <tr>\n",
       "      <th>svid_27</th>\n",
       "      <td>NaN</td>\n",
       "      <td>-0.383218</td>\n",
       "    </tr>\n",
       "    <tr>\n",
       "      <th>svid_28</th>\n",
       "      <td>NaN</td>\n",
       "      <td>NaN</td>\n",
       "    </tr>\n",
       "    <tr>\n",
       "      <th>svid_29</th>\n",
       "      <td>NaN</td>\n",
       "      <td>0.041513</td>\n",
       "    </tr>\n",
       "    <tr>\n",
       "      <th>svid_30</th>\n",
       "      <td>NaN</td>\n",
       "      <td>-0.452207</td>\n",
       "    </tr>\n",
       "    <tr>\n",
       "      <th>svid_31</th>\n",
       "      <td>NaN</td>\n",
       "      <td>NaN</td>\n",
       "    </tr>\n",
       "    <tr>\n",
       "      <th>svid_32</th>\n",
       "      <td>NaN</td>\n",
       "      <td>NaN</td>\n",
       "    </tr>\n",
       "    <tr>\n",
       "      <th>svid_33</th>\n",
       "      <td>NaN</td>\n",
       "      <td>NaN</td>\n",
       "    </tr>\n",
       "    <tr>\n",
       "      <th>svid_34</th>\n",
       "      <td>NaN</td>\n",
       "      <td>NaN</td>\n",
       "    </tr>\n",
       "    <tr>\n",
       "      <th>svid_35</th>\n",
       "      <td>NaN</td>\n",
       "      <td>NaN</td>\n",
       "    </tr>\n",
       "    <tr>\n",
       "      <th>svid_36</th>\n",
       "      <td>NaN</td>\n",
       "      <td>-1.396903</td>\n",
       "    </tr>\n",
       "    <tr>\n",
       "      <th>svid_37</th>\n",
       "      <td>NaN</td>\n",
       "      <td>NaN</td>\n",
       "    </tr>\n",
       "    <tr>\n",
       "      <th>phoneName</th>\n",
       "      <td>Pixel4XLModded</td>\n",
       "      <td>Pixel4XLModded</td>\n",
       "    </tr>\n",
       "    <tr>\n",
       "      <th>collectionName</th>\n",
       "      <td>2020-06-04-US-MTV-1</td>\n",
       "      <td>2020-06-04-US-MTV-1</td>\n",
       "    </tr>\n",
       "    <tr>\n",
       "      <th>latDeg_dt</th>\n",
       "      <td>-0.014031</td>\n",
       "      <td>-0.143889</td>\n",
       "    </tr>\n",
       "    <tr>\n",
       "      <th>lngDeg_dt</th>\n",
       "      <td>-0.018969</td>\n",
       "      <td>0.023842</td>\n",
       "    </tr>\n",
       "  </tbody>\n",
       "</table>\n",
       "</div>"
      ],
      "text/plain": [
       "                                  0                    1\n",
       "latDeg                    -0.299769            -0.299523\n",
       "lngDeg                     0.507042             0.506960\n",
       "svid_1                          NaN                  NaN\n",
       "svid_2                          NaN             0.351314\n",
       "svid_3                          NaN             0.272167\n",
       "svid_4                          NaN                  NaN\n",
       "svid_5                          NaN                  NaN\n",
       "svid_6                          NaN            -0.337677\n",
       "svid_7                          NaN                  NaN\n",
       "svid_8                          NaN                  NaN\n",
       "svid_9                          NaN            -1.016539\n",
       "svid_10                         NaN            -1.005996\n",
       "svid_11                         NaN                  NaN\n",
       "svid_12                         NaN            -1.121049\n",
       "svid_13                         NaN                  NaN\n",
       "svid_14                         NaN                  NaN\n",
       "svid_15                         NaN             0.422759\n",
       "svid_16                         NaN                  NaN\n",
       "svid_17                         NaN                  NaN\n",
       "svid_18                         NaN                  NaN\n",
       "svid_19                         NaN             0.771995\n",
       "svid_20                         NaN            -0.975174\n",
       "svid_21                         NaN            -0.130191\n",
       "svid_22                         NaN                  NaN\n",
       "svid_23                         NaN                  NaN\n",
       "svid_24                         NaN             0.673717\n",
       "svid_25                         NaN            -1.312745\n",
       "svid_26                         NaN                  NaN\n",
       "svid_27                         NaN            -0.383218\n",
       "svid_28                         NaN                  NaN\n",
       "svid_29                         NaN             0.041513\n",
       "svid_30                         NaN            -0.452207\n",
       "svid_31                         NaN                  NaN\n",
       "svid_32                         NaN                  NaN\n",
       "svid_33                         NaN                  NaN\n",
       "svid_34                         NaN                  NaN\n",
       "svid_35                         NaN                  NaN\n",
       "svid_36                         NaN            -1.396903\n",
       "svid_37                         NaN                  NaN\n",
       "phoneName            Pixel4XLModded       Pixel4XLModded\n",
       "collectionName  2020-06-04-US-MTV-1  2020-06-04-US-MTV-1\n",
       "latDeg_dt                 -0.014031            -0.143889\n",
       "lngDeg_dt                 -0.018969             0.023842"
      ]
     },
     "execution_count": 21,
     "metadata": {},
     "output_type": "execute_result"
    }
   ],
   "source": [
    "train.head(2).T"
   ]
  },
  {
   "cell_type": "code",
   "execution_count": 22,
   "metadata": {},
   "outputs": [
    {
     "data": {
      "text/plain": [
       "((131347, 43), (91496, 41))"
      ]
     },
     "execution_count": 22,
     "metadata": {},
     "output_type": "execute_result"
    }
   ],
   "source": [
    "train.shape, test.shape"
   ]
  },
  {
   "cell_type": "markdown",
   "metadata": {},
   "source": [
    "## model"
   ]
  },
  {
   "cell_type": "code",
   "execution_count": 23,
   "metadata": {},
   "outputs": [],
   "source": [
    "def get_optimizer(model: nn.Module, config: dict):\n",
    "    optimizer_config = config[\"optimizer\"]\n",
    "    optimizer_name = optimizer_config.get(\"name\")\n",
    "    base_optimizer_name = optimizer_config.get(\"base_name\")\n",
    "    optimizer_params = optimizer_config['params']\n",
    "\n",
    "    if hasattr(optim, optimizer_name):\n",
    "        optimizer = optim.__getattribute__(optimizer_name)(model.parameters(), **optimizer_params)\n",
    "        return optimizer\n",
    "    else:\n",
    "        base_optimizer = optim.__getattribute__(base_optimizer_name)\n",
    "        optimizer = globals().get(optimizer_name)(\n",
    "            model.parameters(), \n",
    "            base_optimizer,\n",
    "            **optimizer_config[\"params\"])\n",
    "        return  optimizer\n",
    "\n",
    "def get_scheduler(optimizer, config: dict):\n",
    "    scheduler_config = config[\"scheduler\"]\n",
    "    scheduler_name = scheduler_config.get(\"name\")\n",
    "\n",
    "    if scheduler_name is None:\n",
    "        return\n",
    "    else:\n",
    "        return optim.lr_scheduler.__getattribute__(scheduler_name)(\n",
    "            optimizer, **scheduler_config[\"params\"])\n",
    "\n",
    "\n",
    "def get_criterion(config: dict):\n",
    "    loss_config = config[\"loss\"]\n",
    "    loss_name = loss_config[\"name\"]\n",
    "    loss_params = {} if loss_config.get(\"params\") is None else loss_config.get(\"params\")\n",
    "    \n",
    "    \n",
    "    if hasattr(nn, loss_name):\n",
    "        criterion = nn.__getattribute__(loss_name)(**loss_params)\n",
    "    else:\n",
    "        criterion = globals().get(loss_name)(**loss_params)\n",
    "\n",
    "    return criterion\n",
    "\n",
    "def worker_init_fn(worker_id):                                                          \n",
    "    np.random.seed(np.random.get_state()[1][0] + worker_id)"
   ]
  },
  {
   "cell_type": "code",
   "execution_count": null,
   "metadata": {},
   "outputs": [],
   "source": [
    "\n",
    "# Learner class(pytorch-lighting)\n",
    "class Learner(pl.LightningModule):\n",
    "    def __init__(self, model, config, ss_gt, ss_base):\n",
    "        super().__init__()\n",
    "        self.model = model\n",
    "        self.config = config\n",
    "        self.criterion = get_criterion(config)\n",
    "        self.ss_gt = ss_gt\n",
    "        self.ss_base = ss_base\n",
    "    \n",
    "    def training_step(self, batch, batch_idx):\n",
    "        x, target = batch\n",
    "        output = self.model(x)\n",
    "        loss = self.criterion(output, target)\n",
    "\n",
    "        # target - base = delta\n",
    "        output = self.ss_gt.inverse_transform(to_np(output))\n",
    "        target = self.ss_gt.inverse_transform(to_np(target))\n",
    "        base = self.ss_base.inverse_transform(to_np(x[\"base\"]))\n",
    "        \n",
    "        dist = calc_haversine((output[:, 0] + base[:, 0]), (output[:, 1] + base[:, 0]), \n",
    "                              (target[:, 0] + base[:, 0]), (target[:, 1] + base[:, 0]))\n",
    "        \n",
    "        return loss\n",
    "    \n",
    "    def validation_step(self, batch, batch_idx):\n",
    "        x, target = batch\n",
    "        output = self.model(x)\n",
    "        loss = self.criterion(output + base, target + base)\n",
    "\n",
    "        # target - base = delta\n",
    "        output = self.ss_gt.inverse_transform(to_np(output))\n",
    "        target = self.ss_gt.inverse_transform(to_np(target))\n",
    "        base = self.ss_base.inverse_transform(to_np(x[\"base\"]))\n",
    "        \n",
    "        dist = calc_haversine((output[:, 0] + base[:, 0]), (output[:, 1] + base[:, 0]), \n",
    "                              (target[:, 0] + base[:, 0]), (target[:, 1] + base[:, 0]))\n",
    "        all_dist_score = np.mean(dist)\n",
    "        dist_50per_score = np.percentile(dist, 50)\n",
    "        dist_95per_score = np.percentile(dist, 95)\n",
    "        comp_score = np.mean([dist_50per_score, dist_95per_score])\n",
    "        self.log(f'Loss/val', loss, on_step=False, on_epoch=True, prog_bar=False, logger=True)\n",
    "        self.log(f'dist_50/val', dist_50per_score, on_step=False, on_epoch=True, prog_bar=False, logger=True)\n",
    "        self.log(f'dist_95/val', dist_95per_score, on_step=False, on_epoch=True, prog_bar=False, logger=True)\n",
    "        self.log(f'dist_all/val', all_dist_score, on_step=False, on_epoch=True, prog_bar=False, logger=True)\n",
    "        self.log(f'comp_score/val', comp_score, on_step=False, on_epoch=True, prog_bar=False, logger=True)\n",
    "        return loss\n",
    "\n",
    "    def configure_optimizers(self):\n",
    "        optimizer = get_optimizer(self.model, self.config)\n",
    "        scheduler = get_scheduler(optimizer, self.config)\n",
    "        return {\"optimizer\": optimizer, \"lr_scheduler\": scheduler, \"monitor\": \"Loss/val\"}"
   ]
  },
  {
   "cell_type": "code",
   "execution_count": 25,
   "metadata": {},
   "outputs": [],
   "source": [
    "def to_np(input):\n",
    "    return input.detach().cpu().numpy().astype(np.float32)\n",
    "\n",
    "# oof\n",
    "def evaluate(model, loaders, ss_gt, phase):\n",
    "    lat_list = []\n",
    "    lng_list = []\n",
    "\n",
    "    with torch.no_grad():\n",
    "        for batch in loaders[phase]:\n",
    "            x, y = batch\n",
    "            output = model(x)\n",
    "            output = ss_gt.inverse_transform(output)\n",
    "            lat_list.append(output[:, 0])\n",
    "            lng_list.append(output[:, 1])\n",
    "    lat_list = np.concatenate(lat_list)\n",
    "    lng_list = np.concatenate(lng_list)\n",
    "    return lat_list, lng_list"
   ]
  },
  {
   "cell_type": "code",
   "execution_count": 56,
   "metadata": {},
   "outputs": [],
   "source": [
    "class DistMSELoss(nn.Module):\n",
    "    def __init__(self):\n",
    "        super().__init__()\n",
    "        self.loss = nn.MSELoss(reduction='none')\n",
    "        self.radius = 6_367_000\n",
    "\n",
    "    def forward(self, input, target):\n",
    "\n",
    "        input = torch.deg2rad(input)\n",
    "        target = torch.deg2rad(target)\n",
    "        lat1 = input[:,0]\n",
    "        lon1 = input[:,1]\n",
    "        lat2 = target[:,0]\n",
    "        lon2 = target[:,1]\n",
    "\n",
    "        dlat = lat2 - lat1\n",
    "        dlon = lon2 - lon1\n",
    "        a = torch.sin(dlat/2)**2 + torch.cos(lat1) * torch.cos(lat2) * torch.sin(dlon/2)**2\n",
    "\n",
    "        loss = 2 * self.radius * torch.arcsin(a**0.5)\n",
    "        return loss.mean()"
   ]
  },
  {
   "cell_type": "code",
   "execution_count": 57,
   "metadata": {},
   "outputs": [],
   "source": [
    "# dataset\n",
    "from torch.utils.data import Dataset, DataLoader\n",
    "class OutdoorDataset(Dataset):\n",
    "    def __init__(self, df, phase='train'):\n",
    "        self.df = df\n",
    "        self.phase = phase\n",
    "\n",
    "        # categorical features\n",
    "        # self.collname_feats = df['collectionName'].to_numpy()\n",
    "        self.phonename_feats = df['phoneName'].to_numpy()\n",
    "        self.svid_feats = df[SVID_FEATS].fillna(0).to_numpy()\n",
    "        self.base_feats = df[BASE_FEATS].to_numpy()\n",
    "        # self.signaltype_feats = df[SIGNALTYPE_FEATS].to_numpy()\n",
    "        # self.gpsnanos_feats = df[GPSNANOS_FEATS].to_numpy()  # as categorical\n",
    "        # self.categorical_feats = np.concatenate([\n",
    "        #     self.collname_feats,\n",
    "        #     self.phonename_feats,\n",
    "        #     self.collname_feats,\n",
    "        #     self.svid_feats,\n",
    "        #     self.signaltype_feats,\n",
    "        # ])\n",
    "        \n",
    "        # numerical features\n",
    "        # self.xpos_feats = df[XPOS_FEATS].to_numpy()\n",
    "        # self.ypos_feats = df[YPOS_FEATS].to_numpy()\n",
    "        # self.zpos_feats = df[ZPOS_FEATS].to_numpy()\n",
    "        # self.xvel_feats = df[XVEL_FEATS].to_numpy()\n",
    "        # self.yvel_feats = df[YVEL_FEATS].to_numpy()\n",
    "        # self.zvel_feats = df[ZVEL_FEATS].to_numpy()\n",
    "        # self.bias_feats = df[BIAS_FEATS].to_numpy()\n",
    "        # self.drift_feats = df[DRIFT_FEATS].to_numpy()\n",
    "        # self.rawpr_feats = df[RAWPR_FEATS].to_numpy()\n",
    "        # self.rawprunc_feats = df[RAWPRUNC_FEATS].to_numpy()\n",
    "        # self.isrbm_feats = df[ISRBM_FEATS].to_numpy()\n",
    "        # self.inondelay_feats = df[IONODELAY_FEATS].to_numpy()\n",
    "        # self.tropodelay_feats = df[TROPODELAY_FEATS].to_numpy()\n",
    "\n",
    "        # self.numerical_feats = np.concatenate([\n",
    "        #     self.xpos_feats,\n",
    "        #     self.ypos_feats,\n",
    "        #     self.zpos_feats,\n",
    "        #     self.xvel_feats,\n",
    "        #     self.yvel_feats,\n",
    "        #     self.zvel_feats,\n",
    "        #     self.bias_feats,\n",
    "        #     self.drift_feats,\n",
    "        #     self.rawpr_feats,\n",
    "        #     self.rawprunc_feats,\n",
    "        #     self.isrbm_feats,\n",
    "        #     self.inondelay_feats,\n",
    "        #     self.tropodelay_feats, \n",
    "        #     ], axis=1)\n",
    "        # self.epoch_feats = df['millisSinceGpsEpoch'].to_numpy()\n",
    "        if phase in ['train', 'valid']:\n",
    "            self.target = df[TARGET].values.astype(np.float32)\n",
    "                    \n",
    "        \n",
    "    def __len__(self):\n",
    "        return self.df.shape[0]\n",
    "\n",
    "    def __getitem__(self, idx):\n",
    "\n",
    "        feature = {\n",
    "            'base': self.base_feats[idx].astype(np.float32),\n",
    "            'phonename': self.phonename_feats[idx],\n",
    "            'svid': self.svid_feats[idx].astype(np.float32),\n",
    "        }\n",
    "\n",
    "        if self.phase in ['train', 'valid']:\n",
    "            target = self.target[idx]\n",
    "        \n",
    "        else:\n",
    "            target = None\n",
    "        return feature, target"
   ]
  },
  {
   "cell_type": "code",
   "execution_count": 58,
   "metadata": {},
   "outputs": [],
   "source": [
    "class MLPModel(nn.Module):\n",
    "    def __init__(self, phone_size):\n",
    "        super(MLPModel, self).__init__()\n",
    "\n",
    "        # phone\n",
    "        self.embedding_layer1 = nn.Sequential(\n",
    "            nn.Embedding(phone_size, 1),\n",
    "            nn.Flatten(start_dim=-1)           \n",
    "        )\n",
    "\n",
    "        feature_size = 37 + 2\n",
    "        self.fc1 = nn.Sequential(\n",
    "            nn.BatchNorm1d(feature_size),\n",
    "            nn.Linear(feature_size, 256),\n",
    "            nn.ReLU()\n",
    "        )\n",
    "\n",
    "        self.fc2 = nn.Sequential(\n",
    "            nn.BatchNorm1d(256),\n",
    "            nn.Linear(256, 128),\n",
    "            nn.ReLU()\n",
    "        )\n",
    "\n",
    "\n",
    "        self.fc3 = nn.Sequential(\n",
    "            nn.BatchNorm1d(128),\n",
    "            nn.Linear(128, 16),\n",
    "            nn.ReLU()\n",
    "        )\n",
    "        self.fc = nn.Linear(16, 2)  # deltaのlat, lng, distance, angle\n",
    "\n",
    "    \n",
    "    def forward(self, x):\n",
    "        # input embedding\n",
    "        batch_size = x[\"base\"].shape[0]\n",
    "\n",
    "        # x_phone = self.embedding_layer1(x['phonename'])\n",
    "        x = torch.cat([x['base'], x['svid']], dim=-1)\n",
    "\n",
    "        # MLP\n",
    "        x = self.fc1(x)\n",
    "        x = self.fc2(x)\n",
    "        x = self.fc3(x)\n",
    "\n",
    "        # output [batch, 4] delta_lat, delta_lng, distance, angle\n",
    "        x = self.fc(x).squeeze(1)\n",
    "        return x"
   ]
  },
  {
   "cell_type": "markdown",
   "metadata": {},
   "source": [
    "## train"
   ]
  },
  {
   "cell_type": "code",
   "execution_count": 59,
   "metadata": {},
   "outputs": [
    {
     "name": "stdout",
     "output_type": "stream",
     "text": [
      "====================\n",
      "Fold 0\n",
      "====================\n"
     ]
    },
    {
     "data": {
      "text/html": [
       "Finishing last run (ID:3dp5uwui) before initializing another..."
      ],
      "text/plain": [
       "<IPython.core.display.HTML object>"
      ]
     },
     "metadata": {},
     "output_type": "display_data"
    },
    {
     "data": {
      "text/html": [
       "<br/>Waiting for W&B process to finish, PID 159965<br/>Program ended successfully."
      ],
      "text/plain": [
       "<IPython.core.display.HTML object>"
      ]
     },
     "metadata": {},
     "output_type": "display_data"
    },
    {
     "data": {
      "application/vnd.jupyter.widget-view+json": {
       "model_id": "44df916b98de440c909ba9379e2e4a88",
       "version_major": 2,
       "version_minor": 0
      },
      "text/plain": [
       "VBox(children=(Label(value=' 0.00MB of 0.00MB uploaded (0.00MB deduped)\\r'), FloatProgress(value=1.0, max=1.0)…"
      ]
     },
     "metadata": {},
     "output_type": "display_data"
    },
    {
     "data": {
      "text/html": [
       "Find user logs for this run at: <code>/home/user/work/exp/exp011/wandb/run-20210606_212247-3dp5uwui/logs/debug.log</code>"
      ],
      "text/plain": [
       "<IPython.core.display.HTML object>"
      ]
     },
     "metadata": {},
     "output_type": "display_data"
    },
    {
     "data": {
      "text/html": [
       "Find internal logs for this run at: <code>/home/user/work/exp/exp011/wandb/run-20210606_212247-3dp5uwui/logs/debug-internal.log</code>"
      ],
      "text/plain": [
       "<IPython.core.display.HTML object>"
      ]
     },
     "metadata": {},
     "output_type": "display_data"
    },
    {
     "data": {
      "text/html": [
       "<h3>Run summary:</h3><br/><style>\n",
       "    table.wandb td:nth-child(1) { padding: 0 10px; text-align: right }\n",
       "    </style><table class=\"wandb\">\n",
       "<tr><td>Loss/val</td><td>269230.78125</td></tr><tr><td>dist_50/val</td><td>271.08649</td></tr><tr><td>dist_95/val</td><td>12743.20801</td></tr><tr><td>dist_all/val</td><td>2448.12915</td></tr><tr><td>comp_score/val</td><td>6507.14697</td></tr><tr><td>epoch</td><td>18</td></tr><tr><td>trainer/global_step</td><td>31140</td></tr><tr><td>_runtime</td><td>169</td></tr><tr><td>_timestamp</td><td>1622982340</td></tr><tr><td>_step</td><td>19</td></tr></table>"
      ],
      "text/plain": [
       "<IPython.core.display.HTML object>"
      ]
     },
     "metadata": {},
     "output_type": "display_data"
    },
    {
     "data": {
      "text/html": [
       "<h3>Run history:</h3><br/><style>\n",
       "    table.wandb td:nth-child(1) { padding: 0 10px; text-align: right }\n",
       "    </style><table class=\"wandb\">\n",
       "<tr><td>Loss/val</td><td>▁▁▁▁▁▁▁▁▁▁▁▁█▁▄▄▄▅▆</td></tr><tr><td>dist_50/val</td><td>▁▁▁▁▁▁▁▁▁▁▁▁▂▁▁█▁▁▂</td></tr><tr><td>dist_95/val</td><td>▁▁▁▁▁▁▁▁▁▁▁▁▂▁▂█▁▂▆</td></tr><tr><td>dist_all/val</td><td>▁▁▁▁▁▁▁▁▁▁▁▁▂▁▂█▁▂▄</td></tr><tr><td>comp_score/val</td><td>▁▁▁▁▁▁▁▁▁▁▁▁▂▁▂█▁▂▅</td></tr><tr><td>epoch</td><td>▁▁▂▂▃▃▃▄▄▅▅▅▆▆▆▇▇██</td></tr><tr><td>trainer/global_step</td><td>▁▁▂▂▃▃▃▄▄▅▅▅▆▆▆▇▇██</td></tr><tr><td>_runtime</td><td>▁▁▂▂▂▃▃▃▄▄▄▅▅▅▆▆▆▇▇█</td></tr><tr><td>_timestamp</td><td>▁▁▂▂▂▃▃▃▄▄▄▅▅▅▆▆▆▇▇█</td></tr><tr><td>_step</td><td>▁▁▂▂▂▃▃▄▄▄▅▅▅▆▆▇▇▇██</td></tr></table><br/>"
      ],
      "text/plain": [
       "<IPython.core.display.HTML object>"
      ]
     },
     "metadata": {},
     "output_type": "display_data"
    },
    {
     "data": {
      "text/html": [
       "Synced 5 W&B file(s), 1 media file(s), 0 artifact file(s) and 0 other file(s)"
      ],
      "text/plain": [
       "<IPython.core.display.HTML object>"
      ]
     },
     "metadata": {},
     "output_type": "display_data"
    },
    {
     "data": {
      "text/html": [
       "\n",
       "                    <br/>Synced <strong style=\"color:#cdcd00\">atomic-waterfall-209</strong>: <a href=\"https://wandb.ai/kuto5046/outdoor/runs/3dp5uwui\" target=\"_blank\">https://wandb.ai/kuto5046/outdoor/runs/3dp5uwui</a><br/>\n",
       "                "
      ],
      "text/plain": [
       "<IPython.core.display.HTML object>"
      ]
     },
     "metadata": {},
     "output_type": "display_data"
    },
    {
     "data": {
      "text/html": [
       "...Successfully finished last run (ID:3dp5uwui). Initializing new run:<br/><br/>"
      ],
      "text/plain": [
       "<IPython.core.display.HTML object>"
      ]
     },
     "metadata": {},
     "output_type": "display_data"
    },
    {
     "name": "stderr",
     "output_type": "stream",
     "text": [
      "\u001b[34m\u001b[1mwandb\u001b[0m: wandb version 0.10.31 is available!  To upgrade, please run:\n",
      "\u001b[34m\u001b[1mwandb\u001b[0m:  $ pip install wandb --upgrade\n"
     ]
    },
    {
     "data": {
      "text/html": [
       "\n",
       "                Tracking run with wandb version 0.10.22<br/>\n",
       "                Syncing run <strong style=\"color:#cdcd00\">lilac-dream-210</strong> to <a href=\"https://wandb.ai\" target=\"_blank\">Weights & Biases</a> <a href=\"https://docs.wandb.com/integrations/jupyter.html\" target=\"_blank\">(Documentation)</a>.<br/>\n",
       "                Project page: <a href=\"https://wandb.ai/kuto5046/outdoor\" target=\"_blank\">https://wandb.ai/kuto5046/outdoor</a><br/>\n",
       "                Run page: <a href=\"https://wandb.ai/kuto5046/outdoor/runs/1zgz62pe\" target=\"_blank\">https://wandb.ai/kuto5046/outdoor/runs/1zgz62pe</a><br/>\n",
       "                Run data is saved locally in <code>/home/user/work/exp/exp011/wandb/run-20210606_212540-1zgz62pe</code><br/><br/>\n",
       "            "
      ],
      "text/plain": [
       "<IPython.core.display.HTML object>"
      ]
     },
     "metadata": {},
     "output_type": "display_data"
    },
    {
     "name": "stderr",
     "output_type": "stream",
     "text": [
      "GPU available: True, used: True\n",
      "TPU available: None, using: 0 TPU cores\n",
      "\n",
      "  | Name      | Type        | Params\n",
      "------------------------------------------\n",
      "0 | model     | MLPModel    | 46.1 K\n",
      "1 | criterion | DistMSELoss | 0     \n",
      "------------------------------------------\n",
      "46.1 K    Trainable params\n",
      "0         Non-trainable params\n",
      "46.1 K    Total params\n",
      "0.184     Total estimated model params size (MB)\n",
      "/usr/local/lib/python3.8/dist-packages/pytorch_lightning/utilities/distributed.py:50: UserWarning: Detected KeyboardInterrupt, attempting graceful shutdown...\n",
      "  warnings.warn(*args, **kwargs)\n"
     ]
    },
    {
     "name": "stdout",
     "output_type": "stream",
     "text": [
      "fold 0: mean position error 138850.41733919643\n"
     ]
    },
    {
     "ename": "TypeError",
     "evalue": "Caught TypeError in DataLoader worker process 0.\nOriginal Traceback (most recent call last):\n  File \"/usr/local/lib/python3.8/dist-packages/torch/utils/data/_utils/worker.py\", line 198, in _worker_loop\n    data = fetcher.fetch(index)\n  File \"/usr/local/lib/python3.8/dist-packages/torch/utils/data/_utils/fetch.py\", line 47, in fetch\n    return self.collate_fn(data)\n  File \"/usr/local/lib/python3.8/dist-packages/torch/utils/data/_utils/collate.py\", line 83, in default_collate\n    return [default_collate(samples) for samples in transposed]\n  File \"/usr/local/lib/python3.8/dist-packages/torch/utils/data/_utils/collate.py\", line 83, in <listcomp>\n    return [default_collate(samples) for samples in transposed]\n  File \"/usr/local/lib/python3.8/dist-packages/torch/utils/data/_utils/collate.py\", line 85, in default_collate\n    raise TypeError(default_collate_err_msg_format.format(elem_type))\nTypeError: default_collate: batch must contain tensors, numpy arrays, numbers, dicts or lists; found <class 'NoneType'>\n",
     "output_type": "error",
     "traceback": [
      "\u001b[0;31m---------------------------------------------------------------------------\u001b[0m",
      "\u001b[0;31mTypeError\u001b[0m                                 Traceback (most recent call last)",
      "\u001b[0;32m<ipython-input-59-40aadd4aa0dc>\u001b[0m in \u001b[0;36m<module>\u001b[0;34m\u001b[0m\n\u001b[1;32m    103\u001b[0m     \u001b[0;31m# inference\u001b[0m\u001b[0;34m\u001b[0m\u001b[0;34m\u001b[0m\u001b[0;34m\u001b[0m\u001b[0m\n\u001b[1;32m    104\u001b[0m     \u001b[0;31m#############\u001b[0m\u001b[0;34m\u001b[0m\u001b[0;34m\u001b[0m\u001b[0;34m\u001b[0m\u001b[0m\n\u001b[0;32m--> 105\u001b[0;31m     \u001b[0mpreds_lat\u001b[0m\u001b[0;34m,\u001b[0m \u001b[0mpreds_lng\u001b[0m \u001b[0;34m=\u001b[0m \u001b[0mevaluate\u001b[0m\u001b[0;34m(\u001b[0m\u001b[0mmodel\u001b[0m\u001b[0;34m,\u001b[0m \u001b[0mloaders\u001b[0m\u001b[0;34m,\u001b[0m \u001b[0mss_gt\u001b[0m\u001b[0;34m,\u001b[0m \u001b[0mphase\u001b[0m\u001b[0;34m=\u001b[0m\u001b[0;34m\"test\"\u001b[0m\u001b[0;34m)\u001b[0m\u001b[0;34m\u001b[0m\u001b[0;34m\u001b[0m\u001b[0m\n\u001b[0m\u001b[1;32m    106\u001b[0m     \u001b[0mtest_preds\u001b[0m \u001b[0;34m=\u001b[0m \u001b[0mpd\u001b[0m\u001b[0;34m.\u001b[0m\u001b[0mDataFrame\u001b[0m\u001b[0;34m(\u001b[0m\u001b[0mnp\u001b[0m\u001b[0;34m.\u001b[0m\u001b[0mstack\u001b[0m\u001b[0;34m(\u001b[0m\u001b[0;34m(\u001b[0m\u001b[0mpreds_lat\u001b[0m\u001b[0;34m,\u001b[0m \u001b[0mpreds_lng\u001b[0m\u001b[0;34m)\u001b[0m\u001b[0;34m)\u001b[0m\u001b[0;34m)\u001b[0m\u001b[0;34m.\u001b[0m\u001b[0mT\u001b[0m\u001b[0;34m\u001b[0m\u001b[0;34m\u001b[0m\u001b[0m\n\u001b[1;32m    107\u001b[0m     \u001b[0mtest_preds\u001b[0m\u001b[0;34m.\u001b[0m\u001b[0mcolumns\u001b[0m \u001b[0;34m=\u001b[0m \u001b[0msub_df\u001b[0m\u001b[0;34m.\u001b[0m\u001b[0mcolumns\u001b[0m\u001b[0;34m\u001b[0m\u001b[0;34m\u001b[0m\u001b[0m\n",
      "\u001b[0;32m<ipython-input-25-dd0caf0a1ba0>\u001b[0m in \u001b[0;36mevaluate\u001b[0;34m(model, loaders, ss_gt, phase)\u001b[0m\n\u001b[1;32m      8\u001b[0m \u001b[0;34m\u001b[0m\u001b[0m\n\u001b[1;32m      9\u001b[0m     \u001b[0;32mwith\u001b[0m \u001b[0mtorch\u001b[0m\u001b[0;34m.\u001b[0m\u001b[0mno_grad\u001b[0m\u001b[0;34m(\u001b[0m\u001b[0;34m)\u001b[0m\u001b[0;34m:\u001b[0m\u001b[0;34m\u001b[0m\u001b[0;34m\u001b[0m\u001b[0m\n\u001b[0;32m---> 10\u001b[0;31m         \u001b[0;32mfor\u001b[0m \u001b[0mbatch\u001b[0m \u001b[0;32min\u001b[0m \u001b[0mloaders\u001b[0m\u001b[0;34m[\u001b[0m\u001b[0mphase\u001b[0m\u001b[0;34m]\u001b[0m\u001b[0;34m:\u001b[0m\u001b[0;34m\u001b[0m\u001b[0;34m\u001b[0m\u001b[0m\n\u001b[0m\u001b[1;32m     11\u001b[0m             \u001b[0mx\u001b[0m\u001b[0;34m,\u001b[0m \u001b[0my\u001b[0m \u001b[0;34m=\u001b[0m \u001b[0mbatch\u001b[0m\u001b[0;34m\u001b[0m\u001b[0;34m\u001b[0m\u001b[0m\n\u001b[1;32m     12\u001b[0m             \u001b[0moutput\u001b[0m \u001b[0;34m=\u001b[0m \u001b[0mmodel\u001b[0m\u001b[0;34m(\u001b[0m\u001b[0mx\u001b[0m\u001b[0;34m)\u001b[0m\u001b[0;34m\u001b[0m\u001b[0;34m\u001b[0m\u001b[0m\n",
      "\u001b[0;32m/usr/local/lib/python3.8/dist-packages/torch/utils/data/dataloader.py\u001b[0m in \u001b[0;36m__next__\u001b[0;34m(self)\u001b[0m\n\u001b[1;32m    433\u001b[0m         \u001b[0;32mif\u001b[0m \u001b[0mself\u001b[0m\u001b[0;34m.\u001b[0m\u001b[0m_sampler_iter\u001b[0m \u001b[0;32mis\u001b[0m \u001b[0;32mNone\u001b[0m\u001b[0;34m:\u001b[0m\u001b[0;34m\u001b[0m\u001b[0;34m\u001b[0m\u001b[0m\n\u001b[1;32m    434\u001b[0m             \u001b[0mself\u001b[0m\u001b[0;34m.\u001b[0m\u001b[0m_reset\u001b[0m\u001b[0;34m(\u001b[0m\u001b[0;34m)\u001b[0m\u001b[0;34m\u001b[0m\u001b[0;34m\u001b[0m\u001b[0m\n\u001b[0;32m--> 435\u001b[0;31m         \u001b[0mdata\u001b[0m \u001b[0;34m=\u001b[0m \u001b[0mself\u001b[0m\u001b[0;34m.\u001b[0m\u001b[0m_next_data\u001b[0m\u001b[0;34m(\u001b[0m\u001b[0;34m)\u001b[0m\u001b[0;34m\u001b[0m\u001b[0;34m\u001b[0m\u001b[0m\n\u001b[0m\u001b[1;32m    436\u001b[0m         \u001b[0mself\u001b[0m\u001b[0;34m.\u001b[0m\u001b[0m_num_yielded\u001b[0m \u001b[0;34m+=\u001b[0m \u001b[0;36m1\u001b[0m\u001b[0;34m\u001b[0m\u001b[0;34m\u001b[0m\u001b[0m\n\u001b[1;32m    437\u001b[0m         \u001b[0;32mif\u001b[0m \u001b[0mself\u001b[0m\u001b[0;34m.\u001b[0m\u001b[0m_dataset_kind\u001b[0m \u001b[0;34m==\u001b[0m \u001b[0m_DatasetKind\u001b[0m\u001b[0;34m.\u001b[0m\u001b[0mIterable\u001b[0m \u001b[0;32mand\u001b[0m\u001b[0;31m \u001b[0m\u001b[0;31m\\\u001b[0m\u001b[0;34m\u001b[0m\u001b[0;34m\u001b[0m\u001b[0m\n",
      "\u001b[0;32m/usr/local/lib/python3.8/dist-packages/torch/utils/data/dataloader.py\u001b[0m in \u001b[0;36m_next_data\u001b[0;34m(self)\u001b[0m\n\u001b[1;32m   1083\u001b[0m             \u001b[0;32melse\u001b[0m\u001b[0;34m:\u001b[0m\u001b[0;34m\u001b[0m\u001b[0;34m\u001b[0m\u001b[0m\n\u001b[1;32m   1084\u001b[0m                 \u001b[0;32mdel\u001b[0m \u001b[0mself\u001b[0m\u001b[0;34m.\u001b[0m\u001b[0m_task_info\u001b[0m\u001b[0;34m[\u001b[0m\u001b[0midx\u001b[0m\u001b[0;34m]\u001b[0m\u001b[0;34m\u001b[0m\u001b[0;34m\u001b[0m\u001b[0m\n\u001b[0;32m-> 1085\u001b[0;31m                 \u001b[0;32mreturn\u001b[0m \u001b[0mself\u001b[0m\u001b[0;34m.\u001b[0m\u001b[0m_process_data\u001b[0m\u001b[0;34m(\u001b[0m\u001b[0mdata\u001b[0m\u001b[0;34m)\u001b[0m\u001b[0;34m\u001b[0m\u001b[0;34m\u001b[0m\u001b[0m\n\u001b[0m\u001b[1;32m   1086\u001b[0m \u001b[0;34m\u001b[0m\u001b[0m\n\u001b[1;32m   1087\u001b[0m     \u001b[0;32mdef\u001b[0m \u001b[0m_try_put_index\u001b[0m\u001b[0;34m(\u001b[0m\u001b[0mself\u001b[0m\u001b[0;34m)\u001b[0m\u001b[0;34m:\u001b[0m\u001b[0;34m\u001b[0m\u001b[0;34m\u001b[0m\u001b[0m\n",
      "\u001b[0;32m/usr/local/lib/python3.8/dist-packages/torch/utils/data/dataloader.py\u001b[0m in \u001b[0;36m_process_data\u001b[0;34m(self, data)\u001b[0m\n\u001b[1;32m   1109\u001b[0m         \u001b[0mself\u001b[0m\u001b[0;34m.\u001b[0m\u001b[0m_try_put_index\u001b[0m\u001b[0;34m(\u001b[0m\u001b[0;34m)\u001b[0m\u001b[0;34m\u001b[0m\u001b[0;34m\u001b[0m\u001b[0m\n\u001b[1;32m   1110\u001b[0m         \u001b[0;32mif\u001b[0m \u001b[0misinstance\u001b[0m\u001b[0;34m(\u001b[0m\u001b[0mdata\u001b[0m\u001b[0;34m,\u001b[0m \u001b[0mExceptionWrapper\u001b[0m\u001b[0;34m)\u001b[0m\u001b[0;34m:\u001b[0m\u001b[0;34m\u001b[0m\u001b[0;34m\u001b[0m\u001b[0m\n\u001b[0;32m-> 1111\u001b[0;31m             \u001b[0mdata\u001b[0m\u001b[0;34m.\u001b[0m\u001b[0mreraise\u001b[0m\u001b[0;34m(\u001b[0m\u001b[0;34m)\u001b[0m\u001b[0;34m\u001b[0m\u001b[0;34m\u001b[0m\u001b[0m\n\u001b[0m\u001b[1;32m   1112\u001b[0m         \u001b[0;32mreturn\u001b[0m \u001b[0mdata\u001b[0m\u001b[0;34m\u001b[0m\u001b[0;34m\u001b[0m\u001b[0m\n\u001b[1;32m   1113\u001b[0m \u001b[0;34m\u001b[0m\u001b[0m\n",
      "\u001b[0;32m/usr/local/lib/python3.8/dist-packages/torch/_utils.py\u001b[0m in \u001b[0;36mreraise\u001b[0;34m(self)\u001b[0m\n\u001b[1;32m    426\u001b[0m             \u001b[0;31m# have message field\u001b[0m\u001b[0;34m\u001b[0m\u001b[0;34m\u001b[0m\u001b[0;34m\u001b[0m\u001b[0m\n\u001b[1;32m    427\u001b[0m             \u001b[0;32mraise\u001b[0m \u001b[0mself\u001b[0m\u001b[0;34m.\u001b[0m\u001b[0mexc_type\u001b[0m\u001b[0;34m(\u001b[0m\u001b[0mmessage\u001b[0m\u001b[0;34m=\u001b[0m\u001b[0mmsg\u001b[0m\u001b[0;34m)\u001b[0m\u001b[0;34m\u001b[0m\u001b[0;34m\u001b[0m\u001b[0m\n\u001b[0;32m--> 428\u001b[0;31m         \u001b[0;32mraise\u001b[0m \u001b[0mself\u001b[0m\u001b[0;34m.\u001b[0m\u001b[0mexc_type\u001b[0m\u001b[0;34m(\u001b[0m\u001b[0mmsg\u001b[0m\u001b[0;34m)\u001b[0m\u001b[0;34m\u001b[0m\u001b[0;34m\u001b[0m\u001b[0m\n\u001b[0m\u001b[1;32m    429\u001b[0m \u001b[0;34m\u001b[0m\u001b[0m\n\u001b[1;32m    430\u001b[0m \u001b[0;34m\u001b[0m\u001b[0m\n",
      "\u001b[0;31mTypeError\u001b[0m: Caught TypeError in DataLoader worker process 0.\nOriginal Traceback (most recent call last):\n  File \"/usr/local/lib/python3.8/dist-packages/torch/utils/data/_utils/worker.py\", line 198, in _worker_loop\n    data = fetcher.fetch(index)\n  File \"/usr/local/lib/python3.8/dist-packages/torch/utils/data/_utils/fetch.py\", line 47, in fetch\n    return self.collate_fn(data)\n  File \"/usr/local/lib/python3.8/dist-packages/torch/utils/data/_utils/collate.py\", line 83, in default_collate\n    return [default_collate(samples) for samples in transposed]\n  File \"/usr/local/lib/python3.8/dist-packages/torch/utils/data/_utils/collate.py\", line 83, in <listcomp>\n    return [default_collate(samples) for samples in transposed]\n  File \"/usr/local/lib/python3.8/dist-packages/torch/utils/data/_utils/collate.py\", line 85, in default_collate\n    raise TypeError(default_collate_err_msg_format.format(elem_type))\nTypeError: default_collate: batch must contain tensors, numpy arrays, numbers, dicts or lists; found <class 'NoneType'>\n"
     ]
    }
   ],
   "source": [
    "\n",
    "oofs = []  # 全てのoofをdfで格納する\n",
    "predictions = []  # 全ての予測値をdfで格納する\n",
    "val_scores = []\n",
    "\n",
    "os.makedirs(f'../../model/{EXP_NAME}', exist_ok=True)\n",
    "\n",
    "# skf = model_selection.StratifiedKFold(n_splits=N_SPLITS, shuffle=True, random_state=SEED)\n",
    "gkf = model_selection.GroupKFold(n_splits=N_SPLITS)\n",
    "\n",
    "train_fold = [(trn_idx, val_idx) for trn_idx, val_idx in gkf.split(train.loc[:, 'collectionName'], groups=train.loc[:, 'collectionName'])]\n",
    "for fold in range(5):\n",
    "    # 指定したfoldのみループを回す\n",
    "    if fold not in USE_FOLDS:\n",
    "        continue\n",
    "\n",
    "    print('=' * 20)\n",
    "    print(f'Fold {fold}')\n",
    "    print('=' * 20)\n",
    "\n",
    "    # train/valid data\n",
    "    trn_idx_for_train, val_idx_for_train = train_fold[fold]\n",
    "    trn_df = train.loc[trn_idx_for_train, :].reset_index(drop=True)\n",
    "    val_df = train.loc[val_idx_for_train, :].reset_index(drop=True)\n",
    "\n",
    "    # data loader\n",
    "    loaders = {}\n",
    "    loader_config = config[\"loader\"]\n",
    "    loaders[\"train\"] = DataLoader(OutdoorDataset(trn_df, phase=\"train\"), **loader_config[\"train\"], worker_init_fn=worker_init_fn) \n",
    "    loaders[\"valid\"] = DataLoader(OutdoorDataset(val_df, phase=\"valid\"), **loader_config[\"valid\"], worker_init_fn=worker_init_fn)\n",
    "    loaders[\"test\"] = DataLoader(OutdoorDataset(test, phase=\"test\"), **loader_config[\"test\"], worker_init_fn=worker_init_fn)\n",
    "\n",
    "    # model\n",
    "    model = MLPModel(phone_size) \n",
    "    model_name = model.__class__.__name__\n",
    "\n",
    "    # callbacks\n",
    "    callbacks = []\n",
    "    checkpoint_callback = ModelCheckpoint(\n",
    "        monitor=f'Loss/val',\n",
    "        mode='min',\n",
    "        dirpath=f\"../../model/{EXP_NAME}\",\n",
    "        verbose=False,\n",
    "        filename=f'{model_name}-{fold}')\n",
    "    \n",
    "    if MODEL_SAVE:\n",
    "        callbacks.append(checkpoint_callback)\n",
    "\n",
    "    early_stop_callback = EarlyStopping(\n",
    "        monitor='Loss/val',\n",
    "        min_delta=0.00,\n",
    "        patience=20,\n",
    "        verbose=False,\n",
    "        mode='min')\n",
    "    callbacks.append(early_stop_callback)\n",
    "\n",
    "    # loggers\n",
    "    RUN_NAME = EXP_NAME + \"_\" + EXP_MESSAGE\n",
    "    wandb.init(project='outdoor', entity='kuto5046', group=RUN_NAME)\n",
    "    wandb.run.name = RUN_NAME + f'-fold-{fold}'\n",
    "    wandb_config = wandb.config\n",
    "    wandb_config['model_name'] = model_name\n",
    "    wandb_config['comment'] = NOTES\n",
    "    wandb.watch(model)\n",
    "    \n",
    "    \n",
    "    loggers = []\n",
    "    loggers.append(WandbLogger())\n",
    "\n",
    "    learner = Learner(model, config, ss_gt, ss_base)\n",
    "    # pretrained flag\n",
    "    if PRETRAINED:\n",
    "        ckpt = torch.load(PRETRAINED_PATH + f'{model_name}-{fold}.ckpt')\n",
    "        learner.load_state_dict(ckpt['state_dict'])\n",
    "\n",
    "    if not ONLY_PRED:\n",
    "        trainer = pl.Trainer(\n",
    "            logger=loggers, \n",
    "            callbacks=callbacks,\n",
    "            max_epochs=MAX_EPOCHS,\n",
    "            gpus=[0],\n",
    "            fast_dev_run=DEBUG,\n",
    "            deterministic=True,\n",
    "            # precision=16,\n",
    "            progress_bar_refresh_rate=0  # vscodeの時progress barの動作が遅いので表示しない\n",
    "            )\n",
    "\n",
    "        trainer.fit(learner, train_dataloader=loaders['train'], val_dataloaders=loaders['valid'])\n",
    "\n",
    "    #############\n",
    "    # validation (to make oof)\n",
    "    #############\n",
    "    model.eval() \n",
    "    oof_df = train.loc[val_idx_for_train, :].reset_index(drop=True)\n",
    "    oof_lat, oof_lng = evaluate(model, loaders, ss_gt, phase='valid')\n",
    "    oof_df[\"oof_latDeg\"] = oof_lat\n",
    "    oof_df[\"oof_lngDeg\"] = oof_lng\n",
    "    oofs.append(oof_df)\n",
    "    val_score = calc_haversine(oof_df['oof_latDeg'], oof_df['oof_lngDeg'], oof_df['latDeg'], oof_df['lngDeg']).mean()\n",
    "    val_scores.append(val_score)\n",
    "    print(f\"fold {fold}: mean position error {val_score}\")\n",
    "\n",
    "    #############\n",
    "    # inference\n",
    "    #############\n",
    "    preds_lat, preds_lng = evaluate(model, loaders, ss_gt, phase=\"test\")\n",
    "    test_preds = pd.DataFrame(np.stack((preds_lat, preds_lng))).T\n",
    "    test_preds.columns = sub_df.columns\n",
    "    # test_preds.to_csv(f'{EXP_NAME}_fold{fold}.csv', index=False)\n",
    "    predictions.append(test_preds)\n",
    "\n",
    "    if fold != 4:\n",
    "        wandb.finish()"
   ]
  },
  {
   "cell_type": "markdown",
   "metadata": {},
   "source": [
    "## validation"
   ]
  },
  {
   "cell_type": "code",
   "execution_count": null,
   "metadata": {},
   "outputs": [],
   "source": [
    "if len(USE_FOLDS) > 1:\n",
    "    oofs_df = pd.concat(oofs)\n",
    "else:\n",
    "    oofs_df = oofs[0]\n",
    "\n",
    "oofs_df['site_path_timestamp'] = oofs_df['site_id_str'].astype(str) + '_' + oofs_df['path'] + '_' + oofs_df['timestamp'].astype(str)\n",
    "oofs_df = oofs_df.sort_values('site_path_timestamp').reset_index(drop=True)\n",
    "# oofs_df.to_csv(\"oof.csv\", index=False)\n",
    "oofs_df"
   ]
  },
  {
   "cell_type": "code",
   "execution_count": null,
   "metadata": {},
   "outputs": [],
   "source": [
    "# waypoint補正前のx,yでの評価\n",
    "oof_score = mean_position_error(\n",
    "    oofs_df['oof_x'], oofs_df['oof_y'], 0, \n",
    "    oofs_df['x'], oofs_df['y'], 0\n",
    "    )\n",
    "wandb_config['CV'] = oof_score\n",
    "print(f\"CV:{oof_score}\")"
   ]
  },
  {
   "cell_type": "code",
   "execution_count": null,
   "metadata": {},
   "outputs": [],
   "source": [
    "if len(USE_FOLDS) > 1:\n",
    "    # foldの結果を平均した後、reindexでsubmission fileにindexを合わせる\n",
    "    # all_preds = pd.concat(predictions).groupby('site_path_timestamp').mean()\n",
    "    all_preds = pd.concat(predictions).reset_index().groupby('index').mean()\n",
    "    all_preds['site_path_timestamp'] = predictions[0]['site_path_timestamp'].values\n",
    "else:\n",
    "    all_preds = predictions[0]"
   ]
  },
  {
   "cell_type": "code",
   "execution_count": null,
   "metadata": {},
   "outputs": [],
   "source": [
    "sub.to_csv(EXP_NAME + '_sub.csv')"
   ]
  }
 ],
 "metadata": {
  "interpreter": {
   "hash": "31f2aee4e71d21fbe5cf8b01ff0e069b9275f58929596ceb00d14d90e3e16cd6"
  },
  "kernelspec": {
   "display_name": "Python 3.8.5 64-bit",
   "name": "python3"
  },
  "language_info": {
   "codemirror_mode": {
    "name": "ipython",
    "version": 3
   },
   "file_extension": ".py",
   "mimetype": "text/x-python",
   "name": "python",
   "nbconvert_exporter": "python",
   "pygments_lexer": "ipython3",
   "version": "3.8.5"
  },
  "widgets": {
   "application/vnd.jupyter.widget-state+json": {
    "state": {
     "00063024b5f8485188d7cc60268383d1": {
      "model_module": "@jupyter-widgets/controls",
      "model_module_version": "1.5.0",
      "model_name": "FloatProgressModel",
      "state": {
       "layout": "IPY_MODEL_1698547e4f884733919c10cbdd8d38c2",
       "max": 1,
       "style": "IPY_MODEL_2129254bc7b64bf48a5b015430263101",
       "value": 1
      }
     },
     "0008501c024a4cb0940f83cdc08abdc1": {
      "model_module": "@jupyter-widgets/controls",
      "model_module_version": "1.5.0",
      "model_name": "ProgressStyleModel",
      "state": {
       "description_width": ""
      }
     },
     "0207d68b8def46cf8bcd7d4c83840720": {
      "model_module": "@jupyter-widgets/base",
      "model_module_version": "1.2.0",
      "model_name": "LayoutModel",
      "state": {
       "flex": "2"
      }
     },
     "03bb2b3789ca4b21a25ec51341715920": {
      "model_module": "@jupyter-widgets/controls",
      "model_module_version": "1.5.0",
      "model_name": "LabelModel",
      "state": {
       "layout": "IPY_MODEL_c81df0d5ffb24565b3d0a6a923517df2",
       "style": "IPY_MODEL_a49622f2360a4c2da2bfec59e8726dbf",
       "value": " 0.02MB of 0.02MB uploaded (0.00MB deduped)\r"
      }
     },
     "04197a2980174dc1b6e02696a44ca9b5": {
      "model_module": "@jupyter-widgets/base",
      "model_module_version": "1.2.0",
      "model_name": "LayoutModel",
      "state": {}
     },
     "04f29d07d33d42f798e573b35c836aa6": {
      "model_module": "@jupyter-widgets/controls",
      "model_module_version": "1.5.0",
      "model_name": "ProgressStyleModel",
      "state": {
       "description_width": ""
      }
     },
     "0565642d882d49c19bc71a9068242ad1": {
      "model_module": "@jupyter-widgets/base",
      "model_module_version": "1.2.0",
      "model_name": "LayoutModel",
      "state": {}
     },
     "058d296ec601482dbe1c78bd644518c2": {
      "model_module": "@jupyter-widgets/base",
      "model_module_version": "1.2.0",
      "model_name": "LayoutModel",
      "state": {}
     },
     "059c6f4a77a44a8f944107c9c7aa80dd": {
      "model_module": "@jupyter-widgets/controls",
      "model_module_version": "1.5.0",
      "model_name": "DescriptionStyleModel",
      "state": {
       "description_width": ""
      }
     },
     "05a2b5b60a6c4fe391fa212370980b1e": {
      "model_module": "@jupyter-widgets/controls",
      "model_module_version": "1.5.0",
      "model_name": "DescriptionStyleModel",
      "state": {
       "description_width": ""
      }
     },
     "065b12c96ba248ad8f38793b5dd29e45": {
      "model_module": "@jupyter-widgets/base",
      "model_module_version": "1.2.0",
      "model_name": "LayoutModel",
      "state": {}
     },
     "0664b800864d4e12a1580853ed7a131d": {
      "model_module": "@jupyter-widgets/controls",
      "model_module_version": "1.5.0",
      "model_name": "DescriptionStyleModel",
      "state": {
       "description_width": ""
      }
     },
     "06878c923f024d0c99c8192da2bf0dfe": {
      "model_module": "@jupyter-widgets/base",
      "model_module_version": "1.2.0",
      "model_name": "LayoutModel",
      "state": {
       "display": "inline-flex",
       "flex_flow": "row wrap",
       "width": "100%"
      }
     },
     "06f6561c9f924d4ca4129b533720b6b4": {
      "model_module": "@jupyter-widgets/controls",
      "model_module_version": "1.5.0",
      "model_name": "HTMLModel",
      "state": {
       "layout": "IPY_MODEL_b3c94b44349342e49032940be50cb8b3",
       "style": "IPY_MODEL_aaa6f14b333449a5b96d357ffd7268f6",
       "value": " 32/52 [00:00&lt;00:00, 48.62it/s]"
      }
     },
     "07505f3e70f64c0fbff3058708300553": {
      "model_module": "@jupyter-widgets/controls",
      "model_module_version": "1.5.0",
      "model_name": "ProgressStyleModel",
      "state": {
       "description_width": ""
      }
     },
     "075c08dbf4e54f84ac86f229e143f115": {
      "model_module": "@jupyter-widgets/base",
      "model_module_version": "1.2.0",
      "model_name": "LayoutModel",
      "state": {
       "display": "inline-flex",
       "flex_flow": "row wrap",
       "width": "100%"
      }
     },
     "07bd3d2d74104cca8791ba3dce951b83": {
      "model_module": "@jupyter-widgets/base",
      "model_module_version": "1.2.0",
      "model_name": "LayoutModel",
      "state": {
       "flex": "2"
      }
     },
     "07ce4b085fbe4eb194b9a8cb6620951b": {
      "model_module": "@jupyter-widgets/controls",
      "model_module_version": "1.5.0",
      "model_name": "HTMLModel",
      "state": {
       "layout": "IPY_MODEL_c2d551fe604e41b683f3f7394456c470",
       "style": "IPY_MODEL_cd0a21f958b44082acf9b4e132d5b947",
       "value": "Validation sanity check:  50%"
      }
     },
     "083522c1aa71460d98067db5117d91d6": {
      "model_module": "@jupyter-widgets/controls",
      "model_module_version": "1.5.0",
      "model_name": "DescriptionStyleModel",
      "state": {
       "description_width": ""
      }
     },
     "0a57227815dc47bb83781f08a943c0d8": {
      "model_module": "@jupyter-widgets/controls",
      "model_module_version": "1.5.0",
      "model_name": "FloatProgressModel",
      "state": {
       "bar_style": "success",
       "layout": "IPY_MODEL_2bc2552bc6ec4089a6a2c5d18d379ace",
       "max": 73,
       "style": "IPY_MODEL_baf1149c2dad4c6b9d1b074b7edc6953",
       "value": 73
      }
     },
     "0a5cd61fd4c6438d92cadfc8595be9cd": {
      "model_module": "@jupyter-widgets/controls",
      "model_module_version": "1.5.0",
      "model_name": "HTMLModel",
      "state": {
       "layout": "IPY_MODEL_46612d7cefbc4196acca72caf95e3679",
       "style": "IPY_MODEL_d6593c9557a04cb5a8b573d3f49b9dce",
       "value": " 30/52 [00:00&lt;00:00, 45.93it/s]"
      }
     },
     "0b2af8d2b4d044c1b9063b8fc6b2899c": {
      "model_module": "@jupyter-widgets/base",
      "model_module_version": "1.2.0",
      "model_name": "LayoutModel",
      "state": {
       "display": "inline-flex",
       "flex_flow": "row wrap",
       "width": "100%"
      }
     },
     "0be4bc75cd6f43018c0b8f78c49da4c3": {
      "model_module": "@jupyter-widgets/controls",
      "model_module_version": "1.5.0",
      "model_name": "FloatProgressModel",
      "state": {
       "layout": "IPY_MODEL_9056af4b047743f8a4e29c0625fb7f02",
       "max": 52,
       "style": "IPY_MODEL_62ffe647b312481d955139a84ddd01cc",
       "value": 52
      }
     },
     "0be5c77d526b4ebd9709af01f3dffdde": {
      "model_module": "@jupyter-widgets/controls",
      "model_module_version": "1.5.0",
      "model_name": "DescriptionStyleModel",
      "state": {
       "description_width": ""
      }
     },
     "0c9387aba4c1463f8fb78dd8c87334e5": {
      "model_module": "@jupyter-widgets/controls",
      "model_module_version": "1.5.0",
      "model_name": "HTMLModel",
      "state": {
       "layout": "IPY_MODEL_fe452333f39e403d9b4003af14691396",
       "style": "IPY_MODEL_d05ab206b7e8408989284dfde606d27c",
       "value": " 6/258 [02:11&lt;1:31:43, 21.84s/it, loss=2.43e+03, v_num=9enp]"
      }
     },
     "0ca9eca20f6744e885189a010dfa00be": {
      "model_module": "@jupyter-widgets/base",
      "model_module_version": "1.2.0",
      "model_name": "LayoutModel",
      "state": {
       "display": "inline-flex",
       "flex_flow": "row wrap",
       "width": "100%"
      }
     },
     "0cf07673d608487582eba451edc391e7": {
      "model_module": "@jupyter-widgets/base",
      "model_module_version": "1.2.0",
      "model_name": "LayoutModel",
      "state": {}
     },
     "0d3c1580f792457d8c69df96acfb62ff": {
      "model_module": "@jupyter-widgets/base",
      "model_module_version": "1.2.0",
      "model_name": "LayoutModel",
      "state": {}
     },
     "0d50e6aab11f43e986d80a46ca01de7e": {
      "model_module": "@jupyter-widgets/base",
      "model_module_version": "1.2.0",
      "model_name": "LayoutModel",
      "state": {}
     },
     "0d57646052324dba828ced75b0142e86": {
      "model_module": "@jupyter-widgets/base",
      "model_module_version": "1.2.0",
      "model_name": "LayoutModel",
      "state": {
       "display": "inline-flex",
       "flex_flow": "row wrap",
       "width": "100%"
      }
     },
     "103d4eead7e148db9f3777d171ba30d4": {
      "model_module": "@jupyter-widgets/base",
      "model_module_version": "1.2.0",
      "model_name": "LayoutModel",
      "state": {}
     },
     "10ff27a5de3a4df99d6432f09ab1cf08": {
      "model_module": "@jupyter-widgets/base",
      "model_module_version": "1.2.0",
      "model_name": "LayoutModel",
      "state": {}
     },
     "110cbcd7284c4b1fa44b1292ce54dcc4": {
      "model_module": "@jupyter-widgets/controls",
      "model_module_version": "1.5.0",
      "model_name": "DescriptionStyleModel",
      "state": {
       "description_width": ""
      }
     },
     "115bc458cb15414d8a450d106ca0e307": {
      "model_module": "@jupyter-widgets/controls",
      "model_module_version": "1.5.0",
      "model_name": "DescriptionStyleModel",
      "state": {
       "description_width": ""
      }
     },
     "1397139ed27944e19224d1e8b1a1e62e": {
      "model_module": "@jupyter-widgets/base",
      "model_module_version": "1.2.0",
      "model_name": "LayoutModel",
      "state": {}
     },
     "13f675ee5e1441cfbcc744d4705aaa54": {
      "model_module": "@jupyter-widgets/base",
      "model_module_version": "1.2.0",
      "model_name": "LayoutModel",
      "state": {
       "display": "inline-flex",
       "flex_flow": "row wrap",
       "width": "100%"
      }
     },
     "1698547e4f884733919c10cbdd8d38c2": {
      "model_module": "@jupyter-widgets/base",
      "model_module_version": "1.2.0",
      "model_name": "LayoutModel",
      "state": {}
     },
     "16a096b7a7b740b5a6b3fac8237c4187": {
      "model_module": "@jupyter-widgets/controls",
      "model_module_version": "1.5.0",
      "model_name": "DescriptionStyleModel",
      "state": {
       "description_width": ""
      }
     },
     "16ef43cb2f70490197bdf785aeb44327": {
      "model_module": "@jupyter-widgets/base",
      "model_module_version": "1.2.0",
      "model_name": "LayoutModel",
      "state": {}
     },
     "17b7d52b81a848bb95bed5ed31f519fc": {
      "model_module": "@jupyter-widgets/controls",
      "model_module_version": "1.5.0",
      "model_name": "FloatProgressModel",
      "state": {
       "layout": "IPY_MODEL_b8c4d31f31834a64a3a27cc3a7c5723e",
       "max": 2,
       "style": "IPY_MODEL_c41d2b224bec41958408d37d35cf0210"
      }
     },
     "1806ff895c074adea753f58dc06446e0": {
      "model_module": "@jupyter-widgets/controls",
      "model_module_version": "1.5.0",
      "model_name": "LabelModel",
      "state": {
       "layout": "IPY_MODEL_510f9e96cccf433f89ab764c53795aac",
       "style": "IPY_MODEL_5cface7d7dc64327a2a01844c498cfa8",
       "value": " 0.00MB of 0.00MB uploaded (0.00MB deduped)\r"
      }
     },
     "184c3448daad48e4b1c24814aba6aee7": {
      "model_module": "@jupyter-widgets/base",
      "model_module_version": "1.2.0",
      "model_name": "LayoutModel",
      "state": {
       "flex": "2"
      }
     },
     "18a43534272745c4bae41eed6c1967d9": {
      "model_module": "@jupyter-widgets/controls",
      "model_module_version": "1.5.0",
      "model_name": "HTMLModel",
      "state": {
       "layout": "IPY_MODEL_3024bf9ff7fa46b39ffc9a586dfef4a9",
       "style": "IPY_MODEL_c99766b1b6df4e11a9994da8a613e5e4",
       "value": " 26/52 [00:00&lt;00:00, 38.89it/s]"
      }
     },
     "1ae9fb524334483cb9eeb784023e21ed": {
      "model_module": "@jupyter-widgets/controls",
      "model_module_version": "1.5.0",
      "model_name": "ProgressStyleModel",
      "state": {
       "description_width": ""
      }
     },
     "1b4a113b31fc49b5bf96838a1161e11f": {
      "model_module": "@jupyter-widgets/controls",
      "model_module_version": "1.5.0",
      "model_name": "ProgressStyleModel",
      "state": {
       "description_width": ""
      }
     },
     "1b5ec6a5fc8d411eb566521a2459d3e3": {
      "model_module": "@jupyter-widgets/controls",
      "model_module_version": "1.5.0",
      "model_name": "HTMLModel",
      "state": {
       "layout": "IPY_MODEL_058d296ec601482dbe1c78bd644518c2",
       "style": "IPY_MODEL_85033a81473e495fba8b053394232196",
       "value": " 207/258 [00:33&lt;00:08,  6.10it/s, loss=nan, v_num=oph7]"
      }
     },
     "1bb4c46451d64c84aa3dd62f6a6298aa": {
      "model_module": "@jupyter-widgets/base",
      "model_module_version": "1.2.0",
      "model_name": "LayoutModel",
      "state": {
       "flex": "2"
      }
     },
     "1c2c0b10bd10457b84566f93ca7bca4c": {
      "model_module": "@jupyter-widgets/base",
      "model_module_version": "1.2.0",
      "model_name": "LayoutModel",
      "state": {
       "display": "inline-flex",
       "flex_flow": "row wrap",
       "width": "100%"
      }
     },
     "1c62c3ba04374f3d9ef7249766223454": {
      "model_module": "@jupyter-widgets/controls",
      "model_module_version": "1.5.0",
      "model_name": "HBoxModel",
      "state": {
       "children": [
        "IPY_MODEL_9b482d4bc5844cd0b38e2abd1c95f596",
        "IPY_MODEL_4633067009c04085ba1d2d99de8a7afd",
        "IPY_MODEL_8f196c607d134ab78edc345f1277b515"
       ],
       "layout": "IPY_MODEL_0d57646052324dba828ced75b0142e86"
      }
     },
     "1cf3ca2e26d946788c49ffb22907c59a": {
      "model_module": "@jupyter-widgets/controls",
      "model_module_version": "1.5.0",
      "model_name": "HBoxModel",
      "state": {
       "children": [
        "IPY_MODEL_1e5c3ffb9f19412f81b6fa907ae870df",
        "IPY_MODEL_a96aa3ec3b6641e99daf7282a92fbc51",
        "IPY_MODEL_919ab7e3f91c4612af1f0f8a21cd889c"
       ],
       "layout": "IPY_MODEL_13f675ee5e1441cfbcc744d4705aaa54"
      }
     },
     "1d9f12f14b09464fb139bf651a32e63a": {
      "model_module": "@jupyter-widgets/controls",
      "model_module_version": "1.5.0",
      "model_name": "DescriptionStyleModel",
      "state": {
       "description_width": ""
      }
     },
     "1e498b227db248329c281b6c0a67480c": {
      "model_module": "@jupyter-widgets/controls",
      "model_module_version": "1.5.0",
      "model_name": "HTMLModel",
      "state": {
       "layout": "IPY_MODEL_103d4eead7e148db9f3777d171ba30d4",
       "style": "IPY_MODEL_36d63fdd33504e6b838d04a7e7bb6195",
       "value": "Validating:  58%"
      }
     },
     "1e5c3ffb9f19412f81b6fa907ae870df": {
      "model_module": "@jupyter-widgets/controls",
      "model_module_version": "1.5.0",
      "model_name": "HTMLModel",
      "state": {
       "layout": "IPY_MODEL_98d09690fdb44637981f8f69e489d1a0",
       "style": "IPY_MODEL_ed15cc414b4f48d993b06db8f45105c4",
       "value": "Epoch 0:   0%"
      }
     },
     "1f89057690714c34b2770decde3d6690": {
      "model_module": "@jupyter-widgets/controls",
      "model_module_version": "1.5.0",
      "model_name": "HTMLModel",
      "state": {
       "layout": "IPY_MODEL_4817ddfbb8ba49cfa4087e2e26f35183",
       "style": "IPY_MODEL_49aeafef8ca2425a92818107ae8128d1",
       "value": " 1/2 [00:01&lt;00:01,  1.17s/it]"
      }
     },
     "1f9124b8f5ab4a3a9158e13c269c62b8": {
      "model_module": "@jupyter-widgets/controls",
      "model_module_version": "1.5.0",
      "model_name": "DescriptionStyleModel",
      "state": {
       "description_width": ""
      }
     },
     "208e2a441d294e39a34e7edf4be035fa": {
      "model_module": "@jupyter-widgets/base",
      "model_module_version": "1.2.0",
      "model_name": "LayoutModel",
      "state": {}
     },
     "2129254bc7b64bf48a5b015430263101": {
      "model_module": "@jupyter-widgets/controls",
      "model_module_version": "1.5.0",
      "model_name": "ProgressStyleModel",
      "state": {
       "description_width": ""
      }
     },
     "2144fd0bf32d4f0daf5029a91877c029": {
      "model_module": "@jupyter-widgets/controls",
      "model_module_version": "1.5.0",
      "model_name": "LabelModel",
      "state": {
       "layout": "IPY_MODEL_8a32629e1d694c9bb869d050e4e05dae",
       "style": "IPY_MODEL_059c6f4a77a44a8f944107c9c7aa80dd",
       "value": " 0.00MB of 0.00MB uploaded (0.00MB deduped)\r"
      }
     },
     "21ec1d8592c24d008f5c6d38b96b201d": {
      "model_module": "@jupyter-widgets/controls",
      "model_module_version": "1.5.0",
      "model_name": "ProgressStyleModel",
      "state": {
       "description_width": ""
      }
     },
     "223b81fa50754dc0ade97de58a0c359a": {
      "model_module": "@jupyter-widgets/base",
      "model_module_version": "1.2.0",
      "model_name": "LayoutModel",
      "state": {}
     },
     "241423d317424c0390d32b3656cd3dd4": {
      "model_module": "@jupyter-widgets/controls",
      "model_module_version": "1.5.0",
      "model_name": "HTMLModel",
      "state": {
       "layout": "IPY_MODEL_976ad93b8bfd45cfb4f6ac6c979a7268",
       "style": "IPY_MODEL_47a3884fd8f741c58b32260729a951a8",
       "value": " 0/2 [00:00&lt;?, ?it/s]"
      }
     },
     "24339a51677843bda3936a33227f40e3": {
      "model_module": "@jupyter-widgets/controls",
      "model_module_version": "1.5.0",
      "model_name": "HTMLModel",
      "state": {
       "layout": "IPY_MODEL_208e2a441d294e39a34e7edf4be035fa",
       "style": "IPY_MODEL_115bc458cb15414d8a450d106ca0e307",
       "value": "Validating:  50%"
      }
     },
     "243472a933154624a963a83c8b9d964e": {
      "model_module": "@jupyter-widgets/controls",
      "model_module_version": "1.5.0",
      "model_name": "ProgressStyleModel",
      "state": {
       "description_width": ""
      }
     },
     "2513b262e74542e696ac243c03f3390b": {
      "model_module": "@jupyter-widgets/base",
      "model_module_version": "1.2.0",
      "model_name": "LayoutModel",
      "state": {
       "flex": "2"
      }
     },
     "252721cfbe224733b3a2311ffa46f546": {
      "model_module": "@jupyter-widgets/controls",
      "model_module_version": "1.5.0",
      "model_name": "FloatProgressModel",
      "state": {
       "layout": "IPY_MODEL_70cebd7b9c44471bbf794470cccb0b38",
       "max": 1,
       "style": "IPY_MODEL_bdcc6b3a8a964a88b8bd053fd6b2c1bd",
       "value": 1
      }
     },
     "255ffa2a105344a684cf63f4163d7aa8": {
      "model_module": "@jupyter-widgets/base",
      "model_module_version": "1.2.0",
      "model_name": "LayoutModel",
      "state": {}
     },
     "258520c982d44657a90aee548bfe36fd": {
      "model_module": "@jupyter-widgets/controls",
      "model_module_version": "1.5.0",
      "model_name": "DescriptionStyleModel",
      "state": {
       "description_width": ""
      }
     },
     "268cfb06b2954814bc7ca299ff011c0f": {
      "model_module": "@jupyter-widgets/base",
      "model_module_version": "1.2.0",
      "model_name": "LayoutModel",
      "state": {}
     },
     "278a0016aac548d48137c3f943530840": {
      "model_module": "@jupyter-widgets/controls",
      "model_module_version": "1.5.0",
      "model_name": "FloatProgressModel",
      "state": {
       "layout": "IPY_MODEL_0207d68b8def46cf8bcd7d4c83840720",
       "max": 52,
       "style": "IPY_MODEL_72380b49a4634d03a4834dad9b6557d7",
       "value": 52
      }
     },
     "291ec19a1b14445597d82f7ea5a76583": {
      "model_module": "@jupyter-widgets/controls",
      "model_module_version": "1.5.0",
      "model_name": "DescriptionStyleModel",
      "state": {
       "description_width": ""
      }
     },
     "2933fbd3cb0f4f8e8010885018fadf19": {
      "model_module": "@jupyter-widgets/controls",
      "model_module_version": "1.5.0",
      "model_name": "FloatProgressModel",
      "state": {
       "layout": "IPY_MODEL_d9058023e13c463483d916d87b1098d8",
       "max": 52,
       "style": "IPY_MODEL_1b4a113b31fc49b5bf96838a1161e11f",
       "value": 52
      }
     },
     "2999c278469e4f088f81c1e0e3ed6505": {
      "model_module": "@jupyter-widgets/base",
      "model_module_version": "1.2.0",
      "model_name": "LayoutModel",
      "state": {
       "display": "inline-flex",
       "flex_flow": "row wrap",
       "width": "100%"
      }
     },
     "2b4bc240e91e4dc9af22b3b6dc8dcf6d": {
      "model_module": "@jupyter-widgets/base",
      "model_module_version": "1.2.0",
      "model_name": "LayoutModel",
      "state": {}
     },
     "2bc2552bc6ec4089a6a2c5d18d379ace": {
      "model_module": "@jupyter-widgets/base",
      "model_module_version": "1.2.0",
      "model_name": "LayoutModel",
      "state": {}
     },
     "2be7d621d442437eb37991d948bdab94": {
      "model_module": "@jupyter-widgets/base",
      "model_module_version": "1.2.0",
      "model_name": "LayoutModel",
      "state": {}
     },
     "2c267f0b4e7240c2af7828daee3c47c3": {
      "model_module": "@jupyter-widgets/base",
      "model_module_version": "1.2.0",
      "model_name": "LayoutModel",
      "state": {}
     },
     "2c38f54f392c4aa5bde31651ad3b696a": {
      "model_module": "@jupyter-widgets/base",
      "model_module_version": "1.2.0",
      "model_name": "LayoutModel",
      "state": {
       "flex": "2"
      }
     },
     "2d4e877d61c14ff3abe70ecdb2b0dd7a": {
      "model_module": "@jupyter-widgets/controls",
      "model_module_version": "1.5.0",
      "model_name": "HBoxModel",
      "state": {
       "children": [
        "IPY_MODEL_5466b6f8275344b0a3d9dd842220f5e0",
        "IPY_MODEL_17b7d52b81a848bb95bed5ed31f519fc",
        "IPY_MODEL_241423d317424c0390d32b3656cd3dd4"
       ],
       "layout": "IPY_MODEL_783189ee5bd947e1b4bf1d7086eb798d"
      }
     },
     "2d57e649f7a943a6b2e87668cb1464ca": {
      "model_module": "@jupyter-widgets/controls",
      "model_module_version": "1.5.0",
      "model_name": "HTMLModel",
      "state": {
       "layout": "IPY_MODEL_f54a3c2cbd1d42aaaf0fe626da486011",
       "style": "IPY_MODEL_ba6eed55603c47d4bf875e972401e37f",
       "value": " 0/258 [02:28&lt;?, ?it/s]"
      }
     },
     "2dc180dfc6f34226a2af33f6a4647b34": {
      "model_module": "@jupyter-widgets/base",
      "model_module_version": "1.2.0",
      "model_name": "LayoutModel",
      "state": {
       "flex": "2"
      }
     },
     "2fa8c8d5d09947a4a2a3c92fcc6e8d98": {
      "model_module": "@jupyter-widgets/controls",
      "model_module_version": "1.5.0",
      "model_name": "HBoxModel",
      "state": {
       "children": [
        "IPY_MODEL_f1c1d14ba7a44d41a8b80cc3f0c30502",
        "IPY_MODEL_b56f1f2169a04ba38aa4c2882f8b79dc",
        "IPY_MODEL_1b5ec6a5fc8d411eb566521a2459d3e3"
       ],
       "layout": "IPY_MODEL_cdb25a011b624e27af6e27f70365fd82"
      }
     },
     "3024bf9ff7fa46b39ffc9a586dfef4a9": {
      "model_module": "@jupyter-widgets/base",
      "model_module_version": "1.2.0",
      "model_name": "LayoutModel",
      "state": {}
     },
     "315ad91d78084b74bfc5bdd3f1286d48": {
      "model_module": "@jupyter-widgets/base",
      "model_module_version": "1.2.0",
      "model_name": "LayoutModel",
      "state": {}
     },
     "31c4948893fd48d387bf20f7095bf16b": {
      "model_module": "@jupyter-widgets/base",
      "model_module_version": "1.2.0",
      "model_name": "LayoutModel",
      "state": {}
     },
     "31d25c80cd8f432c81edb01ec30662b1": {
      "model_module": "@jupyter-widgets/controls",
      "model_module_version": "1.5.0",
      "model_name": "HTMLModel",
      "state": {
       "layout": "IPY_MODEL_2c267f0b4e7240c2af7828daee3c47c3",
       "style": "IPY_MODEL_3418e243924741d5bc4a7d9c0388fb02",
       "value": " 0/2 [00:00&lt;?, ?it/s]"
      }
     },
     "32207ed8d9ba49708838cd65f9300015": {
      "model_module": "@jupyter-widgets/base",
      "model_module_version": "1.2.0",
      "model_name": "LayoutModel",
      "state": {}
     },
     "3234d6c9c695433d868d05193c05781f": {
      "model_module": "@jupyter-widgets/controls",
      "model_module_version": "1.5.0",
      "model_name": "DescriptionStyleModel",
      "state": {
       "description_width": ""
      }
     },
     "32b079e1823b473e9ffd0eac059855de": {
      "model_module": "@jupyter-widgets/base",
      "model_module_version": "1.2.0",
      "model_name": "LayoutModel",
      "state": {}
     },
     "3399357018564643b5e6cefe1f1db9e0": {
      "model_module": "@jupyter-widgets/base",
      "model_module_version": "1.2.0",
      "model_name": "LayoutModel",
      "state": {
       "display": "inline-flex",
       "flex_flow": "row wrap",
       "width": "100%"
      }
     },
     "3418e243924741d5bc4a7d9c0388fb02": {
      "model_module": "@jupyter-widgets/controls",
      "model_module_version": "1.5.0",
      "model_name": "DescriptionStyleModel",
      "state": {
       "description_width": ""
      }
     },
     "342bb97e20a54ee5975774e03933f60a": {
      "model_module": "@jupyter-widgets/controls",
      "model_module_version": "1.5.0",
      "model_name": "LabelModel",
      "state": {
       "layout": "IPY_MODEL_fc2cdac0ed9f49a0a7dd783211a1c31a",
       "style": "IPY_MODEL_61a872e11af044f3b86f6c9ea41a34fb",
       "value": " 0.01MB of 0.01MB uploaded (0.00MB deduped)\r"
      }
     },
     "34330596013f4815a5068a6db67bd38b": {
      "model_module": "@jupyter-widgets/controls",
      "model_module_version": "1.5.0",
      "model_name": "ProgressStyleModel",
      "state": {
       "description_width": ""
      }
     },
     "34523b09301046ccb1d2ad824ddfcb81": {
      "model_module": "@jupyter-widgets/base",
      "model_module_version": "1.2.0",
      "model_name": "LayoutModel",
      "state": {
       "display": "inline-flex",
       "flex_flow": "row wrap",
       "width": "100%"
      }
     },
     "35249eae423e4bcf864aaea015f040bb": {
      "model_module": "@jupyter-widgets/base",
      "model_module_version": "1.2.0",
      "model_name": "LayoutModel",
      "state": {}
     },
     "3660e0c38e154537b15fdd0fb6932502": {
      "model_module": "@jupyter-widgets/base",
      "model_module_version": "1.2.0",
      "model_name": "LayoutModel",
      "state": {}
     },
     "3681188f3e054854885354178e3cf13d": {
      "model_module": "@jupyter-widgets/controls",
      "model_module_version": "1.5.0",
      "model_name": "FloatProgressModel",
      "state": {
       "layout": "IPY_MODEL_0565642d882d49c19bc71a9068242ad1",
       "max": 1,
       "style": "IPY_MODEL_21ec1d8592c24d008f5c6d38b96b201d",
       "value": 1
      }
     },
     "36d63fdd33504e6b838d04a7e7bb6195": {
      "model_module": "@jupyter-widgets/controls",
      "model_module_version": "1.5.0",
      "model_name": "DescriptionStyleModel",
      "state": {
       "description_width": ""
      }
     },
     "38954daf5bdc49648035a77d3357cc79": {
      "model_module": "@jupyter-widgets/base",
      "model_module_version": "1.2.0",
      "model_name": "LayoutModel",
      "state": {}
     },
     "391637af42f846639823171148678c14": {
      "model_module": "@jupyter-widgets/controls",
      "model_module_version": "1.5.0",
      "model_name": "FloatProgressModel",
      "state": {
       "layout": "IPY_MODEL_7ea81d57d66a41e78eff6d74f482328a",
       "max": 52,
       "style": "IPY_MODEL_aaa7face761f4ac096230401e22514ee",
       "value": 52
      }
     },
     "3917ee6ef98d4c6a82df05c462990e0e": {
      "model_module": "@jupyter-widgets/controls",
      "model_module_version": "1.5.0",
      "model_name": "FloatProgressModel",
      "state": {
       "layout": "IPY_MODEL_07bd3d2d74104cca8791ba3dce951b83",
       "max": 2,
       "style": "IPY_MODEL_bc96dba845e743be9aa8edcdeb03da5c",
       "value": 2
      }
     },
     "3960b633d0fe44d49dbd56402def2648": {
      "model_module": "@jupyter-widgets/controls",
      "model_module_version": "1.5.0",
      "model_name": "DescriptionStyleModel",
      "state": {
       "description_width": ""
      }
     },
     "39b463681f554726bf1b14919dbc12a2": {
      "model_module": "@jupyter-widgets/base",
      "model_module_version": "1.2.0",
      "model_name": "LayoutModel",
      "state": {}
     },
     "39cb1c98b6c649ae924446635b50e447": {
      "model_module": "@jupyter-widgets/base",
      "model_module_version": "1.2.0",
      "model_name": "LayoutModel",
      "state": {}
     },
     "3a4ed9b3d71d47729d9df005a8b732d1": {
      "model_module": "@jupyter-widgets/base",
      "model_module_version": "1.2.0",
      "model_name": "LayoutModel",
      "state": {
       "display": "inline-flex",
       "flex_flow": "row wrap",
       "width": "100%"
      }
     },
     "3b08c76cc7074cfc9623690ab58b7bf6": {
      "model_module": "@jupyter-widgets/base",
      "model_module_version": "1.2.0",
      "model_name": "LayoutModel",
      "state": {}
     },
     "3b093c5f22dc455e813be13a15b8c24e": {
      "model_module": "@jupyter-widgets/controls",
      "model_module_version": "1.5.0",
      "model_name": "ProgressStyleModel",
      "state": {
       "description_width": ""
      }
     },
     "3b39a02502074d6eae743de06f84285d": {
      "model_module": "@jupyter-widgets/base",
      "model_module_version": "1.2.0",
      "model_name": "LayoutModel",
      "state": {
       "display": "inline-flex",
       "flex_flow": "row wrap",
       "width": "100%"
      }
     },
     "3c5eb4f56ca64dacb8ecce6f6d985620": {
      "model_module": "@jupyter-widgets/controls",
      "model_module_version": "1.5.0",
      "model_name": "FloatProgressModel",
      "state": {
       "layout": "IPY_MODEL_2513b262e74542e696ac243c03f3390b",
       "max": 2,
       "style": "IPY_MODEL_07505f3e70f64c0fbff3058708300553",
       "value": 2
      }
     },
     "3d6669f8ea97461fab16a9d9856f3918": {
      "model_module": "@jupyter-widgets/controls",
      "model_module_version": "1.5.0",
      "model_name": "ProgressStyleModel",
      "state": {
       "description_width": ""
      }
     },
     "3dc1f62a709645938f259af3ce3c6eb6": {
      "model_module": "@jupyter-widgets/controls",
      "model_module_version": "1.5.0",
      "model_name": "HTMLModel",
      "state": {
       "layout": "IPY_MODEL_268cfb06b2954814bc7ca299ff011c0f",
       "style": "IPY_MODEL_05a2b5b60a6c4fe391fa212370980b1e",
       "value": " 0/52 [00:00&lt;?, ?it/s]"
      }
     },
     "3e4c8cc5c37e496e8e211b9456bcfab4": {
      "model_module": "@jupyter-widgets/controls",
      "model_module_version": "1.5.0",
      "model_name": "DescriptionStyleModel",
      "state": {
       "description_width": ""
      }
     },
     "3fc052d869e242eda4f4d59fc606761a": {
      "model_module": "@jupyter-widgets/controls",
      "model_module_version": "1.5.0",
      "model_name": "ProgressStyleModel",
      "state": {
       "description_width": ""
      }
     },
     "42ac5456bb744fa68f0f83c21f69806c": {
      "model_module": "@jupyter-widgets/controls",
      "model_module_version": "1.5.0",
      "model_name": "FloatProgressModel",
      "state": {
       "bar_style": "danger",
       "layout": "IPY_MODEL_cf7d6b7237df41129066c567d4a22691",
       "max": 258,
       "style": "IPY_MODEL_3fc052d869e242eda4f4d59fc606761a",
       "value": 6
      }
     },
     "460733802f3e44838f982375f83ec1d8": {
      "model_module": "@jupyter-widgets/controls",
      "model_module_version": "1.5.0",
      "model_name": "DescriptionStyleModel",
      "state": {
       "description_width": ""
      }
     },
     "4633067009c04085ba1d2d99de8a7afd": {
      "model_module": "@jupyter-widgets/controls",
      "model_module_version": "1.5.0",
      "model_name": "FloatProgressModel",
      "state": {
       "bar_style": "success",
       "layout": "IPY_MODEL_d55f3eb9deb0422a85c625c5e5168cc3",
       "max": 258,
       "style": "IPY_MODEL_34330596013f4815a5068a6db67bd38b",
       "value": 258
      }
     },
     "46612d7cefbc4196acca72caf95e3679": {
      "model_module": "@jupyter-widgets/base",
      "model_module_version": "1.2.0",
      "model_name": "LayoutModel",
      "state": {}
     },
     "4687a5f324cf470aae107fcf596b6b3d": {
      "model_module": "@jupyter-widgets/controls",
      "model_module_version": "1.5.0",
      "model_name": "HTMLModel",
      "state": {
       "layout": "IPY_MODEL_9c0a50a49194448d83f2675194f90e21",
       "style": "IPY_MODEL_3e4c8cc5c37e496e8e211b9456bcfab4",
       "value": "Validating:  63%"
      }
     },
     "47380cd4fc44404284334ec455272a1a": {
      "model_module": "@jupyter-widgets/base",
      "model_module_version": "1.2.0",
      "model_name": "LayoutModel",
      "state": {}
     },
     "47a3884fd8f741c58b32260729a951a8": {
      "model_module": "@jupyter-widgets/controls",
      "model_module_version": "1.5.0",
      "model_name": "DescriptionStyleModel",
      "state": {
       "description_width": ""
      }
     },
     "4817ddfbb8ba49cfa4087e2e26f35183": {
      "model_module": "@jupyter-widgets/base",
      "model_module_version": "1.2.0",
      "model_name": "LayoutModel",
      "state": {}
     },
     "48db71524e4c421c9978ac223ed5aa5e": {
      "model_module": "@jupyter-widgets/controls",
      "model_module_version": "1.5.0",
      "model_name": "LabelModel",
      "state": {
       "layout": "IPY_MODEL_0d3c1580f792457d8c69df96acfb62ff",
       "style": "IPY_MODEL_bb46c532ffe842b8b00f43cc6c10b555"
      }
     },
     "49781dba4ef141979aae5184fd05ff21": {
      "model_module": "@jupyter-widgets/base",
      "model_module_version": "1.2.0",
      "model_name": "LayoutModel",
      "state": {}
     },
     "49aeafef8ca2425a92818107ae8128d1": {
      "model_module": "@jupyter-widgets/controls",
      "model_module_version": "1.5.0",
      "model_name": "DescriptionStyleModel",
      "state": {
       "description_width": ""
      }
     },
     "4b7ccb5cfda84fb1bf4f5c831325dc4a": {
      "model_module": "@jupyter-widgets/controls",
      "model_module_version": "1.5.0",
      "model_name": "HTMLModel",
      "state": {
       "layout": "IPY_MODEL_8776af7fa7dc4dcfb75257fa96030fa0",
       "style": "IPY_MODEL_a44b82d7716f43b8a54f13ceeefb1dee",
       "value": "Validating:  63%"
      }
     },
     "4cfea8c00a71481c88f06b121c0b1e61": {
      "model_module": "@jupyter-widgets/controls",
      "model_module_version": "1.5.0",
      "model_name": "FloatProgressModel",
      "state": {
       "layout": "IPY_MODEL_5404cb6f1fbc4c00979e454166285e29",
       "max": 52,
       "style": "IPY_MODEL_e39ab0b43aef4b0a9c8ec20760130a44",
       "value": 52
      }
     },
     "4dd7c35eb6a24ce49dbc4d1efac5ab00": {
      "model_module": "@jupyter-widgets/controls",
      "model_module_version": "1.5.0",
      "model_name": "HTMLModel",
      "state": {
       "layout": "IPY_MODEL_dd691839ad184ef7a8957695b207b00f",
       "style": "IPY_MODEL_fba0a1220e6342a4a2934fa2d0a5fb18",
       "value": " 31/52 [00:00&lt;00:00, 47.29it/s]"
      }
     },
     "4f32ce3230d446419c52cdd745f5cec0": {
      "model_module": "@jupyter-widgets/base",
      "model_module_version": "1.2.0",
      "model_name": "LayoutModel",
      "state": {
       "display": "inline-flex",
       "flex_flow": "row wrap",
       "width": "100%"
      }
     },
     "4fefd20948f544f7bdde3f6ae6df0891": {
      "model_module": "@jupyter-widgets/base",
      "model_module_version": "1.2.0",
      "model_name": "LayoutModel",
      "state": {
       "flex": "2"
      }
     },
     "510f9e96cccf433f89ab764c53795aac": {
      "model_module": "@jupyter-widgets/base",
      "model_module_version": "1.2.0",
      "model_name": "LayoutModel",
      "state": {}
     },
     "51247dd59968484a9beed82703cb6af7": {
      "model_module": "@jupyter-widgets/base",
      "model_module_version": "1.2.0",
      "model_name": "LayoutModel",
      "state": {
       "flex": "2"
      }
     },
     "5183bb2b38164dc5905758c0b27d2e0a": {
      "model_module": "@jupyter-widgets/base",
      "model_module_version": "1.2.0",
      "model_name": "LayoutModel",
      "state": {}
     },
     "529a33a58cff40518510af4674ea69f5": {
      "model_module": "@jupyter-widgets/base",
      "model_module_version": "1.2.0",
      "model_name": "LayoutModel",
      "state": {}
     },
     "53ab2fcf62b94687954ecc874f2b243c": {
      "model_module": "@jupyter-widgets/controls",
      "model_module_version": "1.5.0",
      "model_name": "HBoxModel",
      "state": {
       "children": [
        "IPY_MODEL_bd8b065670bb4e81b6f2367a17d7225e",
        "IPY_MODEL_91a40b0305fd4f28b2433a09ed326f88",
        "IPY_MODEL_fdb012169f4d4bfc9c834e221539d434"
       ],
       "layout": "IPY_MODEL_735548c2473b467683cda442bd0d846c"
      }
     },
     "53ad9ae981d84c31b5db284abcd450e0": {
      "model_module": "@jupyter-widgets/controls",
      "model_module_version": "1.5.0",
      "model_name": "DescriptionStyleModel",
      "state": {
       "description_width": ""
      }
     },
     "5404cb6f1fbc4c00979e454166285e29": {
      "model_module": "@jupyter-widgets/base",
      "model_module_version": "1.2.0",
      "model_name": "LayoutModel",
      "state": {
       "flex": "2"
      }
     },
     "5466b6f8275344b0a3d9dd842220f5e0": {
      "model_module": "@jupyter-widgets/controls",
      "model_module_version": "1.5.0",
      "model_name": "HTMLModel",
      "state": {
       "layout": "IPY_MODEL_7895824a8ee24f70b0bbf6709f06f1c3",
       "style": "IPY_MODEL_80d15773f05841a9935f0c27b27b6b3e",
       "value": "Validation sanity check:   0%"
      }
     },
     "576869ba28704d9a932c614d00b835d6": {
      "model_module": "@jupyter-widgets/base",
      "model_module_version": "1.2.0",
      "model_name": "LayoutModel",
      "state": {}
     },
     "5786183f4a7f49c5a3d272b0b5456127": {
      "model_module": "@jupyter-widgets/controls",
      "model_module_version": "1.5.0",
      "model_name": "DescriptionStyleModel",
      "state": {
       "description_width": ""
      }
     },
     "598fd90c3cf24aacb31297b7d19aac7f": {
      "model_module": "@jupyter-widgets/controls",
      "model_module_version": "1.5.0",
      "model_name": "FloatProgressModel",
      "state": {
       "layout": "IPY_MODEL_7dbebb6048b54456a5fe105daa642bfd",
       "max": 2,
       "style": "IPY_MODEL_04f29d07d33d42f798e573b35c836aa6",
       "value": 2
      }
     },
     "5a2d99351d0341f9b36c763f77d8f572": {
      "model_module": "@jupyter-widgets/base",
      "model_module_version": "1.2.0",
      "model_name": "LayoutModel",
      "state": {
       "display": "inline-flex",
       "flex_flow": "row wrap",
       "width": "100%"
      }
     },
     "5b16735f0d7140a98b607bf8f681e270": {
      "model_module": "@jupyter-widgets/controls",
      "model_module_version": "1.5.0",
      "model_name": "DescriptionStyleModel",
      "state": {
       "description_width": ""
      }
     },
     "5b69796dae3c4fe38a67e49698ef393a": {
      "model_module": "@jupyter-widgets/base",
      "model_module_version": "1.2.0",
      "model_name": "LayoutModel",
      "state": {}
     },
     "5bbf068505ea446092c5d7eef63c917c": {
      "model_module": "@jupyter-widgets/controls",
      "model_module_version": "1.5.0",
      "model_name": "VBoxModel",
      "state": {
       "children": [
        "IPY_MODEL_48db71524e4c421c9978ac223ed5aa5e",
        "IPY_MODEL_97d731a5f3a94ca3ba214c31f86b707a"
       ],
       "layout": "IPY_MODEL_10ff27a5de3a4df99d6432f09ab1cf08"
      }
     },
     "5bd0d326cb4e4861b88adb9e21f1aac0": {
      "model_module": "@jupyter-widgets/controls",
      "model_module_version": "1.5.0",
      "model_name": "ProgressStyleModel",
      "state": {
       "description_width": ""
      }
     },
     "5c8a47adfd6548968ff638d0f19ab4d5": {
      "model_module": "@jupyter-widgets/controls",
      "model_module_version": "1.5.0",
      "model_name": "ProgressStyleModel",
      "state": {
       "description_width": ""
      }
     },
     "5cface7d7dc64327a2a01844c498cfa8": {
      "model_module": "@jupyter-widgets/controls",
      "model_module_version": "1.5.0",
      "model_name": "DescriptionStyleModel",
      "state": {
       "description_width": ""
      }
     },
     "5d95de8e9e2a40afba66cf99c3723b16": {
      "model_module": "@jupyter-widgets/base",
      "model_module_version": "1.2.0",
      "model_name": "LayoutModel",
      "state": {}
     },
     "61a872e11af044f3b86f6c9ea41a34fb": {
      "model_module": "@jupyter-widgets/controls",
      "model_module_version": "1.5.0",
      "model_name": "DescriptionStyleModel",
      "state": {
       "description_width": ""
      }
     },
     "6215fc069d024f9e85ee52d8c8d36ae8": {
      "model_module": "@jupyter-widgets/controls",
      "model_module_version": "1.5.0",
      "model_name": "FloatProgressModel",
      "state": {
       "layout": "IPY_MODEL_adbc277c3dfe4917957692de9025f75d",
       "max": 52,
       "style": "IPY_MODEL_3b093c5f22dc455e813be13a15b8c24e"
      }
     },
     "6227269c0b844587ad8e05e34b2f2f87": {
      "model_module": "@jupyter-widgets/base",
      "model_module_version": "1.2.0",
      "model_name": "LayoutModel",
      "state": {}
     },
     "62ecbca57ca642188e6323557502c5e6": {
      "model_module": "@jupyter-widgets/controls",
      "model_module_version": "1.5.0",
      "model_name": "ProgressStyleModel",
      "state": {
       "description_width": ""
      }
     },
     "62ffe647b312481d955139a84ddd01cc": {
      "model_module": "@jupyter-widgets/controls",
      "model_module_version": "1.5.0",
      "model_name": "ProgressStyleModel",
      "state": {
       "description_width": ""
      }
     },
     "64d8eb38bc0b4dffbe3f75d339d4cd5e": {
      "model_module": "@jupyter-widgets/base",
      "model_module_version": "1.2.0",
      "model_name": "LayoutModel",
      "state": {}
     },
     "64fe21a7be3e4f888d3df4af5afe4258": {
      "model_module": "@jupyter-widgets/base",
      "model_module_version": "1.2.0",
      "model_name": "LayoutModel",
      "state": {}
     },
     "6668ddf7890e4735a9c1b93b9ed4bc14": {
      "model_module": "@jupyter-widgets/controls",
      "model_module_version": "1.5.0",
      "model_name": "FloatProgressModel",
      "state": {
       "layout": "IPY_MODEL_4fefd20948f544f7bdde3f6ae6df0891",
       "max": 2,
       "style": "IPY_MODEL_243472a933154624a963a83c8b9d964e",
       "value": 2
      }
     },
     "674f955665b04044bf788450a14046bb": {
      "model_module": "@jupyter-widgets/controls",
      "model_module_version": "1.5.0",
      "model_name": "DescriptionStyleModel",
      "state": {
       "description_width": ""
      }
     },
     "689ea0404c6e4a7fbc47158df068ab3a": {
      "model_module": "@jupyter-widgets/base",
      "model_module_version": "1.2.0",
      "model_name": "LayoutModel",
      "state": {}
     },
     "6924b091e1fd471bbce5cc9479efe507": {
      "model_module": "@jupyter-widgets/base",
      "model_module_version": "1.2.0",
      "model_name": "LayoutModel",
      "state": {}
     },
     "69770b3f84b14de3bc9ca646e4c70fb5": {
      "model_module": "@jupyter-widgets/base",
      "model_module_version": "1.2.0",
      "model_name": "LayoutModel",
      "state": {
       "display": "inline-flex",
       "flex_flow": "row wrap",
       "width": "100%"
      }
     },
     "6ae87d2dd91541e5a6fa52488caaa125": {
      "model_module": "@jupyter-widgets/base",
      "model_module_version": "1.2.0",
      "model_name": "LayoutModel",
      "state": {}
     },
     "6ee7605e53304225bffbb636f8e8dd33": {
      "model_module": "@jupyter-widgets/controls",
      "model_module_version": "1.5.0",
      "model_name": "HBoxModel",
      "state": {
       "children": [
        "IPY_MODEL_fd2294d354214a48875d0d932fe09a29",
        "IPY_MODEL_cca0412f9f8f478993e8214b474d27ce",
        "IPY_MODEL_2d57e649f7a943a6b2e87668cb1464ca"
       ],
       "layout": "IPY_MODEL_0b2af8d2b4d044c1b9063b8fc6b2899c"
      }
     },
     "6eed8d6f350547d98e499bc8357b0934": {
      "model_module": "@jupyter-widgets/base",
      "model_module_version": "1.2.0",
      "model_name": "LayoutModel",
      "state": {}
     },
     "6f3971530987428a8390ee50d14f802f": {
      "model_module": "@jupyter-widgets/controls",
      "model_module_version": "1.5.0",
      "model_name": "DescriptionStyleModel",
      "state": {
       "description_width": ""
      }
     },
     "70cebd7b9c44471bbf794470cccb0b38": {
      "model_module": "@jupyter-widgets/base",
      "model_module_version": "1.2.0",
      "model_name": "LayoutModel",
      "state": {}
     },
     "72380b49a4634d03a4834dad9b6557d7": {
      "model_module": "@jupyter-widgets/controls",
      "model_module_version": "1.5.0",
      "model_name": "ProgressStyleModel",
      "state": {
       "description_width": ""
      }
     },
     "735548c2473b467683cda442bd0d846c": {
      "model_module": "@jupyter-widgets/base",
      "model_module_version": "1.2.0",
      "model_name": "LayoutModel",
      "state": {}
     },
     "75d37aef41ba4df5b9b8a415eab336c5": {
      "model_module": "@jupyter-widgets/base",
      "model_module_version": "1.2.0",
      "model_name": "LayoutModel",
      "state": {
       "display": "inline-flex",
       "flex_flow": "row wrap",
       "width": "100%"
      }
     },
     "76d4fed2041b482d8fa54043a9a8cfce": {
      "model_module": "@jupyter-widgets/controls",
      "model_module_version": "1.5.0",
      "model_name": "DescriptionStyleModel",
      "state": {
       "description_width": ""
      }
     },
     "77bac96e054449b091dad06f4694d8e5": {
      "model_module": "@jupyter-widgets/controls",
      "model_module_version": "1.5.0",
      "model_name": "DescriptionStyleModel",
      "state": {
       "description_width": ""
      }
     },
     "780bdd4edc904052aa3c65976dfd0e5e": {
      "model_module": "@jupyter-widgets/controls",
      "model_module_version": "1.5.0",
      "model_name": "HTMLModel",
      "state": {
       "layout": "IPY_MODEL_3660e0c38e154537b15fdd0fb6932502",
       "style": "IPY_MODEL_258520c982d44657a90aee548bfe36fd",
       "value": " 33/52 [00:00&lt;00:00, 62.02it/s]"
      }
     },
     "783189ee5bd947e1b4bf1d7086eb798d": {
      "model_module": "@jupyter-widgets/base",
      "model_module_version": "1.2.0",
      "model_name": "LayoutModel",
      "state": {
       "display": "inline-flex",
       "flex_flow": "row wrap",
       "width": "100%"
      }
     },
     "78734e8b79a4474087044563a54533d9": {
      "model_module": "@jupyter-widgets/controls",
      "model_module_version": "1.5.0",
      "model_name": "DescriptionStyleModel",
      "state": {
       "description_width": ""
      }
     },
     "7895824a8ee24f70b0bbf6709f06f1c3": {
      "model_module": "@jupyter-widgets/base",
      "model_module_version": "1.2.0",
      "model_name": "LayoutModel",
      "state": {}
     },
     "795299521a2c469bb05cf4c06e44603b": {
      "model_module": "@jupyter-widgets/controls",
      "model_module_version": "1.5.0",
      "model_name": "HTMLModel",
      "state": {
       "layout": "IPY_MODEL_e9113158cb48443a81ed4f81bb2047e8",
       "style": "IPY_MODEL_9dd56154f9854852940d3dde81601a38",
       "value": " 2/2 [00:48&lt;00:00, 21.02s/it]"
      }
     },
     "79ec77794a0341c9bd735226a5237e84": {
      "model_module": "@jupyter-widgets/controls",
      "model_module_version": "1.5.0",
      "model_name": "HTMLModel",
      "state": {
       "layout": "IPY_MODEL_64d8eb38bc0b4dffbe3f75d339d4cd5e",
       "style": "IPY_MODEL_b38057d635cf4dc4a329aeec4ef56672",
       "value": "Validating:  65%"
      }
     },
     "7bf3a207a9d74a5f8dc72e361f009605": {
      "model_module": "@jupyter-widgets/controls",
      "model_module_version": "1.5.0",
      "model_name": "HBoxModel",
      "state": {
       "children": [
        "IPY_MODEL_a736137a830d457094f61bdc5c343e7e",
        "IPY_MODEL_c94b6b8c1a1242d891c677044115a49a",
        "IPY_MODEL_82eab52061d34900b14e861d87b69857"
       ],
       "layout": "IPY_MODEL_4f32ce3230d446419c52cdd745f5cec0"
      }
     },
     "7cd8731023b3449f9e9389eca57ff46e": {
      "model_module": "@jupyter-widgets/base",
      "model_module_version": "1.2.0",
      "model_name": "LayoutModel",
      "state": {
       "display": "inline-flex",
       "flex_flow": "row wrap",
       "width": "100%"
      }
     },
     "7dbebb6048b54456a5fe105daa642bfd": {
      "model_module": "@jupyter-widgets/base",
      "model_module_version": "1.2.0",
      "model_name": "LayoutModel",
      "state": {
       "flex": "2"
      }
     },
     "7dc02595081c4fb68ee8564024191eb6": {
      "model_module": "@jupyter-widgets/controls",
      "model_module_version": "1.5.0",
      "model_name": "DescriptionStyleModel",
      "state": {
       "description_width": ""
      }
     },
     "7e48fba22b49491aa83ee6ffdfcf8321": {
      "model_module": "@jupyter-widgets/controls",
      "model_module_version": "1.5.0",
      "model_name": "FloatProgressModel",
      "state": {
       "layout": "IPY_MODEL_a1c2005721a0483b9b504343a5d44edf",
       "max": 2,
       "style": "IPY_MODEL_d279326303a647808129c5d5c8bd474f"
      }
     },
     "7ea81d57d66a41e78eff6d74f482328a": {
      "model_module": "@jupyter-widgets/base",
      "model_module_version": "1.2.0",
      "model_name": "LayoutModel",
      "state": {
       "flex": "2"
      }
     },
     "80d15773f05841a9935f0c27b27b6b3e": {
      "model_module": "@jupyter-widgets/controls",
      "model_module_version": "1.5.0",
      "model_name": "DescriptionStyleModel",
      "state": {
       "description_width": ""
      }
     },
     "819578e44ca34bedab2ea792b333774a": {
      "model_module": "@jupyter-widgets/controls",
      "model_module_version": "1.5.0",
      "model_name": "ProgressStyleModel",
      "state": {
       "description_width": ""
      }
     },
     "82eab52061d34900b14e861d87b69857": {
      "model_module": "@jupyter-widgets/controls",
      "model_module_version": "1.5.0",
      "model_name": "HTMLModel",
      "state": {
       "layout": "IPY_MODEL_39cb1c98b6c649ae924446635b50e447",
       "style": "IPY_MODEL_7dc02595081c4fb68ee8564024191eb6",
       "value": " 258/258 [00:03&lt;00:00, 81.54it/s, loss=nan, v_num=nuqs]"
      }
     },
     "837d7308d6804d988602440631085d0e": {
      "model_module": "@jupyter-widgets/controls",
      "model_module_version": "1.5.0",
      "model_name": "DescriptionStyleModel",
      "state": {
       "description_width": ""
      }
     },
     "84f2d2fb534d46e5851ef8f1556622fe": {
      "model_module": "@jupyter-widgets/base",
      "model_module_version": "1.2.0",
      "model_name": "LayoutModel",
      "state": {
       "flex": "2"
      }
     },
     "85033a81473e495fba8b053394232196": {
      "model_module": "@jupyter-widgets/controls",
      "model_module_version": "1.5.0",
      "model_name": "DescriptionStyleModel",
      "state": {
       "description_width": ""
      }
     },
     "85c223ed44254af6bb6fe2e4503a1268": {
      "model_module": "@jupyter-widgets/base",
      "model_module_version": "1.2.0",
      "model_name": "LayoutModel",
      "state": {
       "display": "inline-flex",
       "flex_flow": "row wrap",
       "width": "100%"
      }
     },
     "872f45474c234693b158a96060e919ba": {
      "model_module": "@jupyter-widgets/controls",
      "model_module_version": "1.5.0",
      "model_name": "HTMLModel",
      "state": {
       "layout": "IPY_MODEL_5d95de8e9e2a40afba66cf99c3723b16",
       "style": "IPY_MODEL_837d7308d6804d988602440631085d0e",
       "value": " 1/2 [00:01&lt;00:01,  1.13s/it]"
      }
     },
     "8776af7fa7dc4dcfb75257fa96030fa0": {
      "model_module": "@jupyter-widgets/base",
      "model_module_version": "1.2.0",
      "model_name": "LayoutModel",
      "state": {}
     },
     "88a1b73156d74a30b62a9eb6295fe34b": {
      "model_module": "@jupyter-widgets/base",
      "model_module_version": "1.2.0",
      "model_name": "LayoutModel",
      "state": {
       "flex": "2"
      }
     },
     "8a32629e1d694c9bb869d050e4e05dae": {
      "model_module": "@jupyter-widgets/base",
      "model_module_version": "1.2.0",
      "model_name": "LayoutModel",
      "state": {}
     },
     "8bdf295b6b8f4aabb66e1f974b29119f": {
      "model_module": "@jupyter-widgets/controls",
      "model_module_version": "1.5.0",
      "model_name": "HTMLModel",
      "state": {
       "layout": "IPY_MODEL_dfb8e65237e847f89e3db16f9e94093b",
       "style": "IPY_MODEL_1f9124b8f5ab4a3a9158e13c269c62b8",
       "value": "Validating:  63%"
      }
     },
     "8ca03fbf80c6402083a5f44f83537612": {
      "model_module": "@jupyter-widgets/controls",
      "model_module_version": "1.5.0",
      "model_name": "ProgressStyleModel",
      "state": {
       "description_width": ""
      }
     },
     "8d07607663094c1fa9ef1c54563a9f7a": {
      "model_module": "@jupyter-widgets/base",
      "model_module_version": "1.2.0",
      "model_name": "LayoutModel",
      "state": {}
     },
     "8e65d9946d364c3fa02a7d3abfb5e225": {
      "model_module": "@jupyter-widgets/controls",
      "model_module_version": "1.5.0",
      "model_name": "DescriptionStyleModel",
      "state": {
       "description_width": ""
      }
     },
     "8f196c607d134ab78edc345f1277b515": {
      "model_module": "@jupyter-widgets/controls",
      "model_module_version": "1.5.0",
      "model_name": "HTMLModel",
      "state": {
       "layout": "IPY_MODEL_0cf07673d608487582eba451edc391e7",
       "style": "IPY_MODEL_cd15dd75022a4b5cabb609f2de2e01a7",
       "value": " 258/258 [00:03&lt;00:00, 71.16it/s, loss=nan, v_num=lo9z]"
      }
     },
     "9056af4b047743f8a4e29c0625fb7f02": {
      "model_module": "@jupyter-widgets/base",
      "model_module_version": "1.2.0",
      "model_name": "LayoutModel",
      "state": {
       "flex": "2"
      }
     },
     "918c652dc5304356865160297d311d46": {
      "model_module": "@jupyter-widgets/base",
      "model_module_version": "1.2.0",
      "model_name": "LayoutModel",
      "state": {}
     },
     "919ab7e3f91c4612af1f0f8a21cd889c": {
      "model_module": "@jupyter-widgets/controls",
      "model_module_version": "1.5.0",
      "model_name": "HTMLModel",
      "state": {
       "layout": "IPY_MODEL_9bba903e86e1437d93febcd5b4936f8d",
       "style": "IPY_MODEL_eb6dc6ea244549988668ed1757c6bc4f",
       "value": " 0/258 [03:29&lt;?, ?it/s]"
      }
     },
     "91a40b0305fd4f28b2433a09ed326f88": {
      "model_module": "@jupyter-widgets/controls",
      "model_module_version": "1.5.0",
      "model_name": "FloatProgressModel",
      "state": {
       "bar_style": "success",
       "layout": "IPY_MODEL_6227269c0b844587ad8e05e34b2f2f87",
       "max": 73,
       "style": "IPY_MODEL_3d6669f8ea97461fab16a9d9856f3918",
       "value": 73
      }
     },
     "93b64e23dc3545fe81fa8a84652b9ae1": {
      "model_module": "@jupyter-widgets/controls",
      "model_module_version": "1.5.0",
      "model_name": "HTMLModel",
      "state": {
       "layout": "IPY_MODEL_38954daf5bdc49648035a77d3357cc79",
       "style": "IPY_MODEL_083522c1aa71460d98067db5117d91d6",
       "value": "Validating:  62%"
      }
     },
     "940555348b094cbf88f06f9a331269f3": {
      "model_module": "@jupyter-widgets/controls",
      "model_module_version": "1.5.0",
      "model_name": "HTMLModel",
      "state": {
       "layout": "IPY_MODEL_b227dae00bde4b8f9a69f74a7309ee0e",
       "style": "IPY_MODEL_6f3971530987428a8390ee50d14f802f",
       "value": " 33/52 [00:00&lt;00:00, 61.61it/s]"
      }
     },
     "96c86f92b0834fa58c97dab8f9b90930": {
      "model_module": "@jupyter-widgets/base",
      "model_module_version": "1.2.0",
      "model_name": "LayoutModel",
      "state": {
       "display": "inline-flex",
       "flex_flow": "row wrap",
       "width": "100%"
      }
     },
     "973e382c26aa49ca92daec24b9854efd": {
      "model_module": "@jupyter-widgets/controls",
      "model_module_version": "1.5.0",
      "model_name": "FloatProgressModel",
      "state": {
       "layout": "IPY_MODEL_51247dd59968484a9beed82703cb6af7",
       "max": 52,
       "style": "IPY_MODEL_819578e44ca34bedab2ea792b333774a",
       "value": 52
      }
     },
     "976ad93b8bfd45cfb4f6ac6c979a7268": {
      "model_module": "@jupyter-widgets/base",
      "model_module_version": "1.2.0",
      "model_name": "LayoutModel",
      "state": {}
     },
     "97d731a5f3a94ca3ba214c31f86b707a": {
      "model_module": "@jupyter-widgets/controls",
      "model_module_version": "1.5.0",
      "model_name": "FloatProgressModel",
      "state": {
       "layout": "IPY_MODEL_2be7d621d442437eb37991d948bdab94",
       "max": 1,
       "style": "IPY_MODEL_fe79fcd8b61942ca8606a50dfa2dc775"
      }
     },
     "986c1544db50497281d93e39f1783a68": {
      "model_module": "@jupyter-widgets/controls",
      "model_module_version": "1.5.0",
      "model_name": "HTMLModel",
      "state": {
       "layout": "IPY_MODEL_f49b78db489c4a2c929410991325760c",
       "style": "IPY_MODEL_5b16735f0d7140a98b607bf8f681e270",
       "value": "Validating:   0%"
      }
     },
     "98d09690fdb44637981f8f69e489d1a0": {
      "model_module": "@jupyter-widgets/base",
      "model_module_version": "1.2.0",
      "model_name": "LayoutModel",
      "state": {}
     },
     "9b482d4bc5844cd0b38e2abd1c95f596": {
      "model_module": "@jupyter-widgets/controls",
      "model_module_version": "1.5.0",
      "model_name": "HTMLModel",
      "state": {
       "layout": "IPY_MODEL_ba78dbe57a2d4d79b38077baa6bee229",
       "style": "IPY_MODEL_3960b633d0fe44d49dbd56402def2648",
       "value": "Epoch 4: 100%"
      }
     },
     "9bba903e86e1437d93febcd5b4936f8d": {
      "model_module": "@jupyter-widgets/base",
      "model_module_version": "1.2.0",
      "model_name": "LayoutModel",
      "state": {}
     },
     "9bbc1bdeb0c34a2dae356be9fa135038": {
      "model_module": "@jupyter-widgets/controls",
      "model_module_version": "1.5.0",
      "model_name": "FloatProgressModel",
      "state": {
       "layout": "IPY_MODEL_184c3448daad48e4b1c24814aba6aee7",
       "max": 2,
       "style": "IPY_MODEL_f3d5c7dbb3e24f798e9f046353311105",
       "value": 2
      }
     },
     "9c0a50a49194448d83f2675194f90e21": {
      "model_module": "@jupyter-widgets/base",
      "model_module_version": "1.2.0",
      "model_name": "LayoutModel",
      "state": {}
     },
     "9dd56154f9854852940d3dde81601a38": {
      "model_module": "@jupyter-widgets/controls",
      "model_module_version": "1.5.0",
      "model_name": "DescriptionStyleModel",
      "state": {
       "description_width": ""
      }
     },
     "a0f658b6bf6e4ff88481f75381c7a270": {
      "model_module": "@jupyter-widgets/controls",
      "model_module_version": "1.5.0",
      "model_name": "FloatProgressModel",
      "state": {
       "layout": "IPY_MODEL_47380cd4fc44404284334ec455272a1a",
       "max": 1,
       "style": "IPY_MODEL_bd7f2195956f4e7891a5dd821be28275",
       "value": 1
      }
     },
     "a1c2005721a0483b9b504343a5d44edf": {
      "model_module": "@jupyter-widgets/base",
      "model_module_version": "1.2.0",
      "model_name": "LayoutModel",
      "state": {
       "flex": "2"
      }
     },
     "a25a58071e0e40eab08dcbc2d62bdbdf": {
      "model_module": "@jupyter-widgets/controls",
      "model_module_version": "1.5.0",
      "model_name": "HTMLModel",
      "state": {
       "layout": "IPY_MODEL_529a33a58cff40518510af4674ea69f5",
       "style": "IPY_MODEL_460733802f3e44838f982375f83ec1d8",
       "value": " 34/52 [00:00&lt;00:00, 64.44it/s]"
      }
     },
     "a2efe50732144ebcb3ab36a8b49134a3": {
      "model_module": "@jupyter-widgets/controls",
      "model_module_version": "1.5.0",
      "model_name": "DescriptionStyleModel",
      "state": {
       "description_width": ""
      }
     },
     "a372415f17c74a95a1e56a39453dd82e": {
      "model_module": "@jupyter-widgets/controls",
      "model_module_version": "1.5.0",
      "model_name": "HBoxModel",
      "state": {
       "children": [
        "IPY_MODEL_b0384576c96648fa8c76c79cc632a47e",
        "IPY_MODEL_7e48fba22b49491aa83ee6ffdfcf8321",
        "IPY_MODEL_31d25c80cd8f432c81edb01ec30662b1"
       ],
       "layout": "IPY_MODEL_3399357018564643b5e6cefe1f1db9e0"
      }
     },
     "a44b82d7716f43b8a54f13ceeefb1dee": {
      "model_module": "@jupyter-widgets/controls",
      "model_module_version": "1.5.0",
      "model_name": "DescriptionStyleModel",
      "state": {
       "description_width": ""
      }
     },
     "a4910507d1744a93b766e2e10a91dc52": {
      "model_module": "@jupyter-widgets/controls",
      "model_module_version": "1.5.0",
      "model_name": "HTMLModel",
      "state": {
       "layout": "IPY_MODEL_de1c1d1496af4cdd82380aa8e507d528",
       "style": "IPY_MODEL_d92d5c6587f24858bf4e6a588b227b17",
       "value": "Validation sanity check: 100%"
      }
     },
     "a49622f2360a4c2da2bfec59e8726dbf": {
      "model_module": "@jupyter-widgets/controls",
      "model_module_version": "1.5.0",
      "model_name": "DescriptionStyleModel",
      "state": {
       "description_width": ""
      }
     },
     "a5d0a4afd7114b3893310277e505a2e3": {
      "model_module": "@jupyter-widgets/controls",
      "model_module_version": "1.5.0",
      "model_name": "HTMLModel",
      "state": {
       "layout": "IPY_MODEL_31c4948893fd48d387bf20f7095bf16b",
       "style": "IPY_MODEL_ddb5a4d4fd964bcab705c7d230133ddb",
       "value": " 33/52 [00:00&lt;00:00, 61.74it/s]"
      }
     },
     "a66bbc9c6ad2416a9de787ade7e20b26": {
      "model_module": "@jupyter-widgets/controls",
      "model_module_version": "1.5.0",
      "model_name": "HTMLModel",
      "state": {
       "layout": "IPY_MODEL_6ae87d2dd91541e5a6fa52488caaa125",
       "style": "IPY_MODEL_110cbcd7284c4b1fa44b1292ce54dcc4",
       "value": " 1/2 [00:00&lt;00:00,  1.61it/s]"
      }
     },
     "a6d717ecf18f4f37970ef90bcb2fbedb": {
      "model_module": "@jupyter-widgets/controls",
      "model_module_version": "1.5.0",
      "model_name": "DescriptionStyleModel",
      "state": {
       "description_width": ""
      }
     },
     "a736137a830d457094f61bdc5c343e7e": {
      "model_module": "@jupyter-widgets/controls",
      "model_module_version": "1.5.0",
      "model_name": "HTMLModel",
      "state": {
       "layout": "IPY_MODEL_35249eae423e4bcf864aaea015f040bb",
       "style": "IPY_MODEL_78734e8b79a4474087044563a54533d9",
       "value": "Epoch 4: 100%"
      }
     },
     "a7522f059fe34b6393799136abaf9c43": {
      "model_module": "@jupyter-widgets/controls",
      "model_module_version": "1.5.0",
      "model_name": "HTMLModel",
      "state": {
       "layout": "IPY_MODEL_f41ec5173d1f4a509730abab972b4ea6",
       "style": "IPY_MODEL_16a096b7a7b740b5a6b3fac8237c4187",
       "value": "Validating:  63%"
      }
     },
     "a819a51c0d1b4009b0f3507bd3ecb046": {
      "model_module": "@jupyter-widgets/controls",
      "model_module_version": "1.5.0",
      "model_name": "FloatProgressModel",
      "state": {
       "layout": "IPY_MODEL_2c38f54f392c4aa5bde31651ad3b696a",
       "max": 52,
       "style": "IPY_MODEL_c5d75209a6634bf48a4a09eaaf91e052",
       "value": 52
      }
     },
     "a96aa3ec3b6641e99daf7282a92fbc51": {
      "model_module": "@jupyter-widgets/controls",
      "model_module_version": "1.5.0",
      "model_name": "FloatProgressModel",
      "state": {
       "bar_style": "danger",
       "layout": "IPY_MODEL_c510cb2a83bc4c8b836926331b233a3b",
       "max": 258,
       "style": "IPY_MODEL_1ae9fb524334483cb9eeb784023e21ed"
      }
     },
     "a97e3c010dd5459db79c368a600eead2": {
      "model_module": "@jupyter-widgets/controls",
      "model_module_version": "1.5.0",
      "model_name": "FloatProgressModel",
      "state": {
       "layout": "IPY_MODEL_84f2d2fb534d46e5851ef8f1556622fe",
       "max": 52,
       "style": "IPY_MODEL_d07c4312c3014b63b27e440ff94dc37e",
       "value": 52
      }
     },
     "aaa6f14b333449a5b96d357ffd7268f6": {
      "model_module": "@jupyter-widgets/controls",
      "model_module_version": "1.5.0",
      "model_name": "DescriptionStyleModel",
      "state": {
       "description_width": ""
      }
     },
     "aaa7face761f4ac096230401e22514ee": {
      "model_module": "@jupyter-widgets/controls",
      "model_module_version": "1.5.0",
      "model_name": "ProgressStyleModel",
      "state": {
       "description_width": ""
      }
     },
     "ab871d6badd44a48bb9e258552e41d5b": {
      "model_module": "@jupyter-widgets/base",
      "model_module_version": "1.2.0",
      "model_name": "LayoutModel",
      "state": {}
     },
     "ac740cd0e1ac44f3b686d7184946d2b3": {
      "model_module": "@jupyter-widgets/controls",
      "model_module_version": "1.5.0",
      "model_name": "DescriptionStyleModel",
      "state": {
       "description_width": ""
      }
     },
     "adbc277c3dfe4917957692de9025f75d": {
      "model_module": "@jupyter-widgets/base",
      "model_module_version": "1.2.0",
      "model_name": "LayoutModel",
      "state": {
       "flex": "2"
      }
     },
     "af273609ac0342c79b70b7f6de15c736": {
      "model_module": "@jupyter-widgets/base",
      "model_module_version": "1.2.0",
      "model_name": "LayoutModel",
      "state": {}
     },
     "b0384576c96648fa8c76c79cc632a47e": {
      "model_module": "@jupyter-widgets/controls",
      "model_module_version": "1.5.0",
      "model_name": "HTMLModel",
      "state": {
       "layout": "IPY_MODEL_576869ba28704d9a932c614d00b835d6",
       "style": "IPY_MODEL_3234d6c9c695433d868d05193c05781f",
       "value": "Validation sanity check:   0%"
      }
     },
     "b0636b078671483e8eb8ad560a72ddc6": {
      "model_module": "@jupyter-widgets/base",
      "model_module_version": "1.2.0",
      "model_name": "LayoutModel",
      "state": {}
     },
     "b227dae00bde4b8f9a69f74a7309ee0e": {
      "model_module": "@jupyter-widgets/base",
      "model_module_version": "1.2.0",
      "model_name": "LayoutModel",
      "state": {}
     },
     "b38057d635cf4dc4a329aeec4ef56672": {
      "model_module": "@jupyter-widgets/controls",
      "model_module_version": "1.5.0",
      "model_name": "DescriptionStyleModel",
      "state": {
       "description_width": ""
      }
     },
     "b3c94b44349342e49032940be50cb8b3": {
      "model_module": "@jupyter-widgets/base",
      "model_module_version": "1.2.0",
      "model_name": "LayoutModel",
      "state": {}
     },
     "b3cbd2a1f4064d9a81c8b789b9ca8377": {
      "model_module": "@jupyter-widgets/controls",
      "model_module_version": "1.5.0",
      "model_name": "DescriptionStyleModel",
      "state": {
       "description_width": ""
      }
     },
     "b56f1f2169a04ba38aa4c2882f8b79dc": {
      "model_module": "@jupyter-widgets/controls",
      "model_module_version": "1.5.0",
      "model_name": "FloatProgressModel",
      "state": {
       "bar_style": "danger",
       "layout": "IPY_MODEL_1bb4c46451d64c84aa3dd62f6a6298aa",
       "max": 258,
       "style": "IPY_MODEL_8ca03fbf80c6402083a5f44f83537612",
       "value": 207
      }
     },
     "b7209a4a7f3c432ca5cc04e71b7dd243": {
      "model_module": "@jupyter-widgets/base",
      "model_module_version": "1.2.0",
      "model_name": "LayoutModel",
      "state": {
       "flex": "2"
      }
     },
     "b8c4d31f31834a64a3a27cc3a7c5723e": {
      "model_module": "@jupyter-widgets/base",
      "model_module_version": "1.2.0",
      "model_name": "LayoutModel",
      "state": {
       "flex": "2"
      }
     },
     "b946c8a2b82348008450ac7bccc616eb": {
      "model_module": "@jupyter-widgets/controls",
      "model_module_version": "1.5.0",
      "model_name": "HTMLModel",
      "state": {
       "layout": "IPY_MODEL_64fe21a7be3e4f888d3df4af5afe4258",
       "style": "IPY_MODEL_8e65d9946d364c3fa02a7d3abfb5e225",
       "value": " 1/2 [00:01&lt;00:01,  1.21s/it]"
      }
     },
     "b9eeab5593984549ad3cd2df71428733": {
      "model_module": "@jupyter-widgets/controls",
      "model_module_version": "1.5.0",
      "model_name": "HTMLModel",
      "state": {
       "layout": "IPY_MODEL_3b08c76cc7074cfc9623690ab58b7bf6",
       "style": "IPY_MODEL_77bac96e054449b091dad06f4694d8e5",
       "value": "Validation sanity check:  50%"
      }
     },
     "ba6eed55603c47d4bf875e972401e37f": {
      "model_module": "@jupyter-widgets/controls",
      "model_module_version": "1.5.0",
      "model_name": "DescriptionStyleModel",
      "state": {
       "description_width": ""
      }
     },
     "ba78dbe57a2d4d79b38077baa6bee229": {
      "model_module": "@jupyter-widgets/base",
      "model_module_version": "1.2.0",
      "model_name": "LayoutModel",
      "state": {}
     },
     "baf1149c2dad4c6b9d1b074b7edc6953": {
      "model_module": "@jupyter-widgets/controls",
      "model_module_version": "1.5.0",
      "model_name": "ProgressStyleModel",
      "state": {
       "description_width": ""
      }
     },
     "bb46c532ffe842b8b00f43cc6c10b555": {
      "model_module": "@jupyter-widgets/controls",
      "model_module_version": "1.5.0",
      "model_name": "DescriptionStyleModel",
      "state": {
       "description_width": ""
      }
     },
     "bb6958b3690e4d5aa294152257a2392d": {
      "model_module": "@jupyter-widgets/controls",
      "model_module_version": "1.5.0",
      "model_name": "DescriptionStyleModel",
      "state": {
       "description_width": ""
      }
     },
     "bc96dba845e743be9aa8edcdeb03da5c": {
      "model_module": "@jupyter-widgets/controls",
      "model_module_version": "1.5.0",
      "model_name": "ProgressStyleModel",
      "state": {
       "description_width": ""
      }
     },
     "bd50d6649c8b45f68f43a04e6e404bd4": {
      "model_module": "@jupyter-widgets/base",
      "model_module_version": "1.2.0",
      "model_name": "LayoutModel",
      "state": {
       "display": "inline-flex",
       "flex_flow": "row wrap",
       "width": "100%"
      }
     },
     "bd7f2195956f4e7891a5dd821be28275": {
      "model_module": "@jupyter-widgets/controls",
      "model_module_version": "1.5.0",
      "model_name": "ProgressStyleModel",
      "state": {
       "description_width": ""
      }
     },
     "bd8b065670bb4e81b6f2367a17d7225e": {
      "model_module": "@jupyter-widgets/controls",
      "model_module_version": "1.5.0",
      "model_name": "HTMLModel",
      "state": {
       "layout": "IPY_MODEL_8d07607663094c1fa9ef1c54563a9f7a",
       "style": "IPY_MODEL_a2efe50732144ebcb3ab36a8b49134a3",
       "value": "100%"
      }
     },
     "bdcc6b3a8a964a88b8bd053fd6b2c1bd": {
      "model_module": "@jupyter-widgets/controls",
      "model_module_version": "1.5.0",
      "model_name": "ProgressStyleModel",
      "state": {
       "description_width": ""
      }
     },
     "be0f1daa4ff14666a47900d60a10e971": {
      "model_module": "@jupyter-widgets/controls",
      "model_module_version": "1.5.0",
      "model_name": "HTMLModel",
      "state": {
       "layout": "IPY_MODEL_255ffa2a105344a684cf63f4163d7aa8",
       "style": "IPY_MODEL_ff892f754d5a49eba08c25c97726a522",
       "value": "Validation sanity check:  50%"
      }
     },
     "be41c8cab25848e2a90f89923ca19a9a": {
      "model_module": "@jupyter-widgets/base",
      "model_module_version": "1.2.0",
      "model_name": "LayoutModel",
      "state": {
       "flex": "2"
      }
     },
     "bec2ea9bb10d44979d9458ad2c142f1d": {
      "model_module": "@jupyter-widgets/controls",
      "model_module_version": "1.5.0",
      "model_name": "DescriptionStyleModel",
      "state": {
       "description_width": ""
      }
     },
     "c02646f46d384c2b919abd9e70fbb81d": {
      "model_module": "@jupyter-widgets/controls",
      "model_module_version": "1.5.0",
      "model_name": "HBoxModel",
      "state": {
       "children": [
        "IPY_MODEL_986c1544db50497281d93e39f1783a68",
        "IPY_MODEL_6215fc069d024f9e85ee52d8c8d36ae8",
        "IPY_MODEL_3dc1f62a709645938f259af3ce3c6eb6"
       ],
       "layout": "IPY_MODEL_bd50d6649c8b45f68f43a04e6e404bd4"
      }
     },
     "c1ff258ba7734733946e16d98e0bfae9": {
      "model_module": "@jupyter-widgets/controls",
      "model_module_version": "1.5.0",
      "model_name": "HTMLModel",
      "state": {
       "layout": "IPY_MODEL_39b463681f554726bf1b14919dbc12a2",
       "style": "IPY_MODEL_53ad9ae981d84c31b5db284abcd450e0",
       "value": " 73/73 [00:22&lt;00:00,  3.17it/s]"
      }
     },
     "c2d551fe604e41b683f3f7394456c470": {
      "model_module": "@jupyter-widgets/base",
      "model_module_version": "1.2.0",
      "model_name": "LayoutModel",
      "state": {}
     },
     "c2deb341ec824e1b9d52e3e1042ed5ad": {
      "model_module": "@jupyter-widgets/controls",
      "model_module_version": "1.5.0",
      "model_name": "ProgressStyleModel",
      "state": {
       "description_width": ""
      }
     },
     "c41d2b224bec41958408d37d35cf0210": {
      "model_module": "@jupyter-widgets/controls",
      "model_module_version": "1.5.0",
      "model_name": "ProgressStyleModel",
      "state": {
       "description_width": ""
      }
     },
     "c4296738995946aab09dd03249d92535": {
      "model_module": "@jupyter-widgets/controls",
      "model_module_version": "1.5.0",
      "model_name": "HTMLModel",
      "state": {
       "layout": "IPY_MODEL_d3189d1d52c0487093d2de8361cc4a12",
       "style": "IPY_MODEL_b3cbd2a1f4064d9a81c8b789b9ca8377",
       "value": "100%"
      }
     },
     "c510cb2a83bc4c8b836926331b233a3b": {
      "model_module": "@jupyter-widgets/base",
      "model_module_version": "1.2.0",
      "model_name": "LayoutModel",
      "state": {
       "flex": "2"
      }
     },
     "c5d75209a6634bf48a4a09eaaf91e052": {
      "model_module": "@jupyter-widgets/controls",
      "model_module_version": "1.5.0",
      "model_name": "ProgressStyleModel",
      "state": {
       "description_width": ""
      }
     },
     "c81df0d5ffb24565b3d0a6a923517df2": {
      "model_module": "@jupyter-widgets/base",
      "model_module_version": "1.2.0",
      "model_name": "LayoutModel",
      "state": {}
     },
     "c8521876dc2d4967bdffce78e36a3ef5": {
      "model_module": "@jupyter-widgets/controls",
      "model_module_version": "1.5.0",
      "model_name": "FloatProgressModel",
      "state": {
       "layout": "IPY_MODEL_ca08d1528caf4c29a2aed0f90de067d3",
       "max": 52,
       "style": "IPY_MODEL_f618216dfa2c4ee0a5a0265d344b3d22",
       "value": 52
      }
     },
     "c94b6b8c1a1242d891c677044115a49a": {
      "model_module": "@jupyter-widgets/controls",
      "model_module_version": "1.5.0",
      "model_name": "FloatProgressModel",
      "state": {
       "bar_style": "success",
       "layout": "IPY_MODEL_b7209a4a7f3c432ca5cc04e71b7dd243",
       "max": 258,
       "style": "IPY_MODEL_5bd0d326cb4e4861b88adb9e21f1aac0",
       "value": 258
      }
     },
     "c98ce6a3734b4f2f93c31f4d9bec744a": {
      "model_module": "@jupyter-widgets/controls",
      "model_module_version": "1.5.0",
      "model_name": "HTMLModel",
      "state": {
       "layout": "IPY_MODEL_ff6ad64461474dbda10ac17ec9e8c696",
       "style": "IPY_MODEL_76d4fed2041b482d8fa54043a9a8cfce",
       "value": "Validation sanity check:  50%"
      }
     },
     "c99766b1b6df4e11a9994da8a613e5e4": {
      "model_module": "@jupyter-widgets/controls",
      "model_module_version": "1.5.0",
      "model_name": "DescriptionStyleModel",
      "state": {
       "description_width": ""
      }
     },
     "c9e6bc92072b4e3a9506232a8a035535": {
      "model_module": "@jupyter-widgets/base",
      "model_module_version": "1.2.0",
      "model_name": "LayoutModel",
      "state": {}
     },
     "ca08d1528caf4c29a2aed0f90de067d3": {
      "model_module": "@jupyter-widgets/base",
      "model_module_version": "1.2.0",
      "model_name": "LayoutModel",
      "state": {
       "flex": "2"
      }
     },
     "cca0412f9f8f478993e8214b474d27ce": {
      "model_module": "@jupyter-widgets/controls",
      "model_module_version": "1.5.0",
      "model_name": "FloatProgressModel",
      "state": {
       "bar_style": "danger",
       "layout": "IPY_MODEL_2dc180dfc6f34226a2af33f6a4647b34",
       "max": 258,
       "style": "IPY_MODEL_f5c52769f7a444d8ab04619269d47973"
      }
     },
     "cd0a21f958b44082acf9b4e132d5b947": {
      "model_module": "@jupyter-widgets/controls",
      "model_module_version": "1.5.0",
      "model_name": "DescriptionStyleModel",
      "state": {
       "description_width": ""
      }
     },
     "cd15dd75022a4b5cabb609f2de2e01a7": {
      "model_module": "@jupyter-widgets/controls",
      "model_module_version": "1.5.0",
      "model_name": "DescriptionStyleModel",
      "state": {
       "description_width": ""
      }
     },
     "cdb25a011b624e27af6e27f70365fd82": {
      "model_module": "@jupyter-widgets/base",
      "model_module_version": "1.2.0",
      "model_name": "LayoutModel",
      "state": {
       "display": "inline-flex",
       "flex_flow": "row wrap",
       "width": "100%"
      }
     },
     "cf7d6b7237df41129066c567d4a22691": {
      "model_module": "@jupyter-widgets/base",
      "model_module_version": "1.2.0",
      "model_name": "LayoutModel",
      "state": {
       "flex": "2"
      }
     },
     "d05ab206b7e8408989284dfde606d27c": {
      "model_module": "@jupyter-widgets/controls",
      "model_module_version": "1.5.0",
      "model_name": "DescriptionStyleModel",
      "state": {
       "description_width": ""
      }
     },
     "d07c4312c3014b63b27e440ff94dc37e": {
      "model_module": "@jupyter-widgets/controls",
      "model_module_version": "1.5.0",
      "model_name": "ProgressStyleModel",
      "state": {
       "description_width": ""
      }
     },
     "d1cd15f95ae64d988a4ec1dfbdb7b667": {
      "model_module": "@jupyter-widgets/controls",
      "model_module_version": "1.5.0",
      "model_name": "HTMLModel",
      "state": {
       "layout": "IPY_MODEL_689ea0404c6e4a7fbc47158df068ab3a",
       "style": "IPY_MODEL_1d9f12f14b09464fb139bf651a32e63a",
       "value": "Validating:  58%"
      }
     },
     "d279326303a647808129c5d5c8bd474f": {
      "model_module": "@jupyter-widgets/controls",
      "model_module_version": "1.5.0",
      "model_name": "ProgressStyleModel",
      "state": {
       "description_width": ""
      }
     },
     "d3189d1d52c0487093d2de8361cc4a12": {
      "model_module": "@jupyter-widgets/base",
      "model_module_version": "1.2.0",
      "model_name": "LayoutModel",
      "state": {}
     },
     "d3ebe06e22da43b48be920d42802166a": {
      "model_module": "@jupyter-widgets/controls",
      "model_module_version": "1.5.0",
      "model_name": "HTMLModel",
      "state": {
       "layout": "IPY_MODEL_6eed8d6f350547d98e499bc8357b0934",
       "style": "IPY_MODEL_eee0fbee9ce54b39bbceac0fd4867d5c",
       "value": " 30/52 [00:00&lt;00:00, 45.83it/s]"
      }
     },
     "d55f3eb9deb0422a85c625c5e5168cc3": {
      "model_module": "@jupyter-widgets/base",
      "model_module_version": "1.2.0",
      "model_name": "LayoutModel",
      "state": {
       "flex": "2"
      }
     },
     "d6593c9557a04cb5a8b573d3f49b9dce": {
      "model_module": "@jupyter-widgets/controls",
      "model_module_version": "1.5.0",
      "model_name": "DescriptionStyleModel",
      "state": {
       "description_width": ""
      }
     },
     "d7afd98e6e0b4421a64d155c4a69451f": {
      "model_module": "@jupyter-widgets/controls",
      "model_module_version": "1.5.0",
      "model_name": "FloatProgressModel",
      "state": {
       "layout": "IPY_MODEL_32b079e1823b473e9ffd0eac059855de",
       "max": 1,
       "style": "IPY_MODEL_ddec880c53074bd0a5b24fbf739ed53f",
       "value": 1
      }
     },
     "d804252a851c473ca4697c33ff4f7ac1": {
      "model_module": "@jupyter-widgets/base",
      "model_module_version": "1.2.0",
      "model_name": "LayoutModel",
      "state": {}
     },
     "d9058023e13c463483d916d87b1098d8": {
      "model_module": "@jupyter-widgets/base",
      "model_module_version": "1.2.0",
      "model_name": "LayoutModel",
      "state": {
       "flex": "2"
      }
     },
     "d92d5c6587f24858bf4e6a588b227b17": {
      "model_module": "@jupyter-widgets/controls",
      "model_module_version": "1.5.0",
      "model_name": "DescriptionStyleModel",
      "state": {
       "description_width": ""
      }
     },
     "db3221e94abf40ad8feb1515d96fc445": {
      "model_module": "@jupyter-widgets/base",
      "model_module_version": "1.2.0",
      "model_name": "LayoutModel",
      "state": {
       "display": "inline-flex",
       "flex_flow": "row wrap",
       "width": "100%"
      }
     },
     "dba129f05507403f81e9e14ec740aa71": {
      "model_module": "@jupyter-widgets/controls",
      "model_module_version": "1.5.0",
      "model_name": "HBoxModel",
      "state": {
       "children": [
        "IPY_MODEL_fb36c8051d9f454fb63db60dd7be9238",
        "IPY_MODEL_42ac5456bb744fa68f0f83c21f69806c",
        "IPY_MODEL_0c9387aba4c1463f8fb78dd8c87334e5"
       ],
       "layout": "IPY_MODEL_db3221e94abf40ad8feb1515d96fc445"
      }
     },
     "dd691839ad184ef7a8957695b207b00f": {
      "model_module": "@jupyter-widgets/base",
      "model_module_version": "1.2.0",
      "model_name": "LayoutModel",
      "state": {}
     },
     "ddb5a4d4fd964bcab705c7d230133ddb": {
      "model_module": "@jupyter-widgets/controls",
      "model_module_version": "1.5.0",
      "model_name": "DescriptionStyleModel",
      "state": {
       "description_width": ""
      }
     },
     "ddec880c53074bd0a5b24fbf739ed53f": {
      "model_module": "@jupyter-widgets/controls",
      "model_module_version": "1.5.0",
      "model_name": "ProgressStyleModel",
      "state": {
       "description_width": ""
      }
     },
     "de1c1d1496af4cdd82380aa8e507d528": {
      "model_module": "@jupyter-widgets/base",
      "model_module_version": "1.2.0",
      "model_name": "LayoutModel",
      "state": {}
     },
     "dfb8e65237e847f89e3db16f9e94093b": {
      "model_module": "@jupyter-widgets/base",
      "model_module_version": "1.2.0",
      "model_name": "LayoutModel",
      "state": {}
     },
     "e1e924db4fd74a3487ff60d5227a1487": {
      "model_module": "@jupyter-widgets/controls",
      "model_module_version": "1.5.0",
      "model_name": "HTMLModel",
      "state": {
       "layout": "IPY_MODEL_2b4bc240e91e4dc9af22b3b6dc8dcf6d",
       "style": "IPY_MODEL_e446332db0634937a824acedee5f37ec",
       "value": "Validating:  60%"
      }
     },
     "e39ab0b43aef4b0a9c8ec20760130a44": {
      "model_module": "@jupyter-widgets/controls",
      "model_module_version": "1.5.0",
      "model_name": "ProgressStyleModel",
      "state": {
       "description_width": ""
      }
     },
     "e446332db0634937a824acedee5f37ec": {
      "model_module": "@jupyter-widgets/controls",
      "model_module_version": "1.5.0",
      "model_name": "DescriptionStyleModel",
      "state": {
       "description_width": ""
      }
     },
     "e55bb58b618149e696205a13fb728f68": {
      "model_module": "@jupyter-widgets/base",
      "model_module_version": "1.2.0",
      "model_name": "LayoutModel",
      "state": {
       "display": "inline-flex",
       "flex_flow": "row wrap",
       "width": "100%"
      }
     },
     "e7da06d9c92f4f41ab0d74f9af07ca1a": {
      "model_module": "@jupyter-widgets/controls",
      "model_module_version": "1.5.0",
      "model_name": "HTMLModel",
      "state": {
       "layout": "IPY_MODEL_c9e6bc92072b4e3a9506232a8a035535",
       "style": "IPY_MODEL_ec18a02cbe8c4e8ba94eb55a4a67db10",
       "value": " 1/2 [00:00&lt;00:00,  1.27it/s]"
      }
     },
     "e9113158cb48443a81ed4f81bb2047e8": {
      "model_module": "@jupyter-widgets/base",
      "model_module_version": "1.2.0",
      "model_name": "LayoutModel",
      "state": {}
     },
     "ea6f9cac99c7448a81968d5437e5274a": {
      "model_module": "@jupyter-widgets/controls",
      "model_module_version": "1.5.0",
      "model_name": "FloatProgressModel",
      "state": {
       "layout": "IPY_MODEL_af273609ac0342c79b70b7f6de15c736",
       "max": 1,
       "style": "IPY_MODEL_5c8a47adfd6548968ff638d0f19ab4d5",
       "value": 1
      }
     },
     "eb6dc6ea244549988668ed1757c6bc4f": {
      "model_module": "@jupyter-widgets/controls",
      "model_module_version": "1.5.0",
      "model_name": "DescriptionStyleModel",
      "state": {
       "description_width": ""
      }
     },
     "ec18a02cbe8c4e8ba94eb55a4a67db10": {
      "model_module": "@jupyter-widgets/controls",
      "model_module_version": "1.5.0",
      "model_name": "DescriptionStyleModel",
      "state": {
       "description_width": ""
      }
     },
     "ec2b155941404362abcc590b77c75d48": {
      "model_module": "@jupyter-widgets/controls",
      "model_module_version": "1.5.0",
      "model_name": "HTMLModel",
      "state": {
       "layout": "IPY_MODEL_32207ed8d9ba49708838cd65f9300015",
       "style": "IPY_MODEL_5786183f4a7f49c5a3d272b0b5456127",
       "value": "Validation sanity check:  50%"
      }
     },
     "ec542df395694bd4a06b00b7aaaa91ad": {
      "model_module": "@jupyter-widgets/controls",
      "model_module_version": "1.5.0",
      "model_name": "HTMLModel",
      "state": {
       "layout": "IPY_MODEL_065b12c96ba248ad8f38793b5dd29e45",
       "style": "IPY_MODEL_674f955665b04044bf788450a14046bb",
       "value": " 33/52 [00:00&lt;00:00, 63.34it/s]"
      }
     },
     "ed15cc414b4f48d993b06db8f45105c4": {
      "model_module": "@jupyter-widgets/controls",
      "model_module_version": "1.5.0",
      "model_name": "DescriptionStyleModel",
      "state": {
       "description_width": ""
      }
     },
     "ee97cc2275ee46c080142e44be2d1d99": {
      "model_module": "@jupyter-widgets/controls",
      "model_module_version": "1.5.0",
      "model_name": "LabelModel",
      "state": {
       "layout": "IPY_MODEL_f08ca51e9b90404c91d6ab30b9baa6b8",
       "style": "IPY_MODEL_a6d717ecf18f4f37970ef90bcb2fbedb",
       "value": " 0.01MB of 0.01MB uploaded (0.00MB deduped)\r"
      }
     },
     "eee0fbee9ce54b39bbceac0fd4867d5c": {
      "model_module": "@jupyter-widgets/controls",
      "model_module_version": "1.5.0",
      "model_name": "DescriptionStyleModel",
      "state": {
       "description_width": ""
      }
     },
     "f08013248ec8453d918ddc512fc2afc3": {
      "model_module": "@jupyter-widgets/base",
      "model_module_version": "1.2.0",
      "model_name": "LayoutModel",
      "state": {
       "display": "inline-flex",
       "flex_flow": "row wrap",
       "width": "100%"
      }
     },
     "f08ca51e9b90404c91d6ab30b9baa6b8": {
      "model_module": "@jupyter-widgets/base",
      "model_module_version": "1.2.0",
      "model_name": "LayoutModel",
      "state": {}
     },
     "f0e160ee3c8c4e4dbbb187468359cef6": {
      "model_module": "@jupyter-widgets/base",
      "model_module_version": "1.2.0",
      "model_name": "LayoutModel",
      "state": {}
     },
     "f1c1d14ba7a44d41a8b80cc3f0c30502": {
      "model_module": "@jupyter-widgets/controls",
      "model_module_version": "1.5.0",
      "model_name": "HTMLModel",
      "state": {
       "layout": "IPY_MODEL_1397139ed27944e19224d1e8b1a1e62e",
       "style": "IPY_MODEL_bec2ea9bb10d44979d9458ad2c142f1d",
       "value": "Epoch 0:  80%"
      }
     },
     "f3d5c7dbb3e24f798e9f046353311105": {
      "model_module": "@jupyter-widgets/controls",
      "model_module_version": "1.5.0",
      "model_name": "ProgressStyleModel",
      "state": {
       "description_width": ""
      }
     },
     "f41ec5173d1f4a509730abab972b4ea6": {
      "model_module": "@jupyter-widgets/base",
      "model_module_version": "1.2.0",
      "model_name": "LayoutModel",
      "state": {}
     },
     "f49b78db489c4a2c929410991325760c": {
      "model_module": "@jupyter-widgets/base",
      "model_module_version": "1.2.0",
      "model_name": "LayoutModel",
      "state": {}
     },
     "f54a3c2cbd1d42aaaf0fe626da486011": {
      "model_module": "@jupyter-widgets/base",
      "model_module_version": "1.2.0",
      "model_name": "LayoutModel",
      "state": {}
     },
     "f5c52769f7a444d8ab04619269d47973": {
      "model_module": "@jupyter-widgets/controls",
      "model_module_version": "1.5.0",
      "model_name": "ProgressStyleModel",
      "state": {
       "description_width": ""
      }
     },
     "f618216dfa2c4ee0a5a0265d344b3d22": {
      "model_module": "@jupyter-widgets/controls",
      "model_module_version": "1.5.0",
      "model_name": "ProgressStyleModel",
      "state": {
       "description_width": ""
      }
     },
     "f7052dc4837841c083fcd9e61dd179fd": {
      "model_module": "@jupyter-widgets/controls",
      "model_module_version": "1.5.0",
      "model_name": "FloatProgressModel",
      "state": {
       "layout": "IPY_MODEL_ab871d6badd44a48bb9e258552e41d5b",
       "max": 1,
       "style": "IPY_MODEL_c2deb341ec824e1b9d52e3e1042ed5ad",
       "value": 1
      }
     },
     "fa5069afc8de49948d1deace9e38fb0a": {
      "model_module": "@jupyter-widgets/controls",
      "model_module_version": "1.5.0",
      "model_name": "FloatProgressModel",
      "state": {
       "layout": "IPY_MODEL_88a1b73156d74a30b62a9eb6295fe34b",
       "max": 52,
       "style": "IPY_MODEL_0008501c024a4cb0940f83cdc08abdc1",
       "value": 52
      }
     },
     "fa904f9c76c7417c8af046076f56881c": {
      "model_module": "@jupyter-widgets/controls",
      "model_module_version": "1.5.0",
      "model_name": "LabelModel",
      "state": {
       "layout": "IPY_MODEL_315ad91d78084b74bfc5bdd3f1286d48",
       "style": "IPY_MODEL_ac740cd0e1ac44f3b686d7184946d2b3",
       "value": " 0.01MB of 0.01MB uploaded (0.00MB deduped)\r"
      }
     },
     "fb36c8051d9f454fb63db60dd7be9238": {
      "model_module": "@jupyter-widgets/controls",
      "model_module_version": "1.5.0",
      "model_name": "HTMLModel",
      "state": {
       "layout": "IPY_MODEL_5b69796dae3c4fe38a67e49698ef393a",
       "style": "IPY_MODEL_0664b800864d4e12a1580853ed7a131d",
       "value": "Epoch 0:   2%"
      }
     },
     "fba0a1220e6342a4a2934fa2d0a5fb18": {
      "model_module": "@jupyter-widgets/controls",
      "model_module_version": "1.5.0",
      "model_name": "DescriptionStyleModel",
      "state": {
       "description_width": ""
      }
     },
     "fc2cdac0ed9f49a0a7dd783211a1c31a": {
      "model_module": "@jupyter-widgets/base",
      "model_module_version": "1.2.0",
      "model_name": "LayoutModel",
      "state": {}
     },
     "fcdfc4978a2f4829b8039262c48539e6": {
      "model_module": "@jupyter-widgets/controls",
      "model_module_version": "1.5.0",
      "model_name": "HBoxModel",
      "state": {
       "children": [
        "IPY_MODEL_c4296738995946aab09dd03249d92535",
        "IPY_MODEL_0a57227815dc47bb83781f08a943c0d8",
        "IPY_MODEL_c1ff258ba7734733946e16d98e0bfae9"
       ],
       "layout": "IPY_MODEL_5183bb2b38164dc5905758c0b27d2e0a"
      }
     },
     "fd2294d354214a48875d0d932fe09a29": {
      "model_module": "@jupyter-widgets/controls",
      "model_module_version": "1.5.0",
      "model_name": "HTMLModel",
      "state": {
       "layout": "IPY_MODEL_f0e160ee3c8c4e4dbbb187468359cef6",
       "style": "IPY_MODEL_0be5c77d526b4ebd9709af01f3dffdde",
       "value": "Epoch 0:   0%"
      }
     },
     "fdb012169f4d4bfc9c834e221539d434": {
      "model_module": "@jupyter-widgets/controls",
      "model_module_version": "1.5.0",
      "model_name": "HTMLModel",
      "state": {
       "layout": "IPY_MODEL_918c652dc5304356865160297d311d46",
       "style": "IPY_MODEL_bb6958b3690e4d5aa294152257a2392d",
       "value": " 73/73 [00:00&lt;00:00, 92.70it/s]"
      }
     },
     "fe452333f39e403d9b4003af14691396": {
      "model_module": "@jupyter-widgets/base",
      "model_module_version": "1.2.0",
      "model_name": "LayoutModel",
      "state": {}
     },
     "fe79fcd8b61942ca8606a50dfa2dc775": {
      "model_module": "@jupyter-widgets/controls",
      "model_module_version": "1.5.0",
      "model_name": "ProgressStyleModel",
      "state": {
       "description_width": ""
      }
     },
     "febdcd1cffad4735855800fa805dae07": {
      "model_module": "@jupyter-widgets/controls",
      "model_module_version": "1.5.0",
      "model_name": "FloatProgressModel",
      "state": {
       "layout": "IPY_MODEL_be41c8cab25848e2a90f89923ca19a9a",
       "max": 2,
       "style": "IPY_MODEL_62ecbca57ca642188e6323557502c5e6",
       "value": 2
      }
     },
     "ff6ad64461474dbda10ac17ec9e8c696": {
      "model_module": "@jupyter-widgets/base",
      "model_module_version": "1.2.0",
      "model_name": "LayoutModel",
      "state": {}
     },
     "ff7ad83c3ea44cf89aa001d3c1cb0fda": {
      "model_module": "@jupyter-widgets/controls",
      "model_module_version": "1.5.0",
      "model_name": "LabelModel",
      "state": {
       "layout": "IPY_MODEL_b0636b078671483e8eb8ad560a72ddc6",
       "style": "IPY_MODEL_291ec19a1b14445597d82f7ea5a76583",
       "value": " 0.01MB of 0.01MB uploaded (0.00MB deduped)\r"
      }
     },
     "ff892f754d5a49eba08c25c97726a522": {
      "model_module": "@jupyter-widgets/controls",
      "model_module_version": "1.5.0",
      "model_name": "DescriptionStyleModel",
      "state": {
       "description_width": ""
      }
     }
    },
    "version_major": 2,
    "version_minor": 0
   }
  }
 },
 "nbformat": 4,
 "nbformat_minor": 5
}