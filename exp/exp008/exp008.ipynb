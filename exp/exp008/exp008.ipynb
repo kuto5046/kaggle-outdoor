{
 "cells": [
  {
   "cell_type": "code",
   "execution_count": 1,
   "metadata": {},
   "outputs": [],
   "source": [
    "import os\n",
    "import sys\n",
    "import glob\n",
    "import yaml\n",
    "import pickle\n",
    "import random\n",
    "import sys\n",
    "sys.path.append('../../')\n",
    "from src import utils\n",
    "import numpy as np\n",
    "import pandas as pd\n",
    "import scipy.stats as stats\n",
    "from pathlib import Path\n",
    "import matplotlib.pyplot as plt\n",
    "from sklearn import model_selection\n",
    "from sklearn.preprocessing import StandardScaler, LabelEncoder\n",
    "\n",
    "import json\n",
    "import wandb"
   ]
  },
  {
   "cell_type": "code",
   "execution_count": 2,
   "metadata": {},
   "outputs": [],
   "source": [
    "# config\n",
    "with open('config.yaml') as f:\n",
    "    config = yaml.safe_load(f)\n",
    "\n",
    "# globals variable\n",
    "SEED = config['globals']['seed']\n",
    "N_SPLITS = config['globals']['n_splits']\n",
    "USE_FOLDS = config['globals']['use_folds']\n",
    "DEBUG = config['globals']['debug']\n",
    "EXP_MESSAGE = config['globals']['exp_message']\n",
    "NOTES = config['globals']['notes']\n",
    "MODEL_SAVE = config['globals']['model_save']\n",
    "ONLY_PRED = config['globals']['only_pred']\n",
    "PRETRAINED = config['globals']['pretrained']\n",
    "PRETRAINED_PATH = config['globals']['pretrained_path']\n",
    "EXP_NAME = str(Path().resolve()).split('/')[-1]\n",
    "utils.seed_everything(SEED)\n",
    "\n",
    "EXP_NAME = str(Path().resolve()).split('/')[-1]"
   ]
  },
  {
   "cell_type": "code",
   "execution_count": 3,
   "metadata": {},
   "outputs": [
    {
     "data": {
      "text/plain": [
       "'exp008'"
      ]
     },
     "execution_count": 3,
     "metadata": {},
     "output_type": "execute_result"
    }
   ],
   "source": [
    "EXP_NAME"
   ]
  },
  {
   "cell_type": "code",
   "execution_count": 4,
   "metadata": {},
   "outputs": [
    {
     "name": "stdout",
     "output_type": "stream",
     "text": [
      "\u001b[34m\u001b[1mwandb\u001b[0m: Appending key for api.wandb.ai to your netrc file: /home/user/.netrc\n"
     ]
    }
   ],
   "source": [
    "!wandb login 1bb2d0449c11d8b987e25c38b9d8dda176310fb6"
   ]
  },
  {
   "cell_type": "code",
   "execution_count": 5,
   "metadata": {},
   "outputs": [],
   "source": [
    "# waypointを補正したdataset\n",
    "root_dir = Path('../../input/')\n",
    "train_df = pd.read_csv(root_dir / \"baseline_locations_train.csv\")\n",
    "test_df = pd.read_csv(root_dir / \"baseline_locations_test.csv\")\n",
    "sub_df = pd.read_csv(root_dir / 'sample_submission.csv', index_col=0)\n"
   ]
  },
  {
   "cell_type": "code",
   "execution_count": 6,
   "metadata": {},
   "outputs": [],
   "source": [
    "# train_df = train_df[~train_df['collectionName'].isin([\n",
    "#     '2020-08-03-US-MTV-1',\n",
    "#     '2020-08-06-US-MTV-2',\n",
    "#     '2020-07-17-US-MTV-1',\n",
    "#     '2020-07-17-US-MTV-2'])].reset_index(drop=True)"
   ]
  },
  {
   "cell_type": "code",
   "execution_count": 7,
   "metadata": {},
   "outputs": [
    {
     "data": {
      "text/plain": [
       "((131342, 7), (91486, 7))"
      ]
     },
     "execution_count": 7,
     "metadata": {},
     "output_type": "execute_result"
    }
   ],
   "source": [
    "train_df.shape, test_df.shape"
   ]
  },
  {
   "cell_type": "code",
   "execution_count": 8,
   "metadata": {},
   "outputs": [],
   "source": [
    "import glob\n",
    "import os\n",
    "from tqdm.notebook import tqdm\n",
    "\n",
    "\n",
    "def get_ground_truth(args):\n",
    "    (collectionName, phoneName), df = args\n",
    "    \n",
    "    path = root_dir / f\"train/{collectionName}/{phoneName}/ground_truth.csv\"\n",
    "    target_df = pd.read_csv(path)\n",
    "    output_df = pd.DataFrame()\n",
    "    # merge derived and target by 'millisSinceGpsEpoch'\n",
    "    for epoch, epoch_df in df.groupby('millisSinceGpsEpoch'):\n",
    "        idx = (target_df['millisSinceGpsEpoch'] - epoch).abs().argmin()\n",
    "        epoch_diff = epoch - target_df.loc[idx, 'millisSinceGpsEpoch']\n",
    "        epoch_df['epoch_diff'] = epoch_diff\n",
    "        epoch_df['target_latDeg'] = target_df.loc[idx, 'latDeg']\n",
    "        epoch_df['target_lngDeg'] = target_df.loc[idx, 'lngDeg']\n",
    "        output_df = pd.concat([output_df, epoch_df]).reset_index(drop=True)    \n",
    "    return output_df"
   ]
  },
  {
   "cell_type": "code",
   "execution_count": 9,
   "metadata": {},
   "outputs": [],
   "source": [
    "# metric\n",
    "def calc_haversine(lat1, lon1, lat2, lon2):\n",
    "    \"\"\"Calculates the great circle distance between two points\n",
    "    on the earth. Inputs are array-like and specified in decimal degrees.\n",
    "    \"\"\"\n",
    "    RADIUS = 6_367_000\n",
    "    lat1, lon1, lat2, lon2 = map(np.radians, [lat1, lon1, lat2, lon2])\n",
    "    dlat = lat2 - lat1\n",
    "    dlon = lon2 - lon1\n",
    "    a = np.sin(dlat/2)**2 + np.cos(lat1) * np.cos(lat2) * np.sin(dlon/2)**2\n",
    "    dist = 2 * RADIUS * np.arcsin(a**0.5)\n",
    "    \n",
    "    angle = np.degrees(np.arctan2(dlat, dlon))  # radian -> degree\n",
    "    return dist, angle"
   ]
  },
  {
   "cell_type": "code",
   "execution_count": 10,
   "metadata": {},
   "outputs": [
    {
     "data": {
      "application/vnd.jupyter.widget-view+json": {
       "model_id": "df1004b697984c98b5473a4de0457c00",
       "version_major": 2,
       "version_minor": 0
      },
      "text/plain": [
       "  0%|          | 0/73 [00:00<?, ?it/s]"
      ]
     },
     "metadata": {},
     "output_type": "display_data"
    }
   ],
   "source": [
    "import multiprocessing\n",
    "\n",
    "processes = multiprocessing.cpu_count()\n",
    "with multiprocessing.Pool(processes=processes) as pool:\n",
    "    gr = train_df.groupby(['collectionName','phoneName'])\n",
    "    dfs = pool.imap_unordered(get_ground_truth, gr)\n",
    "    dfs = tqdm(dfs, total=len(gr))\n",
    "    dfs = list(dfs)\n",
    "train_df = pd.concat(dfs).sort_values(['collectionName', 'phoneName', 'millisSinceGpsEpoch'])"
   ]
  },
  {
   "cell_type": "code",
   "execution_count": 11,
   "metadata": {},
   "outputs": [],
   "source": [
    "def linear_interpolation(input_df):\n",
    "    dfs = pd.DataFrame()\n",
    "    for (collectionName, phoneName), df in input_df.groupby(['collectionName','phoneName']):\n",
    "        df = df.sort_values(\"millisSinceGpsEpoch\")\n",
    "        assert len(df)==df[\"millisSinceGpsEpoch\"].nunique()\n",
    " \n",
    "        df['delta'], _ = calc_haversine(df['latDeg'], df['lngDeg'], df['latDeg'].shift(1), df['lngDeg'].shift(1))\n",
    "        df['time_delta'] = df['millisSinceGpsEpoch'] - df['millisSinceGpsEpoch'].shift(1)\n",
    "        df['delta'].fillna(0, inplace=True)\n",
    "        df['time_delta'].fillna(0, inplace=True)\n",
    "        df['speed'] = df['delta'] / (df['time_delta']/1000)  # m/s\n",
    "        df['speed'].fillna(0, inplace=True)\n",
    "\n",
    "        # 一度欠損値にする\n",
    "        df.loc[50<df['speed'], ['latDeg', 'lngDeg']] = np.nan\n",
    "        df['dummy_datetime'] = pd.to_datetime(df['millisSinceGpsEpoch'])\n",
    "        df = df.set_index('dummy_datetime')\n",
    "\n",
    "        # 時間に合わせて線形補間\n",
    "        df = df.interpolate(method='time').reset_index(drop=True)\n",
    "        dfs = pd.concat([dfs, df]).reset_index(drop=True)\n",
    "    return dfs"
   ]
  },
  {
   "cell_type": "code",
   "execution_count": 12,
   "metadata": {},
   "outputs": [],
   "source": [
    "train_df = linear_interpolation(train_df)"
   ]
  },
  {
   "cell_type": "code",
   "execution_count": 20,
   "metadata": {},
   "outputs": [],
   "source": [
    "def get_delta(input_df, contain_target=False):\n",
    "    output_df = pd.DataFrame()\n",
    "    for (collection_name, phone_name), df in tqdm(input_df.groupby(['collectionName', 'phoneName'])):\n",
    "        df = df.sort_values(\"millisSinceGpsEpoch\")\n",
    "        assert len(df)==df[\"millisSinceGpsEpoch\"].nunique()\n",
    "        \n",
    "        if contain_target:\n",
    "            df['target_delta_latDeg'] = (df['target_latDeg'] - df['target_latDeg'].shift(1)).fillna(0)\n",
    "            df['target_delta_lngDeg'] = (df['target_lngDeg'] - df['target_lngDeg'].shift(1)).fillna(0)\n",
    "\n",
    "            distance, angle = calc_haversine(df['target_latDeg'].to_numpy(), df['target_lngDeg'].to_numpy(),\n",
    "                                             df['target_latDeg'].shift(1).to_numpy(), df['target_lngDeg'].shift(1).to_numpy())   \n",
    "    \n",
    "            df['target_delta_distance'] = np.nan_to_num(distance)\n",
    "            df['target_delta_angle'] = np.nan_to_num(angle)\n",
    "\n",
    "        df['delta_latDeg'] = (df['latDeg'] - df['latDeg'].shift(1)).fillna(0)\n",
    "        df['delta_lngDeg'] = (df['lngDeg'] - df['lngDeg'].shift(1)).fillna(0)\n",
    "\n",
    "        distance, angle = calc_haversine(df['latDeg'].to_numpy(), df['lngDeg'].to_numpy(),\n",
    "                                         df['latDeg'].shift(1).to_numpy(), df['lngDeg'].shift(1).to_numpy())\n",
    "        df['delta_distance'] = np.nan_to_num(distance)\n",
    "        df['delta_angle'] = np.nan_to_num(angle)\n",
    "        output_df = pd.concat([output_df, df])\n",
    "    return output_df.reset_index(drop=True)"
   ]
  },
  {
   "cell_type": "code",
   "execution_count": 21,
   "metadata": {},
   "outputs": [
    {
     "data": {
      "application/vnd.jupyter.widget-view+json": {
       "model_id": "ea6a4be5eff24b38858668af4c407363",
       "version_major": 2,
       "version_minor": 0
      },
      "text/plain": [
       "  0%|          | 0/73 [00:00<?, ?it/s]"
      ]
     },
     "metadata": {},
     "output_type": "display_data"
    },
    {
     "data": {
      "application/vnd.jupyter.widget-view+json": {
       "model_id": "05b44f5c90cd4e95824e5f12f2215ac8",
       "version_major": 2,
       "version_minor": 0
      },
      "text/plain": [
       "  0%|          | 0/48 [00:00<?, ?it/s]"
      ]
     },
     "metadata": {},
     "output_type": "display_data"
    }
   ],
   "source": [
    "train_df = get_delta(train_df, contain_target=True)\n",
    "test_df = get_delta(test_df, contain_target=False)"
   ]
  },
  {
   "cell_type": "code",
   "execution_count": 61,
   "metadata": {},
   "outputs": [
    {
     "name": "stdout",
     "output_type": "stream",
     "text": [
      "2.7810951002400208e-05\n",
      "3.4941622371686424e-05\n",
      "3.611142561440166\n"
     ]
    }
   ],
   "source": [
    "from sklearn.metrics import mean_squared_error\n",
    "print(mean_squared_error(y_true=train_df[\"target_delta_latDeg\"], y_pred=train_df[\"delta_latDeg\"], squared=False))\n",
    "print(mean_squared_error(y_true=train_df[\"target_delta_lngDeg\"], y_pred=train_df[\"delta_lngDeg\"], squared=False))\n",
    "print(mean_squared_error(y_true=train_df[\"target_delta_distance\"], y_pred=train_df[\"delta_distance\"], squared=False))\n",
    "# print(mean_squared_error(y_true=train_df[\"target_delta_angle\"], y_pred=train_df[\"delta_angle\"], mean_squared_error=False))"
   ]
  },
  {
   "cell_type": "code",
   "execution_count": 66,
   "metadata": {},
   "outputs": [
    {
     "ename": "ValueError",
     "evalue": "Mean Squared Logarithmic Error cannot be used when targets contain negative values.",
     "output_type": "error",
     "traceback": [
      "\u001b[0;31m---------------------------------------------------------------------------\u001b[0m",
      "\u001b[0;31mValueError\u001b[0m                                Traceback (most recent call last)",
      "\u001b[0;32m<ipython-input-66-6d23456fc33f>\u001b[0m in \u001b[0;36m<module>\u001b[0;34m\u001b[0m\n\u001b[1;32m      1\u001b[0m \u001b[0;32mfrom\u001b[0m \u001b[0msklearn\u001b[0m\u001b[0;34m.\u001b[0m\u001b[0mmetrics\u001b[0m \u001b[0;32mimport\u001b[0m \u001b[0mmean_squared_log_error\u001b[0m\u001b[0;34m\u001b[0m\u001b[0;34m\u001b[0m\u001b[0m\n\u001b[0;32m----> 2\u001b[0;31m \u001b[0mprint\u001b[0m\u001b[0;34m(\u001b[0m\u001b[0mmean_squared_log_error\u001b[0m\u001b[0;34m(\u001b[0m\u001b[0my_true\u001b[0m\u001b[0;34m=\u001b[0m\u001b[0mtrain_df\u001b[0m\u001b[0;34m[\u001b[0m\u001b[0;34m\"target_delta_latDeg\"\u001b[0m\u001b[0;34m]\u001b[0m\u001b[0;34m,\u001b[0m \u001b[0my_pred\u001b[0m\u001b[0;34m=\u001b[0m\u001b[0mtrain_df\u001b[0m\u001b[0;34m[\u001b[0m\u001b[0;34m\"delta_latDeg\"\u001b[0m\u001b[0;34m]\u001b[0m\u001b[0;34m)\u001b[0m\u001b[0;34m)\u001b[0m\u001b[0;34m\u001b[0m\u001b[0;34m\u001b[0m\u001b[0m\n\u001b[0m\u001b[1;32m      3\u001b[0m \u001b[0mprint\u001b[0m\u001b[0;34m(\u001b[0m\u001b[0mmean_squared_log_error\u001b[0m\u001b[0;34m(\u001b[0m\u001b[0my_true\u001b[0m\u001b[0;34m=\u001b[0m\u001b[0mtrain_df\u001b[0m\u001b[0;34m[\u001b[0m\u001b[0;34m\"target_delta_lngDeg\"\u001b[0m\u001b[0;34m]\u001b[0m\u001b[0;34m,\u001b[0m \u001b[0my_pred\u001b[0m\u001b[0;34m=\u001b[0m\u001b[0mtrain_df\u001b[0m\u001b[0;34m[\u001b[0m\u001b[0;34m\"delta_lngDeg\"\u001b[0m\u001b[0;34m]\u001b[0m\u001b[0;34m)\u001b[0m\u001b[0;34m)\u001b[0m\u001b[0;34m\u001b[0m\u001b[0;34m\u001b[0m\u001b[0m\n\u001b[1;32m      4\u001b[0m \u001b[0mprint\u001b[0m\u001b[0;34m(\u001b[0m\u001b[0mmean_squared_log_error\u001b[0m\u001b[0;34m(\u001b[0m\u001b[0my_true\u001b[0m\u001b[0;34m=\u001b[0m\u001b[0mtrain_df\u001b[0m\u001b[0;34m[\u001b[0m\u001b[0;34m\"target_delta_distance\"\u001b[0m\u001b[0;34m]\u001b[0m\u001b[0;34m,\u001b[0m \u001b[0my_pred\u001b[0m\u001b[0;34m=\u001b[0m\u001b[0mtrain_df\u001b[0m\u001b[0;34m[\u001b[0m\u001b[0;34m\"delta_distance\"\u001b[0m\u001b[0;34m]\u001b[0m\u001b[0;34m)\u001b[0m\u001b[0;34m)\u001b[0m\u001b[0;34m\u001b[0m\u001b[0;34m\u001b[0m\u001b[0m\n\u001b[1;32m      5\u001b[0m \u001b[0;31m# print(mean_squared_error(y_true=train_df[\"target_delta_angle\"], y_pred=train_df[\"delta_angle\"], mean_squared_error=False))\u001b[0m\u001b[0;34m\u001b[0m\u001b[0;34m\u001b[0m\u001b[0;34m\u001b[0m\u001b[0m\n",
      "\u001b[0;32m/usr/local/lib/python3.8/dist-packages/sklearn/utils/validation.py\u001b[0m in \u001b[0;36minner_f\u001b[0;34m(*args, **kwargs)\u001b[0m\n\u001b[1;32m     61\u001b[0m             \u001b[0mextra_args\u001b[0m \u001b[0;34m=\u001b[0m \u001b[0mlen\u001b[0m\u001b[0;34m(\u001b[0m\u001b[0margs\u001b[0m\u001b[0;34m)\u001b[0m \u001b[0;34m-\u001b[0m \u001b[0mlen\u001b[0m\u001b[0;34m(\u001b[0m\u001b[0mall_args\u001b[0m\u001b[0;34m)\u001b[0m\u001b[0;34m\u001b[0m\u001b[0;34m\u001b[0m\u001b[0m\n\u001b[1;32m     62\u001b[0m             \u001b[0;32mif\u001b[0m \u001b[0mextra_args\u001b[0m \u001b[0;34m<=\u001b[0m \u001b[0;36m0\u001b[0m\u001b[0;34m:\u001b[0m\u001b[0;34m\u001b[0m\u001b[0;34m\u001b[0m\u001b[0m\n\u001b[0;32m---> 63\u001b[0;31m                 \u001b[0;32mreturn\u001b[0m \u001b[0mf\u001b[0m\u001b[0;34m(\u001b[0m\u001b[0;34m*\u001b[0m\u001b[0margs\u001b[0m\u001b[0;34m,\u001b[0m \u001b[0;34m**\u001b[0m\u001b[0mkwargs\u001b[0m\u001b[0;34m)\u001b[0m\u001b[0;34m\u001b[0m\u001b[0;34m\u001b[0m\u001b[0m\n\u001b[0m\u001b[1;32m     64\u001b[0m \u001b[0;34m\u001b[0m\u001b[0m\n\u001b[1;32m     65\u001b[0m             \u001b[0;31m# extra_args > 0\u001b[0m\u001b[0;34m\u001b[0m\u001b[0;34m\u001b[0m\u001b[0;34m\u001b[0m\u001b[0m\n",
      "\u001b[0;32m/usr/local/lib/python3.8/dist-packages/sklearn/metrics/_regression.py\u001b[0m in \u001b[0;36mmean_squared_log_error\u001b[0;34m(y_true, y_pred, sample_weight, multioutput)\u001b[0m\n\u001b[1;32m    411\u001b[0m \u001b[0;34m\u001b[0m\u001b[0m\n\u001b[1;32m    412\u001b[0m     \u001b[0;32mif\u001b[0m \u001b[0;34m(\u001b[0m\u001b[0my_true\u001b[0m \u001b[0;34m<\u001b[0m \u001b[0;36m0\u001b[0m\u001b[0;34m)\u001b[0m\u001b[0;34m.\u001b[0m\u001b[0many\u001b[0m\u001b[0;34m(\u001b[0m\u001b[0;34m)\u001b[0m \u001b[0;32mor\u001b[0m \u001b[0;34m(\u001b[0m\u001b[0my_pred\u001b[0m \u001b[0;34m<\u001b[0m \u001b[0;36m0\u001b[0m\u001b[0;34m)\u001b[0m\u001b[0;34m.\u001b[0m\u001b[0many\u001b[0m\u001b[0;34m(\u001b[0m\u001b[0;34m)\u001b[0m\u001b[0;34m:\u001b[0m\u001b[0;34m\u001b[0m\u001b[0;34m\u001b[0m\u001b[0m\n\u001b[0;32m--> 413\u001b[0;31m         raise ValueError(\"Mean Squared Logarithmic Error cannot be used when \"\n\u001b[0m\u001b[1;32m    414\u001b[0m                          \"targets contain negative values.\")\n\u001b[1;32m    415\u001b[0m \u001b[0;34m\u001b[0m\u001b[0m\n",
      "\u001b[0;31mValueError\u001b[0m: Mean Squared Logarithmic Error cannot be used when targets contain negative values."
     ]
    }
   ],
   "source": [
    "from sklearn.metrics import mean_squared_log_error\n",
    "print(mean_squared_log_error(y_true=train_df[\"target_delta_latDeg\"], y_pred=train_df[\"delta_latDeg\"]))\n",
    "print(mean_squared_log_error(y_true=train_df[\"target_delta_lngDeg\"], y_pred=train_df[\"delta_lngDeg\"]))\n",
    "print(mean_squared_log_error(y_true=train_df[\"target_delta_distance\"], y_pred=train_df[\"delta_distance\"]))\n",
    "# print(mean_squared_error(y_true=train_df[\"target_delta_angle\"], y_pred=train_df[\"delta_angle\"], mean_squared_error=False))"
   ]
  },
  {
   "cell_type": "code",
   "execution_count": 25,
   "metadata": {},
   "outputs": [
    {
     "data": {
      "text/plain": [
       "<AxesSubplot:>"
      ]
     },
     "execution_count": 25,
     "metadata": {},
     "output_type": "execute_result"
    },
    {
     "data": {
      "image/png": "[encoded data removed]",
      "text/plain": [
       "<Figure size 432x288 with 1 Axes>"
      ]
     },
     "metadata": {
      "needs_background": "light"
     },
     "output_type": "display_data"
    }
   ],
   "source": [
    "fig = plt.figure()\n",
    "ax = fig.add_subplot()\n",
    "train_df[\"target_delta_distance\"].hist(ax=ax, alpha=0.5)\n",
    "train_df[\"delta_distance\"].hist(ax=ax, alpha=0.5)"
   ]
  },
  {
   "cell_type": "code",
   "execution_count": 24,
   "metadata": {},
   "outputs": [
    {
     "data": {
      "text/plain": [
       "<AxesSubplot:>"
      ]
     },
     "execution_count": 24,
     "metadata": {},
     "output_type": "execute_result"
    },
    {
     "data": {
      "image/png": "[encoded data removed]",
      "text/plain": [
       "<Figure size 432x288 with 1 Axes>"
      ]
     },
     "metadata": {
      "needs_background": "light"
     },
     "output_type": "display_data"
    }
   ],
   "source": [
    "fig = plt.figure()\n",
    "ax = fig.add_subplot()\n",
    "train_df[\"target_delta_angle\"].hist(ax=ax, alpha=0.5)\n",
    "train_df[\"delta_angle\"].hist(ax=ax, alpha=0.5)"
   ]
  },
  {
   "cell_type": "code",
   "execution_count": 26,
   "metadata": {},
   "outputs": [
    {
     "data": {
      "text/html": [
       "<div>\n",
       "<style scoped>\n",
       "    .dataframe tbody tr th:only-of-type {\n",
       "        vertical-align: middle;\n",
       "    }\n",
       "\n",
       "    .dataframe tbody tr th {\n",
       "        vertical-align: top;\n",
       "    }\n",
       "\n",
       "    .dataframe thead th {\n",
       "        text-align: right;\n",
       "    }\n",
       "</style>\n",
       "<table border=\"1\" class=\"dataframe\">\n",
       "  <thead>\n",
       "    <tr style=\"text-align: right;\">\n",
       "      <th></th>\n",
       "      <th>target_delta_angle</th>\n",
       "      <th>delta_angle</th>\n",
       "    </tr>\n",
       "  </thead>\n",
       "  <tbody>\n",
       "    <tr>\n",
       "      <th>0</th>\n",
       "      <td>0.000000</td>\n",
       "      <td>0.000000</td>\n",
       "    </tr>\n",
       "    <tr>\n",
       "      <th>1</th>\n",
       "      <td>-10.008102</td>\n",
       "      <td>-14.036243</td>\n",
       "    </tr>\n",
       "    <tr>\n",
       "      <th>2</th>\n",
       "      <td>-108.103827</td>\n",
       "      <td>23.962489</td>\n",
       "    </tr>\n",
       "    <tr>\n",
       "      <th>3</th>\n",
       "      <td>-97.989318</td>\n",
       "      <td>-42.357455</td>\n",
       "    </tr>\n",
       "    <tr>\n",
       "      <th>4</th>\n",
       "      <td>-80.819484</td>\n",
       "      <td>155.674425</td>\n",
       "    </tr>\n",
       "    <tr>\n",
       "      <th>...</th>\n",
       "      <td>...</td>\n",
       "      <td>...</td>\n",
       "    </tr>\n",
       "    <tr>\n",
       "      <th>131337</th>\n",
       "      <td>-90.000000</td>\n",
       "      <td>-165.033280</td>\n",
       "    </tr>\n",
       "    <tr>\n",
       "      <th>131338</th>\n",
       "      <td>-90.000000</td>\n",
       "      <td>-143.627353</td>\n",
       "    </tr>\n",
       "    <tr>\n",
       "      <th>131339</th>\n",
       "      <td>-46.735758</td>\n",
       "      <td>-53.615648</td>\n",
       "    </tr>\n",
       "    <tr>\n",
       "      <th>131340</th>\n",
       "      <td>94.358216</td>\n",
       "      <td>-165.196020</td>\n",
       "    </tr>\n",
       "    <tr>\n",
       "      <th>131341</th>\n",
       "      <td>90.000000</td>\n",
       "      <td>142.989327</td>\n",
       "    </tr>\n",
       "  </tbody>\n",
       "</table>\n",
       "<p>131342 rows × 2 columns</p>\n",
       "</div>"
      ],
      "text/plain": [
       "        target_delta_angle  delta_angle\n",
       "0                 0.000000     0.000000\n",
       "1               -10.008102   -14.036243\n",
       "2              -108.103827    23.962489\n",
       "3               -97.989318   -42.357455\n",
       "4               -80.819484   155.674425\n",
       "...                    ...          ...\n",
       "131337          -90.000000  -165.033280\n",
       "131338          -90.000000  -143.627353\n",
       "131339          -46.735758   -53.615648\n",
       "131340           94.358216  -165.196020\n",
       "131341           90.000000   142.989327\n",
       "\n",
       "[131342 rows x 2 columns]"
      ]
     },
     "execution_count": 26,
     "metadata": {},
     "output_type": "execute_result"
    }
   ],
   "source": [
    "train_df[['target_delta_angle','delta_angle']]"
   ]
  },
  {
   "cell_type": "code",
   "execution_count": 27,
   "metadata": {},
   "outputs": [
    {
     "data": {
      "text/plain": [
       "32.0923381988382"
      ]
     },
     "execution_count": 27,
     "metadata": {},
     "output_type": "execute_result"
    }
   ],
   "source": [
    "(train_df[\"target_delta_angle\"].dropna() - train_df[\"delta_angle\"].dropna()).abs().mean()"
   ]
  },
  {
   "cell_type": "code",
   "execution_count": 28,
   "metadata": {},
   "outputs": [],
   "source": [
    "train_imu_df = utils.from_pickle(root_dir / 'imu_dataset_v3/train.pkl')\n",
    "test_imu_df = utils.from_pickle(root_dir / 'imu_dataset_v3/test.pkl')"
   ]
  },
  {
   "cell_type": "code",
   "execution_count": 29,
   "metadata": {},
   "outputs": [],
   "source": [
    "assert train_df.shape[0]==train_imu_df.shape[0]\n",
    "assert test_df.shape[0]==test_imu_df.shape[0]"
   ]
  },
  {
   "cell_type": "code",
   "execution_count": 30,
   "metadata": {},
   "outputs": [],
   "source": [
    "# 現時点でのdeltaを特徴量として追加するのは良いかも\n",
    "train_df = train_df[['collectionName', 'phoneName', 'millisSinceGpsEpoch', 'delta_latDeg', 'delta_lngDeg', 'delta_distance', 'target_delta_latDeg', 'target_delta_lngDeg', 'target_delta_distance']]\n",
    "test_df = test_df[['collectionName', 'phoneName', 'millisSinceGpsEpoch']]"
   ]
  },
  {
   "cell_type": "code",
   "execution_count": 31,
   "metadata": {},
   "outputs": [],
   "source": [
    "train_df = train_df.merge(train_imu_df, on=['collectionName', 'phoneName', 'millisSinceGpsEpoch'])\n",
    "test_df = train_df.merge(test_imu_df, on=['collectionName', 'phoneName', 'millisSinceGpsEpoch'])"
   ]
  },
  {
   "cell_type": "markdown",
   "metadata": {},
   "source": [
    "## preprocessing"
   ]
  },
  {
   "cell_type": "code",
   "execution_count": 32,
   "metadata": {},
   "outputs": [],
   "source": [
    "whole_df = pd.concat([train_df, test_df]).reset_index(drop=True)\n",
    "collection_size = whole_df['collectionName'].nunique()\n",
    "phone_size = whole_df['phoneName'].nunique()\n",
    "\n",
    "le_co = LabelEncoder()\n",
    "le_co.fit(whole_df['collectionName'])\n",
    "le_ph = LabelEncoder()\n",
    "le_ph.fit(whole_df['phoneName'])\n",
    "\n",
    "\n",
    "def preprocess(input_df, le1=le_co, le2=le_ph):\n",
    "    output_df = input_df.copy()\n",
    "    \n",
    "    # LE\n",
    "    output_df['le_collectionName'] = le1.transform(input_df['collectionName'])\n",
    "    output_df['le_phoneName'] = le2.transform(input_df['phoneName'])\n",
    "    return output_df\n",
    "\n",
    "train_df = preprocess(train_df)\n",
    "test_df = preprocess(test_df)"
   ]
  },
  {
   "cell_type": "markdown",
   "metadata": {},
   "source": [
    "## model"
   ]
  },
  {
   "cell_type": "code",
   "execution_count": 49,
   "metadata": {},
   "outputs": [],
   "source": [
    "\n",
    "params = {\n",
    "    # 目的関数. これの意味で最小となるようなパラメータを探します. \n",
    "    'objective': 'rmse', \n",
    "    'metric':'rmse',\n",
    "\n",
    "     # 学習率. 小さいほどなめらかな決定境界が作られて性能向上に繋がる場合が多いです、\n",
    "    # がそれだけ木を作るため学習に時間がかかります\n",
    "    'learning_rate': .01,\n",
    "\n",
    "    # L2 Reguralization\n",
    "    'reg_lambda': 1.,\n",
    "    # こちらは L1 \n",
    "    'reg_alpha': .1,\n",
    "\n",
    "    # 木の深さ. 深い木を許容するほどより複雑な交互作用を考慮するようになります\n",
    "    'max_depth': 5, \n",
    "\n",
    "    # 木の最大数. early_stopping という枠組みで木の数は制御されるようにしていますのでとても大きい値を指定しておきます.\n",
    "    'n_estimators': 10000, \n",
    "\n",
    "    # 木を作る際に考慮する特徴量の割合. 1以下を指定すると特徴をランダムに欠落させます。小さくすることで, まんべんなく特徴を使うという効果があります.\n",
    "    'colsample_bytree': .5,\n",
    "\n",
    "    # 最小分割でのデータ数. 小さいとより細かい粒度の分割方法を許容します.\n",
    "    'min_child_samples': 10,\n",
    "\n",
    "    # bagging の頻度と割合\n",
    "    'subsample_freq': 3,\n",
    "    'subsample': .9,\n",
    "\n",
    "    # 特徴重要度計算のロジック(後述)\n",
    "    'importance_type': 'gain', \n",
    "    'random_state': 71,\n",
    "}"
   ]
  },
  {
   "cell_type": "code",
   "execution_count": 50,
   "metadata": {},
   "outputs": [],
   "source": [
    "# os.makedirs(f'../../model/{EXP_NAME}', exist_ok=True)"
   ]
  },
  {
   "cell_type": "markdown",
   "metadata": {},
   "source": [
    "## train"
   ]
  },
  {
   "cell_type": "code",
   "execution_count": 51,
   "metadata": {},
   "outputs": [],
   "source": [
    "\n",
    "import lightgbm as lgbm\n",
    "from sklearn.multioutput import MultiOutputRegressor\n",
    "from sklearn.metrics import mean_squared_error\n",
    "from wandb.lightgbm import wandb_callback\n",
    "\n",
    "def fit_lgbm(X, \n",
    "             y, \n",
    "             params: dict=None, \n",
    "             verbose: int=50):\n",
    "    \"\"\"lightGBM を CrossValidation の枠組みで学習を行なう function\"\"\"\n",
    "    # パラメータがないときは、空の dict で置き換える\n",
    "    if params is None:\n",
    "        params = {}\n",
    "\n",
    "    oofs = []  # 全てのoofをdfで格納する\n",
    "    predictions = []  # 全ての予測値をdfで格納する\n",
    "    val_scores = []\n",
    "\n",
    "    skf = model_selection.StratifiedKFold(n_splits=N_SPLITS, shuffle=True, random_state=SEED)\n",
    "    train_fold = [(trn_idx, val_idx) for trn_idx, val_idx in skf.split(X, X['le_collectionName'])]\n",
    "    for fold in range(5):\n",
    "        # 指定したfoldのみループを回す\n",
    "        if fold not in USE_FOLDS:\n",
    "            continue\n",
    "\n",
    "        print('=' * 20)\n",
    "        print(f'Fold {fold}')\n",
    "        print('=' * 20)\n",
    "\n",
    "\n",
    "        # training data の target と同じだけのゼロ配列を用意\n",
    "        oof_pred = np.zeros_like(y, dtype=np.float)\n",
    "\n",
    "        # train/valid data\n",
    "        trn_idx_for_train, val_idx_for_train = train_fold[fold]\n",
    "        x_train = X.loc[trn_idx_for_train, :].reset_index(drop=True)\n",
    "        x_valid = X.loc[val_idx_for_train, :].reset_index(drop=True)\n",
    "        y_train = y.loc[trn_idx_for_train].reset_index(drop=True)\n",
    "        y_valid = y.loc[val_idx_for_train].reset_index(drop=True)\n",
    "        \n",
    "        # clf = MultiOutputRegressor(lgbm.LGBMRegressor(**params))\n",
    "        clf = lgbm.LGBMRegressor(**params)\n",
    "\n",
    "        # loggers\n",
    "        RUN_NAME = EXP_NAME + \"_\" + EXP_MESSAGE\n",
    "        wandb.init(project='outdoor', entity='kuto5046', group=RUN_NAME)\n",
    "        wandb.run.name = RUN_NAME + f'-fold-{fold}'\n",
    "        wandb_config = wandb.config\n",
    "        wandb_config['model_name'] = \"lightGBM\"\n",
    "        wandb_config['comment'] = NOTES\n",
    "        # wandb.watch(clf)\n",
    "        \n",
    "        with utils.Timer(prefix='fit fold={} '.format(fold)):\n",
    "            clf.fit(x_train, y_train,\n",
    "                    eval_set=[(x_valid, y_valid)],  \n",
    "                    early_stopping_rounds=100,\n",
    "                    verbose=verbose,\n",
    "                    callbacks=[wandb_callback()])\n",
    "\n",
    "        pred_i = clf.predict(x_valid)\n",
    "        oof_pred[val_idx_for_train] = pred_i\n",
    "\n",
    "\n",
    "        # models.append(clf)\n",
    "        score = mean_squared_error(y_valid, pred_i) ** .5\n",
    "        val_scores.append(score)\n",
    "        print(f'Fold {fold} MSE: {score:.4f}')\n",
    "\n",
    "        if fold!=4:\n",
    "            wandb.finish()\n",
    "    \n",
    "    all_score = mean_squared_error(y, oof_pred) ** .5\n",
    "    print('-' * 50)\n",
    "    print('FINISHED | Whole MSE: {:.4f}'.format(all_score))\n",
    "    features = x_train.columns.values\n",
    "    return oof_pred"
   ]
  },
  {
   "cell_type": "code",
   "execution_count": 52,
   "metadata": {},
   "outputs": [
    {
     "name": "stdout",
     "output_type": "stream",
     "text": [
      "====================\n",
      "Fold 0\n",
      "====================\n"
     ]
    },
    {
     "data": {
      "text/html": [
       "Finishing last run (ID:2qbaqwti) before initializing another..."
      ],
      "text/plain": [
       "<IPython.core.display.HTML object>"
      ]
     },
     "metadata": {},
     "output_type": "display_data"
    },
    {
     "data": {
      "text/html": [
       "<br/>Waiting for W&B process to finish, PID 45024<br/>Program ended successfully."
      ],
      "text/plain": [
       "<IPython.core.display.HTML object>"
      ]
     },
     "metadata": {},
     "output_type": "display_data"
    },
    {
     "data": {
      "application/vnd.jupyter.widget-view+json": {
       "model_id": "5648b954a857436ca584228541936e4b",
       "version_major": 2,
       "version_minor": 0
      },
      "text/plain": [
       "VBox(children=(Label(value=' 0.00MB of 0.00MB uploaded (0.00MB deduped)\\r'), FloatProgress(value=1.0, max=1.0)…"
      ]
     },
     "metadata": {},
     "output_type": "display_data"
    },
    {
     "data": {
      "text/html": [
       "Find user logs for this run at: <code>/home/user/work/exp/exp008/wandb/run-20210602_211602-2qbaqwti/logs/debug.log</code>"
      ],
      "text/plain": [
       "<IPython.core.display.HTML object>"
      ]
     },
     "metadata": {},
     "output_type": "display_data"
    },
    {
     "data": {
      "text/html": [
       "Find internal logs for this run at: <code>/home/user/work/exp/exp008/wandb/run-20210602_211602-2qbaqwti/logs/debug-internal.log</code>"
      ],
      "text/plain": [
       "<IPython.core.display.HTML object>"
      ]
     },
     "metadata": {},
     "output_type": "display_data"
    },
    {
     "data": {
      "text/html": [
       "<h3>Run summary:</h3><br/><style>\n",
       "    table.wandb td:nth-child(1) { padding: 0 10px; text-align: right }\n",
       "    </style><table class=\"wandb\">\n",
       "<tr><td>valid_0_l2</td><td>0.0</td></tr><tr><td>_runtime</td><td>17</td></tr><tr><td>_timestamp</td><td>1622636179</td></tr><tr><td>_step</td><td>980</td></tr></table>"
      ],
      "text/plain": [
       "<IPython.core.display.HTML object>"
      ]
     },
     "metadata": {},
     "output_type": "display_data"
    },
    {
     "data": {
      "text/html": [
       "<h3>Run history:</h3><br/><style>\n",
       "    table.wandb td:nth-child(1) { padding: 0 10px; text-align: right }\n",
       "    </style><table class=\"wandb\">\n",
       "<tr><td>valid_0_l2</td><td>█▂▁▁▁▁▁▁▁▁▁▁▁▁▁▁▁▁▁▁▁▁▁▁▁▁▁▁▁▁▁▁▁▁▁▁▁▁▁▁</td></tr><tr><td>_runtime</td><td>▁▂▂▂▂▃▃▃▃▃▃▄▄▄▄▄▄▄▅▅▅▅▅▅▆▆▆▆▆▆▇▇▇▇▇▇▇███</td></tr><tr><td>_timestamp</td><td>▁▂▂▂▂▃▃▃▃▃▃▄▄▄▄▄▄▄▅▅▅▅▅▅▆▆▆▆▆▆▇▇▇▇▇▇▇███</td></tr><tr><td>_step</td><td>▁▁▁▂▂▂▂▂▂▃▃▃▃▃▃▄▄▄▄▄▅▅▅▅▅▅▆▆▆▆▆▇▇▇▇▇▇███</td></tr></table><br/>"
      ],
      "text/plain": [
       "<IPython.core.display.HTML object>"
      ]
     },
     "metadata": {},
     "output_type": "display_data"
    },
    {
     "data": {
      "text/html": [
       "Synced 5 W&B file(s), 0 media file(s), 0 artifact file(s) and 0 other file(s)"
      ],
      "text/plain": [
       "<IPython.core.display.HTML object>"
      ]
     },
     "metadata": {},
     "output_type": "display_data"
    },
    {
     "data": {
      "text/html": [
       "\n",
       "                    <br/>Synced <strong style=\"color:#cdcd00\">valiant-resonance-157</strong>: <a href=\"https://wandb.ai/kuto5046/outdoor/runs/2qbaqwti\" target=\"_blank\">https://wandb.ai/kuto5046/outdoor/runs/2qbaqwti</a><br/>\n",
       "                "
      ],
      "text/plain": [
       "<IPython.core.display.HTML object>"
      ]
     },
     "metadata": {},
     "output_type": "display_data"
    },
    {
     "data": {
      "text/html": [
       "...Successfully finished last run (ID:2qbaqwti). Initializing new run:<br/><br/>"
      ],
      "text/plain": [
       "<IPython.core.display.HTML object>"
      ]
     },
     "metadata": {},
     "output_type": "display_data"
    },
    {
     "name": "stderr",
     "output_type": "stream",
     "text": [
      "\u001b[34m\u001b[1mwandb\u001b[0m: wandb version 0.10.31 is available!  To upgrade, please run:\n",
      "\u001b[34m\u001b[1mwandb\u001b[0m:  $ pip install wandb --upgrade\n"
     ]
    },
    {
     "data": {
      "text/html": [
       "\n",
       "                Tracking run with wandb version 0.10.22<br/>\n",
       "                Syncing run <strong style=\"color:#cdcd00\">sage-wood-158</strong> to <a href=\"https://wandb.ai\" target=\"_blank\">Weights & Biases</a> <a href=\"https://docs.wandb.com/integrations/jupyter.html\" target=\"_blank\">(Documentation)</a>.<br/>\n",
       "                Project page: <a href=\"https://wandb.ai/kuto5046/outdoor\" target=\"_blank\">https://wandb.ai/kuto5046/outdoor</a><br/>\n",
       "                Run page: <a href=\"https://wandb.ai/kuto5046/outdoor/runs/y2wp3ccg\" target=\"_blank\">https://wandb.ai/kuto5046/outdoor/runs/y2wp3ccg</a><br/>\n",
       "                Run data is saved locally in <code>/home/user/work/exp/exp008/wandb/run-20210602_213805-y2wp3ccg</code><br/><br/>\n",
       "            "
      ],
      "text/plain": [
       "<IPython.core.display.HTML object>"
      ]
     },
     "metadata": {},
     "output_type": "display_data"
    },
    {
     "name": "stdout",
     "output_type": "stream",
     "text": [
      "[LightGBM] [Warning] Accuracy may be bad since you didn't explicitly set num_leaves OR 2^max_depth > num_leaves. (num_leaves=31).\n",
      "Training until validation scores don't improve for 100 rounds\n",
      "[50]\tvalid_0's rmse: 0.000101535\n",
      "[100]\tvalid_0's rmse: 7.84653e-05\n",
      "[150]\tvalid_0's rmse: 6.30217e-05\n",
      "[200]\tvalid_0's rmse: 5.12949e-05\n",
      "[250]\tvalid_0's rmse: 4.45951e-05\n",
      "[300]\tvalid_0's rmse: 3.97769e-05\n",
      "[350]\tvalid_0's rmse: 3.64896e-05\n",
      "[400]\tvalid_0's rmse: 3.47521e-05\n",
      "[450]\tvalid_0's rmse: 3.35621e-05\n",
      "[500]\tvalid_0's rmse: 3.24121e-05\n",
      "[550]\tvalid_0's rmse: 3.172e-05\n",
      "[600]\tvalid_0's rmse: 3.10167e-05\n",
      "[650]\tvalid_0's rmse: 3.04516e-05\n",
      "[700]\tvalid_0's rmse: 2.99356e-05\n",
      "[750]\tvalid_0's rmse: 2.94234e-05\n",
      "[800]\tvalid_0's rmse: 2.90146e-05\n",
      "[850]\tvalid_0's rmse: 2.87112e-05\n",
      "[900]\tvalid_0's rmse: 2.84205e-05\n",
      "[950]\tvalid_0's rmse: 2.82049e-05\n",
      "[1000]\tvalid_0's rmse: 2.79477e-05\n",
      "[1050]\tvalid_0's rmse: 2.77411e-05\n",
      "[1100]\tvalid_0's rmse: 2.7535e-05\n",
      "[1150]\tvalid_0's rmse: 2.73685e-05\n",
      "[1200]\tvalid_0's rmse: 2.72411e-05\n",
      "[1250]\tvalid_0's rmse: 2.71171e-05\n",
      "[1300]\tvalid_0's rmse: 2.70103e-05\n",
      "[1350]\tvalid_0's rmse: 2.69349e-05\n",
      "[1400]\tvalid_0's rmse: 2.68695e-05\n",
      "[1450]\tvalid_0's rmse: 2.67778e-05\n",
      "[1500]\tvalid_0's rmse: 2.67192e-05\n",
      "[1550]\tvalid_0's rmse: 2.66561e-05\n",
      "[1600]\tvalid_0's rmse: 2.6609e-05\n",
      "[1650]\tvalid_0's rmse: 2.65602e-05\n",
      "[1700]\tvalid_0's rmse: 2.65343e-05\n",
      "[1750]\tvalid_0's rmse: 2.64892e-05\n",
      "[1800]\tvalid_0's rmse: 2.64636e-05\n",
      "[1850]\tvalid_0's rmse: 2.64263e-05\n",
      "[1900]\tvalid_0's rmse: 2.63914e-05\n",
      "[1950]\tvalid_0's rmse: 2.63576e-05\n",
      "[2000]\tvalid_0's rmse: 2.63324e-05\n",
      "[2050]\tvalid_0's rmse: 2.63251e-05\n",
      "[2100]\tvalid_0's rmse: 2.63168e-05\n",
      "[2150]\tvalid_0's rmse: 2.63116e-05\n",
      "[2200]\tvalid_0's rmse: 2.62995e-05\n",
      "[2250]\tvalid_0's rmse: 2.62931e-05\n",
      "[2300]\tvalid_0's rmse: 2.62847e-05\n",
      "[2350]\tvalid_0's rmse: 2.62803e-05\n",
      "[2400]\tvalid_0's rmse: 2.62769e-05\n",
      "[2450]\tvalid_0's rmse: 2.62758e-05\n",
      "[2500]\tvalid_0's rmse: 2.62758e-05\n",
      "Early stopping, best iteration is:\n",
      "[2415]\tvalid_0's rmse: 2.62758e-05\n",
      "fit fold=0  38.062[s]\n",
      "Fold 0 MSE: 0.0000\n"
     ]
    },
    {
     "data": {
      "text/html": [
       "<br/>Waiting for W&B process to finish, PID 59212<br/>Program ended successfully."
      ],
      "text/plain": [
       "<IPython.core.display.HTML object>"
      ]
     },
     "metadata": {},
     "output_type": "display_data"
    },
    {
     "data": {
      "application/vnd.jupyter.widget-view+json": {
       "model_id": "0536cd230b6041f2bc1d57d6ac3b7304",
       "version_major": 2,
       "version_minor": 0
      },
      "text/plain": [
       "VBox(children=(Label(value=' 0.00MB of 0.00MB uploaded (0.00MB deduped)\\r'), FloatProgress(value=1.0, max=1.0)…"
      ]
     },
     "metadata": {},
     "output_type": "display_data"
    },
    {
     "data": {
      "text/html": [
       "Find user logs for this run at: <code>/home/user/work/exp/exp008/wandb/run-20210602_213805-y2wp3ccg/logs/debug.log</code>"
      ],
      "text/plain": [
       "<IPython.core.display.HTML object>"
      ]
     },
     "metadata": {},
     "output_type": "display_data"
    },
    {
     "data": {
      "text/html": [
       "Find internal logs for this run at: <code>/home/user/work/exp/exp008/wandb/run-20210602_213805-y2wp3ccg/logs/debug-internal.log</code>"
      ],
      "text/plain": [
       "<IPython.core.display.HTML object>"
      ]
     },
     "metadata": {},
     "output_type": "display_data"
    },
    {
     "data": {
      "text/html": [
       "<h3>Run summary:</h3><br/><style>\n",
       "    table.wandb td:nth-child(1) { padding: 0 10px; text-align: right }\n",
       "    </style><table class=\"wandb\">\n",
       "<tr><td>valid_0_rmse</td><td>3e-05</td></tr><tr><td>_runtime</td><td>39</td></tr><tr><td>_timestamp</td><td>1622637527</td></tr><tr><td>_step</td><td>2514</td></tr></table>"
      ],
      "text/plain": [
       "<IPython.core.display.HTML object>"
      ]
     },
     "metadata": {},
     "output_type": "display_data"
    },
    {
     "data": {
      "text/html": [
       "<h3>Run history:</h3><br/><style>\n",
       "    table.wandb td:nth-child(1) { padding: 0 10px; text-align: right }\n",
       "    </style><table class=\"wandb\">\n",
       "<tr><td>valid_0_rmse</td><td>█▆▄▃▂▂▂▂▁▁▁▁▁▁▁▁▁▁▁▁▁▁▁▁▁▁▁▁▁▁▁▁▁▁▁▁▁▁▁▁</td></tr><tr><td>_runtime</td><td>▁▁▁▂▂▂▂▂▃▃▃▃▃▄▄▄▄▅▅▅▅▅▅▅▆▆▆▆▆▆▇▇▇▇▇▇████</td></tr><tr><td>_timestamp</td><td>▁▁▁▂▂▂▂▂▃▃▃▃▃▄▄▄▄▅▅▅▅▅▅▅▆▆▆▆▆▆▇▇▇▇▇▇████</td></tr><tr><td>_step</td><td>▁▁▁▁▂▂▂▂▂▃▃▃▃▃▃▄▄▄▄▄▅▅▅▅▅▅▆▆▆▆▆▇▇▇▇▇▇███</td></tr></table><br/>"
      ],
      "text/plain": [
       "<IPython.core.display.HTML object>"
      ]
     },
     "metadata": {},
     "output_type": "display_data"
    },
    {
     "data": {
      "text/html": [
       "Synced 5 W&B file(s), 0 media file(s), 0 artifact file(s) and 0 other file(s)"
      ],
      "text/plain": [
       "<IPython.core.display.HTML object>"
      ]
     },
     "metadata": {},
     "output_type": "display_data"
    },
    {
     "data": {
      "text/html": [
       "\n",
       "                    <br/>Synced <strong style=\"color:#cdcd00\">sage-wood-158</strong>: <a href=\"https://wandb.ai/kuto5046/outdoor/runs/y2wp3ccg\" target=\"_blank\">https://wandb.ai/kuto5046/outdoor/runs/y2wp3ccg</a><br/>\n",
       "                "
      ],
      "text/plain": [
       "<IPython.core.display.HTML object>"
      ]
     },
     "metadata": {},
     "output_type": "display_data"
    },
    {
     "name": "stdout",
     "output_type": "stream",
     "text": [
      "====================\n",
      "Fold 1\n",
      "====================\n"
     ]
    },
    {
     "name": "stderr",
     "output_type": "stream",
     "text": [
      "\u001b[34m\u001b[1mwandb\u001b[0m: wandb version 0.10.31 is available!  To upgrade, please run:\n",
      "\u001b[34m\u001b[1mwandb\u001b[0m:  $ pip install wandb --upgrade\n"
     ]
    },
    {
     "data": {
      "text/html": [
       "\n",
       "                Tracking run with wandb version 0.10.22<br/>\n",
       "                Syncing run <strong style=\"color:#cdcd00\">cerulean-planet-159</strong> to <a href=\"https://wandb.ai\" target=\"_blank\">Weights & Biases</a> <a href=\"https://docs.wandb.com/integrations/jupyter.html\" target=\"_blank\">(Documentation)</a>.<br/>\n",
       "                Project page: <a href=\"https://wandb.ai/kuto5046/outdoor\" target=\"_blank\">https://wandb.ai/kuto5046/outdoor</a><br/>\n",
       "                Run page: <a href=\"https://wandb.ai/kuto5046/outdoor/runs/jmuj58ry\" target=\"_blank\">https://wandb.ai/kuto5046/outdoor/runs/jmuj58ry</a><br/>\n",
       "                Run data is saved locally in <code>/home/user/work/exp/exp008/wandb/run-20210602_213851-jmuj58ry</code><br/><br/>\n",
       "            "
      ],
      "text/plain": [
       "<IPython.core.display.HTML object>"
      ]
     },
     "metadata": {},
     "output_type": "display_data"
    },
    {
     "name": "stdout",
     "output_type": "stream",
     "text": [
      "[LightGBM] [Warning] Accuracy may be bad since you didn't explicitly set num_leaves OR 2^max_depth > num_leaves. (num_leaves=31).\n",
      "Training until validation scores don't improve for 100 rounds\n",
      "[50]\tvalid_0's rmse: 0.000102255\n",
      "[100]\tvalid_0's rmse: 7.93037e-05\n",
      "[150]\tvalid_0's rmse: 6.39978e-05\n",
      "[200]\tvalid_0's rmse: 5.25066e-05\n",
      "[250]\tvalid_0's rmse: 4.59548e-05\n",
      "[300]\tvalid_0's rmse: 4.1324e-05\n",
      "[350]\tvalid_0's rmse: 3.81951e-05\n",
      "[400]\tvalid_0's rmse: 3.65554e-05\n",
      "[450]\tvalid_0's rmse: 3.54285e-05\n",
      "[500]\tvalid_0's rmse: 3.43446e-05\n",
      "[550]\tvalid_0's rmse: 3.37001e-05\n",
      "[600]\tvalid_0's rmse: 3.30497e-05\n",
      "[650]\tvalid_0's rmse: 3.25417e-05\n",
      "[700]\tvalid_0's rmse: 3.20665e-05\n",
      "[750]\tvalid_0's rmse: 3.16254e-05\n",
      "[800]\tvalid_0's rmse: 3.12624e-05\n",
      "[850]\tvalid_0's rmse: 3.09949e-05\n",
      "[900]\tvalid_0's rmse: 3.07412e-05\n",
      "[950]\tvalid_0's rmse: 3.05506e-05\n",
      "[1000]\tvalid_0's rmse: 3.03196e-05\n",
      "[1050]\tvalid_0's rmse: 3.01306e-05\n",
      "[1100]\tvalid_0's rmse: 2.99511e-05\n",
      "[1150]\tvalid_0's rmse: 2.98142e-05\n",
      "[1200]\tvalid_0's rmse: 2.96993e-05\n",
      "[1250]\tvalid_0's rmse: 2.9599e-05\n",
      "[1300]\tvalid_0's rmse: 2.95087e-05\n",
      "[1350]\tvalid_0's rmse: 2.94323e-05\n",
      "[1400]\tvalid_0's rmse: 2.93839e-05\n",
      "[1450]\tvalid_0's rmse: 2.93027e-05\n",
      "[1500]\tvalid_0's rmse: 2.92452e-05\n",
      "[1550]\tvalid_0's rmse: 2.91952e-05\n",
      "[1600]\tvalid_0's rmse: 2.91545e-05\n",
      "[1650]\tvalid_0's rmse: 2.91163e-05\n",
      "[1700]\tvalid_0's rmse: 2.90928e-05\n",
      "[1750]\tvalid_0's rmse: 2.90515e-05\n",
      "[1800]\tvalid_0's rmse: 2.90308e-05\n",
      "[1850]\tvalid_0's rmse: 2.90052e-05\n",
      "[1900]\tvalid_0's rmse: 2.8978e-05\n",
      "[1950]\tvalid_0's rmse: 2.89401e-05\n",
      "[2000]\tvalid_0's rmse: 2.89274e-05\n",
      "[2050]\tvalid_0's rmse: 2.89187e-05\n",
      "[2100]\tvalid_0's rmse: 2.89152e-05\n",
      "[2150]\tvalid_0's rmse: 2.89152e-05\n",
      "Fold 1 MSE: 0.0000\n"
     ]
    },
    {
     "data": {
      "text/html": [
       "<br/>Waiting for W&B process to finish, PID 59718<br/>Program ended successfully."
      ],
      "text/plain": [
       "<IPython.core.display.HTML object>"
      ]
     },
     "metadata": {},
     "output_type": "display_data"
    },
    {
     "data": {
      "application/vnd.jupyter.widget-view+json": {
       "model_id": "01f4257d0bb14053ab88b00857e3881a",
       "version_major": 2,
       "version_minor": 0
      },
      "text/plain": [
       "VBox(children=(Label(value=' 0.00MB of 0.00MB uploaded (0.00MB deduped)\\r'), FloatProgress(value=1.0, max=1.0)…"
      ]
     },
     "metadata": {},
     "output_type": "display_data"
    },
    {
     "data": {
      "text/html": [
       "Find user logs for this run at: <code>/home/user/work/exp/exp008/wandb/run-20210602_213851-jmuj58ry/logs/debug.log</code>"
      ],
      "text/plain": [
       "<IPython.core.display.HTML object>"
      ]
     },
     "metadata": {},
     "output_type": "display_data"
    },
    {
     "data": {
      "text/html": [
       "Find internal logs for this run at: <code>/home/user/work/exp/exp008/wandb/run-20210602_213851-jmuj58ry/logs/debug-internal.log</code>"
      ],
      "text/plain": [
       "<IPython.core.display.HTML object>"
      ]
     },
     "metadata": {},
     "output_type": "display_data"
    },
    {
     "data": {
      "text/html": [
       "<h3>Run summary:</h3><br/><style>\n",
       "    table.wandb td:nth-child(1) { padding: 0 10px; text-align: right }\n",
       "    </style><table class=\"wandb\">\n",
       "<tr><td>valid_0_rmse</td><td>3e-05</td></tr><tr><td>_runtime</td><td>34</td></tr><tr><td>_timestamp</td><td>1622637565</td></tr><tr><td>_step</td><td>2198</td></tr></table>"
      ],
      "text/plain": [
       "<IPython.core.display.HTML object>"
      ]
     },
     "metadata": {},
     "output_type": "display_data"
    },
    {
     "data": {
      "text/html": [
       "<h3>Run history:</h3><br/><style>\n",
       "    table.wandb td:nth-child(1) { padding: 0 10px; text-align: right }\n",
       "    </style><table class=\"wandb\">\n",
       "<tr><td>valid_0_rmse</td><td>█▆▄▃▃▂▂▂▂▁▁▁▁▁▁▁▁▁▁▁▁▁▁▁▁▁▁▁▁▁▁▁▁▁▁▁▁▁▁▁</td></tr><tr><td>_runtime</td><td>▁▁▁▂▂▂▂▃▃▃▃▃▃▄▄▄▄▄▄▅▅▅▅▅▆▆▆▆▆▆▇▇▇▇▇█████</td></tr><tr><td>_timestamp</td><td>▁▁▁▂▂▂▂▃▃▃▃▃▃▄▄▄▄▄▄▅▅▅▅▅▆▆▆▆▆▆▇▇▇▇▇█████</td></tr><tr><td>_step</td><td>▁▁▁▂▂▂▂▂▂▃▃▃▃▃▄▄▄▄▄▄▅▅▅▅▅▅▆▆▆▆▆▇▇▇▇▇▇███</td></tr></table><br/>"
      ],
      "text/plain": [
       "<IPython.core.display.HTML object>"
      ]
     },
     "metadata": {},
     "output_type": "display_data"
    },
    {
     "data": {
      "text/html": [
       "Synced 5 W&B file(s), 0 media file(s), 0 artifact file(s) and 0 other file(s)"
      ],
      "text/plain": [
       "<IPython.core.display.HTML object>"
      ]
     },
     "metadata": {},
     "output_type": "display_data"
    },
    {
     "data": {
      "text/html": [
       "\n",
       "                    <br/>Synced <strong style=\"color:#cdcd00\">cerulean-planet-159</strong>: <a href=\"https://wandb.ai/kuto5046/outdoor/runs/jmuj58ry\" target=\"_blank\">https://wandb.ai/kuto5046/outdoor/runs/jmuj58ry</a><br/>\n",
       "                "
      ],
      "text/plain": [
       "<IPython.core.display.HTML object>"
      ]
     },
     "metadata": {},
     "output_type": "display_data"
    },
    {
     "name": "stdout",
     "output_type": "stream",
     "text": [
      "====================\n",
      "Fold 2\n",
      "====================\n"
     ]
    },
    {
     "name": "stderr",
     "output_type": "stream",
     "text": [
      "\u001b[34m\u001b[1mwandb\u001b[0m: wandb version 0.10.31 is available!  To upgrade, please run:\n",
      "\u001b[34m\u001b[1mwandb\u001b[0m:  $ pip install wandb --upgrade\n"
     ]
    },
    {
     "data": {
      "text/html": [
       "\n",
       "                Tracking run with wandb version 0.10.22<br/>\n",
       "                Syncing run <strong style=\"color:#cdcd00\">effortless-fire-160</strong> to <a href=\"https://wandb.ai\" target=\"_blank\">Weights & Biases</a> <a href=\"https://docs.wandb.com/integrations/jupyter.html\" target=\"_blank\">(Documentation)</a>.<br/>\n",
       "                Project page: <a href=\"https://wandb.ai/kuto5046/outdoor\" target=\"_blank\">https://wandb.ai/kuto5046/outdoor</a><br/>\n",
       "                Run page: <a href=\"https://wandb.ai/kuto5046/outdoor/runs/4edx6blk\" target=\"_blank\">https://wandb.ai/kuto5046/outdoor/runs/4edx6blk</a><br/>\n",
       "                Run data is saved locally in <code>/home/user/work/exp/exp008/wandb/run-20210602_213928-4edx6blk</code><br/><br/>\n",
       "            "
      ],
      "text/plain": [
       "<IPython.core.display.HTML object>"
      ]
     },
     "metadata": {},
     "output_type": "display_data"
    },
    {
     "name": "stdout",
     "output_type": "stream",
     "text": [
      "[LightGBM] [Warning] Accuracy may be bad since you didn't explicitly set num_leaves OR 2^max_depth > num_leaves. (num_leaves=31).\n",
      "Training until validation scores don't improve for 100 rounds\n",
      "[50]\tvalid_0's rmse: 0.000101667\n",
      "[100]\tvalid_0's rmse: 7.86344e-05\n",
      "[150]\tvalid_0's rmse: 6.3167e-05\n",
      "[200]\tvalid_0's rmse: 5.14762e-05\n",
      "[250]\tvalid_0's rmse: 4.47419e-05\n",
      "[300]\tvalid_0's rmse: 3.99583e-05\n",
      "[350]\tvalid_0's rmse: 3.66917e-05\n",
      "[400]\tvalid_0's rmse: 3.4967e-05\n",
      "[450]\tvalid_0's rmse: 3.37834e-05\n",
      "[500]\tvalid_0's rmse: 3.26296e-05\n",
      "[550]\tvalid_0's rmse: 3.19427e-05\n",
      "[600]\tvalid_0's rmse: 3.12521e-05\n",
      "[650]\tvalid_0's rmse: 3.07014e-05\n",
      "[700]\tvalid_0's rmse: 3.0193e-05\n",
      "[750]\tvalid_0's rmse: 2.97332e-05\n",
      "[800]\tvalid_0's rmse: 2.93252e-05\n",
      "[850]\tvalid_0's rmse: 2.90279e-05\n",
      "[900]\tvalid_0's rmse: 2.87522e-05\n",
      "[950]\tvalid_0's rmse: 2.8539e-05\n",
      "[1000]\tvalid_0's rmse: 2.8289e-05\n",
      "[1050]\tvalid_0's rmse: 2.80772e-05\n",
      "[1100]\tvalid_0's rmse: 2.78754e-05\n",
      "[1150]\tvalid_0's rmse: 2.77178e-05\n",
      "[1200]\tvalid_0's rmse: 2.75891e-05\n",
      "[1250]\tvalid_0's rmse: 2.747e-05\n",
      "[1300]\tvalid_0's rmse: 2.73715e-05\n",
      "[1350]\tvalid_0's rmse: 2.72808e-05\n",
      "[1400]\tvalid_0's rmse: 2.72148e-05\n",
      "[1450]\tvalid_0's rmse: 2.71105e-05\n",
      "[1500]\tvalid_0's rmse: 2.70497e-05\n",
      "[1550]\tvalid_0's rmse: 2.70001e-05\n",
      "[1600]\tvalid_0's rmse: 2.69573e-05\n",
      "[1650]\tvalid_0's rmse: 2.69085e-05\n",
      "[1700]\tvalid_0's rmse: 2.68705e-05\n",
      "[1750]\tvalid_0's rmse: 2.68241e-05\n",
      "[1800]\tvalid_0's rmse: 2.67971e-05\n",
      "[1850]\tvalid_0's rmse: 2.67686e-05\n",
      "[1900]\tvalid_0's rmse: 2.67454e-05\n",
      "[1950]\tvalid_0's rmse: 2.67278e-05\n",
      "[2000]\tvalid_0's rmse: 2.66998e-05\n",
      "[2050]\tvalid_0's rmse: 2.66893e-05\n",
      "[2100]\tvalid_0's rmse: 2.66867e-05\n",
      "[2150]\tvalid_0's rmse: 2.66747e-05\n",
      "[2200]\tvalid_0's rmse: 2.66657e-05\n",
      "[2250]\tvalid_0's rmse: 2.66582e-05\n",
      "[2300]\tvalid_0's rmse: 2.66512e-05\n",
      "[2350]\tvalid_0's rmse: 2.66482e-05\n",
      "[2400]\tvalid_0's rmse: 2.66399e-05\n",
      "[2450]\tvalid_0's rmse: 2.66365e-05\n",
      "[2500]\tvalid_0's rmse: 2.66344e-05\n",
      "[2550]\tvalid_0's rmse: 2.66269e-05\n",
      "[2600]\tvalid_0's rmse: 2.66258e-05\n",
      "[2650]\tvalid_0's rmse: 2.66258e-05\n",
      "Fold 2 MSE: 0.0000\n"
     ]
    },
    {
     "data": {
      "text/html": [
       "<br/>Waiting for W&B process to finish, PID 60158<br/>Program ended successfully."
      ],
      "text/plain": [
       "<IPython.core.display.HTML object>"
      ]
     },
     "metadata": {},
     "output_type": "display_data"
    },
    {
     "data": {
      "application/vnd.jupyter.widget-view+json": {
       "model_id": "78b69b0a636c48efbc949a876eb4ee57",
       "version_major": 2,
       "version_minor": 0
      },
      "text/plain": [
       "VBox(children=(Label(value=' 0.00MB of 0.00MB uploaded (0.00MB deduped)\\r'), FloatProgress(value=1.0, max=1.0)…"
      ]
     },
     "metadata": {},
     "output_type": "display_data"
    },
    {
     "data": {
      "text/html": [
       "Find user logs for this run at: <code>/home/user/work/exp/exp008/wandb/run-20210602_213928-4edx6blk/logs/debug.log</code>"
      ],
      "text/plain": [
       "<IPython.core.display.HTML object>"
      ]
     },
     "metadata": {},
     "output_type": "display_data"
    },
    {
     "data": {
      "text/html": [
       "Find internal logs for this run at: <code>/home/user/work/exp/exp008/wandb/run-20210602_213928-4edx6blk/logs/debug-internal.log</code>"
      ],
      "text/plain": [
       "<IPython.core.display.HTML object>"
      ]
     },
     "metadata": {},
     "output_type": "display_data"
    },
    {
     "data": {
      "text/html": [
       "<h3>Run summary:</h3><br/><style>\n",
       "    table.wandb td:nth-child(1) { padding: 0 10px; text-align: right }\n",
       "    </style><table class=\"wandb\">\n",
       "<tr><td>valid_0_rmse</td><td>3e-05</td></tr><tr><td>_runtime</td><td>40</td></tr><tr><td>_timestamp</td><td>1622637609</td></tr><tr><td>_step</td><td>2685</td></tr></table>"
      ],
      "text/plain": [
       "<IPython.core.display.HTML object>"
      ]
     },
     "metadata": {},
     "output_type": "display_data"
    },
    {
     "data": {
      "text/html": [
       "<h3>Run history:</h3><br/><style>\n",
       "    table.wandb td:nth-child(1) { padding: 0 10px; text-align: right }\n",
       "    </style><table class=\"wandb\">\n",
       "<tr><td>valid_0_rmse</td><td>█▅▄▃▂▂▂▂▁▁▁▁▁▁▁▁▁▁▁▁▁▁▁▁▁▁▁▁▁▁▁▁▁▁▁▁▁▁▁▁</td></tr><tr><td>_runtime</td><td>▁▁▂▂▂▂▂▃▃▃▃▃▃▄▄▄▄▄▅▅▅▅▅▅▅▆▆▆▆▆▆▇▇▇▇▇▇███</td></tr><tr><td>_timestamp</td><td>▁▁▂▂▂▂▂▃▃▃▃▃▃▄▄▄▄▄▅▅▅▅▅▅▅▆▆▆▆▆▆▇▇▇▇▇▇███</td></tr><tr><td>_step</td><td>▁▁▁▂▂▂▂▂▂▃▃▃▃▃▃▄▄▄▄▄▅▅▅▅▅▅▆▆▆▆▆▇▇▇▇▇▇███</td></tr></table><br/>"
      ],
      "text/plain": [
       "<IPython.core.display.HTML object>"
      ]
     },
     "metadata": {},
     "output_type": "display_data"
    },
    {
     "data": {
      "text/html": [
       "Synced 5 W&B file(s), 0 media file(s), 0 artifact file(s) and 0 other file(s)"
      ],
      "text/plain": [
       "<IPython.core.display.HTML object>"
      ]
     },
     "metadata": {},
     "output_type": "display_data"
    },
    {
     "data": {
      "text/html": [
       "\n",
       "                    <br/>Synced <strong style=\"color:#cdcd00\">effortless-fire-160</strong>: <a href=\"https://wandb.ai/kuto5046/outdoor/runs/4edx6blk\" target=\"_blank\">https://wandb.ai/kuto5046/outdoor/runs/4edx6blk</a><br/>\n",
       "                "
      ],
      "text/plain": [
       "<IPython.core.display.HTML object>"
      ]
     },
     "metadata": {},
     "output_type": "display_data"
    },
    {
     "name": "stdout",
     "output_type": "stream",
     "text": [
      "====================\n",
      "Fold 3\n",
      "====================\n"
     ]
    },
    {
     "name": "stderr",
     "output_type": "stream",
     "text": [
      "\u001b[34m\u001b[1mwandb\u001b[0m: wandb version 0.10.31 is available!  To upgrade, please run:\n",
      "\u001b[34m\u001b[1mwandb\u001b[0m:  $ pip install wandb --upgrade\n"
     ]
    },
    {
     "data": {
      "text/html": [
       "\n",
       "                Tracking run with wandb version 0.10.22<br/>\n",
       "                Syncing run <strong style=\"color:#cdcd00\">vibrant-serenity-161</strong> to <a href=\"https://wandb.ai\" target=\"_blank\">Weights & Biases</a> <a href=\"https://docs.wandb.com/integrations/jupyter.html\" target=\"_blank\">(Documentation)</a>.<br/>\n",
       "                Project page: <a href=\"https://wandb.ai/kuto5046/outdoor\" target=\"_blank\">https://wandb.ai/kuto5046/outdoor</a><br/>\n",
       "                Run page: <a href=\"https://wandb.ai/kuto5046/outdoor/runs/1wk8y01u\" target=\"_blank\">https://wandb.ai/kuto5046/outdoor/runs/1wk8y01u</a><br/>\n",
       "                Run data is saved locally in <code>/home/user/work/exp/exp008/wandb/run-20210602_214013-1wk8y01u</code><br/><br/>\n",
       "            "
      ],
      "text/plain": [
       "<IPython.core.display.HTML object>"
      ]
     },
     "metadata": {},
     "output_type": "display_data"
    },
    {
     "name": "stdout",
     "output_type": "stream",
     "text": [
      "[LightGBM] [Warning] Accuracy may be bad since you didn't explicitly set num_leaves OR 2^max_depth > num_leaves. (num_leaves=31).\n",
      "Training until validation scores don't improve for 100 rounds\n",
      "[50]\tvalid_0's rmse: 0.000103266\n",
      "[100]\tvalid_0's rmse: 8.07304e-05\n",
      "[150]\tvalid_0's rmse: 6.58181e-05\n",
      "[200]\tvalid_0's rmse: 5.46437e-05\n",
      "[250]\tvalid_0's rmse: 4.83782e-05\n",
      "[300]\tvalid_0's rmse: 4.39872e-05\n",
      "[350]\tvalid_0's rmse: 4.10269e-05\n",
      "[400]\tvalid_0's rmse: 3.94876e-05\n",
      "[450]\tvalid_0's rmse: 3.84457e-05\n",
      "[500]\tvalid_0's rmse: 3.74401e-05\n",
      "[550]\tvalid_0's rmse: 3.68306e-05\n",
      "[600]\tvalid_0's rmse: 3.62403e-05\n",
      "[650]\tvalid_0's rmse: 3.57752e-05\n",
      "[700]\tvalid_0's rmse: 3.53402e-05\n",
      "[750]\tvalid_0's rmse: 3.49205e-05\n",
      "[800]\tvalid_0's rmse: 3.45797e-05\n",
      "[850]\tvalid_0's rmse: 3.43132e-05\n",
      "[900]\tvalid_0's rmse: 3.40728e-05\n",
      "[950]\tvalid_0's rmse: 3.38873e-05\n",
      "[1000]\tvalid_0's rmse: 3.36823e-05\n",
      "[1050]\tvalid_0's rmse: 3.35133e-05\n",
      "[1100]\tvalid_0's rmse: 3.33505e-05\n",
      "[1150]\tvalid_0's rmse: 3.32116e-05\n",
      "[1200]\tvalid_0's rmse: 3.31107e-05\n",
      "[1250]\tvalid_0's rmse: 3.30021e-05\n",
      "[1300]\tvalid_0's rmse: 3.29171e-05\n",
      "[1350]\tvalid_0's rmse: 3.28463e-05\n",
      "[1400]\tvalid_0's rmse: 3.27971e-05\n",
      "[1450]\tvalid_0's rmse: 3.2715e-05\n",
      "[1500]\tvalid_0's rmse: 3.26635e-05\n",
      "[1550]\tvalid_0's rmse: 3.26156e-05\n",
      "[1600]\tvalid_0's rmse: 3.2583e-05\n",
      "[1650]\tvalid_0's rmse: 3.25462e-05\n",
      "[1700]\tvalid_0's rmse: 3.25137e-05\n",
      "[1750]\tvalid_0's rmse: 3.24763e-05\n",
      "[1800]\tvalid_0's rmse: 3.24551e-05\n",
      "[1850]\tvalid_0's rmse: 3.24339e-05\n",
      "[1900]\tvalid_0's rmse: 3.24155e-05\n",
      "[1950]\tvalid_0's rmse: 3.23859e-05\n",
      "[2000]\tvalid_0's rmse: 3.23719e-05\n",
      "[2050]\tvalid_0's rmse: 3.23549e-05\n",
      "[2100]\tvalid_0's rmse: 3.23493e-05\n",
      "[2150]\tvalid_0's rmse: 3.23388e-05\n",
      "[2200]\tvalid_0's rmse: 3.23331e-05\n",
      "[2250]\tvalid_0's rmse: 3.23308e-05\n",
      "[2300]\tvalid_0's rmse: 3.23285e-05\n",
      "[2350]\tvalid_0's rmse: 3.2324e-05\n",
      "[2400]\tvalid_0's rmse: 3.23211e-05\n",
      "[2450]\tvalid_0's rmse: 3.23187e-05\n",
      "[2500]\tvalid_0's rmse: 3.23184e-05\n",
      "[2550]\tvalid_0's rmse: 3.23167e-05\n",
      "[2600]\tvalid_0's rmse: 3.23154e-05\n",
      "[2650]\tvalid_0's rmse: 3.23153e-05\n",
      "[2700]\tvalid_0's rmse: 3.2315e-05\n",
      "[2750]\tvalid_0's rmse: 3.23134e-05\n",
      "[2800]\tvalid_0's rmse: 3.23103e-05\n",
      "[2850]\tvalid_0's rmse: 3.2309e-05\n",
      "[2900]\tvalid_0's rmse: 3.23074e-05\n",
      "[2950]\tvalid_0's rmse: 3.23042e-05\n",
      "[3000]\tvalid_0's rmse: 3.23036e-05\n",
      "[3050]\tvalid_0's rmse: 3.23015e-05\n",
      "[3100]\tvalid_0's rmse: 3.23012e-05\n",
      "[3150]\tvalid_0's rmse: 3.23008e-05\n",
      "[3200]\tvalid_0's rmse: 3.23005e-05\n",
      "[3250]\tvalid_0's rmse: 3.23002e-05\n",
      "[3300]\tvalid_0's rmse: 3.23e-05\n",
      "[3350]\tvalid_0's rmse: 3.22998e-05\n",
      "[3400]\tvalid_0's rmse: 3.22976e-05\n",
      "[3450]\tvalid_0's rmse: 3.22964e-05\n",
      "[3500]\tvalid_0's rmse: 3.22962e-05\n",
      "[3550]\tvalid_0's rmse: 3.22961e-05\n",
      "[3600]\tvalid_0's rmse: 3.22917e-05\n",
      "[3650]\tvalid_0's rmse: 3.22914e-05\n",
      "[3700]\tvalid_0's rmse: 3.22901e-05\n",
      "[3750]\tvalid_0's rmse: 3.22901e-05\n",
      "[3800]\tvalid_0's rmse: 3.22899e-05\n",
      "[3850]\tvalid_0's rmse: 3.2286e-05\n",
      "[3900]\tvalid_0's rmse: 3.22859e-05\n",
      "[3950]\tvalid_0's rmse: 3.22857e-05\n",
      "[4000]\tvalid_0's rmse: 3.22855e-05\n",
      "[4050]\tvalid_0's rmse: 3.22853e-05\n",
      "[4100]\tvalid_0's rmse: 3.22852e-05\n",
      "[4150]\tvalid_0's rmse: 3.22851e-05\n",
      "[4200]\tvalid_0's rmse: 3.22806e-05\n",
      "[4250]\tvalid_0's rmse: 3.22805e-05\n",
      "[4300]\tvalid_0's rmse: 3.22803e-05\n",
      "[4350]\tvalid_0's rmse: 3.22802e-05\n",
      "[4400]\tvalid_0's rmse: 3.22787e-05\n",
      "[4450]\tvalid_0's rmse: 3.22786e-05\n",
      "[4500]\tvalid_0's rmse: 3.22772e-05\n",
      "[4550]\tvalid_0's rmse: 3.2277e-05\n",
      "[4600]\tvalid_0's rmse: 3.22768e-05\n",
      "[4650]\tvalid_0's rmse: 3.22766e-05\n",
      "[4700]\tvalid_0's rmse: 3.22764e-05\n",
      "[4750]\tvalid_0's rmse: 3.22763e-05\n",
      "[4800]\tvalid_0's rmse: 3.22762e-05\n",
      "[4850]\tvalid_0's rmse: 3.22761e-05\n",
      "[4900]\tvalid_0's rmse: 3.22761e-05\n",
      "[4950]\tvalid_0's rmse: 3.22735e-05\n",
      "[5000]\tvalid_0's rmse: 3.22735e-05\n",
      "[5050]\tvalid_0's rmse: 3.22733e-05\n",
      "[5100]\tvalid_0's rmse: 3.2273e-05\n",
      "[5150]\tvalid_0's rmse: 3.22728e-05\n",
      "[5200]\tvalid_0's rmse: 3.22727e-05\n",
      "[5250]\tvalid_0's rmse: 3.22727e-05\n",
      "[5300]\tvalid_0's rmse: 3.22725e-05\n",
      "[5350]\tvalid_0's rmse: 3.22716e-05\n",
      "[5400]\tvalid_0's rmse: 3.22715e-05\n",
      "[5450]\tvalid_0's rmse: 3.22714e-05\n",
      "[5500]\tvalid_0's rmse: 3.22714e-05\n",
      "[5550]\tvalid_0's rmse: 3.22713e-05\n",
      "[5600]\tvalid_0's rmse: 3.22711e-05\n",
      "[5650]\tvalid_0's rmse: 3.2271e-05\n",
      "[5700]\tvalid_0's rmse: 3.22709e-05\n",
      "[5750]\tvalid_0's rmse: 3.22708e-05\n",
      "[5800]\tvalid_0's rmse: 3.22708e-05\n",
      "[5850]\tvalid_0's rmse: 3.22707e-05\n",
      "[5900]\tvalid_0's rmse: 3.22682e-05\n",
      "[5950]\tvalid_0's rmse: 3.22681e-05\n",
      "[6000]\tvalid_0's rmse: 3.2268e-05\n",
      "[6050]\tvalid_0's rmse: 3.2268e-05\n",
      "[6100]\tvalid_0's rmse: 3.22678e-05\n",
      "[6150]\tvalid_0's rmse: 3.22677e-05\n",
      "[6200]\tvalid_0's rmse: 3.22676e-05\n",
      "[6250]\tvalid_0's rmse: 3.22673e-05\n",
      "[6300]\tvalid_0's rmse: 3.22672e-05\n",
      "[6350]\tvalid_0's rmse: 3.22672e-05\n",
      "[6400]\tvalid_0's rmse: 3.2267e-05\n",
      "[6450]\tvalid_0's rmse: 3.2267e-05\n",
      "[6500]\tvalid_0's rmse: 3.22669e-05\n",
      "[6550]\tvalid_0's rmse: 3.22669e-05\n",
      "[6600]\tvalid_0's rmse: 3.22669e-05\n",
      "[6650]\tvalid_0's rmse: 3.22656e-05\n",
      "[6700]\tvalid_0's rmse: 3.22655e-05\n",
      "[6750]\tvalid_0's rmse: 3.22654e-05\n",
      "[6800]\tvalid_0's rmse: 3.22654e-05\n",
      "[6850]\tvalid_0's rmse: 3.22653e-05\n",
      "[6900]\tvalid_0's rmse: 3.22653e-05\n",
      "[6950]\tvalid_0's rmse: 3.22653e-05\n",
      "[7000]\tvalid_0's rmse: 3.22651e-05\n",
      "[7050]\tvalid_0's rmse: 3.22642e-05\n",
      "[7100]\tvalid_0's rmse: 3.22641e-05\n",
      "[7150]\tvalid_0's rmse: 3.22641e-05\n",
      "[7200]\tvalid_0's rmse: 3.22633e-05\n",
      "[7250]\tvalid_0's rmse: 3.22633e-05\n",
      "[7300]\tvalid_0's rmse: 3.22623e-05\n",
      "[7350]\tvalid_0's rmse: 3.2262e-05\n",
      "[7400]\tvalid_0's rmse: 3.22619e-05\n",
      "[7450]\tvalid_0's rmse: 3.22618e-05\n",
      "[7500]\tvalid_0's rmse: 3.22612e-05\n",
      "[7550]\tvalid_0's rmse: 3.2261e-05\n",
      "[7600]\tvalid_0's rmse: 3.22609e-05\n",
      "[7650]\tvalid_0's rmse: 3.22609e-05\n",
      "[7700]\tvalid_0's rmse: 3.22608e-05\n",
      "[7750]\tvalid_0's rmse: 3.22606e-05\n",
      "[7800]\tvalid_0's rmse: 3.22606e-05\n",
      "[7850]\tvalid_0's rmse: 3.22605e-05\n",
      "[7900]\tvalid_0's rmse: 3.22604e-05\n",
      "[7950]\tvalid_0's rmse: 3.22603e-05\n",
      "[8000]\tvalid_0's rmse: 3.22603e-05\n",
      "[8050]\tvalid_0's rmse: 3.22603e-05\n",
      "[8100]\tvalid_0's rmse: 3.22602e-05\n",
      "[8150]\tvalid_0's rmse: 3.22601e-05\n",
      "[8200]\tvalid_0's rmse: 3.22601e-05\n",
      "[8250]\tvalid_0's rmse: 3.22601e-05\n",
      "[8300]\tvalid_0's rmse: 3.226e-05\n",
      "[8350]\tvalid_0's rmse: 3.22599e-05\n",
      "[8400]\tvalid_0's rmse: 3.22598e-05\n",
      "[8450]\tvalid_0's rmse: 3.22598e-05\n",
      "[8500]\tvalid_0's rmse: 3.22597e-05\n",
      "[8550]\tvalid_0's rmse: 3.22597e-05\n",
      "[8600]\tvalid_0's rmse: 3.22596e-05\n",
      "[8650]\tvalid_0's rmse: 3.22596e-05\n",
      "[8700]\tvalid_0's rmse: 3.22596e-05\n",
      "[8750]\tvalid_0's rmse: 3.22595e-05\n",
      "[8800]\tvalid_0's rmse: 3.22595e-05\n",
      "[8850]\tvalid_0's rmse: 3.22594e-05\n",
      "[8900]\tvalid_0's rmse: 3.22594e-05\n",
      "[8950]\tvalid_0's rmse: 3.2259e-05\n",
      "[9000]\tvalid_0's rmse: 3.22589e-05\n",
      "[9050]\tvalid_0's rmse: 3.22589e-05\n",
      "[9100]\tvalid_0's rmse: 3.22588e-05\n",
      "[9150]\tvalid_0's rmse: 3.22588e-05\n",
      "[9200]\tvalid_0's rmse: 3.22587e-05\n",
      "[9250]\tvalid_0's rmse: 3.22586e-05\n",
      "[9300]\tvalid_0's rmse: 3.22585e-05\n",
      "[9350]\tvalid_0's rmse: 3.22585e-05\n",
      "[9400]\tvalid_0's rmse: 3.2258e-05\n",
      "[9450]\tvalid_0's rmse: 3.2258e-05\n",
      "[9500]\tvalid_0's rmse: 3.22578e-05\n",
      "[9550]\tvalid_0's rmse: 3.2257e-05\n",
      "[9600]\tvalid_0's rmse: 3.22569e-05\n",
      "[9650]\tvalid_0's rmse: 3.22568e-05\n",
      "[9700]\tvalid_0's rmse: 3.22568e-05\n",
      "[9750]\tvalid_0's rmse: 3.22566e-05\n",
      "[9800]\tvalid_0's rmse: 3.22566e-05\n",
      "[9850]\tvalid_0's rmse: 3.22565e-05\n",
      "[9900]\tvalid_0's rmse: 3.22564e-05\n",
      "[9950]\tvalid_0's rmse: 3.22564e-05\n",
      "[10000]\tvalid_0's rmse: 3.22562e-05\n",
      "Did not meet early stopping. Best iteration is:\n",
      "[10000]\tvalid_0's rmse: 3.22562e-05\n",
      "fit fold=3  129.062[s]\n",
      "Fold 3 MSE: 0.0000\n"
     ]
    },
    {
     "data": {
      "text/html": [
       "<br/>Waiting for W&B process to finish, PID 60660<br/>Program ended successfully."
      ],
      "text/plain": [
       "<IPython.core.display.HTML object>"
      ]
     },
     "metadata": {},
     "output_type": "display_data"
    },
    {
     "data": {
      "application/vnd.jupyter.widget-view+json": {
       "model_id": "2eac5328e11d4205996d912ed87eb028",
       "version_major": 2,
       "version_minor": 0
      },
      "text/plain": [
       "VBox(children=(Label(value=' 0.00MB of 0.00MB uploaded (0.00MB deduped)\\r'), FloatProgress(value=1.0, max=1.0)…"
      ]
     },
     "metadata": {},
     "output_type": "display_data"
    },
    {
     "data": {
      "text/html": [
       "Find user logs for this run at: <code>/home/user/work/exp/exp008/wandb/run-20210602_214013-1wk8y01u/logs/debug.log</code>"
      ],
      "text/plain": [
       "<IPython.core.display.HTML object>"
      ]
     },
     "metadata": {},
     "output_type": "display_data"
    },
    {
     "data": {
      "text/html": [
       "Find internal logs for this run at: <code>/home/user/work/exp/exp008/wandb/run-20210602_214013-1wk8y01u/logs/debug-internal.log</code>"
      ],
      "text/plain": [
       "<IPython.core.display.HTML object>"
      ]
     },
     "metadata": {},
     "output_type": "display_data"
    },
    {
     "data": {
      "text/html": [
       "<h3>Run summary:</h3><br/><style>\n",
       "    table.wandb td:nth-child(1) { padding: 0 10px; text-align: right }\n",
       "    </style><table class=\"wandb\">\n",
       "<tr><td>valid_0_rmse</td><td>3e-05</td></tr><tr><td>_runtime</td><td>130</td></tr><tr><td>_timestamp</td><td>1622637743</td></tr><tr><td>_step</td><td>9999</td></tr></table>"
      ],
      "text/plain": [
       "<IPython.core.display.HTML object>"
      ]
     },
     "metadata": {},
     "output_type": "display_data"
    },
    {
     "data": {
      "text/html": [
       "<h3>Run history:</h3><br/><style>\n",
       "    table.wandb td:nth-child(1) { padding: 0 10px; text-align: right }\n",
       "    </style><table class=\"wandb\">\n",
       "<tr><td>valid_0_rmse</td><td>█▄▂▁▁▁▁▁▁▁▁▁▁▁▁▁▁▁▁▁▁▁▁▁▁▁▁▁▁▁▁▁▁▁▁▁▁▁▁▁</td></tr><tr><td>_runtime</td><td>▁▁▁▂▂▂▂▂▂▃▃▃▃▃▄▄▄▄▄▄▅▅▅▅▅▅▆▆▆▆▆▇▇▇▇▇▇███</td></tr><tr><td>_timestamp</td><td>▁▁▁▂▂▂▂▂▂▃▃▃▃▃▄▄▄▄▄▄▅▅▅▅▅▅▆▆▆▆▆▇▇▇▇▇▇███</td></tr><tr><td>_step</td><td>▁▁▁▁▂▂▂▂▂▃▃▃▃▃▃▄▄▄▄▄▅▅▅▅▅▅▆▆▆▆▆▇▇▇▇▇▇███</td></tr></table><br/>"
      ],
      "text/plain": [
       "<IPython.core.display.HTML object>"
      ]
     },
     "metadata": {},
     "output_type": "display_data"
    },
    {
     "data": {
      "text/html": [
       "Synced 5 W&B file(s), 0 media file(s), 0 artifact file(s) and 0 other file(s)"
      ],
      "text/plain": [
       "<IPython.core.display.HTML object>"
      ]
     },
     "metadata": {},
     "output_type": "display_data"
    },
    {
     "data": {
      "text/html": [
       "\n",
       "                    <br/>Synced <strong style=\"color:#cdcd00\">vibrant-serenity-161</strong>: <a href=\"https://wandb.ai/kuto5046/outdoor/runs/1wk8y01u\" target=\"_blank\">https://wandb.ai/kuto5046/outdoor/runs/1wk8y01u</a><br/>\n",
       "                "
      ],
      "text/plain": [
       "<IPython.core.display.HTML object>"
      ]
     },
     "metadata": {},
     "output_type": "display_data"
    },
    {
     "name": "stdout",
     "output_type": "stream",
     "text": [
      "====================\n",
      "Fold 4\n",
      "====================\n"
     ]
    },
    {
     "name": "stderr",
     "output_type": "stream",
     "text": [
      "\u001b[34m\u001b[1mwandb\u001b[0m: wandb version 0.10.31 is available!  To upgrade, please run:\n",
      "\u001b[34m\u001b[1mwandb\u001b[0m:  $ pip install wandb --upgrade\n"
     ]
    },
    {
     "data": {
      "text/html": [
       "\n",
       "                Tracking run with wandb version 0.10.22<br/>\n",
       "                Syncing run <strong style=\"color:#cdcd00\">efficient-elevator-162</strong> to <a href=\"https://wandb.ai\" target=\"_blank\">Weights & Biases</a> <a href=\"https://docs.wandb.com/integrations/jupyter.html\" target=\"_blank\">(Documentation)</a>.<br/>\n",
       "                Project page: <a href=\"https://wandb.ai/kuto5046/outdoor\" target=\"_blank\">https://wandb.ai/kuto5046/outdoor</a><br/>\n",
       "                Run page: <a href=\"https://wandb.ai/kuto5046/outdoor/runs/14pczy63\" target=\"_blank\">https://wandb.ai/kuto5046/outdoor/runs/14pczy63</a><br/>\n",
       "                Run data is saved locally in <code>/home/user/work/exp/exp008/wandb/run-20210602_214227-14pczy63</code><br/><br/>\n",
       "            "
      ],
      "text/plain": [
       "<IPython.core.display.HTML object>"
      ]
     },
     "metadata": {},
     "output_type": "display_data"
    },
    {
     "name": "stdout",
     "output_type": "stream",
     "text": [
      "[LightGBM] [Warning] Accuracy may be bad since you didn't explicitly set num_leaves OR 2^max_depth > num_leaves. (num_leaves=31).\n",
      "Training until validation scores don't improve for 100 rounds\n",
      "[50]\tvalid_0's rmse: 0.000104224\n",
      "[100]\tvalid_0's rmse: 7.74796e-05\n",
      "[150]\tvalid_0's rmse: 6.33785e-05\n",
      "[200]\tvalid_0's rmse: 5.33565e-05\n",
      "[250]\tvalid_0's rmse: 4.59658e-05\n",
      "[300]\tvalid_0's rmse: 4.10113e-05\n",
      "[350]\tvalid_0's rmse: 3.78546e-05\n",
      "[400]\tvalid_0's rmse: 3.59345e-05\n",
      "[450]\tvalid_0's rmse: 3.40435e-05\n",
      "[500]\tvalid_0's rmse: 3.32173e-05\n",
      "[550]\tvalid_0's rmse: 3.25045e-05\n",
      "[600]\tvalid_0's rmse: 3.19591e-05\n",
      "[650]\tvalid_0's rmse: 3.14798e-05\n",
      "[700]\tvalid_0's rmse: 3.09274e-05\n",
      "[750]\tvalid_0's rmse: 3.03671e-05\n",
      "[800]\tvalid_0's rmse: 2.97853e-05\n",
      "[850]\tvalid_0's rmse: 2.93549e-05\n",
      "[900]\tvalid_0's rmse: 2.90274e-05\n",
      "[950]\tvalid_0's rmse: 2.86752e-05\n",
      "[1000]\tvalid_0's rmse: 2.8462e-05\n",
      "[1050]\tvalid_0's rmse: 2.81982e-05\n",
      "[1100]\tvalid_0's rmse: 2.79629e-05\n",
      "[1150]\tvalid_0's rmse: 2.77731e-05\n",
      "[1200]\tvalid_0's rmse: 2.76324e-05\n",
      "[1250]\tvalid_0's rmse: 2.74772e-05\n",
      "[1300]\tvalid_0's rmse: 2.7364e-05\n",
      "[1350]\tvalid_0's rmse: 2.72362e-05\n",
      "[1400]\tvalid_0's rmse: 2.71191e-05\n",
      "[1450]\tvalid_0's rmse: 2.70357e-05\n",
      "[1500]\tvalid_0's rmse: 2.69543e-05\n",
      "[1550]\tvalid_0's rmse: 2.69034e-05\n",
      "[1600]\tvalid_0's rmse: 2.68206e-05\n",
      "[1650]\tvalid_0's rmse: 2.67691e-05\n",
      "[1700]\tvalid_0's rmse: 2.67205e-05\n",
      "[1750]\tvalid_0's rmse: 2.66665e-05\n",
      "[1800]\tvalid_0's rmse: 2.66167e-05\n",
      "[1850]\tvalid_0's rmse: 2.65861e-05\n",
      "[1900]\tvalid_0's rmse: 2.65531e-05\n",
      "[1950]\tvalid_0's rmse: 2.65175e-05\n",
      "[2000]\tvalid_0's rmse: 2.6491e-05\n",
      "[2050]\tvalid_0's rmse: 2.64665e-05\n",
      "[2100]\tvalid_0's rmse: 2.64496e-05\n",
      "[2150]\tvalid_0's rmse: 2.6433e-05\n",
      "[2200]\tvalid_0's rmse: 2.64083e-05\n",
      "[2250]\tvalid_0's rmse: 2.63895e-05\n",
      "[2300]\tvalid_0's rmse: 2.63814e-05\n",
      "[2350]\tvalid_0's rmse: 2.63699e-05\n",
      "[2400]\tvalid_0's rmse: 2.63593e-05\n",
      "[2450]\tvalid_0's rmse: 2.63539e-05\n",
      "[2500]\tvalid_0's rmse: 2.63527e-05\n",
      "[2550]\tvalid_0's rmse: 2.63523e-05\n",
      "[2600]\tvalid_0's rmse: 2.6352e-05\n",
      "[2650]\tvalid_0's rmse: 2.63517e-05\n",
      "[2700]\tvalid_0's rmse: 2.63491e-05\n",
      "[2750]\tvalid_0's rmse: 2.63456e-05\n",
      "[2800]\tvalid_0's rmse: 2.63451e-05\n",
      "[2850]\tvalid_0's rmse: 2.63448e-05\n",
      "[2900]\tvalid_0's rmse: 2.63445e-05\n",
      "[2950]\tvalid_0's rmse: 2.63443e-05\n",
      "[3000]\tvalid_0's rmse: 2.6343e-05\n",
      "[3050]\tvalid_0's rmse: 2.63427e-05\n",
      "[3100]\tvalid_0's rmse: 2.63423e-05\n",
      "[3150]\tvalid_0's rmse: 2.63386e-05\n",
      "[3200]\tvalid_0's rmse: 2.63378e-05\n",
      "[3250]\tvalid_0's rmse: 2.63375e-05\n",
      "[3300]\tvalid_0's rmse: 2.63344e-05\n",
      "[3350]\tvalid_0's rmse: 2.63343e-05\n",
      "[3400]\tvalid_0's rmse: 2.63332e-05\n",
      "[3450]\tvalid_0's rmse: 2.63316e-05\n",
      "[3500]\tvalid_0's rmse: 2.6328e-05\n",
      "[3550]\tvalid_0's rmse: 2.63278e-05\n",
      "[3600]\tvalid_0's rmse: 2.63255e-05\n",
      "[3650]\tvalid_0's rmse: 2.63243e-05\n",
      "[3700]\tvalid_0's rmse: 2.63237e-05\n",
      "[3750]\tvalid_0's rmse: 2.63237e-05\n",
      "[3800]\tvalid_0's rmse: 2.63226e-05\n",
      "[3850]\tvalid_0's rmse: 2.63225e-05\n",
      "[3900]\tvalid_0's rmse: 2.63223e-05\n",
      "[3950]\tvalid_0's rmse: 2.63221e-05\n",
      "[4000]\tvalid_0's rmse: 2.63192e-05\n",
      "[4050]\tvalid_0's rmse: 2.6319e-05\n",
      "[4100]\tvalid_0's rmse: 2.63188e-05\n",
      "[4150]\tvalid_0's rmse: 2.63184e-05\n",
      "[4200]\tvalid_0's rmse: 2.63182e-05\n",
      "[4250]\tvalid_0's rmse: 2.63181e-05\n",
      "[4300]\tvalid_0's rmse: 2.63152e-05\n",
      "[4350]\tvalid_0's rmse: 2.6315e-05\n",
      "[4400]\tvalid_0's rmse: 2.63149e-05\n",
      "[4450]\tvalid_0's rmse: 2.63148e-05\n",
      "[4500]\tvalid_0's rmse: 2.63146e-05\n",
      "[4550]\tvalid_0's rmse: 2.63144e-05\n",
      "[4600]\tvalid_0's rmse: 2.63143e-05\n",
      "[4650]\tvalid_0's rmse: 2.63136e-05\n",
      "[4700]\tvalid_0's rmse: 2.63135e-05\n",
      "[4750]\tvalid_0's rmse: 2.63124e-05\n",
      "[4800]\tvalid_0's rmse: 2.63118e-05\n",
      "[4850]\tvalid_0's rmse: 2.63116e-05\n",
      "[4900]\tvalid_0's rmse: 2.63115e-05\n",
      "[4950]\tvalid_0's rmse: 2.63115e-05\n",
      "[5000]\tvalid_0's rmse: 2.63114e-05\n",
      "[5050]\tvalid_0's rmse: 2.63104e-05\n",
      "[5100]\tvalid_0's rmse: 2.63102e-05\n",
      "[5150]\tvalid_0's rmse: 2.63101e-05\n",
      "[5200]\tvalid_0's rmse: 2.631e-05\n",
      "[5250]\tvalid_0's rmse: 2.63098e-05\n",
      "[5300]\tvalid_0's rmse: 2.63097e-05\n",
      "[5350]\tvalid_0's rmse: 2.63095e-05\n",
      "[5400]\tvalid_0's rmse: 2.63094e-05\n",
      "[5450]\tvalid_0's rmse: 2.63093e-05\n",
      "[5500]\tvalid_0's rmse: 2.63092e-05\n",
      "[5550]\tvalid_0's rmse: 2.63092e-05\n",
      "[5600]\tvalid_0's rmse: 2.6309e-05\n",
      "[5650]\tvalid_0's rmse: 2.63089e-05\n",
      "[5700]\tvalid_0's rmse: 2.63089e-05\n",
      "[5750]\tvalid_0's rmse: 2.63088e-05\n",
      "[5800]\tvalid_0's rmse: 2.63088e-05\n",
      "[5850]\tvalid_0's rmse: 2.63086e-05\n",
      "[5900]\tvalid_0's rmse: 2.63085e-05\n",
      "[5950]\tvalid_0's rmse: 2.63084e-05\n",
      "[6000]\tvalid_0's rmse: 2.63083e-05\n",
      "[6050]\tvalid_0's rmse: 2.63082e-05\n",
      "[6100]\tvalid_0's rmse: 2.6308e-05\n",
      "[6150]\tvalid_0's rmse: 2.6308e-05\n",
      "[6200]\tvalid_0's rmse: 2.63079e-05\n",
      "[6250]\tvalid_0's rmse: 2.63078e-05\n",
      "[6300]\tvalid_0's rmse: 2.63078e-05\n",
      "[6350]\tvalid_0's rmse: 2.63077e-05\n",
      "[6400]\tvalid_0's rmse: 2.63075e-05\n",
      "[6450]\tvalid_0's rmse: 2.63075e-05\n",
      "[6500]\tvalid_0's rmse: 2.63073e-05\n",
      "[6550]\tvalid_0's rmse: 2.63072e-05\n",
      "[6600]\tvalid_0's rmse: 2.63071e-05\n",
      "[6650]\tvalid_0's rmse: 2.6307e-05\n",
      "[6700]\tvalid_0's rmse: 2.63069e-05\n",
      "[6750]\tvalid_0's rmse: 2.63069e-05\n",
      "[6800]\tvalid_0's rmse: 2.63068e-05\n",
      "[6850]\tvalid_0's rmse: 2.63067e-05\n",
      "[6900]\tvalid_0's rmse: 2.63066e-05\n",
      "[6950]\tvalid_0's rmse: 2.63066e-05\n",
      "[7000]\tvalid_0's rmse: 2.63065e-05\n",
      "[7050]\tvalid_0's rmse: 2.63065e-05\n",
      "[7100]\tvalid_0's rmse: 2.63064e-05\n",
      "[7150]\tvalid_0's rmse: 2.63064e-05\n",
      "[7200]\tvalid_0's rmse: 2.63063e-05\n",
      "[7250]\tvalid_0's rmse: 2.63062e-05\n",
      "[7300]\tvalid_0's rmse: 2.63057e-05\n",
      "[7350]\tvalid_0's rmse: 2.63057e-05\n",
      "Early stopping, best iteration is:\n",
      "[7278]\tvalid_0's rmse: 2.63057e-05\n",
      "fit fold=4  97.094[s]\n",
      "Fold 4 MSE: 0.0000\n",
      "--------------------------------------------------\n",
      "FINISHED | Whole MSE: 0.0001\n"
     ]
    }
   ],
   "source": [
    "# latitude\n",
    "y = train_df[\"target_delta_latDeg\"]\n",
    "X = train_df.drop(['target_delta_latDeg','target_delta_lngDeg','target_delta_distance', 'collectionName', 'phoneName'], axis=1)\n",
    "oof_lat = fit_lgbm(X, y, params=params, verbose=50)\n"
   ]
  },
  {
   "cell_type": "code",
   "execution_count": 53,
   "metadata": {},
   "outputs": [
    {
     "name": "stdout",
     "output_type": "stream",
     "text": [
      "====================\n",
      "Fold 0\n",
      "====================\n"
     ]
    },
    {
     "data": {
      "text/html": [
       "Finishing last run (ID:14pczy63) before initializing another..."
      ],
      "text/plain": [
       "<IPython.core.display.HTML object>"
      ]
     },
     "metadata": {},
     "output_type": "display_data"
    },
    {
     "data": {
      "text/html": [
       "<br/>Waiting for W&B process to finish, PID 62065<br/>Program ended successfully."
      ],
      "text/plain": [
       "<IPython.core.display.HTML object>"
      ]
     },
     "metadata": {},
     "output_type": "display_data"
    },
    {
     "data": {
      "application/vnd.jupyter.widget-view+json": {
       "model_id": "a7dc2a0595f3422eb69067754736dd03",
       "version_major": 2,
       "version_minor": 0
      },
      "text/plain": [
       "VBox(children=(Label(value=' 0.00MB of 0.00MB uploaded (0.00MB deduped)\\r'), FloatProgress(value=1.0, max=1.0)…"
      ]
     },
     "metadata": {},
     "output_type": "display_data"
    },
    {
     "data": {
      "text/html": [
       "Find user logs for this run at: <code>/home/user/work/exp/exp008/wandb/run-20210602_214227-14pczy63/logs/debug.log</code>"
      ],
      "text/plain": [
       "<IPython.core.display.HTML object>"
      ]
     },
     "metadata": {},
     "output_type": "display_data"
    },
    {
     "data": {
      "text/html": [
       "Find internal logs for this run at: <code>/home/user/work/exp/exp008/wandb/run-20210602_214227-14pczy63/logs/debug-internal.log</code>"
      ],
      "text/plain": [
       "<IPython.core.display.HTML object>"
      ]
     },
     "metadata": {},
     "output_type": "display_data"
    },
    {
     "data": {
      "text/html": [
       "<h3>Run summary:</h3><br/><style>\n",
       "    table.wandb td:nth-child(1) { padding: 0 10px; text-align: right }\n",
       "    </style><table class=\"wandb\">\n",
       "<tr><td>valid_0_rmse</td><td>3e-05</td></tr><tr><td>_runtime</td><td>98</td></tr><tr><td>_timestamp</td><td>1622637845</td></tr><tr><td>_step</td><td>7377</td></tr></table>"
      ],
      "text/plain": [
       "<IPython.core.display.HTML object>"
      ]
     },
     "metadata": {},
     "output_type": "display_data"
    },
    {
     "data": {
      "text/html": [
       "<h3>Run history:</h3><br/><style>\n",
       "    table.wandb td:nth-child(1) { padding: 0 10px; text-align: right }\n",
       "    </style><table class=\"wandb\">\n",
       "<tr><td>valid_0_rmse</td><td>█▄▂▂▁▁▁▁▁▁▁▁▁▁▁▁▁▁▁▁▁▁▁▁▁▁▁▁▁▁▁▁▁▁▁▁▁▁▁▁</td></tr><tr><td>_runtime</td><td>▁▁▁▂▂▂▂▂▃▃▃▃▃▄▄▄▄▄▄▅▅▅▅▅▅▆▆▆▆▆▆▇▇▇▇▇████</td></tr><tr><td>_timestamp</td><td>▁▁▁▂▂▂▂▂▃▃▃▃▃▄▄▄▄▄▄▅▅▅▅▅▅▆▆▆▆▆▆▇▇▇▇▇████</td></tr><tr><td>_step</td><td>▁▁▁▁▂▂▂▂▂▃▃▃▃▃▃▄▄▄▄▄▅▅▅▅▅▅▆▆▆▆▆▇▇▇▇▇▇███</td></tr></table><br/>"
      ],
      "text/plain": [
       "<IPython.core.display.HTML object>"
      ]
     },
     "metadata": {},
     "output_type": "display_data"
    },
    {
     "data": {
      "text/html": [
       "Synced 5 W&B file(s), 0 media file(s), 0 artifact file(s) and 0 other file(s)"
      ],
      "text/plain": [
       "<IPython.core.display.HTML object>"
      ]
     },
     "metadata": {},
     "output_type": "display_data"
    },
    {
     "data": {
      "text/html": [
       "\n",
       "                    <br/>Synced <strong style=\"color:#cdcd00\">efficient-elevator-162</strong>: <a href=\"https://wandb.ai/kuto5046/outdoor/runs/14pczy63\" target=\"_blank\">https://wandb.ai/kuto5046/outdoor/runs/14pczy63</a><br/>\n",
       "                "
      ],
      "text/plain": [
       "<IPython.core.display.HTML object>"
      ]
     },
     "metadata": {},
     "output_type": "display_data"
    },
    {
     "data": {
      "text/html": [
       "...Successfully finished last run (ID:14pczy63). Initializing new run:<br/><br/>"
      ],
      "text/plain": [
       "<IPython.core.display.HTML object>"
      ]
     },
     "metadata": {},
     "output_type": "display_data"
    },
    {
     "name": "stderr",
     "output_type": "stream",
     "text": [
      "\u001b[34m\u001b[1mwandb\u001b[0m: wandb version 0.10.31 is available!  To upgrade, please run:\n",
      "\u001b[34m\u001b[1mwandb\u001b[0m:  $ pip install wandb --upgrade\n"
     ]
    },
    {
     "data": {
      "text/html": [
       "\n",
       "                Tracking run with wandb version 0.10.22<br/>\n",
       "                Syncing run <strong style=\"color:#cdcd00\">firm-resonance-163</strong> to <a href=\"https://wandb.ai\" target=\"_blank\">Weights & Biases</a> <a href=\"https://docs.wandb.com/integrations/jupyter.html\" target=\"_blank\">(Documentation)</a>.<br/>\n",
       "                Project page: <a href=\"https://wandb.ai/kuto5046/outdoor\" target=\"_blank\">https://wandb.ai/kuto5046/outdoor</a><br/>\n",
       "                Run page: <a href=\"https://wandb.ai/kuto5046/outdoor/runs/3008hvlf\" target=\"_blank\">https://wandb.ai/kuto5046/outdoor/runs/3008hvlf</a><br/>\n",
       "                Run data is saved locally in <code>/home/user/work/exp/exp008/wandb/run-20210602_214553-3008hvlf</code><br/><br/>\n",
       "            "
      ],
      "text/plain": [
       "<IPython.core.display.HTML object>"
      ]
     },
     "metadata": {},
     "output_type": "display_data"
    },
    {
     "name": "stdout",
     "output_type": "stream",
     "text": [
      "[LightGBM] [Warning] Accuracy may be bad since you didn't explicitly set num_leaves OR 2^max_depth > num_leaves. (num_leaves=31).\n",
      "Training until validation scores don't improve for 100 rounds\n",
      "[50]\tvalid_0's rmse: 0.000125195\n",
      "[100]\tvalid_0's rmse: 9.5902e-05\n",
      "[150]\tvalid_0's rmse: 7.52309e-05\n",
      "[200]\tvalid_0's rmse: 6.11277e-05\n",
      "[250]\tvalid_0's rmse: 5.32949e-05\n",
      "[300]\tvalid_0's rmse: 4.7174e-05\n",
      "[350]\tvalid_0's rmse: 4.41392e-05\n",
      "[400]\tvalid_0's rmse: 4.18548e-05\n",
      "[450]\tvalid_0's rmse: 4.02615e-05\n",
      "[500]\tvalid_0's rmse: 3.87183e-05\n",
      "[550]\tvalid_0's rmse: 3.76229e-05\n",
      "[600]\tvalid_0's rmse: 3.70516e-05\n",
      "[650]\tvalid_0's rmse: 3.64836e-05\n",
      "[700]\tvalid_0's rmse: 3.59522e-05\n",
      "[750]\tvalid_0's rmse: 3.53764e-05\n",
      "[800]\tvalid_0's rmse: 3.4908e-05\n",
      "[850]\tvalid_0's rmse: 3.45467e-05\n",
      "[900]\tvalid_0's rmse: 3.4203e-05\n",
      "[950]\tvalid_0's rmse: 3.39539e-05\n",
      "[1000]\tvalid_0's rmse: 3.36875e-05\n",
      "[1050]\tvalid_0's rmse: 3.34804e-05\n",
      "[1100]\tvalid_0's rmse: 3.32983e-05\n",
      "[1150]\tvalid_0's rmse: 3.30802e-05\n",
      "[1200]\tvalid_0's rmse: 3.29166e-05\n",
      "[1250]\tvalid_0's rmse: 3.27652e-05\n",
      "[1300]\tvalid_0's rmse: 3.26411e-05\n",
      "[1350]\tvalid_0's rmse: 3.25467e-05\n",
      "[1400]\tvalid_0's rmse: 3.24444e-05\n",
      "[1450]\tvalid_0's rmse: 3.23244e-05\n",
      "[1500]\tvalid_0's rmse: 3.22488e-05\n",
      "[1550]\tvalid_0's rmse: 3.21833e-05\n",
      "[1600]\tvalid_0's rmse: 3.20975e-05\n",
      "[1650]\tvalid_0's rmse: 3.20243e-05\n",
      "[1700]\tvalid_0's rmse: 3.19829e-05\n",
      "[1750]\tvalid_0's rmse: 3.19097e-05\n",
      "[1800]\tvalid_0's rmse: 3.18554e-05\n",
      "[1850]\tvalid_0's rmse: 3.18035e-05\n",
      "[1900]\tvalid_0's rmse: 3.17457e-05\n",
      "[1950]\tvalid_0's rmse: 3.16938e-05\n",
      "[2000]\tvalid_0's rmse: 3.16566e-05\n",
      "[2050]\tvalid_0's rmse: 3.16392e-05\n",
      "[2100]\tvalid_0's rmse: 3.1603e-05\n",
      "[2150]\tvalid_0's rmse: 3.15841e-05\n",
      "[2200]\tvalid_0's rmse: 3.15678e-05\n",
      "[2250]\tvalid_0's rmse: 3.1556e-05\n",
      "[2300]\tvalid_0's rmse: 3.15516e-05\n",
      "[2350]\tvalid_0's rmse: 3.15442e-05\n",
      "[2400]\tvalid_0's rmse: 3.15406e-05\n",
      "[2450]\tvalid_0's rmse: 3.15365e-05\n",
      "[2500]\tvalid_0's rmse: 3.15323e-05\n",
      "[2550]\tvalid_0's rmse: 3.15308e-05\n",
      "[2600]\tvalid_0's rmse: 3.15283e-05\n",
      "[2650]\tvalid_0's rmse: 3.15272e-05\n",
      "[2700]\tvalid_0's rmse: 3.15222e-05\n",
      "[2750]\tvalid_0's rmse: 3.15176e-05\n",
      "[2800]\tvalid_0's rmse: 3.15168e-05\n",
      "[2850]\tvalid_0's rmse: 3.15159e-05\n",
      "[2900]\tvalid_0's rmse: 3.15148e-05\n",
      "[2950]\tvalid_0's rmse: 3.15123e-05\n",
      "[3000]\tvalid_0's rmse: 3.15117e-05\n",
      "[3050]\tvalid_0's rmse: 3.15103e-05\n",
      "[3100]\tvalid_0's rmse: 3.15094e-05\n",
      "[3150]\tvalid_0's rmse: 3.15079e-05\n",
      "[3200]\tvalid_0's rmse: 3.15058e-05\n",
      "[3250]\tvalid_0's rmse: 3.15049e-05\n",
      "[3300]\tvalid_0's rmse: 3.15039e-05\n",
      "[3350]\tvalid_0's rmse: 3.15034e-05\n",
      "[3400]\tvalid_0's rmse: 3.15027e-05\n",
      "[3450]\tvalid_0's rmse: 3.15017e-05\n",
      "[3500]\tvalid_0's rmse: 3.15008e-05\n",
      "[3550]\tvalid_0's rmse: 3.15004e-05\n",
      "[3600]\tvalid_0's rmse: 3.14997e-05\n",
      "[3650]\tvalid_0's rmse: 3.14949e-05\n",
      "[3700]\tvalid_0's rmse: 3.14943e-05\n",
      "[3750]\tvalid_0's rmse: 3.14929e-05\n",
      "[3800]\tvalid_0's rmse: 3.14926e-05\n",
      "[3850]\tvalid_0's rmse: 3.14923e-05\n",
      "[3900]\tvalid_0's rmse: 3.1492e-05\n",
      "[3950]\tvalid_0's rmse: 3.14916e-05\n",
      "[4000]\tvalid_0's rmse: 3.14911e-05\n",
      "[4050]\tvalid_0's rmse: 3.14908e-05\n",
      "[4100]\tvalid_0's rmse: 3.14907e-05\n",
      "[4150]\tvalid_0's rmse: 3.14901e-05\n",
      "[4200]\tvalid_0's rmse: 3.14844e-05\n",
      "[4250]\tvalid_0's rmse: 3.1484e-05\n",
      "[4300]\tvalid_0's rmse: 3.14836e-05\n",
      "[4350]\tvalid_0's rmse: 3.14831e-05\n",
      "[4400]\tvalid_0's rmse: 3.1482e-05\n",
      "[4450]\tvalid_0's rmse: 3.14817e-05\n",
      "[4500]\tvalid_0's rmse: 3.14814e-05\n",
      "[4550]\tvalid_0's rmse: 3.14812e-05\n",
      "[4600]\tvalid_0's rmse: 3.14809e-05\n",
      "[4650]\tvalid_0's rmse: 3.14803e-05\n",
      "[4700]\tvalid_0's rmse: 3.148e-05\n",
      "[4750]\tvalid_0's rmse: 3.14796e-05\n",
      "[4800]\tvalid_0's rmse: 3.14788e-05\n",
      "[4850]\tvalid_0's rmse: 3.14784e-05\n",
      "[4900]\tvalid_0's rmse: 3.14779e-05\n",
      "[4950]\tvalid_0's rmse: 3.14773e-05\n",
      "[5000]\tvalid_0's rmse: 3.14758e-05\n",
      "[5050]\tvalid_0's rmse: 3.14756e-05\n",
      "[5100]\tvalid_0's rmse: 3.14737e-05\n",
      "[5150]\tvalid_0's rmse: 3.14735e-05\n",
      "[5200]\tvalid_0's rmse: 3.14733e-05\n",
      "[5250]\tvalid_0's rmse: 3.14732e-05\n",
      "[5300]\tvalid_0's rmse: 3.14728e-05\n",
      "[5350]\tvalid_0's rmse: 3.14725e-05\n",
      "[5400]\tvalid_0's rmse: 3.14723e-05\n",
      "[5450]\tvalid_0's rmse: 3.14722e-05\n",
      "[5500]\tvalid_0's rmse: 3.14716e-05\n",
      "[5550]\tvalid_0's rmse: 3.14705e-05\n",
      "[5600]\tvalid_0's rmse: 3.14703e-05\n",
      "[5650]\tvalid_0's rmse: 3.14702e-05\n",
      "[5700]\tvalid_0's rmse: 3.14701e-05\n",
      "[5750]\tvalid_0's rmse: 3.14691e-05\n",
      "[5800]\tvalid_0's rmse: 3.1469e-05\n",
      "[5850]\tvalid_0's rmse: 3.14687e-05\n",
      "[5900]\tvalid_0's rmse: 3.14685e-05\n",
      "[5950]\tvalid_0's rmse: 3.14661e-05\n",
      "[6000]\tvalid_0's rmse: 3.14658e-05\n",
      "[6050]\tvalid_0's rmse: 3.14655e-05\n",
      "[6100]\tvalid_0's rmse: 3.14653e-05\n",
      "[6150]\tvalid_0's rmse: 3.1465e-05\n",
      "[6200]\tvalid_0's rmse: 3.1464e-05\n",
      "[6250]\tvalid_0's rmse: 3.14633e-05\n",
      "[6300]\tvalid_0's rmse: 3.1463e-05\n",
      "[6350]\tvalid_0's rmse: 3.14627e-05\n",
      "[6400]\tvalid_0's rmse: 3.14624e-05\n",
      "[6450]\tvalid_0's rmse: 3.1462e-05\n",
      "[6500]\tvalid_0's rmse: 3.14617e-05\n",
      "[6550]\tvalid_0's rmse: 3.14616e-05\n",
      "[6600]\tvalid_0's rmse: 3.14613e-05\n",
      "[6650]\tvalid_0's rmse: 3.14611e-05\n",
      "[6700]\tvalid_0's rmse: 3.14609e-05\n",
      "[6750]\tvalid_0's rmse: 3.14608e-05\n",
      "[6800]\tvalid_0's rmse: 3.14607e-05\n",
      "[6850]\tvalid_0's rmse: 3.14604e-05\n",
      "[6900]\tvalid_0's rmse: 3.146e-05\n",
      "[6950]\tvalid_0's rmse: 3.14597e-05\n",
      "[7000]\tvalid_0's rmse: 3.14595e-05\n",
      "[7050]\tvalid_0's rmse: 3.14578e-05\n",
      "[7100]\tvalid_0's rmse: 3.14577e-05\n",
      "[7150]\tvalid_0's rmse: 3.14574e-05\n",
      "[7200]\tvalid_0's rmse: 3.14572e-05\n",
      "[7250]\tvalid_0's rmse: 3.14568e-05\n",
      "[7300]\tvalid_0's rmse: 3.14565e-05\n",
      "[7350]\tvalid_0's rmse: 3.14562e-05\n",
      "[7400]\tvalid_0's rmse: 3.14561e-05\n",
      "[7450]\tvalid_0's rmse: 3.14559e-05\n",
      "[7500]\tvalid_0's rmse: 3.14557e-05\n",
      "[7550]\tvalid_0's rmse: 3.14557e-05\n",
      "[7600]\tvalid_0's rmse: 3.14554e-05\n",
      "[7650]\tvalid_0's rmse: 3.14545e-05\n",
      "[7700]\tvalid_0's rmse: 3.14542e-05\n",
      "[7750]\tvalid_0's rmse: 3.14539e-05\n",
      "[7800]\tvalid_0's rmse: 3.14538e-05\n",
      "[7850]\tvalid_0's rmse: 3.14536e-05\n",
      "[7900]\tvalid_0's rmse: 3.14535e-05\n",
      "[7950]\tvalid_0's rmse: 3.14534e-05\n",
      "[8000]\tvalid_0's rmse: 3.14533e-05\n",
      "[8050]\tvalid_0's rmse: 3.14532e-05\n",
      "[8100]\tvalid_0's rmse: 3.14528e-05\n",
      "[8150]\tvalid_0's rmse: 3.14525e-05\n",
      "[8200]\tvalid_0's rmse: 3.14524e-05\n",
      "[8250]\tvalid_0's rmse: 3.14522e-05\n",
      "[8300]\tvalid_0's rmse: 3.14521e-05\n",
      "[8350]\tvalid_0's rmse: 3.1452e-05\n",
      "[8400]\tvalid_0's rmse: 3.14518e-05\n",
      "[8450]\tvalid_0's rmse: 3.14515e-05\n",
      "[8500]\tvalid_0's rmse: 3.14514e-05\n",
      "[8550]\tvalid_0's rmse: 3.14512e-05\n",
      "[8600]\tvalid_0's rmse: 3.14511e-05\n",
      "[8650]\tvalid_0's rmse: 3.14504e-05\n",
      "[8700]\tvalid_0's rmse: 3.14481e-05\n",
      "[8750]\tvalid_0's rmse: 3.14481e-05\n",
      "[8800]\tvalid_0's rmse: 3.1448e-05\n",
      "[8850]\tvalid_0's rmse: 3.14475e-05\n",
      "[8900]\tvalid_0's rmse: 3.14469e-05\n",
      "[8950]\tvalid_0's rmse: 3.14466e-05\n",
      "[9000]\tvalid_0's rmse: 3.14465e-05\n",
      "[9050]\tvalid_0's rmse: 3.14464e-05\n",
      "[9100]\tvalid_0's rmse: 3.14463e-05\n",
      "[9150]\tvalid_0's rmse: 3.1446e-05\n",
      "[9200]\tvalid_0's rmse: 3.14459e-05\n",
      "[9250]\tvalid_0's rmse: 3.14457e-05\n",
      "[9300]\tvalid_0's rmse: 3.14456e-05\n",
      "[9350]\tvalid_0's rmse: 3.14453e-05\n",
      "[9400]\tvalid_0's rmse: 3.14452e-05\n",
      "[9450]\tvalid_0's rmse: 3.14451e-05\n",
      "[9500]\tvalid_0's rmse: 3.14438e-05\n",
      "[9550]\tvalid_0's rmse: 3.14436e-05\n",
      "[9600]\tvalid_0's rmse: 3.14435e-05\n",
      "[9650]\tvalid_0's rmse: 3.14434e-05\n",
      "[9700]\tvalid_0's rmse: 3.14432e-05\n",
      "[9750]\tvalid_0's rmse: 3.14431e-05\n",
      "[9800]\tvalid_0's rmse: 3.1443e-05\n",
      "[9850]\tvalid_0's rmse: 3.14429e-05\n",
      "[9900]\tvalid_0's rmse: 3.14427e-05\n",
      "[9950]\tvalid_0's rmse: 3.14426e-05\n",
      "[10000]\tvalid_0's rmse: 3.14425e-05\n",
      "Did not meet early stopping. Best iteration is:\n",
      "[10000]\tvalid_0's rmse: 3.14425e-05\n",
      "fit fold=0  135.114[s]\n",
      "Fold 0 MSE: 0.0000\n"
     ]
    },
    {
     "data": {
      "text/html": [
       "<br/>Waiting for W&B process to finish, PID 64294<br/>Program ended successfully."
      ],
      "text/plain": [
       "<IPython.core.display.HTML object>"
      ]
     },
     "metadata": {},
     "output_type": "display_data"
    },
    {
     "data": {
      "application/vnd.jupyter.widget-view+json": {
       "model_id": "cfef63a157b04538a5f6b69d2745cfda",
       "version_major": 2,
       "version_minor": 0
      },
      "text/plain": [
       "VBox(children=(Label(value=' 0.00MB of 0.00MB uploaded (0.00MB deduped)\\r'), FloatProgress(value=1.0, max=1.0)…"
      ]
     },
     "metadata": {},
     "output_type": "display_data"
    },
    {
     "data": {
      "text/html": [
       "Find user logs for this run at: <code>/home/user/work/exp/exp008/wandb/run-20210602_214553-3008hvlf/logs/debug.log</code>"
      ],
      "text/plain": [
       "<IPython.core.display.HTML object>"
      ]
     },
     "metadata": {},
     "output_type": "display_data"
    },
    {
     "data": {
      "text/html": [
       "Find internal logs for this run at: <code>/home/user/work/exp/exp008/wandb/run-20210602_214553-3008hvlf/logs/debug-internal.log</code>"
      ],
      "text/plain": [
       "<IPython.core.display.HTML object>"
      ]
     },
     "metadata": {},
     "output_type": "display_data"
    },
    {
     "data": {
      "text/html": [
       "<h3>Run summary:</h3><br/><style>\n",
       "    table.wandb td:nth-child(1) { padding: 0 10px; text-align: right }\n",
       "    </style><table class=\"wandb\">\n",
       "<tr><td>valid_0_rmse</td><td>3e-05</td></tr><tr><td>_runtime</td><td>135</td></tr><tr><td>_timestamp</td><td>1622638092</td></tr><tr><td>_step</td><td>9999</td></tr></table>"
      ],
      "text/plain": [
       "<IPython.core.display.HTML object>"
      ]
     },
     "metadata": {},
     "output_type": "display_data"
    },
    {
     "data": {
      "text/html": [
       "<h3>Run history:</h3><br/><style>\n",
       "    table.wandb td:nth-child(1) { padding: 0 10px; text-align: right }\n",
       "    </style><table class=\"wandb\">\n",
       "<tr><td>valid_0_rmse</td><td>█▄▂▂▁▁▁▁▁▁▁▁▁▁▁▁▁▁▁▁▁▁▁▁▁▁▁▁▁▁▁▁▁▁▁▁▁▁▁▁</td></tr><tr><td>_runtime</td><td>▁▁▁▂▂▂▂▂▂▃▃▃▃▃▄▄▄▄▄▄▅▅▅▅▅▅▆▆▆▆▆▇▇▇▇▇▇███</td></tr><tr><td>_timestamp</td><td>▁▁▁▂▂▂▂▂▂▃▃▃▃▃▄▄▄▄▄▄▅▅▅▅▅▅▆▆▆▆▆▇▇▇▇▇▇███</td></tr><tr><td>_step</td><td>▁▁▁▁▂▂▂▂▂▃▃▃▃▃▃▄▄▄▄▄▅▅▅▅▅▅▆▆▆▆▆▇▇▇▇▇▇███</td></tr></table><br/>"
      ],
      "text/plain": [
       "<IPython.core.display.HTML object>"
      ]
     },
     "metadata": {},
     "output_type": "display_data"
    },
    {
     "data": {
      "text/html": [
       "Synced 5 W&B file(s), 0 media file(s), 0 artifact file(s) and 0 other file(s)"
      ],
      "text/plain": [
       "<IPython.core.display.HTML object>"
      ]
     },
     "metadata": {},
     "output_type": "display_data"
    },
    {
     "data": {
      "text/html": [
       "\n",
       "                    <br/>Synced <strong style=\"color:#cdcd00\">firm-resonance-163</strong>: <a href=\"https://wandb.ai/kuto5046/outdoor/runs/3008hvlf\" target=\"_blank\">https://wandb.ai/kuto5046/outdoor/runs/3008hvlf</a><br/>\n",
       "                "
      ],
      "text/plain": [
       "<IPython.core.display.HTML object>"
      ]
     },
     "metadata": {},
     "output_type": "display_data"
    },
    {
     "name": "stdout",
     "output_type": "stream",
     "text": [
      "====================\n",
      "Fold 1\n",
      "====================\n"
     ]
    },
    {
     "name": "stderr",
     "output_type": "stream",
     "text": [
      "\u001b[34m\u001b[1mwandb\u001b[0m: wandb version 0.10.31 is available!  To upgrade, please run:\n",
      "\u001b[34m\u001b[1mwandb\u001b[0m:  $ pip install wandb --upgrade\n"
     ]
    },
    {
     "data": {
      "text/html": [
       "\n",
       "                Tracking run with wandb version 0.10.22<br/>\n",
       "                Syncing run <strong style=\"color:#cdcd00\">fluent-donkey-164</strong> to <a href=\"https://wandb.ai\" target=\"_blank\">Weights & Biases</a> <a href=\"https://docs.wandb.com/integrations/jupyter.html\" target=\"_blank\">(Documentation)</a>.<br/>\n",
       "                Project page: <a href=\"https://wandb.ai/kuto5046/outdoor\" target=\"_blank\">https://wandb.ai/kuto5046/outdoor</a><br/>\n",
       "                Run page: <a href=\"https://wandb.ai/kuto5046/outdoor/runs/2wio9tfb\" target=\"_blank\">https://wandb.ai/kuto5046/outdoor/runs/2wio9tfb</a><br/>\n",
       "                Run data is saved locally in <code>/home/user/work/exp/exp008/wandb/run-20210602_214816-2wio9tfb</code><br/><br/>\n",
       "            "
      ],
      "text/plain": [
       "<IPython.core.display.HTML object>"
      ]
     },
     "metadata": {},
     "output_type": "display_data"
    },
    {
     "name": "stdout",
     "output_type": "stream",
     "text": [
      "[LightGBM] [Warning] Accuracy may be bad since you didn't explicitly set num_leaves OR 2^max_depth > num_leaves. (num_leaves=31).\n",
      "Training until validation scores don't improve for 100 rounds\n",
      "[50]\tvalid_0's rmse: 0.000124761\n",
      "[100]\tvalid_0's rmse: 9.57669e-05\n",
      "[150]\tvalid_0's rmse: 7.52824e-05\n",
      "[200]\tvalid_0's rmse: 6.13458e-05\n",
      "[250]\tvalid_0's rmse: 5.36012e-05\n",
      "[300]\tvalid_0's rmse: 4.76333e-05\n",
      "[350]\tvalid_0's rmse: 4.46794e-05\n",
      "[400]\tvalid_0's rmse: 4.24949e-05\n",
      "[450]\tvalid_0's rmse: 4.09417e-05\n",
      "[500]\tvalid_0's rmse: 3.94207e-05\n",
      "[550]\tvalid_0's rmse: 3.83779e-05\n",
      "[600]\tvalid_0's rmse: 3.78332e-05\n",
      "[650]\tvalid_0's rmse: 3.72769e-05\n",
      "[700]\tvalid_0's rmse: 3.67507e-05\n",
      "[750]\tvalid_0's rmse: 3.61917e-05\n",
      "[800]\tvalid_0's rmse: 3.57525e-05\n",
      "[850]\tvalid_0's rmse: 3.54322e-05\n",
      "[900]\tvalid_0's rmse: 3.51056e-05\n",
      "[950]\tvalid_0's rmse: 3.48548e-05\n",
      "[1000]\tvalid_0's rmse: 3.45999e-05\n",
      "[1050]\tvalid_0's rmse: 3.43893e-05\n",
      "[1100]\tvalid_0's rmse: 3.42097e-05\n",
      "[1150]\tvalid_0's rmse: 3.39972e-05\n",
      "[1200]\tvalid_0's rmse: 3.38434e-05\n",
      "[1250]\tvalid_0's rmse: 3.36998e-05\n",
      "[1300]\tvalid_0's rmse: 3.35818e-05\n",
      "[1350]\tvalid_0's rmse: 3.34818e-05\n",
      "[1400]\tvalid_0's rmse: 3.33841e-05\n",
      "[1450]\tvalid_0's rmse: 3.3227e-05\n",
      "[1500]\tvalid_0's rmse: 3.3158e-05\n",
      "[1550]\tvalid_0's rmse: 3.30608e-05\n",
      "[1600]\tvalid_0's rmse: 3.29603e-05\n",
      "[1650]\tvalid_0's rmse: 3.28885e-05\n",
      "[1700]\tvalid_0's rmse: 3.28353e-05\n",
      "[1750]\tvalid_0's rmse: 3.27695e-05\n",
      "[1800]\tvalid_0's rmse: 3.2714e-05\n",
      "[1850]\tvalid_0's rmse: 3.26732e-05\n",
      "[1900]\tvalid_0's rmse: 3.26324e-05\n",
      "[1950]\tvalid_0's rmse: 3.25763e-05\n",
      "[2000]\tvalid_0's rmse: 3.25392e-05\n",
      "[2050]\tvalid_0's rmse: 3.25129e-05\n",
      "[2100]\tvalid_0's rmse: 3.24963e-05\n",
      "[2150]\tvalid_0's rmse: 3.24702e-05\n",
      "[2200]\tvalid_0's rmse: 3.24509e-05\n",
      "[2250]\tvalid_0's rmse: 3.24413e-05\n",
      "[2300]\tvalid_0's rmse: 3.24355e-05\n",
      "[2350]\tvalid_0's rmse: 3.2428e-05\n",
      "[2400]\tvalid_0's rmse: 3.24171e-05\n",
      "[2450]\tvalid_0's rmse: 3.24094e-05\n",
      "[2500]\tvalid_0's rmse: 3.24074e-05\n",
      "[2550]\tvalid_0's rmse: 3.24052e-05\n",
      "[2600]\tvalid_0's rmse: 3.24042e-05\n",
      "[2650]\tvalid_0's rmse: 3.24029e-05\n",
      "[2700]\tvalid_0's rmse: 3.24014e-05\n",
      "[2750]\tvalid_0's rmse: 3.2399e-05\n",
      "[2800]\tvalid_0's rmse: 3.23984e-05\n",
      "[2850]\tvalid_0's rmse: 3.23973e-05\n",
      "[2900]\tvalid_0's rmse: 3.23948e-05\n",
      "[2950]\tvalid_0's rmse: 3.23931e-05\n",
      "[3000]\tvalid_0's rmse: 3.23896e-05\n",
      "[3050]\tvalid_0's rmse: 3.23889e-05\n",
      "[3100]\tvalid_0's rmse: 3.23878e-05\n",
      "[3150]\tvalid_0's rmse: 3.23867e-05\n",
      "[3200]\tvalid_0's rmse: 3.23842e-05\n",
      "[3250]\tvalid_0's rmse: 3.2383e-05\n",
      "[3300]\tvalid_0's rmse: 3.23819e-05\n",
      "[3350]\tvalid_0's rmse: 3.23815e-05\n",
      "[3400]\tvalid_0's rmse: 3.23793e-05\n",
      "[3450]\tvalid_0's rmse: 3.23782e-05\n",
      "[3500]\tvalid_0's rmse: 3.23777e-05\n",
      "[3550]\tvalid_0's rmse: 3.2377e-05\n",
      "[3600]\tvalid_0's rmse: 3.23765e-05\n",
      "[3650]\tvalid_0's rmse: 3.23761e-05\n",
      "[3700]\tvalid_0's rmse: 3.23759e-05\n",
      "[3750]\tvalid_0's rmse: 3.23745e-05\n",
      "[3800]\tvalid_0's rmse: 3.2374e-05\n",
      "[3850]\tvalid_0's rmse: 3.23731e-05\n",
      "[3900]\tvalid_0's rmse: 3.23728e-05\n",
      "[3950]\tvalid_0's rmse: 3.23723e-05\n",
      "[4000]\tvalid_0's rmse: 3.23723e-05\n",
      "Early stopping, best iteration is:\n",
      "[3949]\tvalid_0's rmse: 3.23723e-05\n",
      "fit fold=1  61.827[s]\n",
      "Fold 1 MSE: 0.0000\n"
     ]
    },
    {
     "data": {
      "text/html": [
       "<br/>Waiting for W&B process to finish, PID 65795<br/>Program ended successfully."
      ],
      "text/plain": [
       "<IPython.core.display.HTML object>"
      ]
     },
     "metadata": {},
     "output_type": "display_data"
    },
    {
     "data": {
      "application/vnd.jupyter.widget-view+json": {
       "model_id": "8f2b2540c31e456fa45baf8ae492d2d2",
       "version_major": 2,
       "version_minor": 0
      },
      "text/plain": [
       "VBox(children=(Label(value=' 0.00MB of 0.00MB uploaded (0.00MB deduped)\\r'), FloatProgress(value=1.0, max=1.0)…"
      ]
     },
     "metadata": {},
     "output_type": "display_data"
    },
    {
     "data": {
      "text/html": [
       "Find user logs for this run at: <code>/home/user/work/exp/exp008/wandb/run-20210602_214816-2wio9tfb/logs/debug.log</code>"
      ],
      "text/plain": [
       "<IPython.core.display.HTML object>"
      ]
     },
     "metadata": {},
     "output_type": "display_data"
    },
    {
     "data": {
      "text/html": [
       "Find internal logs for this run at: <code>/home/user/work/exp/exp008/wandb/run-20210602_214816-2wio9tfb/logs/debug-internal.log</code>"
      ],
      "text/plain": [
       "<IPython.core.display.HTML object>"
      ]
     },
     "metadata": {},
     "output_type": "display_data"
    },
    {
     "data": {
      "text/html": [
       "<h3>Run summary:</h3><br/><style>\n",
       "    table.wandb td:nth-child(1) { padding: 0 10px; text-align: right }\n",
       "    </style><table class=\"wandb\">\n",
       "<tr><td>valid_0_rmse</td><td>3e-05</td></tr><tr><td>_runtime</td><td>63</td></tr><tr><td>_timestamp</td><td>1622638159</td></tr><tr><td>_step</td><td>4048</td></tr></table>"
      ],
      "text/plain": [
       "<IPython.core.display.HTML object>"
      ]
     },
     "metadata": {},
     "output_type": "display_data"
    },
    {
     "data": {
      "text/html": [
       "<h3>Run history:</h3><br/><style>\n",
       "    table.wandb td:nth-child(1) { padding: 0 10px; text-align: right }\n",
       "    </style><table class=\"wandb\">\n",
       "<tr><td>valid_0_rmse</td><td>█▄▃▂▂▁▁▁▁▁▁▁▁▁▁▁▁▁▁▁▁▁▁▁▁▁▁▁▁▁▁▁▁▁▁▁▁▁▁▁</td></tr><tr><td>_runtime</td><td>▁▁▂▂▂▂▂▃▃▃▃▃▄▄▄▄▄▄▅▅▅▅▅▅▅▆▆▆▆▆▆▇▇▇▇▇████</td></tr><tr><td>_timestamp</td><td>▁▁▂▂▂▂▂▃▃▃▃▃▄▄▄▄▄▄▅▅▅▅▅▅▅▆▆▆▆▆▆▇▇▇▇▇████</td></tr><tr><td>_step</td><td>▁▁▁▂▂▂▂▂▂▃▃▃▃▃▃▄▄▄▄▄▅▅▅▅▅▅▆▆▆▆▆▇▇▇▇▇▇███</td></tr></table><br/>"
      ],
      "text/plain": [
       "<IPython.core.display.HTML object>"
      ]
     },
     "metadata": {},
     "output_type": "display_data"
    },
    {
     "data": {
      "text/html": [
       "Synced 5 W&B file(s), 0 media file(s), 0 artifact file(s) and 0 other file(s)"
      ],
      "text/plain": [
       "<IPython.core.display.HTML object>"
      ]
     },
     "metadata": {},
     "output_type": "display_data"
    },
    {
     "data": {
      "text/html": [
       "\n",
       "                    <br/>Synced <strong style=\"color:#cdcd00\">fluent-donkey-164</strong>: <a href=\"https://wandb.ai/kuto5046/outdoor/runs/2wio9tfb\" target=\"_blank\">https://wandb.ai/kuto5046/outdoor/runs/2wio9tfb</a><br/>\n",
       "                "
      ],
      "text/plain": [
       "<IPython.core.display.HTML object>"
      ]
     },
     "metadata": {},
     "output_type": "display_data"
    },
    {
     "name": "stdout",
     "output_type": "stream",
     "text": [
      "====================\n",
      "Fold 2\n",
      "====================\n"
     ]
    },
    {
     "name": "stderr",
     "output_type": "stream",
     "text": [
      "\u001b[34m\u001b[1mwandb\u001b[0m: wandb version 0.10.31 is available!  To upgrade, please run:\n",
      "\u001b[34m\u001b[1mwandb\u001b[0m:  $ pip install wandb --upgrade\n"
     ]
    },
    {
     "data": {
      "text/html": [
       "\n",
       "                Tracking run with wandb version 0.10.22<br/>\n",
       "                Syncing run <strong style=\"color:#cdcd00\">dandy-spaceship-165</strong> to <a href=\"https://wandb.ai\" target=\"_blank\">Weights & Biases</a> <a href=\"https://docs.wandb.com/integrations/jupyter.html\" target=\"_blank\">(Documentation)</a>.<br/>\n",
       "                Project page: <a href=\"https://wandb.ai/kuto5046/outdoor\" target=\"_blank\">https://wandb.ai/kuto5046/outdoor</a><br/>\n",
       "                Run page: <a href=\"https://wandb.ai/kuto5046/outdoor/runs/2nqjx54w\" target=\"_blank\">https://wandb.ai/kuto5046/outdoor/runs/2nqjx54w</a><br/>\n",
       "                Run data is saved locally in <code>/home/user/work/exp/exp008/wandb/run-20210602_214925-2nqjx54w</code><br/><br/>\n",
       "            "
      ],
      "text/plain": [
       "<IPython.core.display.HTML object>"
      ]
     },
     "metadata": {},
     "output_type": "display_data"
    },
    {
     "name": "stdout",
     "output_type": "stream",
     "text": [
      "[LightGBM] [Warning] Accuracy may be bad since you didn't explicitly set num_leaves OR 2^max_depth > num_leaves. (num_leaves=31).\n",
      "Training until validation scores don't improve for 100 rounds\n",
      "[50]\tvalid_0's rmse: 0.000124637\n",
      "[100]\tvalid_0's rmse: 9.56077e-05\n",
      "[150]\tvalid_0's rmse: 7.50568e-05\n",
      "[200]\tvalid_0's rmse: 6.10454e-05\n",
      "[250]\tvalid_0's rmse: 5.32861e-05\n",
      "[300]\tvalid_0's rmse: 4.72978e-05\n",
      "[350]\tvalid_0's rmse: 4.4362e-05\n",
      "[400]\tvalid_0's rmse: 4.21606e-05\n",
      "[450]\tvalid_0's rmse: 4.06143e-05\n",
      "[500]\tvalid_0's rmse: 3.90649e-05\n",
      "[550]\tvalid_0's rmse: 3.80164e-05\n",
      "[600]\tvalid_0's rmse: 3.7467e-05\n",
      "[650]\tvalid_0's rmse: 3.69042e-05\n",
      "[700]\tvalid_0's rmse: 3.63982e-05\n",
      "[750]\tvalid_0's rmse: 3.58336e-05\n",
      "[800]\tvalid_0's rmse: 3.53779e-05\n",
      "[850]\tvalid_0's rmse: 3.50263e-05\n",
      "[900]\tvalid_0's rmse: 3.46958e-05\n",
      "[950]\tvalid_0's rmse: 3.44405e-05\n",
      "[1000]\tvalid_0's rmse: 3.41796e-05\n",
      "[1050]\tvalid_0's rmse: 3.39778e-05\n",
      "[1100]\tvalid_0's rmse: 3.37841e-05\n",
      "[1150]\tvalid_0's rmse: 3.3574e-05\n",
      "[1200]\tvalid_0's rmse: 3.34185e-05\n",
      "[1250]\tvalid_0's rmse: 3.32762e-05\n",
      "[1300]\tvalid_0's rmse: 3.31515e-05\n",
      "[1350]\tvalid_0's rmse: 3.30673e-05\n",
      "[1400]\tvalid_0's rmse: 3.29588e-05\n",
      "[1450]\tvalid_0's rmse: 3.28377e-05\n",
      "[1500]\tvalid_0's rmse: 3.27531e-05\n",
      "[1550]\tvalid_0's rmse: 3.26628e-05\n",
      "[1600]\tvalid_0's rmse: 3.25675e-05\n",
      "[1650]\tvalid_0's rmse: 3.25007e-05\n",
      "[1700]\tvalid_0's rmse: 3.24603e-05\n",
      "[1750]\tvalid_0's rmse: 3.23865e-05\n",
      "[1800]\tvalid_0's rmse: 3.23401e-05\n",
      "[1850]\tvalid_0's rmse: 3.22903e-05\n",
      "[1900]\tvalid_0's rmse: 3.22381e-05\n",
      "[1950]\tvalid_0's rmse: 3.2186e-05\n",
      "[2000]\tvalid_0's rmse: 3.21566e-05\n",
      "[2050]\tvalid_0's rmse: 3.21274e-05\n",
      "[2100]\tvalid_0's rmse: 3.21125e-05\n",
      "[2150]\tvalid_0's rmse: 3.20815e-05\n",
      "[2200]\tvalid_0's rmse: 3.2067e-05\n",
      "[2250]\tvalid_0's rmse: 3.20544e-05\n",
      "[2300]\tvalid_0's rmse: 3.20367e-05\n",
      "[2350]\tvalid_0's rmse: 3.20282e-05\n",
      "[2400]\tvalid_0's rmse: 3.20154e-05\n",
      "[2450]\tvalid_0's rmse: 3.20091e-05\n",
      "[2500]\tvalid_0's rmse: 3.20061e-05\n",
      "[2550]\tvalid_0's rmse: 3.20041e-05\n",
      "[2600]\tvalid_0's rmse: 3.20025e-05\n",
      "[2650]\tvalid_0's rmse: 3.20012e-05\n",
      "[2700]\tvalid_0's rmse: 3.19998e-05\n",
      "[2750]\tvalid_0's rmse: 3.19988e-05\n",
      "[2800]\tvalid_0's rmse: 3.1998e-05\n",
      "[2850]\tvalid_0's rmse: 3.19968e-05\n",
      "[2900]\tvalid_0's rmse: 3.19959e-05\n",
      "[2950]\tvalid_0's rmse: 3.19947e-05\n",
      "[3000]\tvalid_0's rmse: 3.19926e-05\n",
      "[3050]\tvalid_0's rmse: 3.19918e-05\n",
      "[3100]\tvalid_0's rmse: 3.19912e-05\n",
      "[3150]\tvalid_0's rmse: 3.19901e-05\n",
      "[3200]\tvalid_0's rmse: 3.19897e-05\n",
      "[3250]\tvalid_0's rmse: 3.19888e-05\n",
      "[3300]\tvalid_0's rmse: 3.19881e-05\n",
      "[3350]\tvalid_0's rmse: 3.19876e-05\n",
      "[3400]\tvalid_0's rmse: 3.19875e-05\n",
      "[3450]\tvalid_0's rmse: 3.19871e-05\n",
      "[3500]\tvalid_0's rmse: 3.19849e-05\n",
      "[3550]\tvalid_0's rmse: 3.19842e-05\n",
      "[3600]\tvalid_0's rmse: 3.1984e-05\n",
      "[3650]\tvalid_0's rmse: 3.19837e-05\n",
      "[3700]\tvalid_0's rmse: 3.19833e-05\n",
      "[3750]\tvalid_0's rmse: 3.19829e-05\n",
      "[3800]\tvalid_0's rmse: 3.19825e-05\n",
      "[3850]\tvalid_0's rmse: 3.19822e-05\n",
      "[3900]\tvalid_0's rmse: 3.19817e-05\n",
      "[3950]\tvalid_0's rmse: 3.19815e-05\n",
      "[4000]\tvalid_0's rmse: 3.19812e-05\n",
      "[4050]\tvalid_0's rmse: 3.19808e-05\n",
      "[4100]\tvalid_0's rmse: 3.19806e-05\n",
      "[4150]\tvalid_0's rmse: 3.19797e-05\n",
      "[4200]\tvalid_0's rmse: 3.19795e-05\n",
      "[4250]\tvalid_0's rmse: 3.19788e-05\n",
      "[4300]\tvalid_0's rmse: 3.1976e-05\n",
      "[4350]\tvalid_0's rmse: 3.19757e-05\n",
      "[4400]\tvalid_0's rmse: 3.19754e-05\n",
      "[4450]\tvalid_0's rmse: 3.19751e-05\n",
      "[4500]\tvalid_0's rmse: 3.19748e-05\n",
      "[4550]\tvalid_0's rmse: 3.19743e-05\n",
      "[4600]\tvalid_0's rmse: 3.19737e-05\n",
      "[4650]\tvalid_0's rmse: 3.19729e-05\n",
      "[4700]\tvalid_0's rmse: 3.19727e-05\n",
      "[4750]\tvalid_0's rmse: 3.1972e-05\n",
      "[4800]\tvalid_0's rmse: 3.19718e-05\n",
      "[4850]\tvalid_0's rmse: 3.19713e-05\n",
      "[4900]\tvalid_0's rmse: 3.19709e-05\n",
      "[4950]\tvalid_0's rmse: 3.19706e-05\n",
      "[5000]\tvalid_0's rmse: 3.19705e-05\n",
      "[5050]\tvalid_0's rmse: 3.19702e-05\n",
      "[5100]\tvalid_0's rmse: 3.19701e-05\n",
      "[5150]\tvalid_0's rmse: 3.19698e-05\n",
      "[5200]\tvalid_0's rmse: 3.19697e-05\n",
      "[5250]\tvalid_0's rmse: 3.19695e-05\n",
      "[5300]\tvalid_0's rmse: 3.19693e-05\n",
      "[5350]\tvalid_0's rmse: 3.19692e-05\n",
      "[5400]\tvalid_0's rmse: 3.19691e-05\n",
      "[5450]\tvalid_0's rmse: 3.1969e-05\n",
      "[5500]\tvalid_0's rmse: 3.19689e-05\n",
      "[5550]\tvalid_0's rmse: 3.19684e-05\n",
      "[5600]\tvalid_0's rmse: 3.19682e-05\n",
      "[5650]\tvalid_0's rmse: 3.19679e-05\n",
      "[5700]\tvalid_0's rmse: 3.19678e-05\n",
      "[5750]\tvalid_0's rmse: 3.19676e-05\n",
      "[5800]\tvalid_0's rmse: 3.1967e-05\n",
      "[5850]\tvalid_0's rmse: 3.19668e-05\n",
      "[5900]\tvalid_0's rmse: 3.19666e-05\n",
      "[5950]\tvalid_0's rmse: 3.19665e-05\n",
      "[6000]\tvalid_0's rmse: 3.19662e-05\n",
      "[6050]\tvalid_0's rmse: 3.19654e-05\n",
      "[6100]\tvalid_0's rmse: 3.19651e-05\n",
      "[6150]\tvalid_0's rmse: 3.19645e-05\n",
      "[6200]\tvalid_0's rmse: 3.19644e-05\n",
      "[6250]\tvalid_0's rmse: 3.1964e-05\n",
      "[6300]\tvalid_0's rmse: 3.19638e-05\n",
      "[6350]\tvalid_0's rmse: 3.19635e-05\n",
      "[6400]\tvalid_0's rmse: 3.19634e-05\n",
      "[6450]\tvalid_0's rmse: 3.19632e-05\n",
      "[6500]\tvalid_0's rmse: 3.19623e-05\n",
      "[6550]\tvalid_0's rmse: 3.1962e-05\n",
      "[6600]\tvalid_0's rmse: 3.19618e-05\n",
      "[6650]\tvalid_0's rmse: 3.19617e-05\n",
      "[6700]\tvalid_0's rmse: 3.19613e-05\n",
      "[6750]\tvalid_0's rmse: 3.19612e-05\n",
      "[6800]\tvalid_0's rmse: 3.19603e-05\n",
      "[6850]\tvalid_0's rmse: 3.19602e-05\n",
      "[6900]\tvalid_0's rmse: 3.19599e-05\n",
      "[6950]\tvalid_0's rmse: 3.19588e-05\n",
      "[7000]\tvalid_0's rmse: 3.19585e-05\n",
      "[7050]\tvalid_0's rmse: 3.19583e-05\n",
      "[7100]\tvalid_0's rmse: 3.19581e-05\n",
      "[7150]\tvalid_0's rmse: 3.19581e-05\n",
      "Early stopping, best iteration is:\n",
      "[7095]\tvalid_0's rmse: 3.19581e-05\n",
      "fit fold=2  100.051[s]\n",
      "Fold 2 MSE: 0.0000\n"
     ]
    },
    {
     "data": {
      "text/html": [
       "<br/>Waiting for W&B process to finish, PID 66553<br/>Program ended successfully."
      ],
      "text/plain": [
       "<IPython.core.display.HTML object>"
      ]
     },
     "metadata": {},
     "output_type": "display_data"
    },
    {
     "data": {
      "application/vnd.jupyter.widget-view+json": {
       "model_id": "a46686b08ac547f5a6ce6e217c811c4f",
       "version_major": 2,
       "version_minor": 0
      },
      "text/plain": [
       "VBox(children=(Label(value=' 0.00MB of 0.00MB uploaded (0.00MB deduped)\\r'), FloatProgress(value=1.0, max=1.0)…"
      ]
     },
     "metadata": {},
     "output_type": "display_data"
    },
    {
     "data": {
      "text/html": [
       "Find user logs for this run at: <code>/home/user/work/exp/exp008/wandb/run-20210602_214925-2nqjx54w/logs/debug.log</code>"
      ],
      "text/plain": [
       "<IPython.core.display.HTML object>"
      ]
     },
     "metadata": {},
     "output_type": "display_data"
    },
    {
     "data": {
      "text/html": [
       "Find internal logs for this run at: <code>/home/user/work/exp/exp008/wandb/run-20210602_214925-2nqjx54w/logs/debug-internal.log</code>"
      ],
      "text/plain": [
       "<IPython.core.display.HTML object>"
      ]
     },
     "metadata": {},
     "output_type": "display_data"
    },
    {
     "data": {
      "text/html": [
       "<h3>Run summary:</h3><br/><style>\n",
       "    table.wandb td:nth-child(1) { padding: 0 10px; text-align: right }\n",
       "    </style><table class=\"wandb\">\n",
       "<tr><td>valid_0_rmse</td><td>3e-05</td></tr><tr><td>_runtime</td><td>101</td></tr><tr><td>_timestamp</td><td>1622638266</td></tr><tr><td>_step</td><td>7194</td></tr></table>"
      ],
      "text/plain": [
       "<IPython.core.display.HTML object>"
      ]
     },
     "metadata": {},
     "output_type": "display_data"
    },
    {
     "data": {
      "text/html": [
       "<h3>Run history:</h3><br/><style>\n",
       "    table.wandb td:nth-child(1) { padding: 0 10px; text-align: right }\n",
       "    </style><table class=\"wandb\">\n",
       "<tr><td>valid_0_rmse</td><td>█▄▂▁▁▁▁▁▁▁▁▁▁▁▁▁▁▁▁▁▁▁▁▁▁▁▁▁▁▁▁▁▁▁▁▁▁▁▁▁</td></tr><tr><td>_runtime</td><td>▁▁▂▂▂▂▂▂▃▃▃▃▄▄▄▄▄▄▅▅▅▅▅▅▅▆▆▆▆▆▇▇▇▇▇▇▇███</td></tr><tr><td>_timestamp</td><td>▁▁▂▂▂▂▂▂▃▃▃▃▄▄▄▄▄▄▅▅▅▅▅▅▅▆▆▆▆▆▇▇▇▇▇▇▇███</td></tr><tr><td>_step</td><td>▁▁▁▂▂▂▂▂▂▃▃▃▃▃▃▄▄▄▄▄▅▅▅▅▅▅▆▆▆▆▆▇▇▇▇▇▇███</td></tr></table><br/>"
      ],
      "text/plain": [
       "<IPython.core.display.HTML object>"
      ]
     },
     "metadata": {},
     "output_type": "display_data"
    },
    {
     "data": {
      "text/html": [
       "Synced 5 W&B file(s), 0 media file(s), 0 artifact file(s) and 0 other file(s)"
      ],
      "text/plain": [
       "<IPython.core.display.HTML object>"
      ]
     },
     "metadata": {},
     "output_type": "display_data"
    },
    {
     "data": {
      "text/html": [
       "\n",
       "                    <br/>Synced <strong style=\"color:#cdcd00\">dandy-spaceship-165</strong>: <a href=\"https://wandb.ai/kuto5046/outdoor/runs/2nqjx54w\" target=\"_blank\">https://wandb.ai/kuto5046/outdoor/runs/2nqjx54w</a><br/>\n",
       "                "
      ],
      "text/plain": [
       "<IPython.core.display.HTML object>"
      ]
     },
     "metadata": {},
     "output_type": "display_data"
    },
    {
     "name": "stdout",
     "output_type": "stream",
     "text": [
      "====================\n",
      "Fold 3\n",
      "====================\n"
     ]
    },
    {
     "name": "stderr",
     "output_type": "stream",
     "text": [
      "\u001b[34m\u001b[1mwandb\u001b[0m: wandb version 0.10.31 is available!  To upgrade, please run:\n",
      "\u001b[34m\u001b[1mwandb\u001b[0m:  $ pip install wandb --upgrade\n"
     ]
    },
    {
     "data": {
      "text/html": [
       "\n",
       "                Tracking run with wandb version 0.10.22<br/>\n",
       "                Syncing run <strong style=\"color:#cdcd00\">earthy-music-166</strong> to <a href=\"https://wandb.ai\" target=\"_blank\">Weights & Biases</a> <a href=\"https://docs.wandb.com/integrations/jupyter.html\" target=\"_blank\">(Documentation)</a>.<br/>\n",
       "                Project page: <a href=\"https://wandb.ai/kuto5046/outdoor\" target=\"_blank\">https://wandb.ai/kuto5046/outdoor</a><br/>\n",
       "                Run page: <a href=\"https://wandb.ai/kuto5046/outdoor/runs/314miver\" target=\"_blank\">https://wandb.ai/kuto5046/outdoor/runs/314miver</a><br/>\n",
       "                Run data is saved locally in <code>/home/user/work/exp/exp008/wandb/run-20210602_215110-314miver</code><br/><br/>\n",
       "            "
      ],
      "text/plain": [
       "<IPython.core.display.HTML object>"
      ]
     },
     "metadata": {},
     "output_type": "display_data"
    },
    {
     "name": "stdout",
     "output_type": "stream",
     "text": [
      "[LightGBM] [Warning] Accuracy may be bad since you didn't explicitly set num_leaves OR 2^max_depth > num_leaves. (num_leaves=31).\n",
      "Training until validation scores don't improve for 100 rounds\n",
      "[50]\tvalid_0's rmse: 0.000124647\n",
      "[100]\tvalid_0's rmse: 9.60737e-05\n",
      "[150]\tvalid_0's rmse: 7.60142e-05\n",
      "[200]\tvalid_0's rmse: 6.24833e-05\n",
      "[250]\tvalid_0's rmse: 5.50526e-05\n",
      "[300]\tvalid_0's rmse: 4.93775e-05\n",
      "[350]\tvalid_0's rmse: 4.6587e-05\n",
      "[400]\tvalid_0's rmse: 4.45051e-05\n",
      "[450]\tvalid_0's rmse: 4.30411e-05\n",
      "[500]\tvalid_0's rmse: 4.15839e-05\n",
      "[550]\tvalid_0's rmse: 4.06111e-05\n",
      "[600]\tvalid_0's rmse: 4.00734e-05\n",
      "[650]\tvalid_0's rmse: 3.95523e-05\n",
      "[700]\tvalid_0's rmse: 3.90696e-05\n",
      "[750]\tvalid_0's rmse: 3.85577e-05\n",
      "[800]\tvalid_0's rmse: 3.81347e-05\n",
      "[850]\tvalid_0's rmse: 3.78102e-05\n",
      "[900]\tvalid_0's rmse: 3.74928e-05\n",
      "[950]\tvalid_0's rmse: 3.72648e-05\n",
      "[1000]\tvalid_0's rmse: 3.70219e-05\n",
      "[1050]\tvalid_0's rmse: 3.68316e-05\n",
      "[1100]\tvalid_0's rmse: 3.66572e-05\n",
      "[1150]\tvalid_0's rmse: 3.64634e-05\n",
      "[1200]\tvalid_0's rmse: 3.63175e-05\n",
      "[1250]\tvalid_0's rmse: 3.61732e-05\n",
      "[1300]\tvalid_0's rmse: 3.60509e-05\n",
      "[1350]\tvalid_0's rmse: 3.59463e-05\n",
      "[1400]\tvalid_0's rmse: 3.58304e-05\n",
      "[1450]\tvalid_0's rmse: 3.57166e-05\n",
      "[1500]\tvalid_0's rmse: 3.56269e-05\n",
      "[1550]\tvalid_0's rmse: 3.55632e-05\n",
      "[1600]\tvalid_0's rmse: 3.54824e-05\n",
      "[1650]\tvalid_0's rmse: 3.54007e-05\n",
      "[1700]\tvalid_0's rmse: 3.5351e-05\n",
      "[1750]\tvalid_0's rmse: 3.52943e-05\n",
      "[1800]\tvalid_0's rmse: 3.52508e-05\n",
      "[1850]\tvalid_0's rmse: 3.51999e-05\n",
      "[1900]\tvalid_0's rmse: 3.51457e-05\n",
      "[1950]\tvalid_0's rmse: 3.50887e-05\n",
      "[2000]\tvalid_0's rmse: 3.50652e-05\n",
      "[2050]\tvalid_0's rmse: 3.50367e-05\n",
      "[2100]\tvalid_0's rmse: 3.50036e-05\n",
      "[2150]\tvalid_0's rmse: 3.49867e-05\n",
      "[2200]\tvalid_0's rmse: 3.4974e-05\n",
      "[2250]\tvalid_0's rmse: 3.49692e-05\n",
      "[2300]\tvalid_0's rmse: 3.49598e-05\n",
      "[2350]\tvalid_0's rmse: 3.4954e-05\n",
      "[2400]\tvalid_0's rmse: 3.49492e-05\n",
      "[2450]\tvalid_0's rmse: 3.49464e-05\n",
      "[2500]\tvalid_0's rmse: 3.49451e-05\n",
      "[2550]\tvalid_0's rmse: 3.49433e-05\n",
      "[2600]\tvalid_0's rmse: 3.49412e-05\n",
      "[2650]\tvalid_0's rmse: 3.49381e-05\n",
      "[2700]\tvalid_0's rmse: 3.49354e-05\n",
      "[2750]\tvalid_0's rmse: 3.49344e-05\n",
      "[2800]\tvalid_0's rmse: 3.49338e-05\n",
      "[2850]\tvalid_0's rmse: 3.49317e-05\n",
      "[2900]\tvalid_0's rmse: 3.49268e-05\n",
      "[2950]\tvalid_0's rmse: 3.4926e-05\n",
      "[3000]\tvalid_0's rmse: 3.49223e-05\n",
      "[3050]\tvalid_0's rmse: 3.49203e-05\n",
      "[3100]\tvalid_0's rmse: 3.49193e-05\n",
      "[3150]\tvalid_0's rmse: 3.49151e-05\n",
      "[3200]\tvalid_0's rmse: 3.49138e-05\n",
      "[3250]\tvalid_0's rmse: 3.49134e-05\n",
      "[3300]\tvalid_0's rmse: 3.49127e-05\n",
      "[3350]\tvalid_0's rmse: 3.49119e-05\n",
      "[3400]\tvalid_0's rmse: 3.49115e-05\n",
      "[3450]\tvalid_0's rmse: 3.49111e-05\n",
      "[3500]\tvalid_0's rmse: 3.49106e-05\n",
      "[3550]\tvalid_0's rmse: 3.49101e-05\n",
      "[3600]\tvalid_0's rmse: 3.49095e-05\n",
      "[3650]\tvalid_0's rmse: 3.49087e-05\n",
      "[3700]\tvalid_0's rmse: 3.49083e-05\n",
      "[3750]\tvalid_0's rmse: 3.49058e-05\n",
      "[3800]\tvalid_0's rmse: 3.49039e-05\n",
      "[3850]\tvalid_0's rmse: 3.49033e-05\n",
      "[3900]\tvalid_0's rmse: 3.48994e-05\n",
      "[3950]\tvalid_0's rmse: 3.48993e-05\n",
      "[4000]\tvalid_0's rmse: 3.48988e-05\n",
      "[4050]\tvalid_0's rmse: 3.48985e-05\n",
      "[4100]\tvalid_0's rmse: 3.48981e-05\n",
      "[4150]\tvalid_0's rmse: 3.48978e-05\n",
      "[4200]\tvalid_0's rmse: 3.48959e-05\n",
      "[4250]\tvalid_0's rmse: 3.48956e-05\n",
      "[4300]\tvalid_0's rmse: 3.48953e-05\n",
      "[4350]\tvalid_0's rmse: 3.4895e-05\n",
      "[4400]\tvalid_0's rmse: 3.48947e-05\n",
      "[4450]\tvalid_0's rmse: 3.48944e-05\n",
      "[4500]\tvalid_0's rmse: 3.48939e-05\n",
      "[4550]\tvalid_0's rmse: 3.48932e-05\n",
      "[4600]\tvalid_0's rmse: 3.48927e-05\n",
      "[4650]\tvalid_0's rmse: 3.48924e-05\n",
      "[4700]\tvalid_0's rmse: 3.48921e-05\n",
      "[4750]\tvalid_0's rmse: 3.4892e-05\n",
      "[4800]\tvalid_0's rmse: 3.48915e-05\n",
      "[4850]\tvalid_0's rmse: 3.48912e-05\n",
      "[4900]\tvalid_0's rmse: 3.4891e-05\n",
      "[4950]\tvalid_0's rmse: 3.48906e-05\n",
      "[5000]\tvalid_0's rmse: 3.48904e-05\n",
      "[5050]\tvalid_0's rmse: 3.4889e-05\n",
      "[5100]\tvalid_0's rmse: 3.48885e-05\n",
      "[5150]\tvalid_0's rmse: 3.4888e-05\n",
      "[5200]\tvalid_0's rmse: 3.48879e-05\n",
      "[5250]\tvalid_0's rmse: 3.48869e-05\n",
      "[5300]\tvalid_0's rmse: 3.48867e-05\n",
      "[5350]\tvalid_0's rmse: 3.48864e-05\n",
      "[5400]\tvalid_0's rmse: 3.48861e-05\n",
      "[5450]\tvalid_0's rmse: 3.48858e-05\n",
      "[5500]\tvalid_0's rmse: 3.48857e-05\n",
      "[5550]\tvalid_0's rmse: 3.48846e-05\n",
      "[5600]\tvalid_0's rmse: 3.48844e-05\n",
      "[5650]\tvalid_0's rmse: 3.4884e-05\n",
      "[5700]\tvalid_0's rmse: 3.48837e-05\n",
      "[5750]\tvalid_0's rmse: 3.48829e-05\n",
      "[5800]\tvalid_0's rmse: 3.48827e-05\n",
      "[5850]\tvalid_0's rmse: 3.48826e-05\n",
      "[5900]\tvalid_0's rmse: 3.48823e-05\n",
      "[5950]\tvalid_0's rmse: 3.48819e-05\n",
      "[6000]\tvalid_0's rmse: 3.48817e-05\n",
      "[6050]\tvalid_0's rmse: 3.48815e-05\n",
      "[6100]\tvalid_0's rmse: 3.48813e-05\n",
      "[6150]\tvalid_0's rmse: 3.4881e-05\n",
      "[6200]\tvalid_0's rmse: 3.48808e-05\n",
      "[6250]\tvalid_0's rmse: 3.48807e-05\n",
      "[6300]\tvalid_0's rmse: 3.48803e-05\n",
      "[6350]\tvalid_0's rmse: 3.48802e-05\n",
      "[6400]\tvalid_0's rmse: 3.488e-05\n",
      "[6450]\tvalid_0's rmse: 3.48799e-05\n",
      "[6500]\tvalid_0's rmse: 3.48796e-05\n",
      "[6550]\tvalid_0's rmse: 3.48796e-05\n",
      "[6600]\tvalid_0's rmse: 3.48787e-05\n",
      "[6650]\tvalid_0's rmse: 3.48783e-05\n",
      "[6700]\tvalid_0's rmse: 3.48781e-05\n",
      "[6750]\tvalid_0's rmse: 3.4878e-05\n",
      "[6800]\tvalid_0's rmse: 3.48777e-05\n",
      "[6850]\tvalid_0's rmse: 3.48775e-05\n",
      "[6900]\tvalid_0's rmse: 3.48766e-05\n",
      "[6950]\tvalid_0's rmse: 3.48763e-05\n",
      "[7000]\tvalid_0's rmse: 3.48761e-05\n",
      "[7050]\tvalid_0's rmse: 3.48758e-05\n",
      "[7100]\tvalid_0's rmse: 3.48752e-05\n",
      "[7150]\tvalid_0's rmse: 3.48749e-05\n",
      "[7200]\tvalid_0's rmse: 3.48748e-05\n",
      "[7250]\tvalid_0's rmse: 3.48746e-05\n",
      "[7300]\tvalid_0's rmse: 3.48745e-05\n",
      "[7350]\tvalid_0's rmse: 3.48744e-05\n",
      "[7400]\tvalid_0's rmse: 3.48742e-05\n",
      "[7450]\tvalid_0's rmse: 3.4874e-05\n",
      "[7500]\tvalid_0's rmse: 3.48739e-05\n",
      "[7550]\tvalid_0's rmse: 3.48738e-05\n",
      "[7600]\tvalid_0's rmse: 3.48725e-05\n",
      "[7650]\tvalid_0's rmse: 3.48724e-05\n",
      "[7700]\tvalid_0's rmse: 3.48703e-05\n",
      "[7750]\tvalid_0's rmse: 3.48702e-05\n",
      "[7800]\tvalid_0's rmse: 3.48701e-05\n",
      "[7850]\tvalid_0's rmse: 3.487e-05\n",
      "[7900]\tvalid_0's rmse: 3.48685e-05\n",
      "[7950]\tvalid_0's rmse: 3.48682e-05\n",
      "[8000]\tvalid_0's rmse: 3.48679e-05\n",
      "[8050]\tvalid_0's rmse: 3.48678e-05\n",
      "[8100]\tvalid_0's rmse: 3.48676e-05\n",
      "[8150]\tvalid_0's rmse: 3.48638e-05\n",
      "[8200]\tvalid_0's rmse: 3.48637e-05\n",
      "[8250]\tvalid_0's rmse: 3.48635e-05\n",
      "[8300]\tvalid_0's rmse: 3.48634e-05\n",
      "[8350]\tvalid_0's rmse: 3.48633e-05\n",
      "[8400]\tvalid_0's rmse: 3.48632e-05\n",
      "[8450]\tvalid_0's rmse: 3.48631e-05\n",
      "[8500]\tvalid_0's rmse: 3.48629e-05\n",
      "[8550]\tvalid_0's rmse: 3.48618e-05\n",
      "[8600]\tvalid_0's rmse: 3.48617e-05\n",
      "[8650]\tvalid_0's rmse: 3.48615e-05\n",
      "[8700]\tvalid_0's rmse: 3.48614e-05\n",
      "[8750]\tvalid_0's rmse: 3.48613e-05\n",
      "[8800]\tvalid_0's rmse: 3.48606e-05\n",
      "[8850]\tvalid_0's rmse: 3.48605e-05\n",
      "[8900]\tvalid_0's rmse: 3.48603e-05\n",
      "[8950]\tvalid_0's rmse: 3.48588e-05\n",
      "[9000]\tvalid_0's rmse: 3.48586e-05\n",
      "[9050]\tvalid_0's rmse: 3.48584e-05\n",
      "[9100]\tvalid_0's rmse: 3.48574e-05\n",
      "[9150]\tvalid_0's rmse: 3.48573e-05\n",
      "[9200]\tvalid_0's rmse: 3.48572e-05\n",
      "[9250]\tvalid_0's rmse: 3.48571e-05\n",
      "[9300]\tvalid_0's rmse: 3.48569e-05\n",
      "[9350]\tvalid_0's rmse: 3.48567e-05\n",
      "[9400]\tvalid_0's rmse: 3.48566e-05\n",
      "[9450]\tvalid_0's rmse: 3.48565e-05\n",
      "[9500]\tvalid_0's rmse: 3.48563e-05\n",
      "[9550]\tvalid_0's rmse: 3.48562e-05\n",
      "[9600]\tvalid_0's rmse: 3.4856e-05\n",
      "[9650]\tvalid_0's rmse: 3.48559e-05\n",
      "[9700]\tvalid_0's rmse: 3.48559e-05\n",
      "[9750]\tvalid_0's rmse: 3.48558e-05\n",
      "[9800]\tvalid_0's rmse: 3.48556e-05\n",
      "[9850]\tvalid_0's rmse: 3.48556e-05\n",
      "[9900]\tvalid_0's rmse: 3.48555e-05\n",
      "[9950]\tvalid_0's rmse: 3.48554e-05\n",
      "[10000]\tvalid_0's rmse: 3.48553e-05\n",
      "Did not meet early stopping. Best iteration is:\n",
      "[10000]\tvalid_0's rmse: 3.48553e-05\n",
      "fit fold=3  134.495[s]\n",
      "Fold 3 MSE: 0.0000\n"
     ]
    },
    {
     "data": {
      "text/html": [
       "<br/>Waiting for W&B process to finish, PID 67665<br/>Program ended successfully."
      ],
      "text/plain": [
       "<IPython.core.display.HTML object>"
      ]
     },
     "metadata": {},
     "output_type": "display_data"
    },
    {
     "data": {
      "application/vnd.jupyter.widget-view+json": {
       "model_id": "c34c0d5aae6041f19adc46f7488b5968",
       "version_major": 2,
       "version_minor": 0
      },
      "text/plain": [
       "VBox(children=(Label(value=' 0.00MB of 0.00MB uploaded (0.00MB deduped)\\r'), FloatProgress(value=1.0, max=1.0)…"
      ]
     },
     "metadata": {},
     "output_type": "display_data"
    },
    {
     "data": {
      "text/html": [
       "Find user logs for this run at: <code>/home/user/work/exp/exp008/wandb/run-20210602_215110-314miver/logs/debug.log</code>"
      ],
      "text/plain": [
       "<IPython.core.display.HTML object>"
      ]
     },
     "metadata": {},
     "output_type": "display_data"
    },
    {
     "data": {
      "text/html": [
       "Find internal logs for this run at: <code>/home/user/work/exp/exp008/wandb/run-20210602_215110-314miver/logs/debug-internal.log</code>"
      ],
      "text/plain": [
       "<IPython.core.display.HTML object>"
      ]
     },
     "metadata": {},
     "output_type": "display_data"
    },
    {
     "data": {
      "text/html": [
       "<h3>Run summary:</h3><br/><style>\n",
       "    table.wandb td:nth-child(1) { padding: 0 10px; text-align: right }\n",
       "    </style><table class=\"wandb\">\n",
       "<tr><td>valid_0_rmse</td><td>3e-05</td></tr><tr><td>_runtime</td><td>135</td></tr><tr><td>_timestamp</td><td>1622638405</td></tr><tr><td>_step</td><td>9999</td></tr></table>"
      ],
      "text/plain": [
       "<IPython.core.display.HTML object>"
      ]
     },
     "metadata": {},
     "output_type": "display_data"
    },
    {
     "data": {
      "text/html": [
       "<h3>Run history:</h3><br/><style>\n",
       "    table.wandb td:nth-child(1) { padding: 0 10px; text-align: right }\n",
       "    </style><table class=\"wandb\">\n",
       "<tr><td>valid_0_rmse</td><td>█▄▂▂▁▁▁▁▁▁▁▁▁▁▁▁▁▁▁▁▁▁▁▁▁▁▁▁▁▁▁▁▁▁▁▁▁▁▁▁</td></tr><tr><td>_runtime</td><td>▁▁▁▂▂▂▂▂▃▃▃▃▃▄▄▄▄▄▄▅▅▅▅▅▅▆▆▆▆▆▆▇▇▇▇▇████</td></tr><tr><td>_timestamp</td><td>▁▁▁▂▂▂▂▂▃▃▃▃▃▄▄▄▄▄▄▅▅▅▅▅▅▆▆▆▆▆▆▇▇▇▇▇████</td></tr><tr><td>_step</td><td>▁▁▁▁▂▂▂▂▂▃▃▃▃▃▃▄▄▄▄▄▅▅▅▅▅▅▆▆▆▆▆▇▇▇▇▇▇███</td></tr></table><br/>"
      ],
      "text/plain": [
       "<IPython.core.display.HTML object>"
      ]
     },
     "metadata": {},
     "output_type": "display_data"
    },
    {
     "data": {
      "text/html": [
       "Synced 5 W&B file(s), 0 media file(s), 0 artifact file(s) and 0 other file(s)"
      ],
      "text/plain": [
       "<IPython.core.display.HTML object>"
      ]
     },
     "metadata": {},
     "output_type": "display_data"
    },
    {
     "data": {
      "text/html": [
       "\n",
       "                    <br/>Synced <strong style=\"color:#cdcd00\">earthy-music-166</strong>: <a href=\"https://wandb.ai/kuto5046/outdoor/runs/314miver\" target=\"_blank\">https://wandb.ai/kuto5046/outdoor/runs/314miver</a><br/>\n",
       "                "
      ],
      "text/plain": [
       "<IPython.core.display.HTML object>"
      ]
     },
     "metadata": {},
     "output_type": "display_data"
    },
    {
     "name": "stdout",
     "output_type": "stream",
     "text": [
      "====================\n",
      "Fold 4\n",
      "====================\n"
     ]
    },
    {
     "name": "stderr",
     "output_type": "stream",
     "text": [
      "\u001b[34m\u001b[1mwandb\u001b[0m: wandb version 0.10.31 is available!  To upgrade, please run:\n",
      "\u001b[34m\u001b[1mwandb\u001b[0m:  $ pip install wandb --upgrade\n"
     ]
    },
    {
     "data": {
      "text/html": [
       "\n",
       "                Tracking run with wandb version 0.10.22<br/>\n",
       "                Syncing run <strong style=\"color:#cdcd00\">dainty-water-167</strong> to <a href=\"https://wandb.ai\" target=\"_blank\">Weights & Biases</a> <a href=\"https://docs.wandb.com/integrations/jupyter.html\" target=\"_blank\">(Documentation)</a>.<br/>\n",
       "                Project page: <a href=\"https://wandb.ai/kuto5046/outdoor\" target=\"_blank\">https://wandb.ai/kuto5046/outdoor</a><br/>\n",
       "                Run page: <a href=\"https://wandb.ai/kuto5046/outdoor/runs/275wx77j\" target=\"_blank\">https://wandb.ai/kuto5046/outdoor/runs/275wx77j</a><br/>\n",
       "                Run data is saved locally in <code>/home/user/work/exp/exp008/wandb/run-20210602_215329-275wx77j</code><br/><br/>\n",
       "            "
      ],
      "text/plain": [
       "<IPython.core.display.HTML object>"
      ]
     },
     "metadata": {},
     "output_type": "display_data"
    },
    {
     "name": "stdout",
     "output_type": "stream",
     "text": [
      "[LightGBM] [Warning] Accuracy may be bad since you didn't explicitly set num_leaves OR 2^max_depth > num_leaves. (num_leaves=31).\n",
      "Training until validation scores don't improve for 100 rounds\n",
      "[50]\tvalid_0's rmse: 0.000123924\n",
      "[100]\tvalid_0's rmse: 9.02408e-05\n",
      "[150]\tvalid_0's rmse: 7.17074e-05\n",
      "[200]\tvalid_0's rmse: 5.80115e-05\n",
      "[250]\tvalid_0's rmse: 4.98145e-05\n",
      "[300]\tvalid_0's rmse: 4.44487e-05\n",
      "[350]\tvalid_0's rmse: 4.18927e-05\n",
      "[400]\tvalid_0's rmse: 3.97579e-05\n",
      "[450]\tvalid_0's rmse: 3.83354e-05\n",
      "[500]\tvalid_0's rmse: 3.69365e-05\n",
      "[550]\tvalid_0's rmse: 3.58619e-05\n",
      "[600]\tvalid_0's rmse: 3.50377e-05\n",
      "[650]\tvalid_0's rmse: 3.4487e-05\n",
      "[700]\tvalid_0's rmse: 3.40076e-05\n",
      "[750]\tvalid_0's rmse: 3.36645e-05\n",
      "[800]\tvalid_0's rmse: 3.34316e-05\n",
      "[850]\tvalid_0's rmse: 3.32046e-05\n",
      "[900]\tvalid_0's rmse: 3.29449e-05\n",
      "[950]\tvalid_0's rmse: 3.26913e-05\n",
      "[1000]\tvalid_0's rmse: 3.25539e-05\n",
      "[1050]\tvalid_0's rmse: 3.23301e-05\n",
      "[1100]\tvalid_0's rmse: 3.21512e-05\n",
      "[1150]\tvalid_0's rmse: 3.19809e-05\n",
      "[1200]\tvalid_0's rmse: 3.18363e-05\n",
      "[1250]\tvalid_0's rmse: 3.17336e-05\n",
      "[1300]\tvalid_0's rmse: 3.16453e-05\n",
      "[1350]\tvalid_0's rmse: 3.15621e-05\n",
      "[1400]\tvalid_0's rmse: 3.14549e-05\n",
      "[1450]\tvalid_0's rmse: 3.13604e-05\n",
      "[1500]\tvalid_0's rmse: 3.12792e-05\n",
      "[1550]\tvalid_0's rmse: 3.12191e-05\n",
      "[1600]\tvalid_0's rmse: 3.11615e-05\n",
      "[1650]\tvalid_0's rmse: 3.11143e-05\n",
      "[1700]\tvalid_0's rmse: 3.10772e-05\n",
      "[1750]\tvalid_0's rmse: 3.10149e-05\n",
      "[1800]\tvalid_0's rmse: 3.09823e-05\n",
      "[1850]\tvalid_0's rmse: 3.09591e-05\n",
      "[1900]\tvalid_0's rmse: 3.09336e-05\n",
      "[1950]\tvalid_0's rmse: 3.09235e-05\n",
      "[2000]\tvalid_0's rmse: 3.09195e-05\n",
      "[2050]\tvalid_0's rmse: 3.09092e-05\n",
      "[2100]\tvalid_0's rmse: 3.09021e-05\n",
      "[2150]\tvalid_0's rmse: 3.08897e-05\n",
      "[2200]\tvalid_0's rmse: 3.08863e-05\n",
      "[2250]\tvalid_0's rmse: 3.08801e-05\n",
      "[2300]\tvalid_0's rmse: 3.08789e-05\n",
      "[2350]\tvalid_0's rmse: 3.08782e-05\n",
      "[2400]\tvalid_0's rmse: 3.08765e-05\n",
      "[2450]\tvalid_0's rmse: 3.08719e-05\n",
      "[2500]\tvalid_0's rmse: 3.08714e-05\n",
      "[2550]\tvalid_0's rmse: 3.08707e-05\n",
      "[2600]\tvalid_0's rmse: 3.087e-05\n",
      "[2650]\tvalid_0's rmse: 3.08697e-05\n",
      "[2700]\tvalid_0's rmse: 3.08689e-05\n",
      "[2750]\tvalid_0's rmse: 3.08672e-05\n",
      "[2800]\tvalid_0's rmse: 3.08662e-05\n",
      "[2850]\tvalid_0's rmse: 3.08655e-05\n",
      "[2900]\tvalid_0's rmse: 3.08649e-05\n",
      "[2950]\tvalid_0's rmse: 3.08643e-05\n",
      "[3000]\tvalid_0's rmse: 3.08638e-05\n",
      "[3050]\tvalid_0's rmse: 3.08637e-05\n",
      "[3100]\tvalid_0's rmse: 3.08624e-05\n",
      "[3150]\tvalid_0's rmse: 3.0862e-05\n",
      "[3200]\tvalid_0's rmse: 3.08593e-05\n",
      "[3250]\tvalid_0's rmse: 3.08585e-05\n",
      "[3300]\tvalid_0's rmse: 3.08574e-05\n",
      "[3350]\tvalid_0's rmse: 3.08536e-05\n",
      "[3400]\tvalid_0's rmse: 3.08535e-05\n",
      "[3450]\tvalid_0's rmse: 3.08534e-05\n",
      "[3500]\tvalid_0's rmse: 3.08523e-05\n",
      "[3550]\tvalid_0's rmse: 3.08521e-05\n",
      "[3600]\tvalid_0's rmse: 3.0852e-05\n",
      "[3650]\tvalid_0's rmse: 3.08492e-05\n",
      "[3700]\tvalid_0's rmse: 3.08491e-05\n",
      "[3750]\tvalid_0's rmse: 3.08488e-05\n",
      "[3800]\tvalid_0's rmse: 3.08477e-05\n",
      "[3850]\tvalid_0's rmse: 3.08475e-05\n",
      "[3900]\tvalid_0's rmse: 3.08471e-05\n",
      "[3950]\tvalid_0's rmse: 3.0847e-05\n",
      "[4000]\tvalid_0's rmse: 3.08436e-05\n",
      "[4050]\tvalid_0's rmse: 3.08426e-05\n",
      "[4100]\tvalid_0's rmse: 3.08422e-05\n",
      "[4150]\tvalid_0's rmse: 3.0842e-05\n",
      "[4200]\tvalid_0's rmse: 3.08419e-05\n",
      "[4250]\tvalid_0's rmse: 3.08416e-05\n",
      "[4300]\tvalid_0's rmse: 3.08414e-05\n",
      "[4350]\tvalid_0's rmse: 3.08413e-05\n",
      "[4400]\tvalid_0's rmse: 3.08402e-05\n",
      "[4450]\tvalid_0's rmse: 3.084e-05\n",
      "[4500]\tvalid_0's rmse: 3.08385e-05\n",
      "[4550]\tvalid_0's rmse: 3.08384e-05\n",
      "[4600]\tvalid_0's rmse: 3.0838e-05\n",
      "[4650]\tvalid_0's rmse: 3.08379e-05\n",
      "[4700]\tvalid_0's rmse: 3.08377e-05\n",
      "[4750]\tvalid_0's rmse: 3.08376e-05\n",
      "[4800]\tvalid_0's rmse: 3.08374e-05\n",
      "[4850]\tvalid_0's rmse: 3.08373e-05\n",
      "[4900]\tvalid_0's rmse: 3.0837e-05\n",
      "[4950]\tvalid_0's rmse: 3.08359e-05\n",
      "[5000]\tvalid_0's rmse: 3.08358e-05\n",
      "[5050]\tvalid_0's rmse: 3.08356e-05\n",
      "[5100]\tvalid_0's rmse: 3.08354e-05\n",
      "[5150]\tvalid_0's rmse: 3.08353e-05\n",
      "[5200]\tvalid_0's rmse: 3.08352e-05\n",
      "[5250]\tvalid_0's rmse: 3.0835e-05\n",
      "[5300]\tvalid_0's rmse: 3.08335e-05\n",
      "[5350]\tvalid_0's rmse: 3.08333e-05\n",
      "[5400]\tvalid_0's rmse: 3.08332e-05\n",
      "[5450]\tvalid_0's rmse: 3.08331e-05\n",
      "[5500]\tvalid_0's rmse: 3.08329e-05\n",
      "[5550]\tvalid_0's rmse: 3.08311e-05\n",
      "[5600]\tvalid_0's rmse: 3.08311e-05\n",
      "[5650]\tvalid_0's rmse: 3.0831e-05\n",
      "[5700]\tvalid_0's rmse: 3.08307e-05\n",
      "[5750]\tvalid_0's rmse: 3.08306e-05\n",
      "[5800]\tvalid_0's rmse: 3.08303e-05\n",
      "[5850]\tvalid_0's rmse: 3.08302e-05\n",
      "[5900]\tvalid_0's rmse: 3.08301e-05\n",
      "[5950]\tvalid_0's rmse: 3.083e-05\n",
      "[6000]\tvalid_0's rmse: 3.08299e-05\n",
      "[6050]\tvalid_0's rmse: 3.08298e-05\n",
      "[6100]\tvalid_0's rmse: 3.08298e-05\n",
      "[6150]\tvalid_0's rmse: 3.08297e-05\n",
      "[6200]\tvalid_0's rmse: 3.08296e-05\n",
      "[6250]\tvalid_0's rmse: 3.08294e-05\n",
      "[6300]\tvalid_0's rmse: 3.08244e-05\n",
      "[6350]\tvalid_0's rmse: 3.08242e-05\n",
      "[6400]\tvalid_0's rmse: 3.08241e-05\n",
      "[6450]\tvalid_0's rmse: 3.0824e-05\n",
      "[6500]\tvalid_0's rmse: 3.08237e-05\n",
      "[6550]\tvalid_0's rmse: 3.08235e-05\n",
      "[6600]\tvalid_0's rmse: 3.08234e-05\n",
      "[6650]\tvalid_0's rmse: 3.08232e-05\n",
      "[6700]\tvalid_0's rmse: 3.08231e-05\n",
      "[6750]\tvalid_0's rmse: 3.08231e-05\n",
      "[6800]\tvalid_0's rmse: 3.0823e-05\n",
      "[6850]\tvalid_0's rmse: 3.08229e-05\n",
      "[6900]\tvalid_0's rmse: 3.08228e-05\n",
      "[6950]\tvalid_0's rmse: 3.08227e-05\n",
      "[7000]\tvalid_0's rmse: 3.08226e-05\n",
      "[7050]\tvalid_0's rmse: 3.08205e-05\n",
      "[7100]\tvalid_0's rmse: 3.08203e-05\n",
      "[7150]\tvalid_0's rmse: 3.08202e-05\n",
      "[7200]\tvalid_0's rmse: 3.08201e-05\n",
      "[7250]\tvalid_0's rmse: 3.0819e-05\n",
      "[7300]\tvalid_0's rmse: 3.08189e-05\n",
      "[7350]\tvalid_0's rmse: 3.08181e-05\n",
      "[7400]\tvalid_0's rmse: 3.0818e-05\n",
      "[7450]\tvalid_0's rmse: 3.08178e-05\n",
      "[7500]\tvalid_0's rmse: 3.08176e-05\n",
      "[7550]\tvalid_0's rmse: 3.08164e-05\n",
      "[7600]\tvalid_0's rmse: 3.08162e-05\n",
      "[7650]\tvalid_0's rmse: 3.08159e-05\n",
      "[7700]\tvalid_0's rmse: 3.08158e-05\n",
      "[7750]\tvalid_0's rmse: 3.08157e-05\n",
      "[7800]\tvalid_0's rmse: 3.08155e-05\n",
      "[7850]\tvalid_0's rmse: 3.08153e-05\n",
      "[7900]\tvalid_0's rmse: 3.08153e-05\n",
      "[7950]\tvalid_0's rmse: 3.08152e-05\n",
      "[8000]\tvalid_0's rmse: 3.08149e-05\n",
      "[8050]\tvalid_0's rmse: 3.08148e-05\n",
      "[8100]\tvalid_0's rmse: 3.08146e-05\n",
      "[8150]\tvalid_0's rmse: 3.08145e-05\n",
      "[8200]\tvalid_0's rmse: 3.08129e-05\n",
      "[8250]\tvalid_0's rmse: 3.08128e-05\n",
      "[8300]\tvalid_0's rmse: 3.08127e-05\n",
      "[8350]\tvalid_0's rmse: 3.08126e-05\n",
      "[8400]\tvalid_0's rmse: 3.08105e-05\n",
      "[8450]\tvalid_0's rmse: 3.08103e-05\n",
      "[8500]\tvalid_0's rmse: 3.08102e-05\n",
      "[8550]\tvalid_0's rmse: 3.081e-05\n",
      "[8600]\tvalid_0's rmse: 3.08099e-05\n",
      "[8650]\tvalid_0's rmse: 3.08097e-05\n",
      "[8700]\tvalid_0's rmse: 3.08095e-05\n",
      "[8750]\tvalid_0's rmse: 3.08093e-05\n",
      "[8800]\tvalid_0's rmse: 3.08092e-05\n",
      "[8850]\tvalid_0's rmse: 3.08091e-05\n",
      "[8900]\tvalid_0's rmse: 3.08081e-05\n",
      "[8950]\tvalid_0's rmse: 3.0808e-05\n",
      "[9000]\tvalid_0's rmse: 3.08071e-05\n",
      "[9050]\tvalid_0's rmse: 3.0807e-05\n",
      "[9100]\tvalid_0's rmse: 3.08068e-05\n",
      "[9150]\tvalid_0's rmse: 3.08067e-05\n",
      "[9200]\tvalid_0's rmse: 3.08066e-05\n",
      "[9250]\tvalid_0's rmse: 3.08064e-05\n",
      "[9300]\tvalid_0's rmse: 3.08056e-05\n",
      "[9350]\tvalid_0's rmse: 3.08055e-05\n",
      "[9400]\tvalid_0's rmse: 3.08054e-05\n",
      "[9450]\tvalid_0's rmse: 3.08053e-05\n",
      "[9500]\tvalid_0's rmse: 3.08052e-05\n",
      "[9550]\tvalid_0's rmse: 3.08051e-05\n",
      "[9600]\tvalid_0's rmse: 3.0805e-05\n",
      "[9650]\tvalid_0's rmse: 3.0805e-05\n",
      "[9700]\tvalid_0's rmse: 3.08048e-05\n",
      "[9750]\tvalid_0's rmse: 3.08048e-05\n",
      "[9800]\tvalid_0's rmse: 3.08047e-05\n",
      "[9850]\tvalid_0's rmse: 3.08046e-05\n",
      "[9900]\tvalid_0's rmse: 3.08045e-05\n",
      "[9950]\tvalid_0's rmse: 3.08044e-05\n",
      "[10000]\tvalid_0's rmse: 3.08043e-05\n",
      "Did not meet early stopping. Best iteration is:\n",
      "[9985]\tvalid_0's rmse: 3.08043e-05\n",
      "fit fold=4  131.719[s]\n",
      "Fold 4 MSE: 0.0000\n",
      "--------------------------------------------------\n",
      "FINISHED | Whole MSE: 0.0002\n"
     ]
    }
   ],
   "source": [
    "# longitude\n",
    "y = train_df[\"target_delta_lngDeg\"]\n",
    "# X = train_df.drop(['target_delta_latDeg','target_delta_lngDeg','target_delta_distance', 'collectionName', 'phoneName'], axis=1)\n",
    "oof_lng = fit_lgbm(X, y, params=params, verbose=50)"
   ]
  },
  {
   "cell_type": "markdown",
   "metadata": {},
   "source": [
    "## validation"
   ]
  },
  {
   "cell_type": "code",
   "execution_count": 54,
   "metadata": {},
   "outputs": [],
   "source": [
    "train_df['oof_delta_lngDeg'] = oof_lng\n",
    "train_df['oof_delta_latDeg'] = oof_lat"
   ]
  },
  {
   "cell_type": "code",
   "execution_count": 55,
   "metadata": {},
   "outputs": [
    {
     "data": {
      "text/html": [
       "<div>\n",
       "<style scoped>\n",
       "    .dataframe tbody tr th:only-of-type {\n",
       "        vertical-align: middle;\n",
       "    }\n",
       "\n",
       "    .dataframe tbody tr th {\n",
       "        vertical-align: top;\n",
       "    }\n",
       "\n",
       "    .dataframe thead th {\n",
       "        text-align: right;\n",
       "    }\n",
       "</style>\n",
       "<table border=\"1\" class=\"dataframe\">\n",
       "  <thead>\n",
       "    <tr style=\"text-align: right;\">\n",
       "      <th></th>\n",
       "      <th>collectionName</th>\n",
       "      <th>phoneName</th>\n",
       "      <th>millisSinceGpsEpoch</th>\n",
       "      <th>delta_latDeg</th>\n",
       "      <th>delta_lngDeg</th>\n",
       "      <th>delta_distance</th>\n",
       "      <th>target_delta_latDeg</th>\n",
       "      <th>target_delta_lngDeg</th>\n",
       "      <th>target_delta_distance</th>\n",
       "      <th>accx_0</th>\n",
       "      <th>...</th>\n",
       "      <th>gyroz_94</th>\n",
       "      <th>gyroz_95</th>\n",
       "      <th>gyroz_96</th>\n",
       "      <th>gyroz_97</th>\n",
       "      <th>gyroz_98</th>\n",
       "      <th>gyroz_99</th>\n",
       "      <th>le_collectionName</th>\n",
       "      <th>le_phoneName</th>\n",
       "      <th>oof_delta_lngDeg</th>\n",
       "      <th>oof_delta_latDeg</th>\n",
       "    </tr>\n",
       "  </thead>\n",
       "  <tbody>\n",
       "    <tr>\n",
       "      <th>0</th>\n",
       "      <td>2020-05-14-US-MTV-1</td>\n",
       "      <td>Pixel4</td>\n",
       "      <td>1273529463442</td>\n",
       "      <td>0.000000</td>\n",
       "      <td>0.000000</td>\n",
       "      <td>0.000000</td>\n",
       "      <td>0.000000e+00</td>\n",
       "      <td>0.000000e+00</td>\n",
       "      <td>0.000000</td>\n",
       "      <td>NaN</td>\n",
       "      <td>...</td>\n",
       "      <td>NaN</td>\n",
       "      <td>NaN</td>\n",
       "      <td>NaN</td>\n",
       "      <td>NaN</td>\n",
       "      <td>NaN</td>\n",
       "      <td>NaN</td>\n",
       "      <td>0</td>\n",
       "      <td>1</td>\n",
       "      <td>0.000000</td>\n",
       "      <td>0.000000</td>\n",
       "    </tr>\n",
       "    <tr>\n",
       "      <th>1</th>\n",
       "      <td>2020-05-14-US-MTV-1</td>\n",
       "      <td>Pixel4</td>\n",
       "      <td>1273529464442</td>\n",
       "      <td>0.000002</td>\n",
       "      <td>-0.000010</td>\n",
       "      <td>0.888202</td>\n",
       "      <td>2.999982e-10</td>\n",
       "      <td>-1.700002e-09</td>\n",
       "      <td>0.000154</td>\n",
       "      <td>0.285826</td>\n",
       "      <td>...</td>\n",
       "      <td>-0.005614</td>\n",
       "      <td>0.021370</td>\n",
       "      <td>0.013379</td>\n",
       "      <td>-0.004650</td>\n",
       "      <td>-0.003194</td>\n",
       "      <td>0.007943</td>\n",
       "      <td>0</td>\n",
       "      <td>1</td>\n",
       "      <td>-0.000019</td>\n",
       "      <td>0.000012</td>\n",
       "    </tr>\n",
       "    <tr>\n",
       "      <th>2</th>\n",
       "      <td>2020-05-14-US-MTV-1</td>\n",
       "      <td>Pixel4</td>\n",
       "      <td>1273529465442</td>\n",
       "      <td>-0.000004</td>\n",
       "      <td>-0.000010</td>\n",
       "      <td>1.001204</td>\n",
       "      <td>1.040000e-08</td>\n",
       "      <td>3.400004e-09</td>\n",
       "      <td>0.001194</td>\n",
       "      <td>0.510429</td>\n",
       "      <td>...</td>\n",
       "      <td>0.010015</td>\n",
       "      <td>-0.003458</td>\n",
       "      <td>-0.010163</td>\n",
       "      <td>0.007554</td>\n",
       "      <td>0.018602</td>\n",
       "      <td>-0.007325</td>\n",
       "      <td>0</td>\n",
       "      <td>1</td>\n",
       "      <td>0.000000</td>\n",
       "      <td>0.000000</td>\n",
       "    </tr>\n",
       "    <tr>\n",
       "      <th>3</th>\n",
       "      <td>2020-05-14-US-MTV-1</td>\n",
       "      <td>Pixel4</td>\n",
       "      <td>1273529466442</td>\n",
       "      <td>0.000009</td>\n",
       "      <td>-0.000010</td>\n",
       "      <td>1.370528</td>\n",
       "      <td>1.140000e-08</td>\n",
       "      <td>1.600000e-09</td>\n",
       "      <td>0.001275</td>\n",
       "      <td>0.328562</td>\n",
       "      <td>...</td>\n",
       "      <td>-0.004991</td>\n",
       "      <td>-0.004373</td>\n",
       "      <td>0.002696</td>\n",
       "      <td>-0.004647</td>\n",
       "      <td>-0.030105</td>\n",
       "      <td>-0.020775</td>\n",
       "      <td>0</td>\n",
       "      <td>1</td>\n",
       "      <td>0.000000</td>\n",
       "      <td>0.000000</td>\n",
       "    </tr>\n",
       "    <tr>\n",
       "      <th>4</th>\n",
       "      <td>2020-05-14-US-MTV-1</td>\n",
       "      <td>Pixel4</td>\n",
       "      <td>1273529467442</td>\n",
       "      <td>-0.000003</td>\n",
       "      <td>0.000007</td>\n",
       "      <td>0.741296</td>\n",
       "      <td>9.900006e-09</td>\n",
       "      <td>-1.600000e-09</td>\n",
       "      <td>0.001109</td>\n",
       "      <td>0.097918</td>\n",
       "      <td>...</td>\n",
       "      <td>0.003267</td>\n",
       "      <td>0.011595</td>\n",
       "      <td>-0.012660</td>\n",
       "      <td>-0.020949</td>\n",
       "      <td>-0.005216</td>\n",
       "      <td>0.008465</td>\n",
       "      <td>0</td>\n",
       "      <td>1</td>\n",
       "      <td>0.000000</td>\n",
       "      <td>0.000000</td>\n",
       "    </tr>\n",
       "    <tr>\n",
       "      <th>...</th>\n",
       "      <td>...</td>\n",
       "      <td>...</td>\n",
       "      <td>...</td>\n",
       "      <td>...</td>\n",
       "      <td>...</td>\n",
       "      <td>...</td>\n",
       "      <td>...</td>\n",
       "      <td>...</td>\n",
       "      <td>...</td>\n",
       "      <td>...</td>\n",
       "      <td>...</td>\n",
       "      <td>...</td>\n",
       "      <td>...</td>\n",
       "      <td>...</td>\n",
       "      <td>...</td>\n",
       "      <td>...</td>\n",
       "      <td>...</td>\n",
       "      <td>...</td>\n",
       "      <td>...</td>\n",
       "      <td>...</td>\n",
       "      <td>...</td>\n",
       "    </tr>\n",
       "    <tr>\n",
       "      <th>131337</th>\n",
       "      <td>2021-04-29-US-SJC-2</td>\n",
       "      <td>SamsungS20Ultra</td>\n",
       "      <td>1303760315000</td>\n",
       "      <td>0.000003</td>\n",
       "      <td>0.000010</td>\n",
       "      <td>0.941490</td>\n",
       "      <td>5.000004e-09</td>\n",
       "      <td>0.000000e+00</td>\n",
       "      <td>0.000556</td>\n",
       "      <td>NaN</td>\n",
       "      <td>...</td>\n",
       "      <td>NaN</td>\n",
       "      <td>NaN</td>\n",
       "      <td>NaN</td>\n",
       "      <td>NaN</td>\n",
       "      <td>NaN</td>\n",
       "      <td>NaN</td>\n",
       "      <td>28</td>\n",
       "      <td>6</td>\n",
       "      <td>0.000000</td>\n",
       "      <td>0.000000</td>\n",
       "    </tr>\n",
       "    <tr>\n",
       "      <th>131338</th>\n",
       "      <td>2021-04-29-US-SJC-2</td>\n",
       "      <td>SamsungS20Ultra</td>\n",
       "      <td>1303760316000</td>\n",
       "      <td>0.000012</td>\n",
       "      <td>0.000017</td>\n",
       "      <td>2.011345</td>\n",
       "      <td>4.999997e-09</td>\n",
       "      <td>0.000000e+00</td>\n",
       "      <td>0.000556</td>\n",
       "      <td>NaN</td>\n",
       "      <td>...</td>\n",
       "      <td>NaN</td>\n",
       "      <td>NaN</td>\n",
       "      <td>NaN</td>\n",
       "      <td>NaN</td>\n",
       "      <td>NaN</td>\n",
       "      <td>NaN</td>\n",
       "      <td>28</td>\n",
       "      <td>6</td>\n",
       "      <td>0.000000</td>\n",
       "      <td>0.000000</td>\n",
       "    </tr>\n",
       "    <tr>\n",
       "      <th>131339</th>\n",
       "      <td>2021-04-29-US-SJC-2</td>\n",
       "      <td>SamsungS20Ultra</td>\n",
       "      <td>1303760317000</td>\n",
       "      <td>0.000019</td>\n",
       "      <td>-0.000014</td>\n",
       "      <td>2.447052</td>\n",
       "      <td>1.700002e-09</td>\n",
       "      <td>-1.600000e-09</td>\n",
       "      <td>0.000236</td>\n",
       "      <td>NaN</td>\n",
       "      <td>...</td>\n",
       "      <td>NaN</td>\n",
       "      <td>NaN</td>\n",
       "      <td>NaN</td>\n",
       "      <td>NaN</td>\n",
       "      <td>NaN</td>\n",
       "      <td>NaN</td>\n",
       "      <td>28</td>\n",
       "      <td>6</td>\n",
       "      <td>0.000000</td>\n",
       "      <td>0.000000</td>\n",
       "    </tr>\n",
       "    <tr>\n",
       "      <th>131340</th>\n",
       "      <td>2021-04-29-US-SJC-2</td>\n",
       "      <td>SamsungS20Ultra</td>\n",
       "      <td>1303760318000</td>\n",
       "      <td>0.000004</td>\n",
       "      <td>0.000014</td>\n",
       "      <td>1.303535</td>\n",
       "      <td>-4.330000e-08</td>\n",
       "      <td>3.300002e-09</td>\n",
       "      <td>0.004821</td>\n",
       "      <td>NaN</td>\n",
       "      <td>...</td>\n",
       "      <td>NaN</td>\n",
       "      <td>NaN</td>\n",
       "      <td>NaN</td>\n",
       "      <td>NaN</td>\n",
       "      <td>NaN</td>\n",
       "      <td>NaN</td>\n",
       "      <td>28</td>\n",
       "      <td>6</td>\n",
       "      <td>0.000000</td>\n",
       "      <td>0.000000</td>\n",
       "    </tr>\n",
       "    <tr>\n",
       "      <th>131341</th>\n",
       "      <td>2021-04-29-US-SJC-2</td>\n",
       "      <td>SamsungS20Ultra</td>\n",
       "      <td>1303760319000</td>\n",
       "      <td>-0.000010</td>\n",
       "      <td>0.000013</td>\n",
       "      <td>1.582827</td>\n",
       "      <td>-3.170000e-08</td>\n",
       "      <td>0.000000e+00</td>\n",
       "      <td>0.003523</td>\n",
       "      <td>NaN</td>\n",
       "      <td>...</td>\n",
       "      <td>NaN</td>\n",
       "      <td>NaN</td>\n",
       "      <td>NaN</td>\n",
       "      <td>NaN</td>\n",
       "      <td>NaN</td>\n",
       "      <td>NaN</td>\n",
       "      <td>28</td>\n",
       "      <td>6</td>\n",
       "      <td>0.000000</td>\n",
       "      <td>0.000000</td>\n",
       "    </tr>\n",
       "  </tbody>\n",
       "</table>\n",
       "<p>131342 rows × 913 columns</p>\n",
       "</div>"
      ],
      "text/plain": [
       "             collectionName        phoneName  millisSinceGpsEpoch  \\\n",
       "0       2020-05-14-US-MTV-1           Pixel4        1273529463442   \n",
       "1       2020-05-14-US-MTV-1           Pixel4        1273529464442   \n",
       "2       2020-05-14-US-MTV-1           Pixel4        1273529465442   \n",
       "3       2020-05-14-US-MTV-1           Pixel4        1273529466442   \n",
       "4       2020-05-14-US-MTV-1           Pixel4        1273529467442   \n",
       "...                     ...              ...                  ...   \n",
       "131337  2021-04-29-US-SJC-2  SamsungS20Ultra        1303760315000   \n",
       "131338  2021-04-29-US-SJC-2  SamsungS20Ultra        1303760316000   \n",
       "131339  2021-04-29-US-SJC-2  SamsungS20Ultra        1303760317000   \n",
       "131340  2021-04-29-US-SJC-2  SamsungS20Ultra        1303760318000   \n",
       "131341  2021-04-29-US-SJC-2  SamsungS20Ultra        1303760319000   \n",
       "\n",
       "        delta_latDeg  delta_lngDeg  delta_distance  target_delta_latDeg  \\\n",
       "0           0.000000      0.000000        0.000000         0.000000e+00   \n",
       "1           0.000002     -0.000010        0.888202         2.999982e-10   \n",
       "2          -0.000004     -0.000010        1.001204         1.040000e-08   \n",
       "3           0.000009     -0.000010        1.370528         1.140000e-08   \n",
       "4          -0.000003      0.000007        0.741296         9.900006e-09   \n",
       "...              ...           ...             ...                  ...   \n",
       "131337      0.000003      0.000010        0.941490         5.000004e-09   \n",
       "131338      0.000012      0.000017        2.011345         4.999997e-09   \n",
       "131339      0.000019     -0.000014        2.447052         1.700002e-09   \n",
       "131340      0.000004      0.000014        1.303535        -4.330000e-08   \n",
       "131341     -0.000010      0.000013        1.582827        -3.170000e-08   \n",
       "\n",
       "        target_delta_lngDeg  target_delta_distance    accx_0  ...  gyroz_94  \\\n",
       "0              0.000000e+00               0.000000       NaN  ...       NaN   \n",
       "1             -1.700002e-09               0.000154  0.285826  ... -0.005614   \n",
       "2              3.400004e-09               0.001194  0.510429  ...  0.010015   \n",
       "3              1.600000e-09               0.001275  0.328562  ... -0.004991   \n",
       "4             -1.600000e-09               0.001109  0.097918  ...  0.003267   \n",
       "...                     ...                    ...       ...  ...       ...   \n",
       "131337         0.000000e+00               0.000556       NaN  ...       NaN   \n",
       "131338         0.000000e+00               0.000556       NaN  ...       NaN   \n",
       "131339        -1.600000e-09               0.000236       NaN  ...       NaN   \n",
       "131340         3.300002e-09               0.004821       NaN  ...       NaN   \n",
       "131341         0.000000e+00               0.003523       NaN  ...       NaN   \n",
       "\n",
       "        gyroz_95  gyroz_96  gyroz_97  gyroz_98  gyroz_99  le_collectionName  \\\n",
       "0            NaN       NaN       NaN       NaN       NaN                  0   \n",
       "1       0.021370  0.013379 -0.004650 -0.003194  0.007943                  0   \n",
       "2      -0.003458 -0.010163  0.007554  0.018602 -0.007325                  0   \n",
       "3      -0.004373  0.002696 -0.004647 -0.030105 -0.020775                  0   \n",
       "4       0.011595 -0.012660 -0.020949 -0.005216  0.008465                  0   \n",
       "...          ...       ...       ...       ...       ...                ...   \n",
       "131337       NaN       NaN       NaN       NaN       NaN                 28   \n",
       "131338       NaN       NaN       NaN       NaN       NaN                 28   \n",
       "131339       NaN       NaN       NaN       NaN       NaN                 28   \n",
       "131340       NaN       NaN       NaN       NaN       NaN                 28   \n",
       "131341       NaN       NaN       NaN       NaN       NaN                 28   \n",
       "\n",
       "        le_phoneName  oof_delta_lngDeg  oof_delta_latDeg  \n",
       "0                  1          0.000000          0.000000  \n",
       "1                  1         -0.000019          0.000012  \n",
       "2                  1          0.000000          0.000000  \n",
       "3                  1          0.000000          0.000000  \n",
       "4                  1          0.000000          0.000000  \n",
       "...              ...               ...               ...  \n",
       "131337             6          0.000000          0.000000  \n",
       "131338             6          0.000000          0.000000  \n",
       "131339             6          0.000000          0.000000  \n",
       "131340             6          0.000000          0.000000  \n",
       "131341             6          0.000000          0.000000  \n",
       "\n",
       "[131342 rows x 913 columns]"
      ]
     },
     "execution_count": 55,
     "metadata": {},
     "output_type": "execute_result"
    }
   ],
   "source": [
    "train_df"
   ]
  },
  {
   "cell_type": "code",
   "execution_count": 57,
   "metadata": {},
   "outputs": [
    {
     "name": "stdout",
     "output_type": "stream",
     "text": [
      "CV:0.0001589717284266239\n",
      "CV:0.00012814614903903208\n"
     ]
    }
   ],
   "source": [
    "# waypoint補正前のx,yでの評価\n",
    "oof_score = mean_squared_error(\n",
    "    train_df['oof_delta_lngDeg'], train_df['target_delta_lngDeg'], squared=False\n",
    "    )\n",
    "\n",
    "print(f\"CV:{oof_score}\")\n",
    "\n",
    "# waypoint補正前のx,yでの評価\n",
    "oof_score = mean_squared_error(\n",
    "    train_df['oof_delta_latDeg'], train_df['target_delta_latDeg'], squared=False\n",
    "    )\n",
    "\n",
    "print(f\"CV:{oof_score}\")"
   ]
  },
  {
   "cell_type": "code",
   "execution_count": null,
   "metadata": {},
   "outputs": [],
   "source": []
  }
 ],
 "metadata": {
  "interpreter": {
   "hash": "31f2aee4e71d21fbe5cf8b01ff0e069b9275f58929596ceb00d14d90e3e16cd6"
  },
  "kernelspec": {
   "display_name": "Python 3.8.5 64-bit",
   "name": "python3"
  },
  "language_info": {
   "codemirror_mode": {
    "name": "ipython",
    "version": 3
   },
   "file_extension": ".py",
   "mimetype": "text/x-python",
   "name": "python",
   "nbconvert_exporter": "python",
   "pygments_lexer": "ipython3",
   "version": "3.8.5"
  },
  "widgets": {
   "application/vnd.jupyter.widget-state+json": {
    "state": {
     "00063024b5f8485188d7cc60268383d1": {
      "model_module": "@jupyter-widgets/controls",
      "model_module_version": "1.5.0",
      "model_name": "FloatProgressModel",
      "state": {
       "layout": "IPY_MODEL_1698547e4f884733919c10cbdd8d38c2",
       "max": 1,
       "style": "IPY_MODEL_2129254bc7b64bf48a5b015430263101",
       "value": 1
      }
     },
     "0008501c024a4cb0940f83cdc08abdc1": {
      "model_module": "@jupyter-widgets/controls",
      "model_module_version": "1.5.0",
      "model_name": "ProgressStyleModel",
      "state": {
       "description_width": ""
      }
     },
     "0207d68b8def46cf8bcd7d4c83840720": {
      "model_module": "@jupyter-widgets/base",
      "model_module_version": "1.2.0",
      "model_name": "LayoutModel",
      "state": {
       "flex": "2"
      }
     },
     "03bb2b3789ca4b21a25ec51341715920": {
      "model_module": "@jupyter-widgets/controls",
      "model_module_version": "1.5.0",
      "model_name": "LabelModel",
      "state": {
       "layout": "IPY_MODEL_c81df0d5ffb24565b3d0a6a923517df2",
       "style": "IPY_MODEL_a49622f2360a4c2da2bfec59e8726dbf",
       "value": " 0.02MB of 0.02MB uploaded (0.00MB deduped)\r"
      }
     },
     "04197a2980174dc1b6e02696a44ca9b5": {
      "model_module": "@jupyter-widgets/base",
      "model_module_version": "1.2.0",
      "model_name": "LayoutModel",
      "state": {}
     },
     "04f29d07d33d42f798e573b35c836aa6": {
      "model_module": "@jupyter-widgets/controls",
      "model_module_version": "1.5.0",
      "model_name": "ProgressStyleModel",
      "state": {
       "description_width": ""
      }
     },
     "0565642d882d49c19bc71a9068242ad1": {
      "model_module": "@jupyter-widgets/base",
      "model_module_version": "1.2.0",
      "model_name": "LayoutModel",
      "state": {}
     },
     "058d296ec601482dbe1c78bd644518c2": {
      "model_module": "@jupyter-widgets/base",
      "model_module_version": "1.2.0",
      "model_name": "LayoutModel",
      "state": {}
     },
     "059c6f4a77a44a8f944107c9c7aa80dd": {
      "model_module": "@jupyter-widgets/controls",
      "model_module_version": "1.5.0",
      "model_name": "DescriptionStyleModel",
      "state": {
       "description_width": ""
      }
     },
     "05a2b5b60a6c4fe391fa212370980b1e": {
      "model_module": "@jupyter-widgets/controls",
      "model_module_version": "1.5.0",
      "model_name": "DescriptionStyleModel",
      "state": {
       "description_width": ""
      }
     },
     "065b12c96ba248ad8f38793b5dd29e45": {
      "model_module": "@jupyter-widgets/base",
      "model_module_version": "1.2.0",
      "model_name": "LayoutModel",
      "state": {}
     },
     "0664b800864d4e12a1580853ed7a131d": {
      "model_module": "@jupyter-widgets/controls",
      "model_module_version": "1.5.0",
      "model_name": "DescriptionStyleModel",
      "state": {
       "description_width": ""
      }
     },
     "06878c923f024d0c99c8192da2bf0dfe": {
      "model_module": "@jupyter-widgets/base",
      "model_module_version": "1.2.0",
      "model_name": "LayoutModel",
      "state": {
       "display": "inline-flex",
       "flex_flow": "row wrap",
       "width": "100%"
      }
     },
     "06f6561c9f924d4ca4129b533720b6b4": {
      "model_module": "@jupyter-widgets/controls",
      "model_module_version": "1.5.0",
      "model_name": "HTMLModel",
      "state": {
       "layout": "IPY_MODEL_b3c94b44349342e49032940be50cb8b3",
       "style": "IPY_MODEL_aaa6f14b333449a5b96d357ffd7268f6",
       "value": " 32/52 [00:00&lt;00:00, 48.62it/s]"
      }
     },
     "07505f3e70f64c0fbff3058708300553": {
      "model_module": "@jupyter-widgets/controls",
      "model_module_version": "1.5.0",
      "model_name": "ProgressStyleModel",
      "state": {
       "description_width": ""
      }
     },
     "075c08dbf4e54f84ac86f229e143f115": {
      "model_module": "@jupyter-widgets/base",
      "model_module_version": "1.2.0",
      "model_name": "LayoutModel",
      "state": {
       "display": "inline-flex",
       "flex_flow": "row wrap",
       "width": "100%"
      }
     },
     "07bd3d2d74104cca8791ba3dce951b83": {
      "model_module": "@jupyter-widgets/base",
      "model_module_version": "1.2.0",
      "model_name": "LayoutModel",
      "state": {
       "flex": "2"
      }
     },
     "07ce4b085fbe4eb194b9a8cb6620951b": {
      "model_module": "@jupyter-widgets/controls",
      "model_module_version": "1.5.0",
      "model_name": "HTMLModel",
      "state": {
       "layout": "IPY_MODEL_c2d551fe604e41b683f3f7394456c470",
       "style": "IPY_MODEL_cd0a21f958b44082acf9b4e132d5b947",
       "value": "Validation sanity check:  50%"
      }
     },
     "083522c1aa71460d98067db5117d91d6": {
      "model_module": "@jupyter-widgets/controls",
      "model_module_version": "1.5.0",
      "model_name": "DescriptionStyleModel",
      "state": {
       "description_width": ""
      }
     },
     "0a57227815dc47bb83781f08a943c0d8": {
      "model_module": "@jupyter-widgets/controls",
      "model_module_version": "1.5.0",
      "model_name": "FloatProgressModel",
      "state": {
       "bar_style": "success",
       "layout": "IPY_MODEL_2bc2552bc6ec4089a6a2c5d18d379ace",
       "max": 73,
       "style": "IPY_MODEL_baf1149c2dad4c6b9d1b074b7edc6953",
       "value": 73
      }
     },
     "0a5cd61fd4c6438d92cadfc8595be9cd": {
      "model_module": "@jupyter-widgets/controls",
      "model_module_version": "1.5.0",
      "model_name": "HTMLModel",
      "state": {
       "layout": "IPY_MODEL_46612d7cefbc4196acca72caf95e3679",
       "style": "IPY_MODEL_d6593c9557a04cb5a8b573d3f49b9dce",
       "value": " 30/52 [00:00&lt;00:00, 45.93it/s]"
      }
     },
     "0b2af8d2b4d044c1b9063b8fc6b2899c": {
      "model_module": "@jupyter-widgets/base",
      "model_module_version": "1.2.0",
      "model_name": "LayoutModel",
      "state": {
       "display": "inline-flex",
       "flex_flow": "row wrap",
       "width": "100%"
      }
     },
     "0be4bc75cd6f43018c0b8f78c49da4c3": {
      "model_module": "@jupyter-widgets/controls",
      "model_module_version": "1.5.0",
      "model_name": "FloatProgressModel",
      "state": {
       "layout": "IPY_MODEL_9056af4b047743f8a4e29c0625fb7f02",
       "max": 52,
       "style": "IPY_MODEL_62ffe647b312481d955139a84ddd01cc",
       "value": 52
      }
     },
     "0be5c77d526b4ebd9709af01f3dffdde": {
      "model_module": "@jupyter-widgets/controls",
      "model_module_version": "1.5.0",
      "model_name": "DescriptionStyleModel",
      "state": {
       "description_width": ""
      }
     },
     "0c9387aba4c1463f8fb78dd8c87334e5": {
      "model_module": "@jupyter-widgets/controls",
      "model_module_version": "1.5.0",
      "model_name": "HTMLModel",
      "state": {
       "layout": "IPY_MODEL_fe452333f39e403d9b4003af14691396",
       "style": "IPY_MODEL_d05ab206b7e8408989284dfde606d27c",
       "value": " 6/258 [02:11&lt;1:31:43, 21.84s/it, loss=2.43e+03, v_num=9enp]"
      }
     },
     "0ca9eca20f6744e885189a010dfa00be": {
      "model_module": "@jupyter-widgets/base",
      "model_module_version": "1.2.0",
      "model_name": "LayoutModel",
      "state": {
       "display": "inline-flex",
       "flex_flow": "row wrap",
       "width": "100%"
      }
     },
     "0cf07673d608487582eba451edc391e7": {
      "model_module": "@jupyter-widgets/base",
      "model_module_version": "1.2.0",
      "model_name": "LayoutModel",
      "state": {}
     },
     "0d3c1580f792457d8c69df96acfb62ff": {
      "model_module": "@jupyter-widgets/base",
      "model_module_version": "1.2.0",
      "model_name": "LayoutModel",
      "state": {}
     },
     "0d50e6aab11f43e986d80a46ca01de7e": {
      "model_module": "@jupyter-widgets/base",
      "model_module_version": "1.2.0",
      "model_name": "LayoutModel",
      "state": {}
     },
     "0d57646052324dba828ced75b0142e86": {
      "model_module": "@jupyter-widgets/base",
      "model_module_version": "1.2.0",
      "model_name": "LayoutModel",
      "state": {
       "display": "inline-flex",
       "flex_flow": "row wrap",
       "width": "100%"
      }
     },
     "103d4eead7e148db9f3777d171ba30d4": {
      "model_module": "@jupyter-widgets/base",
      "model_module_version": "1.2.0",
      "model_name": "LayoutModel",
      "state": {}
     },
     "10ff27a5de3a4df99d6432f09ab1cf08": {
      "model_module": "@jupyter-widgets/base",
      "model_module_version": "1.2.0",
      "model_name": "LayoutModel",
      "state": {}
     },
     "110cbcd7284c4b1fa44b1292ce54dcc4": {
      "model_module": "@jupyter-widgets/controls",
      "model_module_version": "1.5.0",
      "model_name": "DescriptionStyleModel",
      "state": {
       "description_width": ""
      }
     },
     "115bc458cb15414d8a450d106ca0e307": {
      "model_module": "@jupyter-widgets/controls",
      "model_module_version": "1.5.0",
      "model_name": "DescriptionStyleModel",
      "state": {
       "description_width": ""
      }
     },
     "1397139ed27944e19224d1e8b1a1e62e": {
      "model_module": "@jupyter-widgets/base",
      "model_module_version": "1.2.0",
      "model_name": "LayoutModel",
      "state": {}
     },
     "13f675ee5e1441cfbcc744d4705aaa54": {
      "model_module": "@jupyter-widgets/base",
      "model_module_version": "1.2.0",
      "model_name": "LayoutModel",
      "state": {
       "display": "inline-flex",
       "flex_flow": "row wrap",
       "width": "100%"
      }
     },
     "1698547e4f884733919c10cbdd8d38c2": {
      "model_module": "@jupyter-widgets/base",
      "model_module_version": "1.2.0",
      "model_name": "LayoutModel",
      "state": {}
     },
     "16a096b7a7b740b5a6b3fac8237c4187": {
      "model_module": "@jupyter-widgets/controls",
      "model_module_version": "1.5.0",
      "model_name": "DescriptionStyleModel",
      "state": {
       "description_width": ""
      }
     },
     "16ef43cb2f70490197bdf785aeb44327": {
      "model_module": "@jupyter-widgets/base",
      "model_module_version": "1.2.0",
      "model_name": "LayoutModel",
      "state": {}
     },
     "17b7d52b81a848bb95bed5ed31f519fc": {
      "model_module": "@jupyter-widgets/controls",
      "model_module_version": "1.5.0",
      "model_name": "FloatProgressModel",
      "state": {
       "layout": "IPY_MODEL_b8c4d31f31834a64a3a27cc3a7c5723e",
       "max": 2,
       "style": "IPY_MODEL_c41d2b224bec41958408d37d35cf0210"
      }
     },
     "1806ff895c074adea753f58dc06446e0": {
      "model_module": "@jupyter-widgets/controls",
      "model_module_version": "1.5.0",
      "model_name": "LabelModel",
      "state": {
       "layout": "IPY_MODEL_510f9e96cccf433f89ab764c53795aac",
       "style": "IPY_MODEL_5cface7d7dc64327a2a01844c498cfa8",
       "value": " 0.00MB of 0.00MB uploaded (0.00MB deduped)\r"
      }
     },
     "184c3448daad48e4b1c24814aba6aee7": {
      "model_module": "@jupyter-widgets/base",
      "model_module_version": "1.2.0",
      "model_name": "LayoutModel",
      "state": {
       "flex": "2"
      }
     },
     "18a43534272745c4bae41eed6c1967d9": {
      "model_module": "@jupyter-widgets/controls",
      "model_module_version": "1.5.0",
      "model_name": "HTMLModel",
      "state": {
       "layout": "IPY_MODEL_3024bf9ff7fa46b39ffc9a586dfef4a9",
       "style": "IPY_MODEL_c99766b1b6df4e11a9994da8a613e5e4",
       "value": " 26/52 [00:00&lt;00:00, 38.89it/s]"
      }
     },
     "1ae9fb524334483cb9eeb784023e21ed": {
      "model_module": "@jupyter-widgets/controls",
      "model_module_version": "1.5.0",
      "model_name": "ProgressStyleModel",
      "state": {
       "description_width": ""
      }
     },
     "1b4a113b31fc49b5bf96838a1161e11f": {
      "model_module": "@jupyter-widgets/controls",
      "model_module_version": "1.5.0",
      "model_name": "ProgressStyleModel",
      "state": {
       "description_width": ""
      }
     },
     "1b5ec6a5fc8d411eb566521a2459d3e3": {
      "model_module": "@jupyter-widgets/controls",
      "model_module_version": "1.5.0",
      "model_name": "HTMLModel",
      "state": {
       "layout": "IPY_MODEL_058d296ec601482dbe1c78bd644518c2",
       "style": "IPY_MODEL_85033a81473e495fba8b053394232196",
       "value": " 207/258 [00:33&lt;00:08,  6.10it/s, loss=nan, v_num=oph7]"
      }
     },
     "1bb4c46451d64c84aa3dd62f6a6298aa": {
      "model_module": "@jupyter-widgets/base",
      "model_module_version": "1.2.0",
      "model_name": "LayoutModel",
      "state": {
       "flex": "2"
      }
     },
     "1c2c0b10bd10457b84566f93ca7bca4c": {
      "model_module": "@jupyter-widgets/base",
      "model_module_version": "1.2.0",
      "model_name": "LayoutModel",
      "state": {
       "display": "inline-flex",
       "flex_flow": "row wrap",
       "width": "100%"
      }
     },
     "1c62c3ba04374f3d9ef7249766223454": {
      "model_module": "@jupyter-widgets/controls",
      "model_module_version": "1.5.0",
      "model_name": "HBoxModel",
      "state": {
       "children": [
        "IPY_MODEL_9b482d4bc5844cd0b38e2abd1c95f596",
        "IPY_MODEL_4633067009c04085ba1d2d99de8a7afd",
        "IPY_MODEL_8f196c607d134ab78edc345f1277b515"
       ],
       "layout": "IPY_MODEL_0d57646052324dba828ced75b0142e86"
      }
     },
     "1cf3ca2e26d946788c49ffb22907c59a": {
      "model_module": "@jupyter-widgets/controls",
      "model_module_version": "1.5.0",
      "model_name": "HBoxModel",
      "state": {
       "children": [
        "IPY_MODEL_1e5c3ffb9f19412f81b6fa907ae870df",
        "IPY_MODEL_a96aa3ec3b6641e99daf7282a92fbc51",
        "IPY_MODEL_919ab7e3f91c4612af1f0f8a21cd889c"
       ],
       "layout": "IPY_MODEL_13f675ee5e1441cfbcc744d4705aaa54"
      }
     },
     "1d9f12f14b09464fb139bf651a32e63a": {
      "model_module": "@jupyter-widgets/controls",
      "model_module_version": "1.5.0",
      "model_name": "DescriptionStyleModel",
      "state": {
       "description_width": ""
      }
     },
     "1e498b227db248329c281b6c0a67480c": {
      "model_module": "@jupyter-widgets/controls",
      "model_module_version": "1.5.0",
      "model_name": "HTMLModel",
      "state": {
       "layout": "IPY_MODEL_103d4eead7e148db9f3777d171ba30d4",
       "style": "IPY_MODEL_36d63fdd33504e6b838d04a7e7bb6195",
       "value": "Validating:  58%"
      }
     },
     "1e5c3ffb9f19412f81b6fa907ae870df": {
      "model_module": "@jupyter-widgets/controls",
      "model_module_version": "1.5.0",
      "model_name": "HTMLModel",
      "state": {
       "layout": "IPY_MODEL_98d09690fdb44637981f8f69e489d1a0",
       "style": "IPY_MODEL_ed15cc414b4f48d993b06db8f45105c4",
       "value": "Epoch 0:   0%"
      }
     },
     "1f89057690714c34b2770decde3d6690": {
      "model_module": "@jupyter-widgets/controls",
      "model_module_version": "1.5.0",
      "model_name": "HTMLModel",
      "state": {
       "layout": "IPY_MODEL_4817ddfbb8ba49cfa4087e2e26f35183",
       "style": "IPY_MODEL_49aeafef8ca2425a92818107ae8128d1",
       "value": " 1/2 [00:01&lt;00:01,  1.17s/it]"
      }
     },
     "1f9124b8f5ab4a3a9158e13c269c62b8": {
      "model_module": "@jupyter-widgets/controls",
      "model_module_version": "1.5.0",
      "model_name": "DescriptionStyleModel",
      "state": {
       "description_width": ""
      }
     },
     "208e2a441d294e39a34e7edf4be035fa": {
      "model_module": "@jupyter-widgets/base",
      "model_module_version": "1.2.0",
      "model_name": "LayoutModel",
      "state": {}
     },
     "2129254bc7b64bf48a5b015430263101": {
      "model_module": "@jupyter-widgets/controls",
      "model_module_version": "1.5.0",
      "model_name": "ProgressStyleModel",
      "state": {
       "description_width": ""
      }
     },
     "2144fd0bf32d4f0daf5029a91877c029": {
      "model_module": "@jupyter-widgets/controls",
      "model_module_version": "1.5.0",
      "model_name": "LabelModel",
      "state": {
       "layout": "IPY_MODEL_8a32629e1d694c9bb869d050e4e05dae",
       "style": "IPY_MODEL_059c6f4a77a44a8f944107c9c7aa80dd",
       "value": " 0.00MB of 0.00MB uploaded (0.00MB deduped)\r"
      }
     },
     "21ec1d8592c24d008f5c6d38b96b201d": {
      "model_module": "@jupyter-widgets/controls",
      "model_module_version": "1.5.0",
      "model_name": "ProgressStyleModel",
      "state": {
       "description_width": ""
      }
     },
     "223b81fa50754dc0ade97de58a0c359a": {
      "model_module": "@jupyter-widgets/base",
      "model_module_version": "1.2.0",
      "model_name": "LayoutModel",
      "state": {}
     },
     "241423d317424c0390d32b3656cd3dd4": {
      "model_module": "@jupyter-widgets/controls",
      "model_module_version": "1.5.0",
      "model_name": "HTMLModel",
      "state": {
       "layout": "IPY_MODEL_976ad93b8bfd45cfb4f6ac6c979a7268",
       "style": "IPY_MODEL_47a3884fd8f741c58b32260729a951a8",
       "value": " 0/2 [00:00&lt;?, ?it/s]"
      }
     },
     "24339a51677843bda3936a33227f40e3": {
      "model_module": "@jupyter-widgets/controls",
      "model_module_version": "1.5.0",
      "model_name": "HTMLModel",
      "state": {
       "layout": "IPY_MODEL_208e2a441d294e39a34e7edf4be035fa",
       "style": "IPY_MODEL_115bc458cb15414d8a450d106ca0e307",
       "value": "Validating:  50%"
      }
     },
     "243472a933154624a963a83c8b9d964e": {
      "model_module": "@jupyter-widgets/controls",
      "model_module_version": "1.5.0",
      "model_name": "ProgressStyleModel",
      "state": {
       "description_width": ""
      }
     },
     "2513b262e74542e696ac243c03f3390b": {
      "model_module": "@jupyter-widgets/base",
      "model_module_version": "1.2.0",
      "model_name": "LayoutModel",
      "state": {
       "flex": "2"
      }
     },
     "252721cfbe224733b3a2311ffa46f546": {
      "model_module": "@jupyter-widgets/controls",
      "model_module_version": "1.5.0",
      "model_name": "FloatProgressModel",
      "state": {
       "layout": "IPY_MODEL_70cebd7b9c44471bbf794470cccb0b38",
       "max": 1,
       "style": "IPY_MODEL_bdcc6b3a8a964a88b8bd053fd6b2c1bd",
       "value": 1
      }
     },
     "255ffa2a105344a684cf63f4163d7aa8": {
      "model_module": "@jupyter-widgets/base",
      "model_module_version": "1.2.0",
      "model_name": "LayoutModel",
      "state": {}
     },
     "258520c982d44657a90aee548bfe36fd": {
      "model_module": "@jupyter-widgets/controls",
      "model_module_version": "1.5.0",
      "model_name": "DescriptionStyleModel",
      "state": {
       "description_width": ""
      }
     },
     "268cfb06b2954814bc7ca299ff011c0f": {
      "model_module": "@jupyter-widgets/base",
      "model_module_version": "1.2.0",
      "model_name": "LayoutModel",
      "state": {}
     },
     "278a0016aac548d48137c3f943530840": {
      "model_module": "@jupyter-widgets/controls",
      "model_module_version": "1.5.0",
      "model_name": "FloatProgressModel",
      "state": {
       "layout": "IPY_MODEL_0207d68b8def46cf8bcd7d4c83840720",
       "max": 52,
       "style": "IPY_MODEL_72380b49a4634d03a4834dad9b6557d7",
       "value": 52
      }
     },
     "291ec19a1b14445597d82f7ea5a76583": {
      "model_module": "@jupyter-widgets/controls",
      "model_module_version": "1.5.0",
      "model_name": "DescriptionStyleModel",
      "state": {
       "description_width": ""
      }
     },
     "2933fbd3cb0f4f8e8010885018fadf19": {
      "model_module": "@jupyter-widgets/controls",
      "model_module_version": "1.5.0",
      "model_name": "FloatProgressModel",
      "state": {
       "layout": "IPY_MODEL_d9058023e13c463483d916d87b1098d8",
       "max": 52,
       "style": "IPY_MODEL_1b4a113b31fc49b5bf96838a1161e11f",
       "value": 52
      }
     },
     "2999c278469e4f088f81c1e0e3ed6505": {
      "model_module": "@jupyter-widgets/base",
      "model_module_version": "1.2.0",
      "model_name": "LayoutModel",
      "state": {
       "display": "inline-flex",
       "flex_flow": "row wrap",
       "width": "100%"
      }
     },
     "2b4bc240e91e4dc9af22b3b6dc8dcf6d": {
      "model_module": "@jupyter-widgets/base",
      "model_module_version": "1.2.0",
      "model_name": "LayoutModel",
      "state": {}
     },
     "2bc2552bc6ec4089a6a2c5d18d379ace": {
      "model_module": "@jupyter-widgets/base",
      "model_module_version": "1.2.0",
      "model_name": "LayoutModel",
      "state": {}
     },
     "2be7d621d442437eb37991d948bdab94": {
      "model_module": "@jupyter-widgets/base",
      "model_module_version": "1.2.0",
      "model_name": "LayoutModel",
      "state": {}
     },
     "2c267f0b4e7240c2af7828daee3c47c3": {
      "model_module": "@jupyter-widgets/base",
      "model_module_version": "1.2.0",
      "model_name": "LayoutModel",
      "state": {}
     },
     "2c38f54f392c4aa5bde31651ad3b696a": {
      "model_module": "@jupyter-widgets/base",
      "model_module_version": "1.2.0",
      "model_name": "LayoutModel",
      "state": {
       "flex": "2"
      }
     },
     "2d4e877d61c14ff3abe70ecdb2b0dd7a": {
      "model_module": "@jupyter-widgets/controls",
      "model_module_version": "1.5.0",
      "model_name": "HBoxModel",
      "state": {
       "children": [
        "IPY_MODEL_5466b6f8275344b0a3d9dd842220f5e0",
        "IPY_MODEL_17b7d52b81a848bb95bed5ed31f519fc",
        "IPY_MODEL_241423d317424c0390d32b3656cd3dd4"
       ],
       "layout": "IPY_MODEL_783189ee5bd947e1b4bf1d7086eb798d"
      }
     },
     "2d57e649f7a943a6b2e87668cb1464ca": {
      "model_module": "@jupyter-widgets/controls",
      "model_module_version": "1.5.0",
      "model_name": "HTMLModel",
      "state": {
       "layout": "IPY_MODEL_f54a3c2cbd1d42aaaf0fe626da486011",
       "style": "IPY_MODEL_ba6eed55603c47d4bf875e972401e37f",
       "value": " 0/258 [02:28&lt;?, ?it/s]"
      }
     },
     "2dc180dfc6f34226a2af33f6a4647b34": {
      "model_module": "@jupyter-widgets/base",
      "model_module_version": "1.2.0",
      "model_name": "LayoutModel",
      "state": {
       "flex": "2"
      }
     },
     "2fa8c8d5d09947a4a2a3c92fcc6e8d98": {
      "model_module": "@jupyter-widgets/controls",
      "model_module_version": "1.5.0",
      "model_name": "HBoxModel",
      "state": {
       "children": [
        "IPY_MODEL_f1c1d14ba7a44d41a8b80cc3f0c30502",
        "IPY_MODEL_b56f1f2169a04ba38aa4c2882f8b79dc",
        "IPY_MODEL_1b5ec6a5fc8d411eb566521a2459d3e3"
       ],
       "layout": "IPY_MODEL_cdb25a011b624e27af6e27f70365fd82"
      }
     },
     "3024bf9ff7fa46b39ffc9a586dfef4a9": {
      "model_module": "@jupyter-widgets/base",
      "model_module_version": "1.2.0",
      "model_name": "LayoutModel",
      "state": {}
     },
     "315ad91d78084b74bfc5bdd3f1286d48": {
      "model_module": "@jupyter-widgets/base",
      "model_module_version": "1.2.0",
      "model_name": "LayoutModel",
      "state": {}
     },
     "31c4948893fd48d387bf20f7095bf16b": {
      "model_module": "@jupyter-widgets/base",
      "model_module_version": "1.2.0",
      "model_name": "LayoutModel",
      "state": {}
     },
     "31d25c80cd8f432c81edb01ec30662b1": {
      "model_module": "@jupyter-widgets/controls",
      "model_module_version": "1.5.0",
      "model_name": "HTMLModel",
      "state": {
       "layout": "IPY_MODEL_2c267f0b4e7240c2af7828daee3c47c3",
       "style": "IPY_MODEL_3418e243924741d5bc4a7d9c0388fb02",
       "value": " 0/2 [00:00&lt;?, ?it/s]"
      }
     },
     "32207ed8d9ba49708838cd65f9300015": {
      "model_module": "@jupyter-widgets/base",
      "model_module_version": "1.2.0",
      "model_name": "LayoutModel",
      "state": {}
     },
     "3234d6c9c695433d868d05193c05781f": {
      "model_module": "@jupyter-widgets/controls",
      "model_module_version": "1.5.0",
      "model_name": "DescriptionStyleModel",
      "state": {
       "description_width": ""
      }
     },
     "32b079e1823b473e9ffd0eac059855de": {
      "model_module": "@jupyter-widgets/base",
      "model_module_version": "1.2.0",
      "model_name": "LayoutModel",
      "state": {}
     },
     "3399357018564643b5e6cefe1f1db9e0": {
      "model_module": "@jupyter-widgets/base",
      "model_module_version": "1.2.0",
      "model_name": "LayoutModel",
      "state": {
       "display": "inline-flex",
       "flex_flow": "row wrap",
       "width": "100%"
      }
     },
     "3418e243924741d5bc4a7d9c0388fb02": {
      "model_module": "@jupyter-widgets/controls",
      "model_module_version": "1.5.0",
      "model_name": "DescriptionStyleModel",
      "state": {
       "description_width": ""
      }
     },
     "342bb97e20a54ee5975774e03933f60a": {
      "model_module": "@jupyter-widgets/controls",
      "model_module_version": "1.5.0",
      "model_name": "LabelModel",
      "state": {
       "layout": "IPY_MODEL_fc2cdac0ed9f49a0a7dd783211a1c31a",
       "style": "IPY_MODEL_61a872e11af044f3b86f6c9ea41a34fb",
       "value": " 0.01MB of 0.01MB uploaded (0.00MB deduped)\r"
      }
     },
     "34330596013f4815a5068a6db67bd38b": {
      "model_module": "@jupyter-widgets/controls",
      "model_module_version": "1.5.0",
      "model_name": "ProgressStyleModel",
      "state": {
       "description_width": ""
      }
     },
     "34523b09301046ccb1d2ad824ddfcb81": {
      "model_module": "@jupyter-widgets/base",
      "model_module_version": "1.2.0",
      "model_name": "LayoutModel",
      "state": {
       "display": "inline-flex",
       "flex_flow": "row wrap",
       "width": "100%"
      }
     },
     "35249eae423e4bcf864aaea015f040bb": {
      "model_module": "@jupyter-widgets/base",
      "model_module_version": "1.2.0",
      "model_name": "LayoutModel",
      "state": {}
     },
     "3660e0c38e154537b15fdd0fb6932502": {
      "model_module": "@jupyter-widgets/base",
      "model_module_version": "1.2.0",
      "model_name": "LayoutModel",
      "state": {}
     },
     "3681188f3e054854885354178e3cf13d": {
      "model_module": "@jupyter-widgets/controls",
      "model_module_version": "1.5.0",
      "model_name": "FloatProgressModel",
      "state": {
       "layout": "IPY_MODEL_0565642d882d49c19bc71a9068242ad1",
       "max": 1,
       "style": "IPY_MODEL_21ec1d8592c24d008f5c6d38b96b201d",
       "value": 1
      }
     },
     "36d63fdd33504e6b838d04a7e7bb6195": {
      "model_module": "@jupyter-widgets/controls",
      "model_module_version": "1.5.0",
      "model_name": "DescriptionStyleModel",
      "state": {
       "description_width": ""
      }
     },
     "38954daf5bdc49648035a77d3357cc79": {
      "model_module": "@jupyter-widgets/base",
      "model_module_version": "1.2.0",
      "model_name": "LayoutModel",
      "state": {}
     },
     "391637af42f846639823171148678c14": {
      "model_module": "@jupyter-widgets/controls",
      "model_module_version": "1.5.0",
      "model_name": "FloatProgressModel",
      "state": {
       "layout": "IPY_MODEL_7ea81d57d66a41e78eff6d74f482328a",
       "max": 52,
       "style": "IPY_MODEL_aaa7face761f4ac096230401e22514ee",
       "value": 52
      }
     },
     "3917ee6ef98d4c6a82df05c462990e0e": {
      "model_module": "@jupyter-widgets/controls",
      "model_module_version": "1.5.0",
      "model_name": "FloatProgressModel",
      "state": {
       "layout": "IPY_MODEL_07bd3d2d74104cca8791ba3dce951b83",
       "max": 2,
       "style": "IPY_MODEL_bc96dba845e743be9aa8edcdeb03da5c",
       "value": 2
      }
     },
     "3960b633d0fe44d49dbd56402def2648": {
      "model_module": "@jupyter-widgets/controls",
      "model_module_version": "1.5.0",
      "model_name": "DescriptionStyleModel",
      "state": {
       "description_width": ""
      }
     },
     "39b463681f554726bf1b14919dbc12a2": {
      "model_module": "@jupyter-widgets/base",
      "model_module_version": "1.2.0",
      "model_name": "LayoutModel",
      "state": {}
     },
     "39cb1c98b6c649ae924446635b50e447": {
      "model_module": "@jupyter-widgets/base",
      "model_module_version": "1.2.0",
      "model_name": "LayoutModel",
      "state": {}
     },
     "3a4ed9b3d71d47729d9df005a8b732d1": {
      "model_module": "@jupyter-widgets/base",
      "model_module_version": "1.2.0",
      "model_name": "LayoutModel",
      "state": {
       "display": "inline-flex",
       "flex_flow": "row wrap",
       "width": "100%"
      }
     },
     "3b08c76cc7074cfc9623690ab58b7bf6": {
      "model_module": "@jupyter-widgets/base",
      "model_module_version": "1.2.0",
      "model_name": "LayoutModel",
      "state": {}
     },
     "3b093c5f22dc455e813be13a15b8c24e": {
      "model_module": "@jupyter-widgets/controls",
      "model_module_version": "1.5.0",
      "model_name": "ProgressStyleModel",
      "state": {
       "description_width": ""
      }
     },
     "3b39a02502074d6eae743de06f84285d": {
      "model_module": "@jupyter-widgets/base",
      "model_module_version": "1.2.0",
      "model_name": "LayoutModel",
      "state": {
       "display": "inline-flex",
       "flex_flow": "row wrap",
       "width": "100%"
      }
     },
     "3c5eb4f56ca64dacb8ecce6f6d985620": {
      "model_module": "@jupyter-widgets/controls",
      "model_module_version": "1.5.0",
      "model_name": "FloatProgressModel",
      "state": {
       "layout": "IPY_MODEL_2513b262e74542e696ac243c03f3390b",
       "max": 2,
       "style": "IPY_MODEL_07505f3e70f64c0fbff3058708300553",
       "value": 2
      }
     },
     "3d6669f8ea97461fab16a9d9856f3918": {
      "model_module": "@jupyter-widgets/controls",
      "model_module_version": "1.5.0",
      "model_name": "ProgressStyleModel",
      "state": {
       "description_width": ""
      }
     },
     "3dc1f62a709645938f259af3ce3c6eb6": {
      "model_module": "@jupyter-widgets/controls",
      "model_module_version": "1.5.0",
      "model_name": "HTMLModel",
      "state": {
       "layout": "IPY_MODEL_268cfb06b2954814bc7ca299ff011c0f",
       "style": "IPY_MODEL_05a2b5b60a6c4fe391fa212370980b1e",
       "value": " 0/52 [00:00&lt;?, ?it/s]"
      }
     },
     "3e4c8cc5c37e496e8e211b9456bcfab4": {
      "model_module": "@jupyter-widgets/controls",
      "model_module_version": "1.5.0",
      "model_name": "DescriptionStyleModel",
      "state": {
       "description_width": ""
      }
     },
     "3fc052d869e242eda4f4d59fc606761a": {
      "model_module": "@jupyter-widgets/controls",
      "model_module_version": "1.5.0",
      "model_name": "ProgressStyleModel",
      "state": {
       "description_width": ""
      }
     },
     "42ac5456bb744fa68f0f83c21f69806c": {
      "model_module": "@jupyter-widgets/controls",
      "model_module_version": "1.5.0",
      "model_name": "FloatProgressModel",
      "state": {
       "bar_style": "danger",
       "layout": "IPY_MODEL_cf7d6b7237df41129066c567d4a22691",
       "max": 258,
       "style": "IPY_MODEL_3fc052d869e242eda4f4d59fc606761a",
       "value": 6
      }
     },
     "460733802f3e44838f982375f83ec1d8": {
      "model_module": "@jupyter-widgets/controls",
      "model_module_version": "1.5.0",
      "model_name": "DescriptionStyleModel",
      "state": {
       "description_width": ""
      }
     },
     "4633067009c04085ba1d2d99de8a7afd": {
      "model_module": "@jupyter-widgets/controls",
      "model_module_version": "1.5.0",
      "model_name": "FloatProgressModel",
      "state": {
       "bar_style": "success",
       "layout": "IPY_MODEL_d55f3eb9deb0422a85c625c5e5168cc3",
       "max": 258,
       "style": "IPY_MODEL_34330596013f4815a5068a6db67bd38b",
       "value": 258
      }
     },
     "46612d7cefbc4196acca72caf95e3679": {
      "model_module": "@jupyter-widgets/base",
      "model_module_version": "1.2.0",
      "model_name": "LayoutModel",
      "state": {}
     },
     "4687a5f324cf470aae107fcf596b6b3d": {
      "model_module": "@jupyter-widgets/controls",
      "model_module_version": "1.5.0",
      "model_name": "HTMLModel",
      "state": {
       "layout": "IPY_MODEL_9c0a50a49194448d83f2675194f90e21",
       "style": "IPY_MODEL_3e4c8cc5c37e496e8e211b9456bcfab4",
       "value": "Validating:  63%"
      }
     },
     "47380cd4fc44404284334ec455272a1a": {
      "model_module": "@jupyter-widgets/base",
      "model_module_version": "1.2.0",
      "model_name": "LayoutModel",
      "state": {}
     },
     "47a3884fd8f741c58b32260729a951a8": {
      "model_module": "@jupyter-widgets/controls",
      "model_module_version": "1.5.0",
      "model_name": "DescriptionStyleModel",
      "state": {
       "description_width": ""
      }
     },
     "4817ddfbb8ba49cfa4087e2e26f35183": {
      "model_module": "@jupyter-widgets/base",
      "model_module_version": "1.2.0",
      "model_name": "LayoutModel",
      "state": {}
     },
     "48db71524e4c421c9978ac223ed5aa5e": {
      "model_module": "@jupyter-widgets/controls",
      "model_module_version": "1.5.0",
      "model_name": "LabelModel",
      "state": {
       "layout": "IPY_MODEL_0d3c1580f792457d8c69df96acfb62ff",
       "style": "IPY_MODEL_bb46c532ffe842b8b00f43cc6c10b555"
      }
     },
     "49781dba4ef141979aae5184fd05ff21": {
      "model_module": "@jupyter-widgets/base",
      "model_module_version": "1.2.0",
      "model_name": "LayoutModel",
      "state": {}
     },
     "49aeafef8ca2425a92818107ae8128d1": {
      "model_module": "@jupyter-widgets/controls",
      "model_module_version": "1.5.0",
      "model_name": "DescriptionStyleModel",
      "state": {
       "description_width": ""
      }
     },
     "4b7ccb5cfda84fb1bf4f5c831325dc4a": {
      "model_module": "@jupyter-widgets/controls",
      "model_module_version": "1.5.0",
      "model_name": "HTMLModel",
      "state": {
       "layout": "IPY_MODEL_8776af7fa7dc4dcfb75257fa96030fa0",
       "style": "IPY_MODEL_a44b82d7716f43b8a54f13ceeefb1dee",
       "value": "Validating:  63%"
      }
     },
     "4cfea8c00a71481c88f06b121c0b1e61": {
      "model_module": "@jupyter-widgets/controls",
      "model_module_version": "1.5.0",
      "model_name": "FloatProgressModel",
      "state": {
       "layout": "IPY_MODEL_5404cb6f1fbc4c00979e454166285e29",
       "max": 52,
       "style": "IPY_MODEL_e39ab0b43aef4b0a9c8ec20760130a44",
       "value": 52
      }
     },
     "4dd7c35eb6a24ce49dbc4d1efac5ab00": {
      "model_module": "@jupyter-widgets/controls",
      "model_module_version": "1.5.0",
      "model_name": "HTMLModel",
      "state": {
       "layout": "IPY_MODEL_dd691839ad184ef7a8957695b207b00f",
       "style": "IPY_MODEL_fba0a1220e6342a4a2934fa2d0a5fb18",
       "value": " 31/52 [00:00&lt;00:00, 47.29it/s]"
      }
     },
     "4f32ce3230d446419c52cdd745f5cec0": {
      "model_module": "@jupyter-widgets/base",
      "model_module_version": "1.2.0",
      "model_name": "LayoutModel",
      "state": {
       "display": "inline-flex",
       "flex_flow": "row wrap",
       "width": "100%"
      }
     },
     "4fefd20948f544f7bdde3f6ae6df0891": {
      "model_module": "@jupyter-widgets/base",
      "model_module_version": "1.2.0",
      "model_name": "LayoutModel",
      "state": {
       "flex": "2"
      }
     },
     "510f9e96cccf433f89ab764c53795aac": {
      "model_module": "@jupyter-widgets/base",
      "model_module_version": "1.2.0",
      "model_name": "LayoutModel",
      "state": {}
     },
     "51247dd59968484a9beed82703cb6af7": {
      "model_module": "@jupyter-widgets/base",
      "model_module_version": "1.2.0",
      "model_name": "LayoutModel",
      "state": {
       "flex": "2"
      }
     },
     "5183bb2b38164dc5905758c0b27d2e0a": {
      "model_module": "@jupyter-widgets/base",
      "model_module_version": "1.2.0",
      "model_name": "LayoutModel",
      "state": {}
     },
     "529a33a58cff40518510af4674ea69f5": {
      "model_module": "@jupyter-widgets/base",
      "model_module_version": "1.2.0",
      "model_name": "LayoutModel",
      "state": {}
     },
     "53ab2fcf62b94687954ecc874f2b243c": {
      "model_module": "@jupyter-widgets/controls",
      "model_module_version": "1.5.0",
      "model_name": "HBoxModel",
      "state": {
       "children": [
        "IPY_MODEL_bd8b065670bb4e81b6f2367a17d7225e",
        "IPY_MODEL_91a40b0305fd4f28b2433a09ed326f88",
        "IPY_MODEL_fdb012169f4d4bfc9c834e221539d434"
       ],
       "layout": "IPY_MODEL_735548c2473b467683cda442bd0d846c"
      }
     },
     "53ad9ae981d84c31b5db284abcd450e0": {
      "model_module": "@jupyter-widgets/controls",
      "model_module_version": "1.5.0",
      "model_name": "DescriptionStyleModel",
      "state": {
       "description_width": ""
      }
     },
     "5404cb6f1fbc4c00979e454166285e29": {
      "model_module": "@jupyter-widgets/base",
      "model_module_version": "1.2.0",
      "model_name": "LayoutModel",
      "state": {
       "flex": "2"
      }
     },
     "5466b6f8275344b0a3d9dd842220f5e0": {
      "model_module": "@jupyter-widgets/controls",
      "model_module_version": "1.5.0",
      "model_name": "HTMLModel",
      "state": {
       "layout": "IPY_MODEL_7895824a8ee24f70b0bbf6709f06f1c3",
       "style": "IPY_MODEL_80d15773f05841a9935f0c27b27b6b3e",
       "value": "Validation sanity check:   0%"
      }
     },
     "576869ba28704d9a932c614d00b835d6": {
      "model_module": "@jupyter-widgets/base",
      "model_module_version": "1.2.0",
      "model_name": "LayoutModel",
      "state": {}
     },
     "5786183f4a7f49c5a3d272b0b5456127": {
      "model_module": "@jupyter-widgets/controls",
      "model_module_version": "1.5.0",
      "model_name": "DescriptionStyleModel",
      "state": {
       "description_width": ""
      }
     },
     "598fd90c3cf24aacb31297b7d19aac7f": {
      "model_module": "@jupyter-widgets/controls",
      "model_module_version": "1.5.0",
      "model_name": "FloatProgressModel",
      "state": {
       "layout": "IPY_MODEL_7dbebb6048b54456a5fe105daa642bfd",
       "max": 2,
       "style": "IPY_MODEL_04f29d07d33d42f798e573b35c836aa6",
       "value": 2
      }
     },
     "5a2d99351d0341f9b36c763f77d8f572": {
      "model_module": "@jupyter-widgets/base",
      "model_module_version": "1.2.0",
      "model_name": "LayoutModel",
      "state": {
       "display": "inline-flex",
       "flex_flow": "row wrap",
       "width": "100%"
      }
     },
     "5b16735f0d7140a98b607bf8f681e270": {
      "model_module": "@jupyter-widgets/controls",
      "model_module_version": "1.5.0",
      "model_name": "DescriptionStyleModel",
      "state": {
       "description_width": ""
      }
     },
     "5b69796dae3c4fe38a67e49698ef393a": {
      "model_module": "@jupyter-widgets/base",
      "model_module_version": "1.2.0",
      "model_name": "LayoutModel",
      "state": {}
     },
     "5bbf068505ea446092c5d7eef63c917c": {
      "model_module": "@jupyter-widgets/controls",
      "model_module_version": "1.5.0",
      "model_name": "VBoxModel",
      "state": {
       "children": [
        "IPY_MODEL_48db71524e4c421c9978ac223ed5aa5e",
        "IPY_MODEL_97d731a5f3a94ca3ba214c31f86b707a"
       ],
       "layout": "IPY_MODEL_10ff27a5de3a4df99d6432f09ab1cf08"
      }
     },
     "5bd0d326cb4e4861b88adb9e21f1aac0": {
      "model_module": "@jupyter-widgets/controls",
      "model_module_version": "1.5.0",
      "model_name": "ProgressStyleModel",
      "state": {
       "description_width": ""
      }
     },
     "5c8a47adfd6548968ff638d0f19ab4d5": {
      "model_module": "@jupyter-widgets/controls",
      "model_module_version": "1.5.0",
      "model_name": "ProgressStyleModel",
      "state": {
       "description_width": ""
      }
     },
     "5cface7d7dc64327a2a01844c498cfa8": {
      "model_module": "@jupyter-widgets/controls",
      "model_module_version": "1.5.0",
      "model_name": "DescriptionStyleModel",
      "state": {
       "description_width": ""
      }
     },
     "5d95de8e9e2a40afba66cf99c3723b16": {
      "model_module": "@jupyter-widgets/base",
      "model_module_version": "1.2.0",
      "model_name": "LayoutModel",
      "state": {}
     },
     "61a872e11af044f3b86f6c9ea41a34fb": {
      "model_module": "@jupyter-widgets/controls",
      "model_module_version": "1.5.0",
      "model_name": "DescriptionStyleModel",
      "state": {
       "description_width": ""
      }
     },
     "6215fc069d024f9e85ee52d8c8d36ae8": {
      "model_module": "@jupyter-widgets/controls",
      "model_module_version": "1.5.0",
      "model_name": "FloatProgressModel",
      "state": {
       "layout": "IPY_MODEL_adbc277c3dfe4917957692de9025f75d",
       "max": 52,
       "style": "IPY_MODEL_3b093c5f22dc455e813be13a15b8c24e"
      }
     },
     "6227269c0b844587ad8e05e34b2f2f87": {
      "model_module": "@jupyter-widgets/base",
      "model_module_version": "1.2.0",
      "model_name": "LayoutModel",
      "state": {}
     },
     "62ecbca57ca642188e6323557502c5e6": {
      "model_module": "@jupyter-widgets/controls",
      "model_module_version": "1.5.0",
      "model_name": "ProgressStyleModel",
      "state": {
       "description_width": ""
      }
     },
     "62ffe647b312481d955139a84ddd01cc": {
      "model_module": "@jupyter-widgets/controls",
      "model_module_version": "1.5.0",
      "model_name": "ProgressStyleModel",
      "state": {
       "description_width": ""
      }
     },
     "64d8eb38bc0b4dffbe3f75d339d4cd5e": {
      "model_module": "@jupyter-widgets/base",
      "model_module_version": "1.2.0",
      "model_name": "LayoutModel",
      "state": {}
     },
     "64fe21a7be3e4f888d3df4af5afe4258": {
      "model_module": "@jupyter-widgets/base",
      "model_module_version": "1.2.0",
      "model_name": "LayoutModel",
      "state": {}
     },
     "6668ddf7890e4735a9c1b93b9ed4bc14": {
      "model_module": "@jupyter-widgets/controls",
      "model_module_version": "1.5.0",
      "model_name": "FloatProgressModel",
      "state": {
       "layout": "IPY_MODEL_4fefd20948f544f7bdde3f6ae6df0891",
       "max": 2,
       "style": "IPY_MODEL_243472a933154624a963a83c8b9d964e",
       "value": 2
      }
     },
     "674f955665b04044bf788450a14046bb": {
      "model_module": "@jupyter-widgets/controls",
      "model_module_version": "1.5.0",
      "model_name": "DescriptionStyleModel",
      "state": {
       "description_width": ""
      }
     },
     "689ea0404c6e4a7fbc47158df068ab3a": {
      "model_module": "@jupyter-widgets/base",
      "model_module_version": "1.2.0",
      "model_name": "LayoutModel",
      "state": {}
     },
     "6924b091e1fd471bbce5cc9479efe507": {
      "model_module": "@jupyter-widgets/base",
      "model_module_version": "1.2.0",
      "model_name": "LayoutModel",
      "state": {}
     },
     "69770b3f84b14de3bc9ca646e4c70fb5": {
      "model_module": "@jupyter-widgets/base",
      "model_module_version": "1.2.0",
      "model_name": "LayoutModel",
      "state": {
       "display": "inline-flex",
       "flex_flow": "row wrap",
       "width": "100%"
      }
     },
     "6ae87d2dd91541e5a6fa52488caaa125": {
      "model_module": "@jupyter-widgets/base",
      "model_module_version": "1.2.0",
      "model_name": "LayoutModel",
      "state": {}
     },
     "6ee7605e53304225bffbb636f8e8dd33": {
      "model_module": "@jupyter-widgets/controls",
      "model_module_version": "1.5.0",
      "model_name": "HBoxModel",
      "state": {
       "children": [
        "IPY_MODEL_fd2294d354214a48875d0d932fe09a29",
        "IPY_MODEL_cca0412f9f8f478993e8214b474d27ce",
        "IPY_MODEL_2d57e649f7a943a6b2e87668cb1464ca"
       ],
       "layout": "IPY_MODEL_0b2af8d2b4d044c1b9063b8fc6b2899c"
      }
     },
     "6eed8d6f350547d98e499bc8357b0934": {
      "model_module": "@jupyter-widgets/base",
      "model_module_version": "1.2.0",
      "model_name": "LayoutModel",
      "state": {}
     },
     "6f3971530987428a8390ee50d14f802f": {
      "model_module": "@jupyter-widgets/controls",
      "model_module_version": "1.5.0",
      "model_name": "DescriptionStyleModel",
      "state": {
       "description_width": ""
      }
     },
     "70cebd7b9c44471bbf794470cccb0b38": {
      "model_module": "@jupyter-widgets/base",
      "model_module_version": "1.2.0",
      "model_name": "LayoutModel",
      "state": {}
     },
     "72380b49a4634d03a4834dad9b6557d7": {
      "model_module": "@jupyter-widgets/controls",
      "model_module_version": "1.5.0",
      "model_name": "ProgressStyleModel",
      "state": {
       "description_width": ""
      }
     },
     "735548c2473b467683cda442bd0d846c": {
      "model_module": "@jupyter-widgets/base",
      "model_module_version": "1.2.0",
      "model_name": "LayoutModel",
      "state": {}
     },
     "75d37aef41ba4df5b9b8a415eab336c5": {
      "model_module": "@jupyter-widgets/base",
      "model_module_version": "1.2.0",
      "model_name": "LayoutModel",
      "state": {
       "display": "inline-flex",
       "flex_flow": "row wrap",
       "width": "100%"
      }
     },
     "76d4fed2041b482d8fa54043a9a8cfce": {
      "model_module": "@jupyter-widgets/controls",
      "model_module_version": "1.5.0",
      "model_name": "DescriptionStyleModel",
      "state": {
       "description_width": ""
      }
     },
     "77bac96e054449b091dad06f4694d8e5": {
      "model_module": "@jupyter-widgets/controls",
      "model_module_version": "1.5.0",
      "model_name": "DescriptionStyleModel",
      "state": {
       "description_width": ""
      }
     },
     "780bdd4edc904052aa3c65976dfd0e5e": {
      "model_module": "@jupyter-widgets/controls",
      "model_module_version": "1.5.0",
      "model_name": "HTMLModel",
      "state": {
       "layout": "IPY_MODEL_3660e0c38e154537b15fdd0fb6932502",
       "style": "IPY_MODEL_258520c982d44657a90aee548bfe36fd",
       "value": " 33/52 [00:00&lt;00:00, 62.02it/s]"
      }
     },
     "783189ee5bd947e1b4bf1d7086eb798d": {
      "model_module": "@jupyter-widgets/base",
      "model_module_version": "1.2.0",
      "model_name": "LayoutModel",
      "state": {
       "display": "inline-flex",
       "flex_flow": "row wrap",
       "width": "100%"
      }
     },
     "78734e8b79a4474087044563a54533d9": {
      "model_module": "@jupyter-widgets/controls",
      "model_module_version": "1.5.0",
      "model_name": "DescriptionStyleModel",
      "state": {
       "description_width": ""
      }
     },
     "7895824a8ee24f70b0bbf6709f06f1c3": {
      "model_module": "@jupyter-widgets/base",
      "model_module_version": "1.2.0",
      "model_name": "LayoutModel",
      "state": {}
     },
     "795299521a2c469bb05cf4c06e44603b": {
      "model_module": "@jupyter-widgets/controls",
      "model_module_version": "1.5.0",
      "model_name": "HTMLModel",
      "state": {
       "layout": "IPY_MODEL_e9113158cb48443a81ed4f81bb2047e8",
       "style": "IPY_MODEL_9dd56154f9854852940d3dde81601a38",
       "value": " 2/2 [00:48&lt;00:00, 21.02s/it]"
      }
     },
     "79ec77794a0341c9bd735226a5237e84": {
      "model_module": "@jupyter-widgets/controls",
      "model_module_version": "1.5.0",
      "model_name": "HTMLModel",
      "state": {
       "layout": "IPY_MODEL_64d8eb38bc0b4dffbe3f75d339d4cd5e",
       "style": "IPY_MODEL_b38057d635cf4dc4a329aeec4ef56672",
       "value": "Validating:  65%"
      }
     },
     "7bf3a207a9d74a5f8dc72e361f009605": {
      "model_module": "@jupyter-widgets/controls",
      "model_module_version": "1.5.0",
      "model_name": "HBoxModel",
      "state": {
       "children": [
        "IPY_MODEL_a736137a830d457094f61bdc5c343e7e",
        "IPY_MODEL_c94b6b8c1a1242d891c677044115a49a",
        "IPY_MODEL_82eab52061d34900b14e861d87b69857"
       ],
       "layout": "IPY_MODEL_4f32ce3230d446419c52cdd745f5cec0"
      }
     },
     "7cd8731023b3449f9e9389eca57ff46e": {
      "model_module": "@jupyter-widgets/base",
      "model_module_version": "1.2.0",
      "model_name": "LayoutModel",
      "state": {
       "display": "inline-flex",
       "flex_flow": "row wrap",
       "width": "100%"
      }
     },
     "7dbebb6048b54456a5fe105daa642bfd": {
      "model_module": "@jupyter-widgets/base",
      "model_module_version": "1.2.0",
      "model_name": "LayoutModel",
      "state": {
       "flex": "2"
      }
     },
     "7dc02595081c4fb68ee8564024191eb6": {
      "model_module": "@jupyter-widgets/controls",
      "model_module_version": "1.5.0",
      "model_name": "DescriptionStyleModel",
      "state": {
       "description_width": ""
      }
     },
     "7e48fba22b49491aa83ee6ffdfcf8321": {
      "model_module": "@jupyter-widgets/controls",
      "model_module_version": "1.5.0",
      "model_name": "FloatProgressModel",
      "state": {
       "layout": "IPY_MODEL_a1c2005721a0483b9b504343a5d44edf",
       "max": 2,
       "style": "IPY_MODEL_d279326303a647808129c5d5c8bd474f"
      }
     },
     "7ea81d57d66a41e78eff6d74f482328a": {
      "model_module": "@jupyter-widgets/base",
      "model_module_version": "1.2.0",
      "model_name": "LayoutModel",
      "state": {
       "flex": "2"
      }
     },
     "80d15773f05841a9935f0c27b27b6b3e": {
      "model_module": "@jupyter-widgets/controls",
      "model_module_version": "1.5.0",
      "model_name": "DescriptionStyleModel",
      "state": {
       "description_width": ""
      }
     },
     "819578e44ca34bedab2ea792b333774a": {
      "model_module": "@jupyter-widgets/controls",
      "model_module_version": "1.5.0",
      "model_name": "ProgressStyleModel",
      "state": {
       "description_width": ""
      }
     },
     "82eab52061d34900b14e861d87b69857": {
      "model_module": "@jupyter-widgets/controls",
      "model_module_version": "1.5.0",
      "model_name": "HTMLModel",
      "state": {
       "layout": "IPY_MODEL_39cb1c98b6c649ae924446635b50e447",
       "style": "IPY_MODEL_7dc02595081c4fb68ee8564024191eb6",
       "value": " 258/258 [00:03&lt;00:00, 81.54it/s, loss=nan, v_num=nuqs]"
      }
     },
     "837d7308d6804d988602440631085d0e": {
      "model_module": "@jupyter-widgets/controls",
      "model_module_version": "1.5.0",
      "model_name": "DescriptionStyleModel",
      "state": {
       "description_width": ""
      }
     },
     "84f2d2fb534d46e5851ef8f1556622fe": {
      "model_module": "@jupyter-widgets/base",
      "model_module_version": "1.2.0",
      "model_name": "LayoutModel",
      "state": {
       "flex": "2"
      }
     },
     "85033a81473e495fba8b053394232196": {
      "model_module": "@jupyter-widgets/controls",
      "model_module_version": "1.5.0",
      "model_name": "DescriptionStyleModel",
      "state": {
       "description_width": ""
      }
     },
     "85c223ed44254af6bb6fe2e4503a1268": {
      "model_module": "@jupyter-widgets/base",
      "model_module_version": "1.2.0",
      "model_name": "LayoutModel",
      "state": {
       "display": "inline-flex",
       "flex_flow": "row wrap",
       "width": "100%"
      }
     },
     "872f45474c234693b158a96060e919ba": {
      "model_module": "@jupyter-widgets/controls",
      "model_module_version": "1.5.0",
      "model_name": "HTMLModel",
      "state": {
       "layout": "IPY_MODEL_5d95de8e9e2a40afba66cf99c3723b16",
       "style": "IPY_MODEL_837d7308d6804d988602440631085d0e",
       "value": " 1/2 [00:01&lt;00:01,  1.13s/it]"
      }
     },
     "8776af7fa7dc4dcfb75257fa96030fa0": {
      "model_module": "@jupyter-widgets/base",
      "model_module_version": "1.2.0",
      "model_name": "LayoutModel",
      "state": {}
     },
     "88a1b73156d74a30b62a9eb6295fe34b": {
      "model_module": "@jupyter-widgets/base",
      "model_module_version": "1.2.0",
      "model_name": "LayoutModel",
      "state": {
       "flex": "2"
      }
     },
     "8a32629e1d694c9bb869d050e4e05dae": {
      "model_module": "@jupyter-widgets/base",
      "model_module_version": "1.2.0",
      "model_name": "LayoutModel",
      "state": {}
     },
     "8bdf295b6b8f4aabb66e1f974b29119f": {
      "model_module": "@jupyter-widgets/controls",
      "model_module_version": "1.5.0",
      "model_name": "HTMLModel",
      "state": {
       "layout": "IPY_MODEL_dfb8e65237e847f89e3db16f9e94093b",
       "style": "IPY_MODEL_1f9124b8f5ab4a3a9158e13c269c62b8",
       "value": "Validating:  63%"
      }
     },
     "8ca03fbf80c6402083a5f44f83537612": {
      "model_module": "@jupyter-widgets/controls",
      "model_module_version": "1.5.0",
      "model_name": "ProgressStyleModel",
      "state": {
       "description_width": ""
      }
     },
     "8d07607663094c1fa9ef1c54563a9f7a": {
      "model_module": "@jupyter-widgets/base",
      "model_module_version": "1.2.0",
      "model_name": "LayoutModel",
      "state": {}
     },
     "8e65d9946d364c3fa02a7d3abfb5e225": {
      "model_module": "@jupyter-widgets/controls",
      "model_module_version": "1.5.0",
      "model_name": "DescriptionStyleModel",
      "state": {
       "description_width": ""
      }
     },
     "8f196c607d134ab78edc345f1277b515": {
      "model_module": "@jupyter-widgets/controls",
      "model_module_version": "1.5.0",
      "model_name": "HTMLModel",
      "state": {
       "layout": "IPY_MODEL_0cf07673d608487582eba451edc391e7",
       "style": "IPY_MODEL_cd15dd75022a4b5cabb609f2de2e01a7",
       "value": " 258/258 [00:03&lt;00:00, 71.16it/s, loss=nan, v_num=lo9z]"
      }
     },
     "9056af4b047743f8a4e29c0625fb7f02": {
      "model_module": "@jupyter-widgets/base",
      "model_module_version": "1.2.0",
      "model_name": "LayoutModel",
      "state": {
       "flex": "2"
      }
     },
     "918c652dc5304356865160297d311d46": {
      "model_module": "@jupyter-widgets/base",
      "model_module_version": "1.2.0",
      "model_name": "LayoutModel",
      "state": {}
     },
     "919ab7e3f91c4612af1f0f8a21cd889c": {
      "model_module": "@jupyter-widgets/controls",
      "model_module_version": "1.5.0",
      "model_name": "HTMLModel",
      "state": {
       "layout": "IPY_MODEL_9bba903e86e1437d93febcd5b4936f8d",
       "style": "IPY_MODEL_eb6dc6ea244549988668ed1757c6bc4f",
       "value": " 0/258 [03:29&lt;?, ?it/s]"
      }
     },
     "91a40b0305fd4f28b2433a09ed326f88": {
      "model_module": "@jupyter-widgets/controls",
      "model_module_version": "1.5.0",
      "model_name": "FloatProgressModel",
      "state": {
       "bar_style": "success",
       "layout": "IPY_MODEL_6227269c0b844587ad8e05e34b2f2f87",
       "max": 73,
       "style": "IPY_MODEL_3d6669f8ea97461fab16a9d9856f3918",
       "value": 73
      }
     },
     "93b64e23dc3545fe81fa8a84652b9ae1": {
      "model_module": "@jupyter-widgets/controls",
      "model_module_version": "1.5.0",
      "model_name": "HTMLModel",
      "state": {
       "layout": "IPY_MODEL_38954daf5bdc49648035a77d3357cc79",
       "style": "IPY_MODEL_083522c1aa71460d98067db5117d91d6",
       "value": "Validating:  62%"
      }
     },
     "940555348b094cbf88f06f9a331269f3": {
      "model_module": "@jupyter-widgets/controls",
      "model_module_version": "1.5.0",
      "model_name": "HTMLModel",
      "state": {
       "layout": "IPY_MODEL_b227dae00bde4b8f9a69f74a7309ee0e",
       "style": "IPY_MODEL_6f3971530987428a8390ee50d14f802f",
       "value": " 33/52 [00:00&lt;00:00, 61.61it/s]"
      }
     },
     "96c86f92b0834fa58c97dab8f9b90930": {
      "model_module": "@jupyter-widgets/base",
      "model_module_version": "1.2.0",
      "model_name": "LayoutModel",
      "state": {
       "display": "inline-flex",
       "flex_flow": "row wrap",
       "width": "100%"
      }
     },
     "973e382c26aa49ca92daec24b9854efd": {
      "model_module": "@jupyter-widgets/controls",
      "model_module_version": "1.5.0",
      "model_name": "FloatProgressModel",
      "state": {
       "layout": "IPY_MODEL_51247dd59968484a9beed82703cb6af7",
       "max": 52,
       "style": "IPY_MODEL_819578e44ca34bedab2ea792b333774a",
       "value": 52
      }
     },
     "976ad93b8bfd45cfb4f6ac6c979a7268": {
      "model_module": "@jupyter-widgets/base",
      "model_module_version": "1.2.0",
      "model_name": "LayoutModel",
      "state": {}
     },
     "97d731a5f3a94ca3ba214c31f86b707a": {
      "model_module": "@jupyter-widgets/controls",
      "model_module_version": "1.5.0",
      "model_name": "FloatProgressModel",
      "state": {
       "layout": "IPY_MODEL_2be7d621d442437eb37991d948bdab94",
       "max": 1,
       "style": "IPY_MODEL_fe79fcd8b61942ca8606a50dfa2dc775"
      }
     },
     "986c1544db50497281d93e39f1783a68": {
      "model_module": "@jupyter-widgets/controls",
      "model_module_version": "1.5.0",
      "model_name": "HTMLModel",
      "state": {
       "layout": "IPY_MODEL_f49b78db489c4a2c929410991325760c",
       "style": "IPY_MODEL_5b16735f0d7140a98b607bf8f681e270",
       "value": "Validating:   0%"
      }
     },
     "98d09690fdb44637981f8f69e489d1a0": {
      "model_module": "@jupyter-widgets/base",
      "model_module_version": "1.2.0",
      "model_name": "LayoutModel",
      "state": {}
     },
     "9b482d4bc5844cd0b38e2abd1c95f596": {
      "model_module": "@jupyter-widgets/controls",
      "model_module_version": "1.5.0",
      "model_name": "HTMLModel",
      "state": {
       "layout": "IPY_MODEL_ba78dbe57a2d4d79b38077baa6bee229",
       "style": "IPY_MODEL_3960b633d0fe44d49dbd56402def2648",
       "value": "Epoch 4: 100%"
      }
     },
     "9bba903e86e1437d93febcd5b4936f8d": {
      "model_module": "@jupyter-widgets/base",
      "model_module_version": "1.2.0",
      "model_name": "LayoutModel",
      "state": {}
     },
     "9bbc1bdeb0c34a2dae356be9fa135038": {
      "model_module": "@jupyter-widgets/controls",
      "model_module_version": "1.5.0",
      "model_name": "FloatProgressModel",
      "state": {
       "layout": "IPY_MODEL_184c3448daad48e4b1c24814aba6aee7",
       "max": 2,
       "style": "IPY_MODEL_f3d5c7dbb3e24f798e9f046353311105",
       "value": 2
      }
     },
     "9c0a50a49194448d83f2675194f90e21": {
      "model_module": "@jupyter-widgets/base",
      "model_module_version": "1.2.0",
      "model_name": "LayoutModel",
      "state": {}
     },
     "9dd56154f9854852940d3dde81601a38": {
      "model_module": "@jupyter-widgets/controls",
      "model_module_version": "1.5.0",
      "model_name": "DescriptionStyleModel",
      "state": {
       "description_width": ""
      }
     },
     "a0f658b6bf6e4ff88481f75381c7a270": {
      "model_module": "@jupyter-widgets/controls",
      "model_module_version": "1.5.0",
      "model_name": "FloatProgressModel",
      "state": {
       "layout": "IPY_MODEL_47380cd4fc44404284334ec455272a1a",
       "max": 1,
       "style": "IPY_MODEL_bd7f2195956f4e7891a5dd821be28275",
       "value": 1
      }
     },
     "a1c2005721a0483b9b504343a5d44edf": {
      "model_module": "@jupyter-widgets/base",
      "model_module_version": "1.2.0",
      "model_name": "LayoutModel",
      "state": {
       "flex": "2"
      }
     },
     "a25a58071e0e40eab08dcbc2d62bdbdf": {
      "model_module": "@jupyter-widgets/controls",
      "model_module_version": "1.5.0",
      "model_name": "HTMLModel",
      "state": {
       "layout": "IPY_MODEL_529a33a58cff40518510af4674ea69f5",
       "style": "IPY_MODEL_460733802f3e44838f982375f83ec1d8",
       "value": " 34/52 [00:00&lt;00:00, 64.44it/s]"
      }
     },
     "a2efe50732144ebcb3ab36a8b49134a3": {
      "model_module": "@jupyter-widgets/controls",
      "model_module_version": "1.5.0",
      "model_name": "DescriptionStyleModel",
      "state": {
       "description_width": ""
      }
     },
     "a372415f17c74a95a1e56a39453dd82e": {
      "model_module": "@jupyter-widgets/controls",
      "model_module_version": "1.5.0",
      "model_name": "HBoxModel",
      "state": {
       "children": [
        "IPY_MODEL_b0384576c96648fa8c76c79cc632a47e",
        "IPY_MODEL_7e48fba22b49491aa83ee6ffdfcf8321",
        "IPY_MODEL_31d25c80cd8f432c81edb01ec30662b1"
       ],
       "layout": "IPY_MODEL_3399357018564643b5e6cefe1f1db9e0"
      }
     },
     "a44b82d7716f43b8a54f13ceeefb1dee": {
      "model_module": "@jupyter-widgets/controls",
      "model_module_version": "1.5.0",
      "model_name": "DescriptionStyleModel",
      "state": {
       "description_width": ""
      }
     },
     "a4910507d1744a93b766e2e10a91dc52": {
      "model_module": "@jupyter-widgets/controls",
      "model_module_version": "1.5.0",
      "model_name": "HTMLModel",
      "state": {
       "layout": "IPY_MODEL_de1c1d1496af4cdd82380aa8e507d528",
       "style": "IPY_MODEL_d92d5c6587f24858bf4e6a588b227b17",
       "value": "Validation sanity check: 100%"
      }
     },
     "a49622f2360a4c2da2bfec59e8726dbf": {
      "model_module": "@jupyter-widgets/controls",
      "model_module_version": "1.5.0",
      "model_name": "DescriptionStyleModel",
      "state": {
       "description_width": ""
      }
     },
     "a5d0a4afd7114b3893310277e505a2e3": {
      "model_module": "@jupyter-widgets/controls",
      "model_module_version": "1.5.0",
      "model_name": "HTMLModel",
      "state": {
       "layout": "IPY_MODEL_31c4948893fd48d387bf20f7095bf16b",
       "style": "IPY_MODEL_ddb5a4d4fd964bcab705c7d230133ddb",
       "value": " 33/52 [00:00&lt;00:00, 61.74it/s]"
      }
     },
     "a66bbc9c6ad2416a9de787ade7e20b26": {
      "model_module": "@jupyter-widgets/controls",
      "model_module_version": "1.5.0",
      "model_name": "HTMLModel",
      "state": {
       "layout": "IPY_MODEL_6ae87d2dd91541e5a6fa52488caaa125",
       "style": "IPY_MODEL_110cbcd7284c4b1fa44b1292ce54dcc4",
       "value": " 1/2 [00:00&lt;00:00,  1.61it/s]"
      }
     },
     "a6d717ecf18f4f37970ef90bcb2fbedb": {
      "model_module": "@jupyter-widgets/controls",
      "model_module_version": "1.5.0",
      "model_name": "DescriptionStyleModel",
      "state": {
       "description_width": ""
      }
     },
     "a736137a830d457094f61bdc5c343e7e": {
      "model_module": "@jupyter-widgets/controls",
      "model_module_version": "1.5.0",
      "model_name": "HTMLModel",
      "state": {
       "layout": "IPY_MODEL_35249eae423e4bcf864aaea015f040bb",
       "style": "IPY_MODEL_78734e8b79a4474087044563a54533d9",
       "value": "Epoch 4: 100%"
      }
     },
     "a7522f059fe34b6393799136abaf9c43": {
      "model_module": "@jupyter-widgets/controls",
      "model_module_version": "1.5.0",
      "model_name": "HTMLModel",
      "state": {
       "layout": "IPY_MODEL_f41ec5173d1f4a509730abab972b4ea6",
       "style": "IPY_MODEL_16a096b7a7b740b5a6b3fac8237c4187",
       "value": "Validating:  63%"
      }
     },
     "a819a51c0d1b4009b0f3507bd3ecb046": {
      "model_module": "@jupyter-widgets/controls",
      "model_module_version": "1.5.0",
      "model_name": "FloatProgressModel",
      "state": {
       "layout": "IPY_MODEL_2c38f54f392c4aa5bde31651ad3b696a",
       "max": 52,
       "style": "IPY_MODEL_c5d75209a6634bf48a4a09eaaf91e052",
       "value": 52
      }
     },
     "a96aa3ec3b6641e99daf7282a92fbc51": {
      "model_module": "@jupyter-widgets/controls",
      "model_module_version": "1.5.0",
      "model_name": "FloatProgressModel",
      "state": {
       "bar_style": "danger",
       "layout": "IPY_MODEL_c510cb2a83bc4c8b836926331b233a3b",
       "max": 258,
       "style": "IPY_MODEL_1ae9fb524334483cb9eeb784023e21ed"
      }
     },
     "a97e3c010dd5459db79c368a600eead2": {
      "model_module": "@jupyter-widgets/controls",
      "model_module_version": "1.5.0",
      "model_name": "FloatProgressModel",
      "state": {
       "layout": "IPY_MODEL_84f2d2fb534d46e5851ef8f1556622fe",
       "max": 52,
       "style": "IPY_MODEL_d07c4312c3014b63b27e440ff94dc37e",
       "value": 52
      }
     },
     "aaa6f14b333449a5b96d357ffd7268f6": {
      "model_module": "@jupyter-widgets/controls",
      "model_module_version": "1.5.0",
      "model_name": "DescriptionStyleModel",
      "state": {
       "description_width": ""
      }
     },
     "aaa7face761f4ac096230401e22514ee": {
      "model_module": "@jupyter-widgets/controls",
      "model_module_version": "1.5.0",
      "model_name": "ProgressStyleModel",
      "state": {
       "description_width": ""
      }
     },
     "ab871d6badd44a48bb9e258552e41d5b": {
      "model_module": "@jupyter-widgets/base",
      "model_module_version": "1.2.0",
      "model_name": "LayoutModel",
      "state": {}
     },
     "ac740cd0e1ac44f3b686d7184946d2b3": {
      "model_module": "@jupyter-widgets/controls",
      "model_module_version": "1.5.0",
      "model_name": "DescriptionStyleModel",
      "state": {
       "description_width": ""
      }
     },
     "adbc277c3dfe4917957692de9025f75d": {
      "model_module": "@jupyter-widgets/base",
      "model_module_version": "1.2.0",
      "model_name": "LayoutModel",
      "state": {
       "flex": "2"
      }
     },
     "af273609ac0342c79b70b7f6de15c736": {
      "model_module": "@jupyter-widgets/base",
      "model_module_version": "1.2.0",
      "model_name": "LayoutModel",
      "state": {}
     },
     "b0384576c96648fa8c76c79cc632a47e": {
      "model_module": "@jupyter-widgets/controls",
      "model_module_version": "1.5.0",
      "model_name": "HTMLModel",
      "state": {
       "layout": "IPY_MODEL_576869ba28704d9a932c614d00b835d6",
       "style": "IPY_MODEL_3234d6c9c695433d868d05193c05781f",
       "value": "Validation sanity check:   0%"
      }
     },
     "b0636b078671483e8eb8ad560a72ddc6": {
      "model_module": "@jupyter-widgets/base",
      "model_module_version": "1.2.0",
      "model_name": "LayoutModel",
      "state": {}
     },
     "b227dae00bde4b8f9a69f74a7309ee0e": {
      "model_module": "@jupyter-widgets/base",
      "model_module_version": "1.2.0",
      "model_name": "LayoutModel",
      "state": {}
     },
     "b38057d635cf4dc4a329aeec4ef56672": {
      "model_module": "@jupyter-widgets/controls",
      "model_module_version": "1.5.0",
      "model_name": "DescriptionStyleModel",
      "state": {
       "description_width": ""
      }
     },
     "b3c94b44349342e49032940be50cb8b3": {
      "model_module": "@jupyter-widgets/base",
      "model_module_version": "1.2.0",
      "model_name": "LayoutModel",
      "state": {}
     },
     "b3cbd2a1f4064d9a81c8b789b9ca8377": {
      "model_module": "@jupyter-widgets/controls",
      "model_module_version": "1.5.0",
      "model_name": "DescriptionStyleModel",
      "state": {
       "description_width": ""
      }
     },
     "b56f1f2169a04ba38aa4c2882f8b79dc": {
      "model_module": "@jupyter-widgets/controls",
      "model_module_version": "1.5.0",
      "model_name": "FloatProgressModel",
      "state": {
       "bar_style": "danger",
       "layout": "IPY_MODEL_1bb4c46451d64c84aa3dd62f6a6298aa",
       "max": 258,
       "style": "IPY_MODEL_8ca03fbf80c6402083a5f44f83537612",
       "value": 207
      }
     },
     "b7209a4a7f3c432ca5cc04e71b7dd243": {
      "model_module": "@jupyter-widgets/base",
      "model_module_version": "1.2.0",
      "model_name": "LayoutModel",
      "state": {
       "flex": "2"
      }
     },
     "b8c4d31f31834a64a3a27cc3a7c5723e": {
      "model_module": "@jupyter-widgets/base",
      "model_module_version": "1.2.0",
      "model_name": "LayoutModel",
      "state": {
       "flex": "2"
      }
     },
     "b946c8a2b82348008450ac7bccc616eb": {
      "model_module": "@jupyter-widgets/controls",
      "model_module_version": "1.5.0",
      "model_name": "HTMLModel",
      "state": {
       "layout": "IPY_MODEL_64fe21a7be3e4f888d3df4af5afe4258",
       "style": "IPY_MODEL_8e65d9946d364c3fa02a7d3abfb5e225",
       "value": " 1/2 [00:01&lt;00:01,  1.21s/it]"
      }
     },
     "b9eeab5593984549ad3cd2df71428733": {
      "model_module": "@jupyter-widgets/controls",
      "model_module_version": "1.5.0",
      "model_name": "HTMLModel",
      "state": {
       "layout": "IPY_MODEL_3b08c76cc7074cfc9623690ab58b7bf6",
       "style": "IPY_MODEL_77bac96e054449b091dad06f4694d8e5",
       "value": "Validation sanity check:  50%"
      }
     },
     "ba6eed55603c47d4bf875e972401e37f": {
      "model_module": "@jupyter-widgets/controls",
      "model_module_version": "1.5.0",
      "model_name": "DescriptionStyleModel",
      "state": {
       "description_width": ""
      }
     },
     "ba78dbe57a2d4d79b38077baa6bee229": {
      "model_module": "@jupyter-widgets/base",
      "model_module_version": "1.2.0",
      "model_name": "LayoutModel",
      "state": {}
     },
     "baf1149c2dad4c6b9d1b074b7edc6953": {
      "model_module": "@jupyter-widgets/controls",
      "model_module_version": "1.5.0",
      "model_name": "ProgressStyleModel",
      "state": {
       "description_width": ""
      }
     },
     "bb46c532ffe842b8b00f43cc6c10b555": {
      "model_module": "@jupyter-widgets/controls",
      "model_module_version": "1.5.0",
      "model_name": "DescriptionStyleModel",
      "state": {
       "description_width": ""
      }
     },
     "bb6958b3690e4d5aa294152257a2392d": {
      "model_module": "@jupyter-widgets/controls",
      "model_module_version": "1.5.0",
      "model_name": "DescriptionStyleModel",
      "state": {
       "description_width": ""
      }
     },
     "bc96dba845e743be9aa8edcdeb03da5c": {
      "model_module": "@jupyter-widgets/controls",
      "model_module_version": "1.5.0",
      "model_name": "ProgressStyleModel",
      "state": {
       "description_width": ""
      }
     },
     "bd50d6649c8b45f68f43a04e6e404bd4": {
      "model_module": "@jupyter-widgets/base",
      "model_module_version": "1.2.0",
      "model_name": "LayoutModel",
      "state": {
       "display": "inline-flex",
       "flex_flow": "row wrap",
       "width": "100%"
      }
     },
     "bd7f2195956f4e7891a5dd821be28275": {
      "model_module": "@jupyter-widgets/controls",
      "model_module_version": "1.5.0",
      "model_name": "ProgressStyleModel",
      "state": {
       "description_width": ""
      }
     },
     "bd8b065670bb4e81b6f2367a17d7225e": {
      "model_module": "@jupyter-widgets/controls",
      "model_module_version": "1.5.0",
      "model_name": "HTMLModel",
      "state": {
       "layout": "IPY_MODEL_8d07607663094c1fa9ef1c54563a9f7a",
       "style": "IPY_MODEL_a2efe50732144ebcb3ab36a8b49134a3",
       "value": "100%"
      }
     },
     "bdcc6b3a8a964a88b8bd053fd6b2c1bd": {
      "model_module": "@jupyter-widgets/controls",
      "model_module_version": "1.5.0",
      "model_name": "ProgressStyleModel",
      "state": {
       "description_width": ""
      }
     },
     "be0f1daa4ff14666a47900d60a10e971": {
      "model_module": "@jupyter-widgets/controls",
      "model_module_version": "1.5.0",
      "model_name": "HTMLModel",
      "state": {
       "layout": "IPY_MODEL_255ffa2a105344a684cf63f4163d7aa8",
       "style": "IPY_MODEL_ff892f754d5a49eba08c25c97726a522",
       "value": "Validation sanity check:  50%"
      }
     },
     "be41c8cab25848e2a90f89923ca19a9a": {
      "model_module": "@jupyter-widgets/base",
      "model_module_version": "1.2.0",
      "model_name": "LayoutModel",
      "state": {
       "flex": "2"
      }
     },
     "bec2ea9bb10d44979d9458ad2c142f1d": {
      "model_module": "@jupyter-widgets/controls",
      "model_module_version": "1.5.0",
      "model_name": "DescriptionStyleModel",
      "state": {
       "description_width": ""
      }
     },
     "c02646f46d384c2b919abd9e70fbb81d": {
      "model_module": "@jupyter-widgets/controls",
      "model_module_version": "1.5.0",
      "model_name": "HBoxModel",
      "state": {
       "children": [
        "IPY_MODEL_986c1544db50497281d93e39f1783a68",
        "IPY_MODEL_6215fc069d024f9e85ee52d8c8d36ae8",
        "IPY_MODEL_3dc1f62a709645938f259af3ce3c6eb6"
       ],
       "layout": "IPY_MODEL_bd50d6649c8b45f68f43a04e6e404bd4"
      }
     },
     "c1ff258ba7734733946e16d98e0bfae9": {
      "model_module": "@jupyter-widgets/controls",
      "model_module_version": "1.5.0",
      "model_name": "HTMLModel",
      "state": {
       "layout": "IPY_MODEL_39b463681f554726bf1b14919dbc12a2",
       "style": "IPY_MODEL_53ad9ae981d84c31b5db284abcd450e0",
       "value": " 73/73 [00:22&lt;00:00,  3.17it/s]"
      }
     },
     "c2d551fe604e41b683f3f7394456c470": {
      "model_module": "@jupyter-widgets/base",
      "model_module_version": "1.2.0",
      "model_name": "LayoutModel",
      "state": {}
     },
     "c2deb341ec824e1b9d52e3e1042ed5ad": {
      "model_module": "@jupyter-widgets/controls",
      "model_module_version": "1.5.0",
      "model_name": "ProgressStyleModel",
      "state": {
       "description_width": ""
      }
     },
     "c41d2b224bec41958408d37d35cf0210": {
      "model_module": "@jupyter-widgets/controls",
      "model_module_version": "1.5.0",
      "model_name": "ProgressStyleModel",
      "state": {
       "description_width": ""
      }
     },
     "c4296738995946aab09dd03249d92535": {
      "model_module": "@jupyter-widgets/controls",
      "model_module_version": "1.5.0",
      "model_name": "HTMLModel",
      "state": {
       "layout": "IPY_MODEL_d3189d1d52c0487093d2de8361cc4a12",
       "style": "IPY_MODEL_b3cbd2a1f4064d9a81c8b789b9ca8377",
       "value": "100%"
      }
     },
     "c510cb2a83bc4c8b836926331b233a3b": {
      "model_module": "@jupyter-widgets/base",
      "model_module_version": "1.2.0",
      "model_name": "LayoutModel",
      "state": {
       "flex": "2"
      }
     },
     "c5d75209a6634bf48a4a09eaaf91e052": {
      "model_module": "@jupyter-widgets/controls",
      "model_module_version": "1.5.0",
      "model_name": "ProgressStyleModel",
      "state": {
       "description_width": ""
      }
     },
     "c81df0d5ffb24565b3d0a6a923517df2": {
      "model_module": "@jupyter-widgets/base",
      "model_module_version": "1.2.0",
      "model_name": "LayoutModel",
      "state": {}
     },
     "c8521876dc2d4967bdffce78e36a3ef5": {
      "model_module": "@jupyter-widgets/controls",
      "model_module_version": "1.5.0",
      "model_name": "FloatProgressModel",
      "state": {
       "layout": "IPY_MODEL_ca08d1528caf4c29a2aed0f90de067d3",
       "max": 52,
       "style": "IPY_MODEL_f618216dfa2c4ee0a5a0265d344b3d22",
       "value": 52
      }
     },
     "c94b6b8c1a1242d891c677044115a49a": {
      "model_module": "@jupyter-widgets/controls",
      "model_module_version": "1.5.0",
      "model_name": "FloatProgressModel",
      "state": {
       "bar_style": "success",
       "layout": "IPY_MODEL_b7209a4a7f3c432ca5cc04e71b7dd243",
       "max": 258,
       "style": "IPY_MODEL_5bd0d326cb4e4861b88adb9e21f1aac0",
       "value": 258
      }
     },
     "c98ce6a3734b4f2f93c31f4d9bec744a": {
      "model_module": "@jupyter-widgets/controls",
      "model_module_version": "1.5.0",
      "model_name": "HTMLModel",
      "state": {
       "layout": "IPY_MODEL_ff6ad64461474dbda10ac17ec9e8c696",
       "style": "IPY_MODEL_76d4fed2041b482d8fa54043a9a8cfce",
       "value": "Validation sanity check:  50%"
      }
     },
     "c99766b1b6df4e11a9994da8a613e5e4": {
      "model_module": "@jupyter-widgets/controls",
      "model_module_version": "1.5.0",
      "model_name": "DescriptionStyleModel",
      "state": {
       "description_width": ""
      }
     },
     "c9e6bc92072b4e3a9506232a8a035535": {
      "model_module": "@jupyter-widgets/base",
      "model_module_version": "1.2.0",
      "model_name": "LayoutModel",
      "state": {}
     },
     "ca08d1528caf4c29a2aed0f90de067d3": {
      "model_module": "@jupyter-widgets/base",
      "model_module_version": "1.2.0",
      "model_name": "LayoutModel",
      "state": {
       "flex": "2"
      }
     },
     "cca0412f9f8f478993e8214b474d27ce": {
      "model_module": "@jupyter-widgets/controls",
      "model_module_version": "1.5.0",
      "model_name": "FloatProgressModel",
      "state": {
       "bar_style": "danger",
       "layout": "IPY_MODEL_2dc180dfc6f34226a2af33f6a4647b34",
       "max": 258,
       "style": "IPY_MODEL_f5c52769f7a444d8ab04619269d47973"
      }
     },
     "cd0a21f958b44082acf9b4e132d5b947": {
      "model_module": "@jupyter-widgets/controls",
      "model_module_version": "1.5.0",
      "model_name": "DescriptionStyleModel",
      "state": {
       "description_width": ""
      }
     },
     "cd15dd75022a4b5cabb609f2de2e01a7": {
      "model_module": "@jupyter-widgets/controls",
      "model_module_version": "1.5.0",
      "model_name": "DescriptionStyleModel",
      "state": {
       "description_width": ""
      }
     },
     "cdb25a011b624e27af6e27f70365fd82": {
      "model_module": "@jupyter-widgets/base",
      "model_module_version": "1.2.0",
      "model_name": "LayoutModel",
      "state": {
       "display": "inline-flex",
       "flex_flow": "row wrap",
       "width": "100%"
      }
     },
     "cf7d6b7237df41129066c567d4a22691": {
      "model_module": "@jupyter-widgets/base",
      "model_module_version": "1.2.0",
      "model_name": "LayoutModel",
      "state": {
       "flex": "2"
      }
     },
     "d05ab206b7e8408989284dfde606d27c": {
      "model_module": "@jupyter-widgets/controls",
      "model_module_version": "1.5.0",
      "model_name": "DescriptionStyleModel",
      "state": {
       "description_width": ""
      }
     },
     "d07c4312c3014b63b27e440ff94dc37e": {
      "model_module": "@jupyter-widgets/controls",
      "model_module_version": "1.5.0",
      "model_name": "ProgressStyleModel",
      "state": {
       "description_width": ""
      }
     },
     "d1cd15f95ae64d988a4ec1dfbdb7b667": {
      "model_module": "@jupyter-widgets/controls",
      "model_module_version": "1.5.0",
      "model_name": "HTMLModel",
      "state": {
       "layout": "IPY_MODEL_689ea0404c6e4a7fbc47158df068ab3a",
       "style": "IPY_MODEL_1d9f12f14b09464fb139bf651a32e63a",
       "value": "Validating:  58%"
      }
     },
     "d279326303a647808129c5d5c8bd474f": {
      "model_module": "@jupyter-widgets/controls",
      "model_module_version": "1.5.0",
      "model_name": "ProgressStyleModel",
      "state": {
       "description_width": ""
      }
     },
     "d3189d1d52c0487093d2de8361cc4a12": {
      "model_module": "@jupyter-widgets/base",
      "model_module_version": "1.2.0",
      "model_name": "LayoutModel",
      "state": {}
     },
     "d3ebe06e22da43b48be920d42802166a": {
      "model_module": "@jupyter-widgets/controls",
      "model_module_version": "1.5.0",
      "model_name": "HTMLModel",
      "state": {
       "layout": "IPY_MODEL_6eed8d6f350547d98e499bc8357b0934",
       "style": "IPY_MODEL_eee0fbee9ce54b39bbceac0fd4867d5c",
       "value": " 30/52 [00:00&lt;00:00, 45.83it/s]"
      }
     },
     "d55f3eb9deb0422a85c625c5e5168cc3": {
      "model_module": "@jupyter-widgets/base",
      "model_module_version": "1.2.0",
      "model_name": "LayoutModel",
      "state": {
       "flex": "2"
      }
     },
     "d6593c9557a04cb5a8b573d3f49b9dce": {
      "model_module": "@jupyter-widgets/controls",
      "model_module_version": "1.5.0",
      "model_name": "DescriptionStyleModel",
      "state": {
       "description_width": ""
      }
     },
     "d7afd98e6e0b4421a64d155c4a69451f": {
      "model_module": "@jupyter-widgets/controls",
      "model_module_version": "1.5.0",
      "model_name": "FloatProgressModel",
      "state": {
       "layout": "IPY_MODEL_32b079e1823b473e9ffd0eac059855de",
       "max": 1,
       "style": "IPY_MODEL_ddec880c53074bd0a5b24fbf739ed53f",
       "value": 1
      }
     },
     "d804252a851c473ca4697c33ff4f7ac1": {
      "model_module": "@jupyter-widgets/base",
      "model_module_version": "1.2.0",
      "model_name": "LayoutModel",
      "state": {}
     },
     "d9058023e13c463483d916d87b1098d8": {
      "model_module": "@jupyter-widgets/base",
      "model_module_version": "1.2.0",
      "model_name": "LayoutModel",
      "state": {
       "flex": "2"
      }
     },
     "d92d5c6587f24858bf4e6a588b227b17": {
      "model_module": "@jupyter-widgets/controls",
      "model_module_version": "1.5.0",
      "model_name": "DescriptionStyleModel",
      "state": {
       "description_width": ""
      }
     },
     "db3221e94abf40ad8feb1515d96fc445": {
      "model_module": "@jupyter-widgets/base",
      "model_module_version": "1.2.0",
      "model_name": "LayoutModel",
      "state": {
       "display": "inline-flex",
       "flex_flow": "row wrap",
       "width": "100%"
      }
     },
     "dba129f05507403f81e9e14ec740aa71": {
      "model_module": "@jupyter-widgets/controls",
      "model_module_version": "1.5.0",
      "model_name": "HBoxModel",
      "state": {
       "children": [
        "IPY_MODEL_fb36c8051d9f454fb63db60dd7be9238",
        "IPY_MODEL_42ac5456bb744fa68f0f83c21f69806c",
        "IPY_MODEL_0c9387aba4c1463f8fb78dd8c87334e5"
       ],
       "layout": "IPY_MODEL_db3221e94abf40ad8feb1515d96fc445"
      }
     },
     "dd691839ad184ef7a8957695b207b00f": {
      "model_module": "@jupyter-widgets/base",
      "model_module_version": "1.2.0",
      "model_name": "LayoutModel",
      "state": {}
     },
     "ddb5a4d4fd964bcab705c7d230133ddb": {
      "model_module": "@jupyter-widgets/controls",
      "model_module_version": "1.5.0",
      "model_name": "DescriptionStyleModel",
      "state": {
       "description_width": ""
      }
     },
     "ddec880c53074bd0a5b24fbf739ed53f": {
      "model_module": "@jupyter-widgets/controls",
      "model_module_version": "1.5.0",
      "model_name": "ProgressStyleModel",
      "state": {
       "description_width": ""
      }
     },
     "de1c1d1496af4cdd82380aa8e507d528": {
      "model_module": "@jupyter-widgets/base",
      "model_module_version": "1.2.0",
      "model_name": "LayoutModel",
      "state": {}
     },
     "dfb8e65237e847f89e3db16f9e94093b": {
      "model_module": "@jupyter-widgets/base",
      "model_module_version": "1.2.0",
      "model_name": "LayoutModel",
      "state": {}
     },
     "e1e924db4fd74a3487ff60d5227a1487": {
      "model_module": "@jupyter-widgets/controls",
      "model_module_version": "1.5.0",
      "model_name": "HTMLModel",
      "state": {
       "layout": "IPY_MODEL_2b4bc240e91e4dc9af22b3b6dc8dcf6d",
       "style": "IPY_MODEL_e446332db0634937a824acedee5f37ec",
       "value": "Validating:  60%"
      }
     },
     "e39ab0b43aef4b0a9c8ec20760130a44": {
      "model_module": "@jupyter-widgets/controls",
      "model_module_version": "1.5.0",
      "model_name": "ProgressStyleModel",
      "state": {
       "description_width": ""
      }
     },
     "e446332db0634937a824acedee5f37ec": {
      "model_module": "@jupyter-widgets/controls",
      "model_module_version": "1.5.0",
      "model_name": "DescriptionStyleModel",
      "state": {
       "description_width": ""
      }
     },
     "e55bb58b618149e696205a13fb728f68": {
      "model_module": "@jupyter-widgets/base",
      "model_module_version": "1.2.0",
      "model_name": "LayoutModel",
      "state": {
       "display": "inline-flex",
       "flex_flow": "row wrap",
       "width": "100%"
      }
     },
     "e7da06d9c92f4f41ab0d74f9af07ca1a": {
      "model_module": "@jupyter-widgets/controls",
      "model_module_version": "1.5.0",
      "model_name": "HTMLModel",
      "state": {
       "layout": "IPY_MODEL_c9e6bc92072b4e3a9506232a8a035535",
       "style": "IPY_MODEL_ec18a02cbe8c4e8ba94eb55a4a67db10",
       "value": " 1/2 [00:00&lt;00:00,  1.27it/s]"
      }
     },
     "e9113158cb48443a81ed4f81bb2047e8": {
      "model_module": "@jupyter-widgets/base",
      "model_module_version": "1.2.0",
      "model_name": "LayoutModel",
      "state": {}
     },
     "ea6f9cac99c7448a81968d5437e5274a": {
      "model_module": "@jupyter-widgets/controls",
      "model_module_version": "1.5.0",
      "model_name": "FloatProgressModel",
      "state": {
       "layout": "IPY_MODEL_af273609ac0342c79b70b7f6de15c736",
       "max": 1,
       "style": "IPY_MODEL_5c8a47adfd6548968ff638d0f19ab4d5",
       "value": 1
      }
     },
     "eb6dc6ea244549988668ed1757c6bc4f": {
      "model_module": "@jupyter-widgets/controls",
      "model_module_version": "1.5.0",
      "model_name": "DescriptionStyleModel",
      "state": {
       "description_width": ""
      }
     },
     "ec18a02cbe8c4e8ba94eb55a4a67db10": {
      "model_module": "@jupyter-widgets/controls",
      "model_module_version": "1.5.0",
      "model_name": "DescriptionStyleModel",
      "state": {
       "description_width": ""
      }
     },
     "ec2b155941404362abcc590b77c75d48": {
      "model_module": "@jupyter-widgets/controls",
      "model_module_version": "1.5.0",
      "model_name": "HTMLModel",
      "state": {
       "layout": "IPY_MODEL_32207ed8d9ba49708838cd65f9300015",
       "style": "IPY_MODEL_5786183f4a7f49c5a3d272b0b5456127",
       "value": "Validation sanity check:  50%"
      }
     },
     "ec542df395694bd4a06b00b7aaaa91ad": {
      "model_module": "@jupyter-widgets/controls",
      "model_module_version": "1.5.0",
      "model_name": "HTMLModel",
      "state": {
       "layout": "IPY_MODEL_065b12c96ba248ad8f38793b5dd29e45",
       "style": "IPY_MODEL_674f955665b04044bf788450a14046bb",
       "value": " 33/52 [00:00&lt;00:00, 63.34it/s]"
      }
     },
     "ed15cc414b4f48d993b06db8f45105c4": {
      "model_module": "@jupyter-widgets/controls",
      "model_module_version": "1.5.0",
      "model_name": "DescriptionStyleModel",
      "state": {
       "description_width": ""
      }
     },
     "ee97cc2275ee46c080142e44be2d1d99": {
      "model_module": "@jupyter-widgets/controls",
      "model_module_version": "1.5.0",
      "model_name": "LabelModel",
      "state": {
       "layout": "IPY_MODEL_f08ca51e9b90404c91d6ab30b9baa6b8",
       "style": "IPY_MODEL_a6d717ecf18f4f37970ef90bcb2fbedb",
       "value": " 0.01MB of 0.01MB uploaded (0.00MB deduped)\r"
      }
     },
     "eee0fbee9ce54b39bbceac0fd4867d5c": {
      "model_module": "@jupyter-widgets/controls",
      "model_module_version": "1.5.0",
      "model_name": "DescriptionStyleModel",
      "state": {
       "description_width": ""
      }
     },
     "f08013248ec8453d918ddc512fc2afc3": {
      "model_module": "@jupyter-widgets/base",
      "model_module_version": "1.2.0",
      "model_name": "LayoutModel",
      "state": {
       "display": "inline-flex",
       "flex_flow": "row wrap",
       "width": "100%"
      }
     },
     "f08ca51e9b90404c91d6ab30b9baa6b8": {
      "model_module": "@jupyter-widgets/base",
      "model_module_version": "1.2.0",
      "model_name": "LayoutModel",
      "state": {}
     },
     "f0e160ee3c8c4e4dbbb187468359cef6": {
      "model_module": "@jupyter-widgets/base",
      "model_module_version": "1.2.0",
      "model_name": "LayoutModel",
      "state": {}
     },
     "f1c1d14ba7a44d41a8b80cc3f0c30502": {
      "model_module": "@jupyter-widgets/controls",
      "model_module_version": "1.5.0",
      "model_name": "HTMLModel",
      "state": {
       "layout": "IPY_MODEL_1397139ed27944e19224d1e8b1a1e62e",
       "style": "IPY_MODEL_bec2ea9bb10d44979d9458ad2c142f1d",
       "value": "Epoch 0:  80%"
      }
     },
     "f3d5c7dbb3e24f798e9f046353311105": {
      "model_module": "@jupyter-widgets/controls",
      "model_module_version": "1.5.0",
      "model_name": "ProgressStyleModel",
      "state": {
       "description_width": ""
      }
     },
     "f41ec5173d1f4a509730abab972b4ea6": {
      "model_module": "@jupyter-widgets/base",
      "model_module_version": "1.2.0",
      "model_name": "LayoutModel",
      "state": {}
     },
     "f49b78db489c4a2c929410991325760c": {
      "model_module": "@jupyter-widgets/base",
      "model_module_version": "1.2.0",
      "model_name": "LayoutModel",
      "state": {}
     },
     "f54a3c2cbd1d42aaaf0fe626da486011": {
      "model_module": "@jupyter-widgets/base",
      "model_module_version": "1.2.0",
      "model_name": "LayoutModel",
      "state": {}
     },
     "f5c52769f7a444d8ab04619269d47973": {
      "model_module": "@jupyter-widgets/controls",
      "model_module_version": "1.5.0",
      "model_name": "ProgressStyleModel",
      "state": {
       "description_width": ""
      }
     },
     "f618216dfa2c4ee0a5a0265d344b3d22": {
      "model_module": "@jupyter-widgets/controls",
      "model_module_version": "1.5.0",
      "model_name": "ProgressStyleModel",
      "state": {
       "description_width": ""
      }
     },
     "f7052dc4837841c083fcd9e61dd179fd": {
      "model_module": "@jupyter-widgets/controls",
      "model_module_version": "1.5.0",
      "model_name": "FloatProgressModel",
      "state": {
       "layout": "IPY_MODEL_ab871d6badd44a48bb9e258552e41d5b",
       "max": 1,
       "style": "IPY_MODEL_c2deb341ec824e1b9d52e3e1042ed5ad",
       "value": 1
      }
     },
     "fa5069afc8de49948d1deace9e38fb0a": {
      "model_module": "@jupyter-widgets/controls",
      "model_module_version": "1.5.0",
      "model_name": "FloatProgressModel",
      "state": {
       "layout": "IPY_MODEL_88a1b73156d74a30b62a9eb6295fe34b",
       "max": 52,
       "style": "IPY_MODEL_0008501c024a4cb0940f83cdc08abdc1",
       "value": 52
      }
     },
     "fa904f9c76c7417c8af046076f56881c": {
      "model_module": "@jupyter-widgets/controls",
      "model_module_version": "1.5.0",
      "model_name": "LabelModel",
      "state": {
       "layout": "IPY_MODEL_315ad91d78084b74bfc5bdd3f1286d48",
       "style": "IPY_MODEL_ac740cd0e1ac44f3b686d7184946d2b3",
       "value": " 0.01MB of 0.01MB uploaded (0.00MB deduped)\r"
      }
     },
     "fb36c8051d9f454fb63db60dd7be9238": {
      "model_module": "@jupyter-widgets/controls",
      "model_module_version": "1.5.0",
      "model_name": "HTMLModel",
      "state": {
       "layout": "IPY_MODEL_5b69796dae3c4fe38a67e49698ef393a",
       "style": "IPY_MODEL_0664b800864d4e12a1580853ed7a131d",
       "value": "Epoch 0:   2%"
      }
     },
     "fba0a1220e6342a4a2934fa2d0a5fb18": {
      "model_module": "@jupyter-widgets/controls",
      "model_module_version": "1.5.0",
      "model_name": "DescriptionStyleModel",
      "state": {
       "description_width": ""
      }
     },
     "fc2cdac0ed9f49a0a7dd783211a1c31a": {
      "model_module": "@jupyter-widgets/base",
      "model_module_version": "1.2.0",
      "model_name": "LayoutModel",
      "state": {}
     },
     "fcdfc4978a2f4829b8039262c48539e6": {
      "model_module": "@jupyter-widgets/controls",
      "model_module_version": "1.5.0",
      "model_name": "HBoxModel",
      "state": {
       "children": [
        "IPY_MODEL_c4296738995946aab09dd03249d92535",
        "IPY_MODEL_0a57227815dc47bb83781f08a943c0d8",
        "IPY_MODEL_c1ff258ba7734733946e16d98e0bfae9"
       ],
       "layout": "IPY_MODEL_5183bb2b38164dc5905758c0b27d2e0a"
      }
     },
     "fd2294d354214a48875d0d932fe09a29": {
      "model_module": "@jupyter-widgets/controls",
      "model_module_version": "1.5.0",
      "model_name": "HTMLModel",
      "state": {
       "layout": "IPY_MODEL_f0e160ee3c8c4e4dbbb187468359cef6",
       "style": "IPY_MODEL_0be5c77d526b4ebd9709af01f3dffdde",
       "value": "Epoch 0:   0%"
      }
     },
     "fdb012169f4d4bfc9c834e221539d434": {
      "model_module": "@jupyter-widgets/controls",
      "model_module_version": "1.5.0",
      "model_name": "HTMLModel",
      "state": {
       "layout": "IPY_MODEL_918c652dc5304356865160297d311d46",
       "style": "IPY_MODEL_bb6958b3690e4d5aa294152257a2392d",
       "value": " 73/73 [00:00&lt;00:00, 92.70it/s]"
      }
     },
     "fe452333f39e403d9b4003af14691396": {
      "model_module": "@jupyter-widgets/base",
      "model_module_version": "1.2.0",
      "model_name": "LayoutModel",
      "state": {}
     },
     "fe79fcd8b61942ca8606a50dfa2dc775": {
      "model_module": "@jupyter-widgets/controls",
      "model_module_version": "1.5.0",
      "model_name": "ProgressStyleModel",
      "state": {
       "description_width": ""
      }
     },
     "febdcd1cffad4735855800fa805dae07": {
      "model_module": "@jupyter-widgets/controls",
      "model_module_version": "1.5.0",
      "model_name": "FloatProgressModel",
      "state": {
       "layout": "IPY_MODEL_be41c8cab25848e2a90f89923ca19a9a",
       "max": 2,
       "style": "IPY_MODEL_62ecbca57ca642188e6323557502c5e6",
       "value": 2
      }
     },
     "ff6ad64461474dbda10ac17ec9e8c696": {
      "model_module": "@jupyter-widgets/base",
      "model_module_version": "1.2.0",
      "model_name": "LayoutModel",
      "state": {}
     },
     "ff7ad83c3ea44cf89aa001d3c1cb0fda": {
      "model_module": "@jupyter-widgets/controls",
      "model_module_version": "1.5.0",
      "model_name": "LabelModel",
      "state": {
       "layout": "IPY_MODEL_b0636b078671483e8eb8ad560a72ddc6",
       "style": "IPY_MODEL_291ec19a1b14445597d82f7ea5a76583",
       "value": " 0.01MB of 0.01MB uploaded (0.00MB deduped)\r"
      }
     },
     "ff892f754d5a49eba08c25c97726a522": {
      "model_module": "@jupyter-widgets/controls",
      "model_module_version": "1.5.0",
      "model_name": "DescriptionStyleModel",
      "state": {
       "description_width": ""
      }
     }
    },
    "version_major": 2,
    "version_minor": 0
   }
  }
 },
 "nbformat": 4,
 "nbformat_minor": 5
}